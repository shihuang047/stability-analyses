{
 "cells": [
  {
   "cell_type": "markdown",
   "metadata": {},
   "source": [
    "### summarize random forests results on Block Simulation Scenarios for continuous outcome"
   ]
  },
  {
   "cell_type": "code",
   "execution_count": 1,
   "metadata": {},
   "outputs": [],
   "source": [
    "dir = '/panfs/panfs1.ucsd.edu/panscratch/lij014/Stability_2020/sim_data'\n",
    "\n",
    "load(paste0(dir, '/block_RF.RData'))"
   ]
  },
  {
   "cell_type": "code",
   "execution_count": 2,
   "metadata": {},
   "outputs": [],
   "source": [
    "dim.list = list()\n",
    "size = c(50, 100, 500, 1000)\n",
    "idx = 0\n",
    "for (P in size){\n",
    "    for (N in size){\n",
    "        idx = idx + 1\n",
    "        dim.list[[idx]] = c(P=P, N=N)\n",
    "    }\n",
    "}\n",
    "\n",
    "rou.list = seq(0.1, 0.9, 0.2)\n",
    "\n",
    "files = NULL\n",
    "for (rou in rou.list){\n",
    "  for (dim in dim.list){\n",
    "    p = dim[1]\n",
    "    n = dim[2]\n",
    "    files = cbind(files, paste0(dir, '/sim_block_corr', rou, paste('P', p, 'N', n, sep='_'), '.RData', sep=''))\n",
    "  }\n",
    "}"
   ]
  },
  {
   "cell_type": "code",
   "execution_count": 3,
   "metadata": {},
   "outputs": [],
   "source": [
    "avg_FDR = NULL\n",
    "for (i in 1:length(files)){\n",
    "    sim_file = files[i]\n",
    "    load(sim_file, dat <- new.env())\n",
    "    sub = dat$sim_array[[i]]\n",
    "    p = sub$p # take true values from 1st replicate of each simulated data\n",
    "    coef = sub$beta\n",
    "    coef.true = which(coef != 0)\n",
    "    \n",
    "    tt = results_block_rf[[i]]$Stab.table\n",
    "    \n",
    "    FDR = NULL\n",
    "    for (r in 1:nrow(tt)){\n",
    "        FDR = c(FDR, length(setdiff(which(tt[r, ] !=0), coef.true))/sum(tt[r, ]))\n",
    "\n",
    "    }\n",
    "    \n",
    "    avg_FDR = c(avg_FDR, mean(FDR, na.rm=T))\n",
    "}"
   ]
  },
  {
   "cell_type": "code",
   "execution_count": 4,
   "metadata": {},
   "outputs": [],
   "source": [
    "table_block = NULL\n",
    "tmp_num_select = rep(0, length(results_block_rf))\n",
    "for (i in 1:length(results_block_rf)){\n",
    "    results_block_rf[[i]]$OOB = paste(round(mean(results_block_rf[[i]]$OOB.list, na.rm=T),2),\n",
    "                                    '(', round(FSA::se(results_block_rf[[i]]$OOB.list, na.rm=T),2), ')')\n",
    "    table_block = rbind(table_block, results_block_rf[[i]][c('n', 'p', 'rou', 'FP', 'FN', 'MSE', 'Stab', 'OOB')])\n",
    "    tmp_num_select[i] = mean(rowSums(results_block_rf[[i]]$Stab.table))\n",
    "}\n",
    "table_block = as.data.frame(table_block)\n",
    "table_block$num_select = tmp_num_select\n",
    "table_block$FDR = round(avg_FDR,2)"
   ]
  },
  {
   "cell_type": "code",
   "execution_count": 6,
   "metadata": {},
   "outputs": [
    {
     "data": {
      "text/html": [
       "<table>\n",
       "<thead><tr><th scope=col>n</th><th scope=col>p</th><th scope=col>rou</th><th scope=col>FP</th><th scope=col>FN</th><th scope=col>MSE</th><th scope=col>Stab</th><th scope=col>OOB</th><th scope=col>num_select</th><th scope=col>FDR</th></tr></thead>\n",
       "<tbody>\n",
       "\t<tr><td>50           </td><td>50           </td><td>0.1          </td><td>1 ( 0 )      </td><td>6 ( 0 )      </td><td>0.08 ( 0 )   </td><td>NaN          </td><td>0.59 ( 0.01 )</td><td>0.00         </td><td> NaN         </td></tr>\n",
       "\t<tr><td>100          </td><td>50           </td><td>0.1          </td><td>2.26 ( 0.17 )</td><td>5.06 ( 0.12 )</td><td>0.07 ( 0 )   </td><td>0.03         </td><td>0.58 ( 0 )   </td><td>3.04         </td><td>0.70         </td></tr>\n",
       "\t<tr><td>500          </td><td>50           </td><td>0.1          </td><td>2.34 ( 0.16 )</td><td>3.77 ( 0.14 )</td><td>0.05 ( 0 )   </td><td>0.23         </td><td>0.56 ( 0 )   </td><td>4.56         </td><td>0.49         </td></tr>\n",
       "\t<tr><td>1000         </td><td>50           </td><td>0.1          </td><td>2.37 ( 0.16 )</td><td>2.54 ( 0.11 )</td><td>0.05 ( 0 )   </td><td>0.51         </td><td>0.55 ( 0 )   </td><td>5.83         </td><td>0.38         </td></tr>\n",
       "\t<tr><td>50          </td><td>100         </td><td>0.1         </td><td>1 ( 0 )     </td><td>6 ( 0 )     </td><td>0.08 ( 0 )  </td><td>NaN         </td><td>0.6 ( 0.01 )</td><td>0.00        </td><td> NaN        </td></tr>\n",
       "\t<tr><td>100          </td><td>100          </td><td>0.1          </td><td>4.76 ( 0.27 )</td><td>5.51 ( 0.09 )</td><td>0.07 ( 0 )   </td><td>0.01         </td><td>0.58 ( 0 )   </td><td>5.24         </td><td>0.91         </td></tr>\n",
       "</tbody>\n",
       "</table>\n"
      ],
      "text/latex": [
       "\\begin{tabular}{r|llllllllll}\n",
       " n & p & rou & FP & FN & MSE & Stab & OOB & num\\_select & FDR\\\\\n",
       "\\hline\n",
       "\t 50            & 50            & 0.1           & 1 ( 0 )       & 6 ( 0 )       & 0.08 ( 0 )    & NaN           & 0.59 ( 0.01 ) & 0.00          &  NaN         \\\\\n",
       "\t 100           & 50            & 0.1           & 2.26 ( 0.17 ) & 5.06 ( 0.12 ) & 0.07 ( 0 )    & 0.03          & 0.58 ( 0 )    & 3.04          & 0.70         \\\\\n",
       "\t 500           & 50            & 0.1           & 2.34 ( 0.16 ) & 3.77 ( 0.14 ) & 0.05 ( 0 )    & 0.23          & 0.56 ( 0 )    & 4.56          & 0.49         \\\\\n",
       "\t 1000          & 50            & 0.1           & 2.37 ( 0.16 ) & 2.54 ( 0.11 ) & 0.05 ( 0 )    & 0.51          & 0.55 ( 0 )    & 5.83          & 0.38         \\\\\n",
       "\t 50           & 100          & 0.1          & 1 ( 0 )      & 6 ( 0 )      & 0.08 ( 0 )   & NaN          & 0.6 ( 0.01 ) & 0.00         &  NaN        \\\\\n",
       "\t 100           & 100           & 0.1           & 4.76 ( 0.27 ) & 5.51 ( 0.09 ) & 0.07 ( 0 )    & 0.01          & 0.58 ( 0 )    & 5.24          & 0.91         \\\\\n",
       "\\end{tabular}\n"
      ],
      "text/markdown": [
       "\n",
       "| n | p | rou | FP | FN | MSE | Stab | OOB | num_select | FDR |\n",
       "|---|---|---|---|---|---|---|---|---|---|\n",
       "| 50            | 50            | 0.1           | 1 ( 0 )       | 6 ( 0 )       | 0.08 ( 0 )    | NaN           | 0.59 ( 0.01 ) | 0.00          |  NaN          |\n",
       "| 100           | 50            | 0.1           | 2.26 ( 0.17 ) | 5.06 ( 0.12 ) | 0.07 ( 0 )    | 0.03          | 0.58 ( 0 )    | 3.04          | 0.70          |\n",
       "| 500           | 50            | 0.1           | 2.34 ( 0.16 ) | 3.77 ( 0.14 ) | 0.05 ( 0 )    | 0.23          | 0.56 ( 0 )    | 4.56          | 0.49          |\n",
       "| 1000          | 50            | 0.1           | 2.37 ( 0.16 ) | 2.54 ( 0.11 ) | 0.05 ( 0 )    | 0.51          | 0.55 ( 0 )    | 5.83          | 0.38          |\n",
       "| 50           | 100          | 0.1          | 1 ( 0 )      | 6 ( 0 )      | 0.08 ( 0 )   | NaN          | 0.6 ( 0.01 ) | 0.00         |  NaN         |\n",
       "| 100           | 100           | 0.1           | 4.76 ( 0.27 ) | 5.51 ( 0.09 ) | 0.07 ( 0 )    | 0.01          | 0.58 ( 0 )    | 5.24          | 0.91          |\n",
       "\n"
      ],
      "text/plain": [
       "  n    p   rou FP            FN            MSE        Stab OOB          \n",
       "1 50   50  0.1 1 ( 0 )       6 ( 0 )       0.08 ( 0 ) NaN  0.59 ( 0.01 )\n",
       "2 100  50  0.1 2.26 ( 0.17 ) 5.06 ( 0.12 ) 0.07 ( 0 ) 0.03 0.58 ( 0 )   \n",
       "3 500  50  0.1 2.34 ( 0.16 ) 3.77 ( 0.14 ) 0.05 ( 0 ) 0.23 0.56 ( 0 )   \n",
       "4 1000 50  0.1 2.37 ( 0.16 ) 2.54 ( 0.11 ) 0.05 ( 0 ) 0.51 0.55 ( 0 )   \n",
       "5 50   100 0.1 1 ( 0 )       6 ( 0 )       0.08 ( 0 ) NaN  0.6 ( 0.01 ) \n",
       "6 100  100 0.1 4.76 ( 0.27 ) 5.51 ( 0.09 ) 0.07 ( 0 ) 0.01 0.58 ( 0 )   \n",
       "  num_select FDR \n",
       "1 0.00        NaN\n",
       "2 3.04       0.70\n",
       "3 4.56       0.49\n",
       "4 5.83       0.38\n",
       "5 0.00        NaN\n",
       "6 5.24       0.91"
      ]
     },
     "metadata": {},
     "output_type": "display_data"
    }
   ],
   "source": [
    "head(table_block)"
   ]
  },
  {
   "cell_type": "code",
   "execution_count": 7,
   "metadata": {},
   "outputs": [
    {
     "name": "stderr",
     "output_type": "stream",
     "text": [
      "extract_numeric() is deprecated: please use readr::parse_number() instead\n",
      "extract_numeric() is deprecated: please use readr::parse_number() instead\n"
     ]
    }
   ],
   "source": [
    "# export result\n",
    "result.table_block <- apply(table_block,2,as.character)\n",
    "rownames(result.table_block) = rownames(table_block)\n",
    "result.table_block = as.data.frame(result.table_block)\n",
    "\n",
    "# extract numbers only for 'n' & 'p'\n",
    "result.table_block$n = tidyr::extract_numeric(result.table_block$n)\n",
    "result.table_block$p = tidyr::extract_numeric(result.table_block$p)\n",
    "result.table_block$ratio = result.table_block$p / result.table_block$n\n",
    "\n",
    "result.table_block = result.table_block[c('n', 'p', 'rou', 'ratio', 'Stab', 'MSE', 'FP', 'FN', 'OOB', 'num_select', 'FDR')]\n",
    "colnames(result.table_block)[1:4] = c('N', 'P', 'Corr', 'Ratio')"
   ]
  },
  {
   "cell_type": "code",
   "execution_count": 8,
   "metadata": {},
   "outputs": [
    {
     "name": "stderr",
     "output_type": "stream",
     "text": [
      "Warning message in eval(expr, envir, enclos):\n",
      "“NAs introduced by coercion”Warning message in eval(expr, envir, enclos):\n",
      "“NAs introduced by coercion”Warning message in eval(expr, envir, enclos):\n",
      "“NAs introduced by coercion”"
     ]
    }
   ],
   "source": [
    "# convert interested measurements to be numeric\n",
    "result.table_block$Stab = as.numeric(as.character(result.table_block$Stab))\n",
    "result.table_block$MSE_mean = as.numeric(substr(result.table_block$MSE, start=1, stop=4))\n",
    "result.table_block$FP_mean = as.numeric(substr(result.table_block$FP, start=1, stop=4))\n",
    "result.table_block$FN_mean = as.numeric(substr(result.table_block$FN, start=1, stop=4))\n",
    "result.table_block$FN_mean[is.na(result.table_block$FN_mean)] = 0\n",
    "result.table_block$OOB_mean = as.numeric(substr(result.table_block$OOB, start=1, stop=4))\n",
    "result.table_block$num_select = as.numeric(as.character(result.table_block$num_select))"
   ]
  },
  {
   "cell_type": "code",
   "execution_count": 9,
   "metadata": {},
   "outputs": [
    {
     "data": {
      "text/html": [
       "<table>\n",
       "<thead><tr><th></th><th scope=col>N</th><th scope=col>P</th><th scope=col>Corr</th><th scope=col>Ratio</th><th scope=col>Stab</th><th scope=col>MSE</th><th scope=col>FP</th><th scope=col>FN</th><th scope=col>OOB</th><th scope=col>num_select</th><th scope=col>FDR</th><th scope=col>MSE_mean</th><th scope=col>FP_mean</th><th scope=col>FN_mean</th><th scope=col>OOB_mean</th></tr></thead>\n",
       "<tbody>\n",
       "\t<tr><th scope=row>1</th><td> 50           </td><td>  50          </td><td>0.1           </td><td> 1            </td><td> NaN          </td><td>0.08 ( 0 )    </td><td>1 ( 0 )       </td><td>6 ( 0 )       </td><td>0.59 ( 0.01 ) </td><td> 0.00         </td><td>NaN           </td><td>0.08          </td><td>  NA          </td><td>0.00          </td><td>0.59          </td></tr>\n",
       "\t<tr><th scope=row>5</th><td> 50           </td><td> 100          </td><td>0.1           </td><td> 2            </td><td> NaN          </td><td>0.08 ( 0 )    </td><td>1 ( 0 )       </td><td>6 ( 0 )       </td><td>0.6 ( 0.01 )  </td><td> 0.00         </td><td>NaN           </td><td>0.08          </td><td>  NA          </td><td>0.00          </td><td>0.60          </td></tr>\n",
       "\t<tr><th scope=row>9</th><td> 50           </td><td> 500          </td><td>0.1           </td><td>10            </td><td> NaN          </td><td>0.08 ( 0 )    </td><td>1 ( 0 )       </td><td>6 ( 0 )       </td><td>0.59 ( 0.01 ) </td><td> 0.00         </td><td>NaN           </td><td>0.08          </td><td>  NA          </td><td>0.00          </td><td>0.59          </td></tr>\n",
       "\t<tr><th scope=row>13</th><td> 50           </td><td>1000          </td><td>0.1           </td><td>20            </td><td> NaN          </td><td>0.08 ( 0 )    </td><td>1 ( 0 )       </td><td>6 ( 0 )       </td><td>0.59 ( 0.01 ) </td><td> 0.00         </td><td>NaN           </td><td>0.08          </td><td>  NA          </td><td>0.00          </td><td>0.59          </td></tr>\n",
       "\t<tr><th scope=row>17</th><td> 50           </td><td>  50          </td><td>0.3           </td><td> 1            </td><td> NaN          </td><td>0.31 ( 0.01 ) </td><td>1 ( 0 )       </td><td>6 ( 0 )       </td><td>1.14 ( 0.01 ) </td><td> 0.00         </td><td>NaN           </td><td>0.31          </td><td>  NA          </td><td>0.00          </td><td>1.14          </td></tr>\n",
       "\t<tr><th scope=row>21</th><td> 50           </td><td> 100          </td><td>0.3           </td><td> 2            </td><td> NaN          </td><td>0.32 ( 0.01 ) </td><td>1 ( 0 )       </td><td>6 ( 0 )       </td><td>1.2 ( 0.01 )  </td><td> 0.00         </td><td>NaN           </td><td>0.32          </td><td>  NA          </td><td>0.00          </td><td>1.20          </td></tr>\n",
       "\t<tr><th scope=row>25</th><td> 50           </td><td> 500          </td><td>0.3           </td><td>10            </td><td> NaN          </td><td>0.36 ( 0.02 ) </td><td>1 ( 0 )       </td><td>6 ( 0 )       </td><td>1.23 ( 0.01 ) </td><td> 0.00         </td><td>NaN           </td><td>0.36          </td><td>  NA          </td><td>0.00          </td><td>1.23          </td></tr>\n",
       "\t<tr><th scope=row>29</th><td> 50           </td><td>1000          </td><td>0.3           </td><td>20            </td><td> NaN          </td><td>0.34 ( 0.01 ) </td><td>1 ( 0 )       </td><td>6 ( 0 )       </td><td>1.26 ( 0.01 ) </td><td> 0.00         </td><td>NaN           </td><td>0.34          </td><td>  NA          </td><td>0.00          </td><td>1.26          </td></tr>\n",
       "\t<tr><th scope=row>33</th><td> 50           </td><td>  50          </td><td>0.5           </td><td> 1            </td><td> NaN          </td><td>0.6 ( 0.03 )  </td><td>1 ( 0 )       </td><td>6 ( 0 )       </td><td>1.46 ( 0.01 ) </td><td> 0.00         </td><td>NaN           </td><td>0.60          </td><td>  NA          </td><td>0.00          </td><td>1.46          </td></tr>\n",
       "\t<tr><th scope=row>37</th><td> 50           </td><td> 100          </td><td>0.5           </td><td> 2            </td><td> NaN          </td><td>0.6 ( 0.02 )  </td><td>1 ( 0 )       </td><td>6 ( 0 )       </td><td>1.56 ( 0.01 ) </td><td> 0.00         </td><td>NaN           </td><td>0.60          </td><td>  NA          </td><td>0.00          </td><td>1.56          </td></tr>\n",
       "\t<tr><th scope=row>41</th><td> 50           </td><td> 500          </td><td>0.5           </td><td>10            </td><td> NaN          </td><td>0.58 ( 0.02 ) </td><td>1 ( 0 )       </td><td>6 ( 0 )       </td><td>1.64 ( 0.02 ) </td><td> 0.00         </td><td>NaN           </td><td>0.58          </td><td>  NA          </td><td>0.00          </td><td>1.64          </td></tr>\n",
       "\t<tr><th scope=row>45</th><td> 50           </td><td>1000          </td><td>0.5           </td><td>20            </td><td> NaN          </td><td>0.57 ( 0.02 ) </td><td>1 ( 0 )       </td><td>6 ( 0 )       </td><td>1.64 ( 0.02 ) </td><td> 0.00         </td><td>NaN           </td><td>0.57          </td><td>  NA          </td><td>0.00          </td><td>1.64          </td></tr>\n",
       "\t<tr><th scope=row>49</th><td> 50           </td><td>  50          </td><td>0.7           </td><td> 1            </td><td> NaN          </td><td>0.8 ( 0.04 )  </td><td>1 ( 0 )       </td><td>6 ( 0 )       </td><td>1.72 ( 0.02 ) </td><td> 0.00         </td><td>NaN           </td><td>0.80          </td><td>  NA          </td><td>0.00          </td><td>1.72          </td></tr>\n",
       "\t<tr><th scope=row>53</th><td> 50           </td><td> 100          </td><td>0.7           </td><td> 2            </td><td> NaN          </td><td>0.92 ( 0.04 ) </td><td>1 ( 0 )       </td><td>6 ( 0 )       </td><td>1.85 ( 0.02 ) </td><td> 0.00         </td><td>NaN           </td><td>0.92          </td><td>  NA          </td><td>0.00          </td><td>1.85          </td></tr>\n",
       "\t<tr><th scope=row>57</th><td> 50           </td><td> 500          </td><td>0.7           </td><td>10            </td><td> NaN          </td><td>0.91 ( 0.04 ) </td><td>1 ( 0 )       </td><td>6 ( 0 )       </td><td>2 ( 0.02 )    </td><td> 0.00         </td><td>NaN           </td><td>0.91          </td><td>  NA          </td><td>0.00          </td><td>  NA          </td></tr>\n",
       "\t<tr><th scope=row>61</th><td> 50           </td><td>1000          </td><td>0.7           </td><td>20            </td><td> NaN          </td><td>0.91 ( 0.04 ) </td><td>1 ( 0 )       </td><td>6 ( 0 )       </td><td>1.98 ( 0.02 ) </td><td> 0.00         </td><td>NaN           </td><td>0.91          </td><td>  NA          </td><td>0.00          </td><td>1.98          </td></tr>\n",
       "\t<tr><th scope=row>65</th><td> 50           </td><td>  50          </td><td>0.9           </td><td> 1            </td><td> NaN          </td><td>1.1 ( 0.04 )  </td><td>1 ( 0 )       </td><td>6 ( 0 )       </td><td>1.99 ( 0.02 ) </td><td> 0.00         </td><td>NaN           </td><td>1.10          </td><td>  NA          </td><td>0.00          </td><td>1.99          </td></tr>\n",
       "\t<tr><th scope=row>69</th><td> 50           </td><td> 100          </td><td>0.9           </td><td> 2            </td><td> NaN          </td><td>1.11 ( 0.05 ) </td><td>1 ( 0 )       </td><td>6 ( 0 )       </td><td>2.06 ( 0.02 ) </td><td> 0.00         </td><td>NaN           </td><td>1.11          </td><td>  NA          </td><td>0.00          </td><td>2.06          </td></tr>\n",
       "\t<tr><th scope=row>73</th><td> 50           </td><td> 500          </td><td>0.9           </td><td>10            </td><td> NaN          </td><td>1.18 ( 0.05 ) </td><td>1 ( 0 )       </td><td>6 ( 0 )       </td><td>2.2 ( 0.02 )  </td><td> 0.00         </td><td>NaN           </td><td>1.18          </td><td>  NA          </td><td>0.00          </td><td>2.20          </td></tr>\n",
       "\t<tr><th scope=row>75</th><td>500           </td><td> 500          </td><td>0.9           </td><td> 1            </td><td>0.12          </td><td>0.73 ( 0.01 ) </td><td>20.83 ( 0.45 )</td><td>2.04 ( 0.09 ) </td><td>2 ( 0.01 )    </td><td>24.79         </td><td>0.84          </td><td>0.73          </td><td>20.8          </td><td>2.04          </td><td>  NA          </td></tr>\n",
       "\t<tr><th scope=row>77</th><td> 50           </td><td>1000          </td><td>0.9           </td><td>20            </td><td> NaN          </td><td>1.22 ( 0.05 ) </td><td>1 ( 0 )       </td><td>6 ( 0 )       </td><td>2.3 ( 0.03 )  </td><td> 0.00         </td><td>NaN           </td><td>1.22          </td><td>  NA          </td><td>0.00          </td><td>2.30          </td></tr>\n",
       "</tbody>\n",
       "</table>\n"
      ],
      "text/latex": [
       "\\begin{tabular}{r|lllllllllllllll}\n",
       "  & N & P & Corr & Ratio & Stab & MSE & FP & FN & OOB & num\\_select & FDR & MSE\\_mean & FP\\_mean & FN\\_mean & OOB\\_mean\\\\\n",
       "\\hline\n",
       "\t1 &  50            &   50           & 0.1            &  1             &  NaN           & 0.08 ( 0 )     & 1 ( 0 )        & 6 ( 0 )        & 0.59 ( 0.01 )  &  0.00          & NaN            & 0.08           &   NA           & 0.00           & 0.59          \\\\\n",
       "\t5 &  50            &  100           & 0.1            &  2             &  NaN           & 0.08 ( 0 )     & 1 ( 0 )        & 6 ( 0 )        & 0.6 ( 0.01 )   &  0.00          & NaN            & 0.08           &   NA           & 0.00           & 0.60          \\\\\n",
       "\t9 &  50            &  500           & 0.1            & 10             &  NaN           & 0.08 ( 0 )     & 1 ( 0 )        & 6 ( 0 )        & 0.59 ( 0.01 )  &  0.00          & NaN            & 0.08           &   NA           & 0.00           & 0.59          \\\\\n",
       "\t13 &  50            & 1000           & 0.1            & 20             &  NaN           & 0.08 ( 0 )     & 1 ( 0 )        & 6 ( 0 )        & 0.59 ( 0.01 )  &  0.00          & NaN            & 0.08           &   NA           & 0.00           & 0.59          \\\\\n",
       "\t17 &  50            &   50           & 0.3            &  1             &  NaN           & 0.31 ( 0.01 )  & 1 ( 0 )        & 6 ( 0 )        & 1.14 ( 0.01 )  &  0.00          & NaN            & 0.31           &   NA           & 0.00           & 1.14          \\\\\n",
       "\t21 &  50            &  100           & 0.3            &  2             &  NaN           & 0.32 ( 0.01 )  & 1 ( 0 )        & 6 ( 0 )        & 1.2 ( 0.01 )   &  0.00          & NaN            & 0.32           &   NA           & 0.00           & 1.20          \\\\\n",
       "\t25 &  50            &  500           & 0.3            & 10             &  NaN           & 0.36 ( 0.02 )  & 1 ( 0 )        & 6 ( 0 )        & 1.23 ( 0.01 )  &  0.00          & NaN            & 0.36           &   NA           & 0.00           & 1.23          \\\\\n",
       "\t29 &  50            & 1000           & 0.3            & 20             &  NaN           & 0.34 ( 0.01 )  & 1 ( 0 )        & 6 ( 0 )        & 1.26 ( 0.01 )  &  0.00          & NaN            & 0.34           &   NA           & 0.00           & 1.26          \\\\\n",
       "\t33 &  50            &   50           & 0.5            &  1             &  NaN           & 0.6 ( 0.03 )   & 1 ( 0 )        & 6 ( 0 )        & 1.46 ( 0.01 )  &  0.00          & NaN            & 0.60           &   NA           & 0.00           & 1.46          \\\\\n",
       "\t37 &  50            &  100           & 0.5            &  2             &  NaN           & 0.6 ( 0.02 )   & 1 ( 0 )        & 6 ( 0 )        & 1.56 ( 0.01 )  &  0.00          & NaN            & 0.60           &   NA           & 0.00           & 1.56          \\\\\n",
       "\t41 &  50            &  500           & 0.5            & 10             &  NaN           & 0.58 ( 0.02 )  & 1 ( 0 )        & 6 ( 0 )        & 1.64 ( 0.02 )  &  0.00          & NaN            & 0.58           &   NA           & 0.00           & 1.64          \\\\\n",
       "\t45 &  50            & 1000           & 0.5            & 20             &  NaN           & 0.57 ( 0.02 )  & 1 ( 0 )        & 6 ( 0 )        & 1.64 ( 0.02 )  &  0.00          & NaN            & 0.57           &   NA           & 0.00           & 1.64          \\\\\n",
       "\t49 &  50            &   50           & 0.7            &  1             &  NaN           & 0.8 ( 0.04 )   & 1 ( 0 )        & 6 ( 0 )        & 1.72 ( 0.02 )  &  0.00          & NaN            & 0.80           &   NA           & 0.00           & 1.72          \\\\\n",
       "\t53 &  50            &  100           & 0.7            &  2             &  NaN           & 0.92 ( 0.04 )  & 1 ( 0 )        & 6 ( 0 )        & 1.85 ( 0.02 )  &  0.00          & NaN            & 0.92           &   NA           & 0.00           & 1.85          \\\\\n",
       "\t57 &  50            &  500           & 0.7            & 10             &  NaN           & 0.91 ( 0.04 )  & 1 ( 0 )        & 6 ( 0 )        & 2 ( 0.02 )     &  0.00          & NaN            & 0.91           &   NA           & 0.00           &   NA          \\\\\n",
       "\t61 &  50            & 1000           & 0.7            & 20             &  NaN           & 0.91 ( 0.04 )  & 1 ( 0 )        & 6 ( 0 )        & 1.98 ( 0.02 )  &  0.00          & NaN            & 0.91           &   NA           & 0.00           & 1.98          \\\\\n",
       "\t65 &  50            &   50           & 0.9            &  1             &  NaN           & 1.1 ( 0.04 )   & 1 ( 0 )        & 6 ( 0 )        & 1.99 ( 0.02 )  &  0.00          & NaN            & 1.10           &   NA           & 0.00           & 1.99          \\\\\n",
       "\t69 &  50            &  100           & 0.9            &  2             &  NaN           & 1.11 ( 0.05 )  & 1 ( 0 )        & 6 ( 0 )        & 2.06 ( 0.02 )  &  0.00          & NaN            & 1.11           &   NA           & 0.00           & 2.06          \\\\\n",
       "\t73 &  50            &  500           & 0.9            & 10             &  NaN           & 1.18 ( 0.05 )  & 1 ( 0 )        & 6 ( 0 )        & 2.2 ( 0.02 )   &  0.00          & NaN            & 1.18           &   NA           & 0.00           & 2.20          \\\\\n",
       "\t75 & 500            &  500           & 0.9            &  1             & 0.12           & 0.73 ( 0.01 )  & 20.83 ( 0.45 ) & 2.04 ( 0.09 )  & 2 ( 0.01 )     & 24.79          & 0.84           & 0.73           & 20.8           & 2.04           &   NA          \\\\\n",
       "\t77 &  50            & 1000           & 0.9            & 20             &  NaN           & 1.22 ( 0.05 )  & 1 ( 0 )        & 6 ( 0 )        & 2.3 ( 0.03 )   &  0.00          & NaN            & 1.22           &   NA           & 0.00           & 2.30          \\\\\n",
       "\\end{tabular}\n"
      ],
      "text/markdown": [
       "\n",
       "| <!--/--> | N | P | Corr | Ratio | Stab | MSE | FP | FN | OOB | num_select | FDR | MSE_mean | FP_mean | FN_mean | OOB_mean |\n",
       "|---|---|---|---|---|---|---|---|---|---|---|---|---|---|---|---|\n",
       "| 1 |  50            |   50           | 0.1            |  1             |  NaN           | 0.08 ( 0 )     | 1 ( 0 )        | 6 ( 0 )        | 0.59 ( 0.01 )  |  0.00          | NaN            | 0.08           |   NA           | 0.00           | 0.59           |\n",
       "| 5 |  50            |  100           | 0.1            |  2             |  NaN           | 0.08 ( 0 )     | 1 ( 0 )        | 6 ( 0 )        | 0.6 ( 0.01 )   |  0.00          | NaN            | 0.08           |   NA           | 0.00           | 0.60           |\n",
       "| 9 |  50            |  500           | 0.1            | 10             |  NaN           | 0.08 ( 0 )     | 1 ( 0 )        | 6 ( 0 )        | 0.59 ( 0.01 )  |  0.00          | NaN            | 0.08           |   NA           | 0.00           | 0.59           |\n",
       "| 13 |  50            | 1000           | 0.1            | 20             |  NaN           | 0.08 ( 0 )     | 1 ( 0 )        | 6 ( 0 )        | 0.59 ( 0.01 )  |  0.00          | NaN            | 0.08           |   NA           | 0.00           | 0.59           |\n",
       "| 17 |  50            |   50           | 0.3            |  1             |  NaN           | 0.31 ( 0.01 )  | 1 ( 0 )        | 6 ( 0 )        | 1.14 ( 0.01 )  |  0.00          | NaN            | 0.31           |   NA           | 0.00           | 1.14           |\n",
       "| 21 |  50            |  100           | 0.3            |  2             |  NaN           | 0.32 ( 0.01 )  | 1 ( 0 )        | 6 ( 0 )        | 1.2 ( 0.01 )   |  0.00          | NaN            | 0.32           |   NA           | 0.00           | 1.20           |\n",
       "| 25 |  50            |  500           | 0.3            | 10             |  NaN           | 0.36 ( 0.02 )  | 1 ( 0 )        | 6 ( 0 )        | 1.23 ( 0.01 )  |  0.00          | NaN            | 0.36           |   NA           | 0.00           | 1.23           |\n",
       "| 29 |  50            | 1000           | 0.3            | 20             |  NaN           | 0.34 ( 0.01 )  | 1 ( 0 )        | 6 ( 0 )        | 1.26 ( 0.01 )  |  0.00          | NaN            | 0.34           |   NA           | 0.00           | 1.26           |\n",
       "| 33 |  50            |   50           | 0.5            |  1             |  NaN           | 0.6 ( 0.03 )   | 1 ( 0 )        | 6 ( 0 )        | 1.46 ( 0.01 )  |  0.00          | NaN            | 0.60           |   NA           | 0.00           | 1.46           |\n",
       "| 37 |  50            |  100           | 0.5            |  2             |  NaN           | 0.6 ( 0.02 )   | 1 ( 0 )        | 6 ( 0 )        | 1.56 ( 0.01 )  |  0.00          | NaN            | 0.60           |   NA           | 0.00           | 1.56           |\n",
       "| 41 |  50            |  500           | 0.5            | 10             |  NaN           | 0.58 ( 0.02 )  | 1 ( 0 )        | 6 ( 0 )        | 1.64 ( 0.02 )  |  0.00          | NaN            | 0.58           |   NA           | 0.00           | 1.64           |\n",
       "| 45 |  50            | 1000           | 0.5            | 20             |  NaN           | 0.57 ( 0.02 )  | 1 ( 0 )        | 6 ( 0 )        | 1.64 ( 0.02 )  |  0.00          | NaN            | 0.57           |   NA           | 0.00           | 1.64           |\n",
       "| 49 |  50            |   50           | 0.7            |  1             |  NaN           | 0.8 ( 0.04 )   | 1 ( 0 )        | 6 ( 0 )        | 1.72 ( 0.02 )  |  0.00          | NaN            | 0.80           |   NA           | 0.00           | 1.72           |\n",
       "| 53 |  50            |  100           | 0.7            |  2             |  NaN           | 0.92 ( 0.04 )  | 1 ( 0 )        | 6 ( 0 )        | 1.85 ( 0.02 )  |  0.00          | NaN            | 0.92           |   NA           | 0.00           | 1.85           |\n",
       "| 57 |  50            |  500           | 0.7            | 10             |  NaN           | 0.91 ( 0.04 )  | 1 ( 0 )        | 6 ( 0 )        | 2 ( 0.02 )     |  0.00          | NaN            | 0.91           |   NA           | 0.00           |   NA           |\n",
       "| 61 |  50            | 1000           | 0.7            | 20             |  NaN           | 0.91 ( 0.04 )  | 1 ( 0 )        | 6 ( 0 )        | 1.98 ( 0.02 )  |  0.00          | NaN            | 0.91           |   NA           | 0.00           | 1.98           |\n",
       "| 65 |  50            |   50           | 0.9            |  1             |  NaN           | 1.1 ( 0.04 )   | 1 ( 0 )        | 6 ( 0 )        | 1.99 ( 0.02 )  |  0.00          | NaN            | 1.10           |   NA           | 0.00           | 1.99           |\n",
       "| 69 |  50            |  100           | 0.9            |  2             |  NaN           | 1.11 ( 0.05 )  | 1 ( 0 )        | 6 ( 0 )        | 2.06 ( 0.02 )  |  0.00          | NaN            | 1.11           |   NA           | 0.00           | 2.06           |\n",
       "| 73 |  50            |  500           | 0.9            | 10             |  NaN           | 1.18 ( 0.05 )  | 1 ( 0 )        | 6 ( 0 )        | 2.2 ( 0.02 )   |  0.00          | NaN            | 1.18           |   NA           | 0.00           | 2.20           |\n",
       "| 75 | 500            |  500           | 0.9            |  1             | 0.12           | 0.73 ( 0.01 )  | 20.83 ( 0.45 ) | 2.04 ( 0.09 )  | 2 ( 0.01 )     | 24.79          | 0.84           | 0.73           | 20.8           | 2.04           |   NA           |\n",
       "| 77 |  50            | 1000           | 0.9            | 20             |  NaN           | 1.22 ( 0.05 )  | 1 ( 0 )        | 6 ( 0 )        | 2.3 ( 0.03 )   |  0.00          | NaN            | 1.22           |   NA           | 0.00           | 2.30           |\n",
       "\n"
      ],
      "text/plain": [
       "   N   P    Corr Ratio Stab MSE           FP             FN           \n",
       "1   50   50 0.1   1     NaN 0.08 ( 0 )    1 ( 0 )        6 ( 0 )      \n",
       "5   50  100 0.1   2     NaN 0.08 ( 0 )    1 ( 0 )        6 ( 0 )      \n",
       "9   50  500 0.1  10     NaN 0.08 ( 0 )    1 ( 0 )        6 ( 0 )      \n",
       "13  50 1000 0.1  20     NaN 0.08 ( 0 )    1 ( 0 )        6 ( 0 )      \n",
       "17  50   50 0.3   1     NaN 0.31 ( 0.01 ) 1 ( 0 )        6 ( 0 )      \n",
       "21  50  100 0.3   2     NaN 0.32 ( 0.01 ) 1 ( 0 )        6 ( 0 )      \n",
       "25  50  500 0.3  10     NaN 0.36 ( 0.02 ) 1 ( 0 )        6 ( 0 )      \n",
       "29  50 1000 0.3  20     NaN 0.34 ( 0.01 ) 1 ( 0 )        6 ( 0 )      \n",
       "33  50   50 0.5   1     NaN 0.6 ( 0.03 )  1 ( 0 )        6 ( 0 )      \n",
       "37  50  100 0.5   2     NaN 0.6 ( 0.02 )  1 ( 0 )        6 ( 0 )      \n",
       "41  50  500 0.5  10     NaN 0.58 ( 0.02 ) 1 ( 0 )        6 ( 0 )      \n",
       "45  50 1000 0.5  20     NaN 0.57 ( 0.02 ) 1 ( 0 )        6 ( 0 )      \n",
       "49  50   50 0.7   1     NaN 0.8 ( 0.04 )  1 ( 0 )        6 ( 0 )      \n",
       "53  50  100 0.7   2     NaN 0.92 ( 0.04 ) 1 ( 0 )        6 ( 0 )      \n",
       "57  50  500 0.7  10     NaN 0.91 ( 0.04 ) 1 ( 0 )        6 ( 0 )      \n",
       "61  50 1000 0.7  20     NaN 0.91 ( 0.04 ) 1 ( 0 )        6 ( 0 )      \n",
       "65  50   50 0.9   1     NaN 1.1 ( 0.04 )  1 ( 0 )        6 ( 0 )      \n",
       "69  50  100 0.9   2     NaN 1.11 ( 0.05 ) 1 ( 0 )        6 ( 0 )      \n",
       "73  50  500 0.9  10     NaN 1.18 ( 0.05 ) 1 ( 0 )        6 ( 0 )      \n",
       "75 500  500 0.9   1    0.12 0.73 ( 0.01 ) 20.83 ( 0.45 ) 2.04 ( 0.09 )\n",
       "77  50 1000 0.9  20     NaN 1.22 ( 0.05 ) 1 ( 0 )        6 ( 0 )      \n",
       "   OOB           num_select FDR  MSE_mean FP_mean FN_mean OOB_mean\n",
       "1  0.59 ( 0.01 )  0.00      NaN  0.08       NA    0.00    0.59    \n",
       "5  0.6 ( 0.01 )   0.00      NaN  0.08       NA    0.00    0.60    \n",
       "9  0.59 ( 0.01 )  0.00      NaN  0.08       NA    0.00    0.59    \n",
       "13 0.59 ( 0.01 )  0.00      NaN  0.08       NA    0.00    0.59    \n",
       "17 1.14 ( 0.01 )  0.00      NaN  0.31       NA    0.00    1.14    \n",
       "21 1.2 ( 0.01 )   0.00      NaN  0.32       NA    0.00    1.20    \n",
       "25 1.23 ( 0.01 )  0.00      NaN  0.36       NA    0.00    1.23    \n",
       "29 1.26 ( 0.01 )  0.00      NaN  0.34       NA    0.00    1.26    \n",
       "33 1.46 ( 0.01 )  0.00      NaN  0.60       NA    0.00    1.46    \n",
       "37 1.56 ( 0.01 )  0.00      NaN  0.60       NA    0.00    1.56    \n",
       "41 1.64 ( 0.02 )  0.00      NaN  0.58       NA    0.00    1.64    \n",
       "45 1.64 ( 0.02 )  0.00      NaN  0.57       NA    0.00    1.64    \n",
       "49 1.72 ( 0.02 )  0.00      NaN  0.80       NA    0.00    1.72    \n",
       "53 1.85 ( 0.02 )  0.00      NaN  0.92       NA    0.00    1.85    \n",
       "57 2 ( 0.02 )     0.00      NaN  0.91       NA    0.00      NA    \n",
       "61 1.98 ( 0.02 )  0.00      NaN  0.91       NA    0.00    1.98    \n",
       "65 1.99 ( 0.02 )  0.00      NaN  1.10       NA    0.00    1.99    \n",
       "69 2.06 ( 0.02 )  0.00      NaN  1.11       NA    0.00    2.06    \n",
       "73 2.2 ( 0.02 )   0.00      NaN  1.18       NA    0.00    2.20    \n",
       "75 2 ( 0.01 )    24.79      0.84 0.73     20.8    2.04      NA    \n",
       "77 2.3 ( 0.03 )   0.00      NaN  1.22       NA    0.00    2.30    "
      ]
     },
     "metadata": {},
     "output_type": "display_data"
    }
   ],
   "source": [
    "# check whether missing values exists\n",
    "result.table_block[rowSums(is.na(result.table_block)) > 0,]"
   ]
  },
  {
   "cell_type": "code",
   "execution_count": 10,
   "metadata": {},
   "outputs": [],
   "source": [
    "# recover values\n",
    "result.table_block$Stab[is.na(result.table_block$Stab)] = 0\n",
    "result.table_block$FP_mean[is.na(result.table_block$FP_mean)] = 1\n",
    "result.table_block$OOB_mean[is.na(result.table_block$OOB_mean)] = 2\n",
    "result.table_block$FN_mean[result.table_block$num_select == 0] = 6"
   ]
  },
  {
   "cell_type": "code",
   "execution_count": 11,
   "metadata": {},
   "outputs": [
    {
     "data": {
      "text/html": [
       "<table>\n",
       "<thead><tr><th></th><th scope=col>N</th><th scope=col>P</th><th scope=col>Corr</th><th scope=col>Ratio</th><th scope=col>Stab</th><th scope=col>MSE</th><th scope=col>FP</th><th scope=col>FN</th><th scope=col>OOB</th><th scope=col>num_select</th><th scope=col>FDR</th><th scope=col>MSE_mean</th><th scope=col>FP_mean</th><th scope=col>FN_mean</th><th scope=col>OOB_mean</th></tr></thead>\n",
       "<tbody>\n",
       "\t<tr><th scope=row>1</th><td>50           </td><td>  50         </td><td>0.1          </td><td> 1           </td><td>0            </td><td>0.08 ( 0 )   </td><td>1 ( 0 )      </td><td>6 ( 0 )      </td><td>0.59 ( 0.01 )</td><td>0            </td><td>NaN          </td><td>0.08         </td><td>1            </td><td>6            </td><td>0.59         </td></tr>\n",
       "\t<tr><th scope=row>5</th><td>50           </td><td> 100         </td><td>0.1          </td><td> 2           </td><td>0            </td><td>0.08 ( 0 )   </td><td>1 ( 0 )      </td><td>6 ( 0 )      </td><td>0.6 ( 0.01 ) </td><td>0            </td><td>NaN          </td><td>0.08         </td><td>1            </td><td>6            </td><td>0.60         </td></tr>\n",
       "\t<tr><th scope=row>9</th><td>50           </td><td> 500         </td><td>0.1          </td><td>10           </td><td>0            </td><td>0.08 ( 0 )   </td><td>1 ( 0 )      </td><td>6 ( 0 )      </td><td>0.59 ( 0.01 )</td><td>0            </td><td>NaN          </td><td>0.08         </td><td>1            </td><td>6            </td><td>0.59         </td></tr>\n",
       "\t<tr><th scope=row>13</th><td>50           </td><td>1000         </td><td>0.1          </td><td>20           </td><td>0            </td><td>0.08 ( 0 )   </td><td>1 ( 0 )      </td><td>6 ( 0 )      </td><td>0.59 ( 0.01 )</td><td>0            </td><td>NaN          </td><td>0.08         </td><td>1            </td><td>6            </td><td>0.59         </td></tr>\n",
       "\t<tr><th scope=row>17</th><td>50           </td><td>  50         </td><td>0.3          </td><td> 1           </td><td>0            </td><td>0.31 ( 0.01 )</td><td>1 ( 0 )      </td><td>6 ( 0 )      </td><td>1.14 ( 0.01 )</td><td>0            </td><td>NaN          </td><td>0.31         </td><td>1            </td><td>6            </td><td>1.14         </td></tr>\n",
       "\t<tr><th scope=row>21</th><td>50           </td><td> 100         </td><td>0.3          </td><td> 2           </td><td>0            </td><td>0.32 ( 0.01 )</td><td>1 ( 0 )      </td><td>6 ( 0 )      </td><td>1.2 ( 0.01 ) </td><td>0            </td><td>NaN          </td><td>0.32         </td><td>1            </td><td>6            </td><td>1.20         </td></tr>\n",
       "\t<tr><th scope=row>25</th><td>50           </td><td> 500         </td><td>0.3          </td><td>10           </td><td>0            </td><td>0.36 ( 0.02 )</td><td>1 ( 0 )      </td><td>6 ( 0 )      </td><td>1.23 ( 0.01 )</td><td>0            </td><td>NaN          </td><td>0.36         </td><td>1            </td><td>6            </td><td>1.23         </td></tr>\n",
       "\t<tr><th scope=row>29</th><td>50           </td><td>1000         </td><td>0.3          </td><td>20           </td><td>0            </td><td>0.34 ( 0.01 )</td><td>1 ( 0 )      </td><td>6 ( 0 )      </td><td>1.26 ( 0.01 )</td><td>0            </td><td>NaN          </td><td>0.34         </td><td>1            </td><td>6            </td><td>1.26         </td></tr>\n",
       "\t<tr><th scope=row>33</th><td>50           </td><td>  50         </td><td>0.5          </td><td> 1           </td><td>0            </td><td>0.6 ( 0.03 ) </td><td>1 ( 0 )      </td><td>6 ( 0 )      </td><td>1.46 ( 0.01 )</td><td>0            </td><td>NaN          </td><td>0.60         </td><td>1            </td><td>6            </td><td>1.46         </td></tr>\n",
       "\t<tr><th scope=row>37</th><td>50           </td><td> 100         </td><td>0.5          </td><td> 2           </td><td>0            </td><td>0.6 ( 0.02 ) </td><td>1 ( 0 )      </td><td>6 ( 0 )      </td><td>1.56 ( 0.01 )</td><td>0            </td><td>NaN          </td><td>0.60         </td><td>1            </td><td>6            </td><td>1.56         </td></tr>\n",
       "\t<tr><th scope=row>41</th><td>50           </td><td> 500         </td><td>0.5          </td><td>10           </td><td>0            </td><td>0.58 ( 0.02 )</td><td>1 ( 0 )      </td><td>6 ( 0 )      </td><td>1.64 ( 0.02 )</td><td>0            </td><td>NaN          </td><td>0.58         </td><td>1            </td><td>6            </td><td>1.64         </td></tr>\n",
       "\t<tr><th scope=row>45</th><td>50           </td><td>1000         </td><td>0.5          </td><td>20           </td><td>0            </td><td>0.57 ( 0.02 )</td><td>1 ( 0 )      </td><td>6 ( 0 )      </td><td>1.64 ( 0.02 )</td><td>0            </td><td>NaN          </td><td>0.57         </td><td>1            </td><td>6            </td><td>1.64         </td></tr>\n",
       "\t<tr><th scope=row>49</th><td>50           </td><td>  50         </td><td>0.7          </td><td> 1           </td><td>0            </td><td>0.8 ( 0.04 ) </td><td>1 ( 0 )      </td><td>6 ( 0 )      </td><td>1.72 ( 0.02 )</td><td>0            </td><td>NaN          </td><td>0.80         </td><td>1            </td><td>6            </td><td>1.72         </td></tr>\n",
       "\t<tr><th scope=row>53</th><td>50           </td><td> 100         </td><td>0.7          </td><td> 2           </td><td>0            </td><td>0.92 ( 0.04 )</td><td>1 ( 0 )      </td><td>6 ( 0 )      </td><td>1.85 ( 0.02 )</td><td>0            </td><td>NaN          </td><td>0.92         </td><td>1            </td><td>6            </td><td>1.85         </td></tr>\n",
       "\t<tr><th scope=row>57</th><td>50           </td><td> 500         </td><td>0.7          </td><td>10           </td><td>0            </td><td>0.91 ( 0.04 )</td><td>1 ( 0 )      </td><td>6 ( 0 )      </td><td>2 ( 0.02 )   </td><td>0            </td><td>NaN          </td><td>0.91         </td><td>1            </td><td>6            </td><td>2.00         </td></tr>\n",
       "\t<tr><th scope=row>61</th><td>50           </td><td>1000         </td><td>0.7          </td><td>20           </td><td>0            </td><td>0.91 ( 0.04 )</td><td>1 ( 0 )      </td><td>6 ( 0 )      </td><td>1.98 ( 0.02 )</td><td>0            </td><td>NaN          </td><td>0.91         </td><td>1            </td><td>6            </td><td>1.98         </td></tr>\n",
       "\t<tr><th scope=row>65</th><td>50           </td><td>  50         </td><td>0.9          </td><td> 1           </td><td>0            </td><td>1.1 ( 0.04 ) </td><td>1 ( 0 )      </td><td>6 ( 0 )      </td><td>1.99 ( 0.02 )</td><td>0            </td><td>NaN          </td><td>1.10         </td><td>1            </td><td>6            </td><td>1.99         </td></tr>\n",
       "\t<tr><th scope=row>69</th><td>50           </td><td> 100         </td><td>0.9          </td><td> 2           </td><td>0            </td><td>1.11 ( 0.05 )</td><td>1 ( 0 )      </td><td>6 ( 0 )      </td><td>2.06 ( 0.02 )</td><td>0            </td><td>NaN          </td><td>1.11         </td><td>1            </td><td>6            </td><td>2.06         </td></tr>\n",
       "\t<tr><th scope=row>73</th><td>50           </td><td> 500         </td><td>0.9          </td><td>10           </td><td>0            </td><td>1.18 ( 0.05 )</td><td>1 ( 0 )      </td><td>6 ( 0 )      </td><td>2.2 ( 0.02 ) </td><td>0            </td><td>NaN          </td><td>1.18         </td><td>1            </td><td>6            </td><td>2.20         </td></tr>\n",
       "\t<tr><th scope=row>77</th><td>50           </td><td>1000         </td><td>0.9          </td><td>20           </td><td>0            </td><td>1.22 ( 0.05 )</td><td>1 ( 0 )      </td><td>6 ( 0 )      </td><td>2.3 ( 0.03 ) </td><td>0            </td><td>NaN          </td><td>1.22         </td><td>1            </td><td>6            </td><td>2.30         </td></tr>\n",
       "</tbody>\n",
       "</table>\n"
      ],
      "text/latex": [
       "\\begin{tabular}{r|lllllllllllllll}\n",
       "  & N & P & Corr & Ratio & Stab & MSE & FP & FN & OOB & num\\_select & FDR & MSE\\_mean & FP\\_mean & FN\\_mean & OOB\\_mean\\\\\n",
       "\\hline\n",
       "\t1 & 50            &   50          & 0.1           &  1            & 0             & 0.08 ( 0 )    & 1 ( 0 )       & 6 ( 0 )       & 0.59 ( 0.01 ) & 0             & NaN           & 0.08          & 1             & 6             & 0.59         \\\\\n",
       "\t5 & 50            &  100          & 0.1           &  2            & 0             & 0.08 ( 0 )    & 1 ( 0 )       & 6 ( 0 )       & 0.6 ( 0.01 )  & 0             & NaN           & 0.08          & 1             & 6             & 0.60         \\\\\n",
       "\t9 & 50            &  500          & 0.1           & 10            & 0             & 0.08 ( 0 )    & 1 ( 0 )       & 6 ( 0 )       & 0.59 ( 0.01 ) & 0             & NaN           & 0.08          & 1             & 6             & 0.59         \\\\\n",
       "\t13 & 50            & 1000          & 0.1           & 20            & 0             & 0.08 ( 0 )    & 1 ( 0 )       & 6 ( 0 )       & 0.59 ( 0.01 ) & 0             & NaN           & 0.08          & 1             & 6             & 0.59         \\\\\n",
       "\t17 & 50            &   50          & 0.3           &  1            & 0             & 0.31 ( 0.01 ) & 1 ( 0 )       & 6 ( 0 )       & 1.14 ( 0.01 ) & 0             & NaN           & 0.31          & 1             & 6             & 1.14         \\\\\n",
       "\t21 & 50            &  100          & 0.3           &  2            & 0             & 0.32 ( 0.01 ) & 1 ( 0 )       & 6 ( 0 )       & 1.2 ( 0.01 )  & 0             & NaN           & 0.32          & 1             & 6             & 1.20         \\\\\n",
       "\t25 & 50            &  500          & 0.3           & 10            & 0             & 0.36 ( 0.02 ) & 1 ( 0 )       & 6 ( 0 )       & 1.23 ( 0.01 ) & 0             & NaN           & 0.36          & 1             & 6             & 1.23         \\\\\n",
       "\t29 & 50            & 1000          & 0.3           & 20            & 0             & 0.34 ( 0.01 ) & 1 ( 0 )       & 6 ( 0 )       & 1.26 ( 0.01 ) & 0             & NaN           & 0.34          & 1             & 6             & 1.26         \\\\\n",
       "\t33 & 50            &   50          & 0.5           &  1            & 0             & 0.6 ( 0.03 )  & 1 ( 0 )       & 6 ( 0 )       & 1.46 ( 0.01 ) & 0             & NaN           & 0.60          & 1             & 6             & 1.46         \\\\\n",
       "\t37 & 50            &  100          & 0.5           &  2            & 0             & 0.6 ( 0.02 )  & 1 ( 0 )       & 6 ( 0 )       & 1.56 ( 0.01 ) & 0             & NaN           & 0.60          & 1             & 6             & 1.56         \\\\\n",
       "\t41 & 50            &  500          & 0.5           & 10            & 0             & 0.58 ( 0.02 ) & 1 ( 0 )       & 6 ( 0 )       & 1.64 ( 0.02 ) & 0             & NaN           & 0.58          & 1             & 6             & 1.64         \\\\\n",
       "\t45 & 50            & 1000          & 0.5           & 20            & 0             & 0.57 ( 0.02 ) & 1 ( 0 )       & 6 ( 0 )       & 1.64 ( 0.02 ) & 0             & NaN           & 0.57          & 1             & 6             & 1.64         \\\\\n",
       "\t49 & 50            &   50          & 0.7           &  1            & 0             & 0.8 ( 0.04 )  & 1 ( 0 )       & 6 ( 0 )       & 1.72 ( 0.02 ) & 0             & NaN           & 0.80          & 1             & 6             & 1.72         \\\\\n",
       "\t53 & 50            &  100          & 0.7           &  2            & 0             & 0.92 ( 0.04 ) & 1 ( 0 )       & 6 ( 0 )       & 1.85 ( 0.02 ) & 0             & NaN           & 0.92          & 1             & 6             & 1.85         \\\\\n",
       "\t57 & 50            &  500          & 0.7           & 10            & 0             & 0.91 ( 0.04 ) & 1 ( 0 )       & 6 ( 0 )       & 2 ( 0.02 )    & 0             & NaN           & 0.91          & 1             & 6             & 2.00         \\\\\n",
       "\t61 & 50            & 1000          & 0.7           & 20            & 0             & 0.91 ( 0.04 ) & 1 ( 0 )       & 6 ( 0 )       & 1.98 ( 0.02 ) & 0             & NaN           & 0.91          & 1             & 6             & 1.98         \\\\\n",
       "\t65 & 50            &   50          & 0.9           &  1            & 0             & 1.1 ( 0.04 )  & 1 ( 0 )       & 6 ( 0 )       & 1.99 ( 0.02 ) & 0             & NaN           & 1.10          & 1             & 6             & 1.99         \\\\\n",
       "\t69 & 50            &  100          & 0.9           &  2            & 0             & 1.11 ( 0.05 ) & 1 ( 0 )       & 6 ( 0 )       & 2.06 ( 0.02 ) & 0             & NaN           & 1.11          & 1             & 6             & 2.06         \\\\\n",
       "\t73 & 50            &  500          & 0.9           & 10            & 0             & 1.18 ( 0.05 ) & 1 ( 0 )       & 6 ( 0 )       & 2.2 ( 0.02 )  & 0             & NaN           & 1.18          & 1             & 6             & 2.20         \\\\\n",
       "\t77 & 50            & 1000          & 0.9           & 20            & 0             & 1.22 ( 0.05 ) & 1 ( 0 )       & 6 ( 0 )       & 2.3 ( 0.03 )  & 0             & NaN           & 1.22          & 1             & 6             & 2.30         \\\\\n",
       "\\end{tabular}\n"
      ],
      "text/markdown": [
       "\n",
       "| <!--/--> | N | P | Corr | Ratio | Stab | MSE | FP | FN | OOB | num_select | FDR | MSE_mean | FP_mean | FN_mean | OOB_mean |\n",
       "|---|---|---|---|---|---|---|---|---|---|---|---|---|---|---|---|\n",
       "| 1 | 50            |   50          | 0.1           |  1            | 0             | 0.08 ( 0 )    | 1 ( 0 )       | 6 ( 0 )       | 0.59 ( 0.01 ) | 0             | NaN           | 0.08          | 1             | 6             | 0.59          |\n",
       "| 5 | 50            |  100          | 0.1           |  2            | 0             | 0.08 ( 0 )    | 1 ( 0 )       | 6 ( 0 )       | 0.6 ( 0.01 )  | 0             | NaN           | 0.08          | 1             | 6             | 0.60          |\n",
       "| 9 | 50            |  500          | 0.1           | 10            | 0             | 0.08 ( 0 )    | 1 ( 0 )       | 6 ( 0 )       | 0.59 ( 0.01 ) | 0             | NaN           | 0.08          | 1             | 6             | 0.59          |\n",
       "| 13 | 50            | 1000          | 0.1           | 20            | 0             | 0.08 ( 0 )    | 1 ( 0 )       | 6 ( 0 )       | 0.59 ( 0.01 ) | 0             | NaN           | 0.08          | 1             | 6             | 0.59          |\n",
       "| 17 | 50            |   50          | 0.3           |  1            | 0             | 0.31 ( 0.01 ) | 1 ( 0 )       | 6 ( 0 )       | 1.14 ( 0.01 ) | 0             | NaN           | 0.31          | 1             | 6             | 1.14          |\n",
       "| 21 | 50            |  100          | 0.3           |  2            | 0             | 0.32 ( 0.01 ) | 1 ( 0 )       | 6 ( 0 )       | 1.2 ( 0.01 )  | 0             | NaN           | 0.32          | 1             | 6             | 1.20          |\n",
       "| 25 | 50            |  500          | 0.3           | 10            | 0             | 0.36 ( 0.02 ) | 1 ( 0 )       | 6 ( 0 )       | 1.23 ( 0.01 ) | 0             | NaN           | 0.36          | 1             | 6             | 1.23          |\n",
       "| 29 | 50            | 1000          | 0.3           | 20            | 0             | 0.34 ( 0.01 ) | 1 ( 0 )       | 6 ( 0 )       | 1.26 ( 0.01 ) | 0             | NaN           | 0.34          | 1             | 6             | 1.26          |\n",
       "| 33 | 50            |   50          | 0.5           |  1            | 0             | 0.6 ( 0.03 )  | 1 ( 0 )       | 6 ( 0 )       | 1.46 ( 0.01 ) | 0             | NaN           | 0.60          | 1             | 6             | 1.46          |\n",
       "| 37 | 50            |  100          | 0.5           |  2            | 0             | 0.6 ( 0.02 )  | 1 ( 0 )       | 6 ( 0 )       | 1.56 ( 0.01 ) | 0             | NaN           | 0.60          | 1             | 6             | 1.56          |\n",
       "| 41 | 50            |  500          | 0.5           | 10            | 0             | 0.58 ( 0.02 ) | 1 ( 0 )       | 6 ( 0 )       | 1.64 ( 0.02 ) | 0             | NaN           | 0.58          | 1             | 6             | 1.64          |\n",
       "| 45 | 50            | 1000          | 0.5           | 20            | 0             | 0.57 ( 0.02 ) | 1 ( 0 )       | 6 ( 0 )       | 1.64 ( 0.02 ) | 0             | NaN           | 0.57          | 1             | 6             | 1.64          |\n",
       "| 49 | 50            |   50          | 0.7           |  1            | 0             | 0.8 ( 0.04 )  | 1 ( 0 )       | 6 ( 0 )       | 1.72 ( 0.02 ) | 0             | NaN           | 0.80          | 1             | 6             | 1.72          |\n",
       "| 53 | 50            |  100          | 0.7           |  2            | 0             | 0.92 ( 0.04 ) | 1 ( 0 )       | 6 ( 0 )       | 1.85 ( 0.02 ) | 0             | NaN           | 0.92          | 1             | 6             | 1.85          |\n",
       "| 57 | 50            |  500          | 0.7           | 10            | 0             | 0.91 ( 0.04 ) | 1 ( 0 )       | 6 ( 0 )       | 2 ( 0.02 )    | 0             | NaN           | 0.91          | 1             | 6             | 2.00          |\n",
       "| 61 | 50            | 1000          | 0.7           | 20            | 0             | 0.91 ( 0.04 ) | 1 ( 0 )       | 6 ( 0 )       | 1.98 ( 0.02 ) | 0             | NaN           | 0.91          | 1             | 6             | 1.98          |\n",
       "| 65 | 50            |   50          | 0.9           |  1            | 0             | 1.1 ( 0.04 )  | 1 ( 0 )       | 6 ( 0 )       | 1.99 ( 0.02 ) | 0             | NaN           | 1.10          | 1             | 6             | 1.99          |\n",
       "| 69 | 50            |  100          | 0.9           |  2            | 0             | 1.11 ( 0.05 ) | 1 ( 0 )       | 6 ( 0 )       | 2.06 ( 0.02 ) | 0             | NaN           | 1.11          | 1             | 6             | 2.06          |\n",
       "| 73 | 50            |  500          | 0.9           | 10            | 0             | 1.18 ( 0.05 ) | 1 ( 0 )       | 6 ( 0 )       | 2.2 ( 0.02 )  | 0             | NaN           | 1.18          | 1             | 6             | 2.20          |\n",
       "| 77 | 50            | 1000          | 0.9           | 20            | 0             | 1.22 ( 0.05 ) | 1 ( 0 )       | 6 ( 0 )       | 2.3 ( 0.03 )  | 0             | NaN           | 1.22          | 1             | 6             | 2.30          |\n",
       "\n"
      ],
      "text/plain": [
       "   N  P    Corr Ratio Stab MSE           FP      FN      OOB          \n",
       "1  50   50 0.1   1    0    0.08 ( 0 )    1 ( 0 ) 6 ( 0 ) 0.59 ( 0.01 )\n",
       "5  50  100 0.1   2    0    0.08 ( 0 )    1 ( 0 ) 6 ( 0 ) 0.6 ( 0.01 ) \n",
       "9  50  500 0.1  10    0    0.08 ( 0 )    1 ( 0 ) 6 ( 0 ) 0.59 ( 0.01 )\n",
       "13 50 1000 0.1  20    0    0.08 ( 0 )    1 ( 0 ) 6 ( 0 ) 0.59 ( 0.01 )\n",
       "17 50   50 0.3   1    0    0.31 ( 0.01 ) 1 ( 0 ) 6 ( 0 ) 1.14 ( 0.01 )\n",
       "21 50  100 0.3   2    0    0.32 ( 0.01 ) 1 ( 0 ) 6 ( 0 ) 1.2 ( 0.01 ) \n",
       "25 50  500 0.3  10    0    0.36 ( 0.02 ) 1 ( 0 ) 6 ( 0 ) 1.23 ( 0.01 )\n",
       "29 50 1000 0.3  20    0    0.34 ( 0.01 ) 1 ( 0 ) 6 ( 0 ) 1.26 ( 0.01 )\n",
       "33 50   50 0.5   1    0    0.6 ( 0.03 )  1 ( 0 ) 6 ( 0 ) 1.46 ( 0.01 )\n",
       "37 50  100 0.5   2    0    0.6 ( 0.02 )  1 ( 0 ) 6 ( 0 ) 1.56 ( 0.01 )\n",
       "41 50  500 0.5  10    0    0.58 ( 0.02 ) 1 ( 0 ) 6 ( 0 ) 1.64 ( 0.02 )\n",
       "45 50 1000 0.5  20    0    0.57 ( 0.02 ) 1 ( 0 ) 6 ( 0 ) 1.64 ( 0.02 )\n",
       "49 50   50 0.7   1    0    0.8 ( 0.04 )  1 ( 0 ) 6 ( 0 ) 1.72 ( 0.02 )\n",
       "53 50  100 0.7   2    0    0.92 ( 0.04 ) 1 ( 0 ) 6 ( 0 ) 1.85 ( 0.02 )\n",
       "57 50  500 0.7  10    0    0.91 ( 0.04 ) 1 ( 0 ) 6 ( 0 ) 2 ( 0.02 )   \n",
       "61 50 1000 0.7  20    0    0.91 ( 0.04 ) 1 ( 0 ) 6 ( 0 ) 1.98 ( 0.02 )\n",
       "65 50   50 0.9   1    0    1.1 ( 0.04 )  1 ( 0 ) 6 ( 0 ) 1.99 ( 0.02 )\n",
       "69 50  100 0.9   2    0    1.11 ( 0.05 ) 1 ( 0 ) 6 ( 0 ) 2.06 ( 0.02 )\n",
       "73 50  500 0.9  10    0    1.18 ( 0.05 ) 1 ( 0 ) 6 ( 0 ) 2.2 ( 0.02 ) \n",
       "77 50 1000 0.9  20    0    1.22 ( 0.05 ) 1 ( 0 ) 6 ( 0 ) 2.3 ( 0.03 ) \n",
       "   num_select FDR MSE_mean FP_mean FN_mean OOB_mean\n",
       "1  0          NaN 0.08     1       6       0.59    \n",
       "5  0          NaN 0.08     1       6       0.60    \n",
       "9  0          NaN 0.08     1       6       0.59    \n",
       "13 0          NaN 0.08     1       6       0.59    \n",
       "17 0          NaN 0.31     1       6       1.14    \n",
       "21 0          NaN 0.32     1       6       1.20    \n",
       "25 0          NaN 0.36     1       6       1.23    \n",
       "29 0          NaN 0.34     1       6       1.26    \n",
       "33 0          NaN 0.60     1       6       1.46    \n",
       "37 0          NaN 0.60     1       6       1.56    \n",
       "41 0          NaN 0.58     1       6       1.64    \n",
       "45 0          NaN 0.57     1       6       1.64    \n",
       "49 0          NaN 0.80     1       6       1.72    \n",
       "53 0          NaN 0.92     1       6       1.85    \n",
       "57 0          NaN 0.91     1       6       2.00    \n",
       "61 0          NaN 0.91     1       6       1.98    \n",
       "65 0          NaN 1.10     1       6       1.99    \n",
       "69 0          NaN 1.11     1       6       2.06    \n",
       "73 0          NaN 1.18     1       6       2.20    \n",
       "77 0          NaN 1.22     1       6       2.30    "
      ]
     },
     "metadata": {},
     "output_type": "display_data"
    }
   ],
   "source": [
    "result.table_block[c(1,5,9,13,17,21,25,29,33,37,41,45,49,53,57,61,65,69,73,77), ]"
   ]
  },
  {
   "cell_type": "code",
   "execution_count": 12,
   "metadata": {},
   "outputs": [
    {
     "data": {
      "text/html": [
       "<table>\n",
       "<thead><tr><th scope=col>N</th><th scope=col>P</th><th scope=col>Corr</th><th scope=col>Ratio</th><th scope=col>Stab</th><th scope=col>MSE</th><th scope=col>FP</th><th scope=col>FN</th><th scope=col>OOB</th><th scope=col>num_select</th><th scope=col>FDR</th><th scope=col>MSE_mean</th><th scope=col>FP_mean</th><th scope=col>FN_mean</th><th scope=col>OOB_mean</th></tr></thead>\n",
       "<tbody>\n",
       "\t<tr><td>  50         </td><td> 50          </td><td>0.1          </td><td>1.00         </td><td>0.00         </td><td>0.08 ( 0 )   </td><td>1 ( 0 )      </td><td>6 ( 0 )      </td><td>0.59 ( 0.01 )</td><td>0.00         </td><td>NaN          </td><td>0.08         </td><td>1.00         </td><td>6.00         </td><td>0.59         </td></tr>\n",
       "\t<tr><td> 100         </td><td> 50          </td><td>0.1          </td><td>0.50         </td><td>0.03         </td><td>0.07 ( 0 )   </td><td>2.26 ( 0.17 )</td><td>5.06 ( 0.12 )</td><td>0.58 ( 0 )   </td><td>3.04         </td><td>0.7          </td><td>0.07         </td><td>2.26         </td><td>5.06         </td><td>0.58         </td></tr>\n",
       "\t<tr><td> 500         </td><td> 50          </td><td>0.1          </td><td>0.10         </td><td>0.23         </td><td>0.05 ( 0 )   </td><td>2.34 ( 0.16 )</td><td>3.77 ( 0.14 )</td><td>0.56 ( 0 )   </td><td>4.56         </td><td>0.49         </td><td>0.05         </td><td>2.34         </td><td>3.77         </td><td>0.56         </td></tr>\n",
       "\t<tr><td>1000         </td><td> 50          </td><td>0.1          </td><td>0.05         </td><td>0.51         </td><td>0.05 ( 0 )   </td><td>2.37 ( 0.16 )</td><td>2.54 ( 0.11 )</td><td>0.55 ( 0 )   </td><td>5.83         </td><td>0.38         </td><td>0.05         </td><td>2.37         </td><td>2.54         </td><td>0.55         </td></tr>\n",
       "\t<tr><td>  50         </td><td>100          </td><td>0.1          </td><td>2.00         </td><td>0.00         </td><td>0.08 ( 0 )   </td><td>1 ( 0 )      </td><td>6 ( 0 )      </td><td>0.6 ( 0.01 ) </td><td>0.00         </td><td>NaN          </td><td>0.08         </td><td>1.00         </td><td>6.00         </td><td>0.60         </td></tr>\n",
       "\t<tr><td> 100         </td><td>100          </td><td>0.1          </td><td>1.00         </td><td>0.01         </td><td>0.07 ( 0 )   </td><td>4.76 ( 0.27 )</td><td>5.51 ( 0.09 )</td><td>0.58 ( 0 )   </td><td>5.24         </td><td>0.91         </td><td>0.07         </td><td>4.76         </td><td>5.51         </td><td>0.58         </td></tr>\n",
       "</tbody>\n",
       "</table>\n"
      ],
      "text/latex": [
       "\\begin{tabular}{r|lllllllllllllll}\n",
       " N & P & Corr & Ratio & Stab & MSE & FP & FN & OOB & num\\_select & FDR & MSE\\_mean & FP\\_mean & FN\\_mean & OOB\\_mean\\\\\n",
       "\\hline\n",
       "\t   50          &  50           & 0.1           & 1.00          & 0.00          & 0.08 ( 0 )    & 1 ( 0 )       & 6 ( 0 )       & 0.59 ( 0.01 ) & 0.00          & NaN           & 0.08          & 1.00          & 6.00          & 0.59         \\\\\n",
       "\t  100          &  50           & 0.1           & 0.50          & 0.03          & 0.07 ( 0 )    & 2.26 ( 0.17 ) & 5.06 ( 0.12 ) & 0.58 ( 0 )    & 3.04          & 0.7           & 0.07          & 2.26          & 5.06          & 0.58         \\\\\n",
       "\t  500          &  50           & 0.1           & 0.10          & 0.23          & 0.05 ( 0 )    & 2.34 ( 0.16 ) & 3.77 ( 0.14 ) & 0.56 ( 0 )    & 4.56          & 0.49          & 0.05          & 2.34          & 3.77          & 0.56         \\\\\n",
       "\t 1000          &  50           & 0.1           & 0.05          & 0.51          & 0.05 ( 0 )    & 2.37 ( 0.16 ) & 2.54 ( 0.11 ) & 0.55 ( 0 )    & 5.83          & 0.38          & 0.05          & 2.37          & 2.54          & 0.55         \\\\\n",
       "\t   50          & 100           & 0.1           & 2.00          & 0.00          & 0.08 ( 0 )    & 1 ( 0 )       & 6 ( 0 )       & 0.6 ( 0.01 )  & 0.00          & NaN           & 0.08          & 1.00          & 6.00          & 0.60         \\\\\n",
       "\t  100          & 100           & 0.1           & 1.00          & 0.01          & 0.07 ( 0 )    & 4.76 ( 0.27 ) & 5.51 ( 0.09 ) & 0.58 ( 0 )    & 5.24          & 0.91          & 0.07          & 4.76          & 5.51          & 0.58         \\\\\n",
       "\\end{tabular}\n"
      ],
      "text/markdown": [
       "\n",
       "| N | P | Corr | Ratio | Stab | MSE | FP | FN | OOB | num_select | FDR | MSE_mean | FP_mean | FN_mean | OOB_mean |\n",
       "|---|---|---|---|---|---|---|---|---|---|---|---|---|---|---|\n",
       "|   50          |  50           | 0.1           | 1.00          | 0.00          | 0.08 ( 0 )    | 1 ( 0 )       | 6 ( 0 )       | 0.59 ( 0.01 ) | 0.00          | NaN           | 0.08          | 1.00          | 6.00          | 0.59          |\n",
       "|  100          |  50           | 0.1           | 0.50          | 0.03          | 0.07 ( 0 )    | 2.26 ( 0.17 ) | 5.06 ( 0.12 ) | 0.58 ( 0 )    | 3.04          | 0.7           | 0.07          | 2.26          | 5.06          | 0.58          |\n",
       "|  500          |  50           | 0.1           | 0.10          | 0.23          | 0.05 ( 0 )    | 2.34 ( 0.16 ) | 3.77 ( 0.14 ) | 0.56 ( 0 )    | 4.56          | 0.49          | 0.05          | 2.34          | 3.77          | 0.56          |\n",
       "| 1000          |  50           | 0.1           | 0.05          | 0.51          | 0.05 ( 0 )    | 2.37 ( 0.16 ) | 2.54 ( 0.11 ) | 0.55 ( 0 )    | 5.83          | 0.38          | 0.05          | 2.37          | 2.54          | 0.55          |\n",
       "|   50          | 100           | 0.1           | 2.00          | 0.00          | 0.08 ( 0 )    | 1 ( 0 )       | 6 ( 0 )       | 0.6 ( 0.01 )  | 0.00          | NaN           | 0.08          | 1.00          | 6.00          | 0.60          |\n",
       "|  100          | 100           | 0.1           | 1.00          | 0.01          | 0.07 ( 0 )    | 4.76 ( 0.27 ) | 5.51 ( 0.09 ) | 0.58 ( 0 )    | 5.24          | 0.91          | 0.07          | 4.76          | 5.51          | 0.58          |\n",
       "\n"
      ],
      "text/plain": [
       "  N    P   Corr Ratio Stab MSE        FP            FN            OOB          \n",
       "1   50  50 0.1  1.00  0.00 0.08 ( 0 ) 1 ( 0 )       6 ( 0 )       0.59 ( 0.01 )\n",
       "2  100  50 0.1  0.50  0.03 0.07 ( 0 ) 2.26 ( 0.17 ) 5.06 ( 0.12 ) 0.58 ( 0 )   \n",
       "3  500  50 0.1  0.10  0.23 0.05 ( 0 ) 2.34 ( 0.16 ) 3.77 ( 0.14 ) 0.56 ( 0 )   \n",
       "4 1000  50 0.1  0.05  0.51 0.05 ( 0 ) 2.37 ( 0.16 ) 2.54 ( 0.11 ) 0.55 ( 0 )   \n",
       "5   50 100 0.1  2.00  0.00 0.08 ( 0 ) 1 ( 0 )       6 ( 0 )       0.6 ( 0.01 ) \n",
       "6  100 100 0.1  1.00  0.01 0.07 ( 0 ) 4.76 ( 0.27 ) 5.51 ( 0.09 ) 0.58 ( 0 )   \n",
       "  num_select FDR  MSE_mean FP_mean FN_mean OOB_mean\n",
       "1 0.00       NaN  0.08     1.00    6.00    0.59    \n",
       "2 3.04       0.7  0.07     2.26    5.06    0.58    \n",
       "3 4.56       0.49 0.05     2.34    3.77    0.56    \n",
       "4 5.83       0.38 0.05     2.37    2.54    0.55    \n",
       "5 0.00       NaN  0.08     1.00    6.00    0.60    \n",
       "6 5.24       0.91 0.07     4.76    5.51    0.58    "
      ]
     },
     "metadata": {},
     "output_type": "display_data"
    }
   ],
   "source": [
    "head(result.table_block)"
   ]
  },
  {
   "cell_type": "code",
   "execution_count": 13,
   "metadata": {},
   "outputs": [
    {
     "data": {
      "text/html": [
       "<table>\n",
       "<thead><tr><th></th><th scope=col>N</th><th scope=col>P</th><th scope=col>Corr</th><th scope=col>Ratio</th><th scope=col>Stab</th><th scope=col>MSE</th><th scope=col>FP</th><th scope=col>FN</th><th scope=col>OOB</th><th scope=col>num_select</th><th scope=col>FDR</th><th scope=col>MSE_mean</th><th scope=col>FP_mean</th><th scope=col>FN_mean</th><th scope=col>OOB_mean</th></tr></thead>\n",
       "<tbody>\n",
       "\t<tr><th scope=row>75</th><td> 500          </td><td> 500          </td><td>0.9           </td><td> 1.0          </td><td>0.12          </td><td>0.73 ( 0.01 ) </td><td>20.83 ( 0.45 )</td><td>2.04 ( 0.09 ) </td><td>2 ( 0.01 )    </td><td>24.79         </td><td>0.84          </td><td>0.73          </td><td>20.8          </td><td>2.04          </td><td>2.00          </td></tr>\n",
       "\t<tr><th scope=row>76</th><td>1000          </td><td> 500          </td><td>0.9           </td><td> 0.5          </td><td>0.18          </td><td>0.68 ( 0.01 ) </td><td>18.47 ( 0.43 )</td><td>1 ( 0.07 )    </td><td>1.92 ( 0 )    </td><td>23.47         </td><td>0.78          </td><td>0.68          </td><td>18.4          </td><td>0.00          </td><td>1.92          </td></tr>\n",
       "\t<tr><th scope=row>77</th><td>  50          </td><td>1000          </td><td>0.9           </td><td>20.0          </td><td>0.00          </td><td>1.22 ( 0.05 ) </td><td>1 ( 0 )       </td><td>6 ( 0 )       </td><td>2.3 ( 0.03 )  </td><td> 0.00         </td><td>NaN           </td><td>1.22          </td><td> 1.0          </td><td>6.00          </td><td>2.30          </td></tr>\n",
       "\t<tr><th scope=row>78</th><td> 100          </td><td>1000          </td><td>0.9           </td><td>10.0          </td><td>0.01          </td><td>0.93 ( 0.02 ) </td><td>49.18 ( 0.69 )</td><td>4.67 ( 0.09 ) </td><td>2.22 ( 0.02 ) </td><td>50.51         </td><td>0.97          </td><td>0.93          </td><td>49.1          </td><td>4.67          </td><td>2.22          </td></tr>\n",
       "\t<tr><th scope=row>79</th><td> 500          </td><td>1000          </td><td>0.9           </td><td> 2.0          </td><td>0.06          </td><td>0.78 ( 0.01 ) </td><td>46.01 ( 0.7 ) </td><td>2.14 ( 0.09 ) </td><td>2.12 ( 0.01 ) </td><td>49.87         </td><td>0.92          </td><td>0.78          </td><td>46.0          </td><td>2.14          </td><td>2.12          </td></tr>\n",
       "\t<tr><th scope=row>80</th><td>1000          </td><td>1000          </td><td>0.9           </td><td> 1.0          </td><td>0.08          </td><td>0.74 ( 0.01 ) </td><td>43.05 ( 0.72 )</td><td>1.17 ( 0.08 ) </td><td>2.07 ( 0 )    </td><td>47.88         </td><td>0.9           </td><td>0.74          </td><td>43.0          </td><td>1.17          </td><td>2.07          </td></tr>\n",
       "</tbody>\n",
       "</table>\n"
      ],
      "text/latex": [
       "\\begin{tabular}{r|lllllllllllllll}\n",
       "  & N & P & Corr & Ratio & Stab & MSE & FP & FN & OOB & num\\_select & FDR & MSE\\_mean & FP\\_mean & FN\\_mean & OOB\\_mean\\\\\n",
       "\\hline\n",
       "\t75 &  500           &  500           & 0.9            &  1.0           & 0.12           & 0.73 ( 0.01 )  & 20.83 ( 0.45 ) & 2.04 ( 0.09 )  & 2 ( 0.01 )     & 24.79          & 0.84           & 0.73           & 20.8           & 2.04           & 2.00          \\\\\n",
       "\t76 & 1000           &  500           & 0.9            &  0.5           & 0.18           & 0.68 ( 0.01 )  & 18.47 ( 0.43 ) & 1 ( 0.07 )     & 1.92 ( 0 )     & 23.47          & 0.78           & 0.68           & 18.4           & 0.00           & 1.92          \\\\\n",
       "\t77 &   50           & 1000           & 0.9            & 20.0           & 0.00           & 1.22 ( 0.05 )  & 1 ( 0 )        & 6 ( 0 )        & 2.3 ( 0.03 )   &  0.00          & NaN            & 1.22           &  1.0           & 6.00           & 2.30          \\\\\n",
       "\t78 &  100           & 1000           & 0.9            & 10.0           & 0.01           & 0.93 ( 0.02 )  & 49.18 ( 0.69 ) & 4.67 ( 0.09 )  & 2.22 ( 0.02 )  & 50.51          & 0.97           & 0.93           & 49.1           & 4.67           & 2.22          \\\\\n",
       "\t79 &  500           & 1000           & 0.9            &  2.0           & 0.06           & 0.78 ( 0.01 )  & 46.01 ( 0.7 )  & 2.14 ( 0.09 )  & 2.12 ( 0.01 )  & 49.87          & 0.92           & 0.78           & 46.0           & 2.14           & 2.12          \\\\\n",
       "\t80 & 1000           & 1000           & 0.9            &  1.0           & 0.08           & 0.74 ( 0.01 )  & 43.05 ( 0.72 ) & 1.17 ( 0.08 )  & 2.07 ( 0 )     & 47.88          & 0.9            & 0.74           & 43.0           & 1.17           & 2.07          \\\\\n",
       "\\end{tabular}\n"
      ],
      "text/markdown": [
       "\n",
       "| <!--/--> | N | P | Corr | Ratio | Stab | MSE | FP | FN | OOB | num_select | FDR | MSE_mean | FP_mean | FN_mean | OOB_mean |\n",
       "|---|---|---|---|---|---|---|---|---|---|---|---|---|---|---|---|\n",
       "| 75 |  500           |  500           | 0.9            |  1.0           | 0.12           | 0.73 ( 0.01 )  | 20.83 ( 0.45 ) | 2.04 ( 0.09 )  | 2 ( 0.01 )     | 24.79          | 0.84           | 0.73           | 20.8           | 2.04           | 2.00           |\n",
       "| 76 | 1000           |  500           | 0.9            |  0.5           | 0.18           | 0.68 ( 0.01 )  | 18.47 ( 0.43 ) | 1 ( 0.07 )     | 1.92 ( 0 )     | 23.47          | 0.78           | 0.68           | 18.4           | 0.00           | 1.92           |\n",
       "| 77 |   50           | 1000           | 0.9            | 20.0           | 0.00           | 1.22 ( 0.05 )  | 1 ( 0 )        | 6 ( 0 )        | 2.3 ( 0.03 )   |  0.00          | NaN            | 1.22           |  1.0           | 6.00           | 2.30           |\n",
       "| 78 |  100           | 1000           | 0.9            | 10.0           | 0.01           | 0.93 ( 0.02 )  | 49.18 ( 0.69 ) | 4.67 ( 0.09 )  | 2.22 ( 0.02 )  | 50.51          | 0.97           | 0.93           | 49.1           | 4.67           | 2.22           |\n",
       "| 79 |  500           | 1000           | 0.9            |  2.0           | 0.06           | 0.78 ( 0.01 )  | 46.01 ( 0.7 )  | 2.14 ( 0.09 )  | 2.12 ( 0.01 )  | 49.87          | 0.92           | 0.78           | 46.0           | 2.14           | 2.12           |\n",
       "| 80 | 1000           | 1000           | 0.9            |  1.0           | 0.08           | 0.74 ( 0.01 )  | 43.05 ( 0.72 ) | 1.17 ( 0.08 )  | 2.07 ( 0 )     | 47.88          | 0.9            | 0.74           | 43.0           | 1.17           | 2.07           |\n",
       "\n"
      ],
      "text/plain": [
       "   N    P    Corr Ratio Stab MSE           FP             FN           \n",
       "75  500  500 0.9   1.0  0.12 0.73 ( 0.01 ) 20.83 ( 0.45 ) 2.04 ( 0.09 )\n",
       "76 1000  500 0.9   0.5  0.18 0.68 ( 0.01 ) 18.47 ( 0.43 ) 1 ( 0.07 )   \n",
       "77   50 1000 0.9  20.0  0.00 1.22 ( 0.05 ) 1 ( 0 )        6 ( 0 )      \n",
       "78  100 1000 0.9  10.0  0.01 0.93 ( 0.02 ) 49.18 ( 0.69 ) 4.67 ( 0.09 )\n",
       "79  500 1000 0.9   2.0  0.06 0.78 ( 0.01 ) 46.01 ( 0.7 )  2.14 ( 0.09 )\n",
       "80 1000 1000 0.9   1.0  0.08 0.74 ( 0.01 ) 43.05 ( 0.72 ) 1.17 ( 0.08 )\n",
       "   OOB           num_select FDR  MSE_mean FP_mean FN_mean OOB_mean\n",
       "75 2 ( 0.01 )    24.79      0.84 0.73     20.8    2.04    2.00    \n",
       "76 1.92 ( 0 )    23.47      0.78 0.68     18.4    0.00    1.92    \n",
       "77 2.3 ( 0.03 )   0.00      NaN  1.22      1.0    6.00    2.30    \n",
       "78 2.22 ( 0.02 ) 50.51      0.97 0.93     49.1    4.67    2.22    \n",
       "79 2.12 ( 0.01 ) 49.87      0.92 0.78     46.0    2.14    2.12    \n",
       "80 2.07 ( 0 )    47.88      0.9  0.74     43.0    1.17    2.07    "
      ]
     },
     "metadata": {},
     "output_type": "display_data"
    }
   ],
   "source": [
    "tail(result.table_block)"
   ]
  },
  {
   "cell_type": "code",
   "execution_count": 14,
   "metadata": {},
   "outputs": [],
   "source": [
    "## export\n",
    "write.table(result.table_block, '../results_summary_cts/sim_block_rf.txt', sep='\\t', row.names=F)"
   ]
  },
  {
   "cell_type": "code",
   "execution_count": null,
   "metadata": {},
   "outputs": [],
   "source": []
  }
 ],
 "metadata": {
  "kernelspec": {
   "display_name": "R",
   "language": "R",
   "name": "ir"
  },
  "language_info": {
   "codemirror_mode": "r",
   "file_extension": ".r",
   "mimetype": "text/x-r-source",
   "name": "R",
   "pygments_lexer": "r",
   "version": "3.6.1"
  }
 },
 "nbformat": 4,
 "nbformat_minor": 2
}
