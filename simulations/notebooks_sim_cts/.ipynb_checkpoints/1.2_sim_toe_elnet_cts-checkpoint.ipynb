{
 "cells": [
  {
   "cell_type": "markdown",
   "metadata": {},
   "source": [
    "### summarize elastic net results on Toeplitz Simulation Scenarios for continuous outcome"
   ]
  },
  {
   "cell_type": "code",
   "execution_count": 1,
   "metadata": {},
   "outputs": [],
   "source": [
    "dir = '/panfs/panfs1.ucsd.edu/panscratch/lij014/Stability_2020/sim_data'\n",
    "\n",
    "load(paste0(dir, '/toe_Elnet.RData'))"
   ]
  },
  {
   "cell_type": "code",
   "execution_count": 2,
   "metadata": {},
   "outputs": [],
   "source": [
    "dim.list = list()\n",
    "size = c(50, 100, 500, 1000)\n",
    "idx = 0\n",
    "for (P in size){\n",
    "    for (N in size){\n",
    "        idx = idx + 1\n",
    "        dim.list[[idx]] = c(P=P, N=N)\n",
    "    }\n",
    "}\n",
    "\n",
    "rou.list = seq(0.1, 0.9, 0.2)\n",
    "\n",
    "files = NULL\n",
    "for (rou in rou.list){\n",
    "  for (dim in dim.list){\n",
    "    p = dim[1]\n",
    "    n = dim[2]\n",
    "    files = cbind(files, paste0(dir, '/sim_toeplitz_corr', rou, paste('P', p, 'N', n, sep='_'), '.RData', sep=''))\n",
    "  }\n",
    "}"
   ]
  },
  {
   "cell_type": "code",
   "execution_count": 3,
   "metadata": {},
   "outputs": [],
   "source": [
    "avg_FDR = NULL\n",
    "for (i in 1:length(files)){\n",
    "    sim_file = files[i]\n",
    "    load(sim_file, dat <- new.env())\n",
    "    sub = dat$sim_array[[i]]\n",
    "    p = sub$p # take true values from 1st replicate of each simulated data\n",
    "    coef = sub$beta\n",
    "    coef.true = which(coef != 0)\n",
    "    \n",
    "    tt = results_toe_elnet[[i]]$Stab.table\n",
    "    \n",
    "    FDR = NULL\n",
    "    for (r in 1:nrow(tt)){\n",
    "        FDR = c(FDR, length(setdiff(which(tt[r, ] !=0), coef.true))/sum(tt[r, ]))\n",
    "\n",
    "    }\n",
    "    \n",
    "    avg_FDR = c(avg_FDR, mean(FDR, na.rm=T))\n",
    "}"
   ]
  },
  {
   "cell_type": "code",
   "execution_count": 4,
   "metadata": {},
   "outputs": [],
   "source": [
    "table_toe = NULL\n",
    "tmp_num_select = rep(0, length(results_toe_elnet))\n",
    "for (i in 1:length(results_toe_elnet)){\n",
    "    table_toe = rbind(table_toe, results_toe_elnet[[i]][c('n', 'p', 'rou', 'FP', 'FN', 'MSE', 'Stab')])\n",
    "    tmp_num_select[i] = mean(rowSums(results_toe_elnet[[i]]$Stab.table))\n",
    "    \n",
    "}\n",
    "table_toe = as.data.frame(table_toe)\n",
    "table_toe$num_select = tmp_num_select\n",
    "table_toe$FDR = round(avg_FDR,2)"
   ]
  },
  {
   "cell_type": "code",
   "execution_count": 5,
   "metadata": {},
   "outputs": [
    {
     "data": {
      "text/html": [
       "<table>\n",
       "<thead><tr><th scope=col>n</th><th scope=col>p</th><th scope=col>rou</th><th scope=col>FP</th><th scope=col>FN</th><th scope=col>MSE</th><th scope=col>Stab</th><th scope=col>num_select</th><th scope=col>FDR</th></tr></thead>\n",
       "<tbody>\n",
       "\t<tr><td>50            </td><td>50            </td><td>0.1           </td><td>14.72 ( 0.57 )</td><td>0.01 ( 0.01 ) </td><td>0.6 ( 0.03 )  </td><td>0.21          </td><td>19.71         </td><td>0.67          </td></tr>\n",
       "\t<tr><td>100          </td><td>50           </td><td>0.1          </td><td>13.7 ( 0.66 )</td><td>0 ( 0 )      </td><td>0.34 ( 0.01 )</td><td>0.23         </td><td>18.70        </td><td>0.64         </td></tr>\n",
       "\t<tr><td>500           </td><td>50            </td><td>0.1           </td><td>13.59 ( 0.55 )</td><td>0 ( 0 )       </td><td>0.26 ( 0 )    </td><td>0.23          </td><td>18.59         </td><td>0.65          </td></tr>\n",
       "\t<tr><td>1000          </td><td>50            </td><td>0.1           </td><td>12.64 ( 0.54 )</td><td>0 ( 0 )       </td><td>0.26 ( 0 )    </td><td>0.25          </td><td>17.64         </td><td>0.63          </td></tr>\n",
       "\t<tr><td>50            </td><td>100           </td><td>0.1           </td><td>19.33 ( 0.67 )</td><td>0 ( 0 )       </td><td>0.69 ( 0.05 ) </td><td>0.2           </td><td>24.33         </td><td>0.73          </td></tr>\n",
       "\t<tr><td>100          </td><td>100          </td><td>0.1          </td><td>17.77 ( 0.8 )</td><td>0 ( 0 )      </td><td>0.38 ( 0.01 )</td><td>0.22         </td><td>22.77        </td><td>0.70         </td></tr>\n",
       "</tbody>\n",
       "</table>\n"
      ],
      "text/latex": [
       "\\begin{tabular}{r|lllllllll}\n",
       " n & p & rou & FP & FN & MSE & Stab & num\\_select & FDR\\\\\n",
       "\\hline\n",
       "\t 50             & 50             & 0.1            & 14.72 ( 0.57 ) & 0.01 ( 0.01 )  & 0.6 ( 0.03 )   & 0.21           & 19.71          & 0.67          \\\\\n",
       "\t 100           & 50            & 0.1           & 13.7 ( 0.66 ) & 0 ( 0 )       & 0.34 ( 0.01 ) & 0.23          & 18.70         & 0.64         \\\\\n",
       "\t 500            & 50             & 0.1            & 13.59 ( 0.55 ) & 0 ( 0 )        & 0.26 ( 0 )     & 0.23           & 18.59          & 0.65          \\\\\n",
       "\t 1000           & 50             & 0.1            & 12.64 ( 0.54 ) & 0 ( 0 )        & 0.26 ( 0 )     & 0.25           & 17.64          & 0.63          \\\\\n",
       "\t 50             & 100            & 0.1            & 19.33 ( 0.67 ) & 0 ( 0 )        & 0.69 ( 0.05 )  & 0.2            & 24.33          & 0.73          \\\\\n",
       "\t 100           & 100           & 0.1           & 17.77 ( 0.8 ) & 0 ( 0 )       & 0.38 ( 0.01 ) & 0.22          & 22.77         & 0.70         \\\\\n",
       "\\end{tabular}\n"
      ],
      "text/markdown": [
       "\n",
       "| n | p | rou | FP | FN | MSE | Stab | num_select | FDR |\n",
       "|---|---|---|---|---|---|---|---|---|\n",
       "| 50             | 50             | 0.1            | 14.72 ( 0.57 ) | 0.01 ( 0.01 )  | 0.6 ( 0.03 )   | 0.21           | 19.71          | 0.67           |\n",
       "| 100           | 50            | 0.1           | 13.7 ( 0.66 ) | 0 ( 0 )       | 0.34 ( 0.01 ) | 0.23          | 18.70         | 0.64          |\n",
       "| 500            | 50             | 0.1            | 13.59 ( 0.55 ) | 0 ( 0 )        | 0.26 ( 0 )     | 0.23           | 18.59          | 0.65           |\n",
       "| 1000           | 50             | 0.1            | 12.64 ( 0.54 ) | 0 ( 0 )        | 0.26 ( 0 )     | 0.25           | 17.64          | 0.63           |\n",
       "| 50             | 100            | 0.1            | 19.33 ( 0.67 ) | 0 ( 0 )        | 0.69 ( 0.05 )  | 0.2            | 24.33          | 0.73           |\n",
       "| 100           | 100           | 0.1           | 17.77 ( 0.8 ) | 0 ( 0 )       | 0.38 ( 0.01 ) | 0.22          | 22.77         | 0.70          |\n",
       "\n"
      ],
      "text/plain": [
       "  n    p   rou FP             FN            MSE           Stab num_select FDR \n",
       "1 50   50  0.1 14.72 ( 0.57 ) 0.01 ( 0.01 ) 0.6 ( 0.03 )  0.21 19.71      0.67\n",
       "2 100  50  0.1 13.7 ( 0.66 )  0 ( 0 )       0.34 ( 0.01 ) 0.23 18.70      0.64\n",
       "3 500  50  0.1 13.59 ( 0.55 ) 0 ( 0 )       0.26 ( 0 )    0.23 18.59      0.65\n",
       "4 1000 50  0.1 12.64 ( 0.54 ) 0 ( 0 )       0.26 ( 0 )    0.25 17.64      0.63\n",
       "5 50   100 0.1 19.33 ( 0.67 ) 0 ( 0 )       0.69 ( 0.05 ) 0.2  24.33      0.73\n",
       "6 100  100 0.1 17.77 ( 0.8 )  0 ( 0 )       0.38 ( 0.01 ) 0.22 22.77      0.70"
      ]
     },
     "metadata": {},
     "output_type": "display_data"
    }
   ],
   "source": [
    "head(table_toe)"
   ]
  },
  {
   "cell_type": "code",
   "execution_count": 6,
   "metadata": {},
   "outputs": [
    {
     "name": "stderr",
     "output_type": "stream",
     "text": [
      "extract_numeric() is deprecated: please use readr::parse_number() instead\n",
      "extract_numeric() is deprecated: please use readr::parse_number() instead\n"
     ]
    }
   ],
   "source": [
    "# export result\n",
    "result.table_toe <- apply(table_toe,2,as.character)\n",
    "rownames(result.table_toe) = rownames(table_toe)\n",
    "result.table_toe = as.data.frame(result.table_toe)\n",
    "\n",
    "# extract numbers only for 'n' & 'p'\n",
    "result.table_toe$n = tidyr::extract_numeric(result.table_toe$n)\n",
    "result.table_toe$p = tidyr::extract_numeric(result.table_toe$p)\n",
    "result.table_toe$ratio = result.table_toe$p / result.table_toe$n\n",
    "\n",
    "result.table_toe = result.table_toe[c('n', 'p', 'rou', 'ratio', 'Stab', 'MSE', 'FP', 'FN', 'num_select', 'FDR')]\n",
    "colnames(result.table_toe)[1:4] = c('N', 'P', 'Corr', 'Ratio')"
   ]
  },
  {
   "cell_type": "code",
   "execution_count": 7,
   "metadata": {},
   "outputs": [
    {
     "name": "stderr",
     "output_type": "stream",
     "text": [
      "Warning message in eval(expr, envir, enclos):\n",
      "“NAs introduced by coercion”Warning message in eval(expr, envir, enclos):\n",
      "“NAs introduced by coercion”"
     ]
    }
   ],
   "source": [
    "# convert interested measurements to be numeric\n",
    "result.table_toe$Stab = as.numeric(as.character(result.table_toe$Stab))\n",
    "result.table_toe$MSE_mean = as.numeric(substr(result.table_toe$MSE, start=1, stop=4))\n",
    "result.table_toe$FP_mean = as.numeric(substr(result.table_toe$FP, start=1, stop=4))\n",
    "result.table_toe$FN_mean = as.numeric(substr(result.table_toe$FN, start=1, stop=4))\n",
    "result.table_toe$FN_mean[is.na(result.table_toe$FN_mean)] = 0\n",
    "result.table_toe$num_select = as.numeric(as.character(result.table_toe$num_select))"
   ]
  },
  {
   "cell_type": "code",
   "execution_count": 8,
   "metadata": {},
   "outputs": [
    {
     "data": {
      "text/html": [
       "<table>\n",
       "<thead><tr><th></th><th scope=col>N</th><th scope=col>P</th><th scope=col>Corr</th><th scope=col>Ratio</th><th scope=col>Stab</th><th scope=col>MSE</th><th scope=col>FP</th><th scope=col>FN</th><th scope=col>num_select</th><th scope=col>FDR</th><th scope=col>MSE_mean</th><th scope=col>FP_mean</th><th scope=col>FN_mean</th></tr></thead>\n",
       "<tbody>\n",
       "\t<tr><th scope=row>24</th><td>1000         </td><td>100          </td><td>0.3          </td><td>0.1          </td><td>0.20         </td><td>0.26 ( 0 )   </td><td>19 ( 0.86 )  </td><td>0 ( 0 )      </td><td>24.00        </td><td>0.71         </td><td>0.26         </td><td>NA           </td><td>0.00         </td></tr>\n",
       "\t<tr><th scope=row>66</th><td> 100         </td><td> 50          </td><td>0.9          </td><td>0.5          </td><td>0.21         </td><td>0.35 ( 0.01 )</td><td>14 ( 0.69 )  </td><td>0.27 ( 0.06 )</td><td>18.73        </td><td>0.66         </td><td>0.35         </td><td>NA           </td><td>0.27         </td></tr>\n",
       "</tbody>\n",
       "</table>\n"
      ],
      "text/latex": [
       "\\begin{tabular}{r|lllllllllllll}\n",
       "  & N & P & Corr & Ratio & Stab & MSE & FP & FN & num\\_select & FDR & MSE\\_mean & FP\\_mean & FN\\_mean\\\\\n",
       "\\hline\n",
       "\t24 & 1000          & 100           & 0.3           & 0.1           & 0.20          & 0.26 ( 0 )    & 19 ( 0.86 )   & 0 ( 0 )       & 24.00         & 0.71          & 0.26          & NA            & 0.00         \\\\\n",
       "\t66 &  100          &  50           & 0.9           & 0.5           & 0.21          & 0.35 ( 0.01 ) & 14 ( 0.69 )   & 0.27 ( 0.06 ) & 18.73         & 0.66          & 0.35          & NA            & 0.27         \\\\\n",
       "\\end{tabular}\n"
      ],
      "text/markdown": [
       "\n",
       "| <!--/--> | N | P | Corr | Ratio | Stab | MSE | FP | FN | num_select | FDR | MSE_mean | FP_mean | FN_mean |\n",
       "|---|---|---|---|---|---|---|---|---|---|---|---|---|---|\n",
       "| 24 | 1000          | 100           | 0.3           | 0.1           | 0.20          | 0.26 ( 0 )    | 19 ( 0.86 )   | 0 ( 0 )       | 24.00         | 0.71          | 0.26          | NA            | 0.00          |\n",
       "| 66 |  100          |  50           | 0.9           | 0.5           | 0.21          | 0.35 ( 0.01 ) | 14 ( 0.69 )   | 0.27 ( 0.06 ) | 18.73         | 0.66          | 0.35          | NA            | 0.27          |\n",
       "\n"
      ],
      "text/plain": [
       "   N    P   Corr Ratio Stab MSE           FP          FN            num_select\n",
       "24 1000 100 0.3  0.1   0.20 0.26 ( 0 )    19 ( 0.86 ) 0 ( 0 )       24.00     \n",
       "66  100  50 0.9  0.5   0.21 0.35 ( 0.01 ) 14 ( 0.69 ) 0.27 ( 0.06 ) 18.73     \n",
       "   FDR  MSE_mean FP_mean FN_mean\n",
       "24 0.71 0.26     NA      0.00   \n",
       "66 0.66 0.35     NA      0.27   "
      ]
     },
     "metadata": {},
     "output_type": "display_data"
    }
   ],
   "source": [
    "# check whether missing values exists\n",
    "result.table_toe[rowSums(is.na(result.table_toe)) > 0,]"
   ]
  },
  {
   "cell_type": "code",
   "execution_count": 9,
   "metadata": {},
   "outputs": [],
   "source": [
    "# recover values\n",
    "result.table_toe$FP_mean[24] = 19\n",
    "result.table_toe$FP_mean[66] = 14"
   ]
  },
  {
   "cell_type": "code",
   "execution_count": 10,
   "metadata": {},
   "outputs": [
    {
     "data": {
      "text/html": [
       "<table>\n",
       "<thead><tr><th></th><th scope=col>N</th><th scope=col>P</th><th scope=col>Corr</th><th scope=col>Ratio</th><th scope=col>Stab</th><th scope=col>MSE</th><th scope=col>FP</th><th scope=col>FN</th><th scope=col>num_select</th><th scope=col>FDR</th><th scope=col>MSE_mean</th><th scope=col>FP_mean</th><th scope=col>FN_mean</th></tr></thead>\n",
       "<tbody>\n",
       "\t<tr><th scope=row>24</th><td>1000         </td><td>100          </td><td>0.3          </td><td>0.1          </td><td>0.20         </td><td>0.26 ( 0 )   </td><td>19 ( 0.86 )  </td><td>0 ( 0 )      </td><td>24.00        </td><td>0.71         </td><td>0.26         </td><td>19           </td><td>0.00         </td></tr>\n",
       "\t<tr><th scope=row>66</th><td> 100         </td><td> 50          </td><td>0.9          </td><td>0.5          </td><td>0.21         </td><td>0.35 ( 0.01 )</td><td>14 ( 0.69 )  </td><td>0.27 ( 0.06 )</td><td>18.73        </td><td>0.66         </td><td>0.35         </td><td>14           </td><td>0.27         </td></tr>\n",
       "</tbody>\n",
       "</table>\n"
      ],
      "text/latex": [
       "\\begin{tabular}{r|lllllllllllll}\n",
       "  & N & P & Corr & Ratio & Stab & MSE & FP & FN & num\\_select & FDR & MSE\\_mean & FP\\_mean & FN\\_mean\\\\\n",
       "\\hline\n",
       "\t24 & 1000          & 100           & 0.3           & 0.1           & 0.20          & 0.26 ( 0 )    & 19 ( 0.86 )   & 0 ( 0 )       & 24.00         & 0.71          & 0.26          & 19            & 0.00         \\\\\n",
       "\t66 &  100          &  50           & 0.9           & 0.5           & 0.21          & 0.35 ( 0.01 ) & 14 ( 0.69 )   & 0.27 ( 0.06 ) & 18.73         & 0.66          & 0.35          & 14            & 0.27         \\\\\n",
       "\\end{tabular}\n"
      ],
      "text/markdown": [
       "\n",
       "| <!--/--> | N | P | Corr | Ratio | Stab | MSE | FP | FN | num_select | FDR | MSE_mean | FP_mean | FN_mean |\n",
       "|---|---|---|---|---|---|---|---|---|---|---|---|---|---|\n",
       "| 24 | 1000          | 100           | 0.3           | 0.1           | 0.20          | 0.26 ( 0 )    | 19 ( 0.86 )   | 0 ( 0 )       | 24.00         | 0.71          | 0.26          | 19            | 0.00          |\n",
       "| 66 |  100          |  50           | 0.9           | 0.5           | 0.21          | 0.35 ( 0.01 ) | 14 ( 0.69 )   | 0.27 ( 0.06 ) | 18.73         | 0.66          | 0.35          | 14            | 0.27          |\n",
       "\n"
      ],
      "text/plain": [
       "   N    P   Corr Ratio Stab MSE           FP          FN            num_select\n",
       "24 1000 100 0.3  0.1   0.20 0.26 ( 0 )    19 ( 0.86 ) 0 ( 0 )       24.00     \n",
       "66  100  50 0.9  0.5   0.21 0.35 ( 0.01 ) 14 ( 0.69 ) 0.27 ( 0.06 ) 18.73     \n",
       "   FDR  MSE_mean FP_mean FN_mean\n",
       "24 0.71 0.26     19      0.00   \n",
       "66 0.66 0.35     14      0.27   "
      ]
     },
     "metadata": {},
     "output_type": "display_data"
    }
   ],
   "source": [
    "result.table_toe[c(24, 66), ]"
   ]
  },
  {
   "cell_type": "code",
   "execution_count": 11,
   "metadata": {},
   "outputs": [
    {
     "data": {
      "text/html": [
       "<table>\n",
       "<thead><tr><th scope=col>N</th><th scope=col>P</th><th scope=col>Corr</th><th scope=col>Ratio</th><th scope=col>Stab</th><th scope=col>MSE</th><th scope=col>FP</th><th scope=col>FN</th><th scope=col>num_select</th><th scope=col>FDR</th><th scope=col>MSE_mean</th><th scope=col>FP_mean</th><th scope=col>FN_mean</th></tr></thead>\n",
       "<tbody>\n",
       "\t<tr><td>  50          </td><td> 50           </td><td>0.1           </td><td>1.00          </td><td>0.21          </td><td>0.6 ( 0.03 )  </td><td>14.72 ( 0.57 )</td><td>0.01 ( 0.01 ) </td><td>19.71         </td><td>0.67          </td><td>0.60          </td><td>14.7          </td><td>0.01          </td></tr>\n",
       "\t<tr><td> 100          </td><td> 50           </td><td>0.1           </td><td>0.50          </td><td>0.23          </td><td>0.34 ( 0.01 ) </td><td>13.7 ( 0.66 ) </td><td>0 ( 0 )       </td><td>18.70         </td><td>0.64          </td><td>0.34          </td><td>13.7          </td><td>0.00          </td></tr>\n",
       "\t<tr><td> 500          </td><td> 50           </td><td>0.1           </td><td>0.10          </td><td>0.23          </td><td>0.26 ( 0 )    </td><td>13.59 ( 0.55 )</td><td>0 ( 0 )       </td><td>18.59         </td><td>0.65          </td><td>0.26          </td><td>13.5          </td><td>0.00          </td></tr>\n",
       "\t<tr><td>1000          </td><td> 50           </td><td>0.1           </td><td>0.05          </td><td>0.25          </td><td>0.26 ( 0 )    </td><td>12.64 ( 0.54 )</td><td>0 ( 0 )       </td><td>17.64         </td><td>0.63          </td><td>0.26          </td><td>12.6          </td><td>0.00          </td></tr>\n",
       "\t<tr><td>  50          </td><td>100           </td><td>0.1           </td><td>2.00          </td><td>0.20          </td><td>0.69 ( 0.05 ) </td><td>19.33 ( 0.67 )</td><td>0 ( 0 )       </td><td>24.33         </td><td>0.73          </td><td>0.69          </td><td>19.3          </td><td>0.00          </td></tr>\n",
       "\t<tr><td> 100          </td><td>100           </td><td>0.1           </td><td>1.00          </td><td>0.22          </td><td>0.38 ( 0.01 ) </td><td>17.77 ( 0.8 ) </td><td>0 ( 0 )       </td><td>22.77         </td><td>0.7           </td><td>0.38          </td><td>17.7          </td><td>0.00          </td></tr>\n",
       "</tbody>\n",
       "</table>\n"
      ],
      "text/latex": [
       "\\begin{tabular}{r|lllllllllllll}\n",
       " N & P & Corr & Ratio & Stab & MSE & FP & FN & num\\_select & FDR & MSE\\_mean & FP\\_mean & FN\\_mean\\\\\n",
       "\\hline\n",
       "\t   50           &  50            & 0.1            & 1.00           & 0.21           & 0.6 ( 0.03 )   & 14.72 ( 0.57 ) & 0.01 ( 0.01 )  & 19.71          & 0.67           & 0.60           & 14.7           & 0.01          \\\\\n",
       "\t  100           &  50            & 0.1            & 0.50           & 0.23           & 0.34 ( 0.01 )  & 13.7 ( 0.66 )  & 0 ( 0 )        & 18.70          & 0.64           & 0.34           & 13.7           & 0.00          \\\\\n",
       "\t  500           &  50            & 0.1            & 0.10           & 0.23           & 0.26 ( 0 )     & 13.59 ( 0.55 ) & 0 ( 0 )        & 18.59          & 0.65           & 0.26           & 13.5           & 0.00          \\\\\n",
       "\t 1000           &  50            & 0.1            & 0.05           & 0.25           & 0.26 ( 0 )     & 12.64 ( 0.54 ) & 0 ( 0 )        & 17.64          & 0.63           & 0.26           & 12.6           & 0.00          \\\\\n",
       "\t   50           & 100            & 0.1            & 2.00           & 0.20           & 0.69 ( 0.05 )  & 19.33 ( 0.67 ) & 0 ( 0 )        & 24.33          & 0.73           & 0.69           & 19.3           & 0.00          \\\\\n",
       "\t  100           & 100            & 0.1            & 1.00           & 0.22           & 0.38 ( 0.01 )  & 17.77 ( 0.8 )  & 0 ( 0 )        & 22.77          & 0.7            & 0.38           & 17.7           & 0.00          \\\\\n",
       "\\end{tabular}\n"
      ],
      "text/markdown": [
       "\n",
       "| N | P | Corr | Ratio | Stab | MSE | FP | FN | num_select | FDR | MSE_mean | FP_mean | FN_mean |\n",
       "|---|---|---|---|---|---|---|---|---|---|---|---|---|\n",
       "|   50           |  50            | 0.1            | 1.00           | 0.21           | 0.6 ( 0.03 )   | 14.72 ( 0.57 ) | 0.01 ( 0.01 )  | 19.71          | 0.67           | 0.60           | 14.7           | 0.01           |\n",
       "|  100           |  50            | 0.1            | 0.50           | 0.23           | 0.34 ( 0.01 )  | 13.7 ( 0.66 )  | 0 ( 0 )        | 18.70          | 0.64           | 0.34           | 13.7           | 0.00           |\n",
       "|  500           |  50            | 0.1            | 0.10           | 0.23           | 0.26 ( 0 )     | 13.59 ( 0.55 ) | 0 ( 0 )        | 18.59          | 0.65           | 0.26           | 13.5           | 0.00           |\n",
       "| 1000           |  50            | 0.1            | 0.05           | 0.25           | 0.26 ( 0 )     | 12.64 ( 0.54 ) | 0 ( 0 )        | 17.64          | 0.63           | 0.26           | 12.6           | 0.00           |\n",
       "|   50           | 100            | 0.1            | 2.00           | 0.20           | 0.69 ( 0.05 )  | 19.33 ( 0.67 ) | 0 ( 0 )        | 24.33          | 0.73           | 0.69           | 19.3           | 0.00           |\n",
       "|  100           | 100            | 0.1            | 1.00           | 0.22           | 0.38 ( 0.01 )  | 17.77 ( 0.8 )  | 0 ( 0 )        | 22.77          | 0.7            | 0.38           | 17.7           | 0.00           |\n",
       "\n"
      ],
      "text/plain": [
       "  N    P   Corr Ratio Stab MSE           FP             FN           \n",
       "1   50  50 0.1  1.00  0.21 0.6 ( 0.03 )  14.72 ( 0.57 ) 0.01 ( 0.01 )\n",
       "2  100  50 0.1  0.50  0.23 0.34 ( 0.01 ) 13.7 ( 0.66 )  0 ( 0 )      \n",
       "3  500  50 0.1  0.10  0.23 0.26 ( 0 )    13.59 ( 0.55 ) 0 ( 0 )      \n",
       "4 1000  50 0.1  0.05  0.25 0.26 ( 0 )    12.64 ( 0.54 ) 0 ( 0 )      \n",
       "5   50 100 0.1  2.00  0.20 0.69 ( 0.05 ) 19.33 ( 0.67 ) 0 ( 0 )      \n",
       "6  100 100 0.1  1.00  0.22 0.38 ( 0.01 ) 17.77 ( 0.8 )  0 ( 0 )      \n",
       "  num_select FDR  MSE_mean FP_mean FN_mean\n",
       "1 19.71      0.67 0.60     14.7    0.01   \n",
       "2 18.70      0.64 0.34     13.7    0.00   \n",
       "3 18.59      0.65 0.26     13.5    0.00   \n",
       "4 17.64      0.63 0.26     12.6    0.00   \n",
       "5 24.33      0.73 0.69     19.3    0.00   \n",
       "6 22.77      0.7  0.38     17.7    0.00   "
      ]
     },
     "metadata": {},
     "output_type": "display_data"
    }
   ],
   "source": [
    "head(result.table_toe)"
   ]
  },
  {
   "cell_type": "code",
   "execution_count": 12,
   "metadata": {},
   "outputs": [
    {
     "data": {
      "text/html": [
       "<table>\n",
       "<thead><tr><th></th><th scope=col>N</th><th scope=col>P</th><th scope=col>Corr</th><th scope=col>Ratio</th><th scope=col>Stab</th><th scope=col>MSE</th><th scope=col>FP</th><th scope=col>FN</th><th scope=col>num_select</th><th scope=col>FDR</th><th scope=col>MSE_mean</th><th scope=col>FP_mean</th><th scope=col>FN_mean</th></tr></thead>\n",
       "<tbody>\n",
       "\t<tr><th scope=row>75</th><td> 500          </td><td> 500          </td><td>0.9           </td><td> 1.0          </td><td>0.12          </td><td>0.29 ( 0 )    </td><td>41.14 ( 1.02 )</td><td>0 ( 0 )       </td><td>46.14         </td><td>0.86          </td><td>0.29          </td><td>41.1          </td><td>0.00          </td></tr>\n",
       "\t<tr><th scope=row>76</th><td>1000          </td><td> 500          </td><td>0.9           </td><td> 0.5          </td><td>0.13          </td><td>0.27 ( 0 )    </td><td>39.21 ( 0.84 )</td><td>0 ( 0 )       </td><td>44.21         </td><td>0.86          </td><td>0.27          </td><td>39.2          </td><td>0.00          </td></tr>\n",
       "\t<tr><th scope=row>77</th><td>  50          </td><td>1000          </td><td>0.9           </td><td>20.0          </td><td>0.04          </td><td>0.94 ( 0.05 ) </td><td>36.59 ( 3.6 ) </td><td>3.72 ( 0.08 ) </td><td>37.87         </td><td>0.92          </td><td>0.94          </td><td>36.5          </td><td>3.72          </td></tr>\n",
       "\t<tr><th scope=row>78</th><td> 100          </td><td>1000          </td><td>0.9           </td><td>10.0          </td><td>0.09          </td><td>0.59 ( 0.02 ) </td><td>32.05 ( 1.85 )</td><td>2.59 ( 0.06 ) </td><td>34.46         </td><td>0.88          </td><td>0.59          </td><td>32.0          </td><td>2.59          </td></tr>\n",
       "\t<tr><th scope=row>79</th><td> 500          </td><td>1000          </td><td>0.9           </td><td> 2.0          </td><td>0.09          </td><td>0.3 ( 0 )     </td><td>57.69 ( 1.57 )</td><td>0 ( 0 )       </td><td>62.69         </td><td>0.9           </td><td>0.30          </td><td>57.6          </td><td>0.00          </td></tr>\n",
       "\t<tr><th scope=row>80</th><td>1000          </td><td>1000          </td><td>0.9           </td><td> 1.0          </td><td>0.10          </td><td>0.27 ( 0 )    </td><td>52.35 ( 1.6 ) </td><td>0 ( 0 )       </td><td>57.35         </td><td>0.89          </td><td>0.27          </td><td>52.3          </td><td>0.00          </td></tr>\n",
       "</tbody>\n",
       "</table>\n"
      ],
      "text/latex": [
       "\\begin{tabular}{r|lllllllllllll}\n",
       "  & N & P & Corr & Ratio & Stab & MSE & FP & FN & num\\_select & FDR & MSE\\_mean & FP\\_mean & FN\\_mean\\\\\n",
       "\\hline\n",
       "\t75 &  500           &  500           & 0.9            &  1.0           & 0.12           & 0.29 ( 0 )     & 41.14 ( 1.02 ) & 0 ( 0 )        & 46.14          & 0.86           & 0.29           & 41.1           & 0.00          \\\\\n",
       "\t76 & 1000           &  500           & 0.9            &  0.5           & 0.13           & 0.27 ( 0 )     & 39.21 ( 0.84 ) & 0 ( 0 )        & 44.21          & 0.86           & 0.27           & 39.2           & 0.00          \\\\\n",
       "\t77 &   50           & 1000           & 0.9            & 20.0           & 0.04           & 0.94 ( 0.05 )  & 36.59 ( 3.6 )  & 3.72 ( 0.08 )  & 37.87          & 0.92           & 0.94           & 36.5           & 3.72          \\\\\n",
       "\t78 &  100           & 1000           & 0.9            & 10.0           & 0.09           & 0.59 ( 0.02 )  & 32.05 ( 1.85 ) & 2.59 ( 0.06 )  & 34.46          & 0.88           & 0.59           & 32.0           & 2.59          \\\\\n",
       "\t79 &  500           & 1000           & 0.9            &  2.0           & 0.09           & 0.3 ( 0 )      & 57.69 ( 1.57 ) & 0 ( 0 )        & 62.69          & 0.9            & 0.30           & 57.6           & 0.00          \\\\\n",
       "\t80 & 1000           & 1000           & 0.9            &  1.0           & 0.10           & 0.27 ( 0 )     & 52.35 ( 1.6 )  & 0 ( 0 )        & 57.35          & 0.89           & 0.27           & 52.3           & 0.00          \\\\\n",
       "\\end{tabular}\n"
      ],
      "text/markdown": [
       "\n",
       "| <!--/--> | N | P | Corr | Ratio | Stab | MSE | FP | FN | num_select | FDR | MSE_mean | FP_mean | FN_mean |\n",
       "|---|---|---|---|---|---|---|---|---|---|---|---|---|---|\n",
       "| 75 |  500           |  500           | 0.9            |  1.0           | 0.12           | 0.29 ( 0 )     | 41.14 ( 1.02 ) | 0 ( 0 )        | 46.14          | 0.86           | 0.29           | 41.1           | 0.00           |\n",
       "| 76 | 1000           |  500           | 0.9            |  0.5           | 0.13           | 0.27 ( 0 )     | 39.21 ( 0.84 ) | 0 ( 0 )        | 44.21          | 0.86           | 0.27           | 39.2           | 0.00           |\n",
       "| 77 |   50           | 1000           | 0.9            | 20.0           | 0.04           | 0.94 ( 0.05 )  | 36.59 ( 3.6 )  | 3.72 ( 0.08 )  | 37.87          | 0.92           | 0.94           | 36.5           | 3.72           |\n",
       "| 78 |  100           | 1000           | 0.9            | 10.0           | 0.09           | 0.59 ( 0.02 )  | 32.05 ( 1.85 ) | 2.59 ( 0.06 )  | 34.46          | 0.88           | 0.59           | 32.0           | 2.59           |\n",
       "| 79 |  500           | 1000           | 0.9            |  2.0           | 0.09           | 0.3 ( 0 )      | 57.69 ( 1.57 ) | 0 ( 0 )        | 62.69          | 0.9            | 0.30           | 57.6           | 0.00           |\n",
       "| 80 | 1000           | 1000           | 0.9            |  1.0           | 0.10           | 0.27 ( 0 )     | 52.35 ( 1.6 )  | 0 ( 0 )        | 57.35          | 0.89           | 0.27           | 52.3           | 0.00           |\n",
       "\n"
      ],
      "text/plain": [
       "   N    P    Corr Ratio Stab MSE           FP             FN           \n",
       "75  500  500 0.9   1.0  0.12 0.29 ( 0 )    41.14 ( 1.02 ) 0 ( 0 )      \n",
       "76 1000  500 0.9   0.5  0.13 0.27 ( 0 )    39.21 ( 0.84 ) 0 ( 0 )      \n",
       "77   50 1000 0.9  20.0  0.04 0.94 ( 0.05 ) 36.59 ( 3.6 )  3.72 ( 0.08 )\n",
       "78  100 1000 0.9  10.0  0.09 0.59 ( 0.02 ) 32.05 ( 1.85 ) 2.59 ( 0.06 )\n",
       "79  500 1000 0.9   2.0  0.09 0.3 ( 0 )     57.69 ( 1.57 ) 0 ( 0 )      \n",
       "80 1000 1000 0.9   1.0  0.10 0.27 ( 0 )    52.35 ( 1.6 )  0 ( 0 )      \n",
       "   num_select FDR  MSE_mean FP_mean FN_mean\n",
       "75 46.14      0.86 0.29     41.1    0.00   \n",
       "76 44.21      0.86 0.27     39.2    0.00   \n",
       "77 37.87      0.92 0.94     36.5    3.72   \n",
       "78 34.46      0.88 0.59     32.0    2.59   \n",
       "79 62.69      0.9  0.30     57.6    0.00   \n",
       "80 57.35      0.89 0.27     52.3    0.00   "
      ]
     },
     "metadata": {},
     "output_type": "display_data"
    }
   ],
   "source": [
    "tail(result.table_toe)"
   ]
  },
  {
   "cell_type": "code",
   "execution_count": 13,
   "metadata": {},
   "outputs": [],
   "source": [
    "## export\n",
    "write.table(result.table_toe, '../results_summary_cts/sim_toe_elnet.txt', sep='\\t', row.names=F)"
   ]
  },
  {
   "cell_type": "code",
   "execution_count": null,
   "metadata": {},
   "outputs": [],
   "source": []
  }
 ],
 "metadata": {
  "kernelspec": {
   "display_name": "R",
   "language": "R",
   "name": "ir"
  },
  "language_info": {
   "codemirror_mode": "r",
   "file_extension": ".r",
   "mimetype": "text/x-r-source",
   "name": "R",
   "pygments_lexer": "r",
   "version": "3.6.1"
  }
 },
 "nbformat": 4,
 "nbformat_minor": 2
}
