{
 "cells": [
  {
   "cell_type": "markdown",
   "metadata": {},
   "source": [
    "### summarize lasso results on Block Simulation Scenarios for continuous outcome"
   ]
  },
  {
   "cell_type": "code",
   "execution_count": 1,
   "metadata": {},
   "outputs": [],
   "source": [
    "dir = '/panfs/panfs1.ucsd.edu/panscratch/lij014/Stability_2020/sim_data'\n",
    "\n",
    "load(paste0(dir, '/block_Lasso.RData'))"
   ]
  },
  {
   "cell_type": "code",
   "execution_count": 2,
   "metadata": {},
   "outputs": [],
   "source": [
    "dim.list = list()\n",
    "size = c(50, 100, 500, 1000)\n",
    "idx = 0\n",
    "for (P in size){\n",
    "    for (N in size){\n",
    "        idx = idx + 1\n",
    "        dim.list[[idx]] = c(P=P, N=N)\n",
    "    }\n",
    "}\n",
    "\n",
    "rou.list = seq(0.1, 0.9, 0.2)\n",
    "\n",
    "files = NULL\n",
    "for (rou in rou.list){\n",
    "  for (dim in dim.list){\n",
    "    p = dim[1]\n",
    "    n = dim[2]\n",
    "    files = cbind(files, paste0(dir, '/sim_block_corr', rou, paste('P', p, 'N', n, sep='_'), '.RData', sep=''))\n",
    "  }\n",
    "}"
   ]
  },
  {
   "cell_type": "code",
   "execution_count": 3,
   "metadata": {},
   "outputs": [],
   "source": [
    "avg_FDR = NULL\n",
    "for (i in 1:length(files)){\n",
    "    sim_file = files[i]\n",
    "    load(sim_file, dat <- new.env())\n",
    "    sub = dat$sim_array[[i]]\n",
    "    p = sub$p # take true values from 1st replicate of each simulated data\n",
    "    coef = sub$beta\n",
    "    coef.true = which(coef != 0)\n",
    "    \n",
    "    tt = results_block_lasso[[i]]$Stab.table\n",
    "    \n",
    "    FDR = NULL\n",
    "    for (r in 1:nrow(tt)){\n",
    "        FDR = c(FDR, length(setdiff(which(tt[r, ] !=0), coef.true))/sum(tt[r, ]))\n",
    "\n",
    "    }\n",
    "    \n",
    "    avg_FDR = c(avg_FDR, mean(FDR, na.rm=T))\n",
    "}"
   ]
  },
  {
   "cell_type": "code",
   "execution_count": 4,
   "metadata": {},
   "outputs": [],
   "source": [
    "table_block = NULL\n",
    "tmp_num_select = rep(0, length(results_block_lasso))\n",
    "for (i in 1:length(results_block_lasso)){\n",
    "    table_block = rbind(table_block, results_block_lasso[[i]][c('n', 'p', 'rou', 'FP', 'FN', 'MSE', 'Stab')])\n",
    "    tmp_num_select[i] = mean(rowSums(results_block_lasso[[i]]$Stab.table))\n",
    "    \n",
    "}\n",
    "table_block = as.data.frame(table_block)\n",
    "table_block$num_select = tmp_num_select\n",
    "table_block$FDR = round(avg_FDR,2)"
   ]
  },
  {
   "cell_type": "code",
   "execution_count": 7,
   "metadata": {},
   "outputs": [
    {
     "data": {
      "text/html": [
       "<table>\n",
       "<thead><tr><th scope=col>n</th><th scope=col>p</th><th scope=col>rou</th><th scope=col>FP</th><th scope=col>FN</th><th scope=col>MSE</th><th scope=col>Stab</th><th scope=col>num_select</th><th scope=col>FDR</th></tr></thead>\n",
       "<tbody>\n",
       "\t<tr><td>50           </td><td>50           </td><td>0.1          </td><td>3.52 ( 0.22 )</td><td>4.92 ( 0.08 )</td><td>0.36 ( 0.01 )</td><td>0.05         </td><td>3.60         </td><td>0.65         </td></tr>\n",
       "\t<tr><td>100          </td><td>50           </td><td>0.1          </td><td>2.71 ( 0.25 )</td><td>4.4 ( 0.1 )  </td><td>0.31 ( 0.01 )</td><td>0.18         </td><td>3.31         </td><td>0.42         </td></tr>\n",
       "\t<tr><td>500          </td><td>50           </td><td>0.1          </td><td>5.42 ( 0.25 )</td><td>1.97 ( 0.11 )</td><td>0.29 ( 0 )   </td><td>0.35         </td><td>8.45         </td><td>0.48         </td></tr>\n",
       "\t<tr><td>1000         </td><td>50           </td><td>0.1          </td><td>4.91 ( 0.2 ) </td><td>1.57 ( 0.09 )</td><td>0.28 ( 0 )   </td><td>0.44         </td><td>8.34         </td><td>0.44         </td></tr>\n",
       "\t<tr><td>50           </td><td>100          </td><td>0.1          </td><td>4.73 ( 0.22 )</td><td>4.79 ( 0.08 )</td><td>0.37 ( 0.02 )</td><td>0.06         </td><td>4.94         </td><td>0.72         </td></tr>\n",
       "\t<tr><td>100          </td><td>100          </td><td>0.1          </td><td>3 ( 0.15 )   </td><td>4.75 ( 0.09 )</td><td>0.34 ( 0.01 )</td><td>0.13         </td><td>3.25         </td><td>0.57         </td></tr>\n",
       "</tbody>\n",
       "</table>\n"
      ],
      "text/latex": [
       "\\begin{tabular}{r|lllllllll}\n",
       " n & p & rou & FP & FN & MSE & Stab & num\\_select & FDR\\\\\n",
       "\\hline\n",
       "\t 50            & 50            & 0.1           & 3.52 ( 0.22 ) & 4.92 ( 0.08 ) & 0.36 ( 0.01 ) & 0.05          & 3.60          & 0.65         \\\\\n",
       "\t 100           & 50            & 0.1           & 2.71 ( 0.25 ) & 4.4 ( 0.1 )   & 0.31 ( 0.01 ) & 0.18          & 3.31          & 0.42         \\\\\n",
       "\t 500           & 50            & 0.1           & 5.42 ( 0.25 ) & 1.97 ( 0.11 ) & 0.29 ( 0 )    & 0.35          & 8.45          & 0.48         \\\\\n",
       "\t 1000          & 50            & 0.1           & 4.91 ( 0.2 )  & 1.57 ( 0.09 ) & 0.28 ( 0 )    & 0.44          & 8.34          & 0.44         \\\\\n",
       "\t 50            & 100           & 0.1           & 4.73 ( 0.22 ) & 4.79 ( 0.08 ) & 0.37 ( 0.02 ) & 0.06          & 4.94          & 0.72         \\\\\n",
       "\t 100           & 100           & 0.1           & 3 ( 0.15 )    & 4.75 ( 0.09 ) & 0.34 ( 0.01 ) & 0.13          & 3.25          & 0.57         \\\\\n",
       "\\end{tabular}\n"
      ],
      "text/markdown": [
       "\n",
       "| n | p | rou | FP | FN | MSE | Stab | num_select | FDR |\n",
       "|---|---|---|---|---|---|---|---|---|\n",
       "| 50            | 50            | 0.1           | 3.52 ( 0.22 ) | 4.92 ( 0.08 ) | 0.36 ( 0.01 ) | 0.05          | 3.60          | 0.65          |\n",
       "| 100           | 50            | 0.1           | 2.71 ( 0.25 ) | 4.4 ( 0.1 )   | 0.31 ( 0.01 ) | 0.18          | 3.31          | 0.42          |\n",
       "| 500           | 50            | 0.1           | 5.42 ( 0.25 ) | 1.97 ( 0.11 ) | 0.29 ( 0 )    | 0.35          | 8.45          | 0.48          |\n",
       "| 1000          | 50            | 0.1           | 4.91 ( 0.2 )  | 1.57 ( 0.09 ) | 0.28 ( 0 )    | 0.44          | 8.34          | 0.44          |\n",
       "| 50            | 100           | 0.1           | 4.73 ( 0.22 ) | 4.79 ( 0.08 ) | 0.37 ( 0.02 ) | 0.06          | 4.94          | 0.72          |\n",
       "| 100           | 100           | 0.1           | 3 ( 0.15 )    | 4.75 ( 0.09 ) | 0.34 ( 0.01 ) | 0.13          | 3.25          | 0.57          |\n",
       "\n"
      ],
      "text/plain": [
       "  n    p   rou FP            FN            MSE           Stab num_select FDR \n",
       "1 50   50  0.1 3.52 ( 0.22 ) 4.92 ( 0.08 ) 0.36 ( 0.01 ) 0.05 3.60       0.65\n",
       "2 100  50  0.1 2.71 ( 0.25 ) 4.4 ( 0.1 )   0.31 ( 0.01 ) 0.18 3.31       0.42\n",
       "3 500  50  0.1 5.42 ( 0.25 ) 1.97 ( 0.11 ) 0.29 ( 0 )    0.35 8.45       0.48\n",
       "4 1000 50  0.1 4.91 ( 0.2 )  1.57 ( 0.09 ) 0.28 ( 0 )    0.44 8.34       0.44\n",
       "5 50   100 0.1 4.73 ( 0.22 ) 4.79 ( 0.08 ) 0.37 ( 0.02 ) 0.06 4.94       0.72\n",
       "6 100  100 0.1 3 ( 0.15 )    4.75 ( 0.09 ) 0.34 ( 0.01 ) 0.13 3.25       0.57"
      ]
     },
     "metadata": {},
     "output_type": "display_data"
    }
   ],
   "source": [
    "head(table_block)"
   ]
  },
  {
   "cell_type": "code",
   "execution_count": 8,
   "metadata": {},
   "outputs": [
    {
     "name": "stderr",
     "output_type": "stream",
     "text": [
      "extract_numeric() is deprecated: please use readr::parse_number() instead\n",
      "extract_numeric() is deprecated: please use readr::parse_number() instead\n"
     ]
    }
   ],
   "source": [
    "# export result\n",
    "result.table_block <- apply(table_block,2,as.character)\n",
    "rownames(result.table_block) = rownames(table_block)\n",
    "result.table_block = as.data.frame(result.table_block)\n",
    "\n",
    "# extract numbers only for 'n' & 'p'\n",
    "result.table_block$n = tidyr::extract_numeric(result.table_block$n)\n",
    "result.table_block$p = tidyr::extract_numeric(result.table_block$p)\n",
    "result.table_block$ratio = result.table_block$p / result.table_block$n\n",
    "\n",
    "result.table_block = result.table_block[c('n', 'p', 'rou', 'ratio', 'Stab', 'MSE', 'FP', 'FN', 'num_select', 'FDR')]\n",
    "colnames(result.table_block)[1:4] = c('N', 'P', 'Corr', 'Ratio')"
   ]
  },
  {
   "cell_type": "code",
   "execution_count": 9,
   "metadata": {},
   "outputs": [
    {
     "name": "stderr",
     "output_type": "stream",
     "text": [
      "Warning message in eval(expr, envir, enclos):\n",
      "“NAs introduced by coercion”Warning message in eval(expr, envir, enclos):\n",
      "“NAs introduced by coercion”"
     ]
    }
   ],
   "source": [
    "# convert interested measurements to be numeric\n",
    "result.table_block$Stab = as.numeric(as.character(result.table_block$Stab))\n",
    "result.table_block$MSE_mean = as.numeric(substr(result.table_block$MSE, start=1, stop=4))\n",
    "result.table_block$FP_mean = as.numeric(substr(result.table_block$FP, start=1, stop=4))\n",
    "result.table_block$FN_mean = as.numeric(substr(result.table_block$FN, start=1, stop=4))\n",
    "result.table_block$FN_mean[is.na(result.table_block$FN_mean)] = 0\n",
    "result.table_block$num_select = as.numeric(as.character(result.table_block$num_select))"
   ]
  },
  {
   "cell_type": "code",
   "execution_count": 10,
   "metadata": {},
   "outputs": [
    {
     "data": {
      "text/html": [
       "<table>\n",
       "<thead><tr><th></th><th scope=col>N</th><th scope=col>P</th><th scope=col>Corr</th><th scope=col>Ratio</th><th scope=col>Stab</th><th scope=col>MSE</th><th scope=col>FP</th><th scope=col>FN</th><th scope=col>num_select</th><th scope=col>FDR</th><th scope=col>MSE_mean</th><th scope=col>FP_mean</th><th scope=col>FN_mean</th></tr></thead>\n",
       "<tbody>\n",
       "\t<tr><th scope=row>6</th><td>100          </td><td>100          </td><td>0.1          </td><td>1            </td><td>0.13         </td><td>0.34 ( 0.01 )</td><td>3 ( 0.15 )   </td><td>4.75 ( 0.09 )</td><td>3.25         </td><td>0.57         </td><td>0.34         </td><td>NA           </td><td>4.75         </td></tr>\n",
       "</tbody>\n",
       "</table>\n"
      ],
      "text/latex": [
       "\\begin{tabular}{r|lllllllllllll}\n",
       "  & N & P & Corr & Ratio & Stab & MSE & FP & FN & num\\_select & FDR & MSE\\_mean & FP\\_mean & FN\\_mean\\\\\n",
       "\\hline\n",
       "\t6 & 100           & 100           & 0.1           & 1             & 0.13          & 0.34 ( 0.01 ) & 3 ( 0.15 )    & 4.75 ( 0.09 ) & 3.25          & 0.57          & 0.34          & NA            & 4.75         \\\\\n",
       "\\end{tabular}\n"
      ],
      "text/markdown": [
       "\n",
       "| <!--/--> | N | P | Corr | Ratio | Stab | MSE | FP | FN | num_select | FDR | MSE_mean | FP_mean | FN_mean |\n",
       "|---|---|---|---|---|---|---|---|---|---|---|---|---|---|\n",
       "| 6 | 100           | 100           | 0.1           | 1             | 0.13          | 0.34 ( 0.01 ) | 3 ( 0.15 )    | 4.75 ( 0.09 ) | 3.25          | 0.57          | 0.34          | NA            | 4.75          |\n",
       "\n"
      ],
      "text/plain": [
       "  N   P   Corr Ratio Stab MSE           FP         FN            num_select\n",
       "6 100 100 0.1  1     0.13 0.34 ( 0.01 ) 3 ( 0.15 ) 4.75 ( 0.09 ) 3.25      \n",
       "  FDR  MSE_mean FP_mean FN_mean\n",
       "6 0.57 0.34     NA      4.75   "
      ]
     },
     "metadata": {},
     "output_type": "display_data"
    }
   ],
   "source": [
    "# check whether missing values exists\n",
    "result.table_block[rowSums(is.na(result.table_block)) > 0,]"
   ]
  },
  {
   "cell_type": "code",
   "execution_count": 11,
   "metadata": {},
   "outputs": [],
   "source": [
    "# recover values\n",
    "result.table_block$FP_mean[is.na(result.table_block$FP_mean)] = 3"
   ]
  },
  {
   "cell_type": "code",
   "execution_count": 12,
   "metadata": {},
   "outputs": [
    {
     "data": {
      "text/html": [
       "<table>\n",
       "<thead><tr><th></th><th scope=col>N</th><th scope=col>P</th><th scope=col>Corr</th><th scope=col>Ratio</th><th scope=col>Stab</th><th scope=col>MSE</th><th scope=col>FP</th><th scope=col>FN</th><th scope=col>num_select</th><th scope=col>FDR</th><th scope=col>MSE_mean</th><th scope=col>FP_mean</th><th scope=col>FN_mean</th></tr></thead>\n",
       "<tbody>\n",
       "\t<tr><th scope=row>6</th><td>100          </td><td>100          </td><td>0.1          </td><td>1            </td><td>0.13         </td><td>0.34 ( 0.01 )</td><td>3 ( 0.15 )   </td><td>4.75 ( 0.09 )</td><td>3.25         </td><td>0.57         </td><td>0.34         </td><td>3            </td><td>4.75         </td></tr>\n",
       "</tbody>\n",
       "</table>\n"
      ],
      "text/latex": [
       "\\begin{tabular}{r|lllllllllllll}\n",
       "  & N & P & Corr & Ratio & Stab & MSE & FP & FN & num\\_select & FDR & MSE\\_mean & FP\\_mean & FN\\_mean\\\\\n",
       "\\hline\n",
       "\t6 & 100           & 100           & 0.1           & 1             & 0.13          & 0.34 ( 0.01 ) & 3 ( 0.15 )    & 4.75 ( 0.09 ) & 3.25          & 0.57          & 0.34          & 3             & 4.75         \\\\\n",
       "\\end{tabular}\n"
      ],
      "text/markdown": [
       "\n",
       "| <!--/--> | N | P | Corr | Ratio | Stab | MSE | FP | FN | num_select | FDR | MSE_mean | FP_mean | FN_mean |\n",
       "|---|---|---|---|---|---|---|---|---|---|---|---|---|---|\n",
       "| 6 | 100           | 100           | 0.1           | 1             | 0.13          | 0.34 ( 0.01 ) | 3 ( 0.15 )    | 4.75 ( 0.09 ) | 3.25          | 0.57          | 0.34          | 3             | 4.75          |\n",
       "\n"
      ],
      "text/plain": [
       "  N   P   Corr Ratio Stab MSE           FP         FN            num_select\n",
       "6 100 100 0.1  1     0.13 0.34 ( 0.01 ) 3 ( 0.15 ) 4.75 ( 0.09 ) 3.25      \n",
       "  FDR  MSE_mean FP_mean FN_mean\n",
       "6 0.57 0.34     3       4.75   "
      ]
     },
     "metadata": {},
     "output_type": "display_data"
    }
   ],
   "source": [
    "result.table_block[6, ]"
   ]
  },
  {
   "cell_type": "code",
   "execution_count": 13,
   "metadata": {},
   "outputs": [
    {
     "data": {
      "text/html": [
       "<table>\n",
       "<thead><tr><th scope=col>N</th><th scope=col>P</th><th scope=col>Corr</th><th scope=col>Ratio</th><th scope=col>Stab</th><th scope=col>MSE</th><th scope=col>FP</th><th scope=col>FN</th><th scope=col>num_select</th><th scope=col>FDR</th><th scope=col>MSE_mean</th><th scope=col>FP_mean</th><th scope=col>FN_mean</th></tr></thead>\n",
       "<tbody>\n",
       "\t<tr><td>  50         </td><td> 50          </td><td>0.1          </td><td>1.00         </td><td>0.05         </td><td>0.36 ( 0.01 )</td><td>3.52 ( 0.22 )</td><td>4.92 ( 0.08 )</td><td>3.60         </td><td>0.65         </td><td>0.36         </td><td>3.52         </td><td>4.92         </td></tr>\n",
       "\t<tr><td> 100         </td><td> 50          </td><td>0.1          </td><td>0.50         </td><td>0.18         </td><td>0.31 ( 0.01 )</td><td>2.71 ( 0.25 )</td><td>4.4 ( 0.1 )  </td><td>3.31         </td><td>0.42         </td><td>0.31         </td><td>2.71         </td><td>4.40         </td></tr>\n",
       "\t<tr><td> 500         </td><td> 50          </td><td>0.1          </td><td>0.10         </td><td>0.35         </td><td>0.29 ( 0 )   </td><td>5.42 ( 0.25 )</td><td>1.97 ( 0.11 )</td><td>8.45         </td><td>0.48         </td><td>0.29         </td><td>5.42         </td><td>1.97         </td></tr>\n",
       "\t<tr><td>1000         </td><td> 50          </td><td>0.1          </td><td>0.05         </td><td>0.44         </td><td>0.28 ( 0 )   </td><td>4.91 ( 0.2 ) </td><td>1.57 ( 0.09 )</td><td>8.34         </td><td>0.44         </td><td>0.28         </td><td>4.91         </td><td>1.57         </td></tr>\n",
       "\t<tr><td>  50         </td><td>100          </td><td>0.1          </td><td>2.00         </td><td>0.06         </td><td>0.37 ( 0.02 )</td><td>4.73 ( 0.22 )</td><td>4.79 ( 0.08 )</td><td>4.94         </td><td>0.72         </td><td>0.37         </td><td>4.73         </td><td>4.79         </td></tr>\n",
       "\t<tr><td> 100         </td><td>100          </td><td>0.1          </td><td>1.00         </td><td>0.13         </td><td>0.34 ( 0.01 )</td><td>3 ( 0.15 )   </td><td>4.75 ( 0.09 )</td><td>3.25         </td><td>0.57         </td><td>0.34         </td><td>3.00         </td><td>4.75         </td></tr>\n",
       "</tbody>\n",
       "</table>\n"
      ],
      "text/latex": [
       "\\begin{tabular}{r|lllllllllllll}\n",
       " N & P & Corr & Ratio & Stab & MSE & FP & FN & num\\_select & FDR & MSE\\_mean & FP\\_mean & FN\\_mean\\\\\n",
       "\\hline\n",
       "\t   50          &  50           & 0.1           & 1.00          & 0.05          & 0.36 ( 0.01 ) & 3.52 ( 0.22 ) & 4.92 ( 0.08 ) & 3.60          & 0.65          & 0.36          & 3.52          & 4.92         \\\\\n",
       "\t  100          &  50           & 0.1           & 0.50          & 0.18          & 0.31 ( 0.01 ) & 2.71 ( 0.25 ) & 4.4 ( 0.1 )   & 3.31          & 0.42          & 0.31          & 2.71          & 4.40         \\\\\n",
       "\t  500          &  50           & 0.1           & 0.10          & 0.35          & 0.29 ( 0 )    & 5.42 ( 0.25 ) & 1.97 ( 0.11 ) & 8.45          & 0.48          & 0.29          & 5.42          & 1.97         \\\\\n",
       "\t 1000          &  50           & 0.1           & 0.05          & 0.44          & 0.28 ( 0 )    & 4.91 ( 0.2 )  & 1.57 ( 0.09 ) & 8.34          & 0.44          & 0.28          & 4.91          & 1.57         \\\\\n",
       "\t   50          & 100           & 0.1           & 2.00          & 0.06          & 0.37 ( 0.02 ) & 4.73 ( 0.22 ) & 4.79 ( 0.08 ) & 4.94          & 0.72          & 0.37          & 4.73          & 4.79         \\\\\n",
       "\t  100          & 100           & 0.1           & 1.00          & 0.13          & 0.34 ( 0.01 ) & 3 ( 0.15 )    & 4.75 ( 0.09 ) & 3.25          & 0.57          & 0.34          & 3.00          & 4.75         \\\\\n",
       "\\end{tabular}\n"
      ],
      "text/markdown": [
       "\n",
       "| N | P | Corr | Ratio | Stab | MSE | FP | FN | num_select | FDR | MSE_mean | FP_mean | FN_mean |\n",
       "|---|---|---|---|---|---|---|---|---|---|---|---|---|\n",
       "|   50          |  50           | 0.1           | 1.00          | 0.05          | 0.36 ( 0.01 ) | 3.52 ( 0.22 ) | 4.92 ( 0.08 ) | 3.60          | 0.65          | 0.36          | 3.52          | 4.92          |\n",
       "|  100          |  50           | 0.1           | 0.50          | 0.18          | 0.31 ( 0.01 ) | 2.71 ( 0.25 ) | 4.4 ( 0.1 )   | 3.31          | 0.42          | 0.31          | 2.71          | 4.40          |\n",
       "|  500          |  50           | 0.1           | 0.10          | 0.35          | 0.29 ( 0 )    | 5.42 ( 0.25 ) | 1.97 ( 0.11 ) | 8.45          | 0.48          | 0.29          | 5.42          | 1.97          |\n",
       "| 1000          |  50           | 0.1           | 0.05          | 0.44          | 0.28 ( 0 )    | 4.91 ( 0.2 )  | 1.57 ( 0.09 ) | 8.34          | 0.44          | 0.28          | 4.91          | 1.57          |\n",
       "|   50          | 100           | 0.1           | 2.00          | 0.06          | 0.37 ( 0.02 ) | 4.73 ( 0.22 ) | 4.79 ( 0.08 ) | 4.94          | 0.72          | 0.37          | 4.73          | 4.79          |\n",
       "|  100          | 100           | 0.1           | 1.00          | 0.13          | 0.34 ( 0.01 ) | 3 ( 0.15 )    | 4.75 ( 0.09 ) | 3.25          | 0.57          | 0.34          | 3.00          | 4.75          |\n",
       "\n"
      ],
      "text/plain": [
       "  N    P   Corr Ratio Stab MSE           FP            FN            num_select\n",
       "1   50  50 0.1  1.00  0.05 0.36 ( 0.01 ) 3.52 ( 0.22 ) 4.92 ( 0.08 ) 3.60      \n",
       "2  100  50 0.1  0.50  0.18 0.31 ( 0.01 ) 2.71 ( 0.25 ) 4.4 ( 0.1 )   3.31      \n",
       "3  500  50 0.1  0.10  0.35 0.29 ( 0 )    5.42 ( 0.25 ) 1.97 ( 0.11 ) 8.45      \n",
       "4 1000  50 0.1  0.05  0.44 0.28 ( 0 )    4.91 ( 0.2 )  1.57 ( 0.09 ) 8.34      \n",
       "5   50 100 0.1  2.00  0.06 0.37 ( 0.02 ) 4.73 ( 0.22 ) 4.79 ( 0.08 ) 4.94      \n",
       "6  100 100 0.1  1.00  0.13 0.34 ( 0.01 ) 3 ( 0.15 )    4.75 ( 0.09 ) 3.25      \n",
       "  FDR  MSE_mean FP_mean FN_mean\n",
       "1 0.65 0.36     3.52    4.92   \n",
       "2 0.42 0.31     2.71    4.40   \n",
       "3 0.48 0.29     5.42    1.97   \n",
       "4 0.44 0.28     4.91    1.57   \n",
       "5 0.72 0.37     4.73    4.79   \n",
       "6 0.57 0.34     3.00    4.75   "
      ]
     },
     "metadata": {},
     "output_type": "display_data"
    }
   ],
   "source": [
    "head(result.table_block)"
   ]
  },
  {
   "cell_type": "code",
   "execution_count": 14,
   "metadata": {},
   "outputs": [
    {
     "data": {
      "text/html": [
       "<table>\n",
       "<thead><tr><th></th><th scope=col>N</th><th scope=col>P</th><th scope=col>Corr</th><th scope=col>Ratio</th><th scope=col>Stab</th><th scope=col>MSE</th><th scope=col>FP</th><th scope=col>FN</th><th scope=col>num_select</th><th scope=col>FDR</th><th scope=col>MSE_mean</th><th scope=col>FP_mean</th><th scope=col>FN_mean</th></tr></thead>\n",
       "<tbody>\n",
       "\t<tr><th scope=row>75</th><td> 500          </td><td> 500          </td><td>0.9           </td><td> 1.0          </td><td>0.50          </td><td>0.29 ( 0 )    </td><td>6.87 ( 0.54 ) </td><td>0 ( 0 )       </td><td>11.87         </td><td>0.41          </td><td>0.29          </td><td> 6.87         </td><td>0.00          </td></tr>\n",
       "\t<tr><th scope=row>76</th><td>1000          </td><td> 500          </td><td>0.9           </td><td> 0.5          </td><td>0.71          </td><td>0.27 ( 0 )    </td><td>3.37 ( 0.27 ) </td><td>0 ( 0 )       </td><td> 8.37         </td><td>0.23          </td><td>0.27          </td><td> 3.37         </td><td>0.00          </td></tr>\n",
       "\t<tr><th scope=row>77</th><td>  50          </td><td>1000          </td><td>0.9           </td><td>20.0          </td><td>0.11          </td><td>2.46 ( 0.16 ) </td><td>25.37 ( 0.35 )</td><td>1.73 ( 0.12 ) </td><td>28.64         </td><td>0.85          </td><td>2.46          </td><td>25.30         </td><td>1.73          </td></tr>\n",
       "\t<tr><th scope=row>78</th><td> 100          </td><td>1000          </td><td>0.9           </td><td>10.0          </td><td>0.22          </td><td>0.62 ( 0.03 ) </td><td>21.43 ( 0.62 )</td><td>0 ( 0 )       </td><td>26.43         </td><td>0.76          </td><td>0.62          </td><td>21.40         </td><td>0.00          </td></tr>\n",
       "\t<tr><th scope=row>79</th><td> 500          </td><td>1000          </td><td>0.9           </td><td> 2.0          </td><td>0.46          </td><td>0.3 ( 0 )     </td><td>7.99 ( 0.79 ) </td><td>0 ( 0 )       </td><td>12.99         </td><td>0.42          </td><td>0.30          </td><td> 7.99         </td><td>0.00          </td></tr>\n",
       "\t<tr><th scope=row>80</th><td>1000          </td><td>1000          </td><td>0.9           </td><td> 1.0          </td><td>0.60          </td><td>0.28 ( 0 )    </td><td>4.93 ( 0.43 ) </td><td>0 ( 0 )       </td><td> 9.93         </td><td>0.31          </td><td>0.28          </td><td> 4.93         </td><td>0.00          </td></tr>\n",
       "</tbody>\n",
       "</table>\n"
      ],
      "text/latex": [
       "\\begin{tabular}{r|lllllllllllll}\n",
       "  & N & P & Corr & Ratio & Stab & MSE & FP & FN & num\\_select & FDR & MSE\\_mean & FP\\_mean & FN\\_mean\\\\\n",
       "\\hline\n",
       "\t75 &  500           &  500           & 0.9            &  1.0           & 0.50           & 0.29 ( 0 )     & 6.87 ( 0.54 )  & 0 ( 0 )        & 11.87          & 0.41           & 0.29           &  6.87          & 0.00          \\\\\n",
       "\t76 & 1000           &  500           & 0.9            &  0.5           & 0.71           & 0.27 ( 0 )     & 3.37 ( 0.27 )  & 0 ( 0 )        &  8.37          & 0.23           & 0.27           &  3.37          & 0.00          \\\\\n",
       "\t77 &   50           & 1000           & 0.9            & 20.0           & 0.11           & 2.46 ( 0.16 )  & 25.37 ( 0.35 ) & 1.73 ( 0.12 )  & 28.64          & 0.85           & 2.46           & 25.30          & 1.73          \\\\\n",
       "\t78 &  100           & 1000           & 0.9            & 10.0           & 0.22           & 0.62 ( 0.03 )  & 21.43 ( 0.62 ) & 0 ( 0 )        & 26.43          & 0.76           & 0.62           & 21.40          & 0.00          \\\\\n",
       "\t79 &  500           & 1000           & 0.9            &  2.0           & 0.46           & 0.3 ( 0 )      & 7.99 ( 0.79 )  & 0 ( 0 )        & 12.99          & 0.42           & 0.30           &  7.99          & 0.00          \\\\\n",
       "\t80 & 1000           & 1000           & 0.9            &  1.0           & 0.60           & 0.28 ( 0 )     & 4.93 ( 0.43 )  & 0 ( 0 )        &  9.93          & 0.31           & 0.28           &  4.93          & 0.00          \\\\\n",
       "\\end{tabular}\n"
      ],
      "text/markdown": [
       "\n",
       "| <!--/--> | N | P | Corr | Ratio | Stab | MSE | FP | FN | num_select | FDR | MSE_mean | FP_mean | FN_mean |\n",
       "|---|---|---|---|---|---|---|---|---|---|---|---|---|---|\n",
       "| 75 |  500           |  500           | 0.9            |  1.0           | 0.50           | 0.29 ( 0 )     | 6.87 ( 0.54 )  | 0 ( 0 )        | 11.87          | 0.41           | 0.29           |  6.87          | 0.00           |\n",
       "| 76 | 1000           |  500           | 0.9            |  0.5           | 0.71           | 0.27 ( 0 )     | 3.37 ( 0.27 )  | 0 ( 0 )        |  8.37          | 0.23           | 0.27           |  3.37          | 0.00           |\n",
       "| 77 |   50           | 1000           | 0.9            | 20.0           | 0.11           | 2.46 ( 0.16 )  | 25.37 ( 0.35 ) | 1.73 ( 0.12 )  | 28.64          | 0.85           | 2.46           | 25.30          | 1.73           |\n",
       "| 78 |  100           | 1000           | 0.9            | 10.0           | 0.22           | 0.62 ( 0.03 )  | 21.43 ( 0.62 ) | 0 ( 0 )        | 26.43          | 0.76           | 0.62           | 21.40          | 0.00           |\n",
       "| 79 |  500           | 1000           | 0.9            |  2.0           | 0.46           | 0.3 ( 0 )      | 7.99 ( 0.79 )  | 0 ( 0 )        | 12.99          | 0.42           | 0.30           |  7.99          | 0.00           |\n",
       "| 80 | 1000           | 1000           | 0.9            |  1.0           | 0.60           | 0.28 ( 0 )     | 4.93 ( 0.43 )  | 0 ( 0 )        |  9.93          | 0.31           | 0.28           |  4.93          | 0.00           |\n",
       "\n"
      ],
      "text/plain": [
       "   N    P    Corr Ratio Stab MSE           FP             FN           \n",
       "75  500  500 0.9   1.0  0.50 0.29 ( 0 )    6.87 ( 0.54 )  0 ( 0 )      \n",
       "76 1000  500 0.9   0.5  0.71 0.27 ( 0 )    3.37 ( 0.27 )  0 ( 0 )      \n",
       "77   50 1000 0.9  20.0  0.11 2.46 ( 0.16 ) 25.37 ( 0.35 ) 1.73 ( 0.12 )\n",
       "78  100 1000 0.9  10.0  0.22 0.62 ( 0.03 ) 21.43 ( 0.62 ) 0 ( 0 )      \n",
       "79  500 1000 0.9   2.0  0.46 0.3 ( 0 )     7.99 ( 0.79 )  0 ( 0 )      \n",
       "80 1000 1000 0.9   1.0  0.60 0.28 ( 0 )    4.93 ( 0.43 )  0 ( 0 )      \n",
       "   num_select FDR  MSE_mean FP_mean FN_mean\n",
       "75 11.87      0.41 0.29      6.87   0.00   \n",
       "76  8.37      0.23 0.27      3.37   0.00   \n",
       "77 28.64      0.85 2.46     25.30   1.73   \n",
       "78 26.43      0.76 0.62     21.40   0.00   \n",
       "79 12.99      0.42 0.30      7.99   0.00   \n",
       "80  9.93      0.31 0.28      4.93   0.00   "
      ]
     },
     "metadata": {},
     "output_type": "display_data"
    }
   ],
   "source": [
    "tail(result.table_block)"
   ]
  },
  {
   "cell_type": "code",
   "execution_count": 15,
   "metadata": {},
   "outputs": [],
   "source": [
    "## export\n",
    "write.table(result.table_block, '../results_summary_cts/sim_block_lasso.txt', sep='\\t', row.names=F)"
   ]
  },
  {
   "cell_type": "code",
   "execution_count": null,
   "metadata": {},
   "outputs": [],
   "source": []
  }
 ],
 "metadata": {
  "kernelspec": {
   "display_name": "R",
   "language": "R",
   "name": "ir"
  },
  "language_info": {
   "codemirror_mode": "r",
   "file_extension": ".r",
   "mimetype": "text/x-r-source",
   "name": "R",
   "pygments_lexer": "r",
   "version": "3.6.1"
  }
 },
 "nbformat": 4,
 "nbformat_minor": 2
}
