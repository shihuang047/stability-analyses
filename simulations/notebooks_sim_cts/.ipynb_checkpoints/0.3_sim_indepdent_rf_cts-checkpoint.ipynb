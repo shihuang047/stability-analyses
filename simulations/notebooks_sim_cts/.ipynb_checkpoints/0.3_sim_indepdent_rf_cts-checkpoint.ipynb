{
 "cells": [
  {
   "cell_type": "markdown",
   "metadata": {},
   "source": [
    "### summarize random forests results on Independent Simulation Scenarios for continuous outcome"
   ]
  },
  {
   "cell_type": "code",
   "execution_count": 1,
   "metadata": {},
   "outputs": [],
   "source": [
    "dir = '/panfs/panfs1.ucsd.edu/panscratch/lij014/Stability_2020/sim_data'\n",
    "\n",
    "load(paste0(dir, '/independent_RF.RData'))"
   ]
  },
  {
   "cell_type": "code",
   "execution_count": 2,
   "metadata": {},
   "outputs": [],
   "source": [
    "dim.list = list()\n",
    "size = c(50, 100, 500, 1000)\n",
    "idx = 0\n",
    "for (P in size){\n",
    "    for (N in size){\n",
    "        idx = idx + 1\n",
    "        dim.list[[idx]] = c(P=P, N=N)\n",
    "    }\n",
    "}\n",
    "\n",
    "files = NULL\n",
    "for (dim in dim.list){\n",
    "    p = dim[1]\n",
    "    n = dim[2]\n",
    "    files = cbind(files, paste0(dir, '/sim_independent_', paste('P', p, 'N', n, sep='_'), '.RData'))\n",
    "}"
   ]
  },
  {
   "cell_type": "code",
   "execution_count": 3,
   "metadata": {},
   "outputs": [],
   "source": [
    "avg_FDR = NULL\n",
    "for (i in 1:length(files)){\n",
    "    sim_file = files[i]\n",
    "    load(sim_file, dat <- new.env())\n",
    "    sub = dat$sim_array[[i]]\n",
    "    p = sub$p # take true values from 1st replicate of each simulated data\n",
    "    coef = sub$beta\n",
    "    coef.true = which(coef != 0)\n",
    "    \n",
    "    tt = results_ind_rf[[i]]$Stab.table\n",
    "    \n",
    "    FDR = NULL\n",
    "    for (r in 1:nrow(tt)){\n",
    "        FDR = c(FDR, length(setdiff(which(tt[r, ] !=0), coef.true))/sum(tt[r, ]))\n",
    "\n",
    "    }\n",
    "    \n",
    "    avg_FDR = c(avg_FDR, mean(FDR, na.rm=T))\n",
    "}"
   ]
  },
  {
   "cell_type": "code",
   "execution_count": 31,
   "metadata": {},
   "outputs": [],
   "source": [
    "table_ind = NULL\n",
    "tmp_num_select = rep(0, length(results_ind_rf))\n",
    "for (i in 1:length(results_ind_rf)){\n",
    "    results_ind_rf[[i]]$OOB = paste(round(mean(results_ind_rf[[i]]$OOB.list, na.rm=T),2),\n",
    "                                    '(', round(FSA::se(results_ind_rf[[i]]$OOB.list, na.rm=T),2), ')')\n",
    "    table_ind = rbind(table_ind, results_ind_rf[[i]][c('n', 'p', 'rou', 'FP', 'FN', 'MSE', 'Stab', 'OOB')])\n",
    "    tmp_num_select[i] = mean(rowSums(results_ind_rf[[i]]$Stab.table))\n",
    "}\n",
    "table_ind = as.data.frame(table_ind)\n",
    "table_ind$num_select = tmp_num_select\n",
    "table_ind$FDR = round(avg_FDR,2)"
   ]
  },
  {
   "cell_type": "code",
   "execution_count": 32,
   "metadata": {},
   "outputs": [
    {
     "data": {
      "text/html": [
       "<table>\n",
       "<thead><tr><th scope=col>n</th><th scope=col>p</th><th scope=col>rou</th><th scope=col>FP</th><th scope=col>FN</th><th scope=col>MSE</th><th scope=col>Stab</th><th scope=col>OOB</th><th scope=col>num_select</th><th scope=col>FDR</th></tr></thead>\n",
       "<tbody>\n",
       "\t<tr><td>50           </td><td>50           </td><td>0            </td><td>1 ( 0 )      </td><td>6 ( 0 )      </td><td>1.31 ( 0.06 )</td><td>NaN          </td><td>2.09 ( 0.02 )</td><td>0.00         </td><td> NaN         </td></tr>\n",
       "\t<tr><td>100          </td><td>50           </td><td>0            </td><td>1.85 ( 0.11 )</td><td>4.11 ( 0.1 ) </td><td>0.85 ( 0.02 )</td><td>0.18         </td><td>1.79 ( 0.01 )</td><td>3.74         </td><td>0.48         </td></tr>\n",
       "\t<tr><td>500          </td><td>50           </td><td>0            </td><td>0.3 ( 0.05 ) </td><td>1.61 ( 0.08 )</td><td>0.47 ( 0.01 )</td><td>0.8          </td><td>1.31 ( 0 )   </td><td>4.69         </td><td>0.05         </td></tr>\n",
       "\t<tr><td>1000         </td><td>50           </td><td>0            </td><td>0.07 ( 0.03 )</td><td>0.78 ( 0.07 )</td><td>0.35 ( 0 )   </td><td>0.88         </td><td>1.17 ( 0 )   </td><td>5.29         </td><td>0.01         </td></tr>\n",
       "\t<tr><td>50           </td><td>100          </td><td>0            </td><td>1 ( 0 )      </td><td>6 ( 0 )      </td><td>1.32 ( 0.05 )</td><td>NaN          </td><td>2.23 ( 0.02 )</td><td>0.00         </td><td> NaN         </td></tr>\n",
       "\t<tr><td>100          </td><td>100          </td><td>0            </td><td>4.33 ( 0.22 )</td><td>4.45 ( 0.09 )</td><td>0.91 ( 0.03 )</td><td>0.08         </td><td>2.02 ( 0.01 )</td><td>5.88         </td><td>0.72         </td></tr>\n",
       "</tbody>\n",
       "</table>\n"
      ],
      "text/latex": [
       "\\begin{tabular}{r|llllllllll}\n",
       " n & p & rou & FP & FN & MSE & Stab & OOB & num\\_select & FDR\\\\\n",
       "\\hline\n",
       "\t 50            & 50            & 0             & 1 ( 0 )       & 6 ( 0 )       & 1.31 ( 0.06 ) & NaN           & 2.09 ( 0.02 ) & 0.00          &  NaN         \\\\\n",
       "\t 100           & 50            & 0             & 1.85 ( 0.11 ) & 4.11 ( 0.1 )  & 0.85 ( 0.02 ) & 0.18          & 1.79 ( 0.01 ) & 3.74          & 0.48         \\\\\n",
       "\t 500           & 50            & 0             & 0.3 ( 0.05 )  & 1.61 ( 0.08 ) & 0.47 ( 0.01 ) & 0.8           & 1.31 ( 0 )    & 4.69          & 0.05         \\\\\n",
       "\t 1000          & 50            & 0             & 0.07 ( 0.03 ) & 0.78 ( 0.07 ) & 0.35 ( 0 )    & 0.88          & 1.17 ( 0 )    & 5.29          & 0.01         \\\\\n",
       "\t 50            & 100           & 0             & 1 ( 0 )       & 6 ( 0 )       & 1.32 ( 0.05 ) & NaN           & 2.23 ( 0.02 ) & 0.00          &  NaN         \\\\\n",
       "\t 100           & 100           & 0             & 4.33 ( 0.22 ) & 4.45 ( 0.09 ) & 0.91 ( 0.03 ) & 0.08          & 2.02 ( 0.01 ) & 5.88          & 0.72         \\\\\n",
       "\\end{tabular}\n"
      ],
      "text/markdown": [
       "\n",
       "| n | p | rou | FP | FN | MSE | Stab | OOB | num_select | FDR |\n",
       "|---|---|---|---|---|---|---|---|---|---|\n",
       "| 50            | 50            | 0             | 1 ( 0 )       | 6 ( 0 )       | 1.31 ( 0.06 ) | NaN           | 2.09 ( 0.02 ) | 0.00          |  NaN          |\n",
       "| 100           | 50            | 0             | 1.85 ( 0.11 ) | 4.11 ( 0.1 )  | 0.85 ( 0.02 ) | 0.18          | 1.79 ( 0.01 ) | 3.74          | 0.48          |\n",
       "| 500           | 50            | 0             | 0.3 ( 0.05 )  | 1.61 ( 0.08 ) | 0.47 ( 0.01 ) | 0.8           | 1.31 ( 0 )    | 4.69          | 0.05          |\n",
       "| 1000          | 50            | 0             | 0.07 ( 0.03 ) | 0.78 ( 0.07 ) | 0.35 ( 0 )    | 0.88          | 1.17 ( 0 )    | 5.29          | 0.01          |\n",
       "| 50            | 100           | 0             | 1 ( 0 )       | 6 ( 0 )       | 1.32 ( 0.05 ) | NaN           | 2.23 ( 0.02 ) | 0.00          |  NaN          |\n",
       "| 100           | 100           | 0             | 4.33 ( 0.22 ) | 4.45 ( 0.09 ) | 0.91 ( 0.03 ) | 0.08          | 2.02 ( 0.01 ) | 5.88          | 0.72          |\n",
       "\n"
      ],
      "text/plain": [
       "  n    p   rou FP            FN            MSE           Stab OOB          \n",
       "1 50   50  0   1 ( 0 )       6 ( 0 )       1.31 ( 0.06 ) NaN  2.09 ( 0.02 )\n",
       "2 100  50  0   1.85 ( 0.11 ) 4.11 ( 0.1 )  0.85 ( 0.02 ) 0.18 1.79 ( 0.01 )\n",
       "3 500  50  0   0.3 ( 0.05 )  1.61 ( 0.08 ) 0.47 ( 0.01 ) 0.8  1.31 ( 0 )   \n",
       "4 1000 50  0   0.07 ( 0.03 ) 0.78 ( 0.07 ) 0.35 ( 0 )    0.88 1.17 ( 0 )   \n",
       "5 50   100 0   1 ( 0 )       6 ( 0 )       1.32 ( 0.05 ) NaN  2.23 ( 0.02 )\n",
       "6 100  100 0   4.33 ( 0.22 ) 4.45 ( 0.09 ) 0.91 ( 0.03 ) 0.08 2.02 ( 0.01 )\n",
       "  num_select FDR \n",
       "1 0.00        NaN\n",
       "2 3.74       0.48\n",
       "3 4.69       0.05\n",
       "4 5.29       0.01\n",
       "5 0.00        NaN\n",
       "6 5.88       0.72"
      ]
     },
     "metadata": {},
     "output_type": "display_data"
    }
   ],
   "source": [
    "head(table_ind)"
   ]
  },
  {
   "cell_type": "code",
   "execution_count": 33,
   "metadata": {},
   "outputs": [
    {
     "name": "stderr",
     "output_type": "stream",
     "text": [
      "extract_numeric() is deprecated: please use readr::parse_number() instead\n",
      "extract_numeric() is deprecated: please use readr::parse_number() instead\n"
     ]
    }
   ],
   "source": [
    "# export result\n",
    "result.table_ind <- apply(table_ind,2,as.character)\n",
    "rownames(result.table_ind) = rownames(table_ind)\n",
    "result.table_ind = as.data.frame(result.table_ind)\n",
    "\n",
    "# extract numbers only for 'n' & 'p'\n",
    "result.table_ind$n = tidyr::extract_numeric(result.table_ind$n)\n",
    "result.table_ind$p = tidyr::extract_numeric(result.table_ind$p)\n",
    "result.table_ind$ratio = result.table_ind$p / result.table_ind$n\n",
    "\n",
    "result.table_ind = result.table_ind[c('n', 'p', 'ratio', 'Stab', 'MSE', 'FP', 'FN', 'OOB', 'num_select', 'FDR')]\n",
    "colnames(result.table_ind)[1:3] = c('N', 'P', 'Ratio')\n",
    "result.table_ind$Index = seq(1, length(results_ind_rf), 1)"
   ]
  },
  {
   "cell_type": "code",
   "execution_count": 34,
   "metadata": {},
   "outputs": [
    {
     "name": "stderr",
     "output_type": "stream",
     "text": [
      "Warning message in eval(expr, envir, enclos):\n",
      "“NAs introduced by coercion”Warning message in eval(expr, envir, enclos):\n",
      "“NAs introduced by coercion”"
     ]
    }
   ],
   "source": [
    "# convert interested measurements to be numeric\n",
    "result.table_ind$Stab = as.numeric(as.character(result.table_ind$Stab))\n",
    "result.table_ind$MSE_mean = as.numeric(substr(result.table_ind$MSE, start=1, stop=4))\n",
    "result.table_ind$FP_mean = as.numeric(substr(result.table_ind$FP, start=1, stop=4))\n",
    "result.table_ind$FN_mean = as.numeric(substr(result.table_ind$FN, start=1, stop=4))\n",
    "result.table_ind$OOB_mean = as.numeric(substr(result.table_ind$OOB, start=1, stop=4))\n",
    "result.table_ind$num_select = as.numeric(as.character(result.table_ind$num_select))\n",
    "#result.table_ind$FDR = as.numeric(as.character(result.table_ind$FDR))"
   ]
  },
  {
   "cell_type": "code",
   "execution_count": 35,
   "metadata": {},
   "outputs": [
    {
     "data": {
      "text/html": [
       "<table>\n",
       "<thead><tr><th scope=col>N</th><th scope=col>P</th><th scope=col>Ratio</th><th scope=col>Stab</th><th scope=col>MSE</th><th scope=col>FP</th><th scope=col>FN</th><th scope=col>OOB</th><th scope=col>num_select</th><th scope=col>FDR</th><th scope=col>Index</th><th scope=col>MSE_mean</th><th scope=col>FP_mean</th><th scope=col>FN_mean</th><th scope=col>OOB_mean</th></tr></thead>\n",
       "<tbody>\n",
       "\t<tr><td>  50          </td><td>  50          </td><td> 1.00         </td><td> NaN          </td><td>1.31 ( 0.06 ) </td><td>1 ( 0 )       </td><td>6 ( 0 )       </td><td>2.09 ( 0.02 ) </td><td> 0.00         </td><td>NaN           </td><td> 1            </td><td>1.31          </td><td>   NA         </td><td>  NA          </td><td>2.09          </td></tr>\n",
       "\t<tr><td> 100          </td><td>  50          </td><td> 0.50         </td><td>0.18          </td><td>0.85 ( 0.02 ) </td><td>1.85 ( 0.11 ) </td><td>4.11 ( 0.1 )  </td><td>1.79 ( 0.01 ) </td><td> 3.74         </td><td>0.48          </td><td> 2            </td><td>0.85          </td><td> 1.85         </td><td>4.11          </td><td>1.79          </td></tr>\n",
       "\t<tr><td> 500          </td><td>  50          </td><td> 0.10         </td><td>0.80          </td><td>0.47 ( 0.01 ) </td><td>0.3 ( 0.05 )  </td><td>1.61 ( 0.08 ) </td><td>1.31 ( 0 )    </td><td> 4.69         </td><td>0.05          </td><td> 3            </td><td>0.47          </td><td> 0.30         </td><td>1.61          </td><td>1.31          </td></tr>\n",
       "\t<tr><td>1000          </td><td>  50          </td><td> 0.05         </td><td>0.88          </td><td>0.35 ( 0 )    </td><td>0.07 ( 0.03 ) </td><td>0.78 ( 0.07 ) </td><td>1.17 ( 0 )    </td><td> 5.29         </td><td>0.01          </td><td> 4            </td><td>0.35          </td><td> 0.07         </td><td>0.78          </td><td>1.17          </td></tr>\n",
       "\t<tr><td>  50          </td><td> 100          </td><td> 2.00         </td><td> NaN          </td><td>1.32 ( 0.05 ) </td><td>1 ( 0 )       </td><td>6 ( 0 )       </td><td>2.23 ( 0.02 ) </td><td> 0.00         </td><td>NaN           </td><td> 5            </td><td>1.32          </td><td>   NA         </td><td>  NA          </td><td>2.23          </td></tr>\n",
       "\t<tr><td> 100          </td><td> 100          </td><td> 1.00         </td><td>0.08          </td><td>0.91 ( 0.03 ) </td><td>4.33 ( 0.22 ) </td><td>4.45 ( 0.09 ) </td><td>2.02 ( 0.01 ) </td><td> 5.88         </td><td>0.72          </td><td> 6            </td><td>0.91          </td><td> 4.33         </td><td>4.45          </td><td>2.02          </td></tr>\n",
       "\t<tr><td> 500          </td><td> 100          </td><td> 0.20         </td><td>0.60          </td><td>0.59 ( 0.01 ) </td><td>1.91 ( 0.15 ) </td><td>1.41 ( 0.07 ) </td><td>1.54 ( 0 )    </td><td> 6.50         </td><td>0.27          </td><td> 7            </td><td>0.59          </td><td> 1.91         </td><td>1.41          </td><td>1.54          </td></tr>\n",
       "\t<tr><td>1000          </td><td> 100          </td><td> 0.10         </td><td>0.81          </td><td>0.47 ( 0 )    </td><td>0.71 ( 0.09 ) </td><td>0.53 ( 0.06 ) </td><td>1.39 ( 0 )    </td><td> 6.18         </td><td>0.1           </td><td> 8            </td><td>0.47          </td><td> 0.71         </td><td>0.53          </td><td>1.39          </td></tr>\n",
       "\t<tr><td>  50          </td><td> 500          </td><td>10.00         </td><td> NaN          </td><td>1.33 ( 0.05 ) </td><td>1 ( 0 )       </td><td>6 ( 0 )       </td><td>2.48 ( 0.03 ) </td><td> 0.00         </td><td>NaN           </td><td> 9            </td><td>1.33          </td><td>   NA         </td><td>  NA          </td><td>2.48          </td></tr>\n",
       "\t<tr><td> 100          </td><td> 500          </td><td> 5.00         </td><td>0.02          </td><td>1.07 ( 0.03 ) </td><td>23.8 ( 0.52 ) </td><td>4.26 ( 0.1 )  </td><td>2.43 ( 0.02 ) </td><td>25.54         </td><td>0.93          </td><td>10            </td><td>1.07          </td><td>23.80         </td><td>4.26          </td><td>2.43          </td></tr>\n",
       "\t<tr><td> 500          </td><td> 500          </td><td> 1.00         </td><td>0.14          </td><td>0.84 ( 0.01 ) </td><td>19.92 ( 0.41 )</td><td>1.71 ( 0.08 ) </td><td>2.14 ( 0.01 ) </td><td>24.21         </td><td>0.82          </td><td>11            </td><td>0.84          </td><td>19.90         </td><td>1.71          </td><td>2.14          </td></tr>\n",
       "\t<tr><td>1000          </td><td> 500          </td><td> 0.50         </td><td>0.19          </td><td>0.78 ( 0.01 ) </td><td>18.73 ( 0.42 )</td><td>0.84 ( 0.06 ) </td><td>2.06 ( 0 )    </td><td>23.89         </td><td>0.78          </td><td>12            </td><td>0.78          </td><td>18.70         </td><td>0.84          </td><td>2.06          </td></tr>\n",
       "\t<tr><td>  50          </td><td>1000          </td><td>20.00         </td><td> NaN          </td><td>1.31 ( 0.05 ) </td><td>1 ( 0 )       </td><td>6 ( 0 )       </td><td>2.48 ( 0.03 ) </td><td> 0.00         </td><td>NaN           </td><td>13            </td><td>1.31          </td><td>   NA         </td><td>  NA          </td><td>2.48          </td></tr>\n",
       "\t<tr><td> 100          </td><td>1000          </td><td>10.00         </td><td>0.01          </td><td>1.06 ( 0.03 ) </td><td>48.48 ( 0.63 )</td><td>4.33 ( 0.1 )  </td><td>2.43 ( 0.02 ) </td><td>50.15         </td><td>0.97          </td><td>14            </td><td>1.06          </td><td>48.40         </td><td>4.33          </td><td>2.43          </td></tr>\n",
       "\t<tr><td> 500          </td><td>1000          </td><td> 2.00         </td><td>0.06          </td><td>0.89 ( 0.01 ) </td><td>44.77 ( 0.71 )</td><td>1.81 ( 0.1 )  </td><td>2.3 ( 0.01 )  </td><td>48.96         </td><td>0.91          </td><td>15            </td><td>0.89          </td><td>44.70         </td><td>1.81          </td><td>2.30          </td></tr>\n",
       "\t<tr><td>1000          </td><td>1000          </td><td> 1.00         </td><td>0.09          </td><td>0.85 ( 0.01 ) </td><td>41.77 ( 0.68 )</td><td>0.99 ( 0.07 ) </td><td>2.25 ( 0.01 ) </td><td>46.78         </td><td>0.89          </td><td>16            </td><td>0.85          </td><td>41.70         </td><td>0.99          </td><td>2.25          </td></tr>\n",
       "</tbody>\n",
       "</table>\n"
      ],
      "text/latex": [
       "\\begin{tabular}{r|lllllllllllllll}\n",
       " N & P & Ratio & Stab & MSE & FP & FN & OOB & num\\_select & FDR & Index & MSE\\_mean & FP\\_mean & FN\\_mean & OOB\\_mean\\\\\n",
       "\\hline\n",
       "\t   50           &   50           &  1.00          &  NaN           & 1.31 ( 0.06 )  & 1 ( 0 )        & 6 ( 0 )        & 2.09 ( 0.02 )  &  0.00          & NaN            &  1             & 1.31           &    NA          &   NA           & 2.09          \\\\\n",
       "\t  100           &   50           &  0.50          & 0.18           & 0.85 ( 0.02 )  & 1.85 ( 0.11 )  & 4.11 ( 0.1 )   & 1.79 ( 0.01 )  &  3.74          & 0.48           &  2             & 0.85           &  1.85          & 4.11           & 1.79          \\\\\n",
       "\t  500           &   50           &  0.10          & 0.80           & 0.47 ( 0.01 )  & 0.3 ( 0.05 )   & 1.61 ( 0.08 )  & 1.31 ( 0 )     &  4.69          & 0.05           &  3             & 0.47           &  0.30          & 1.61           & 1.31          \\\\\n",
       "\t 1000           &   50           &  0.05          & 0.88           & 0.35 ( 0 )     & 0.07 ( 0.03 )  & 0.78 ( 0.07 )  & 1.17 ( 0 )     &  5.29          & 0.01           &  4             & 0.35           &  0.07          & 0.78           & 1.17          \\\\\n",
       "\t   50           &  100           &  2.00          &  NaN           & 1.32 ( 0.05 )  & 1 ( 0 )        & 6 ( 0 )        & 2.23 ( 0.02 )  &  0.00          & NaN            &  5             & 1.32           &    NA          &   NA           & 2.23          \\\\\n",
       "\t  100           &  100           &  1.00          & 0.08           & 0.91 ( 0.03 )  & 4.33 ( 0.22 )  & 4.45 ( 0.09 )  & 2.02 ( 0.01 )  &  5.88          & 0.72           &  6             & 0.91           &  4.33          & 4.45           & 2.02          \\\\\n",
       "\t  500           &  100           &  0.20          & 0.60           & 0.59 ( 0.01 )  & 1.91 ( 0.15 )  & 1.41 ( 0.07 )  & 1.54 ( 0 )     &  6.50          & 0.27           &  7             & 0.59           &  1.91          & 1.41           & 1.54          \\\\\n",
       "\t 1000           &  100           &  0.10          & 0.81           & 0.47 ( 0 )     & 0.71 ( 0.09 )  & 0.53 ( 0.06 )  & 1.39 ( 0 )     &  6.18          & 0.1            &  8             & 0.47           &  0.71          & 0.53           & 1.39          \\\\\n",
       "\t   50           &  500           & 10.00          &  NaN           & 1.33 ( 0.05 )  & 1 ( 0 )        & 6 ( 0 )        & 2.48 ( 0.03 )  &  0.00          & NaN            &  9             & 1.33           &    NA          &   NA           & 2.48          \\\\\n",
       "\t  100           &  500           &  5.00          & 0.02           & 1.07 ( 0.03 )  & 23.8 ( 0.52 )  & 4.26 ( 0.1 )   & 2.43 ( 0.02 )  & 25.54          & 0.93           & 10             & 1.07           & 23.80          & 4.26           & 2.43          \\\\\n",
       "\t  500           &  500           &  1.00          & 0.14           & 0.84 ( 0.01 )  & 19.92 ( 0.41 ) & 1.71 ( 0.08 )  & 2.14 ( 0.01 )  & 24.21          & 0.82           & 11             & 0.84           & 19.90          & 1.71           & 2.14          \\\\\n",
       "\t 1000           &  500           &  0.50          & 0.19           & 0.78 ( 0.01 )  & 18.73 ( 0.42 ) & 0.84 ( 0.06 )  & 2.06 ( 0 )     & 23.89          & 0.78           & 12             & 0.78           & 18.70          & 0.84           & 2.06          \\\\\n",
       "\t   50           & 1000           & 20.00          &  NaN           & 1.31 ( 0.05 )  & 1 ( 0 )        & 6 ( 0 )        & 2.48 ( 0.03 )  &  0.00          & NaN            & 13             & 1.31           &    NA          &   NA           & 2.48          \\\\\n",
       "\t  100           & 1000           & 10.00          & 0.01           & 1.06 ( 0.03 )  & 48.48 ( 0.63 ) & 4.33 ( 0.1 )   & 2.43 ( 0.02 )  & 50.15          & 0.97           & 14             & 1.06           & 48.40          & 4.33           & 2.43          \\\\\n",
       "\t  500           & 1000           &  2.00          & 0.06           & 0.89 ( 0.01 )  & 44.77 ( 0.71 ) & 1.81 ( 0.1 )   & 2.3 ( 0.01 )   & 48.96          & 0.91           & 15             & 0.89           & 44.70          & 1.81           & 2.30          \\\\\n",
       "\t 1000           & 1000           &  1.00          & 0.09           & 0.85 ( 0.01 )  & 41.77 ( 0.68 ) & 0.99 ( 0.07 )  & 2.25 ( 0.01 )  & 46.78          & 0.89           & 16             & 0.85           & 41.70          & 0.99           & 2.25          \\\\\n",
       "\\end{tabular}\n"
      ],
      "text/markdown": [
       "\n",
       "| N | P | Ratio | Stab | MSE | FP | FN | OOB | num_select | FDR | Index | MSE_mean | FP_mean | FN_mean | OOB_mean |\n",
       "|---|---|---|---|---|---|---|---|---|---|---|---|---|---|---|\n",
       "|   50           |   50           |  1.00          |  NaN           | 1.31 ( 0.06 )  | 1 ( 0 )        | 6 ( 0 )        | 2.09 ( 0.02 )  |  0.00          | NaN            |  1             | 1.31           |    NA          |   NA           | 2.09           |\n",
       "|  100           |   50           |  0.50          | 0.18           | 0.85 ( 0.02 )  | 1.85 ( 0.11 )  | 4.11 ( 0.1 )   | 1.79 ( 0.01 )  |  3.74          | 0.48           |  2             | 0.85           |  1.85          | 4.11           | 1.79           |\n",
       "|  500           |   50           |  0.10          | 0.80           | 0.47 ( 0.01 )  | 0.3 ( 0.05 )   | 1.61 ( 0.08 )  | 1.31 ( 0 )     |  4.69          | 0.05           |  3             | 0.47           |  0.30          | 1.61           | 1.31           |\n",
       "| 1000           |   50           |  0.05          | 0.88           | 0.35 ( 0 )     | 0.07 ( 0.03 )  | 0.78 ( 0.07 )  | 1.17 ( 0 )     |  5.29          | 0.01           |  4             | 0.35           |  0.07          | 0.78           | 1.17           |\n",
       "|   50           |  100           |  2.00          |  NaN           | 1.32 ( 0.05 )  | 1 ( 0 )        | 6 ( 0 )        | 2.23 ( 0.02 )  |  0.00          | NaN            |  5             | 1.32           |    NA          |   NA           | 2.23           |\n",
       "|  100           |  100           |  1.00          | 0.08           | 0.91 ( 0.03 )  | 4.33 ( 0.22 )  | 4.45 ( 0.09 )  | 2.02 ( 0.01 )  |  5.88          | 0.72           |  6             | 0.91           |  4.33          | 4.45           | 2.02           |\n",
       "|  500           |  100           |  0.20          | 0.60           | 0.59 ( 0.01 )  | 1.91 ( 0.15 )  | 1.41 ( 0.07 )  | 1.54 ( 0 )     |  6.50          | 0.27           |  7             | 0.59           |  1.91          | 1.41           | 1.54           |\n",
       "| 1000           |  100           |  0.10          | 0.81           | 0.47 ( 0 )     | 0.71 ( 0.09 )  | 0.53 ( 0.06 )  | 1.39 ( 0 )     |  6.18          | 0.1            |  8             | 0.47           |  0.71          | 0.53           | 1.39           |\n",
       "|   50           |  500           | 10.00          |  NaN           | 1.33 ( 0.05 )  | 1 ( 0 )        | 6 ( 0 )        | 2.48 ( 0.03 )  |  0.00          | NaN            |  9             | 1.33           |    NA          |   NA           | 2.48           |\n",
       "|  100           |  500           |  5.00          | 0.02           | 1.07 ( 0.03 )  | 23.8 ( 0.52 )  | 4.26 ( 0.1 )   | 2.43 ( 0.02 )  | 25.54          | 0.93           | 10             | 1.07           | 23.80          | 4.26           | 2.43           |\n",
       "|  500           |  500           |  1.00          | 0.14           | 0.84 ( 0.01 )  | 19.92 ( 0.41 ) | 1.71 ( 0.08 )  | 2.14 ( 0.01 )  | 24.21          | 0.82           | 11             | 0.84           | 19.90          | 1.71           | 2.14           |\n",
       "| 1000           |  500           |  0.50          | 0.19           | 0.78 ( 0.01 )  | 18.73 ( 0.42 ) | 0.84 ( 0.06 )  | 2.06 ( 0 )     | 23.89          | 0.78           | 12             | 0.78           | 18.70          | 0.84           | 2.06           |\n",
       "|   50           | 1000           | 20.00          |  NaN           | 1.31 ( 0.05 )  | 1 ( 0 )        | 6 ( 0 )        | 2.48 ( 0.03 )  |  0.00          | NaN            | 13             | 1.31           |    NA          |   NA           | 2.48           |\n",
       "|  100           | 1000           | 10.00          | 0.01           | 1.06 ( 0.03 )  | 48.48 ( 0.63 ) | 4.33 ( 0.1 )   | 2.43 ( 0.02 )  | 50.15          | 0.97           | 14             | 1.06           | 48.40          | 4.33           | 2.43           |\n",
       "|  500           | 1000           |  2.00          | 0.06           | 0.89 ( 0.01 )  | 44.77 ( 0.71 ) | 1.81 ( 0.1 )   | 2.3 ( 0.01 )   | 48.96          | 0.91           | 15             | 0.89           | 44.70          | 1.81           | 2.30           |\n",
       "| 1000           | 1000           |  1.00          | 0.09           | 0.85 ( 0.01 )  | 41.77 ( 0.68 ) | 0.99 ( 0.07 )  | 2.25 ( 0.01 )  | 46.78          | 0.89           | 16             | 0.85           | 41.70          | 0.99           | 2.25           |\n",
       "\n"
      ],
      "text/plain": [
       "   N    P    Ratio Stab MSE           FP             FN           \n",
       "1    50   50  1.00  NaN 1.31 ( 0.06 ) 1 ( 0 )        6 ( 0 )      \n",
       "2   100   50  0.50 0.18 0.85 ( 0.02 ) 1.85 ( 0.11 )  4.11 ( 0.1 ) \n",
       "3   500   50  0.10 0.80 0.47 ( 0.01 ) 0.3 ( 0.05 )   1.61 ( 0.08 )\n",
       "4  1000   50  0.05 0.88 0.35 ( 0 )    0.07 ( 0.03 )  0.78 ( 0.07 )\n",
       "5    50  100  2.00  NaN 1.32 ( 0.05 ) 1 ( 0 )        6 ( 0 )      \n",
       "6   100  100  1.00 0.08 0.91 ( 0.03 ) 4.33 ( 0.22 )  4.45 ( 0.09 )\n",
       "7   500  100  0.20 0.60 0.59 ( 0.01 ) 1.91 ( 0.15 )  1.41 ( 0.07 )\n",
       "8  1000  100  0.10 0.81 0.47 ( 0 )    0.71 ( 0.09 )  0.53 ( 0.06 )\n",
       "9    50  500 10.00  NaN 1.33 ( 0.05 ) 1 ( 0 )        6 ( 0 )      \n",
       "10  100  500  5.00 0.02 1.07 ( 0.03 ) 23.8 ( 0.52 )  4.26 ( 0.1 ) \n",
       "11  500  500  1.00 0.14 0.84 ( 0.01 ) 19.92 ( 0.41 ) 1.71 ( 0.08 )\n",
       "12 1000  500  0.50 0.19 0.78 ( 0.01 ) 18.73 ( 0.42 ) 0.84 ( 0.06 )\n",
       "13   50 1000 20.00  NaN 1.31 ( 0.05 ) 1 ( 0 )        6 ( 0 )      \n",
       "14  100 1000 10.00 0.01 1.06 ( 0.03 ) 48.48 ( 0.63 ) 4.33 ( 0.1 ) \n",
       "15  500 1000  2.00 0.06 0.89 ( 0.01 ) 44.77 ( 0.71 ) 1.81 ( 0.1 ) \n",
       "16 1000 1000  1.00 0.09 0.85 ( 0.01 ) 41.77 ( 0.68 ) 0.99 ( 0.07 )\n",
       "   OOB           num_select FDR  Index MSE_mean FP_mean FN_mean OOB_mean\n",
       "1  2.09 ( 0.02 )  0.00      NaN   1    1.31        NA     NA    2.09    \n",
       "2  1.79 ( 0.01 )  3.74      0.48  2    0.85      1.85   4.11    1.79    \n",
       "3  1.31 ( 0 )     4.69      0.05  3    0.47      0.30   1.61    1.31    \n",
       "4  1.17 ( 0 )     5.29      0.01  4    0.35      0.07   0.78    1.17    \n",
       "5  2.23 ( 0.02 )  0.00      NaN   5    1.32        NA     NA    2.23    \n",
       "6  2.02 ( 0.01 )  5.88      0.72  6    0.91      4.33   4.45    2.02    \n",
       "7  1.54 ( 0 )     6.50      0.27  7    0.59      1.91   1.41    1.54    \n",
       "8  1.39 ( 0 )     6.18      0.1   8    0.47      0.71   0.53    1.39    \n",
       "9  2.48 ( 0.03 )  0.00      NaN   9    1.33        NA     NA    2.48    \n",
       "10 2.43 ( 0.02 ) 25.54      0.93 10    1.07     23.80   4.26    2.43    \n",
       "11 2.14 ( 0.01 ) 24.21      0.82 11    0.84     19.90   1.71    2.14    \n",
       "12 2.06 ( 0 )    23.89      0.78 12    0.78     18.70   0.84    2.06    \n",
       "13 2.48 ( 0.03 )  0.00      NaN  13    1.31        NA     NA    2.48    \n",
       "14 2.43 ( 0.02 ) 50.15      0.97 14    1.06     48.40   4.33    2.43    \n",
       "15 2.3 ( 0.01 )  48.96      0.91 15    0.89     44.70   1.81    2.30    \n",
       "16 2.25 ( 0.01 ) 46.78      0.89 16    0.85     41.70   0.99    2.25    "
      ]
     },
     "metadata": {},
     "output_type": "display_data"
    }
   ],
   "source": [
    "result.table_ind"
   ]
  },
  {
   "cell_type": "code",
   "execution_count": 36,
   "metadata": {},
   "outputs": [
    {
     "name": "stdout",
     "output_type": "stream",
     "text": [
      "[1] 0\n",
      "[1] 0\n",
      "[1] 0\n",
      "[1] 0\n"
     ]
    }
   ],
   "source": [
    "## nothing was selected when Stab is NaN\n",
    "for (i in c(1,5,9,13)){\n",
    "    print(sum(results_ind_rf[[i]]$Stab.table))\n",
    "}"
   ]
  },
  {
   "cell_type": "code",
   "execution_count": 37,
   "metadata": {},
   "outputs": [
    {
     "data": {
      "text/html": [
       "<table>\n",
       "<thead><tr><th scope=col>N</th><th scope=col>P</th><th scope=col>Ratio</th><th scope=col>Stab</th><th scope=col>MSE</th><th scope=col>FP</th><th scope=col>FN</th><th scope=col>OOB</th><th scope=col>num_select</th><th scope=col>FDR</th><th scope=col>Index</th><th scope=col>MSE_mean</th><th scope=col>FP_mean</th><th scope=col>FN_mean</th><th scope=col>OOB_mean</th></tr></thead>\n",
       "<tbody>\n",
       "\t<tr><td>  50          </td><td>  50          </td><td> 1.00         </td><td>0.00          </td><td>1.31 ( 0.06 ) </td><td>1 ( 0 )       </td><td>6 ( 0 )       </td><td>2.09 ( 0.02 ) </td><td> 0.00         </td><td>NaN           </td><td> 1            </td><td>1.31          </td><td> 1.00         </td><td>6.00          </td><td>2.09          </td></tr>\n",
       "\t<tr><td> 100          </td><td>  50          </td><td> 0.50         </td><td>0.18          </td><td>0.85 ( 0.02 ) </td><td>1.85 ( 0.11 ) </td><td>4.11 ( 0.1 )  </td><td>1.79 ( 0.01 ) </td><td> 3.74         </td><td>0.48          </td><td> 2            </td><td>0.85          </td><td> 1.85         </td><td>4.11          </td><td>1.79          </td></tr>\n",
       "\t<tr><td> 500          </td><td>  50          </td><td> 0.10         </td><td>0.80          </td><td>0.47 ( 0.01 ) </td><td>0.3 ( 0.05 )  </td><td>1.61 ( 0.08 ) </td><td>1.31 ( 0 )    </td><td> 4.69         </td><td>0.05          </td><td> 3            </td><td>0.47          </td><td> 0.30         </td><td>1.61          </td><td>1.31          </td></tr>\n",
       "\t<tr><td>1000          </td><td>  50          </td><td> 0.05         </td><td>0.88          </td><td>0.35 ( 0 )    </td><td>0.07 ( 0.03 ) </td><td>0.78 ( 0.07 ) </td><td>1.17 ( 0 )    </td><td> 5.29         </td><td>0.01          </td><td> 4            </td><td>0.35          </td><td> 0.07         </td><td>0.78          </td><td>1.17          </td></tr>\n",
       "\t<tr><td>  50          </td><td> 100          </td><td> 2.00         </td><td>0.00          </td><td>1.32 ( 0.05 ) </td><td>1 ( 0 )       </td><td>6 ( 0 )       </td><td>2.23 ( 0.02 ) </td><td> 0.00         </td><td>NaN           </td><td> 5            </td><td>1.32          </td><td> 1.00         </td><td>6.00          </td><td>2.23          </td></tr>\n",
       "\t<tr><td> 100          </td><td> 100          </td><td> 1.00         </td><td>0.08          </td><td>0.91 ( 0.03 ) </td><td>4.33 ( 0.22 ) </td><td>4.45 ( 0.09 ) </td><td>2.02 ( 0.01 ) </td><td> 5.88         </td><td>0.72          </td><td> 6            </td><td>0.91          </td><td> 4.33         </td><td>4.45          </td><td>2.02          </td></tr>\n",
       "\t<tr><td> 500          </td><td> 100          </td><td> 0.20         </td><td>0.60          </td><td>0.59 ( 0.01 ) </td><td>1.91 ( 0.15 ) </td><td>1.41 ( 0.07 ) </td><td>1.54 ( 0 )    </td><td> 6.50         </td><td>0.27          </td><td> 7            </td><td>0.59          </td><td> 1.91         </td><td>1.41          </td><td>1.54          </td></tr>\n",
       "\t<tr><td>1000          </td><td> 100          </td><td> 0.10         </td><td>0.81          </td><td>0.47 ( 0 )    </td><td>0.71 ( 0.09 ) </td><td>0.53 ( 0.06 ) </td><td>1.39 ( 0 )    </td><td> 6.18         </td><td>0.1           </td><td> 8            </td><td>0.47          </td><td> 0.71         </td><td>0.53          </td><td>1.39          </td></tr>\n",
       "\t<tr><td>  50          </td><td> 500          </td><td>10.00         </td><td>0.00          </td><td>1.33 ( 0.05 ) </td><td>1 ( 0 )       </td><td>6 ( 0 )       </td><td>2.48 ( 0.03 ) </td><td> 0.00         </td><td>NaN           </td><td> 9            </td><td>1.33          </td><td> 1.00         </td><td>6.00          </td><td>2.48          </td></tr>\n",
       "\t<tr><td> 100          </td><td> 500          </td><td> 5.00         </td><td>0.02          </td><td>1.07 ( 0.03 ) </td><td>23.8 ( 0.52 ) </td><td>4.26 ( 0.1 )  </td><td>2.43 ( 0.02 ) </td><td>25.54         </td><td>0.93          </td><td>10            </td><td>1.07          </td><td>23.80         </td><td>4.26          </td><td>2.43          </td></tr>\n",
       "\t<tr><td> 500          </td><td> 500          </td><td> 1.00         </td><td>0.14          </td><td>0.84 ( 0.01 ) </td><td>19.92 ( 0.41 )</td><td>1.71 ( 0.08 ) </td><td>2.14 ( 0.01 ) </td><td>24.21         </td><td>0.82          </td><td>11            </td><td>0.84          </td><td>19.90         </td><td>1.71          </td><td>2.14          </td></tr>\n",
       "\t<tr><td>1000          </td><td> 500          </td><td> 0.50         </td><td>0.19          </td><td>0.78 ( 0.01 ) </td><td>18.73 ( 0.42 )</td><td>0.84 ( 0.06 ) </td><td>2.06 ( 0 )    </td><td>23.89         </td><td>0.78          </td><td>12            </td><td>0.78          </td><td>18.70         </td><td>0.84          </td><td>2.06          </td></tr>\n",
       "\t<tr><td>  50          </td><td>1000          </td><td>20.00         </td><td>0.00          </td><td>1.31 ( 0.05 ) </td><td>1 ( 0 )       </td><td>6 ( 0 )       </td><td>2.48 ( 0.03 ) </td><td> 0.00         </td><td>NaN           </td><td>13            </td><td>1.31          </td><td> 1.00         </td><td>6.00          </td><td>2.48          </td></tr>\n",
       "\t<tr><td> 100          </td><td>1000          </td><td>10.00         </td><td>0.01          </td><td>1.06 ( 0.03 ) </td><td>48.48 ( 0.63 )</td><td>4.33 ( 0.1 )  </td><td>2.43 ( 0.02 ) </td><td>50.15         </td><td>0.97          </td><td>14            </td><td>1.06          </td><td>48.40         </td><td>4.33          </td><td>2.43          </td></tr>\n",
       "\t<tr><td> 500          </td><td>1000          </td><td> 2.00         </td><td>0.06          </td><td>0.89 ( 0.01 ) </td><td>44.77 ( 0.71 )</td><td>1.81 ( 0.1 )  </td><td>2.3 ( 0.01 )  </td><td>48.96         </td><td>0.91          </td><td>15            </td><td>0.89          </td><td>44.70         </td><td>1.81          </td><td>2.30          </td></tr>\n",
       "\t<tr><td>1000          </td><td>1000          </td><td> 1.00         </td><td>0.09          </td><td>0.85 ( 0.01 ) </td><td>41.77 ( 0.68 )</td><td>0.99 ( 0.07 ) </td><td>2.25 ( 0.01 ) </td><td>46.78         </td><td>0.89          </td><td>16            </td><td>0.85          </td><td>41.70         </td><td>0.99          </td><td>2.25          </td></tr>\n",
       "</tbody>\n",
       "</table>\n"
      ],
      "text/latex": [
       "\\begin{tabular}{r|lllllllllllllll}\n",
       " N & P & Ratio & Stab & MSE & FP & FN & OOB & num\\_select & FDR & Index & MSE\\_mean & FP\\_mean & FN\\_mean & OOB\\_mean\\\\\n",
       "\\hline\n",
       "\t   50           &   50           &  1.00          & 0.00           & 1.31 ( 0.06 )  & 1 ( 0 )        & 6 ( 0 )        & 2.09 ( 0.02 )  &  0.00          & NaN            &  1             & 1.31           &  1.00          & 6.00           & 2.09          \\\\\n",
       "\t  100           &   50           &  0.50          & 0.18           & 0.85 ( 0.02 )  & 1.85 ( 0.11 )  & 4.11 ( 0.1 )   & 1.79 ( 0.01 )  &  3.74          & 0.48           &  2             & 0.85           &  1.85          & 4.11           & 1.79          \\\\\n",
       "\t  500           &   50           &  0.10          & 0.80           & 0.47 ( 0.01 )  & 0.3 ( 0.05 )   & 1.61 ( 0.08 )  & 1.31 ( 0 )     &  4.69          & 0.05           &  3             & 0.47           &  0.30          & 1.61           & 1.31          \\\\\n",
       "\t 1000           &   50           &  0.05          & 0.88           & 0.35 ( 0 )     & 0.07 ( 0.03 )  & 0.78 ( 0.07 )  & 1.17 ( 0 )     &  5.29          & 0.01           &  4             & 0.35           &  0.07          & 0.78           & 1.17          \\\\\n",
       "\t   50           &  100           &  2.00          & 0.00           & 1.32 ( 0.05 )  & 1 ( 0 )        & 6 ( 0 )        & 2.23 ( 0.02 )  &  0.00          & NaN            &  5             & 1.32           &  1.00          & 6.00           & 2.23          \\\\\n",
       "\t  100           &  100           &  1.00          & 0.08           & 0.91 ( 0.03 )  & 4.33 ( 0.22 )  & 4.45 ( 0.09 )  & 2.02 ( 0.01 )  &  5.88          & 0.72           &  6             & 0.91           &  4.33          & 4.45           & 2.02          \\\\\n",
       "\t  500           &  100           &  0.20          & 0.60           & 0.59 ( 0.01 )  & 1.91 ( 0.15 )  & 1.41 ( 0.07 )  & 1.54 ( 0 )     &  6.50          & 0.27           &  7             & 0.59           &  1.91          & 1.41           & 1.54          \\\\\n",
       "\t 1000           &  100           &  0.10          & 0.81           & 0.47 ( 0 )     & 0.71 ( 0.09 )  & 0.53 ( 0.06 )  & 1.39 ( 0 )     &  6.18          & 0.1            &  8             & 0.47           &  0.71          & 0.53           & 1.39          \\\\\n",
       "\t   50           &  500           & 10.00          & 0.00           & 1.33 ( 0.05 )  & 1 ( 0 )        & 6 ( 0 )        & 2.48 ( 0.03 )  &  0.00          & NaN            &  9             & 1.33           &  1.00          & 6.00           & 2.48          \\\\\n",
       "\t  100           &  500           &  5.00          & 0.02           & 1.07 ( 0.03 )  & 23.8 ( 0.52 )  & 4.26 ( 0.1 )   & 2.43 ( 0.02 )  & 25.54          & 0.93           & 10             & 1.07           & 23.80          & 4.26           & 2.43          \\\\\n",
       "\t  500           &  500           &  1.00          & 0.14           & 0.84 ( 0.01 )  & 19.92 ( 0.41 ) & 1.71 ( 0.08 )  & 2.14 ( 0.01 )  & 24.21          & 0.82           & 11             & 0.84           & 19.90          & 1.71           & 2.14          \\\\\n",
       "\t 1000           &  500           &  0.50          & 0.19           & 0.78 ( 0.01 )  & 18.73 ( 0.42 ) & 0.84 ( 0.06 )  & 2.06 ( 0 )     & 23.89          & 0.78           & 12             & 0.78           & 18.70          & 0.84           & 2.06          \\\\\n",
       "\t   50           & 1000           & 20.00          & 0.00           & 1.31 ( 0.05 )  & 1 ( 0 )        & 6 ( 0 )        & 2.48 ( 0.03 )  &  0.00          & NaN            & 13             & 1.31           &  1.00          & 6.00           & 2.48          \\\\\n",
       "\t  100           & 1000           & 10.00          & 0.01           & 1.06 ( 0.03 )  & 48.48 ( 0.63 ) & 4.33 ( 0.1 )   & 2.43 ( 0.02 )  & 50.15          & 0.97           & 14             & 1.06           & 48.40          & 4.33           & 2.43          \\\\\n",
       "\t  500           & 1000           &  2.00          & 0.06           & 0.89 ( 0.01 )  & 44.77 ( 0.71 ) & 1.81 ( 0.1 )   & 2.3 ( 0.01 )   & 48.96          & 0.91           & 15             & 0.89           & 44.70          & 1.81           & 2.30          \\\\\n",
       "\t 1000           & 1000           &  1.00          & 0.09           & 0.85 ( 0.01 )  & 41.77 ( 0.68 ) & 0.99 ( 0.07 )  & 2.25 ( 0.01 )  & 46.78          & 0.89           & 16             & 0.85           & 41.70          & 0.99           & 2.25          \\\\\n",
       "\\end{tabular}\n"
      ],
      "text/markdown": [
       "\n",
       "| N | P | Ratio | Stab | MSE | FP | FN | OOB | num_select | FDR | Index | MSE_mean | FP_mean | FN_mean | OOB_mean |\n",
       "|---|---|---|---|---|---|---|---|---|---|---|---|---|---|---|\n",
       "|   50           |   50           |  1.00          | 0.00           | 1.31 ( 0.06 )  | 1 ( 0 )        | 6 ( 0 )        | 2.09 ( 0.02 )  |  0.00          | NaN            |  1             | 1.31           |  1.00          | 6.00           | 2.09           |\n",
       "|  100           |   50           |  0.50          | 0.18           | 0.85 ( 0.02 )  | 1.85 ( 0.11 )  | 4.11 ( 0.1 )   | 1.79 ( 0.01 )  |  3.74          | 0.48           |  2             | 0.85           |  1.85          | 4.11           | 1.79           |\n",
       "|  500           |   50           |  0.10          | 0.80           | 0.47 ( 0.01 )  | 0.3 ( 0.05 )   | 1.61 ( 0.08 )  | 1.31 ( 0 )     |  4.69          | 0.05           |  3             | 0.47           |  0.30          | 1.61           | 1.31           |\n",
       "| 1000           |   50           |  0.05          | 0.88           | 0.35 ( 0 )     | 0.07 ( 0.03 )  | 0.78 ( 0.07 )  | 1.17 ( 0 )     |  5.29          | 0.01           |  4             | 0.35           |  0.07          | 0.78           | 1.17           |\n",
       "|   50           |  100           |  2.00          | 0.00           | 1.32 ( 0.05 )  | 1 ( 0 )        | 6 ( 0 )        | 2.23 ( 0.02 )  |  0.00          | NaN            |  5             | 1.32           |  1.00          | 6.00           | 2.23           |\n",
       "|  100           |  100           |  1.00          | 0.08           | 0.91 ( 0.03 )  | 4.33 ( 0.22 )  | 4.45 ( 0.09 )  | 2.02 ( 0.01 )  |  5.88          | 0.72           |  6             | 0.91           |  4.33          | 4.45           | 2.02           |\n",
       "|  500           |  100           |  0.20          | 0.60           | 0.59 ( 0.01 )  | 1.91 ( 0.15 )  | 1.41 ( 0.07 )  | 1.54 ( 0 )     |  6.50          | 0.27           |  7             | 0.59           |  1.91          | 1.41           | 1.54           |\n",
       "| 1000           |  100           |  0.10          | 0.81           | 0.47 ( 0 )     | 0.71 ( 0.09 )  | 0.53 ( 0.06 )  | 1.39 ( 0 )     |  6.18          | 0.1            |  8             | 0.47           |  0.71          | 0.53           | 1.39           |\n",
       "|   50           |  500           | 10.00          | 0.00           | 1.33 ( 0.05 )  | 1 ( 0 )        | 6 ( 0 )        | 2.48 ( 0.03 )  |  0.00          | NaN            |  9             | 1.33           |  1.00          | 6.00           | 2.48           |\n",
       "|  100           |  500           |  5.00          | 0.02           | 1.07 ( 0.03 )  | 23.8 ( 0.52 )  | 4.26 ( 0.1 )   | 2.43 ( 0.02 )  | 25.54          | 0.93           | 10             | 1.07           | 23.80          | 4.26           | 2.43           |\n",
       "|  500           |  500           |  1.00          | 0.14           | 0.84 ( 0.01 )  | 19.92 ( 0.41 ) | 1.71 ( 0.08 )  | 2.14 ( 0.01 )  | 24.21          | 0.82           | 11             | 0.84           | 19.90          | 1.71           | 2.14           |\n",
       "| 1000           |  500           |  0.50          | 0.19           | 0.78 ( 0.01 )  | 18.73 ( 0.42 ) | 0.84 ( 0.06 )  | 2.06 ( 0 )     | 23.89          | 0.78           | 12             | 0.78           | 18.70          | 0.84           | 2.06           |\n",
       "|   50           | 1000           | 20.00          | 0.00           | 1.31 ( 0.05 )  | 1 ( 0 )        | 6 ( 0 )        | 2.48 ( 0.03 )  |  0.00          | NaN            | 13             | 1.31           |  1.00          | 6.00           | 2.48           |\n",
       "|  100           | 1000           | 10.00          | 0.01           | 1.06 ( 0.03 )  | 48.48 ( 0.63 ) | 4.33 ( 0.1 )   | 2.43 ( 0.02 )  | 50.15          | 0.97           | 14             | 1.06           | 48.40          | 4.33           | 2.43           |\n",
       "|  500           | 1000           |  2.00          | 0.06           | 0.89 ( 0.01 )  | 44.77 ( 0.71 ) | 1.81 ( 0.1 )   | 2.3 ( 0.01 )   | 48.96          | 0.91           | 15             | 0.89           | 44.70          | 1.81           | 2.30           |\n",
       "| 1000           | 1000           |  1.00          | 0.09           | 0.85 ( 0.01 )  | 41.77 ( 0.68 ) | 0.99 ( 0.07 )  | 2.25 ( 0.01 )  | 46.78          | 0.89           | 16             | 0.85           | 41.70          | 0.99           | 2.25           |\n",
       "\n"
      ],
      "text/plain": [
       "   N    P    Ratio Stab MSE           FP             FN           \n",
       "1    50   50  1.00 0.00 1.31 ( 0.06 ) 1 ( 0 )        6 ( 0 )      \n",
       "2   100   50  0.50 0.18 0.85 ( 0.02 ) 1.85 ( 0.11 )  4.11 ( 0.1 ) \n",
       "3   500   50  0.10 0.80 0.47 ( 0.01 ) 0.3 ( 0.05 )   1.61 ( 0.08 )\n",
       "4  1000   50  0.05 0.88 0.35 ( 0 )    0.07 ( 0.03 )  0.78 ( 0.07 )\n",
       "5    50  100  2.00 0.00 1.32 ( 0.05 ) 1 ( 0 )        6 ( 0 )      \n",
       "6   100  100  1.00 0.08 0.91 ( 0.03 ) 4.33 ( 0.22 )  4.45 ( 0.09 )\n",
       "7   500  100  0.20 0.60 0.59 ( 0.01 ) 1.91 ( 0.15 )  1.41 ( 0.07 )\n",
       "8  1000  100  0.10 0.81 0.47 ( 0 )    0.71 ( 0.09 )  0.53 ( 0.06 )\n",
       "9    50  500 10.00 0.00 1.33 ( 0.05 ) 1 ( 0 )        6 ( 0 )      \n",
       "10  100  500  5.00 0.02 1.07 ( 0.03 ) 23.8 ( 0.52 )  4.26 ( 0.1 ) \n",
       "11  500  500  1.00 0.14 0.84 ( 0.01 ) 19.92 ( 0.41 ) 1.71 ( 0.08 )\n",
       "12 1000  500  0.50 0.19 0.78 ( 0.01 ) 18.73 ( 0.42 ) 0.84 ( 0.06 )\n",
       "13   50 1000 20.00 0.00 1.31 ( 0.05 ) 1 ( 0 )        6 ( 0 )      \n",
       "14  100 1000 10.00 0.01 1.06 ( 0.03 ) 48.48 ( 0.63 ) 4.33 ( 0.1 ) \n",
       "15  500 1000  2.00 0.06 0.89 ( 0.01 ) 44.77 ( 0.71 ) 1.81 ( 0.1 ) \n",
       "16 1000 1000  1.00 0.09 0.85 ( 0.01 ) 41.77 ( 0.68 ) 0.99 ( 0.07 )\n",
       "   OOB           num_select FDR  Index MSE_mean FP_mean FN_mean OOB_mean\n",
       "1  2.09 ( 0.02 )  0.00      NaN   1    1.31      1.00   6.00    2.09    \n",
       "2  1.79 ( 0.01 )  3.74      0.48  2    0.85      1.85   4.11    1.79    \n",
       "3  1.31 ( 0 )     4.69      0.05  3    0.47      0.30   1.61    1.31    \n",
       "4  1.17 ( 0 )     5.29      0.01  4    0.35      0.07   0.78    1.17    \n",
       "5  2.23 ( 0.02 )  0.00      NaN   5    1.32      1.00   6.00    2.23    \n",
       "6  2.02 ( 0.01 )  5.88      0.72  6    0.91      4.33   4.45    2.02    \n",
       "7  1.54 ( 0 )     6.50      0.27  7    0.59      1.91   1.41    1.54    \n",
       "8  1.39 ( 0 )     6.18      0.1   8    0.47      0.71   0.53    1.39    \n",
       "9  2.48 ( 0.03 )  0.00      NaN   9    1.33      1.00   6.00    2.48    \n",
       "10 2.43 ( 0.02 ) 25.54      0.93 10    1.07     23.80   4.26    2.43    \n",
       "11 2.14 ( 0.01 ) 24.21      0.82 11    0.84     19.90   1.71    2.14    \n",
       "12 2.06 ( 0 )    23.89      0.78 12    0.78     18.70   0.84    2.06    \n",
       "13 2.48 ( 0.03 )  0.00      NaN  13    1.31      1.00   6.00    2.48    \n",
       "14 2.43 ( 0.02 ) 50.15      0.97 14    1.06     48.40   4.33    2.43    \n",
       "15 2.3 ( 0.01 )  48.96      0.91 15    0.89     44.70   1.81    2.30    \n",
       "16 2.25 ( 0.01 ) 46.78      0.89 16    0.85     41.70   0.99    2.25    "
      ]
     },
     "metadata": {},
     "output_type": "display_data"
    }
   ],
   "source": [
    "## assign zero values to NA Stab; also recover missing FP values (1 in this case); missing FN values (6 in this case)\n",
    "result.table_ind$Stab[is.na(result.table_ind$Stab)] = 0\n",
    "result.table_ind$FP_mean[is.na(result.table_ind$FP_mean)] = 1\n",
    "result.table_ind$FN_mean[is.na(result.table_ind$FN_mean)] = 6\n",
    "#result.table_ind$FDR[is.na(result.table_ind$FDR)] = 0\n",
    "result.table_ind\n",
    "\n",
    "## export\n",
    "write.table(result.table_ind, '../results_summary_cts/sim_ind_rf.txt', sep='\\t', row.names=F)"
   ]
  },
  {
   "cell_type": "code",
   "execution_count": null,
   "metadata": {},
   "outputs": [],
   "source": []
  },
  {
   "cell_type": "code",
   "execution_count": null,
   "metadata": {},
   "outputs": [],
   "source": []
  }
 ],
 "metadata": {
  "kernelspec": {
   "display_name": "R",
   "language": "R",
   "name": "ir"
  },
  "language_info": {
   "codemirror_mode": "r",
   "file_extension": ".r",
   "mimetype": "text/x-r-source",
   "name": "R",
   "pygments_lexer": "r",
   "version": "3.6.1"
  }
 },
 "nbformat": 4,
 "nbformat_minor": 2
}
