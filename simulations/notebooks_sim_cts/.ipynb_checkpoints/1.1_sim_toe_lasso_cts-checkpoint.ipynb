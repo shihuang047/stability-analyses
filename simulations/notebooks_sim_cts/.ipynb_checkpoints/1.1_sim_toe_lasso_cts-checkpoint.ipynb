{
 "cells": [
  {
   "cell_type": "markdown",
   "metadata": {},
   "source": [
    "### summarize lasso results on Toeplitz Simulation Scenarios for continuous outcome"
   ]
  },
  {
   "cell_type": "code",
   "execution_count": 1,
   "metadata": {},
   "outputs": [],
   "source": [
    "dir = '/panfs/panfs1.ucsd.edu/panscratch/lij014/Stability_2020/sim_data'\n",
    "\n",
    "load(paste0(dir, '/toe_Lasso.RData'))"
   ]
  },
  {
   "cell_type": "code",
   "execution_count": 2,
   "metadata": {},
   "outputs": [],
   "source": [
    "dim.list = list()\n",
    "size = c(50, 100, 500, 1000)\n",
    "idx = 0\n",
    "for (P in size){\n",
    "    for (N in size){\n",
    "        idx = idx + 1\n",
    "        dim.list[[idx]] = c(P=P, N=N)\n",
    "    }\n",
    "}\n",
    "\n",
    "rou.list = seq(0.1, 0.9, 0.2)\n",
    "\n",
    "files = NULL\n",
    "for (rou in rou.list){\n",
    "  for (dim in dim.list){\n",
    "    p = dim[1]\n",
    "    n = dim[2]\n",
    "    files = cbind(files, paste0(dir, '/sim_toeplitz_corr', rou, paste('P', p, 'N', n, sep='_'), '.RData', sep=''))\n",
    "  }\n",
    "}"
   ]
  },
  {
   "cell_type": "code",
   "execution_count": 3,
   "metadata": {},
   "outputs": [],
   "source": [
    "avg_FDR = NULL\n",
    "for (i in 1:length(files)){\n",
    "    sim_file = files[i]\n",
    "    load(sim_file, dat <- new.env())\n",
    "    sub = dat$sim_array[[i]]\n",
    "    p = sub$p # take true values from 1st replicate of each simulated data\n",
    "    coef = sub$beta\n",
    "    coef.true = which(coef != 0)\n",
    "    \n",
    "    tt = results_toe_lasso[[i]]$Stab.table\n",
    "    \n",
    "    FDR = NULL\n",
    "    for (r in 1:nrow(tt)){\n",
    "        FDR = c(FDR, length(setdiff(which(tt[r, ] !=0), coef.true))/sum(tt[r, ]))\n",
    "\n",
    "    }\n",
    "    \n",
    "    avg_FDR = c(avg_FDR, mean(FDR, na.rm=T))\n",
    "}"
   ]
  },
  {
   "cell_type": "code",
   "execution_count": 4,
   "metadata": {},
   "outputs": [],
   "source": [
    "table_toe = NULL\n",
    "tmp_num_select = rep(0, length(results_toe_lasso))\n",
    "for (i in 1:length(results_toe_lasso)){\n",
    "    table_toe = rbind(table_toe, results_toe_lasso[[i]][c('n', 'p', 'rou', 'FP', 'FN', 'MSE', 'Stab')])\n",
    "    tmp_num_select[i] = mean(rowSums(results_toe_lasso[[i]]$Stab.table))\n",
    "    \n",
    "}\n",
    "table_toe = as.data.frame(table_toe)\n",
    "table_toe$num_select = tmp_num_select\n",
    "table_toe$FDR = round(avg_FDR,2)"
   ]
  },
  {
   "cell_type": "code",
   "execution_count": 6,
   "metadata": {},
   "outputs": [
    {
     "data": {
      "text/html": [
       "<table>\n",
       "<thead><tr><th scope=col>n</th><th scope=col>p</th><th scope=col>rou</th><th scope=col>FP</th><th scope=col>FN</th><th scope=col>MSE</th><th scope=col>Stab</th><th scope=col>num_select</th><th scope=col>FDR</th></tr></thead>\n",
       "<tbody>\n",
       "\t<tr><td>50           </td><td>50           </td><td>0.1          </td><td>8.59 ( 0.46 )</td><td>0.02 ( 0.01 )</td><td>0.62 ( 0.04 )</td><td>0.36         </td><td>13.57        </td><td>0.51         </td></tr>\n",
       "\t<tr><td>100          </td><td>50           </td><td>0.1          </td><td>6.3 ( 0.43 ) </td><td>0 ( 0 )      </td><td>0.37 ( 0.01 )</td><td>0.47         </td><td>11.30        </td><td>0.40         </td></tr>\n",
       "\t<tr><td>500          </td><td>50           </td><td>0.1          </td><td>2.88 ( 0.21 )</td><td>0 ( 0 )      </td><td>0.28 ( 0 )   </td><td>0.73         </td><td> 7.88        </td><td>0.20         </td></tr>\n",
       "\t<tr><td>1000         </td><td>50           </td><td>0.1          </td><td>1.66 ( 0.11 )</td><td>0 ( 0 )      </td><td>0.27 ( 0 )   </td><td>0.89         </td><td> 6.66        </td><td>0.08         </td></tr>\n",
       "\t<tr><td>50           </td><td>100          </td><td>0.1          </td><td>11.84 ( 0.4 )</td><td>0 ( 0 )      </td><td>0.67 ( 0.05 )</td><td>0.32         </td><td>16.84        </td><td>0.62         </td></tr>\n",
       "\t<tr><td>100          </td><td>100          </td><td>0.1          </td><td>7.71 ( 0.56 )</td><td>0 ( 0 )      </td><td>0.4 ( 0.01 ) </td><td>0.44         </td><td>12.71        </td><td>0.46         </td></tr>\n",
       "</tbody>\n",
       "</table>\n"
      ],
      "text/latex": [
       "\\begin{tabular}{r|lllllllll}\n",
       " n & p & rou & FP & FN & MSE & Stab & num\\_select & FDR\\\\\n",
       "\\hline\n",
       "\t 50            & 50            & 0.1           & 8.59 ( 0.46 ) & 0.02 ( 0.01 ) & 0.62 ( 0.04 ) & 0.36          & 13.57         & 0.51         \\\\\n",
       "\t 100           & 50            & 0.1           & 6.3 ( 0.43 )  & 0 ( 0 )       & 0.37 ( 0.01 ) & 0.47          & 11.30         & 0.40         \\\\\n",
       "\t 500           & 50            & 0.1           & 2.88 ( 0.21 ) & 0 ( 0 )       & 0.28 ( 0 )    & 0.73          &  7.88         & 0.20         \\\\\n",
       "\t 1000          & 50            & 0.1           & 1.66 ( 0.11 ) & 0 ( 0 )       & 0.27 ( 0 )    & 0.89          &  6.66         & 0.08         \\\\\n",
       "\t 50            & 100           & 0.1           & 11.84 ( 0.4 ) & 0 ( 0 )       & 0.67 ( 0.05 ) & 0.32          & 16.84         & 0.62         \\\\\n",
       "\t 100           & 100           & 0.1           & 7.71 ( 0.56 ) & 0 ( 0 )       & 0.4 ( 0.01 )  & 0.44          & 12.71         & 0.46         \\\\\n",
       "\\end{tabular}\n"
      ],
      "text/markdown": [
       "\n",
       "| n | p | rou | FP | FN | MSE | Stab | num_select | FDR |\n",
       "|---|---|---|---|---|---|---|---|---|\n",
       "| 50            | 50            | 0.1           | 8.59 ( 0.46 ) | 0.02 ( 0.01 ) | 0.62 ( 0.04 ) | 0.36          | 13.57         | 0.51          |\n",
       "| 100           | 50            | 0.1           | 6.3 ( 0.43 )  | 0 ( 0 )       | 0.37 ( 0.01 ) | 0.47          | 11.30         | 0.40          |\n",
       "| 500           | 50            | 0.1           | 2.88 ( 0.21 ) | 0 ( 0 )       | 0.28 ( 0 )    | 0.73          |  7.88         | 0.20          |\n",
       "| 1000          | 50            | 0.1           | 1.66 ( 0.11 ) | 0 ( 0 )       | 0.27 ( 0 )    | 0.89          |  6.66         | 0.08          |\n",
       "| 50            | 100           | 0.1           | 11.84 ( 0.4 ) | 0 ( 0 )       | 0.67 ( 0.05 ) | 0.32          | 16.84         | 0.62          |\n",
       "| 100           | 100           | 0.1           | 7.71 ( 0.56 ) | 0 ( 0 )       | 0.4 ( 0.01 )  | 0.44          | 12.71         | 0.46          |\n",
       "\n"
      ],
      "text/plain": [
       "  n    p   rou FP            FN            MSE           Stab num_select FDR \n",
       "1 50   50  0.1 8.59 ( 0.46 ) 0.02 ( 0.01 ) 0.62 ( 0.04 ) 0.36 13.57      0.51\n",
       "2 100  50  0.1 6.3 ( 0.43 )  0 ( 0 )       0.37 ( 0.01 ) 0.47 11.30      0.40\n",
       "3 500  50  0.1 2.88 ( 0.21 ) 0 ( 0 )       0.28 ( 0 )    0.73  7.88      0.20\n",
       "4 1000 50  0.1 1.66 ( 0.11 ) 0 ( 0 )       0.27 ( 0 )    0.89  6.66      0.08\n",
       "5 50   100 0.1 11.84 ( 0.4 ) 0 ( 0 )       0.67 ( 0.05 ) 0.32 16.84      0.62\n",
       "6 100  100 0.1 7.71 ( 0.56 ) 0 ( 0 )       0.4 ( 0.01 )  0.44 12.71      0.46"
      ]
     },
     "metadata": {},
     "output_type": "display_data"
    }
   ],
   "source": [
    "head(table_toe)"
   ]
  },
  {
   "cell_type": "code",
   "execution_count": 7,
   "metadata": {},
   "outputs": [
    {
     "name": "stderr",
     "output_type": "stream",
     "text": [
      "extract_numeric() is deprecated: please use readr::parse_number() instead\n",
      "extract_numeric() is deprecated: please use readr::parse_number() instead\n"
     ]
    }
   ],
   "source": [
    "# export result\n",
    "result.table_toe <- apply(table_toe,2,as.character)\n",
    "rownames(result.table_toe) = rownames(table_toe)\n",
    "result.table_toe = as.data.frame(result.table_toe)\n",
    "\n",
    "# extract numbers only for 'n' & 'p'\n",
    "result.table_toe$n = tidyr::extract_numeric(result.table_toe$n)\n",
    "result.table_toe$p = tidyr::extract_numeric(result.table_toe$p)\n",
    "result.table_toe$ratio = result.table_toe$p / result.table_toe$n\n",
    "\n",
    "result.table_toe = result.table_toe[c('n', 'p', 'rou', 'ratio', 'Stab', 'MSE', 'FP', 'FN', 'num_select', 'FDR')]\n",
    "colnames(result.table_toe)[1:4] = c('N', 'P', 'Corr', 'Ratio')"
   ]
  },
  {
   "cell_type": "code",
   "execution_count": 8,
   "metadata": {},
   "outputs": [
    {
     "name": "stderr",
     "output_type": "stream",
     "text": [
      "Warning message in eval(expr, envir, enclos):\n",
      "“NAs introduced by coercion”Warning message in eval(expr, envir, enclos):\n",
      "“NAs introduced by coercion”"
     ]
    }
   ],
   "source": [
    "# convert interested measurements to be numeric\n",
    "result.table_toe$Stab = as.numeric(as.character(result.table_toe$Stab))\n",
    "result.table_toe$MSE_mean = as.numeric(substr(result.table_toe$MSE, start=1, stop=4))\n",
    "result.table_toe$FP_mean = as.numeric(substr(result.table_toe$FP, start=1, stop=4))\n",
    "result.table_toe$FN_mean = as.numeric(substr(result.table_toe$FN, start=1, stop=4))\n",
    "result.table_toe$FN_mean[is.na(result.table_toe$FN_mean)] = 0\n",
    "result.table_toe$num_select = as.numeric(as.character(result.table_toe$num_select))"
   ]
  },
  {
   "cell_type": "code",
   "execution_count": 9,
   "metadata": {},
   "outputs": [
    {
     "data": {
      "text/html": [
       "<table>\n",
       "<thead><tr><th></th><th scope=col>N</th><th scope=col>P</th><th scope=col>Corr</th><th scope=col>Ratio</th><th scope=col>Stab</th><th scope=col>MSE</th><th scope=col>FP</th><th scope=col>FN</th><th scope=col>num_select</th><th scope=col>FDR</th><th scope=col>MSE_mean</th><th scope=col>FP_mean</th><th scope=col>FN_mean</th></tr></thead>\n",
       "<tbody>\n",
       "\t<tr><th scope=row>38</th><td>100          </td><td>100          </td><td>0.5          </td><td>1            </td><td>0.36         </td><td>0.44 ( 0.02 )</td><td>10 ( 0.48 )  </td><td>0.02 ( 0.01 )</td><td>14.98        </td><td>0.56         </td><td>0.44         </td><td>NA           </td><td>0.02         </td></tr>\n",
       "</tbody>\n",
       "</table>\n"
      ],
      "text/latex": [
       "\\begin{tabular}{r|lllllllllllll}\n",
       "  & N & P & Corr & Ratio & Stab & MSE & FP & FN & num\\_select & FDR & MSE\\_mean & FP\\_mean & FN\\_mean\\\\\n",
       "\\hline\n",
       "\t38 & 100           & 100           & 0.5           & 1             & 0.36          & 0.44 ( 0.02 ) & 10 ( 0.48 )   & 0.02 ( 0.01 ) & 14.98         & 0.56          & 0.44          & NA            & 0.02         \\\\\n",
       "\\end{tabular}\n"
      ],
      "text/markdown": [
       "\n",
       "| <!--/--> | N | P | Corr | Ratio | Stab | MSE | FP | FN | num_select | FDR | MSE_mean | FP_mean | FN_mean |\n",
       "|---|---|---|---|---|---|---|---|---|---|---|---|---|---|\n",
       "| 38 | 100           | 100           | 0.5           | 1             | 0.36          | 0.44 ( 0.02 ) | 10 ( 0.48 )   | 0.02 ( 0.01 ) | 14.98         | 0.56          | 0.44          | NA            | 0.02          |\n",
       "\n"
      ],
      "text/plain": [
       "   N   P   Corr Ratio Stab MSE           FP          FN            num_select\n",
       "38 100 100 0.5  1     0.36 0.44 ( 0.02 ) 10 ( 0.48 ) 0.02 ( 0.01 ) 14.98     \n",
       "   FDR  MSE_mean FP_mean FN_mean\n",
       "38 0.56 0.44     NA      0.02   "
      ]
     },
     "metadata": {},
     "output_type": "display_data"
    }
   ],
   "source": [
    "# check whether missing values exists\n",
    "result.table_toe[rowSums(is.na(result.table_toe)) > 0,]"
   ]
  },
  {
   "cell_type": "code",
   "execution_count": 10,
   "metadata": {},
   "outputs": [],
   "source": [
    "# recover values\n",
    "result.table_toe$FP_mean[is.na(result.table_toe$FP_mean)] = 10"
   ]
  },
  {
   "cell_type": "code",
   "execution_count": 11,
   "metadata": {},
   "outputs": [
    {
     "data": {
      "text/html": [
       "<table>\n",
       "<thead><tr><th></th><th scope=col>N</th><th scope=col>P</th><th scope=col>Corr</th><th scope=col>Ratio</th><th scope=col>Stab</th><th scope=col>MSE</th><th scope=col>FP</th><th scope=col>FN</th><th scope=col>num_select</th><th scope=col>FDR</th><th scope=col>MSE_mean</th><th scope=col>FP_mean</th><th scope=col>FN_mean</th></tr></thead>\n",
       "<tbody>\n",
       "\t<tr><th scope=row>38</th><td>100          </td><td>100          </td><td>0.5          </td><td>1            </td><td>0.36         </td><td>0.44 ( 0.02 )</td><td>10 ( 0.48 )  </td><td>0.02 ( 0.01 )</td><td>14.98        </td><td>0.56         </td><td>0.44         </td><td>10           </td><td>0.02         </td></tr>\n",
       "</tbody>\n",
       "</table>\n"
      ],
      "text/latex": [
       "\\begin{tabular}{r|lllllllllllll}\n",
       "  & N & P & Corr & Ratio & Stab & MSE & FP & FN & num\\_select & FDR & MSE\\_mean & FP\\_mean & FN\\_mean\\\\\n",
       "\\hline\n",
       "\t38 & 100           & 100           & 0.5           & 1             & 0.36          & 0.44 ( 0.02 ) & 10 ( 0.48 )   & 0.02 ( 0.01 ) & 14.98         & 0.56          & 0.44          & 10            & 0.02         \\\\\n",
       "\\end{tabular}\n"
      ],
      "text/markdown": [
       "\n",
       "| <!--/--> | N | P | Corr | Ratio | Stab | MSE | FP | FN | num_select | FDR | MSE_mean | FP_mean | FN_mean |\n",
       "|---|---|---|---|---|---|---|---|---|---|---|---|---|---|\n",
       "| 38 | 100           | 100           | 0.5           | 1             | 0.36          | 0.44 ( 0.02 ) | 10 ( 0.48 )   | 0.02 ( 0.01 ) | 14.98         | 0.56          | 0.44          | 10            | 0.02          |\n",
       "\n"
      ],
      "text/plain": [
       "   N   P   Corr Ratio Stab MSE           FP          FN            num_select\n",
       "38 100 100 0.5  1     0.36 0.44 ( 0.02 ) 10 ( 0.48 ) 0.02 ( 0.01 ) 14.98     \n",
       "   FDR  MSE_mean FP_mean FN_mean\n",
       "38 0.56 0.44     10      0.02   "
      ]
     },
     "metadata": {},
     "output_type": "display_data"
    }
   ],
   "source": [
    "result.table_toe[38, ]"
   ]
  },
  {
   "cell_type": "code",
   "execution_count": 12,
   "metadata": {},
   "outputs": [
    {
     "data": {
      "text/html": [
       "<table>\n",
       "<thead><tr><th scope=col>N</th><th scope=col>P</th><th scope=col>Corr</th><th scope=col>Ratio</th><th scope=col>Stab</th><th scope=col>MSE</th><th scope=col>FP</th><th scope=col>FN</th><th scope=col>num_select</th><th scope=col>FDR</th><th scope=col>MSE_mean</th><th scope=col>FP_mean</th><th scope=col>FN_mean</th></tr></thead>\n",
       "<tbody>\n",
       "\t<tr><td>  50         </td><td> 50          </td><td>0.1          </td><td>1.00         </td><td>0.36         </td><td>0.62 ( 0.04 )</td><td>8.59 ( 0.46 )</td><td>0.02 ( 0.01 )</td><td>13.57        </td><td>0.51         </td><td>0.62         </td><td> 8.59        </td><td>0.02         </td></tr>\n",
       "\t<tr><td> 100         </td><td> 50          </td><td>0.1          </td><td>0.50         </td><td>0.47         </td><td>0.37 ( 0.01 )</td><td>6.3 ( 0.43 ) </td><td>0 ( 0 )      </td><td>11.30        </td><td>0.4          </td><td>0.37         </td><td> 6.30        </td><td>0.00         </td></tr>\n",
       "\t<tr><td> 500         </td><td> 50          </td><td>0.1          </td><td>0.10         </td><td>0.73         </td><td>0.28 ( 0 )   </td><td>2.88 ( 0.21 )</td><td>0 ( 0 )      </td><td> 7.88        </td><td>0.2          </td><td>0.28         </td><td> 2.88        </td><td>0.00         </td></tr>\n",
       "\t<tr><td>1000         </td><td> 50          </td><td>0.1          </td><td>0.05         </td><td>0.89         </td><td>0.27 ( 0 )   </td><td>1.66 ( 0.11 )</td><td>0 ( 0 )      </td><td> 6.66        </td><td>0.08         </td><td>0.27         </td><td> 1.66        </td><td>0.00         </td></tr>\n",
       "\t<tr><td>  50         </td><td>100          </td><td>0.1          </td><td>2.00         </td><td>0.32         </td><td>0.67 ( 0.05 )</td><td>11.84 ( 0.4 )</td><td>0 ( 0 )      </td><td>16.84        </td><td>0.62         </td><td>0.67         </td><td>11.80        </td><td>0.00         </td></tr>\n",
       "\t<tr><td> 100         </td><td>100          </td><td>0.1          </td><td>1.00         </td><td>0.44         </td><td>0.4 ( 0.01 ) </td><td>7.71 ( 0.56 )</td><td>0 ( 0 )      </td><td>12.71        </td><td>0.46         </td><td>0.40         </td><td> 7.71        </td><td>0.00         </td></tr>\n",
       "</tbody>\n",
       "</table>\n"
      ],
      "text/latex": [
       "\\begin{tabular}{r|lllllllllllll}\n",
       " N & P & Corr & Ratio & Stab & MSE & FP & FN & num\\_select & FDR & MSE\\_mean & FP\\_mean & FN\\_mean\\\\\n",
       "\\hline\n",
       "\t   50          &  50           & 0.1           & 1.00          & 0.36          & 0.62 ( 0.04 ) & 8.59 ( 0.46 ) & 0.02 ( 0.01 ) & 13.57         & 0.51          & 0.62          &  8.59         & 0.02         \\\\\n",
       "\t  100          &  50           & 0.1           & 0.50          & 0.47          & 0.37 ( 0.01 ) & 6.3 ( 0.43 )  & 0 ( 0 )       & 11.30         & 0.4           & 0.37          &  6.30         & 0.00         \\\\\n",
       "\t  500          &  50           & 0.1           & 0.10          & 0.73          & 0.28 ( 0 )    & 2.88 ( 0.21 ) & 0 ( 0 )       &  7.88         & 0.2           & 0.28          &  2.88         & 0.00         \\\\\n",
       "\t 1000          &  50           & 0.1           & 0.05          & 0.89          & 0.27 ( 0 )    & 1.66 ( 0.11 ) & 0 ( 0 )       &  6.66         & 0.08          & 0.27          &  1.66         & 0.00         \\\\\n",
       "\t   50          & 100           & 0.1           & 2.00          & 0.32          & 0.67 ( 0.05 ) & 11.84 ( 0.4 ) & 0 ( 0 )       & 16.84         & 0.62          & 0.67          & 11.80         & 0.00         \\\\\n",
       "\t  100          & 100           & 0.1           & 1.00          & 0.44          & 0.4 ( 0.01 )  & 7.71 ( 0.56 ) & 0 ( 0 )       & 12.71         & 0.46          & 0.40          &  7.71         & 0.00         \\\\\n",
       "\\end{tabular}\n"
      ],
      "text/markdown": [
       "\n",
       "| N | P | Corr | Ratio | Stab | MSE | FP | FN | num_select | FDR | MSE_mean | FP_mean | FN_mean |\n",
       "|---|---|---|---|---|---|---|---|---|---|---|---|---|\n",
       "|   50          |  50           | 0.1           | 1.00          | 0.36          | 0.62 ( 0.04 ) | 8.59 ( 0.46 ) | 0.02 ( 0.01 ) | 13.57         | 0.51          | 0.62          |  8.59         | 0.02          |\n",
       "|  100          |  50           | 0.1           | 0.50          | 0.47          | 0.37 ( 0.01 ) | 6.3 ( 0.43 )  | 0 ( 0 )       | 11.30         | 0.4           | 0.37          |  6.30         | 0.00          |\n",
       "|  500          |  50           | 0.1           | 0.10          | 0.73          | 0.28 ( 0 )    | 2.88 ( 0.21 ) | 0 ( 0 )       |  7.88         | 0.2           | 0.28          |  2.88         | 0.00          |\n",
       "| 1000          |  50           | 0.1           | 0.05          | 0.89          | 0.27 ( 0 )    | 1.66 ( 0.11 ) | 0 ( 0 )       |  6.66         | 0.08          | 0.27          |  1.66         | 0.00          |\n",
       "|   50          | 100           | 0.1           | 2.00          | 0.32          | 0.67 ( 0.05 ) | 11.84 ( 0.4 ) | 0 ( 0 )       | 16.84         | 0.62          | 0.67          | 11.80         | 0.00          |\n",
       "|  100          | 100           | 0.1           | 1.00          | 0.44          | 0.4 ( 0.01 )  | 7.71 ( 0.56 ) | 0 ( 0 )       | 12.71         | 0.46          | 0.40          |  7.71         | 0.00          |\n",
       "\n"
      ],
      "text/plain": [
       "  N    P   Corr Ratio Stab MSE           FP            FN            num_select\n",
       "1   50  50 0.1  1.00  0.36 0.62 ( 0.04 ) 8.59 ( 0.46 ) 0.02 ( 0.01 ) 13.57     \n",
       "2  100  50 0.1  0.50  0.47 0.37 ( 0.01 ) 6.3 ( 0.43 )  0 ( 0 )       11.30     \n",
       "3  500  50 0.1  0.10  0.73 0.28 ( 0 )    2.88 ( 0.21 ) 0 ( 0 )        7.88     \n",
       "4 1000  50 0.1  0.05  0.89 0.27 ( 0 )    1.66 ( 0.11 ) 0 ( 0 )        6.66     \n",
       "5   50 100 0.1  2.00  0.32 0.67 ( 0.05 ) 11.84 ( 0.4 ) 0 ( 0 )       16.84     \n",
       "6  100 100 0.1  1.00  0.44 0.4 ( 0.01 )  7.71 ( 0.56 ) 0 ( 0 )       12.71     \n",
       "  FDR  MSE_mean FP_mean FN_mean\n",
       "1 0.51 0.62      8.59   0.02   \n",
       "2 0.4  0.37      6.30   0.00   \n",
       "3 0.2  0.28      2.88   0.00   \n",
       "4 0.08 0.27      1.66   0.00   \n",
       "5 0.62 0.67     11.80   0.00   \n",
       "6 0.46 0.40      7.71   0.00   "
      ]
     },
     "metadata": {},
     "output_type": "display_data"
    }
   ],
   "source": [
    "head(result.table_toe)"
   ]
  },
  {
   "cell_type": "code",
   "execution_count": 13,
   "metadata": {},
   "outputs": [
    {
     "data": {
      "text/html": [
       "<table>\n",
       "<thead><tr><th></th><th scope=col>N</th><th scope=col>P</th><th scope=col>Corr</th><th scope=col>Ratio</th><th scope=col>Stab</th><th scope=col>MSE</th><th scope=col>FP</th><th scope=col>FN</th><th scope=col>num_select</th><th scope=col>FDR</th><th scope=col>MSE_mean</th><th scope=col>FP_mean</th><th scope=col>FN_mean</th></tr></thead>\n",
       "<tbody>\n",
       "\t<tr><th scope=row>75</th><td> 500          </td><td> 500          </td><td>0.9           </td><td> 1.0          </td><td>0.25          </td><td>0.3 ( 0 )     </td><td>18.18 ( 0.69 )</td><td>0.03 ( 0.02 ) </td><td>23.15         </td><td>0.72          </td><td>0.30          </td><td>18.1          </td><td>0.03          </td></tr>\n",
       "\t<tr><th scope=row>76</th><td>1000          </td><td> 500          </td><td>0.9           </td><td> 0.5          </td><td>0.33          </td><td>0.28 ( 0 )    </td><td>12.68 ( 0.57 )</td><td>0 ( 0 )       </td><td>17.68         </td><td>0.63          </td><td>0.28          </td><td>12.6          </td><td>0.00          </td></tr>\n",
       "\t<tr><th scope=row>77</th><td>  50          </td><td>1000          </td><td>0.9           </td><td>20.0          </td><td>0.08          </td><td>0.9 ( 0.05 )  </td><td>18.15 ( 0.34 )</td><td>3.92 ( 0.08 ) </td><td>19.23         </td><td>0.89          </td><td>0.90          </td><td>18.1          </td><td>3.92          </td></tr>\n",
       "\t<tr><th scope=row>78</th><td> 100          </td><td>1000          </td><td>0.9           </td><td>10.0          </td><td>0.16          </td><td>0.59 ( 0.02 ) </td><td>15.99 ( 0.66 )</td><td>2.88 ( 0.06 ) </td><td>18.11         </td><td>0.81          </td><td>0.59          </td><td>15.9          </td><td>2.88          </td></tr>\n",
       "\t<tr><th scope=row>79</th><td> 500          </td><td>1000          </td><td>0.9           </td><td> 2.0          </td><td>0.20          </td><td>0.31 ( 0 )    </td><td>24.62 ( 1.01 )</td><td>0.05 ( 0.02 ) </td><td>29.57         </td><td>0.77          </td><td>0.31          </td><td>24.6          </td><td>0.05          </td></tr>\n",
       "\t<tr><th scope=row>80</th><td>1000          </td><td>1000          </td><td>0.9           </td><td> 1.0          </td><td>0.25          </td><td>0.28 ( 0 )    </td><td>18.51 ( 0.86 )</td><td>0 ( 0 )       </td><td>23.51         </td><td>0.71          </td><td>0.28          </td><td>18.5          </td><td>0.00          </td></tr>\n",
       "</tbody>\n",
       "</table>\n"
      ],
      "text/latex": [
       "\\begin{tabular}{r|lllllllllllll}\n",
       "  & N & P & Corr & Ratio & Stab & MSE & FP & FN & num\\_select & FDR & MSE\\_mean & FP\\_mean & FN\\_mean\\\\\n",
       "\\hline\n",
       "\t75 &  500           &  500           & 0.9            &  1.0           & 0.25           & 0.3 ( 0 )      & 18.18 ( 0.69 ) & 0.03 ( 0.02 )  & 23.15          & 0.72           & 0.30           & 18.1           & 0.03          \\\\\n",
       "\t76 & 1000           &  500           & 0.9            &  0.5           & 0.33           & 0.28 ( 0 )     & 12.68 ( 0.57 ) & 0 ( 0 )        & 17.68          & 0.63           & 0.28           & 12.6           & 0.00          \\\\\n",
       "\t77 &   50           & 1000           & 0.9            & 20.0           & 0.08           & 0.9 ( 0.05 )   & 18.15 ( 0.34 ) & 3.92 ( 0.08 )  & 19.23          & 0.89           & 0.90           & 18.1           & 3.92          \\\\\n",
       "\t78 &  100           & 1000           & 0.9            & 10.0           & 0.16           & 0.59 ( 0.02 )  & 15.99 ( 0.66 ) & 2.88 ( 0.06 )  & 18.11          & 0.81           & 0.59           & 15.9           & 2.88          \\\\\n",
       "\t79 &  500           & 1000           & 0.9            &  2.0           & 0.20           & 0.31 ( 0 )     & 24.62 ( 1.01 ) & 0.05 ( 0.02 )  & 29.57          & 0.77           & 0.31           & 24.6           & 0.05          \\\\\n",
       "\t80 & 1000           & 1000           & 0.9            &  1.0           & 0.25           & 0.28 ( 0 )     & 18.51 ( 0.86 ) & 0 ( 0 )        & 23.51          & 0.71           & 0.28           & 18.5           & 0.00          \\\\\n",
       "\\end{tabular}\n"
      ],
      "text/markdown": [
       "\n",
       "| <!--/--> | N | P | Corr | Ratio | Stab | MSE | FP | FN | num_select | FDR | MSE_mean | FP_mean | FN_mean |\n",
       "|---|---|---|---|---|---|---|---|---|---|---|---|---|---|\n",
       "| 75 |  500           |  500           | 0.9            |  1.0           | 0.25           | 0.3 ( 0 )      | 18.18 ( 0.69 ) | 0.03 ( 0.02 )  | 23.15          | 0.72           | 0.30           | 18.1           | 0.03           |\n",
       "| 76 | 1000           |  500           | 0.9            |  0.5           | 0.33           | 0.28 ( 0 )     | 12.68 ( 0.57 ) | 0 ( 0 )        | 17.68          | 0.63           | 0.28           | 12.6           | 0.00           |\n",
       "| 77 |   50           | 1000           | 0.9            | 20.0           | 0.08           | 0.9 ( 0.05 )   | 18.15 ( 0.34 ) | 3.92 ( 0.08 )  | 19.23          | 0.89           | 0.90           | 18.1           | 3.92           |\n",
       "| 78 |  100           | 1000           | 0.9            | 10.0           | 0.16           | 0.59 ( 0.02 )  | 15.99 ( 0.66 ) | 2.88 ( 0.06 )  | 18.11          | 0.81           | 0.59           | 15.9           | 2.88           |\n",
       "| 79 |  500           | 1000           | 0.9            |  2.0           | 0.20           | 0.31 ( 0 )     | 24.62 ( 1.01 ) | 0.05 ( 0.02 )  | 29.57          | 0.77           | 0.31           | 24.6           | 0.05           |\n",
       "| 80 | 1000           | 1000           | 0.9            |  1.0           | 0.25           | 0.28 ( 0 )     | 18.51 ( 0.86 ) | 0 ( 0 )        | 23.51          | 0.71           | 0.28           | 18.5           | 0.00           |\n",
       "\n"
      ],
      "text/plain": [
       "   N    P    Corr Ratio Stab MSE           FP             FN           \n",
       "75  500  500 0.9   1.0  0.25 0.3 ( 0 )     18.18 ( 0.69 ) 0.03 ( 0.02 )\n",
       "76 1000  500 0.9   0.5  0.33 0.28 ( 0 )    12.68 ( 0.57 ) 0 ( 0 )      \n",
       "77   50 1000 0.9  20.0  0.08 0.9 ( 0.05 )  18.15 ( 0.34 ) 3.92 ( 0.08 )\n",
       "78  100 1000 0.9  10.0  0.16 0.59 ( 0.02 ) 15.99 ( 0.66 ) 2.88 ( 0.06 )\n",
       "79  500 1000 0.9   2.0  0.20 0.31 ( 0 )    24.62 ( 1.01 ) 0.05 ( 0.02 )\n",
       "80 1000 1000 0.9   1.0  0.25 0.28 ( 0 )    18.51 ( 0.86 ) 0 ( 0 )      \n",
       "   num_select FDR  MSE_mean FP_mean FN_mean\n",
       "75 23.15      0.72 0.30     18.1    0.03   \n",
       "76 17.68      0.63 0.28     12.6    0.00   \n",
       "77 19.23      0.89 0.90     18.1    3.92   \n",
       "78 18.11      0.81 0.59     15.9    2.88   \n",
       "79 29.57      0.77 0.31     24.6    0.05   \n",
       "80 23.51      0.71 0.28     18.5    0.00   "
      ]
     },
     "metadata": {},
     "output_type": "display_data"
    }
   ],
   "source": [
    "tail(result.table_toe)"
   ]
  },
  {
   "cell_type": "code",
   "execution_count": 14,
   "metadata": {},
   "outputs": [
    {
     "data": {
      "text/html": [
       "<table>\n",
       "<thead><tr><th scope=col>N</th><th scope=col>P</th><th scope=col>Corr</th><th scope=col>Ratio</th><th scope=col>Stab</th><th scope=col>MSE</th><th scope=col>FP</th><th scope=col>FN</th><th scope=col>num_select</th><th scope=col>FDR</th><th scope=col>MSE_mean</th><th scope=col>FP_mean</th><th scope=col>FN_mean</th></tr></thead>\n",
       "<tbody>\n",
       "\t<tr><td>  50          </td><td>  50          </td><td>0.1           </td><td> 1.00         </td><td>0.36          </td><td>0.62 ( 0.04 ) </td><td>8.59 ( 0.46 ) </td><td>0.02 ( 0.01 ) </td><td>13.57         </td><td>0.51          </td><td>0.62          </td><td> 8.59         </td><td>0.02          </td></tr>\n",
       "\t<tr><td> 100          </td><td>  50          </td><td>0.1           </td><td> 0.50         </td><td>0.47          </td><td>0.37 ( 0.01 ) </td><td>6.3 ( 0.43 )  </td><td>0 ( 0 )       </td><td>11.30         </td><td>0.4           </td><td>0.37          </td><td> 6.30         </td><td>0.00          </td></tr>\n",
       "\t<tr><td> 500          </td><td>  50          </td><td>0.1           </td><td> 0.10         </td><td>0.73          </td><td>0.28 ( 0 )    </td><td>2.88 ( 0.21 ) </td><td>0 ( 0 )       </td><td> 7.88         </td><td>0.2           </td><td>0.28          </td><td> 2.88         </td><td>0.00          </td></tr>\n",
       "\t<tr><td>1000          </td><td>  50          </td><td>0.1           </td><td> 0.05         </td><td>0.89          </td><td>0.27 ( 0 )    </td><td>1.66 ( 0.11 ) </td><td>0 ( 0 )       </td><td> 6.66         </td><td>0.08          </td><td>0.27          </td><td> 1.66         </td><td>0.00          </td></tr>\n",
       "\t<tr><td>  50          </td><td> 100          </td><td>0.1           </td><td> 2.00         </td><td>0.32          </td><td>0.67 ( 0.05 ) </td><td>11.84 ( 0.4 ) </td><td>0 ( 0 )       </td><td>16.84         </td><td>0.62          </td><td>0.67          </td><td>11.80         </td><td>0.00          </td></tr>\n",
       "\t<tr><td> 100          </td><td> 100          </td><td>0.1           </td><td> 1.00         </td><td>0.44          </td><td>0.4 ( 0.01 )  </td><td>7.71 ( 0.56 ) </td><td>0 ( 0 )       </td><td>12.71         </td><td>0.46          </td><td>0.40          </td><td> 7.71         </td><td>0.00          </td></tr>\n",
       "\t<tr><td> 500          </td><td> 100          </td><td>0.1           </td><td> 0.20         </td><td>0.70          </td><td>0.27 ( 0 )    </td><td>3.35 ( 0.22 ) </td><td>0 ( 0 )       </td><td> 8.35         </td><td>0.23          </td><td>0.27          </td><td> 3.35         </td><td>0.00          </td></tr>\n",
       "\t<tr><td>1000          </td><td> 100          </td><td>0.1           </td><td> 0.10         </td><td>0.81          </td><td>0.27 ( 0 )    </td><td>2.29 ( 0.23 ) </td><td>0 ( 0 )       </td><td> 7.29         </td><td>0.13          </td><td>0.27          </td><td> 2.29         </td><td>0.00          </td></tr>\n",
       "\t<tr><td>  50          </td><td> 500          </td><td>0.1           </td><td>10.00         </td><td>0.18          </td><td>1.61 ( 0.1 )  </td><td>20.85 ( 0.38 )</td><td>0.69 ( 0.08 ) </td><td>25.16         </td><td>0.78          </td><td>1.61          </td><td>20.80         </td><td>0.69          </td></tr>\n",
       "\t<tr><td> 100          </td><td> 500          </td><td>0.1           </td><td> 5.00         </td><td>0.30          </td><td>0.53 ( 0.02 ) </td><td>14.69 ( 0.7 ) </td><td>0 ( 0 )       </td><td>19.69         </td><td>0.66          </td><td>0.53          </td><td>14.60         </td><td>0.00          </td></tr>\n",
       "\t<tr><td> 500          </td><td> 500          </td><td>0.1           </td><td> 1.00         </td><td>0.55          </td><td>0.28 ( 0 )    </td><td>5.86 ( 0.51 ) </td><td>0 ( 0 )       </td><td>10.86         </td><td>0.36          </td><td>0.28          </td><td> 5.86         </td><td>0.00          </td></tr>\n",
       "\t<tr><td>1000          </td><td> 500          </td><td>0.1           </td><td> 0.50         </td><td>0.78          </td><td>0.28 ( 0 )    </td><td>2.69 ( 0.21 ) </td><td>0 ( 0 )       </td><td> 7.69         </td><td>0.17          </td><td>0.28          </td><td> 2.69         </td><td>0.00          </td></tr>\n",
       "\t<tr><td>  50          </td><td>1000          </td><td>0.1           </td><td>20.00         </td><td>0.13          </td><td>2.23 ( 0.14 ) </td><td>24.37 ( 0.39 )</td><td>1.36 ( 0.1 )  </td><td>28.01         </td><td>0.83          </td><td>2.23          </td><td>24.30         </td><td>1.36          </td></tr>\n",
       "\t<tr><td> 100          </td><td>1000          </td><td>0.1           </td><td>10.00         </td><td>0.25          </td><td>0.57 ( 0.03 ) </td><td>18.79 ( 0.7 ) </td><td>0 ( 0 )       </td><td>23.79         </td><td>0.73          </td><td>0.57          </td><td>18.70         </td><td>0.00          </td></tr>\n",
       "\t<tr><td> 500          </td><td>1000          </td><td>0.1           </td><td> 2.00         </td><td>0.49          </td><td>0.28 ( 0 )    </td><td>7.08 ( 0.53 ) </td><td>0 ( 0 )       </td><td>12.08         </td><td>0.41          </td><td>0.28          </td><td> 7.08         </td><td>0.00          </td></tr>\n",
       "\t<tr><td>1000          </td><td>1000          </td><td>0.1           </td><td> 1.00         </td><td>0.70          </td><td>0.27 ( 0 )    </td><td>3.59 ( 0.33 ) </td><td>0 ( 0 )       </td><td> 8.59         </td><td>0.23          </td><td>0.27          </td><td> 3.59         </td><td>0.00          </td></tr>\n",
       "\t<tr><td>  50          </td><td>  50          </td><td>0.3           </td><td> 1.00         </td><td>0.35          </td><td>0.57 ( 0.03 ) </td><td>8.86 ( 0.42 ) </td><td>0.05 ( 0.02 ) </td><td>13.81         </td><td>0.53          </td><td>0.57          </td><td> 8.86         </td><td>0.05          </td></tr>\n",
       "\t<tr><td> 100          </td><td>  50          </td><td>0.3           </td><td> 0.50         </td><td>0.47          </td><td>0.36 ( 0.01 ) </td><td>6.18 ( 0.36 ) </td><td>0 ( 0 )       </td><td>11.18         </td><td>0.41          </td><td>0.36          </td><td> 6.18         </td><td>0.00          </td></tr>\n",
       "\t<tr><td> 500          </td><td>  50          </td><td>0.3           </td><td> 0.10         </td><td>0.70          </td><td>0.28 ( 0 )    </td><td>3.14 ( 0.21 ) </td><td>0 ( 0 )       </td><td> 8.14         </td><td>0.22          </td><td>0.28          </td><td> 3.14         </td><td>0.00          </td></tr>\n",
       "\t<tr><td>1000          </td><td>  50          </td><td>0.3           </td><td> 0.05         </td><td>0.86          </td><td>0.27 ( 0 )    </td><td>1.86 ( 0.11 ) </td><td>0 ( 0 )       </td><td> 6.86         </td><td>0.11          </td><td>0.27          </td><td> 1.86         </td><td>0.00          </td></tr>\n",
       "\t<tr><td>  50          </td><td> 100          </td><td>0.3           </td><td> 2.00         </td><td>0.31          </td><td>0.76 ( 0.04 ) </td><td>11.12 ( 0.37 )</td><td>0.17 ( 0.04 ) </td><td>15.95         </td><td>0.62          </td><td>0.76          </td><td>11.10         </td><td>0.17          </td></tr>\n",
       "\t<tr><td> 100          </td><td> 100          </td><td>0.3           </td><td> 1.00         </td><td>0.38          </td><td>0.41 ( 0.01 ) </td><td>9.43 ( 0.53 ) </td><td>0 ( 0 )       </td><td>14.43         </td><td>0.54          </td><td>0.41          </td><td> 9.43         </td><td>0.00          </td></tr>\n",
       "\t<tr><td> 500          </td><td> 100          </td><td>0.3           </td><td> 0.20         </td><td>0.63          </td><td>0.27 ( 0 )    </td><td>4.16 ( 0.27 ) </td><td>0 ( 0 )       </td><td> 9.16         </td><td>0.29          </td><td>0.27          </td><td> 4.16         </td><td>0.00          </td></tr>\n",
       "\t<tr><td>1000          </td><td> 100          </td><td>0.3           </td><td> 0.10         </td><td>0.80          </td><td>0.27 ( 0 )    </td><td>2.36 ( 0.17 ) </td><td>0 ( 0 )       </td><td> 7.36         </td><td>0.15          </td><td>0.27          </td><td> 2.36         </td><td>0.00          </td></tr>\n",
       "\t<tr><td>  50          </td><td> 500          </td><td>0.3           </td><td>10.00         </td><td>0.14          </td><td>1.78 ( 0.11 ) </td><td>21.4 ( 0.41 ) </td><td>1.39 ( 0.1 )  </td><td>25.01         </td><td>0.81          </td><td>1.78          </td><td>21.40         </td><td>1.39          </td></tr>\n",
       "\t<tr><td> 100          </td><td> 500          </td><td>0.3           </td><td> 5.00         </td><td>0.26          </td><td>0.53 ( 0.02 ) </td><td>16.81 ( 0.77 )</td><td>0.02 ( 0.01 ) </td><td>21.79         </td><td>0.7           </td><td>0.53          </td><td>16.80         </td><td>0.02          </td></tr>\n",
       "\t<tr><td> 500          </td><td> 500          </td><td>0.3           </td><td> 1.00         </td><td>0.55          </td><td>0.29 ( 0 )    </td><td>5.89 ( 0.51 ) </td><td>0 ( 0 )       </td><td>10.89         </td><td>0.36          </td><td>0.29          </td><td> 5.89         </td><td>0.00          </td></tr>\n",
       "\t<tr><td>1000          </td><td> 500          </td><td>0.3           </td><td> 0.50         </td><td>0.69          </td><td>0.27 ( 0 )    </td><td>3.68 ( 0.32 ) </td><td>0 ( 0 )       </td><td> 8.68         </td><td>0.25          </td><td>0.27          </td><td> 3.68         </td><td>0.00          </td></tr>\n",
       "\t<tr><td>  50          </td><td>1000          </td><td>0.3           </td><td>20.00         </td><td>0.11          </td><td>2.21 ( 0.15 ) </td><td>25.14 ( 0.35 )</td><td>1.87 ( 0.1 )  </td><td>28.27         </td><td>0.85          </td><td>2.21          </td><td>25.10         </td><td>1.87          </td></tr>\n",
       "\t<tr><td> 100          </td><td>1000          </td><td>0.3           </td><td>10.00         </td><td>0.22          </td><td>0.61 ( 0.03 ) </td><td>21.11 ( 0.75 )</td><td>0.02 ( 0.01 ) </td><td>26.09         </td><td>0.75          </td><td>0.61          </td><td>21.10         </td><td>0.02          </td></tr>\n",
       "\t<tr><td>...</td><td>...</td><td>...</td><td>...</td><td>...</td><td>...</td><td>...</td><td>...</td><td>...</td><td>...</td><td>...</td><td>...</td><td>...</td></tr>\n",
       "\t<tr><td> 500          </td><td>  50          </td><td>0.7           </td><td> 0.10         </td><td>0.60          </td><td>0.27 ( 0 )    </td><td>4.38 ( 0.21 ) </td><td>0 ( 0 )       </td><td> 9.38         </td><td>0.33          </td><td>0.27          </td><td> 4.38         </td><td>0.00          </td></tr>\n",
       "\t<tr><td>1000          </td><td>  50          </td><td>0.7           </td><td> 0.05         </td><td>0.74          </td><td>0.27 ( 0 )    </td><td>2.84 ( 0.14 ) </td><td>0 ( 0 )       </td><td> 7.84         </td><td>0.21          </td><td>0.27          </td><td> 2.84         </td><td>0.00          </td></tr>\n",
       "\t<tr><td>  50          </td><td> 100          </td><td>0.7           </td><td> 2.00         </td><td>0.23          </td><td>0.8 ( 0.04 )  </td><td>11.57 ( 0.53 )</td><td>1.26 ( 0.1 )  </td><td>15.31         </td><td>0.66          </td><td>0.80          </td><td>11.50         </td><td>1.26          </td></tr>\n",
       "\t<tr><td> 100          </td><td> 100          </td><td>0.7           </td><td> 1.00         </td><td>0.31          </td><td>0.39 ( 0.01 ) </td><td>11.68 ( 0.51 )</td><td>0.1 ( 0.04 )  </td><td>16.58         </td><td>0.61          </td><td>0.39          </td><td>11.60         </td><td>0.10          </td></tr>\n",
       "\t<tr><td> 500          </td><td> 100          </td><td>0.7           </td><td> 0.20         </td><td>0.49          </td><td>0.28 ( 0 )    </td><td>6.56 ( 0.32 ) </td><td>0 ( 0 )       </td><td>11.56         </td><td>0.44          </td><td>0.28          </td><td> 6.56         </td><td>0.00          </td></tr>\n",
       "\t<tr><td>1000          </td><td> 100          </td><td>0.7           </td><td> 0.10         </td><td>0.63          </td><td>0.27 ( 0 )    </td><td>4.24 ( 0.26 ) </td><td>0 ( 0 )       </td><td> 9.24         </td><td>0.3           </td><td>0.27          </td><td> 4.24         </td><td>0.00          </td></tr>\n",
       "\t<tr><td>  50          </td><td> 500          </td><td>0.7           </td><td>10.00         </td><td>0.12          </td><td>1.37 ( 0.08 ) </td><td>19.8 ( 0.33 ) </td><td>2.78 ( 0.08 ) </td><td>22.02         </td><td>0.85          </td><td>1.37          </td><td>19.80         </td><td>2.78          </td></tr>\n",
       "\t<tr><td> 100          </td><td> 500          </td><td>0.7           </td><td> 5.00         </td><td>0.19          </td><td>0.62 ( 0.03 ) </td><td>18.58 ( 0.85 )</td><td>0.88 ( 0.08 ) </td><td>22.70         </td><td>0.75          </td><td>0.62          </td><td>18.50         </td><td>0.88          </td></tr>\n",
       "\t<tr><td> 500          </td><td> 500          </td><td>0.7           </td><td> 1.00         </td><td>0.36          </td><td>0.3 ( 0 )     </td><td>11.31 ( 0.6 ) </td><td>0 ( 0 )       </td><td>16.31         </td><td>0.58          </td><td>0.30          </td><td>11.30         </td><td>0.00          </td></tr>\n",
       "\t<tr><td>1000          </td><td> 500          </td><td>0.7           </td><td> 0.50         </td><td>0.46          </td><td>0.27 ( 0 )    </td><td>7.93 ( 0.49 ) </td><td>0 ( 0 )       </td><td>12.93         </td><td>0.47          </td><td>0.27          </td><td> 7.93         </td><td>0.00          </td></tr>\n",
       "\t<tr><td>  50          </td><td>1000          </td><td>0.7           </td><td>20.00         </td><td>0.09          </td><td>1.5 ( 0.08 )  </td><td>22.99 ( 0.35 )</td><td>3.2 ( 0.09 )  </td><td>24.79         </td><td>0.88          </td><td>1.50          </td><td>22.90         </td><td>3.20          </td></tr>\n",
       "\t<tr><td> 100          </td><td>1000          </td><td>0.7           </td><td>10.00         </td><td>0.14          </td><td>0.77 ( 0.04 ) </td><td>22.43 ( 0.68 )</td><td>1.45 ( 0.1 )  </td><td>25.98         </td><td>0.82          </td><td>0.77          </td><td>22.40         </td><td>1.45          </td></tr>\n",
       "\t<tr><td> 500          </td><td>1000          </td><td>0.7           </td><td> 2.00         </td><td>0.30          </td><td>0.31 ( 0 )    </td><td>14.7 ( 0.84 ) </td><td>0 ( 0 )       </td><td>19.70         </td><td>0.65          </td><td>0.31          </td><td>14.70         </td><td>0.00          </td></tr>\n",
       "\t<tr><td>1000          </td><td>1000          </td><td>0.7           </td><td> 1.00         </td><td>0.41          </td><td>0.28 ( 0 )    </td><td>9.63 ( 0.54 ) </td><td>0 ( 0 )       </td><td>14.63         </td><td>0.53          </td><td>0.28          </td><td> 9.63         </td><td>0.00          </td></tr>\n",
       "\t<tr><td>  50          </td><td>  50          </td><td>0.9           </td><td> 1.00         </td><td>0.31          </td><td>0.55 ( 0.03 ) </td><td>5.65 ( 0.29 ) </td><td>2.17 ( 0.13 ) </td><td> 8.48         </td><td>0.51          </td><td>0.55          </td><td> 5.65         </td><td>2.17          </td></tr>\n",
       "\t<tr><td> 100          </td><td>  50          </td><td>0.9           </td><td> 0.50         </td><td>0.38          </td><td>0.38 ( 0.02 ) </td><td>5.85 ( 0.3 )  </td><td>1.03 ( 0.11 ) </td><td> 9.82         </td><td>0.45          </td><td>0.38          </td><td> 5.85         </td><td>1.03          </td></tr>\n",
       "\t<tr><td> 500          </td><td>  50          </td><td>0.9           </td><td> 0.10         </td><td>0.61          </td><td>0.28 ( 0 )    </td><td>4.34 ( 0.19 ) </td><td>0.01 ( 0.01 ) </td><td> 9.33         </td><td>0.33          </td><td>0.28          </td><td> 4.34         </td><td>0.01          </td></tr>\n",
       "\t<tr><td>1000          </td><td>  50          </td><td>0.9           </td><td> 0.05         </td><td>0.76          </td><td>0.27 ( 0 )    </td><td>2.71 ( 0.12 ) </td><td>0 ( 0 )       </td><td> 7.71         </td><td>0.2           </td><td>0.27          </td><td> 2.71         </td><td>0.00          </td></tr>\n",
       "\t<tr><td>  50          </td><td> 100          </td><td>0.9           </td><td> 2.00         </td><td>0.26          </td><td>0.6 ( 0.03 )  </td><td>7.26 ( 0.35 ) </td><td>2.69 ( 0.1 )  </td><td> 9.57         </td><td>0.62          </td><td>0.60          </td><td> 7.26         </td><td>2.69          </td></tr>\n",
       "\t<tr><td> 100          </td><td> 100          </td><td>0.9           </td><td> 1.00         </td><td>0.31          </td><td>0.44 ( 0.01 ) </td><td>7.79 ( 0.39 ) </td><td>1.51 ( 0.11 ) </td><td>11.28         </td><td>0.57          </td><td>0.44          </td><td> 7.79         </td><td>1.51          </td></tr>\n",
       "\t<tr><td> 500          </td><td> 100          </td><td>0.9           </td><td> 0.20         </td><td>0.51          </td><td>0.29 ( 0 )    </td><td>6.45 ( 0.27 ) </td><td>0 ( 0 )       </td><td>11.45         </td><td>0.45          </td><td>0.29          </td><td> 6.45         </td><td>0.00          </td></tr>\n",
       "\t<tr><td>1000          </td><td> 100          </td><td>0.9           </td><td> 0.10         </td><td>0.61          </td><td>0.27 ( 0 )    </td><td>4.72 ( 0.21 ) </td><td>0 ( 0 )       </td><td> 9.72         </td><td>0.35          </td><td>0.27          </td><td> 4.72         </td><td>0.00          </td></tr>\n",
       "\t<tr><td>  50          </td><td> 500          </td><td>0.9           </td><td>10.00         </td><td>0.13          </td><td>0.81 ( 0.04 ) </td><td>13.78 ( 0.36 )</td><td>3.54 ( 0.08 ) </td><td>15.24         </td><td>0.83          </td><td>0.81          </td><td>13.70         </td><td>3.54          </td></tr>\n",
       "\t<tr><td> 100          </td><td> 500          </td><td>0.9           </td><td> 5.00         </td><td>0.18          </td><td>0.54 ( 0.02 ) </td><td>13.78 ( 0.72 )</td><td>2.58 ( 0.08 ) </td><td>16.20         </td><td>0.76          </td><td>0.54          </td><td>13.70         </td><td>2.58          </td></tr>\n",
       "\t<tr><td> 500          </td><td> 500          </td><td>0.9           </td><td> 1.00         </td><td>0.25          </td><td>0.3 ( 0 )     </td><td>18.18 ( 0.69 )</td><td>0.03 ( 0.02 ) </td><td>23.15         </td><td>0.72          </td><td>0.30          </td><td>18.10         </td><td>0.03          </td></tr>\n",
       "\t<tr><td>1000          </td><td> 500          </td><td>0.9           </td><td> 0.50         </td><td>0.33          </td><td>0.28 ( 0 )    </td><td>12.68 ( 0.57 )</td><td>0 ( 0 )       </td><td>17.68         </td><td>0.63          </td><td>0.28          </td><td>12.60         </td><td>0.00          </td></tr>\n",
       "\t<tr><td>  50          </td><td>1000          </td><td>0.9           </td><td>20.00         </td><td>0.08          </td><td>0.9 ( 0.05 )  </td><td>18.15 ( 0.34 )</td><td>3.92 ( 0.08 ) </td><td>19.23         </td><td>0.89          </td><td>0.90          </td><td>18.10         </td><td>3.92          </td></tr>\n",
       "\t<tr><td> 100          </td><td>1000          </td><td>0.9           </td><td>10.00         </td><td>0.16          </td><td>0.59 ( 0.02 ) </td><td>15.99 ( 0.66 )</td><td>2.88 ( 0.06 ) </td><td>18.11         </td><td>0.81          </td><td>0.59          </td><td>15.90         </td><td>2.88          </td></tr>\n",
       "\t<tr><td> 500          </td><td>1000          </td><td>0.9           </td><td> 2.00         </td><td>0.20          </td><td>0.31 ( 0 )    </td><td>24.62 ( 1.01 )</td><td>0.05 ( 0.02 ) </td><td>29.57         </td><td>0.77          </td><td>0.31          </td><td>24.60         </td><td>0.05          </td></tr>\n",
       "\t<tr><td>1000          </td><td>1000          </td><td>0.9           </td><td> 1.00         </td><td>0.25          </td><td>0.28 ( 0 )    </td><td>18.51 ( 0.86 )</td><td>0 ( 0 )       </td><td>23.51         </td><td>0.71          </td><td>0.28          </td><td>18.50         </td><td>0.00          </td></tr>\n",
       "</tbody>\n",
       "</table>\n"
      ],
      "text/latex": [
       "\\begin{tabular}{r|lllllllllllll}\n",
       " N & P & Corr & Ratio & Stab & MSE & FP & FN & num\\_select & FDR & MSE\\_mean & FP\\_mean & FN\\_mean\\\\\n",
       "\\hline\n",
       "\t   50           &   50           & 0.1            &  1.00          & 0.36           & 0.62 ( 0.04 )  & 8.59 ( 0.46 )  & 0.02 ( 0.01 )  & 13.57          & 0.51           & 0.62           &  8.59          & 0.02          \\\\\n",
       "\t  100           &   50           & 0.1            &  0.50          & 0.47           & 0.37 ( 0.01 )  & 6.3 ( 0.43 )   & 0 ( 0 )        & 11.30          & 0.4            & 0.37           &  6.30          & 0.00          \\\\\n",
       "\t  500           &   50           & 0.1            &  0.10          & 0.73           & 0.28 ( 0 )     & 2.88 ( 0.21 )  & 0 ( 0 )        &  7.88          & 0.2            & 0.28           &  2.88          & 0.00          \\\\\n",
       "\t 1000           &   50           & 0.1            &  0.05          & 0.89           & 0.27 ( 0 )     & 1.66 ( 0.11 )  & 0 ( 0 )        &  6.66          & 0.08           & 0.27           &  1.66          & 0.00          \\\\\n",
       "\t   50           &  100           & 0.1            &  2.00          & 0.32           & 0.67 ( 0.05 )  & 11.84 ( 0.4 )  & 0 ( 0 )        & 16.84          & 0.62           & 0.67           & 11.80          & 0.00          \\\\\n",
       "\t  100           &  100           & 0.1            &  1.00          & 0.44           & 0.4 ( 0.01 )   & 7.71 ( 0.56 )  & 0 ( 0 )        & 12.71          & 0.46           & 0.40           &  7.71          & 0.00          \\\\\n",
       "\t  500           &  100           & 0.1            &  0.20          & 0.70           & 0.27 ( 0 )     & 3.35 ( 0.22 )  & 0 ( 0 )        &  8.35          & 0.23           & 0.27           &  3.35          & 0.00          \\\\\n",
       "\t 1000           &  100           & 0.1            &  0.10          & 0.81           & 0.27 ( 0 )     & 2.29 ( 0.23 )  & 0 ( 0 )        &  7.29          & 0.13           & 0.27           &  2.29          & 0.00          \\\\\n",
       "\t   50           &  500           & 0.1            & 10.00          & 0.18           & 1.61 ( 0.1 )   & 20.85 ( 0.38 ) & 0.69 ( 0.08 )  & 25.16          & 0.78           & 1.61           & 20.80          & 0.69          \\\\\n",
       "\t  100           &  500           & 0.1            &  5.00          & 0.30           & 0.53 ( 0.02 )  & 14.69 ( 0.7 )  & 0 ( 0 )        & 19.69          & 0.66           & 0.53           & 14.60          & 0.00          \\\\\n",
       "\t  500           &  500           & 0.1            &  1.00          & 0.55           & 0.28 ( 0 )     & 5.86 ( 0.51 )  & 0 ( 0 )        & 10.86          & 0.36           & 0.28           &  5.86          & 0.00          \\\\\n",
       "\t 1000           &  500           & 0.1            &  0.50          & 0.78           & 0.28 ( 0 )     & 2.69 ( 0.21 )  & 0 ( 0 )        &  7.69          & 0.17           & 0.28           &  2.69          & 0.00          \\\\\n",
       "\t   50           & 1000           & 0.1            & 20.00          & 0.13           & 2.23 ( 0.14 )  & 24.37 ( 0.39 ) & 1.36 ( 0.1 )   & 28.01          & 0.83           & 2.23           & 24.30          & 1.36          \\\\\n",
       "\t  100           & 1000           & 0.1            & 10.00          & 0.25           & 0.57 ( 0.03 )  & 18.79 ( 0.7 )  & 0 ( 0 )        & 23.79          & 0.73           & 0.57           & 18.70          & 0.00          \\\\\n",
       "\t  500           & 1000           & 0.1            &  2.00          & 0.49           & 0.28 ( 0 )     & 7.08 ( 0.53 )  & 0 ( 0 )        & 12.08          & 0.41           & 0.28           &  7.08          & 0.00          \\\\\n",
       "\t 1000           & 1000           & 0.1            &  1.00          & 0.70           & 0.27 ( 0 )     & 3.59 ( 0.33 )  & 0 ( 0 )        &  8.59          & 0.23           & 0.27           &  3.59          & 0.00          \\\\\n",
       "\t   50           &   50           & 0.3            &  1.00          & 0.35           & 0.57 ( 0.03 )  & 8.86 ( 0.42 )  & 0.05 ( 0.02 )  & 13.81          & 0.53           & 0.57           &  8.86          & 0.05          \\\\\n",
       "\t  100           &   50           & 0.3            &  0.50          & 0.47           & 0.36 ( 0.01 )  & 6.18 ( 0.36 )  & 0 ( 0 )        & 11.18          & 0.41           & 0.36           &  6.18          & 0.00          \\\\\n",
       "\t  500           &   50           & 0.3            &  0.10          & 0.70           & 0.28 ( 0 )     & 3.14 ( 0.21 )  & 0 ( 0 )        &  8.14          & 0.22           & 0.28           &  3.14          & 0.00          \\\\\n",
       "\t 1000           &   50           & 0.3            &  0.05          & 0.86           & 0.27 ( 0 )     & 1.86 ( 0.11 )  & 0 ( 0 )        &  6.86          & 0.11           & 0.27           &  1.86          & 0.00          \\\\\n",
       "\t   50           &  100           & 0.3            &  2.00          & 0.31           & 0.76 ( 0.04 )  & 11.12 ( 0.37 ) & 0.17 ( 0.04 )  & 15.95          & 0.62           & 0.76           & 11.10          & 0.17          \\\\\n",
       "\t  100           &  100           & 0.3            &  1.00          & 0.38           & 0.41 ( 0.01 )  & 9.43 ( 0.53 )  & 0 ( 0 )        & 14.43          & 0.54           & 0.41           &  9.43          & 0.00          \\\\\n",
       "\t  500           &  100           & 0.3            &  0.20          & 0.63           & 0.27 ( 0 )     & 4.16 ( 0.27 )  & 0 ( 0 )        &  9.16          & 0.29           & 0.27           &  4.16          & 0.00          \\\\\n",
       "\t 1000           &  100           & 0.3            &  0.10          & 0.80           & 0.27 ( 0 )     & 2.36 ( 0.17 )  & 0 ( 0 )        &  7.36          & 0.15           & 0.27           &  2.36          & 0.00          \\\\\n",
       "\t   50           &  500           & 0.3            & 10.00          & 0.14           & 1.78 ( 0.11 )  & 21.4 ( 0.41 )  & 1.39 ( 0.1 )   & 25.01          & 0.81           & 1.78           & 21.40          & 1.39          \\\\\n",
       "\t  100           &  500           & 0.3            &  5.00          & 0.26           & 0.53 ( 0.02 )  & 16.81 ( 0.77 ) & 0.02 ( 0.01 )  & 21.79          & 0.7            & 0.53           & 16.80          & 0.02          \\\\\n",
       "\t  500           &  500           & 0.3            &  1.00          & 0.55           & 0.29 ( 0 )     & 5.89 ( 0.51 )  & 0 ( 0 )        & 10.89          & 0.36           & 0.29           &  5.89          & 0.00          \\\\\n",
       "\t 1000           &  500           & 0.3            &  0.50          & 0.69           & 0.27 ( 0 )     & 3.68 ( 0.32 )  & 0 ( 0 )        &  8.68          & 0.25           & 0.27           &  3.68          & 0.00          \\\\\n",
       "\t   50           & 1000           & 0.3            & 20.00          & 0.11           & 2.21 ( 0.15 )  & 25.14 ( 0.35 ) & 1.87 ( 0.1 )   & 28.27          & 0.85           & 2.21           & 25.10          & 1.87          \\\\\n",
       "\t  100           & 1000           & 0.3            & 10.00          & 0.22           & 0.61 ( 0.03 )  & 21.11 ( 0.75 ) & 0.02 ( 0.01 )  & 26.09          & 0.75           & 0.61           & 21.10          & 0.02          \\\\\n",
       "\t ... & ... & ... & ... & ... & ... & ... & ... & ... & ... & ... & ... & ...\\\\\n",
       "\t  500           &   50           & 0.7            &  0.10          & 0.60           & 0.27 ( 0 )     & 4.38 ( 0.21 )  & 0 ( 0 )        &  9.38          & 0.33           & 0.27           &  4.38          & 0.00          \\\\\n",
       "\t 1000           &   50           & 0.7            &  0.05          & 0.74           & 0.27 ( 0 )     & 2.84 ( 0.14 )  & 0 ( 0 )        &  7.84          & 0.21           & 0.27           &  2.84          & 0.00          \\\\\n",
       "\t   50           &  100           & 0.7            &  2.00          & 0.23           & 0.8 ( 0.04 )   & 11.57 ( 0.53 ) & 1.26 ( 0.1 )   & 15.31          & 0.66           & 0.80           & 11.50          & 1.26          \\\\\n",
       "\t  100           &  100           & 0.7            &  1.00          & 0.31           & 0.39 ( 0.01 )  & 11.68 ( 0.51 ) & 0.1 ( 0.04 )   & 16.58          & 0.61           & 0.39           & 11.60          & 0.10          \\\\\n",
       "\t  500           &  100           & 0.7            &  0.20          & 0.49           & 0.28 ( 0 )     & 6.56 ( 0.32 )  & 0 ( 0 )        & 11.56          & 0.44           & 0.28           &  6.56          & 0.00          \\\\\n",
       "\t 1000           &  100           & 0.7            &  0.10          & 0.63           & 0.27 ( 0 )     & 4.24 ( 0.26 )  & 0 ( 0 )        &  9.24          & 0.3            & 0.27           &  4.24          & 0.00          \\\\\n",
       "\t   50           &  500           & 0.7            & 10.00          & 0.12           & 1.37 ( 0.08 )  & 19.8 ( 0.33 )  & 2.78 ( 0.08 )  & 22.02          & 0.85           & 1.37           & 19.80          & 2.78          \\\\\n",
       "\t  100           &  500           & 0.7            &  5.00          & 0.19           & 0.62 ( 0.03 )  & 18.58 ( 0.85 ) & 0.88 ( 0.08 )  & 22.70          & 0.75           & 0.62           & 18.50          & 0.88          \\\\\n",
       "\t  500           &  500           & 0.7            &  1.00          & 0.36           & 0.3 ( 0 )      & 11.31 ( 0.6 )  & 0 ( 0 )        & 16.31          & 0.58           & 0.30           & 11.30          & 0.00          \\\\\n",
       "\t 1000           &  500           & 0.7            &  0.50          & 0.46           & 0.27 ( 0 )     & 7.93 ( 0.49 )  & 0 ( 0 )        & 12.93          & 0.47           & 0.27           &  7.93          & 0.00          \\\\\n",
       "\t   50           & 1000           & 0.7            & 20.00          & 0.09           & 1.5 ( 0.08 )   & 22.99 ( 0.35 ) & 3.2 ( 0.09 )   & 24.79          & 0.88           & 1.50           & 22.90          & 3.20          \\\\\n",
       "\t  100           & 1000           & 0.7            & 10.00          & 0.14           & 0.77 ( 0.04 )  & 22.43 ( 0.68 ) & 1.45 ( 0.1 )   & 25.98          & 0.82           & 0.77           & 22.40          & 1.45          \\\\\n",
       "\t  500           & 1000           & 0.7            &  2.00          & 0.30           & 0.31 ( 0 )     & 14.7 ( 0.84 )  & 0 ( 0 )        & 19.70          & 0.65           & 0.31           & 14.70          & 0.00          \\\\\n",
       "\t 1000           & 1000           & 0.7            &  1.00          & 0.41           & 0.28 ( 0 )     & 9.63 ( 0.54 )  & 0 ( 0 )        & 14.63          & 0.53           & 0.28           &  9.63          & 0.00          \\\\\n",
       "\t   50           &   50           & 0.9            &  1.00          & 0.31           & 0.55 ( 0.03 )  & 5.65 ( 0.29 )  & 2.17 ( 0.13 )  &  8.48          & 0.51           & 0.55           &  5.65          & 2.17          \\\\\n",
       "\t  100           &   50           & 0.9            &  0.50          & 0.38           & 0.38 ( 0.02 )  & 5.85 ( 0.3 )   & 1.03 ( 0.11 )  &  9.82          & 0.45           & 0.38           &  5.85          & 1.03          \\\\\n",
       "\t  500           &   50           & 0.9            &  0.10          & 0.61           & 0.28 ( 0 )     & 4.34 ( 0.19 )  & 0.01 ( 0.01 )  &  9.33          & 0.33           & 0.28           &  4.34          & 0.01          \\\\\n",
       "\t 1000           &   50           & 0.9            &  0.05          & 0.76           & 0.27 ( 0 )     & 2.71 ( 0.12 )  & 0 ( 0 )        &  7.71          & 0.2            & 0.27           &  2.71          & 0.00          \\\\\n",
       "\t   50           &  100           & 0.9            &  2.00          & 0.26           & 0.6 ( 0.03 )   & 7.26 ( 0.35 )  & 2.69 ( 0.1 )   &  9.57          & 0.62           & 0.60           &  7.26          & 2.69          \\\\\n",
       "\t  100           &  100           & 0.9            &  1.00          & 0.31           & 0.44 ( 0.01 )  & 7.79 ( 0.39 )  & 1.51 ( 0.11 )  & 11.28          & 0.57           & 0.44           &  7.79          & 1.51          \\\\\n",
       "\t  500           &  100           & 0.9            &  0.20          & 0.51           & 0.29 ( 0 )     & 6.45 ( 0.27 )  & 0 ( 0 )        & 11.45          & 0.45           & 0.29           &  6.45          & 0.00          \\\\\n",
       "\t 1000           &  100           & 0.9            &  0.10          & 0.61           & 0.27 ( 0 )     & 4.72 ( 0.21 )  & 0 ( 0 )        &  9.72          & 0.35           & 0.27           &  4.72          & 0.00          \\\\\n",
       "\t   50           &  500           & 0.9            & 10.00          & 0.13           & 0.81 ( 0.04 )  & 13.78 ( 0.36 ) & 3.54 ( 0.08 )  & 15.24          & 0.83           & 0.81           & 13.70          & 3.54          \\\\\n",
       "\t  100           &  500           & 0.9            &  5.00          & 0.18           & 0.54 ( 0.02 )  & 13.78 ( 0.72 ) & 2.58 ( 0.08 )  & 16.20          & 0.76           & 0.54           & 13.70          & 2.58          \\\\\n",
       "\t  500           &  500           & 0.9            &  1.00          & 0.25           & 0.3 ( 0 )      & 18.18 ( 0.69 ) & 0.03 ( 0.02 )  & 23.15          & 0.72           & 0.30           & 18.10          & 0.03          \\\\\n",
       "\t 1000           &  500           & 0.9            &  0.50          & 0.33           & 0.28 ( 0 )     & 12.68 ( 0.57 ) & 0 ( 0 )        & 17.68          & 0.63           & 0.28           & 12.60          & 0.00          \\\\\n",
       "\t   50           & 1000           & 0.9            & 20.00          & 0.08           & 0.9 ( 0.05 )   & 18.15 ( 0.34 ) & 3.92 ( 0.08 )  & 19.23          & 0.89           & 0.90           & 18.10          & 3.92          \\\\\n",
       "\t  100           & 1000           & 0.9            & 10.00          & 0.16           & 0.59 ( 0.02 )  & 15.99 ( 0.66 ) & 2.88 ( 0.06 )  & 18.11          & 0.81           & 0.59           & 15.90          & 2.88          \\\\\n",
       "\t  500           & 1000           & 0.9            &  2.00          & 0.20           & 0.31 ( 0 )     & 24.62 ( 1.01 ) & 0.05 ( 0.02 )  & 29.57          & 0.77           & 0.31           & 24.60          & 0.05          \\\\\n",
       "\t 1000           & 1000           & 0.9            &  1.00          & 0.25           & 0.28 ( 0 )     & 18.51 ( 0.86 ) & 0 ( 0 )        & 23.51          & 0.71           & 0.28           & 18.50          & 0.00          \\\\\n",
       "\\end{tabular}\n"
      ],
      "text/markdown": [
       "\n",
       "| N | P | Corr | Ratio | Stab | MSE | FP | FN | num_select | FDR | MSE_mean | FP_mean | FN_mean |\n",
       "|---|---|---|---|---|---|---|---|---|---|---|---|---|\n",
       "|   50           |   50           | 0.1            |  1.00          | 0.36           | 0.62 ( 0.04 )  | 8.59 ( 0.46 )  | 0.02 ( 0.01 )  | 13.57          | 0.51           | 0.62           |  8.59          | 0.02           |\n",
       "|  100           |   50           | 0.1            |  0.50          | 0.47           | 0.37 ( 0.01 )  | 6.3 ( 0.43 )   | 0 ( 0 )        | 11.30          | 0.4            | 0.37           |  6.30          | 0.00           |\n",
       "|  500           |   50           | 0.1            |  0.10          | 0.73           | 0.28 ( 0 )     | 2.88 ( 0.21 )  | 0 ( 0 )        |  7.88          | 0.2            | 0.28           |  2.88          | 0.00           |\n",
       "| 1000           |   50           | 0.1            |  0.05          | 0.89           | 0.27 ( 0 )     | 1.66 ( 0.11 )  | 0 ( 0 )        |  6.66          | 0.08           | 0.27           |  1.66          | 0.00           |\n",
       "|   50           |  100           | 0.1            |  2.00          | 0.32           | 0.67 ( 0.05 )  | 11.84 ( 0.4 )  | 0 ( 0 )        | 16.84          | 0.62           | 0.67           | 11.80          | 0.00           |\n",
       "|  100           |  100           | 0.1            |  1.00          | 0.44           | 0.4 ( 0.01 )   | 7.71 ( 0.56 )  | 0 ( 0 )        | 12.71          | 0.46           | 0.40           |  7.71          | 0.00           |\n",
       "|  500           |  100           | 0.1            |  0.20          | 0.70           | 0.27 ( 0 )     | 3.35 ( 0.22 )  | 0 ( 0 )        |  8.35          | 0.23           | 0.27           |  3.35          | 0.00           |\n",
       "| 1000           |  100           | 0.1            |  0.10          | 0.81           | 0.27 ( 0 )     | 2.29 ( 0.23 )  | 0 ( 0 )        |  7.29          | 0.13           | 0.27           |  2.29          | 0.00           |\n",
       "|   50           |  500           | 0.1            | 10.00          | 0.18           | 1.61 ( 0.1 )   | 20.85 ( 0.38 ) | 0.69 ( 0.08 )  | 25.16          | 0.78           | 1.61           | 20.80          | 0.69           |\n",
       "|  100           |  500           | 0.1            |  5.00          | 0.30           | 0.53 ( 0.02 )  | 14.69 ( 0.7 )  | 0 ( 0 )        | 19.69          | 0.66           | 0.53           | 14.60          | 0.00           |\n",
       "|  500           |  500           | 0.1            |  1.00          | 0.55           | 0.28 ( 0 )     | 5.86 ( 0.51 )  | 0 ( 0 )        | 10.86          | 0.36           | 0.28           |  5.86          | 0.00           |\n",
       "| 1000           |  500           | 0.1            |  0.50          | 0.78           | 0.28 ( 0 )     | 2.69 ( 0.21 )  | 0 ( 0 )        |  7.69          | 0.17           | 0.28           |  2.69          | 0.00           |\n",
       "|   50           | 1000           | 0.1            | 20.00          | 0.13           | 2.23 ( 0.14 )  | 24.37 ( 0.39 ) | 1.36 ( 0.1 )   | 28.01          | 0.83           | 2.23           | 24.30          | 1.36           |\n",
       "|  100           | 1000           | 0.1            | 10.00          | 0.25           | 0.57 ( 0.03 )  | 18.79 ( 0.7 )  | 0 ( 0 )        | 23.79          | 0.73           | 0.57           | 18.70          | 0.00           |\n",
       "|  500           | 1000           | 0.1            |  2.00          | 0.49           | 0.28 ( 0 )     | 7.08 ( 0.53 )  | 0 ( 0 )        | 12.08          | 0.41           | 0.28           |  7.08          | 0.00           |\n",
       "| 1000           | 1000           | 0.1            |  1.00          | 0.70           | 0.27 ( 0 )     | 3.59 ( 0.33 )  | 0 ( 0 )        |  8.59          | 0.23           | 0.27           |  3.59          | 0.00           |\n",
       "|   50           |   50           | 0.3            |  1.00          | 0.35           | 0.57 ( 0.03 )  | 8.86 ( 0.42 )  | 0.05 ( 0.02 )  | 13.81          | 0.53           | 0.57           |  8.86          | 0.05           |\n",
       "|  100           |   50           | 0.3            |  0.50          | 0.47           | 0.36 ( 0.01 )  | 6.18 ( 0.36 )  | 0 ( 0 )        | 11.18          | 0.41           | 0.36           |  6.18          | 0.00           |\n",
       "|  500           |   50           | 0.3            |  0.10          | 0.70           | 0.28 ( 0 )     | 3.14 ( 0.21 )  | 0 ( 0 )        |  8.14          | 0.22           | 0.28           |  3.14          | 0.00           |\n",
       "| 1000           |   50           | 0.3            |  0.05          | 0.86           | 0.27 ( 0 )     | 1.86 ( 0.11 )  | 0 ( 0 )        |  6.86          | 0.11           | 0.27           |  1.86          | 0.00           |\n",
       "|   50           |  100           | 0.3            |  2.00          | 0.31           | 0.76 ( 0.04 )  | 11.12 ( 0.37 ) | 0.17 ( 0.04 )  | 15.95          | 0.62           | 0.76           | 11.10          | 0.17           |\n",
       "|  100           |  100           | 0.3            |  1.00          | 0.38           | 0.41 ( 0.01 )  | 9.43 ( 0.53 )  | 0 ( 0 )        | 14.43          | 0.54           | 0.41           |  9.43          | 0.00           |\n",
       "|  500           |  100           | 0.3            |  0.20          | 0.63           | 0.27 ( 0 )     | 4.16 ( 0.27 )  | 0 ( 0 )        |  9.16          | 0.29           | 0.27           |  4.16          | 0.00           |\n",
       "| 1000           |  100           | 0.3            |  0.10          | 0.80           | 0.27 ( 0 )     | 2.36 ( 0.17 )  | 0 ( 0 )        |  7.36          | 0.15           | 0.27           |  2.36          | 0.00           |\n",
       "|   50           |  500           | 0.3            | 10.00          | 0.14           | 1.78 ( 0.11 )  | 21.4 ( 0.41 )  | 1.39 ( 0.1 )   | 25.01          | 0.81           | 1.78           | 21.40          | 1.39           |\n",
       "|  100           |  500           | 0.3            |  5.00          | 0.26           | 0.53 ( 0.02 )  | 16.81 ( 0.77 ) | 0.02 ( 0.01 )  | 21.79          | 0.7            | 0.53           | 16.80          | 0.02           |\n",
       "|  500           |  500           | 0.3            |  1.00          | 0.55           | 0.29 ( 0 )     | 5.89 ( 0.51 )  | 0 ( 0 )        | 10.89          | 0.36           | 0.29           |  5.89          | 0.00           |\n",
       "| 1000           |  500           | 0.3            |  0.50          | 0.69           | 0.27 ( 0 )     | 3.68 ( 0.32 )  | 0 ( 0 )        |  8.68          | 0.25           | 0.27           |  3.68          | 0.00           |\n",
       "|   50           | 1000           | 0.3            | 20.00          | 0.11           | 2.21 ( 0.15 )  | 25.14 ( 0.35 ) | 1.87 ( 0.1 )   | 28.27          | 0.85           | 2.21           | 25.10          | 1.87           |\n",
       "|  100           | 1000           | 0.3            | 10.00          | 0.22           | 0.61 ( 0.03 )  | 21.11 ( 0.75 ) | 0.02 ( 0.01 )  | 26.09          | 0.75           | 0.61           | 21.10          | 0.02           |\n",
       "| ... | ... | ... | ... | ... | ... | ... | ... | ... | ... | ... | ... | ... |\n",
       "|  500           |   50           | 0.7            |  0.10          | 0.60           | 0.27 ( 0 )     | 4.38 ( 0.21 )  | 0 ( 0 )        |  9.38          | 0.33           | 0.27           |  4.38          | 0.00           |\n",
       "| 1000           |   50           | 0.7            |  0.05          | 0.74           | 0.27 ( 0 )     | 2.84 ( 0.14 )  | 0 ( 0 )        |  7.84          | 0.21           | 0.27           |  2.84          | 0.00           |\n",
       "|   50           |  100           | 0.7            |  2.00          | 0.23           | 0.8 ( 0.04 )   | 11.57 ( 0.53 ) | 1.26 ( 0.1 )   | 15.31          | 0.66           | 0.80           | 11.50          | 1.26           |\n",
       "|  100           |  100           | 0.7            |  1.00          | 0.31           | 0.39 ( 0.01 )  | 11.68 ( 0.51 ) | 0.1 ( 0.04 )   | 16.58          | 0.61           | 0.39           | 11.60          | 0.10           |\n",
       "|  500           |  100           | 0.7            |  0.20          | 0.49           | 0.28 ( 0 )     | 6.56 ( 0.32 )  | 0 ( 0 )        | 11.56          | 0.44           | 0.28           |  6.56          | 0.00           |\n",
       "| 1000           |  100           | 0.7            |  0.10          | 0.63           | 0.27 ( 0 )     | 4.24 ( 0.26 )  | 0 ( 0 )        |  9.24          | 0.3            | 0.27           |  4.24          | 0.00           |\n",
       "|   50           |  500           | 0.7            | 10.00          | 0.12           | 1.37 ( 0.08 )  | 19.8 ( 0.33 )  | 2.78 ( 0.08 )  | 22.02          | 0.85           | 1.37           | 19.80          | 2.78           |\n",
       "|  100           |  500           | 0.7            |  5.00          | 0.19           | 0.62 ( 0.03 )  | 18.58 ( 0.85 ) | 0.88 ( 0.08 )  | 22.70          | 0.75           | 0.62           | 18.50          | 0.88           |\n",
       "|  500           |  500           | 0.7            |  1.00          | 0.36           | 0.3 ( 0 )      | 11.31 ( 0.6 )  | 0 ( 0 )        | 16.31          | 0.58           | 0.30           | 11.30          | 0.00           |\n",
       "| 1000           |  500           | 0.7            |  0.50          | 0.46           | 0.27 ( 0 )     | 7.93 ( 0.49 )  | 0 ( 0 )        | 12.93          | 0.47           | 0.27           |  7.93          | 0.00           |\n",
       "|   50           | 1000           | 0.7            | 20.00          | 0.09           | 1.5 ( 0.08 )   | 22.99 ( 0.35 ) | 3.2 ( 0.09 )   | 24.79          | 0.88           | 1.50           | 22.90          | 3.20           |\n",
       "|  100           | 1000           | 0.7            | 10.00          | 0.14           | 0.77 ( 0.04 )  | 22.43 ( 0.68 ) | 1.45 ( 0.1 )   | 25.98          | 0.82           | 0.77           | 22.40          | 1.45           |\n",
       "|  500           | 1000           | 0.7            |  2.00          | 0.30           | 0.31 ( 0 )     | 14.7 ( 0.84 )  | 0 ( 0 )        | 19.70          | 0.65           | 0.31           | 14.70          | 0.00           |\n",
       "| 1000           | 1000           | 0.7            |  1.00          | 0.41           | 0.28 ( 0 )     | 9.63 ( 0.54 )  | 0 ( 0 )        | 14.63          | 0.53           | 0.28           |  9.63          | 0.00           |\n",
       "|   50           |   50           | 0.9            |  1.00          | 0.31           | 0.55 ( 0.03 )  | 5.65 ( 0.29 )  | 2.17 ( 0.13 )  |  8.48          | 0.51           | 0.55           |  5.65          | 2.17           |\n",
       "|  100           |   50           | 0.9            |  0.50          | 0.38           | 0.38 ( 0.02 )  | 5.85 ( 0.3 )   | 1.03 ( 0.11 )  |  9.82          | 0.45           | 0.38           |  5.85          | 1.03           |\n",
       "|  500           |   50           | 0.9            |  0.10          | 0.61           | 0.28 ( 0 )     | 4.34 ( 0.19 )  | 0.01 ( 0.01 )  |  9.33          | 0.33           | 0.28           |  4.34          | 0.01           |\n",
       "| 1000           |   50           | 0.9            |  0.05          | 0.76           | 0.27 ( 0 )     | 2.71 ( 0.12 )  | 0 ( 0 )        |  7.71          | 0.2            | 0.27           |  2.71          | 0.00           |\n",
       "|   50           |  100           | 0.9            |  2.00          | 0.26           | 0.6 ( 0.03 )   | 7.26 ( 0.35 )  | 2.69 ( 0.1 )   |  9.57          | 0.62           | 0.60           |  7.26          | 2.69           |\n",
       "|  100           |  100           | 0.9            |  1.00          | 0.31           | 0.44 ( 0.01 )  | 7.79 ( 0.39 )  | 1.51 ( 0.11 )  | 11.28          | 0.57           | 0.44           |  7.79          | 1.51           |\n",
       "|  500           |  100           | 0.9            |  0.20          | 0.51           | 0.29 ( 0 )     | 6.45 ( 0.27 )  | 0 ( 0 )        | 11.45          | 0.45           | 0.29           |  6.45          | 0.00           |\n",
       "| 1000           |  100           | 0.9            |  0.10          | 0.61           | 0.27 ( 0 )     | 4.72 ( 0.21 )  | 0 ( 0 )        |  9.72          | 0.35           | 0.27           |  4.72          | 0.00           |\n",
       "|   50           |  500           | 0.9            | 10.00          | 0.13           | 0.81 ( 0.04 )  | 13.78 ( 0.36 ) | 3.54 ( 0.08 )  | 15.24          | 0.83           | 0.81           | 13.70          | 3.54           |\n",
       "|  100           |  500           | 0.9            |  5.00          | 0.18           | 0.54 ( 0.02 )  | 13.78 ( 0.72 ) | 2.58 ( 0.08 )  | 16.20          | 0.76           | 0.54           | 13.70          | 2.58           |\n",
       "|  500           |  500           | 0.9            |  1.00          | 0.25           | 0.3 ( 0 )      | 18.18 ( 0.69 ) | 0.03 ( 0.02 )  | 23.15          | 0.72           | 0.30           | 18.10          | 0.03           |\n",
       "| 1000           |  500           | 0.9            |  0.50          | 0.33           | 0.28 ( 0 )     | 12.68 ( 0.57 ) | 0 ( 0 )        | 17.68          | 0.63           | 0.28           | 12.60          | 0.00           |\n",
       "|   50           | 1000           | 0.9            | 20.00          | 0.08           | 0.9 ( 0.05 )   | 18.15 ( 0.34 ) | 3.92 ( 0.08 )  | 19.23          | 0.89           | 0.90           | 18.10          | 3.92           |\n",
       "|  100           | 1000           | 0.9            | 10.00          | 0.16           | 0.59 ( 0.02 )  | 15.99 ( 0.66 ) | 2.88 ( 0.06 )  | 18.11          | 0.81           | 0.59           | 15.90          | 2.88           |\n",
       "|  500           | 1000           | 0.9            |  2.00          | 0.20           | 0.31 ( 0 )     | 24.62 ( 1.01 ) | 0.05 ( 0.02 )  | 29.57          | 0.77           | 0.31           | 24.60          | 0.05           |\n",
       "| 1000           | 1000           | 0.9            |  1.00          | 0.25           | 0.28 ( 0 )     | 18.51 ( 0.86 ) | 0 ( 0 )        | 23.51          | 0.71           | 0.28           | 18.50          | 0.00           |\n",
       "\n"
      ],
      "text/plain": [
       "    N    P    Corr Ratio Stab MSE           FP             FN           \n",
       "1     50   50 0.1   1.00 0.36 0.62 ( 0.04 ) 8.59 ( 0.46 )  0.02 ( 0.01 )\n",
       "2    100   50 0.1   0.50 0.47 0.37 ( 0.01 ) 6.3 ( 0.43 )   0 ( 0 )      \n",
       "3    500   50 0.1   0.10 0.73 0.28 ( 0 )    2.88 ( 0.21 )  0 ( 0 )      \n",
       "4   1000   50 0.1   0.05 0.89 0.27 ( 0 )    1.66 ( 0.11 )  0 ( 0 )      \n",
       "5     50  100 0.1   2.00 0.32 0.67 ( 0.05 ) 11.84 ( 0.4 )  0 ( 0 )      \n",
       "6    100  100 0.1   1.00 0.44 0.4 ( 0.01 )  7.71 ( 0.56 )  0 ( 0 )      \n",
       "7    500  100 0.1   0.20 0.70 0.27 ( 0 )    3.35 ( 0.22 )  0 ( 0 )      \n",
       "8   1000  100 0.1   0.10 0.81 0.27 ( 0 )    2.29 ( 0.23 )  0 ( 0 )      \n",
       "9     50  500 0.1  10.00 0.18 1.61 ( 0.1 )  20.85 ( 0.38 ) 0.69 ( 0.08 )\n",
       "10   100  500 0.1   5.00 0.30 0.53 ( 0.02 ) 14.69 ( 0.7 )  0 ( 0 )      \n",
       "11   500  500 0.1   1.00 0.55 0.28 ( 0 )    5.86 ( 0.51 )  0 ( 0 )      \n",
       "12  1000  500 0.1   0.50 0.78 0.28 ( 0 )    2.69 ( 0.21 )  0 ( 0 )      \n",
       "13    50 1000 0.1  20.00 0.13 2.23 ( 0.14 ) 24.37 ( 0.39 ) 1.36 ( 0.1 ) \n",
       "14   100 1000 0.1  10.00 0.25 0.57 ( 0.03 ) 18.79 ( 0.7 )  0 ( 0 )      \n",
       "15   500 1000 0.1   2.00 0.49 0.28 ( 0 )    7.08 ( 0.53 )  0 ( 0 )      \n",
       "16  1000 1000 0.1   1.00 0.70 0.27 ( 0 )    3.59 ( 0.33 )  0 ( 0 )      \n",
       "17    50   50 0.3   1.00 0.35 0.57 ( 0.03 ) 8.86 ( 0.42 )  0.05 ( 0.02 )\n",
       "18   100   50 0.3   0.50 0.47 0.36 ( 0.01 ) 6.18 ( 0.36 )  0 ( 0 )      \n",
       "19   500   50 0.3   0.10 0.70 0.28 ( 0 )    3.14 ( 0.21 )  0 ( 0 )      \n",
       "20  1000   50 0.3   0.05 0.86 0.27 ( 0 )    1.86 ( 0.11 )  0 ( 0 )      \n",
       "21    50  100 0.3   2.00 0.31 0.76 ( 0.04 ) 11.12 ( 0.37 ) 0.17 ( 0.04 )\n",
       "22   100  100 0.3   1.00 0.38 0.41 ( 0.01 ) 9.43 ( 0.53 )  0 ( 0 )      \n",
       "23   500  100 0.3   0.20 0.63 0.27 ( 0 )    4.16 ( 0.27 )  0 ( 0 )      \n",
       "24  1000  100 0.3   0.10 0.80 0.27 ( 0 )    2.36 ( 0.17 )  0 ( 0 )      \n",
       "25    50  500 0.3  10.00 0.14 1.78 ( 0.11 ) 21.4 ( 0.41 )  1.39 ( 0.1 ) \n",
       "26   100  500 0.3   5.00 0.26 0.53 ( 0.02 ) 16.81 ( 0.77 ) 0.02 ( 0.01 )\n",
       "27   500  500 0.3   1.00 0.55 0.29 ( 0 )    5.89 ( 0.51 )  0 ( 0 )      \n",
       "28  1000  500 0.3   0.50 0.69 0.27 ( 0 )    3.68 ( 0.32 )  0 ( 0 )      \n",
       "29    50 1000 0.3  20.00 0.11 2.21 ( 0.15 ) 25.14 ( 0.35 ) 1.87 ( 0.1 ) \n",
       "30   100 1000 0.3  10.00 0.22 0.61 ( 0.03 ) 21.11 ( 0.75 ) 0.02 ( 0.01 )\n",
       "... ...  ...  ...  ...   ...  ...           ...            ...          \n",
       "51   500   50 0.7   0.10 0.60 0.27 ( 0 )    4.38 ( 0.21 )  0 ( 0 )      \n",
       "52  1000   50 0.7   0.05 0.74 0.27 ( 0 )    2.84 ( 0.14 )  0 ( 0 )      \n",
       "53    50  100 0.7   2.00 0.23 0.8 ( 0.04 )  11.57 ( 0.53 ) 1.26 ( 0.1 ) \n",
       "54   100  100 0.7   1.00 0.31 0.39 ( 0.01 ) 11.68 ( 0.51 ) 0.1 ( 0.04 ) \n",
       "55   500  100 0.7   0.20 0.49 0.28 ( 0 )    6.56 ( 0.32 )  0 ( 0 )      \n",
       "56  1000  100 0.7   0.10 0.63 0.27 ( 0 )    4.24 ( 0.26 )  0 ( 0 )      \n",
       "57    50  500 0.7  10.00 0.12 1.37 ( 0.08 ) 19.8 ( 0.33 )  2.78 ( 0.08 )\n",
       "58   100  500 0.7   5.00 0.19 0.62 ( 0.03 ) 18.58 ( 0.85 ) 0.88 ( 0.08 )\n",
       "59   500  500 0.7   1.00 0.36 0.3 ( 0 )     11.31 ( 0.6 )  0 ( 0 )      \n",
       "60  1000  500 0.7   0.50 0.46 0.27 ( 0 )    7.93 ( 0.49 )  0 ( 0 )      \n",
       "61    50 1000 0.7  20.00 0.09 1.5 ( 0.08 )  22.99 ( 0.35 ) 3.2 ( 0.09 ) \n",
       "62   100 1000 0.7  10.00 0.14 0.77 ( 0.04 ) 22.43 ( 0.68 ) 1.45 ( 0.1 ) \n",
       "63   500 1000 0.7   2.00 0.30 0.31 ( 0 )    14.7 ( 0.84 )  0 ( 0 )      \n",
       "64  1000 1000 0.7   1.00 0.41 0.28 ( 0 )    9.63 ( 0.54 )  0 ( 0 )      \n",
       "65    50   50 0.9   1.00 0.31 0.55 ( 0.03 ) 5.65 ( 0.29 )  2.17 ( 0.13 )\n",
       "66   100   50 0.9   0.50 0.38 0.38 ( 0.02 ) 5.85 ( 0.3 )   1.03 ( 0.11 )\n",
       "67   500   50 0.9   0.10 0.61 0.28 ( 0 )    4.34 ( 0.19 )  0.01 ( 0.01 )\n",
       "68  1000   50 0.9   0.05 0.76 0.27 ( 0 )    2.71 ( 0.12 )  0 ( 0 )      \n",
       "69    50  100 0.9   2.00 0.26 0.6 ( 0.03 )  7.26 ( 0.35 )  2.69 ( 0.1 ) \n",
       "70   100  100 0.9   1.00 0.31 0.44 ( 0.01 ) 7.79 ( 0.39 )  1.51 ( 0.11 )\n",
       "71   500  100 0.9   0.20 0.51 0.29 ( 0 )    6.45 ( 0.27 )  0 ( 0 )      \n",
       "72  1000  100 0.9   0.10 0.61 0.27 ( 0 )    4.72 ( 0.21 )  0 ( 0 )      \n",
       "73    50  500 0.9  10.00 0.13 0.81 ( 0.04 ) 13.78 ( 0.36 ) 3.54 ( 0.08 )\n",
       "74   100  500 0.9   5.00 0.18 0.54 ( 0.02 ) 13.78 ( 0.72 ) 2.58 ( 0.08 )\n",
       "75   500  500 0.9   1.00 0.25 0.3 ( 0 )     18.18 ( 0.69 ) 0.03 ( 0.02 )\n",
       "76  1000  500 0.9   0.50 0.33 0.28 ( 0 )    12.68 ( 0.57 ) 0 ( 0 )      \n",
       "77    50 1000 0.9  20.00 0.08 0.9 ( 0.05 )  18.15 ( 0.34 ) 3.92 ( 0.08 )\n",
       "78   100 1000 0.9  10.00 0.16 0.59 ( 0.02 ) 15.99 ( 0.66 ) 2.88 ( 0.06 )\n",
       "79   500 1000 0.9   2.00 0.20 0.31 ( 0 )    24.62 ( 1.01 ) 0.05 ( 0.02 )\n",
       "80  1000 1000 0.9   1.00 0.25 0.28 ( 0 )    18.51 ( 0.86 ) 0 ( 0 )      \n",
       "    num_select FDR  MSE_mean FP_mean FN_mean\n",
       "1   13.57      0.51 0.62      8.59   0.02   \n",
       "2   11.30      0.4  0.37      6.30   0.00   \n",
       "3    7.88      0.2  0.28      2.88   0.00   \n",
       "4    6.66      0.08 0.27      1.66   0.00   \n",
       "5   16.84      0.62 0.67     11.80   0.00   \n",
       "6   12.71      0.46 0.40      7.71   0.00   \n",
       "7    8.35      0.23 0.27      3.35   0.00   \n",
       "8    7.29      0.13 0.27      2.29   0.00   \n",
       "9   25.16      0.78 1.61     20.80   0.69   \n",
       "10  19.69      0.66 0.53     14.60   0.00   \n",
       "11  10.86      0.36 0.28      5.86   0.00   \n",
       "12   7.69      0.17 0.28      2.69   0.00   \n",
       "13  28.01      0.83 2.23     24.30   1.36   \n",
       "14  23.79      0.73 0.57     18.70   0.00   \n",
       "15  12.08      0.41 0.28      7.08   0.00   \n",
       "16   8.59      0.23 0.27      3.59   0.00   \n",
       "17  13.81      0.53 0.57      8.86   0.05   \n",
       "18  11.18      0.41 0.36      6.18   0.00   \n",
       "19   8.14      0.22 0.28      3.14   0.00   \n",
       "20   6.86      0.11 0.27      1.86   0.00   \n",
       "21  15.95      0.62 0.76     11.10   0.17   \n",
       "22  14.43      0.54 0.41      9.43   0.00   \n",
       "23   9.16      0.29 0.27      4.16   0.00   \n",
       "24   7.36      0.15 0.27      2.36   0.00   \n",
       "25  25.01      0.81 1.78     21.40   1.39   \n",
       "26  21.79      0.7  0.53     16.80   0.02   \n",
       "27  10.89      0.36 0.29      5.89   0.00   \n",
       "28   8.68      0.25 0.27      3.68   0.00   \n",
       "29  28.27      0.85 2.21     25.10   1.87   \n",
       "30  26.09      0.75 0.61     21.10   0.02   \n",
       "... ...        ...  ...      ...     ...    \n",
       "51   9.38      0.33 0.27      4.38   0.00   \n",
       "52   7.84      0.21 0.27      2.84   0.00   \n",
       "53  15.31      0.66 0.80     11.50   1.26   \n",
       "54  16.58      0.61 0.39     11.60   0.10   \n",
       "55  11.56      0.44 0.28      6.56   0.00   \n",
       "56   9.24      0.3  0.27      4.24   0.00   \n",
       "57  22.02      0.85 1.37     19.80   2.78   \n",
       "58  22.70      0.75 0.62     18.50   0.88   \n",
       "59  16.31      0.58 0.30     11.30   0.00   \n",
       "60  12.93      0.47 0.27      7.93   0.00   \n",
       "61  24.79      0.88 1.50     22.90   3.20   \n",
       "62  25.98      0.82 0.77     22.40   1.45   \n",
       "63  19.70      0.65 0.31     14.70   0.00   \n",
       "64  14.63      0.53 0.28      9.63   0.00   \n",
       "65   8.48      0.51 0.55      5.65   2.17   \n",
       "66   9.82      0.45 0.38      5.85   1.03   \n",
       "67   9.33      0.33 0.28      4.34   0.01   \n",
       "68   7.71      0.2  0.27      2.71   0.00   \n",
       "69   9.57      0.62 0.60      7.26   2.69   \n",
       "70  11.28      0.57 0.44      7.79   1.51   \n",
       "71  11.45      0.45 0.29      6.45   0.00   \n",
       "72   9.72      0.35 0.27      4.72   0.00   \n",
       "73  15.24      0.83 0.81     13.70   3.54   \n",
       "74  16.20      0.76 0.54     13.70   2.58   \n",
       "75  23.15      0.72 0.30     18.10   0.03   \n",
       "76  17.68      0.63 0.28     12.60   0.00   \n",
       "77  19.23      0.89 0.90     18.10   3.92   \n",
       "78  18.11      0.81 0.59     15.90   2.88   \n",
       "79  29.57      0.77 0.31     24.60   0.05   \n",
       "80  23.51      0.71 0.28     18.50   0.00   "
      ]
     },
     "metadata": {},
     "output_type": "display_data"
    }
   ],
   "source": [
    "result.table_toe\n",
    "\n",
    "## export\n",
    "write.table(result.table_toe, '../results_summary_cts/sim_toe_lasso.txt', sep='\\t', row.names=F)"
   ]
  },
  {
   "cell_type": "code",
   "execution_count": null,
   "metadata": {},
   "outputs": [],
   "source": []
  }
 ],
 "metadata": {
  "kernelspec": {
   "display_name": "R",
   "language": "R",
   "name": "ir"
  },
  "language_info": {
   "codemirror_mode": "r",
   "file_extension": ".r",
   "mimetype": "text/x-r-source",
   "name": "R",
   "pygments_lexer": "r",
   "version": "3.6.1"
  }
 },
 "nbformat": 4,
 "nbformat_minor": 2
}
