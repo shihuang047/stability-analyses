{
 "cells": [
  {
   "cell_type": "markdown",
   "metadata": {},
   "source": [
    "### summarize random forests results on Toeplitz Simulation Scenarios for continuous outcome"
   ]
  },
  {
   "cell_type": "code",
   "execution_count": 1,
   "metadata": {},
   "outputs": [],
   "source": [
    "dir = '/panfs/panfs1.ucsd.edu/panscratch/lij014/Stability_2020/sim_data'\n",
    "\n",
    "load(paste0(dir, '/toe_RF.RData'))"
   ]
  },
  {
   "cell_type": "code",
   "execution_count": 2,
   "metadata": {},
   "outputs": [],
   "source": [
    "dim.list = list()\n",
    "size = c(50, 100, 500, 1000)\n",
    "idx = 0\n",
    "for (P in size){\n",
    "    for (N in size){\n",
    "        idx = idx + 1\n",
    "        dim.list[[idx]] = c(P=P, N=N)\n",
    "    }\n",
    "}\n",
    "\n",
    "rou.list = seq(0.1, 0.9, 0.2)\n",
    "\n",
    "files = NULL\n",
    "for (rou in rou.list){\n",
    "  for (dim in dim.list){\n",
    "    p = dim[1]\n",
    "    n = dim[2]\n",
    "    files = cbind(files, paste0(dir, '/sim_toeplitz_corr', rou, paste('P', p, 'N', n, sep='_'), '.RData', sep=''))\n",
    "  }\n",
    "}"
   ]
  },
  {
   "cell_type": "code",
   "execution_count": 3,
   "metadata": {},
   "outputs": [],
   "source": [
    "avg_FDR = NULL\n",
    "for (i in 1:length(files)){\n",
    "    sim_file = files[i]\n",
    "    load(sim_file, dat <- new.env())\n",
    "    sub = dat$sim_array[[i]]\n",
    "    p = sub$p # take true values from 1st replicate of each simulated data\n",
    "    coef = sub$beta\n",
    "    coef.true = which(coef != 0)\n",
    "    \n",
    "    tt = results_toe_rf[[i]]$Stab.table\n",
    "    \n",
    "    FDR = NULL\n",
    "    for (r in 1:nrow(tt)){\n",
    "        FDR = c(FDR, length(setdiff(which(tt[r, ] !=0), coef.true))/sum(tt[r, ]))\n",
    "\n",
    "    }\n",
    "    \n",
    "    avg_FDR = c(avg_FDR, mean(FDR, na.rm=T))\n",
    "}"
   ]
  },
  {
   "cell_type": "code",
   "execution_count": 4,
   "metadata": {},
   "outputs": [],
   "source": [
    "table_toe = NULL\n",
    "tmp_num_select = rep(0, length(results_toe_rf))\n",
    "for (i in 1:length(results_toe_rf)){\n",
    "    results_toe_rf[[i]]$OOB = paste(round(mean(results_toe_rf[[i]]$OOB.list, na.rm=T),2),\n",
    "                                    '(', round(FSA::se(results_toe_rf[[i]]$OOB.list, na.rm=T),2), ')')\n",
    "    table_toe = rbind(table_toe, results_toe_rf[[i]][c('n', 'p', 'rou', 'FP', 'FN', 'MSE', 'Stab', 'OOB')])\n",
    "    tmp_num_select[i] = mean(rowSums(results_toe_rf[[i]]$Stab.table))\n",
    "}\n",
    "table_toe = as.data.frame(table_toe)\n",
    "table_toe$num_select = tmp_num_select\n",
    "table_toe$FDR = round(avg_FDR,2)"
   ]
  },
  {
   "cell_type": "code",
   "execution_count": 5,
   "metadata": {},
   "outputs": [
    {
     "data": {
      "text/html": [
       "<table>\n",
       "<thead><tr><th scope=col>n</th><th scope=col>p</th><th scope=col>rou</th><th scope=col>FP</th><th scope=col>FN</th><th scope=col>MSE</th><th scope=col>Stab</th><th scope=col>OOB</th><th scope=col>num_select</th><th scope=col>FDR</th></tr></thead>\n",
       "<tbody>\n",
       "\t<tr><td>50           </td><td>50           </td><td>0.1          </td><td>1 ( 0 )      </td><td>6 ( 0 )      </td><td>1.4 ( 0.06 ) </td><td>NaN          </td><td>1.98 ( 0.02 )</td><td>0.00         </td><td> NaN         </td></tr>\n",
       "\t<tr><td>100          </td><td>50           </td><td>0.1          </td><td>1.87 ( 0.14 )</td><td>4.25 ( 0.09 )</td><td>0.86 ( 0.03 )</td><td>0.19         </td><td>1.76 ( 0.01 )</td><td>3.62         </td><td>0.48         </td></tr>\n",
       "\t<tr><td>500          </td><td>50           </td><td>0.1          </td><td>0.32 ( 0.05 )</td><td>1.81 ( 0.07 )</td><td>0.44 ( 0.01 )</td><td>0.77         </td><td>1.29 ( 0 )   </td><td>4.51         </td><td>0.06         </td></tr>\n",
       "\t<tr><td>1000         </td><td>50           </td><td>0.1          </td><td>0.15 ( 0.04 )</td><td>0.93 ( 0.07 )</td><td>0.34 ( 0 )   </td><td>0.86         </td><td>1.15 ( 0 )   </td><td>5.22         </td><td>0.02         </td></tr>\n",
       "\t<tr><td>50           </td><td>100          </td><td>0.1          </td><td>1 ( 0 )      </td><td>6 ( 0 )      </td><td>1.36 ( 0.06 )</td><td>NaN          </td><td>2.19 ( 0.02 )</td><td>0.00         </td><td> NaN         </td></tr>\n",
       "\t<tr><td>100          </td><td>100          </td><td>0.1          </td><td>4.11 ( 0.18 )</td><td>4.17 ( 0.1 ) </td><td>0.93 ( 0.03 )</td><td>0.12         </td><td>1.99 ( 0.01 )</td><td>5.93         </td><td>0.68         </td></tr>\n",
       "</tbody>\n",
       "</table>\n"
      ],
      "text/latex": [
       "\\begin{tabular}{r|llllllllll}\n",
       " n & p & rou & FP & FN & MSE & Stab & OOB & num\\_select & FDR\\\\\n",
       "\\hline\n",
       "\t 50            & 50            & 0.1           & 1 ( 0 )       & 6 ( 0 )       & 1.4 ( 0.06 )  & NaN           & 1.98 ( 0.02 ) & 0.00          &  NaN         \\\\\n",
       "\t 100           & 50            & 0.1           & 1.87 ( 0.14 ) & 4.25 ( 0.09 ) & 0.86 ( 0.03 ) & 0.19          & 1.76 ( 0.01 ) & 3.62          & 0.48         \\\\\n",
       "\t 500           & 50            & 0.1           & 0.32 ( 0.05 ) & 1.81 ( 0.07 ) & 0.44 ( 0.01 ) & 0.77          & 1.29 ( 0 )    & 4.51          & 0.06         \\\\\n",
       "\t 1000          & 50            & 0.1           & 0.15 ( 0.04 ) & 0.93 ( 0.07 ) & 0.34 ( 0 )    & 0.86          & 1.15 ( 0 )    & 5.22          & 0.02         \\\\\n",
       "\t 50            & 100           & 0.1           & 1 ( 0 )       & 6 ( 0 )       & 1.36 ( 0.06 ) & NaN           & 2.19 ( 0.02 ) & 0.00          &  NaN         \\\\\n",
       "\t 100           & 100           & 0.1           & 4.11 ( 0.18 ) & 4.17 ( 0.1 )  & 0.93 ( 0.03 ) & 0.12          & 1.99 ( 0.01 ) & 5.93          & 0.68         \\\\\n",
       "\\end{tabular}\n"
      ],
      "text/markdown": [
       "\n",
       "| n | p | rou | FP | FN | MSE | Stab | OOB | num_select | FDR |\n",
       "|---|---|---|---|---|---|---|---|---|---|\n",
       "| 50            | 50            | 0.1           | 1 ( 0 )       | 6 ( 0 )       | 1.4 ( 0.06 )  | NaN           | 1.98 ( 0.02 ) | 0.00          |  NaN          |\n",
       "| 100           | 50            | 0.1           | 1.87 ( 0.14 ) | 4.25 ( 0.09 ) | 0.86 ( 0.03 ) | 0.19          | 1.76 ( 0.01 ) | 3.62          | 0.48          |\n",
       "| 500           | 50            | 0.1           | 0.32 ( 0.05 ) | 1.81 ( 0.07 ) | 0.44 ( 0.01 ) | 0.77          | 1.29 ( 0 )    | 4.51          | 0.06          |\n",
       "| 1000          | 50            | 0.1           | 0.15 ( 0.04 ) | 0.93 ( 0.07 ) | 0.34 ( 0 )    | 0.86          | 1.15 ( 0 )    | 5.22          | 0.02          |\n",
       "| 50            | 100           | 0.1           | 1 ( 0 )       | 6 ( 0 )       | 1.36 ( 0.06 ) | NaN           | 2.19 ( 0.02 ) | 0.00          |  NaN          |\n",
       "| 100           | 100           | 0.1           | 4.11 ( 0.18 ) | 4.17 ( 0.1 )  | 0.93 ( 0.03 ) | 0.12          | 1.99 ( 0.01 ) | 5.93          | 0.68          |\n",
       "\n"
      ],
      "text/plain": [
       "  n    p   rou FP            FN            MSE           Stab OOB          \n",
       "1 50   50  0.1 1 ( 0 )       6 ( 0 )       1.4 ( 0.06 )  NaN  1.98 ( 0.02 )\n",
       "2 100  50  0.1 1.87 ( 0.14 ) 4.25 ( 0.09 ) 0.86 ( 0.03 ) 0.19 1.76 ( 0.01 )\n",
       "3 500  50  0.1 0.32 ( 0.05 ) 1.81 ( 0.07 ) 0.44 ( 0.01 ) 0.77 1.29 ( 0 )   \n",
       "4 1000 50  0.1 0.15 ( 0.04 ) 0.93 ( 0.07 ) 0.34 ( 0 )    0.86 1.15 ( 0 )   \n",
       "5 50   100 0.1 1 ( 0 )       6 ( 0 )       1.36 ( 0.06 ) NaN  2.19 ( 0.02 )\n",
       "6 100  100 0.1 4.11 ( 0.18 ) 4.17 ( 0.1 )  0.93 ( 0.03 ) 0.12 1.99 ( 0.01 )\n",
       "  num_select FDR \n",
       "1 0.00        NaN\n",
       "2 3.62       0.48\n",
       "3 4.51       0.06\n",
       "4 5.22       0.02\n",
       "5 0.00        NaN\n",
       "6 5.93       0.68"
      ]
     },
     "metadata": {},
     "output_type": "display_data"
    }
   ],
   "source": [
    "head(table_toe)"
   ]
  },
  {
   "cell_type": "code",
   "execution_count": 6,
   "metadata": {},
   "outputs": [
    {
     "name": "stderr",
     "output_type": "stream",
     "text": [
      "extract_numeric() is deprecated: please use readr::parse_number() instead\n",
      "extract_numeric() is deprecated: please use readr::parse_number() instead\n"
     ]
    }
   ],
   "source": [
    "# export result\n",
    "result.table_toe <- apply(table_toe,2,as.character)\n",
    "rownames(result.table_toe) = rownames(table_toe)\n",
    "result.table_toe = as.data.frame(result.table_toe)\n",
    "\n",
    "# extract numbers only for 'n' & 'p'\n",
    "result.table_toe$n = tidyr::extract_numeric(result.table_toe$n)\n",
    "result.table_toe$p = tidyr::extract_numeric(result.table_toe$p)\n",
    "result.table_toe$ratio = result.table_toe$p / result.table_toe$n\n",
    "\n",
    "result.table_toe = result.table_toe[c('n', 'p', 'rou', 'ratio', 'Stab', 'MSE', 'FP', 'FN', 'OOB', 'num_select', 'FDR')]\n",
    "colnames(result.table_toe)[1:4] = c('N', 'P', 'Corr', 'Ratio')"
   ]
  },
  {
   "cell_type": "code",
   "execution_count": 7,
   "metadata": {},
   "outputs": [
    {
     "data": {
      "text/html": [
       "<table>\n",
       "<thead><tr><th scope=col>N</th><th scope=col>P</th><th scope=col>Corr</th><th scope=col>Ratio</th><th scope=col>Stab</th><th scope=col>MSE</th><th scope=col>FP</th><th scope=col>FN</th><th scope=col>OOB</th><th scope=col>num_select</th><th scope=col>FDR</th></tr></thead>\n",
       "<tbody>\n",
       "\t<tr><td>  50         </td><td> 50          </td><td>0.1          </td><td>1.00         </td><td>NaN          </td><td>1.4 ( 0.06 ) </td><td>1 ( 0 )      </td><td>6 ( 0 )      </td><td>1.98 ( 0.02 )</td><td>0            </td><td>NaN          </td></tr>\n",
       "\t<tr><td> 100         </td><td> 50          </td><td>0.1          </td><td>0.50         </td><td>0.19         </td><td>0.86 ( 0.03 )</td><td>1.87 ( 0.14 )</td><td>4.25 ( 0.09 )</td><td>1.76 ( 0.01 )</td><td>3.62         </td><td>0.48         </td></tr>\n",
       "\t<tr><td> 500         </td><td> 50          </td><td>0.1          </td><td>0.10         </td><td>0.77         </td><td>0.44 ( 0.01 )</td><td>0.32 ( 0.05 )</td><td>1.81 ( 0.07 )</td><td>1.29 ( 0 )   </td><td>4.51         </td><td>0.06         </td></tr>\n",
       "\t<tr><td>1000         </td><td> 50          </td><td>0.1          </td><td>0.05         </td><td>0.86         </td><td>0.34 ( 0 )   </td><td>0.15 ( 0.04 )</td><td>0.93 ( 0.07 )</td><td>1.15 ( 0 )   </td><td>5.22         </td><td>0.02         </td></tr>\n",
       "\t<tr><td>  50         </td><td>100          </td><td>0.1          </td><td>2.00         </td><td>NaN          </td><td>1.36 ( 0.06 )</td><td>1 ( 0 )      </td><td>6 ( 0 )      </td><td>2.19 ( 0.02 )</td><td>0            </td><td>NaN          </td></tr>\n",
       "\t<tr><td> 100         </td><td>100          </td><td>0.1          </td><td>1.00         </td><td>0.12         </td><td>0.93 ( 0.03 )</td><td>4.11 ( 0.18 )</td><td>4.17 ( 0.1 ) </td><td>1.99 ( 0.01 )</td><td>5.93         </td><td>0.68         </td></tr>\n",
       "</tbody>\n",
       "</table>\n"
      ],
      "text/latex": [
       "\\begin{tabular}{r|lllllllllll}\n",
       " N & P & Corr & Ratio & Stab & MSE & FP & FN & OOB & num\\_select & FDR\\\\\n",
       "\\hline\n",
       "\t   50          &  50           & 0.1           & 1.00          & NaN           & 1.4 ( 0.06 )  & 1 ( 0 )       & 6 ( 0 )       & 1.98 ( 0.02 ) & 0             & NaN          \\\\\n",
       "\t  100          &  50           & 0.1           & 0.50          & 0.19          & 0.86 ( 0.03 ) & 1.87 ( 0.14 ) & 4.25 ( 0.09 ) & 1.76 ( 0.01 ) & 3.62          & 0.48         \\\\\n",
       "\t  500          &  50           & 0.1           & 0.10          & 0.77          & 0.44 ( 0.01 ) & 0.32 ( 0.05 ) & 1.81 ( 0.07 ) & 1.29 ( 0 )    & 4.51          & 0.06         \\\\\n",
       "\t 1000          &  50           & 0.1           & 0.05          & 0.86          & 0.34 ( 0 )    & 0.15 ( 0.04 ) & 0.93 ( 0.07 ) & 1.15 ( 0 )    & 5.22          & 0.02         \\\\\n",
       "\t   50          & 100           & 0.1           & 2.00          & NaN           & 1.36 ( 0.06 ) & 1 ( 0 )       & 6 ( 0 )       & 2.19 ( 0.02 ) & 0             & NaN          \\\\\n",
       "\t  100          & 100           & 0.1           & 1.00          & 0.12          & 0.93 ( 0.03 ) & 4.11 ( 0.18 ) & 4.17 ( 0.1 )  & 1.99 ( 0.01 ) & 5.93          & 0.68         \\\\\n",
       "\\end{tabular}\n"
      ],
      "text/markdown": [
       "\n",
       "| N | P | Corr | Ratio | Stab | MSE | FP | FN | OOB | num_select | FDR |\n",
       "|---|---|---|---|---|---|---|---|---|---|---|\n",
       "|   50          |  50           | 0.1           | 1.00          | NaN           | 1.4 ( 0.06 )  | 1 ( 0 )       | 6 ( 0 )       | 1.98 ( 0.02 ) | 0             | NaN           |\n",
       "|  100          |  50           | 0.1           | 0.50          | 0.19          | 0.86 ( 0.03 ) | 1.87 ( 0.14 ) | 4.25 ( 0.09 ) | 1.76 ( 0.01 ) | 3.62          | 0.48          |\n",
       "|  500          |  50           | 0.1           | 0.10          | 0.77          | 0.44 ( 0.01 ) | 0.32 ( 0.05 ) | 1.81 ( 0.07 ) | 1.29 ( 0 )    | 4.51          | 0.06          |\n",
       "| 1000          |  50           | 0.1           | 0.05          | 0.86          | 0.34 ( 0 )    | 0.15 ( 0.04 ) | 0.93 ( 0.07 ) | 1.15 ( 0 )    | 5.22          | 0.02          |\n",
       "|   50          | 100           | 0.1           | 2.00          | NaN           | 1.36 ( 0.06 ) | 1 ( 0 )       | 6 ( 0 )       | 2.19 ( 0.02 ) | 0             | NaN           |\n",
       "|  100          | 100           | 0.1           | 1.00          | 0.12          | 0.93 ( 0.03 ) | 4.11 ( 0.18 ) | 4.17 ( 0.1 )  | 1.99 ( 0.01 ) | 5.93          | 0.68          |\n",
       "\n"
      ],
      "text/plain": [
       "  N    P   Corr Ratio Stab MSE           FP            FN           \n",
       "1   50  50 0.1  1.00  NaN  1.4 ( 0.06 )  1 ( 0 )       6 ( 0 )      \n",
       "2  100  50 0.1  0.50  0.19 0.86 ( 0.03 ) 1.87 ( 0.14 ) 4.25 ( 0.09 )\n",
       "3  500  50 0.1  0.10  0.77 0.44 ( 0.01 ) 0.32 ( 0.05 ) 1.81 ( 0.07 )\n",
       "4 1000  50 0.1  0.05  0.86 0.34 ( 0 )    0.15 ( 0.04 ) 0.93 ( 0.07 )\n",
       "5   50 100 0.1  2.00  NaN  1.36 ( 0.06 ) 1 ( 0 )       6 ( 0 )      \n",
       "6  100 100 0.1  1.00  0.12 0.93 ( 0.03 ) 4.11 ( 0.18 ) 4.17 ( 0.1 ) \n",
       "  OOB           num_select FDR \n",
       "1 1.98 ( 0.02 ) 0          NaN \n",
       "2 1.76 ( 0.01 ) 3.62       0.48\n",
       "3 1.29 ( 0 )    4.51       0.06\n",
       "4 1.15 ( 0 )    5.22       0.02\n",
       "5 2.19 ( 0.02 ) 0          NaN \n",
       "6 1.99 ( 0.01 ) 5.93       0.68"
      ]
     },
     "metadata": {},
     "output_type": "display_data"
    }
   ],
   "source": [
    "head(result.table_toe)"
   ]
  },
  {
   "cell_type": "code",
   "execution_count": 8,
   "metadata": {},
   "outputs": [
    {
     "name": "stderr",
     "output_type": "stream",
     "text": [
      "Warning message in eval(expr, envir, enclos):\n",
      "“NAs introduced by coercion”Warning message in eval(expr, envir, enclos):\n",
      "“NAs introduced by coercion”Warning message in eval(expr, envir, enclos):\n",
      "“NAs introduced by coercion”Warning message in eval(expr, envir, enclos):\n",
      "“NAs introduced by coercion”"
     ]
    }
   ],
   "source": [
    "# convert interested measurements to be numeric\n",
    "result.table_toe$Stab = as.numeric(as.character(result.table_toe$Stab))\n",
    "result.table_toe$MSE_mean = as.numeric(substr(result.table_toe$MSE, start=1, stop=4))\n",
    "result.table_toe$FP_mean = as.numeric(substr(result.table_toe$FP, start=1, stop=4))\n",
    "result.table_toe$FN_mean = as.numeric(substr(result.table_toe$FN, start=1, stop=4))\n",
    "result.table_toe$FN_mean[is.na(result.table_toe$FN_mean)] = 0\n",
    "result.table_toe$OOB_mean = as.numeric(substr(result.table_toe$OOB, start=1, stop=4))\n",
    "result.table_toe$num_select = as.numeric(as.character(result.table_toe$num_select))"
   ]
  },
  {
   "cell_type": "code",
   "execution_count": 9,
   "metadata": {},
   "outputs": [
    {
     "data": {
      "text/html": [
       "<table>\n",
       "<thead><tr><th></th><th scope=col>N</th><th scope=col>P</th><th scope=col>Corr</th><th scope=col>Ratio</th><th scope=col>Stab</th><th scope=col>MSE</th><th scope=col>FP</th><th scope=col>FN</th><th scope=col>OOB</th><th scope=col>num_select</th><th scope=col>FDR</th><th scope=col>MSE_mean</th><th scope=col>FP_mean</th><th scope=col>FN_mean</th><th scope=col>OOB_mean</th></tr></thead>\n",
       "<tbody>\n",
       "\t<tr><th scope=row>1</th><td> 50          </td><td>  50         </td><td>0.1          </td><td> 1           </td><td> NaN         </td><td>1.4 ( 0.06 ) </td><td>1 ( 0 )      </td><td>6 ( 0 )      </td><td>1.98 ( 0.02 )</td><td> 0.00        </td><td>NaN          </td><td>1.40         </td><td>  NA         </td><td>0.00         </td><td>1.98         </td></tr>\n",
       "\t<tr><th scope=row>5</th><td> 50          </td><td> 100         </td><td>0.1          </td><td> 2           </td><td> NaN         </td><td>1.36 ( 0.06 )</td><td>1 ( 0 )      </td><td>6 ( 0 )      </td><td>2.19 ( 0.02 )</td><td> 0.00        </td><td>NaN          </td><td>1.36         </td><td>  NA         </td><td>0.00         </td><td>2.19         </td></tr>\n",
       "\t<tr><th scope=row>9</th><td> 50          </td><td> 500         </td><td>0.1          </td><td>10           </td><td> NaN         </td><td>1.29 ( 0.05 )</td><td>1 ( 0 )      </td><td>6 ( 0 )      </td><td>2.39 ( 0.02 )</td><td> 0.00        </td><td>NaN          </td><td>1.29         </td><td>  NA         </td><td>0.00         </td><td>2.39         </td></tr>\n",
       "\t<tr><th scope=row>13</th><td> 50          </td><td>1000         </td><td>0.1          </td><td>20           </td><td> NaN         </td><td>1.35 ( 0.06 )</td><td>1 ( 0 )      </td><td>6 ( 0 )      </td><td>2.42 ( 0.02 )</td><td> 0.00        </td><td>NaN          </td><td>1.35         </td><td>  NA         </td><td>0.00         </td><td>2.42         </td></tr>\n",
       "\t<tr><th scope=row>14</th><td>100          </td><td>1000         </td><td>0.1          </td><td>10           </td><td>0.01         </td><td>1 ( 0.03 )   </td><td>49.42 ( 0.7 )</td><td>4.71 ( 0.09 )</td><td>2.39 ( 0.02 )</td><td>50.71        </td><td>0.97         </td><td>  NA         </td><td>49.4         </td><td>4.71         </td><td>2.39         </td></tr>\n",
       "\t<tr><th scope=row>17</th><td> 50          </td><td>  50         </td><td>0.3          </td><td> 1           </td><td> NaN         </td><td>1.22 ( 0.05 )</td><td>1 ( 0 )      </td><td>6 ( 0 )      </td><td>1.87 ( 0.02 )</td><td> 0.00        </td><td>NaN          </td><td>1.22         </td><td>  NA         </td><td>0.00         </td><td>1.87         </td></tr>\n",
       "\t<tr><th scope=row>21</th><td> 50          </td><td> 100         </td><td>0.3          </td><td> 2           </td><td> NaN         </td><td>1.15 ( 0.05 )</td><td>1 ( 0 )      </td><td>6 ( 0 )      </td><td>2.03 ( 0.02 )</td><td> 0.00        </td><td>NaN          </td><td>1.15         </td><td>  NA         </td><td>0.00         </td><td>2.03         </td></tr>\n",
       "\t<tr><th scope=row>25</th><td> 50          </td><td> 500         </td><td>0.3          </td><td>10           </td><td> NaN         </td><td>1.14 ( 0.05 )</td><td>1 ( 0 )      </td><td>6 ( 0 )      </td><td>2.24 ( 0.02 )</td><td> 0.00        </td><td>NaN          </td><td>1.14         </td><td>  NA         </td><td>0.00         </td><td>2.24         </td></tr>\n",
       "\t<tr><th scope=row>29</th><td> 50          </td><td>1000         </td><td>0.3          </td><td>20           </td><td> NaN         </td><td>1.2 ( 0.05 ) </td><td>1 ( 0 )      </td><td>6 ( 0 )      </td><td>2.29 ( 0.02 )</td><td> 0.00        </td><td>NaN          </td><td>1.20         </td><td>  NA         </td><td>0.00         </td><td>2.29         </td></tr>\n",
       "\t<tr><th scope=row>33</th><td> 50          </td><td>  50         </td><td>0.5          </td><td> 1           </td><td> NaN         </td><td>0.99 ( 0.05 )</td><td>1 ( 0 )      </td><td>6 ( 0 )      </td><td>1.68 ( 0.02 )</td><td> 0.00        </td><td>NaN          </td><td>0.99         </td><td>  NA         </td><td>0.00         </td><td>1.68         </td></tr>\n",
       "\t<tr><th scope=row>37</th><td> 50          </td><td> 100         </td><td>0.5          </td><td> 2           </td><td> NaN         </td><td>0.91 ( 0.04 )</td><td>1 ( 0 )      </td><td>6 ( 0 )      </td><td>1.84 ( 0.02 )</td><td> 0.00        </td><td>NaN          </td><td>0.91         </td><td>  NA         </td><td>0.00         </td><td>1.84         </td></tr>\n",
       "\t<tr><th scope=row>41</th><td> 50          </td><td> 500         </td><td>0.5          </td><td>10           </td><td> NaN         </td><td>0.95 ( 0.04 )</td><td>1 ( 0 )      </td><td>6 ( 0 )      </td><td>2.04 ( 0.02 )</td><td> 0.00        </td><td>NaN          </td><td>0.95         </td><td>  NA         </td><td>0.00         </td><td>2.04         </td></tr>\n",
       "\t<tr><th scope=row>45</th><td> 50          </td><td>1000         </td><td>0.5          </td><td>20           </td><td> NaN         </td><td>0.94 ( 0.04 )</td><td>1 ( 0 )      </td><td>6 ( 0 )      </td><td>2.04 ( 0.02 )</td><td> 0.00        </td><td>NaN          </td><td>0.94         </td><td>  NA         </td><td>0.00         </td><td>2.04         </td></tr>\n",
       "\t<tr><th scope=row>49</th><td> 50          </td><td>  50         </td><td>0.7          </td><td> 1           </td><td> NaN         </td><td>0.66 ( 0.03 )</td><td>1 ( 0 )      </td><td>6 ( 0 )      </td><td>1.44 ( 0.01 )</td><td> 0.00        </td><td>NaN          </td><td>0.66         </td><td>  NA         </td><td>0.00         </td><td>1.44         </td></tr>\n",
       "\t<tr><th scope=row>53</th><td> 50          </td><td> 100         </td><td>0.7          </td><td> 2           </td><td> NaN         </td><td>0.67 ( 0.03 )</td><td>1 ( 0 )      </td><td>6 ( 0 )      </td><td>1.5 ( 0.02 ) </td><td> 0.00        </td><td>NaN          </td><td>0.67         </td><td>  NA         </td><td>0.00         </td><td>1.50         </td></tr>\n",
       "\t<tr><th scope=row>57</th><td> 50          </td><td> 500         </td><td>0.7          </td><td>10           </td><td> NaN         </td><td>0.7 ( 0.03 ) </td><td>1 ( 0 )      </td><td>6 ( 0 )      </td><td>1.68 ( 0.02 )</td><td> 0.00        </td><td>NaN          </td><td>0.70         </td><td>  NA         </td><td>0.00         </td><td>1.68         </td></tr>\n",
       "\t<tr><th scope=row>61</th><td> 50          </td><td>1000         </td><td>0.7          </td><td>20           </td><td> NaN         </td><td>0.74 ( 0.03 )</td><td>1 ( 0 )      </td><td>6 ( 0 )      </td><td>1.69 ( 0.02 )</td><td> 0.00        </td><td>NaN          </td><td>0.74         </td><td>  NA         </td><td>0.00         </td><td>1.69         </td></tr>\n",
       "\t<tr><th scope=row>65</th><td> 50          </td><td>  50         </td><td>0.9          </td><td> 1           </td><td> NaN         </td><td>0.27 ( 0.01 )</td><td>1 ( 0 )      </td><td>6 ( 0 )      </td><td>0.96 ( 0.01 )</td><td> 0.00        </td><td>NaN          </td><td>0.27         </td><td>  NA         </td><td>0.00         </td><td>0.96         </td></tr>\n",
       "\t<tr><th scope=row>69</th><td> 50          </td><td> 100         </td><td>0.9          </td><td> 2           </td><td> NaN         </td><td>0.3 ( 0.01 ) </td><td>1 ( 0 )      </td><td>6 ( 0 )      </td><td>1 ( 0.01 )   </td><td> 0.00        </td><td>NaN          </td><td>0.30         </td><td>  NA         </td><td>0.00         </td><td>  NA         </td></tr>\n",
       "\t<tr><th scope=row>73</th><td> 50          </td><td> 500         </td><td>0.9          </td><td>10           </td><td> NaN         </td><td>0.29 ( 0.01 )</td><td>1 ( 0 )      </td><td>6 ( 0 )      </td><td>1.1 ( 0.01 ) </td><td> 0.00        </td><td>NaN          </td><td>0.29         </td><td>  NA         </td><td>0.00         </td><td>1.10         </td></tr>\n",
       "\t<tr><th scope=row>77</th><td> 50          </td><td>1000         </td><td>0.9          </td><td>20           </td><td> NaN         </td><td>0.29 ( 0.01 )</td><td>1 ( 0 )      </td><td>6 ( 0 )      </td><td>1.11 ( 0.01 )</td><td> 0.00        </td><td>NaN          </td><td>0.29         </td><td>  NA         </td><td>0.00         </td><td>1.11         </td></tr>\n",
       "</tbody>\n",
       "</table>\n"
      ],
      "text/latex": [
       "\\begin{tabular}{r|lllllllllllllll}\n",
       "  & N & P & Corr & Ratio & Stab & MSE & FP & FN & OOB & num\\_select & FDR & MSE\\_mean & FP\\_mean & FN\\_mean & OOB\\_mean\\\\\n",
       "\\hline\n",
       "\t1 &  50           &   50          & 0.1           &  1            &  NaN          & 1.4 ( 0.06 )  & 1 ( 0 )       & 6 ( 0 )       & 1.98 ( 0.02 ) &  0.00         & NaN           & 1.40          &   NA          & 0.00          & 1.98         \\\\\n",
       "\t5 &  50           &  100          & 0.1           &  2            &  NaN          & 1.36 ( 0.06 ) & 1 ( 0 )       & 6 ( 0 )       & 2.19 ( 0.02 ) &  0.00         & NaN           & 1.36          &   NA          & 0.00          & 2.19         \\\\\n",
       "\t9 &  50           &  500          & 0.1           & 10            &  NaN          & 1.29 ( 0.05 ) & 1 ( 0 )       & 6 ( 0 )       & 2.39 ( 0.02 ) &  0.00         & NaN           & 1.29          &   NA          & 0.00          & 2.39         \\\\\n",
       "\t13 &  50           & 1000          & 0.1           & 20            &  NaN          & 1.35 ( 0.06 ) & 1 ( 0 )       & 6 ( 0 )       & 2.42 ( 0.02 ) &  0.00         & NaN           & 1.35          &   NA          & 0.00          & 2.42         \\\\\n",
       "\t14 & 100           & 1000          & 0.1           & 10            & 0.01          & 1 ( 0.03 )    & 49.42 ( 0.7 ) & 4.71 ( 0.09 ) & 2.39 ( 0.02 ) & 50.71         & 0.97          &   NA          & 49.4          & 4.71          & 2.39         \\\\\n",
       "\t17 &  50           &   50          & 0.3           &  1            &  NaN          & 1.22 ( 0.05 ) & 1 ( 0 )       & 6 ( 0 )       & 1.87 ( 0.02 ) &  0.00         & NaN           & 1.22          &   NA          & 0.00          & 1.87         \\\\\n",
       "\t21 &  50           &  100          & 0.3           &  2            &  NaN          & 1.15 ( 0.05 ) & 1 ( 0 )       & 6 ( 0 )       & 2.03 ( 0.02 ) &  0.00         & NaN           & 1.15          &   NA          & 0.00          & 2.03         \\\\\n",
       "\t25 &  50           &  500          & 0.3           & 10            &  NaN          & 1.14 ( 0.05 ) & 1 ( 0 )       & 6 ( 0 )       & 2.24 ( 0.02 ) &  0.00         & NaN           & 1.14          &   NA          & 0.00          & 2.24         \\\\\n",
       "\t29 &  50           & 1000          & 0.3           & 20            &  NaN          & 1.2 ( 0.05 )  & 1 ( 0 )       & 6 ( 0 )       & 2.29 ( 0.02 ) &  0.00         & NaN           & 1.20          &   NA          & 0.00          & 2.29         \\\\\n",
       "\t33 &  50           &   50          & 0.5           &  1            &  NaN          & 0.99 ( 0.05 ) & 1 ( 0 )       & 6 ( 0 )       & 1.68 ( 0.02 ) &  0.00         & NaN           & 0.99          &   NA          & 0.00          & 1.68         \\\\\n",
       "\t37 &  50           &  100          & 0.5           &  2            &  NaN          & 0.91 ( 0.04 ) & 1 ( 0 )       & 6 ( 0 )       & 1.84 ( 0.02 ) &  0.00         & NaN           & 0.91          &   NA          & 0.00          & 1.84         \\\\\n",
       "\t41 &  50           &  500          & 0.5           & 10            &  NaN          & 0.95 ( 0.04 ) & 1 ( 0 )       & 6 ( 0 )       & 2.04 ( 0.02 ) &  0.00         & NaN           & 0.95          &   NA          & 0.00          & 2.04         \\\\\n",
       "\t45 &  50           & 1000          & 0.5           & 20            &  NaN          & 0.94 ( 0.04 ) & 1 ( 0 )       & 6 ( 0 )       & 2.04 ( 0.02 ) &  0.00         & NaN           & 0.94          &   NA          & 0.00          & 2.04         \\\\\n",
       "\t49 &  50           &   50          & 0.7           &  1            &  NaN          & 0.66 ( 0.03 ) & 1 ( 0 )       & 6 ( 0 )       & 1.44 ( 0.01 ) &  0.00         & NaN           & 0.66          &   NA          & 0.00          & 1.44         \\\\\n",
       "\t53 &  50           &  100          & 0.7           &  2            &  NaN          & 0.67 ( 0.03 ) & 1 ( 0 )       & 6 ( 0 )       & 1.5 ( 0.02 )  &  0.00         & NaN           & 0.67          &   NA          & 0.00          & 1.50         \\\\\n",
       "\t57 &  50           &  500          & 0.7           & 10            &  NaN          & 0.7 ( 0.03 )  & 1 ( 0 )       & 6 ( 0 )       & 1.68 ( 0.02 ) &  0.00         & NaN           & 0.70          &   NA          & 0.00          & 1.68         \\\\\n",
       "\t61 &  50           & 1000          & 0.7           & 20            &  NaN          & 0.74 ( 0.03 ) & 1 ( 0 )       & 6 ( 0 )       & 1.69 ( 0.02 ) &  0.00         & NaN           & 0.74          &   NA          & 0.00          & 1.69         \\\\\n",
       "\t65 &  50           &   50          & 0.9           &  1            &  NaN          & 0.27 ( 0.01 ) & 1 ( 0 )       & 6 ( 0 )       & 0.96 ( 0.01 ) &  0.00         & NaN           & 0.27          &   NA          & 0.00          & 0.96         \\\\\n",
       "\t69 &  50           &  100          & 0.9           &  2            &  NaN          & 0.3 ( 0.01 )  & 1 ( 0 )       & 6 ( 0 )       & 1 ( 0.01 )    &  0.00         & NaN           & 0.30          &   NA          & 0.00          &   NA         \\\\\n",
       "\t73 &  50           &  500          & 0.9           & 10            &  NaN          & 0.29 ( 0.01 ) & 1 ( 0 )       & 6 ( 0 )       & 1.1 ( 0.01 )  &  0.00         & NaN           & 0.29          &   NA          & 0.00          & 1.10         \\\\\n",
       "\t77 &  50           & 1000          & 0.9           & 20            &  NaN          & 0.29 ( 0.01 ) & 1 ( 0 )       & 6 ( 0 )       & 1.11 ( 0.01 ) &  0.00         & NaN           & 0.29          &   NA          & 0.00          & 1.11         \\\\\n",
       "\\end{tabular}\n"
      ],
      "text/markdown": [
       "\n",
       "| <!--/--> | N | P | Corr | Ratio | Stab | MSE | FP | FN | OOB | num_select | FDR | MSE_mean | FP_mean | FN_mean | OOB_mean |\n",
       "|---|---|---|---|---|---|---|---|---|---|---|---|---|---|---|---|\n",
       "| 1 |  50           |   50          | 0.1           |  1            |  NaN          | 1.4 ( 0.06 )  | 1 ( 0 )       | 6 ( 0 )       | 1.98 ( 0.02 ) |  0.00         | NaN           | 1.40          |   NA          | 0.00          | 1.98          |\n",
       "| 5 |  50           |  100          | 0.1           |  2            |  NaN          | 1.36 ( 0.06 ) | 1 ( 0 )       | 6 ( 0 )       | 2.19 ( 0.02 ) |  0.00         | NaN           | 1.36          |   NA          | 0.00          | 2.19          |\n",
       "| 9 |  50           |  500          | 0.1           | 10            |  NaN          | 1.29 ( 0.05 ) | 1 ( 0 )       | 6 ( 0 )       | 2.39 ( 0.02 ) |  0.00         | NaN           | 1.29          |   NA          | 0.00          | 2.39          |\n",
       "| 13 |  50           | 1000          | 0.1           | 20            |  NaN          | 1.35 ( 0.06 ) | 1 ( 0 )       | 6 ( 0 )       | 2.42 ( 0.02 ) |  0.00         | NaN           | 1.35          |   NA          | 0.00          | 2.42          |\n",
       "| 14 | 100           | 1000          | 0.1           | 10            | 0.01          | 1 ( 0.03 )    | 49.42 ( 0.7 ) | 4.71 ( 0.09 ) | 2.39 ( 0.02 ) | 50.71         | 0.97          |   NA          | 49.4          | 4.71          | 2.39          |\n",
       "| 17 |  50           |   50          | 0.3           |  1            |  NaN          | 1.22 ( 0.05 ) | 1 ( 0 )       | 6 ( 0 )       | 1.87 ( 0.02 ) |  0.00         | NaN           | 1.22          |   NA          | 0.00          | 1.87          |\n",
       "| 21 |  50           |  100          | 0.3           |  2            |  NaN          | 1.15 ( 0.05 ) | 1 ( 0 )       | 6 ( 0 )       | 2.03 ( 0.02 ) |  0.00         | NaN           | 1.15          |   NA          | 0.00          | 2.03          |\n",
       "| 25 |  50           |  500          | 0.3           | 10            |  NaN          | 1.14 ( 0.05 ) | 1 ( 0 )       | 6 ( 0 )       | 2.24 ( 0.02 ) |  0.00         | NaN           | 1.14          |   NA          | 0.00          | 2.24          |\n",
       "| 29 |  50           | 1000          | 0.3           | 20            |  NaN          | 1.2 ( 0.05 )  | 1 ( 0 )       | 6 ( 0 )       | 2.29 ( 0.02 ) |  0.00         | NaN           | 1.20          |   NA          | 0.00          | 2.29          |\n",
       "| 33 |  50           |   50          | 0.5           |  1            |  NaN          | 0.99 ( 0.05 ) | 1 ( 0 )       | 6 ( 0 )       | 1.68 ( 0.02 ) |  0.00         | NaN           | 0.99          |   NA          | 0.00          | 1.68          |\n",
       "| 37 |  50           |  100          | 0.5           |  2            |  NaN          | 0.91 ( 0.04 ) | 1 ( 0 )       | 6 ( 0 )       | 1.84 ( 0.02 ) |  0.00         | NaN           | 0.91          |   NA          | 0.00          | 1.84          |\n",
       "| 41 |  50           |  500          | 0.5           | 10            |  NaN          | 0.95 ( 0.04 ) | 1 ( 0 )       | 6 ( 0 )       | 2.04 ( 0.02 ) |  0.00         | NaN           | 0.95          |   NA          | 0.00          | 2.04          |\n",
       "| 45 |  50           | 1000          | 0.5           | 20            |  NaN          | 0.94 ( 0.04 ) | 1 ( 0 )       | 6 ( 0 )       | 2.04 ( 0.02 ) |  0.00         | NaN           | 0.94          |   NA          | 0.00          | 2.04          |\n",
       "| 49 |  50           |   50          | 0.7           |  1            |  NaN          | 0.66 ( 0.03 ) | 1 ( 0 )       | 6 ( 0 )       | 1.44 ( 0.01 ) |  0.00         | NaN           | 0.66          |   NA          | 0.00          | 1.44          |\n",
       "| 53 |  50           |  100          | 0.7           |  2            |  NaN          | 0.67 ( 0.03 ) | 1 ( 0 )       | 6 ( 0 )       | 1.5 ( 0.02 )  |  0.00         | NaN           | 0.67          |   NA          | 0.00          | 1.50          |\n",
       "| 57 |  50           |  500          | 0.7           | 10            |  NaN          | 0.7 ( 0.03 )  | 1 ( 0 )       | 6 ( 0 )       | 1.68 ( 0.02 ) |  0.00         | NaN           | 0.70          |   NA          | 0.00          | 1.68          |\n",
       "| 61 |  50           | 1000          | 0.7           | 20            |  NaN          | 0.74 ( 0.03 ) | 1 ( 0 )       | 6 ( 0 )       | 1.69 ( 0.02 ) |  0.00         | NaN           | 0.74          |   NA          | 0.00          | 1.69          |\n",
       "| 65 |  50           |   50          | 0.9           |  1            |  NaN          | 0.27 ( 0.01 ) | 1 ( 0 )       | 6 ( 0 )       | 0.96 ( 0.01 ) |  0.00         | NaN           | 0.27          |   NA          | 0.00          | 0.96          |\n",
       "| 69 |  50           |  100          | 0.9           |  2            |  NaN          | 0.3 ( 0.01 )  | 1 ( 0 )       | 6 ( 0 )       | 1 ( 0.01 )    |  0.00         | NaN           | 0.30          |   NA          | 0.00          |   NA          |\n",
       "| 73 |  50           |  500          | 0.9           | 10            |  NaN          | 0.29 ( 0.01 ) | 1 ( 0 )       | 6 ( 0 )       | 1.1 ( 0.01 )  |  0.00         | NaN           | 0.29          |   NA          | 0.00          | 1.10          |\n",
       "| 77 |  50           | 1000          | 0.9           | 20            |  NaN          | 0.29 ( 0.01 ) | 1 ( 0 )       | 6 ( 0 )       | 1.11 ( 0.01 ) |  0.00         | NaN           | 0.29          |   NA          | 0.00          | 1.11          |\n",
       "\n"
      ],
      "text/plain": [
       "   N   P    Corr Ratio Stab MSE           FP            FN           \n",
       "1   50   50 0.1   1     NaN 1.4 ( 0.06 )  1 ( 0 )       6 ( 0 )      \n",
       "5   50  100 0.1   2     NaN 1.36 ( 0.06 ) 1 ( 0 )       6 ( 0 )      \n",
       "9   50  500 0.1  10     NaN 1.29 ( 0.05 ) 1 ( 0 )       6 ( 0 )      \n",
       "13  50 1000 0.1  20     NaN 1.35 ( 0.06 ) 1 ( 0 )       6 ( 0 )      \n",
       "14 100 1000 0.1  10    0.01 1 ( 0.03 )    49.42 ( 0.7 ) 4.71 ( 0.09 )\n",
       "17  50   50 0.3   1     NaN 1.22 ( 0.05 ) 1 ( 0 )       6 ( 0 )      \n",
       "21  50  100 0.3   2     NaN 1.15 ( 0.05 ) 1 ( 0 )       6 ( 0 )      \n",
       "25  50  500 0.3  10     NaN 1.14 ( 0.05 ) 1 ( 0 )       6 ( 0 )      \n",
       "29  50 1000 0.3  20     NaN 1.2 ( 0.05 )  1 ( 0 )       6 ( 0 )      \n",
       "33  50   50 0.5   1     NaN 0.99 ( 0.05 ) 1 ( 0 )       6 ( 0 )      \n",
       "37  50  100 0.5   2     NaN 0.91 ( 0.04 ) 1 ( 0 )       6 ( 0 )      \n",
       "41  50  500 0.5  10     NaN 0.95 ( 0.04 ) 1 ( 0 )       6 ( 0 )      \n",
       "45  50 1000 0.5  20     NaN 0.94 ( 0.04 ) 1 ( 0 )       6 ( 0 )      \n",
       "49  50   50 0.7   1     NaN 0.66 ( 0.03 ) 1 ( 0 )       6 ( 0 )      \n",
       "53  50  100 0.7   2     NaN 0.67 ( 0.03 ) 1 ( 0 )       6 ( 0 )      \n",
       "57  50  500 0.7  10     NaN 0.7 ( 0.03 )  1 ( 0 )       6 ( 0 )      \n",
       "61  50 1000 0.7  20     NaN 0.74 ( 0.03 ) 1 ( 0 )       6 ( 0 )      \n",
       "65  50   50 0.9   1     NaN 0.27 ( 0.01 ) 1 ( 0 )       6 ( 0 )      \n",
       "69  50  100 0.9   2     NaN 0.3 ( 0.01 )  1 ( 0 )       6 ( 0 )      \n",
       "73  50  500 0.9  10     NaN 0.29 ( 0.01 ) 1 ( 0 )       6 ( 0 )      \n",
       "77  50 1000 0.9  20     NaN 0.29 ( 0.01 ) 1 ( 0 )       6 ( 0 )      \n",
       "   OOB           num_select FDR  MSE_mean FP_mean FN_mean OOB_mean\n",
       "1  1.98 ( 0.02 )  0.00      NaN  1.40       NA    0.00    1.98    \n",
       "5  2.19 ( 0.02 )  0.00      NaN  1.36       NA    0.00    2.19    \n",
       "9  2.39 ( 0.02 )  0.00      NaN  1.29       NA    0.00    2.39    \n",
       "13 2.42 ( 0.02 )  0.00      NaN  1.35       NA    0.00    2.42    \n",
       "14 2.39 ( 0.02 ) 50.71      0.97   NA     49.4    4.71    2.39    \n",
       "17 1.87 ( 0.02 )  0.00      NaN  1.22       NA    0.00    1.87    \n",
       "21 2.03 ( 0.02 )  0.00      NaN  1.15       NA    0.00    2.03    \n",
       "25 2.24 ( 0.02 )  0.00      NaN  1.14       NA    0.00    2.24    \n",
       "29 2.29 ( 0.02 )  0.00      NaN  1.20       NA    0.00    2.29    \n",
       "33 1.68 ( 0.02 )  0.00      NaN  0.99       NA    0.00    1.68    \n",
       "37 1.84 ( 0.02 )  0.00      NaN  0.91       NA    0.00    1.84    \n",
       "41 2.04 ( 0.02 )  0.00      NaN  0.95       NA    0.00    2.04    \n",
       "45 2.04 ( 0.02 )  0.00      NaN  0.94       NA    0.00    2.04    \n",
       "49 1.44 ( 0.01 )  0.00      NaN  0.66       NA    0.00    1.44    \n",
       "53 1.5 ( 0.02 )   0.00      NaN  0.67       NA    0.00    1.50    \n",
       "57 1.68 ( 0.02 )  0.00      NaN  0.70       NA    0.00    1.68    \n",
       "61 1.69 ( 0.02 )  0.00      NaN  0.74       NA    0.00    1.69    \n",
       "65 0.96 ( 0.01 )  0.00      NaN  0.27       NA    0.00    0.96    \n",
       "69 1 ( 0.01 )     0.00      NaN  0.30       NA    0.00      NA    \n",
       "73 1.1 ( 0.01 )   0.00      NaN  0.29       NA    0.00    1.10    \n",
       "77 1.11 ( 0.01 )  0.00      NaN  0.29       NA    0.00    1.11    "
      ]
     },
     "metadata": {},
     "output_type": "display_data"
    }
   ],
   "source": [
    "# check whether missing values exists\n",
    "result.table_toe[rowSums(is.na(result.table_toe)) > 0,]"
   ]
  },
  {
   "cell_type": "code",
   "execution_count": 10,
   "metadata": {},
   "outputs": [],
   "source": [
    "# recover values\n",
    "result.table_toe$Stab[is.na(result.table_toe$Stab)] = 0\n",
    "result.table_toe$MSE_mean[is.na(result.table_toe$MSE_mean)] = 1\n",
    "result.table_toe$FP_mean[is.na(result.table_toe$FP_mean)] = 1\n",
    "result.table_toe$FN_mean[result.table_toe$num_select == 0] = 6\n",
    "result.table_toe$OOB_mean[is.na(result.table_toe$OOB_mean)] = 1"
   ]
  },
  {
   "cell_type": "code",
   "execution_count": 11,
   "metadata": {},
   "outputs": [
    {
     "data": {
      "text/html": [
       "<table>\n",
       "<thead><tr><th></th><th scope=col>N</th><th scope=col>P</th><th scope=col>Corr</th><th scope=col>Ratio</th><th scope=col>Stab</th><th scope=col>MSE</th><th scope=col>FP</th><th scope=col>FN</th><th scope=col>OOB</th><th scope=col>num_select</th><th scope=col>FDR</th><th scope=col>MSE_mean</th><th scope=col>FP_mean</th><th scope=col>FN_mean</th><th scope=col>OOB_mean</th></tr></thead>\n",
       "<tbody>\n",
       "\t<tr><th scope=row>1</th><td> 50          </td><td>  50         </td><td>0.1          </td><td> 1           </td><td>0.00         </td><td>1.4 ( 0.06 ) </td><td>1 ( 0 )      </td><td>6 ( 0 )      </td><td>1.98 ( 0.02 )</td><td> 0.00        </td><td>NaN          </td><td>1.40         </td><td> 1.0         </td><td>6.00         </td><td>1.98         </td></tr>\n",
       "\t<tr><th scope=row>5</th><td> 50          </td><td> 100         </td><td>0.1          </td><td> 2           </td><td>0.00         </td><td>1.36 ( 0.06 )</td><td>1 ( 0 )      </td><td>6 ( 0 )      </td><td>2.19 ( 0.02 )</td><td> 0.00        </td><td>NaN          </td><td>1.36         </td><td> 1.0         </td><td>6.00         </td><td>2.19         </td></tr>\n",
       "\t<tr><th scope=row>9</th><td> 50          </td><td> 500         </td><td>0.1          </td><td>10           </td><td>0.00         </td><td>1.29 ( 0.05 )</td><td>1 ( 0 )      </td><td>6 ( 0 )      </td><td>2.39 ( 0.02 )</td><td> 0.00        </td><td>NaN          </td><td>1.29         </td><td> 1.0         </td><td>6.00         </td><td>2.39         </td></tr>\n",
       "\t<tr><th scope=row>13</th><td> 50          </td><td>1000         </td><td>0.1          </td><td>20           </td><td>0.00         </td><td>1.35 ( 0.06 )</td><td>1 ( 0 )      </td><td>6 ( 0 )      </td><td>2.42 ( 0.02 )</td><td> 0.00        </td><td>NaN          </td><td>1.35         </td><td> 1.0         </td><td>6.00         </td><td>2.42         </td></tr>\n",
       "\t<tr><th scope=row>14</th><td>100          </td><td>1000         </td><td>0.1          </td><td>10           </td><td>0.01         </td><td>1 ( 0.03 )   </td><td>49.42 ( 0.7 )</td><td>4.71 ( 0.09 )</td><td>2.39 ( 0.02 )</td><td>50.71        </td><td>0.97         </td><td>1.00         </td><td>49.4         </td><td>4.71         </td><td>2.39         </td></tr>\n",
       "\t<tr><th scope=row>17</th><td> 50          </td><td>  50         </td><td>0.3          </td><td> 1           </td><td>0.00         </td><td>1.22 ( 0.05 )</td><td>1 ( 0 )      </td><td>6 ( 0 )      </td><td>1.87 ( 0.02 )</td><td> 0.00        </td><td>NaN          </td><td>1.22         </td><td> 1.0         </td><td>6.00         </td><td>1.87         </td></tr>\n",
       "\t<tr><th scope=row>21</th><td> 50          </td><td> 100         </td><td>0.3          </td><td> 2           </td><td>0.00         </td><td>1.15 ( 0.05 )</td><td>1 ( 0 )      </td><td>6 ( 0 )      </td><td>2.03 ( 0.02 )</td><td> 0.00        </td><td>NaN          </td><td>1.15         </td><td> 1.0         </td><td>6.00         </td><td>2.03         </td></tr>\n",
       "\t<tr><th scope=row>25</th><td> 50          </td><td> 500         </td><td>0.3          </td><td>10           </td><td>0.00         </td><td>1.14 ( 0.05 )</td><td>1 ( 0 )      </td><td>6 ( 0 )      </td><td>2.24 ( 0.02 )</td><td> 0.00        </td><td>NaN          </td><td>1.14         </td><td> 1.0         </td><td>6.00         </td><td>2.24         </td></tr>\n",
       "\t<tr><th scope=row>29</th><td> 50          </td><td>1000         </td><td>0.3          </td><td>20           </td><td>0.00         </td><td>1.2 ( 0.05 ) </td><td>1 ( 0 )      </td><td>6 ( 0 )      </td><td>2.29 ( 0.02 )</td><td> 0.00        </td><td>NaN          </td><td>1.20         </td><td> 1.0         </td><td>6.00         </td><td>2.29         </td></tr>\n",
       "\t<tr><th scope=row>33</th><td> 50          </td><td>  50         </td><td>0.5          </td><td> 1           </td><td>0.00         </td><td>0.99 ( 0.05 )</td><td>1 ( 0 )      </td><td>6 ( 0 )      </td><td>1.68 ( 0.02 )</td><td> 0.00        </td><td>NaN          </td><td>0.99         </td><td> 1.0         </td><td>6.00         </td><td>1.68         </td></tr>\n",
       "\t<tr><th scope=row>37</th><td> 50          </td><td> 100         </td><td>0.5          </td><td> 2           </td><td>0.00         </td><td>0.91 ( 0.04 )</td><td>1 ( 0 )      </td><td>6 ( 0 )      </td><td>1.84 ( 0.02 )</td><td> 0.00        </td><td>NaN          </td><td>0.91         </td><td> 1.0         </td><td>6.00         </td><td>1.84         </td></tr>\n",
       "\t<tr><th scope=row>41</th><td> 50          </td><td> 500         </td><td>0.5          </td><td>10           </td><td>0.00         </td><td>0.95 ( 0.04 )</td><td>1 ( 0 )      </td><td>6 ( 0 )      </td><td>2.04 ( 0.02 )</td><td> 0.00        </td><td>NaN          </td><td>0.95         </td><td> 1.0         </td><td>6.00         </td><td>2.04         </td></tr>\n",
       "\t<tr><th scope=row>45</th><td> 50          </td><td>1000         </td><td>0.5          </td><td>20           </td><td>0.00         </td><td>0.94 ( 0.04 )</td><td>1 ( 0 )      </td><td>6 ( 0 )      </td><td>2.04 ( 0.02 )</td><td> 0.00        </td><td>NaN          </td><td>0.94         </td><td> 1.0         </td><td>6.00         </td><td>2.04         </td></tr>\n",
       "\t<tr><th scope=row>49</th><td> 50          </td><td>  50         </td><td>0.7          </td><td> 1           </td><td>0.00         </td><td>0.66 ( 0.03 )</td><td>1 ( 0 )      </td><td>6 ( 0 )      </td><td>1.44 ( 0.01 )</td><td> 0.00        </td><td>NaN          </td><td>0.66         </td><td> 1.0         </td><td>6.00         </td><td>1.44         </td></tr>\n",
       "\t<tr><th scope=row>53</th><td> 50          </td><td> 100         </td><td>0.7          </td><td> 2           </td><td>0.00         </td><td>0.67 ( 0.03 )</td><td>1 ( 0 )      </td><td>6 ( 0 )      </td><td>1.5 ( 0.02 ) </td><td> 0.00        </td><td>NaN          </td><td>0.67         </td><td> 1.0         </td><td>6.00         </td><td>1.50         </td></tr>\n",
       "\t<tr><th scope=row>57</th><td> 50          </td><td> 500         </td><td>0.7          </td><td>10           </td><td>0.00         </td><td>0.7 ( 0.03 ) </td><td>1 ( 0 )      </td><td>6 ( 0 )      </td><td>1.68 ( 0.02 )</td><td> 0.00        </td><td>NaN          </td><td>0.70         </td><td> 1.0         </td><td>6.00         </td><td>1.68         </td></tr>\n",
       "\t<tr><th scope=row>61</th><td> 50          </td><td>1000         </td><td>0.7          </td><td>20           </td><td>0.00         </td><td>0.74 ( 0.03 )</td><td>1 ( 0 )      </td><td>6 ( 0 )      </td><td>1.69 ( 0.02 )</td><td> 0.00        </td><td>NaN          </td><td>0.74         </td><td> 1.0         </td><td>6.00         </td><td>1.69         </td></tr>\n",
       "\t<tr><th scope=row>65</th><td> 50          </td><td>  50         </td><td>0.9          </td><td> 1           </td><td>0.00         </td><td>0.27 ( 0.01 )</td><td>1 ( 0 )      </td><td>6 ( 0 )      </td><td>0.96 ( 0.01 )</td><td> 0.00        </td><td>NaN          </td><td>0.27         </td><td> 1.0         </td><td>6.00         </td><td>0.96         </td></tr>\n",
       "\t<tr><th scope=row>69</th><td> 50          </td><td> 100         </td><td>0.9          </td><td> 2           </td><td>0.00         </td><td>0.3 ( 0.01 ) </td><td>1 ( 0 )      </td><td>6 ( 0 )      </td><td>1 ( 0.01 )   </td><td> 0.00        </td><td>NaN          </td><td>0.30         </td><td> 1.0         </td><td>6.00         </td><td>1.00         </td></tr>\n",
       "\t<tr><th scope=row>73</th><td> 50          </td><td> 500         </td><td>0.9          </td><td>10           </td><td>0.00         </td><td>0.29 ( 0.01 )</td><td>1 ( 0 )      </td><td>6 ( 0 )      </td><td>1.1 ( 0.01 ) </td><td> 0.00        </td><td>NaN          </td><td>0.29         </td><td> 1.0         </td><td>6.00         </td><td>1.10         </td></tr>\n",
       "\t<tr><th scope=row>77</th><td> 50          </td><td>1000         </td><td>0.9          </td><td>20           </td><td>0.00         </td><td>0.29 ( 0.01 )</td><td>1 ( 0 )      </td><td>6 ( 0 )      </td><td>1.11 ( 0.01 )</td><td> 0.00        </td><td>NaN          </td><td>0.29         </td><td> 1.0         </td><td>6.00         </td><td>1.11         </td></tr>\n",
       "</tbody>\n",
       "</table>\n"
      ],
      "text/latex": [
       "\\begin{tabular}{r|lllllllllllllll}\n",
       "  & N & P & Corr & Ratio & Stab & MSE & FP & FN & OOB & num\\_select & FDR & MSE\\_mean & FP\\_mean & FN\\_mean & OOB\\_mean\\\\\n",
       "\\hline\n",
       "\t1 &  50           &   50          & 0.1           &  1            & 0.00          & 1.4 ( 0.06 )  & 1 ( 0 )       & 6 ( 0 )       & 1.98 ( 0.02 ) &  0.00         & NaN           & 1.40          &  1.0          & 6.00          & 1.98         \\\\\n",
       "\t5 &  50           &  100          & 0.1           &  2            & 0.00          & 1.36 ( 0.06 ) & 1 ( 0 )       & 6 ( 0 )       & 2.19 ( 0.02 ) &  0.00         & NaN           & 1.36          &  1.0          & 6.00          & 2.19         \\\\\n",
       "\t9 &  50           &  500          & 0.1           & 10            & 0.00          & 1.29 ( 0.05 ) & 1 ( 0 )       & 6 ( 0 )       & 2.39 ( 0.02 ) &  0.00         & NaN           & 1.29          &  1.0          & 6.00          & 2.39         \\\\\n",
       "\t13 &  50           & 1000          & 0.1           & 20            & 0.00          & 1.35 ( 0.06 ) & 1 ( 0 )       & 6 ( 0 )       & 2.42 ( 0.02 ) &  0.00         & NaN           & 1.35          &  1.0          & 6.00          & 2.42         \\\\\n",
       "\t14 & 100           & 1000          & 0.1           & 10            & 0.01          & 1 ( 0.03 )    & 49.42 ( 0.7 ) & 4.71 ( 0.09 ) & 2.39 ( 0.02 ) & 50.71         & 0.97          & 1.00          & 49.4          & 4.71          & 2.39         \\\\\n",
       "\t17 &  50           &   50          & 0.3           &  1            & 0.00          & 1.22 ( 0.05 ) & 1 ( 0 )       & 6 ( 0 )       & 1.87 ( 0.02 ) &  0.00         & NaN           & 1.22          &  1.0          & 6.00          & 1.87         \\\\\n",
       "\t21 &  50           &  100          & 0.3           &  2            & 0.00          & 1.15 ( 0.05 ) & 1 ( 0 )       & 6 ( 0 )       & 2.03 ( 0.02 ) &  0.00         & NaN           & 1.15          &  1.0          & 6.00          & 2.03         \\\\\n",
       "\t25 &  50           &  500          & 0.3           & 10            & 0.00          & 1.14 ( 0.05 ) & 1 ( 0 )       & 6 ( 0 )       & 2.24 ( 0.02 ) &  0.00         & NaN           & 1.14          &  1.0          & 6.00          & 2.24         \\\\\n",
       "\t29 &  50           & 1000          & 0.3           & 20            & 0.00          & 1.2 ( 0.05 )  & 1 ( 0 )       & 6 ( 0 )       & 2.29 ( 0.02 ) &  0.00         & NaN           & 1.20          &  1.0          & 6.00          & 2.29         \\\\\n",
       "\t33 &  50           &   50          & 0.5           &  1            & 0.00          & 0.99 ( 0.05 ) & 1 ( 0 )       & 6 ( 0 )       & 1.68 ( 0.02 ) &  0.00         & NaN           & 0.99          &  1.0          & 6.00          & 1.68         \\\\\n",
       "\t37 &  50           &  100          & 0.5           &  2            & 0.00          & 0.91 ( 0.04 ) & 1 ( 0 )       & 6 ( 0 )       & 1.84 ( 0.02 ) &  0.00         & NaN           & 0.91          &  1.0          & 6.00          & 1.84         \\\\\n",
       "\t41 &  50           &  500          & 0.5           & 10            & 0.00          & 0.95 ( 0.04 ) & 1 ( 0 )       & 6 ( 0 )       & 2.04 ( 0.02 ) &  0.00         & NaN           & 0.95          &  1.0          & 6.00          & 2.04         \\\\\n",
       "\t45 &  50           & 1000          & 0.5           & 20            & 0.00          & 0.94 ( 0.04 ) & 1 ( 0 )       & 6 ( 0 )       & 2.04 ( 0.02 ) &  0.00         & NaN           & 0.94          &  1.0          & 6.00          & 2.04         \\\\\n",
       "\t49 &  50           &   50          & 0.7           &  1            & 0.00          & 0.66 ( 0.03 ) & 1 ( 0 )       & 6 ( 0 )       & 1.44 ( 0.01 ) &  0.00         & NaN           & 0.66          &  1.0          & 6.00          & 1.44         \\\\\n",
       "\t53 &  50           &  100          & 0.7           &  2            & 0.00          & 0.67 ( 0.03 ) & 1 ( 0 )       & 6 ( 0 )       & 1.5 ( 0.02 )  &  0.00         & NaN           & 0.67          &  1.0          & 6.00          & 1.50         \\\\\n",
       "\t57 &  50           &  500          & 0.7           & 10            & 0.00          & 0.7 ( 0.03 )  & 1 ( 0 )       & 6 ( 0 )       & 1.68 ( 0.02 ) &  0.00         & NaN           & 0.70          &  1.0          & 6.00          & 1.68         \\\\\n",
       "\t61 &  50           & 1000          & 0.7           & 20            & 0.00          & 0.74 ( 0.03 ) & 1 ( 0 )       & 6 ( 0 )       & 1.69 ( 0.02 ) &  0.00         & NaN           & 0.74          &  1.0          & 6.00          & 1.69         \\\\\n",
       "\t65 &  50           &   50          & 0.9           &  1            & 0.00          & 0.27 ( 0.01 ) & 1 ( 0 )       & 6 ( 0 )       & 0.96 ( 0.01 ) &  0.00         & NaN           & 0.27          &  1.0          & 6.00          & 0.96         \\\\\n",
       "\t69 &  50           &  100          & 0.9           &  2            & 0.00          & 0.3 ( 0.01 )  & 1 ( 0 )       & 6 ( 0 )       & 1 ( 0.01 )    &  0.00         & NaN           & 0.30          &  1.0          & 6.00          & 1.00         \\\\\n",
       "\t73 &  50           &  500          & 0.9           & 10            & 0.00          & 0.29 ( 0.01 ) & 1 ( 0 )       & 6 ( 0 )       & 1.1 ( 0.01 )  &  0.00         & NaN           & 0.29          &  1.0          & 6.00          & 1.10         \\\\\n",
       "\t77 &  50           & 1000          & 0.9           & 20            & 0.00          & 0.29 ( 0.01 ) & 1 ( 0 )       & 6 ( 0 )       & 1.11 ( 0.01 ) &  0.00         & NaN           & 0.29          &  1.0          & 6.00          & 1.11         \\\\\n",
       "\\end{tabular}\n"
      ],
      "text/markdown": [
       "\n",
       "| <!--/--> | N | P | Corr | Ratio | Stab | MSE | FP | FN | OOB | num_select | FDR | MSE_mean | FP_mean | FN_mean | OOB_mean |\n",
       "|---|---|---|---|---|---|---|---|---|---|---|---|---|---|---|---|\n",
       "| 1 |  50           |   50          | 0.1           |  1            | 0.00          | 1.4 ( 0.06 )  | 1 ( 0 )       | 6 ( 0 )       | 1.98 ( 0.02 ) |  0.00         | NaN           | 1.40          |  1.0          | 6.00          | 1.98          |\n",
       "| 5 |  50           |  100          | 0.1           |  2            | 0.00          | 1.36 ( 0.06 ) | 1 ( 0 )       | 6 ( 0 )       | 2.19 ( 0.02 ) |  0.00         | NaN           | 1.36          |  1.0          | 6.00          | 2.19          |\n",
       "| 9 |  50           |  500          | 0.1           | 10            | 0.00          | 1.29 ( 0.05 ) | 1 ( 0 )       | 6 ( 0 )       | 2.39 ( 0.02 ) |  0.00         | NaN           | 1.29          |  1.0          | 6.00          | 2.39          |\n",
       "| 13 |  50           | 1000          | 0.1           | 20            | 0.00          | 1.35 ( 0.06 ) | 1 ( 0 )       | 6 ( 0 )       | 2.42 ( 0.02 ) |  0.00         | NaN           | 1.35          |  1.0          | 6.00          | 2.42          |\n",
       "| 14 | 100           | 1000          | 0.1           | 10            | 0.01          | 1 ( 0.03 )    | 49.42 ( 0.7 ) | 4.71 ( 0.09 ) | 2.39 ( 0.02 ) | 50.71         | 0.97          | 1.00          | 49.4          | 4.71          | 2.39          |\n",
       "| 17 |  50           |   50          | 0.3           |  1            | 0.00          | 1.22 ( 0.05 ) | 1 ( 0 )       | 6 ( 0 )       | 1.87 ( 0.02 ) |  0.00         | NaN           | 1.22          |  1.0          | 6.00          | 1.87          |\n",
       "| 21 |  50           |  100          | 0.3           |  2            | 0.00          | 1.15 ( 0.05 ) | 1 ( 0 )       | 6 ( 0 )       | 2.03 ( 0.02 ) |  0.00         | NaN           | 1.15          |  1.0          | 6.00          | 2.03          |\n",
       "| 25 |  50           |  500          | 0.3           | 10            | 0.00          | 1.14 ( 0.05 ) | 1 ( 0 )       | 6 ( 0 )       | 2.24 ( 0.02 ) |  0.00         | NaN           | 1.14          |  1.0          | 6.00          | 2.24          |\n",
       "| 29 |  50           | 1000          | 0.3           | 20            | 0.00          | 1.2 ( 0.05 )  | 1 ( 0 )       | 6 ( 0 )       | 2.29 ( 0.02 ) |  0.00         | NaN           | 1.20          |  1.0          | 6.00          | 2.29          |\n",
       "| 33 |  50           |   50          | 0.5           |  1            | 0.00          | 0.99 ( 0.05 ) | 1 ( 0 )       | 6 ( 0 )       | 1.68 ( 0.02 ) |  0.00         | NaN           | 0.99          |  1.0          | 6.00          | 1.68          |\n",
       "| 37 |  50           |  100          | 0.5           |  2            | 0.00          | 0.91 ( 0.04 ) | 1 ( 0 )       | 6 ( 0 )       | 1.84 ( 0.02 ) |  0.00         | NaN           | 0.91          |  1.0          | 6.00          | 1.84          |\n",
       "| 41 |  50           |  500          | 0.5           | 10            | 0.00          | 0.95 ( 0.04 ) | 1 ( 0 )       | 6 ( 0 )       | 2.04 ( 0.02 ) |  0.00         | NaN           | 0.95          |  1.0          | 6.00          | 2.04          |\n",
       "| 45 |  50           | 1000          | 0.5           | 20            | 0.00          | 0.94 ( 0.04 ) | 1 ( 0 )       | 6 ( 0 )       | 2.04 ( 0.02 ) |  0.00         | NaN           | 0.94          |  1.0          | 6.00          | 2.04          |\n",
       "| 49 |  50           |   50          | 0.7           |  1            | 0.00          | 0.66 ( 0.03 ) | 1 ( 0 )       | 6 ( 0 )       | 1.44 ( 0.01 ) |  0.00         | NaN           | 0.66          |  1.0          | 6.00          | 1.44          |\n",
       "| 53 |  50           |  100          | 0.7           |  2            | 0.00          | 0.67 ( 0.03 ) | 1 ( 0 )       | 6 ( 0 )       | 1.5 ( 0.02 )  |  0.00         | NaN           | 0.67          |  1.0          | 6.00          | 1.50          |\n",
       "| 57 |  50           |  500          | 0.7           | 10            | 0.00          | 0.7 ( 0.03 )  | 1 ( 0 )       | 6 ( 0 )       | 1.68 ( 0.02 ) |  0.00         | NaN           | 0.70          |  1.0          | 6.00          | 1.68          |\n",
       "| 61 |  50           | 1000          | 0.7           | 20            | 0.00          | 0.74 ( 0.03 ) | 1 ( 0 )       | 6 ( 0 )       | 1.69 ( 0.02 ) |  0.00         | NaN           | 0.74          |  1.0          | 6.00          | 1.69          |\n",
       "| 65 |  50           |   50          | 0.9           |  1            | 0.00          | 0.27 ( 0.01 ) | 1 ( 0 )       | 6 ( 0 )       | 0.96 ( 0.01 ) |  0.00         | NaN           | 0.27          |  1.0          | 6.00          | 0.96          |\n",
       "| 69 |  50           |  100          | 0.9           |  2            | 0.00          | 0.3 ( 0.01 )  | 1 ( 0 )       | 6 ( 0 )       | 1 ( 0.01 )    |  0.00         | NaN           | 0.30          |  1.0          | 6.00          | 1.00          |\n",
       "| 73 |  50           |  500          | 0.9           | 10            | 0.00          | 0.29 ( 0.01 ) | 1 ( 0 )       | 6 ( 0 )       | 1.1 ( 0.01 )  |  0.00         | NaN           | 0.29          |  1.0          | 6.00          | 1.10          |\n",
       "| 77 |  50           | 1000          | 0.9           | 20            | 0.00          | 0.29 ( 0.01 ) | 1 ( 0 )       | 6 ( 0 )       | 1.11 ( 0.01 ) |  0.00         | NaN           | 0.29          |  1.0          | 6.00          | 1.11          |\n",
       "\n"
      ],
      "text/plain": [
       "   N   P    Corr Ratio Stab MSE           FP            FN           \n",
       "1   50   50 0.1   1    0.00 1.4 ( 0.06 )  1 ( 0 )       6 ( 0 )      \n",
       "5   50  100 0.1   2    0.00 1.36 ( 0.06 ) 1 ( 0 )       6 ( 0 )      \n",
       "9   50  500 0.1  10    0.00 1.29 ( 0.05 ) 1 ( 0 )       6 ( 0 )      \n",
       "13  50 1000 0.1  20    0.00 1.35 ( 0.06 ) 1 ( 0 )       6 ( 0 )      \n",
       "14 100 1000 0.1  10    0.01 1 ( 0.03 )    49.42 ( 0.7 ) 4.71 ( 0.09 )\n",
       "17  50   50 0.3   1    0.00 1.22 ( 0.05 ) 1 ( 0 )       6 ( 0 )      \n",
       "21  50  100 0.3   2    0.00 1.15 ( 0.05 ) 1 ( 0 )       6 ( 0 )      \n",
       "25  50  500 0.3  10    0.00 1.14 ( 0.05 ) 1 ( 0 )       6 ( 0 )      \n",
       "29  50 1000 0.3  20    0.00 1.2 ( 0.05 )  1 ( 0 )       6 ( 0 )      \n",
       "33  50   50 0.5   1    0.00 0.99 ( 0.05 ) 1 ( 0 )       6 ( 0 )      \n",
       "37  50  100 0.5   2    0.00 0.91 ( 0.04 ) 1 ( 0 )       6 ( 0 )      \n",
       "41  50  500 0.5  10    0.00 0.95 ( 0.04 ) 1 ( 0 )       6 ( 0 )      \n",
       "45  50 1000 0.5  20    0.00 0.94 ( 0.04 ) 1 ( 0 )       6 ( 0 )      \n",
       "49  50   50 0.7   1    0.00 0.66 ( 0.03 ) 1 ( 0 )       6 ( 0 )      \n",
       "53  50  100 0.7   2    0.00 0.67 ( 0.03 ) 1 ( 0 )       6 ( 0 )      \n",
       "57  50  500 0.7  10    0.00 0.7 ( 0.03 )  1 ( 0 )       6 ( 0 )      \n",
       "61  50 1000 0.7  20    0.00 0.74 ( 0.03 ) 1 ( 0 )       6 ( 0 )      \n",
       "65  50   50 0.9   1    0.00 0.27 ( 0.01 ) 1 ( 0 )       6 ( 0 )      \n",
       "69  50  100 0.9   2    0.00 0.3 ( 0.01 )  1 ( 0 )       6 ( 0 )      \n",
       "73  50  500 0.9  10    0.00 0.29 ( 0.01 ) 1 ( 0 )       6 ( 0 )      \n",
       "77  50 1000 0.9  20    0.00 0.29 ( 0.01 ) 1 ( 0 )       6 ( 0 )      \n",
       "   OOB           num_select FDR  MSE_mean FP_mean FN_mean OOB_mean\n",
       "1  1.98 ( 0.02 )  0.00      NaN  1.40      1.0    6.00    1.98    \n",
       "5  2.19 ( 0.02 )  0.00      NaN  1.36      1.0    6.00    2.19    \n",
       "9  2.39 ( 0.02 )  0.00      NaN  1.29      1.0    6.00    2.39    \n",
       "13 2.42 ( 0.02 )  0.00      NaN  1.35      1.0    6.00    2.42    \n",
       "14 2.39 ( 0.02 ) 50.71      0.97 1.00     49.4    4.71    2.39    \n",
       "17 1.87 ( 0.02 )  0.00      NaN  1.22      1.0    6.00    1.87    \n",
       "21 2.03 ( 0.02 )  0.00      NaN  1.15      1.0    6.00    2.03    \n",
       "25 2.24 ( 0.02 )  0.00      NaN  1.14      1.0    6.00    2.24    \n",
       "29 2.29 ( 0.02 )  0.00      NaN  1.20      1.0    6.00    2.29    \n",
       "33 1.68 ( 0.02 )  0.00      NaN  0.99      1.0    6.00    1.68    \n",
       "37 1.84 ( 0.02 )  0.00      NaN  0.91      1.0    6.00    1.84    \n",
       "41 2.04 ( 0.02 )  0.00      NaN  0.95      1.0    6.00    2.04    \n",
       "45 2.04 ( 0.02 )  0.00      NaN  0.94      1.0    6.00    2.04    \n",
       "49 1.44 ( 0.01 )  0.00      NaN  0.66      1.0    6.00    1.44    \n",
       "53 1.5 ( 0.02 )   0.00      NaN  0.67      1.0    6.00    1.50    \n",
       "57 1.68 ( 0.02 )  0.00      NaN  0.70      1.0    6.00    1.68    \n",
       "61 1.69 ( 0.02 )  0.00      NaN  0.74      1.0    6.00    1.69    \n",
       "65 0.96 ( 0.01 )  0.00      NaN  0.27      1.0    6.00    0.96    \n",
       "69 1 ( 0.01 )     0.00      NaN  0.30      1.0    6.00    1.00    \n",
       "73 1.1 ( 0.01 )   0.00      NaN  0.29      1.0    6.00    1.10    \n",
       "77 1.11 ( 0.01 )  0.00      NaN  0.29      1.0    6.00    1.11    "
      ]
     },
     "metadata": {},
     "output_type": "display_data"
    }
   ],
   "source": [
    "result.table_toe[c(1,5,9,13,14,17,21,25,29,33,37,41,45,49,53,57,61,65,69,73,77), ]"
   ]
  },
  {
   "cell_type": "code",
   "execution_count": 12,
   "metadata": {},
   "outputs": [
    {
     "data": {
      "text/html": [
       "<table>\n",
       "<thead><tr><th scope=col>N</th><th scope=col>P</th><th scope=col>Corr</th><th scope=col>Ratio</th><th scope=col>Stab</th><th scope=col>MSE</th><th scope=col>FP</th><th scope=col>FN</th><th scope=col>OOB</th><th scope=col>num_select</th><th scope=col>FDR</th><th scope=col>MSE_mean</th><th scope=col>FP_mean</th><th scope=col>FN_mean</th><th scope=col>OOB_mean</th></tr></thead>\n",
       "<tbody>\n",
       "\t<tr><td>  50         </td><td> 50          </td><td>0.1          </td><td>1.00         </td><td>0.00         </td><td>1.4 ( 0.06 ) </td><td>1 ( 0 )      </td><td>6 ( 0 )      </td><td>1.98 ( 0.02 )</td><td>0.00         </td><td>NaN          </td><td>1.40         </td><td>1.00         </td><td>6.00         </td><td>1.98         </td></tr>\n",
       "\t<tr><td> 100         </td><td> 50          </td><td>0.1          </td><td>0.50         </td><td>0.19         </td><td>0.86 ( 0.03 )</td><td>1.87 ( 0.14 )</td><td>4.25 ( 0.09 )</td><td>1.76 ( 0.01 )</td><td>3.62         </td><td>0.48         </td><td>0.86         </td><td>1.87         </td><td>4.25         </td><td>1.76         </td></tr>\n",
       "\t<tr><td> 500         </td><td> 50          </td><td>0.1          </td><td>0.10         </td><td>0.77         </td><td>0.44 ( 0.01 )</td><td>0.32 ( 0.05 )</td><td>1.81 ( 0.07 )</td><td>1.29 ( 0 )   </td><td>4.51         </td><td>0.06         </td><td>0.44         </td><td>0.32         </td><td>1.81         </td><td>1.29         </td></tr>\n",
       "\t<tr><td>1000         </td><td> 50          </td><td>0.1          </td><td>0.05         </td><td>0.86         </td><td>0.34 ( 0 )   </td><td>0.15 ( 0.04 )</td><td>0.93 ( 0.07 )</td><td>1.15 ( 0 )   </td><td>5.22         </td><td>0.02         </td><td>0.34         </td><td>0.15         </td><td>0.93         </td><td>1.15         </td></tr>\n",
       "\t<tr><td>  50         </td><td>100          </td><td>0.1          </td><td>2.00         </td><td>0.00         </td><td>1.36 ( 0.06 )</td><td>1 ( 0 )      </td><td>6 ( 0 )      </td><td>2.19 ( 0.02 )</td><td>0.00         </td><td>NaN          </td><td>1.36         </td><td>1.00         </td><td>6.00         </td><td>2.19         </td></tr>\n",
       "\t<tr><td> 100         </td><td>100          </td><td>0.1          </td><td>1.00         </td><td>0.12         </td><td>0.93 ( 0.03 )</td><td>4.11 ( 0.18 )</td><td>4.17 ( 0.1 ) </td><td>1.99 ( 0.01 )</td><td>5.93         </td><td>0.68         </td><td>0.93         </td><td>4.11         </td><td>4.17         </td><td>1.99         </td></tr>\n",
       "</tbody>\n",
       "</table>\n"
      ],
      "text/latex": [
       "\\begin{tabular}{r|lllllllllllllll}\n",
       " N & P & Corr & Ratio & Stab & MSE & FP & FN & OOB & num\\_select & FDR & MSE\\_mean & FP\\_mean & FN\\_mean & OOB\\_mean\\\\\n",
       "\\hline\n",
       "\t   50          &  50           & 0.1           & 1.00          & 0.00          & 1.4 ( 0.06 )  & 1 ( 0 )       & 6 ( 0 )       & 1.98 ( 0.02 ) & 0.00          & NaN           & 1.40          & 1.00          & 6.00          & 1.98         \\\\\n",
       "\t  100          &  50           & 0.1           & 0.50          & 0.19          & 0.86 ( 0.03 ) & 1.87 ( 0.14 ) & 4.25 ( 0.09 ) & 1.76 ( 0.01 ) & 3.62          & 0.48          & 0.86          & 1.87          & 4.25          & 1.76         \\\\\n",
       "\t  500          &  50           & 0.1           & 0.10          & 0.77          & 0.44 ( 0.01 ) & 0.32 ( 0.05 ) & 1.81 ( 0.07 ) & 1.29 ( 0 )    & 4.51          & 0.06          & 0.44          & 0.32          & 1.81          & 1.29         \\\\\n",
       "\t 1000          &  50           & 0.1           & 0.05          & 0.86          & 0.34 ( 0 )    & 0.15 ( 0.04 ) & 0.93 ( 0.07 ) & 1.15 ( 0 )    & 5.22          & 0.02          & 0.34          & 0.15          & 0.93          & 1.15         \\\\\n",
       "\t   50          & 100           & 0.1           & 2.00          & 0.00          & 1.36 ( 0.06 ) & 1 ( 0 )       & 6 ( 0 )       & 2.19 ( 0.02 ) & 0.00          & NaN           & 1.36          & 1.00          & 6.00          & 2.19         \\\\\n",
       "\t  100          & 100           & 0.1           & 1.00          & 0.12          & 0.93 ( 0.03 ) & 4.11 ( 0.18 ) & 4.17 ( 0.1 )  & 1.99 ( 0.01 ) & 5.93          & 0.68          & 0.93          & 4.11          & 4.17          & 1.99         \\\\\n",
       "\\end{tabular}\n"
      ],
      "text/markdown": [
       "\n",
       "| N | P | Corr | Ratio | Stab | MSE | FP | FN | OOB | num_select | FDR | MSE_mean | FP_mean | FN_mean | OOB_mean |\n",
       "|---|---|---|---|---|---|---|---|---|---|---|---|---|---|---|\n",
       "|   50          |  50           | 0.1           | 1.00          | 0.00          | 1.4 ( 0.06 )  | 1 ( 0 )       | 6 ( 0 )       | 1.98 ( 0.02 ) | 0.00          | NaN           | 1.40          | 1.00          | 6.00          | 1.98          |\n",
       "|  100          |  50           | 0.1           | 0.50          | 0.19          | 0.86 ( 0.03 ) | 1.87 ( 0.14 ) | 4.25 ( 0.09 ) | 1.76 ( 0.01 ) | 3.62          | 0.48          | 0.86          | 1.87          | 4.25          | 1.76          |\n",
       "|  500          |  50           | 0.1           | 0.10          | 0.77          | 0.44 ( 0.01 ) | 0.32 ( 0.05 ) | 1.81 ( 0.07 ) | 1.29 ( 0 )    | 4.51          | 0.06          | 0.44          | 0.32          | 1.81          | 1.29          |\n",
       "| 1000          |  50           | 0.1           | 0.05          | 0.86          | 0.34 ( 0 )    | 0.15 ( 0.04 ) | 0.93 ( 0.07 ) | 1.15 ( 0 )    | 5.22          | 0.02          | 0.34          | 0.15          | 0.93          | 1.15          |\n",
       "|   50          | 100           | 0.1           | 2.00          | 0.00          | 1.36 ( 0.06 ) | 1 ( 0 )       | 6 ( 0 )       | 2.19 ( 0.02 ) | 0.00          | NaN           | 1.36          | 1.00          | 6.00          | 2.19          |\n",
       "|  100          | 100           | 0.1           | 1.00          | 0.12          | 0.93 ( 0.03 ) | 4.11 ( 0.18 ) | 4.17 ( 0.1 )  | 1.99 ( 0.01 ) | 5.93          | 0.68          | 0.93          | 4.11          | 4.17          | 1.99          |\n",
       "\n"
      ],
      "text/plain": [
       "  N    P   Corr Ratio Stab MSE           FP            FN           \n",
       "1   50  50 0.1  1.00  0.00 1.4 ( 0.06 )  1 ( 0 )       6 ( 0 )      \n",
       "2  100  50 0.1  0.50  0.19 0.86 ( 0.03 ) 1.87 ( 0.14 ) 4.25 ( 0.09 )\n",
       "3  500  50 0.1  0.10  0.77 0.44 ( 0.01 ) 0.32 ( 0.05 ) 1.81 ( 0.07 )\n",
       "4 1000  50 0.1  0.05  0.86 0.34 ( 0 )    0.15 ( 0.04 ) 0.93 ( 0.07 )\n",
       "5   50 100 0.1  2.00  0.00 1.36 ( 0.06 ) 1 ( 0 )       6 ( 0 )      \n",
       "6  100 100 0.1  1.00  0.12 0.93 ( 0.03 ) 4.11 ( 0.18 ) 4.17 ( 0.1 ) \n",
       "  OOB           num_select FDR  MSE_mean FP_mean FN_mean OOB_mean\n",
       "1 1.98 ( 0.02 ) 0.00       NaN  1.40     1.00    6.00    1.98    \n",
       "2 1.76 ( 0.01 ) 3.62       0.48 0.86     1.87    4.25    1.76    \n",
       "3 1.29 ( 0 )    4.51       0.06 0.44     0.32    1.81    1.29    \n",
       "4 1.15 ( 0 )    5.22       0.02 0.34     0.15    0.93    1.15    \n",
       "5 2.19 ( 0.02 ) 0.00       NaN  1.36     1.00    6.00    2.19    \n",
       "6 1.99 ( 0.01 ) 5.93       0.68 0.93     4.11    4.17    1.99    "
      ]
     },
     "metadata": {},
     "output_type": "display_data"
    }
   ],
   "source": [
    "head(result.table_toe)"
   ]
  },
  {
   "cell_type": "code",
   "execution_count": 13,
   "metadata": {},
   "outputs": [
    {
     "data": {
      "text/html": [
       "<table>\n",
       "<thead><tr><th></th><th scope=col>N</th><th scope=col>P</th><th scope=col>Corr</th><th scope=col>Ratio</th><th scope=col>Stab</th><th scope=col>MSE</th><th scope=col>FP</th><th scope=col>FN</th><th scope=col>OOB</th><th scope=col>num_select</th><th scope=col>FDR</th><th scope=col>MSE_mean</th><th scope=col>FP_mean</th><th scope=col>FN_mean</th><th scope=col>OOB_mean</th></tr></thead>\n",
       "<tbody>\n",
       "\t<tr><th scope=row>75</th><td> 500          </td><td> 500          </td><td>0.9           </td><td> 1.0          </td><td>0.14          </td><td>0.17 ( 0 )    </td><td>21.38 ( 0.6 ) </td><td>3 ( 0.07 )    </td><td>0.99 ( 0 )    </td><td>24.38         </td><td>0.87          </td><td>0.17          </td><td>21.3          </td><td>0.00          </td><td>0.99          </td></tr>\n",
       "\t<tr><th scope=row>76</th><td>1000          </td><td> 500          </td><td>0.9           </td><td> 0.5          </td><td>0.20          </td><td>0.16 ( 0 )    </td><td>18.68 ( 0.53 )</td><td>2.35 ( 0.06 ) </td><td>0.96 ( 0 )    </td><td>22.33         </td><td>0.83          </td><td>0.16          </td><td>18.6          </td><td>2.35          </td><td>0.96          </td></tr>\n",
       "\t<tr><th scope=row>77</th><td>  50          </td><td>1000          </td><td>0.9           </td><td>20.0          </td><td>0.00          </td><td>0.29 ( 0.01 ) </td><td>1 ( 0 )       </td><td>6 ( 0 )       </td><td>1.11 ( 0.01 ) </td><td> 0.00         </td><td>NaN           </td><td>0.29          </td><td> 1.0          </td><td>6.00          </td><td>1.11          </td></tr>\n",
       "\t<tr><th scope=row>78</th><td> 100          </td><td>1000          </td><td>0.9           </td><td>10.0          </td><td>0.01          </td><td>0.2 ( 0.01 )  </td><td>49.91 ( 0.83 )</td><td>4.99 ( 0.09 ) </td><td>1.09 ( 0.01 ) </td><td>50.92         </td><td>0.98          </td><td>0.20          </td><td>49.9          </td><td>4.99          </td><td>1.09          </td></tr>\n",
       "\t<tr><th scope=row>79</th><td> 500          </td><td>1000          </td><td>0.9           </td><td> 2.0          </td><td>0.06          </td><td>0.19 ( 0 )    </td><td>46.34 ( 0.86 )</td><td>3.13 ( 0.08 ) </td><td>1.04 ( 0 )    </td><td>49.21         </td><td>0.94          </td><td>0.19          </td><td>46.3          </td><td>3.13          </td><td>1.04          </td></tr>\n",
       "\t<tr><th scope=row>80</th><td>1000          </td><td>1000          </td><td>0.9           </td><td> 1.0          </td><td>0.09          </td><td>0.18 ( 0 )    </td><td>43.52 ( 0.89 )</td><td>2.7 ( 0.07 )  </td><td>1.02 ( 0 )    </td><td>46.82         </td><td>0.93          </td><td>0.18          </td><td>43.5          </td><td>2.70          </td><td>1.02          </td></tr>\n",
       "</tbody>\n",
       "</table>\n"
      ],
      "text/latex": [
       "\\begin{tabular}{r|lllllllllllllll}\n",
       "  & N & P & Corr & Ratio & Stab & MSE & FP & FN & OOB & num\\_select & FDR & MSE\\_mean & FP\\_mean & FN\\_mean & OOB\\_mean\\\\\n",
       "\\hline\n",
       "\t75 &  500           &  500           & 0.9            &  1.0           & 0.14           & 0.17 ( 0 )     & 21.38 ( 0.6 )  & 3 ( 0.07 )     & 0.99 ( 0 )     & 24.38          & 0.87           & 0.17           & 21.3           & 0.00           & 0.99          \\\\\n",
       "\t76 & 1000           &  500           & 0.9            &  0.5           & 0.20           & 0.16 ( 0 )     & 18.68 ( 0.53 ) & 2.35 ( 0.06 )  & 0.96 ( 0 )     & 22.33          & 0.83           & 0.16           & 18.6           & 2.35           & 0.96          \\\\\n",
       "\t77 &   50           & 1000           & 0.9            & 20.0           & 0.00           & 0.29 ( 0.01 )  & 1 ( 0 )        & 6 ( 0 )        & 1.11 ( 0.01 )  &  0.00          & NaN            & 0.29           &  1.0           & 6.00           & 1.11          \\\\\n",
       "\t78 &  100           & 1000           & 0.9            & 10.0           & 0.01           & 0.2 ( 0.01 )   & 49.91 ( 0.83 ) & 4.99 ( 0.09 )  & 1.09 ( 0.01 )  & 50.92          & 0.98           & 0.20           & 49.9           & 4.99           & 1.09          \\\\\n",
       "\t79 &  500           & 1000           & 0.9            &  2.0           & 0.06           & 0.19 ( 0 )     & 46.34 ( 0.86 ) & 3.13 ( 0.08 )  & 1.04 ( 0 )     & 49.21          & 0.94           & 0.19           & 46.3           & 3.13           & 1.04          \\\\\n",
       "\t80 & 1000           & 1000           & 0.9            &  1.0           & 0.09           & 0.18 ( 0 )     & 43.52 ( 0.89 ) & 2.7 ( 0.07 )   & 1.02 ( 0 )     & 46.82          & 0.93           & 0.18           & 43.5           & 2.70           & 1.02          \\\\\n",
       "\\end{tabular}\n"
      ],
      "text/markdown": [
       "\n",
       "| <!--/--> | N | P | Corr | Ratio | Stab | MSE | FP | FN | OOB | num_select | FDR | MSE_mean | FP_mean | FN_mean | OOB_mean |\n",
       "|---|---|---|---|---|---|---|---|---|---|---|---|---|---|---|---|\n",
       "| 75 |  500           |  500           | 0.9            |  1.0           | 0.14           | 0.17 ( 0 )     | 21.38 ( 0.6 )  | 3 ( 0.07 )     | 0.99 ( 0 )     | 24.38          | 0.87           | 0.17           | 21.3           | 0.00           | 0.99           |\n",
       "| 76 | 1000           |  500           | 0.9            |  0.5           | 0.20           | 0.16 ( 0 )     | 18.68 ( 0.53 ) | 2.35 ( 0.06 )  | 0.96 ( 0 )     | 22.33          | 0.83           | 0.16           | 18.6           | 2.35           | 0.96           |\n",
       "| 77 |   50           | 1000           | 0.9            | 20.0           | 0.00           | 0.29 ( 0.01 )  | 1 ( 0 )        | 6 ( 0 )        | 1.11 ( 0.01 )  |  0.00          | NaN            | 0.29           |  1.0           | 6.00           | 1.11           |\n",
       "| 78 |  100           | 1000           | 0.9            | 10.0           | 0.01           | 0.2 ( 0.01 )   | 49.91 ( 0.83 ) | 4.99 ( 0.09 )  | 1.09 ( 0.01 )  | 50.92          | 0.98           | 0.20           | 49.9           | 4.99           | 1.09           |\n",
       "| 79 |  500           | 1000           | 0.9            |  2.0           | 0.06           | 0.19 ( 0 )     | 46.34 ( 0.86 ) | 3.13 ( 0.08 )  | 1.04 ( 0 )     | 49.21          | 0.94           | 0.19           | 46.3           | 3.13           | 1.04           |\n",
       "| 80 | 1000           | 1000           | 0.9            |  1.0           | 0.09           | 0.18 ( 0 )     | 43.52 ( 0.89 ) | 2.7 ( 0.07 )   | 1.02 ( 0 )     | 46.82          | 0.93           | 0.18           | 43.5           | 2.70           | 1.02           |\n",
       "\n"
      ],
      "text/plain": [
       "   N    P    Corr Ratio Stab MSE           FP             FN           \n",
       "75  500  500 0.9   1.0  0.14 0.17 ( 0 )    21.38 ( 0.6 )  3 ( 0.07 )   \n",
       "76 1000  500 0.9   0.5  0.20 0.16 ( 0 )    18.68 ( 0.53 ) 2.35 ( 0.06 )\n",
       "77   50 1000 0.9  20.0  0.00 0.29 ( 0.01 ) 1 ( 0 )        6 ( 0 )      \n",
       "78  100 1000 0.9  10.0  0.01 0.2 ( 0.01 )  49.91 ( 0.83 ) 4.99 ( 0.09 )\n",
       "79  500 1000 0.9   2.0  0.06 0.19 ( 0 )    46.34 ( 0.86 ) 3.13 ( 0.08 )\n",
       "80 1000 1000 0.9   1.0  0.09 0.18 ( 0 )    43.52 ( 0.89 ) 2.7 ( 0.07 ) \n",
       "   OOB           num_select FDR  MSE_mean FP_mean FN_mean OOB_mean\n",
       "75 0.99 ( 0 )    24.38      0.87 0.17     21.3    0.00    0.99    \n",
       "76 0.96 ( 0 )    22.33      0.83 0.16     18.6    2.35    0.96    \n",
       "77 1.11 ( 0.01 )  0.00      NaN  0.29      1.0    6.00    1.11    \n",
       "78 1.09 ( 0.01 ) 50.92      0.98 0.20     49.9    4.99    1.09    \n",
       "79 1.04 ( 0 )    49.21      0.94 0.19     46.3    3.13    1.04    \n",
       "80 1.02 ( 0 )    46.82      0.93 0.18     43.5    2.70    1.02    "
      ]
     },
     "metadata": {},
     "output_type": "display_data"
    }
   ],
   "source": [
    "tail(result.table_toe)"
   ]
  },
  {
   "cell_type": "code",
   "execution_count": 14,
   "metadata": {},
   "outputs": [],
   "source": [
    "## export\n",
    "write.table(result.table_toe, '../results_summary_cts/sim_toe_rf.txt', sep='\\t', row.names=F)"
   ]
  },
  {
   "cell_type": "code",
   "execution_count": null,
   "metadata": {},
   "outputs": [],
   "source": []
  }
 ],
 "metadata": {
  "kernelspec": {
   "display_name": "R",
   "language": "R",
   "name": "ir"
  },
  "language_info": {
   "codemirror_mode": "r",
   "file_extension": ".r",
   "mimetype": "text/x-r-source",
   "name": "R",
   "pygments_lexer": "r",
   "version": "3.6.1"
  }
 },
 "nbformat": 4,
 "nbformat_minor": 2
}
