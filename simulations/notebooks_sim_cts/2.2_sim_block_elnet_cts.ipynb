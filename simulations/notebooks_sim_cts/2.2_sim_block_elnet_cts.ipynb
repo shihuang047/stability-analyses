{
 "cells": [
  {
   "cell_type": "markdown",
   "metadata": {},
   "source": [
    "### summarize elastic net results on Block Simulation Scenarios for continuous outcome"
   ]
  },
  {
   "cell_type": "code",
   "execution_count": 1,
   "metadata": {},
   "outputs": [],
   "source": [
    "dir = '/panfs/panfs1.ucsd.edu/panscratch/lij014/Stability_2020/sim_data'\n",
    "\n",
    "load(paste0(dir, '/block_Elnet.RData'))"
   ]
  },
  {
   "cell_type": "code",
   "execution_count": 2,
   "metadata": {},
   "outputs": [],
   "source": [
    "dim.list = list()\n",
    "size = c(50, 100, 500, 1000)\n",
    "idx = 0\n",
    "for (P in size){\n",
    "    for (N in size){\n",
    "        idx = idx + 1\n",
    "        dim.list[[idx]] = c(P=P, N=N)\n",
    "    }\n",
    "}\n",
    "\n",
    "rou.list = seq(0.1, 0.9, 0.2)\n",
    "\n",
    "files = NULL\n",
    "for (rou in rou.list){\n",
    "  for (dim in dim.list){\n",
    "    p = dim[1]\n",
    "    n = dim[2]\n",
    "    files = cbind(files, paste0(dir, '/sim_block_corr', rou, paste('P', p, 'N', n, sep='_'), '.RData', sep=''))\n",
    "  }\n",
    "}"
   ]
  },
  {
   "cell_type": "code",
   "execution_count": 3,
   "metadata": {},
   "outputs": [],
   "source": [
    "avg_FDR = NULL\n",
    "for (i in 1:length(files)){\n",
    "    sim_file = files[i]\n",
    "    load(sim_file, dat <- new.env())\n",
    "    sub = dat$sim_array[[i]]\n",
    "    p = sub$p # take true values from 1st replicate of each simulated data\n",
    "    coef = sub$beta\n",
    "    coef.true = which(coef != 0)\n",
    "    \n",
    "    tt = results_block_elnet[[i]]$Stab.table\n",
    "    \n",
    "    FDR = NULL\n",
    "    for (r in 1:nrow(tt)){\n",
    "        FDR = c(FDR, length(setdiff(which(tt[r, ] !=0), coef.true))/sum(tt[r, ]))\n",
    "\n",
    "    }\n",
    "    \n",
    "    avg_FDR = c(avg_FDR, mean(FDR, na.rm=T))\n",
    "}"
   ]
  },
  {
   "cell_type": "code",
   "execution_count": 4,
   "metadata": {},
   "outputs": [],
   "source": [
    "table_block = NULL\n",
    "tmp_num_select = rep(0, length(results_block_elnet))\n",
    "for (i in 1:length(results_block_elnet)){\n",
    "    table_block = rbind(table_block, results_block_elnet[[i]][c('n', 'p', 'rou', 'FP', 'FN', 'MSE', 'Stab')])\n",
    "    tmp_num_select[i] = mean(rowSums(results_block_elnet[[i]]$Stab.table))\n",
    "    \n",
    "}\n",
    "table_block = as.data.frame(table_block)\n",
    "table_block$num_select = tmp_num_select\n",
    "table_block$FDR = round(avg_FDR,2)"
   ]
  },
  {
   "cell_type": "code",
   "execution_count": 6,
   "metadata": {},
   "outputs": [
    {
     "data": {
      "text/html": [
       "<table>\n",
       "<thead><tr><th scope=col>n</th><th scope=col>p</th><th scope=col>rou</th><th scope=col>FP</th><th scope=col>FN</th><th scope=col>MSE</th><th scope=col>Stab</th><th scope=col>num_select</th><th scope=col>FDR</th></tr></thead>\n",
       "<tbody>\n",
       "\t<tr><td>50           </td><td>50           </td><td>0.1          </td><td>10.9 ( 0.97 )</td><td>3.91 ( 0.15 )</td><td>0.38 ( 0.02 )</td><td>0.02         </td><td>11.99        </td><td>0.77         </td></tr>\n",
       "\t<tr><td>100           </td><td>50            </td><td>0.1           </td><td>13.39 ( 1.06 )</td><td>2.45 ( 0.16 ) </td><td>0.34 ( 0.01 ) </td><td>0.06          </td><td>15.94         </td><td>0.68          </td></tr>\n",
       "\t<tr><td>500           </td><td>50            </td><td>0.1           </td><td>19.21 ( 0.81 )</td><td>0.14 ( 0.04 ) </td><td>0.27 ( 0 )    </td><td>0.13          </td><td>24.07         </td><td>0.73          </td></tr>\n",
       "\t<tr><td>1000          </td><td>50            </td><td>0.1           </td><td>18.76 ( 0.63 )</td><td>0.02 ( 0.01 ) </td><td>0.26 ( 0 )    </td><td>0.15          </td><td>23.74         </td><td>0.73          </td></tr>\n",
       "\t<tr><td>50           </td><td>100          </td><td>0.1          </td><td>9.27 ( 0.76 )</td><td>4.63 ( 0.09 )</td><td>0.41 ( 0.02 )</td><td>0.03         </td><td> 9.64        </td><td>0.82         </td></tr>\n",
       "\t<tr><td>100          </td><td>100          </td><td>0.1          </td><td>10.1 ( 1.04 )</td><td>3.87 ( 0.13 )</td><td>0.34 ( 0.01 )</td><td>0.07         </td><td>11.23        </td><td>0.70         </td></tr>\n",
       "</tbody>\n",
       "</table>\n"
      ],
      "text/latex": [
       "\\begin{tabular}{r|lllllllll}\n",
       " n & p & rou & FP & FN & MSE & Stab & num\\_select & FDR\\\\\n",
       "\\hline\n",
       "\t 50            & 50            & 0.1           & 10.9 ( 0.97 ) & 3.91 ( 0.15 ) & 0.38 ( 0.02 ) & 0.02          & 11.99         & 0.77         \\\\\n",
       "\t 100            & 50             & 0.1            & 13.39 ( 1.06 ) & 2.45 ( 0.16 )  & 0.34 ( 0.01 )  & 0.06           & 15.94          & 0.68          \\\\\n",
       "\t 500            & 50             & 0.1            & 19.21 ( 0.81 ) & 0.14 ( 0.04 )  & 0.27 ( 0 )     & 0.13           & 24.07          & 0.73          \\\\\n",
       "\t 1000           & 50             & 0.1            & 18.76 ( 0.63 ) & 0.02 ( 0.01 )  & 0.26 ( 0 )     & 0.15           & 23.74          & 0.73          \\\\\n",
       "\t 50            & 100           & 0.1           & 9.27 ( 0.76 ) & 4.63 ( 0.09 ) & 0.41 ( 0.02 ) & 0.03          &  9.64         & 0.82         \\\\\n",
       "\t 100           & 100           & 0.1           & 10.1 ( 1.04 ) & 3.87 ( 0.13 ) & 0.34 ( 0.01 ) & 0.07          & 11.23         & 0.70         \\\\\n",
       "\\end{tabular}\n"
      ],
      "text/markdown": [
       "\n",
       "| n | p | rou | FP | FN | MSE | Stab | num_select | FDR |\n",
       "|---|---|---|---|---|---|---|---|---|\n",
       "| 50            | 50            | 0.1           | 10.9 ( 0.97 ) | 3.91 ( 0.15 ) | 0.38 ( 0.02 ) | 0.02          | 11.99         | 0.77          |\n",
       "| 100            | 50             | 0.1            | 13.39 ( 1.06 ) | 2.45 ( 0.16 )  | 0.34 ( 0.01 )  | 0.06           | 15.94          | 0.68           |\n",
       "| 500            | 50             | 0.1            | 19.21 ( 0.81 ) | 0.14 ( 0.04 )  | 0.27 ( 0 )     | 0.13           | 24.07          | 0.73           |\n",
       "| 1000           | 50             | 0.1            | 18.76 ( 0.63 ) | 0.02 ( 0.01 )  | 0.26 ( 0 )     | 0.15           | 23.74          | 0.73           |\n",
       "| 50            | 100           | 0.1           | 9.27 ( 0.76 ) | 4.63 ( 0.09 ) | 0.41 ( 0.02 ) | 0.03          |  9.64         | 0.82          |\n",
       "| 100           | 100           | 0.1           | 10.1 ( 1.04 ) | 3.87 ( 0.13 ) | 0.34 ( 0.01 ) | 0.07          | 11.23         | 0.70          |\n",
       "\n"
      ],
      "text/plain": [
       "  n    p   rou FP             FN            MSE           Stab num_select FDR \n",
       "1 50   50  0.1 10.9 ( 0.97 )  3.91 ( 0.15 ) 0.38 ( 0.02 ) 0.02 11.99      0.77\n",
       "2 100  50  0.1 13.39 ( 1.06 ) 2.45 ( 0.16 ) 0.34 ( 0.01 ) 0.06 15.94      0.68\n",
       "3 500  50  0.1 19.21 ( 0.81 ) 0.14 ( 0.04 ) 0.27 ( 0 )    0.13 24.07      0.73\n",
       "4 1000 50  0.1 18.76 ( 0.63 ) 0.02 ( 0.01 ) 0.26 ( 0 )    0.15 23.74      0.73\n",
       "5 50   100 0.1 9.27 ( 0.76 )  4.63 ( 0.09 ) 0.41 ( 0.02 ) 0.03  9.64      0.82\n",
       "6 100  100 0.1 10.1 ( 1.04 )  3.87 ( 0.13 ) 0.34 ( 0.01 ) 0.07 11.23      0.70"
      ]
     },
     "metadata": {},
     "output_type": "display_data"
    }
   ],
   "source": [
    "head(table_block)"
   ]
  },
  {
   "cell_type": "code",
   "execution_count": 7,
   "metadata": {},
   "outputs": [
    {
     "name": "stderr",
     "output_type": "stream",
     "text": [
      "extract_numeric() is deprecated: please use readr::parse_number() instead\n",
      "extract_numeric() is deprecated: please use readr::parse_number() instead\n"
     ]
    }
   ],
   "source": [
    "# export result\n",
    "result.table_block <- apply(table_block,2,as.character)\n",
    "rownames(result.table_block) = rownames(table_block)\n",
    "result.table_block = as.data.frame(result.table_block)\n",
    "\n",
    "# extract numbers only for 'n' & 'p'\n",
    "result.table_block$n = tidyr::extract_numeric(result.table_block$n)\n",
    "result.table_block$p = tidyr::extract_numeric(result.table_block$p)\n",
    "result.table_block$ratio = result.table_block$p / result.table_block$n\n",
    "\n",
    "result.table_block = result.table_block[c('n', 'p', 'rou', 'ratio', 'Stab', 'MSE', 'FP', 'FN', 'num_select', 'FDR')]\n",
    "colnames(result.table_block)[1:4] = c('N', 'P', 'Corr', 'Ratio')"
   ]
  },
  {
   "cell_type": "code",
   "execution_count": 8,
   "metadata": {},
   "outputs": [
    {
     "name": "stderr",
     "output_type": "stream",
     "text": [
      "Warning message in eval(expr, envir, enclos):\n",
      "“NAs introduced by coercion”Warning message in eval(expr, envir, enclos):\n",
      "“NAs introduced by coercion”"
     ]
    }
   ],
   "source": [
    "# convert interested measurements to be numeric\n",
    "result.table_block$Stab = as.numeric(as.character(result.table_block$Stab))\n",
    "result.table_block$MSE_mean = as.numeric(substr(result.table_block$MSE, start=1, stop=4))\n",
    "result.table_block$FP_mean = as.numeric(substr(result.table_block$FP, start=1, stop=4))\n",
    "result.table_block$FN_mean = as.numeric(substr(result.table_block$FN, start=1, stop=4))\n",
    "result.table_block$FN_mean[is.na(result.table_block$FN_mean)] = 0\n",
    "result.table_block$num_select = as.numeric(as.character(result.table_block$num_select))"
   ]
  },
  {
   "cell_type": "code",
   "execution_count": 9,
   "metadata": {},
   "outputs": [
    {
     "data": {
      "text/html": [
       "<table>\n",
       "<thead><tr><th></th><th scope=col>N</th><th scope=col>P</th><th scope=col>Corr</th><th scope=col>Ratio</th><th scope=col>Stab</th><th scope=col>MSE</th><th scope=col>FP</th><th scope=col>FN</th><th scope=col>num_select</th><th scope=col>FDR</th><th scope=col>MSE_mean</th><th scope=col>FP_mean</th><th scope=col>FN_mean</th></tr></thead>\n",
       "<tbody>\n",
       "\t<tr><th scope=row>45</th><td>50            </td><td>1000          </td><td>0.5           </td><td>20            </td><td>0.04          </td><td>2 ( 0.1 )     </td><td>52.83 ( 3.84 )</td><td>2.29 ( 0.1 )  </td><td>55.54         </td><td>0.91          </td><td>NA            </td><td>52.8          </td><td>2.29          </td></tr>\n",
       "</tbody>\n",
       "</table>\n"
      ],
      "text/latex": [
       "\\begin{tabular}{r|lllllllllllll}\n",
       "  & N & P & Corr & Ratio & Stab & MSE & FP & FN & num\\_select & FDR & MSE\\_mean & FP\\_mean & FN\\_mean\\\\\n",
       "\\hline\n",
       "\t45 & 50             & 1000           & 0.5            & 20             & 0.04           & 2 ( 0.1 )      & 52.83 ( 3.84 ) & 2.29 ( 0.1 )   & 55.54          & 0.91           & NA             & 52.8           & 2.29          \\\\\n",
       "\\end{tabular}\n"
      ],
      "text/markdown": [
       "\n",
       "| <!--/--> | N | P | Corr | Ratio | Stab | MSE | FP | FN | num_select | FDR | MSE_mean | FP_mean | FN_mean |\n",
       "|---|---|---|---|---|---|---|---|---|---|---|---|---|---|\n",
       "| 45 | 50             | 1000           | 0.5            | 20             | 0.04           | 2 ( 0.1 )      | 52.83 ( 3.84 ) | 2.29 ( 0.1 )   | 55.54          | 0.91           | NA             | 52.8           | 2.29           |\n",
       "\n"
      ],
      "text/plain": [
       "   N  P    Corr Ratio Stab MSE       FP             FN           num_select\n",
       "45 50 1000 0.5  20    0.04 2 ( 0.1 ) 52.83 ( 3.84 ) 2.29 ( 0.1 ) 55.54     \n",
       "   FDR  MSE_mean FP_mean FN_mean\n",
       "45 0.91 NA       52.8    2.29   "
      ]
     },
     "metadata": {},
     "output_type": "display_data"
    }
   ],
   "source": [
    "# check whether missing values exists\n",
    "result.table_block[rowSums(is.na(result.table_block)) > 0,]"
   ]
  },
  {
   "cell_type": "code",
   "execution_count": 10,
   "metadata": {},
   "outputs": [],
   "source": [
    "# recover values\n",
    "result.table_block$MSE_mean[45] = 2"
   ]
  },
  {
   "cell_type": "code",
   "execution_count": 11,
   "metadata": {},
   "outputs": [
    {
     "data": {
      "text/html": [
       "<table>\n",
       "<thead><tr><th></th><th scope=col>N</th><th scope=col>P</th><th scope=col>Corr</th><th scope=col>Ratio</th><th scope=col>Stab</th><th scope=col>MSE</th><th scope=col>FP</th><th scope=col>FN</th><th scope=col>num_select</th><th scope=col>FDR</th><th scope=col>MSE_mean</th><th scope=col>FP_mean</th><th scope=col>FN_mean</th></tr></thead>\n",
       "<tbody>\n",
       "\t<tr><th scope=row>45</th><td>50            </td><td>1000          </td><td>0.5           </td><td>20            </td><td>0.04          </td><td>2 ( 0.1 )     </td><td>52.83 ( 3.84 )</td><td>2.29 ( 0.1 )  </td><td>55.54         </td><td>0.91          </td><td>2             </td><td>52.8          </td><td>2.29          </td></tr>\n",
       "</tbody>\n",
       "</table>\n"
      ],
      "text/latex": [
       "\\begin{tabular}{r|lllllllllllll}\n",
       "  & N & P & Corr & Ratio & Stab & MSE & FP & FN & num\\_select & FDR & MSE\\_mean & FP\\_mean & FN\\_mean\\\\\n",
       "\\hline\n",
       "\t45 & 50             & 1000           & 0.5            & 20             & 0.04           & 2 ( 0.1 )      & 52.83 ( 3.84 ) & 2.29 ( 0.1 )   & 55.54          & 0.91           & 2              & 52.8           & 2.29          \\\\\n",
       "\\end{tabular}\n"
      ],
      "text/markdown": [
       "\n",
       "| <!--/--> | N | P | Corr | Ratio | Stab | MSE | FP | FN | num_select | FDR | MSE_mean | FP_mean | FN_mean |\n",
       "|---|---|---|---|---|---|---|---|---|---|---|---|---|---|\n",
       "| 45 | 50             | 1000           | 0.5            | 20             | 0.04           | 2 ( 0.1 )      | 52.83 ( 3.84 ) | 2.29 ( 0.1 )   | 55.54          | 0.91           | 2              | 52.8           | 2.29           |\n",
       "\n"
      ],
      "text/plain": [
       "   N  P    Corr Ratio Stab MSE       FP             FN           num_select\n",
       "45 50 1000 0.5  20    0.04 2 ( 0.1 ) 52.83 ( 3.84 ) 2.29 ( 0.1 ) 55.54     \n",
       "   FDR  MSE_mean FP_mean FN_mean\n",
       "45 0.91 2        52.8    2.29   "
      ]
     },
     "metadata": {},
     "output_type": "display_data"
    }
   ],
   "source": [
    "result.table_block[45, ]"
   ]
  },
  {
   "cell_type": "code",
   "execution_count": 12,
   "metadata": {},
   "outputs": [
    {
     "data": {
      "text/html": [
       "<table>\n",
       "<thead><tr><th scope=col>N</th><th scope=col>P</th><th scope=col>Corr</th><th scope=col>Ratio</th><th scope=col>Stab</th><th scope=col>MSE</th><th scope=col>FP</th><th scope=col>FN</th><th scope=col>num_select</th><th scope=col>FDR</th><th scope=col>MSE_mean</th><th scope=col>FP_mean</th><th scope=col>FN_mean</th></tr></thead>\n",
       "<tbody>\n",
       "\t<tr><td>  50          </td><td> 50           </td><td>0.1           </td><td>1.00          </td><td>0.02          </td><td>0.38 ( 0.02 ) </td><td>10.9 ( 0.97 ) </td><td>3.91 ( 0.15 ) </td><td>11.99         </td><td>0.77          </td><td>0.38          </td><td>10.90         </td><td>3.91          </td></tr>\n",
       "\t<tr><td> 100          </td><td> 50           </td><td>0.1           </td><td>0.50          </td><td>0.06          </td><td>0.34 ( 0.01 ) </td><td>13.39 ( 1.06 )</td><td>2.45 ( 0.16 ) </td><td>15.94         </td><td>0.68          </td><td>0.34          </td><td>13.30         </td><td>2.45          </td></tr>\n",
       "\t<tr><td> 500          </td><td> 50           </td><td>0.1           </td><td>0.10          </td><td>0.13          </td><td>0.27 ( 0 )    </td><td>19.21 ( 0.81 )</td><td>0.14 ( 0.04 ) </td><td>24.07         </td><td>0.73          </td><td>0.27          </td><td>19.20         </td><td>0.14          </td></tr>\n",
       "\t<tr><td>1000          </td><td> 50           </td><td>0.1           </td><td>0.05          </td><td>0.15          </td><td>0.26 ( 0 )    </td><td>18.76 ( 0.63 )</td><td>0.02 ( 0.01 ) </td><td>23.74         </td><td>0.73          </td><td>0.26          </td><td>18.70         </td><td>0.02          </td></tr>\n",
       "\t<tr><td>  50          </td><td>100           </td><td>0.1           </td><td>2.00          </td><td>0.03          </td><td>0.41 ( 0.02 ) </td><td>9.27 ( 0.76 ) </td><td>4.63 ( 0.09 ) </td><td> 9.64         </td><td>0.82          </td><td>0.41          </td><td> 9.27         </td><td>4.63          </td></tr>\n",
       "\t<tr><td> 100          </td><td>100           </td><td>0.1           </td><td>1.00          </td><td>0.07          </td><td>0.34 ( 0.01 ) </td><td>10.1 ( 1.04 ) </td><td>3.87 ( 0.13 ) </td><td>11.23         </td><td>0.7           </td><td>0.34          </td><td>10.10         </td><td>3.87          </td></tr>\n",
       "</tbody>\n",
       "</table>\n"
      ],
      "text/latex": [
       "\\begin{tabular}{r|lllllllllllll}\n",
       " N & P & Corr & Ratio & Stab & MSE & FP & FN & num\\_select & FDR & MSE\\_mean & FP\\_mean & FN\\_mean\\\\\n",
       "\\hline\n",
       "\t   50           &  50            & 0.1            & 1.00           & 0.02           & 0.38 ( 0.02 )  & 10.9 ( 0.97 )  & 3.91 ( 0.15 )  & 11.99          & 0.77           & 0.38           & 10.90          & 3.91          \\\\\n",
       "\t  100           &  50            & 0.1            & 0.50           & 0.06           & 0.34 ( 0.01 )  & 13.39 ( 1.06 ) & 2.45 ( 0.16 )  & 15.94          & 0.68           & 0.34           & 13.30          & 2.45          \\\\\n",
       "\t  500           &  50            & 0.1            & 0.10           & 0.13           & 0.27 ( 0 )     & 19.21 ( 0.81 ) & 0.14 ( 0.04 )  & 24.07          & 0.73           & 0.27           & 19.20          & 0.14          \\\\\n",
       "\t 1000           &  50            & 0.1            & 0.05           & 0.15           & 0.26 ( 0 )     & 18.76 ( 0.63 ) & 0.02 ( 0.01 )  & 23.74          & 0.73           & 0.26           & 18.70          & 0.02          \\\\\n",
       "\t   50           & 100            & 0.1            & 2.00           & 0.03           & 0.41 ( 0.02 )  & 9.27 ( 0.76 )  & 4.63 ( 0.09 )  &  9.64          & 0.82           & 0.41           &  9.27          & 4.63          \\\\\n",
       "\t  100           & 100            & 0.1            & 1.00           & 0.07           & 0.34 ( 0.01 )  & 10.1 ( 1.04 )  & 3.87 ( 0.13 )  & 11.23          & 0.7            & 0.34           & 10.10          & 3.87          \\\\\n",
       "\\end{tabular}\n"
      ],
      "text/markdown": [
       "\n",
       "| N | P | Corr | Ratio | Stab | MSE | FP | FN | num_select | FDR | MSE_mean | FP_mean | FN_mean |\n",
       "|---|---|---|---|---|---|---|---|---|---|---|---|---|\n",
       "|   50           |  50            | 0.1            | 1.00           | 0.02           | 0.38 ( 0.02 )  | 10.9 ( 0.97 )  | 3.91 ( 0.15 )  | 11.99          | 0.77           | 0.38           | 10.90          | 3.91           |\n",
       "|  100           |  50            | 0.1            | 0.50           | 0.06           | 0.34 ( 0.01 )  | 13.39 ( 1.06 ) | 2.45 ( 0.16 )  | 15.94          | 0.68           | 0.34           | 13.30          | 2.45           |\n",
       "|  500           |  50            | 0.1            | 0.10           | 0.13           | 0.27 ( 0 )     | 19.21 ( 0.81 ) | 0.14 ( 0.04 )  | 24.07          | 0.73           | 0.27           | 19.20          | 0.14           |\n",
       "| 1000           |  50            | 0.1            | 0.05           | 0.15           | 0.26 ( 0 )     | 18.76 ( 0.63 ) | 0.02 ( 0.01 )  | 23.74          | 0.73           | 0.26           | 18.70          | 0.02           |\n",
       "|   50           | 100            | 0.1            | 2.00           | 0.03           | 0.41 ( 0.02 )  | 9.27 ( 0.76 )  | 4.63 ( 0.09 )  |  9.64          | 0.82           | 0.41           |  9.27          | 4.63           |\n",
       "|  100           | 100            | 0.1            | 1.00           | 0.07           | 0.34 ( 0.01 )  | 10.1 ( 1.04 )  | 3.87 ( 0.13 )  | 11.23          | 0.7            | 0.34           | 10.10          | 3.87           |\n",
       "\n"
      ],
      "text/plain": [
       "  N    P   Corr Ratio Stab MSE           FP             FN           \n",
       "1   50  50 0.1  1.00  0.02 0.38 ( 0.02 ) 10.9 ( 0.97 )  3.91 ( 0.15 )\n",
       "2  100  50 0.1  0.50  0.06 0.34 ( 0.01 ) 13.39 ( 1.06 ) 2.45 ( 0.16 )\n",
       "3  500  50 0.1  0.10  0.13 0.27 ( 0 )    19.21 ( 0.81 ) 0.14 ( 0.04 )\n",
       "4 1000  50 0.1  0.05  0.15 0.26 ( 0 )    18.76 ( 0.63 ) 0.02 ( 0.01 )\n",
       "5   50 100 0.1  2.00  0.03 0.41 ( 0.02 ) 9.27 ( 0.76 )  4.63 ( 0.09 )\n",
       "6  100 100 0.1  1.00  0.07 0.34 ( 0.01 ) 10.1 ( 1.04 )  3.87 ( 0.13 )\n",
       "  num_select FDR  MSE_mean FP_mean FN_mean\n",
       "1 11.99      0.77 0.38     10.90   3.91   \n",
       "2 15.94      0.68 0.34     13.30   2.45   \n",
       "3 24.07      0.73 0.27     19.20   0.14   \n",
       "4 23.74      0.73 0.26     18.70   0.02   \n",
       "5  9.64      0.82 0.41      9.27   4.63   \n",
       "6 11.23      0.7  0.34     10.10   3.87   "
      ]
     },
     "metadata": {},
     "output_type": "display_data"
    }
   ],
   "source": [
    "head(result.table_block)"
   ]
  },
  {
   "cell_type": "code",
   "execution_count": 13,
   "metadata": {},
   "outputs": [
    {
     "data": {
      "text/html": [
       "<table>\n",
       "<thead><tr><th></th><th scope=col>N</th><th scope=col>P</th><th scope=col>Corr</th><th scope=col>Ratio</th><th scope=col>Stab</th><th scope=col>MSE</th><th scope=col>FP</th><th scope=col>FN</th><th scope=col>num_select</th><th scope=col>FDR</th><th scope=col>MSE_mean</th><th scope=col>FP_mean</th><th scope=col>FN_mean</th></tr></thead>\n",
       "<tbody>\n",
       "\t<tr><th scope=row>75</th><td> 500          </td><td> 500          </td><td>0.9           </td><td> 1.0          </td><td>0.15          </td><td>0.28 ( 0 )    </td><td>32.6 ( 1.76 ) </td><td>0 ( 0 )       </td><td>37.60         </td><td>0.81          </td><td>0.28          </td><td>32.6          </td><td>0.00          </td></tr>\n",
       "\t<tr><th scope=row>76</th><td>1000          </td><td> 500          </td><td>0.9           </td><td> 0.5          </td><td>0.16          </td><td>0.26 ( 0 )    </td><td>30.4 ( 1.66 ) </td><td>0 ( 0 )       </td><td>35.40         </td><td>0.79          </td><td>0.26          </td><td>30.4          </td><td>0.00          </td></tr>\n",
       "\t<tr><th scope=row>77</th><td>  50          </td><td>1000          </td><td>0.9           </td><td>20.0          </td><td>0.07          </td><td>3.06 ( 0.18 ) </td><td>43.09 ( 2.82 )</td><td>1.57 ( 0.1 )  </td><td>46.52         </td><td>0.88          </td><td>3.06          </td><td>43.0          </td><td>1.57          </td></tr>\n",
       "\t<tr><th scope=row>78</th><td> 100          </td><td>1000          </td><td>0.9           </td><td>10.0          </td><td>0.12          </td><td>0.59 ( 0.03 ) </td><td>43.91 ( 1.31 )</td><td>0 ( 0 )       </td><td>48.91         </td><td>0.87          </td><td>0.59          </td><td>43.9          </td><td>0.00          </td></tr>\n",
       "\t<tr><th scope=row>79</th><td> 500          </td><td>1000          </td><td>0.9           </td><td> 2.0          </td><td>0.12          </td><td>0.29 ( 0 )    </td><td>41.57 ( 2.28 )</td><td>0 ( 0 )       </td><td>46.57         </td><td>0.84          </td><td>0.29          </td><td>41.5          </td><td>0.00          </td></tr>\n",
       "\t<tr><th scope=row>80</th><td>1000          </td><td>1000          </td><td>0.9           </td><td> 1.0          </td><td>0.13          </td><td>0.27 ( 0 )    </td><td>38.76 ( 2.16 )</td><td>0 ( 0 )       </td><td>43.76         </td><td>0.82          </td><td>0.27          </td><td>38.7          </td><td>0.00          </td></tr>\n",
       "</tbody>\n",
       "</table>\n"
      ],
      "text/latex": [
       "\\begin{tabular}{r|lllllllllllll}\n",
       "  & N & P & Corr & Ratio & Stab & MSE & FP & FN & num\\_select & FDR & MSE\\_mean & FP\\_mean & FN\\_mean\\\\\n",
       "\\hline\n",
       "\t75 &  500           &  500           & 0.9            &  1.0           & 0.15           & 0.28 ( 0 )     & 32.6 ( 1.76 )  & 0 ( 0 )        & 37.60          & 0.81           & 0.28           & 32.6           & 0.00          \\\\\n",
       "\t76 & 1000           &  500           & 0.9            &  0.5           & 0.16           & 0.26 ( 0 )     & 30.4 ( 1.66 )  & 0 ( 0 )        & 35.40          & 0.79           & 0.26           & 30.4           & 0.00          \\\\\n",
       "\t77 &   50           & 1000           & 0.9            & 20.0           & 0.07           & 3.06 ( 0.18 )  & 43.09 ( 2.82 ) & 1.57 ( 0.1 )   & 46.52          & 0.88           & 3.06           & 43.0           & 1.57          \\\\\n",
       "\t78 &  100           & 1000           & 0.9            & 10.0           & 0.12           & 0.59 ( 0.03 )  & 43.91 ( 1.31 ) & 0 ( 0 )        & 48.91          & 0.87           & 0.59           & 43.9           & 0.00          \\\\\n",
       "\t79 &  500           & 1000           & 0.9            &  2.0           & 0.12           & 0.29 ( 0 )     & 41.57 ( 2.28 ) & 0 ( 0 )        & 46.57          & 0.84           & 0.29           & 41.5           & 0.00          \\\\\n",
       "\t80 & 1000           & 1000           & 0.9            &  1.0           & 0.13           & 0.27 ( 0 )     & 38.76 ( 2.16 ) & 0 ( 0 )        & 43.76          & 0.82           & 0.27           & 38.7           & 0.00          \\\\\n",
       "\\end{tabular}\n"
      ],
      "text/markdown": [
       "\n",
       "| <!--/--> | N | P | Corr | Ratio | Stab | MSE | FP | FN | num_select | FDR | MSE_mean | FP_mean | FN_mean |\n",
       "|---|---|---|---|---|---|---|---|---|---|---|---|---|---|\n",
       "| 75 |  500           |  500           | 0.9            |  1.0           | 0.15           | 0.28 ( 0 )     | 32.6 ( 1.76 )  | 0 ( 0 )        | 37.60          | 0.81           | 0.28           | 32.6           | 0.00           |\n",
       "| 76 | 1000           |  500           | 0.9            |  0.5           | 0.16           | 0.26 ( 0 )     | 30.4 ( 1.66 )  | 0 ( 0 )        | 35.40          | 0.79           | 0.26           | 30.4           | 0.00           |\n",
       "| 77 |   50           | 1000           | 0.9            | 20.0           | 0.07           | 3.06 ( 0.18 )  | 43.09 ( 2.82 ) | 1.57 ( 0.1 )   | 46.52          | 0.88           | 3.06           | 43.0           | 1.57           |\n",
       "| 78 |  100           | 1000           | 0.9            | 10.0           | 0.12           | 0.59 ( 0.03 )  | 43.91 ( 1.31 ) | 0 ( 0 )        | 48.91          | 0.87           | 0.59           | 43.9           | 0.00           |\n",
       "| 79 |  500           | 1000           | 0.9            |  2.0           | 0.12           | 0.29 ( 0 )     | 41.57 ( 2.28 ) | 0 ( 0 )        | 46.57          | 0.84           | 0.29           | 41.5           | 0.00           |\n",
       "| 80 | 1000           | 1000           | 0.9            |  1.0           | 0.13           | 0.27 ( 0 )     | 38.76 ( 2.16 ) | 0 ( 0 )        | 43.76          | 0.82           | 0.27           | 38.7           | 0.00           |\n",
       "\n"
      ],
      "text/plain": [
       "   N    P    Corr Ratio Stab MSE           FP             FN          \n",
       "75  500  500 0.9   1.0  0.15 0.28 ( 0 )    32.6 ( 1.76 )  0 ( 0 )     \n",
       "76 1000  500 0.9   0.5  0.16 0.26 ( 0 )    30.4 ( 1.66 )  0 ( 0 )     \n",
       "77   50 1000 0.9  20.0  0.07 3.06 ( 0.18 ) 43.09 ( 2.82 ) 1.57 ( 0.1 )\n",
       "78  100 1000 0.9  10.0  0.12 0.59 ( 0.03 ) 43.91 ( 1.31 ) 0 ( 0 )     \n",
       "79  500 1000 0.9   2.0  0.12 0.29 ( 0 )    41.57 ( 2.28 ) 0 ( 0 )     \n",
       "80 1000 1000 0.9   1.0  0.13 0.27 ( 0 )    38.76 ( 2.16 ) 0 ( 0 )     \n",
       "   num_select FDR  MSE_mean FP_mean FN_mean\n",
       "75 37.60      0.81 0.28     32.6    0.00   \n",
       "76 35.40      0.79 0.26     30.4    0.00   \n",
       "77 46.52      0.88 3.06     43.0    1.57   \n",
       "78 48.91      0.87 0.59     43.9    0.00   \n",
       "79 46.57      0.84 0.29     41.5    0.00   \n",
       "80 43.76      0.82 0.27     38.7    0.00   "
      ]
     },
     "metadata": {},
     "output_type": "display_data"
    }
   ],
   "source": [
    "tail(result.table_block)"
   ]
  },
  {
   "cell_type": "code",
   "execution_count": 14,
   "metadata": {},
   "outputs": [],
   "source": [
    "## export\n",
    "write.table(result.table_block, '../results_summary_cts/sim_block_elnet.txt', sep='\\t', row.names=F)"
   ]
  },
  {
   "cell_type": "code",
   "execution_count": null,
   "metadata": {},
   "outputs": [],
   "source": []
  }
 ],
 "metadata": {
  "kernelspec": {
   "display_name": "R",
   "language": "R",
   "name": "ir"
  },
  "language_info": {
   "codemirror_mode": "r",
   "file_extension": ".r",
   "mimetype": "text/x-r-source",
   "name": "R",
   "pygments_lexer": "r",
   "version": "3.6.1"
  }
 },
 "nbformat": 4,
 "nbformat_minor": 2
}
