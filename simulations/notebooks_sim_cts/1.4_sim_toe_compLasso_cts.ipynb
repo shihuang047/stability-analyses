{
 "cells": [
  {
   "cell_type": "markdown",
   "metadata": {},
   "source": [
    "### summarize compositional lasso results on Toeplitz Simulation Scenarios for continuous outcome"
   ]
  },
  {
   "cell_type": "code",
   "execution_count": 1,
   "metadata": {},
   "outputs": [],
   "source": [
    "dir = '/panfs/panfs1.ucsd.edu/panscratch/lij014/Stability_2020/sim_data'\n",
    "\n",
    "load(paste0(dir, '/toe_compLasso.RData'))"
   ]
  },
  {
   "cell_type": "code",
   "execution_count": 2,
   "metadata": {},
   "outputs": [],
   "source": [
    "dim.list = list()\n",
    "size = c(50, 100, 500, 1000)\n",
    "idx = 0\n",
    "for (P in size){\n",
    "    for (N in size){\n",
    "        idx = idx + 1\n",
    "        dim.list[[idx]] = c(P=P, N=N)\n",
    "    }\n",
    "}\n",
    "\n",
    "rou.list = seq(0.1, 0.9, 0.2)\n",
    "\n",
    "files = NULL\n",
    "for (rou in rou.list){\n",
    "  for (dim in dim.list){\n",
    "    p = dim[1]\n",
    "    n = dim[2]\n",
    "    files = cbind(files, paste0(dir, '/sim_toeplitz_corr', rou, paste('P', p, 'N', n, sep='_'), '.RData', sep=''))\n",
    "  }\n",
    "}"
   ]
  },
  {
   "cell_type": "code",
   "execution_count": 3,
   "metadata": {},
   "outputs": [],
   "source": [
    "avg_FDR = NULL\n",
    "for (i in 1:length(files)){\n",
    "    sim_file = files[i]\n",
    "    load(sim_file, dat <- new.env())\n",
    "    sub = dat$sim_array[[i]]\n",
    "    p = sub$p # take true values from 1st replicate of each simulated data\n",
    "    coef = sub$beta\n",
    "    coef.true = which(coef != 0)\n",
    "    \n",
    "    tt = results_toe_compLasso[[i]]$Stab.table\n",
    "    \n",
    "    FDR = NULL\n",
    "    for (r in 1:nrow(tt)){\n",
    "        FDR = c(FDR, length(setdiff(which(tt[r, ] !=0), coef.true))/sum(tt[r, ]))\n",
    "\n",
    "    }\n",
    "    \n",
    "    avg_FDR = c(avg_FDR, mean(FDR, na.rm=T))\n",
    "}"
   ]
  },
  {
   "cell_type": "code",
   "execution_count": 4,
   "metadata": {},
   "outputs": [],
   "source": [
    "table_toe = NULL\n",
    "tmp_num_select = rep(0, length(results_toe_compLasso))\n",
    "for (i in 1:length(results_toe_compLasso)){\n",
    "    table_toe = rbind(table_toe, results_toe_compLasso[[i]][c('n', 'p', 'rou', 'FP', 'FN', 'MSE', 'Stab')])\n",
    "    tmp_num_select[i] = mean(rowSums(results_toe_compLasso[[i]]$Stab.table))\n",
    "    \n",
    "}\n",
    "table_toe = as.data.frame(table_toe)\n",
    "table_toe$num_select = tmp_num_select\n",
    "table_toe$FDR = round(avg_FDR,2)"
   ]
  },
  {
   "cell_type": "code",
   "execution_count": 5,
   "metadata": {},
   "outputs": [
    {
     "data": {
      "text/html": [
       "<table>\n",
       "<thead><tr><th scope=col>n</th><th scope=col>p</th><th scope=col>rou</th><th scope=col>FP</th><th scope=col>FN</th><th scope=col>MSE</th><th scope=col>Stab</th><th scope=col>num_select</th><th scope=col>FDR</th></tr></thead>\n",
       "<tbody>\n",
       "\t<tr><td>50           </td><td>50           </td><td>0.1          </td><td>3.68 ( 0.29 )</td><td>0.06 ( 0.03 )</td><td>0.88 ( 0.05 )</td><td>0.56         </td><td> 9.62        </td><td>0.33         </td></tr>\n",
       "\t<tr><td>100          </td><td>50           </td><td>0.1          </td><td>1.51 ( 0.35 )</td><td>0 ( 0 )      </td><td>0.87 ( 0.05 )</td><td>0.77         </td><td> 7.51        </td><td>0.12         </td></tr>\n",
       "\t<tr><td>500          </td><td>50           </td><td>0.1          </td><td>0.73 ( 0.19 )</td><td>0 ( 0 )      </td><td>0.99 ( 0.05 )</td><td>0.88         </td><td> 6.73        </td><td>0.07         </td></tr>\n",
       "\t<tr><td>1000         </td><td>50           </td><td>0.1          </td><td>0.55 ( 0.17 )</td><td>0 ( 0 )      </td><td>1.09 ( 0.04 )</td><td>0.9          </td><td> 6.55        </td><td>0.05         </td></tr>\n",
       "\t<tr><td>50           </td><td>100          </td><td>0.1          </td><td>4.24 ( 0.3 ) </td><td>0.23 ( 0.06 )</td><td>1.12 ( 0.1 ) </td><td>0.53         </td><td>10.01        </td><td>0.37         </td></tr>\n",
       "\t<tr><td>100          </td><td>100          </td><td>0.1          </td><td>1.51 ( 0.34 )</td><td>0 ( 0 )      </td><td>0.85 ( 0.04 )</td><td>0.79         </td><td> 7.51        </td><td>0.13         </td></tr>\n",
       "</tbody>\n",
       "</table>\n"
      ],
      "text/latex": [
       "\\begin{tabular}{r|lllllllll}\n",
       " n & p & rou & FP & FN & MSE & Stab & num\\_select & FDR\\\\\n",
       "\\hline\n",
       "\t 50            & 50            & 0.1           & 3.68 ( 0.29 ) & 0.06 ( 0.03 ) & 0.88 ( 0.05 ) & 0.56          &  9.62         & 0.33         \\\\\n",
       "\t 100           & 50            & 0.1           & 1.51 ( 0.35 ) & 0 ( 0 )       & 0.87 ( 0.05 ) & 0.77          &  7.51         & 0.12         \\\\\n",
       "\t 500           & 50            & 0.1           & 0.73 ( 0.19 ) & 0 ( 0 )       & 0.99 ( 0.05 ) & 0.88          &  6.73         & 0.07         \\\\\n",
       "\t 1000          & 50            & 0.1           & 0.55 ( 0.17 ) & 0 ( 0 )       & 1.09 ( 0.04 ) & 0.9           &  6.55         & 0.05         \\\\\n",
       "\t 50            & 100           & 0.1           & 4.24 ( 0.3 )  & 0.23 ( 0.06 ) & 1.12 ( 0.1 )  & 0.53          & 10.01         & 0.37         \\\\\n",
       "\t 100           & 100           & 0.1           & 1.51 ( 0.34 ) & 0 ( 0 )       & 0.85 ( 0.04 ) & 0.79          &  7.51         & 0.13         \\\\\n",
       "\\end{tabular}\n"
      ],
      "text/markdown": [
       "\n",
       "| n | p | rou | FP | FN | MSE | Stab | num_select | FDR |\n",
       "|---|---|---|---|---|---|---|---|---|\n",
       "| 50            | 50            | 0.1           | 3.68 ( 0.29 ) | 0.06 ( 0.03 ) | 0.88 ( 0.05 ) | 0.56          |  9.62         | 0.33          |\n",
       "| 100           | 50            | 0.1           | 1.51 ( 0.35 ) | 0 ( 0 )       | 0.87 ( 0.05 ) | 0.77          |  7.51         | 0.12          |\n",
       "| 500           | 50            | 0.1           | 0.73 ( 0.19 ) | 0 ( 0 )       | 0.99 ( 0.05 ) | 0.88          |  6.73         | 0.07          |\n",
       "| 1000          | 50            | 0.1           | 0.55 ( 0.17 ) | 0 ( 0 )       | 1.09 ( 0.04 ) | 0.9           |  6.55         | 0.05          |\n",
       "| 50            | 100           | 0.1           | 4.24 ( 0.3 )  | 0.23 ( 0.06 ) | 1.12 ( 0.1 )  | 0.53          | 10.01         | 0.37          |\n",
       "| 100           | 100           | 0.1           | 1.51 ( 0.34 ) | 0 ( 0 )       | 0.85 ( 0.04 ) | 0.79          |  7.51         | 0.13          |\n",
       "\n"
      ],
      "text/plain": [
       "  n    p   rou FP            FN            MSE           Stab num_select FDR \n",
       "1 50   50  0.1 3.68 ( 0.29 ) 0.06 ( 0.03 ) 0.88 ( 0.05 ) 0.56  9.62      0.33\n",
       "2 100  50  0.1 1.51 ( 0.35 ) 0 ( 0 )       0.87 ( 0.05 ) 0.77  7.51      0.12\n",
       "3 500  50  0.1 0.73 ( 0.19 ) 0 ( 0 )       0.99 ( 0.05 ) 0.88  6.73      0.07\n",
       "4 1000 50  0.1 0.55 ( 0.17 ) 0 ( 0 )       1.09 ( 0.04 ) 0.9   6.55      0.05\n",
       "5 50   100 0.1 4.24 ( 0.3 )  0.23 ( 0.06 ) 1.12 ( 0.1 )  0.53 10.01      0.37\n",
       "6 100  100 0.1 1.51 ( 0.34 ) 0 ( 0 )       0.85 ( 0.04 ) 0.79  7.51      0.13"
      ]
     },
     "metadata": {},
     "output_type": "display_data"
    }
   ],
   "source": [
    "head(table_toe)"
   ]
  },
  {
   "cell_type": "code",
   "execution_count": 6,
   "metadata": {},
   "outputs": [
    {
     "name": "stderr",
     "output_type": "stream",
     "text": [
      "extract_numeric() is deprecated: please use readr::parse_number() instead\n",
      "extract_numeric() is deprecated: please use readr::parse_number() instead\n"
     ]
    }
   ],
   "source": [
    "# export result\n",
    "result.table_toe <- apply(table_toe,2,as.character)\n",
    "rownames(result.table_toe) = rownames(table_toe)\n",
    "result.table_toe = as.data.frame(result.table_toe)\n",
    "\n",
    "# extract numbers only for 'n' & 'p'\n",
    "result.table_toe$n = tidyr::extract_numeric(result.table_toe$n)\n",
    "result.table_toe$p = tidyr::extract_numeric(result.table_toe$p)\n",
    "result.table_toe$ratio = result.table_toe$p / result.table_toe$n\n",
    "\n",
    "result.table_toe = result.table_toe[c('n', 'p', 'rou', 'ratio', 'Stab', 'MSE', 'FP', 'FN', 'num_select', 'FDR')]\n",
    "colnames(result.table_toe)[1:4] = c('N', 'P', 'Corr', 'Ratio')"
   ]
  },
  {
   "cell_type": "code",
   "execution_count": 7,
   "metadata": {},
   "outputs": [
    {
     "name": "stderr",
     "output_type": "stream",
     "text": [
      "Warning message in eval(expr, envir, enclos):\n",
      "“NAs introduced by coercion”"
     ]
    }
   ],
   "source": [
    "# convert interested measurements to be numeric\n",
    "result.table_toe$Stab = as.numeric(as.character(result.table_toe$Stab))\n",
    "result.table_toe$MSE_mean = as.numeric(substr(result.table_toe$MSE, start=1, stop=4))\n",
    "result.table_toe$FP_mean = as.numeric(substr(result.table_toe$FP, start=1, stop=4))\n",
    "result.table_toe$FN_mean = as.numeric(substr(result.table_toe$FN, start=1, stop=4))\n",
    "result.table_toe$FN_mean[is.na(result.table_toe$FN_mean)] = 0\n",
    "result.table_toe$num_select = as.numeric(as.character(result.table_toe$num_select))"
   ]
  },
  {
   "cell_type": "code",
   "execution_count": 8,
   "metadata": {},
   "outputs": [
    {
     "data": {
      "text/html": [
       "<table>\n",
       "<thead><tr><th scope=col>N</th><th scope=col>P</th><th scope=col>Corr</th><th scope=col>Ratio</th><th scope=col>Stab</th><th scope=col>MSE</th><th scope=col>FP</th><th scope=col>FN</th><th scope=col>num_select</th><th scope=col>FDR</th><th scope=col>MSE_mean</th><th scope=col>FP_mean</th><th scope=col>FN_mean</th></tr></thead>\n",
       "<tbody>\n",
       "</tbody>\n",
       "</table>\n"
      ],
      "text/latex": [
       "\\begin{tabular}{r|lllllllllllll}\n",
       " N & P & Corr & Ratio & Stab & MSE & FP & FN & num\\_select & FDR & MSE\\_mean & FP\\_mean & FN\\_mean\\\\\n",
       "\\hline\n",
       "\\end{tabular}\n"
      ],
      "text/markdown": [
       "\n",
       "| N | P | Corr | Ratio | Stab | MSE | FP | FN | num_select | FDR | MSE_mean | FP_mean | FN_mean |\n",
       "|---|---|---|---|---|---|---|---|---|---|---|---|---|\n",
       "\n"
      ],
      "text/plain": [
       "     N P Corr Ratio Stab MSE FP FN num_select FDR MSE_mean FP_mean FN_mean"
      ]
     },
     "metadata": {},
     "output_type": "display_data"
    }
   ],
   "source": [
    "# check whether missing values exists\n",
    "result.table_toe[rowSums(is.na(result.table_toe)) > 0,]"
   ]
  },
  {
   "cell_type": "code",
   "execution_count": 9,
   "metadata": {},
   "outputs": [
    {
     "data": {
      "text/html": [
       "<table>\n",
       "<thead><tr><th scope=col>N</th><th scope=col>P</th><th scope=col>Corr</th><th scope=col>Ratio</th><th scope=col>Stab</th><th scope=col>MSE</th><th scope=col>FP</th><th scope=col>FN</th><th scope=col>num_select</th><th scope=col>FDR</th><th scope=col>MSE_mean</th><th scope=col>FP_mean</th><th scope=col>FN_mean</th></tr></thead>\n",
       "<tbody>\n",
       "\t<tr><td>  50         </td><td> 50          </td><td>0.1          </td><td>1.00         </td><td>0.56         </td><td>0.88 ( 0.05 )</td><td>3.68 ( 0.29 )</td><td>0.06 ( 0.03 )</td><td> 9.62        </td><td>0.33         </td><td>0.88         </td><td>3.68         </td><td>0.06         </td></tr>\n",
       "\t<tr><td> 100         </td><td> 50          </td><td>0.1          </td><td>0.50         </td><td>0.77         </td><td>0.87 ( 0.05 )</td><td>1.51 ( 0.35 )</td><td>0 ( 0 )      </td><td> 7.51        </td><td>0.12         </td><td>0.87         </td><td>1.51         </td><td>0.00         </td></tr>\n",
       "\t<tr><td> 500         </td><td> 50          </td><td>0.1          </td><td>0.10         </td><td>0.88         </td><td>0.99 ( 0.05 )</td><td>0.73 ( 0.19 )</td><td>0 ( 0 )      </td><td> 6.73        </td><td>0.07         </td><td>0.99         </td><td>0.73         </td><td>0.00         </td></tr>\n",
       "\t<tr><td>1000         </td><td> 50          </td><td>0.1          </td><td>0.05         </td><td>0.90         </td><td>1.09 ( 0.04 )</td><td>0.55 ( 0.17 )</td><td>0 ( 0 )      </td><td> 6.55        </td><td>0.05         </td><td>1.09         </td><td>0.55         </td><td>0.00         </td></tr>\n",
       "\t<tr><td>  50         </td><td>100          </td><td>0.1          </td><td>2.00         </td><td>0.53         </td><td>1.12 ( 0.1 ) </td><td>4.24 ( 0.3 ) </td><td>0.23 ( 0.06 )</td><td>10.01        </td><td>0.37         </td><td>1.12         </td><td>4.24         </td><td>0.23         </td></tr>\n",
       "\t<tr><td> 100         </td><td>100          </td><td>0.1          </td><td>1.00         </td><td>0.79         </td><td>0.85 ( 0.04 )</td><td>1.51 ( 0.34 )</td><td>0 ( 0 )      </td><td> 7.51        </td><td>0.13         </td><td>0.85         </td><td>1.51         </td><td>0.00         </td></tr>\n",
       "</tbody>\n",
       "</table>\n"
      ],
      "text/latex": [
       "\\begin{tabular}{r|lllllllllllll}\n",
       " N & P & Corr & Ratio & Stab & MSE & FP & FN & num\\_select & FDR & MSE\\_mean & FP\\_mean & FN\\_mean\\\\\n",
       "\\hline\n",
       "\t   50          &  50           & 0.1           & 1.00          & 0.56          & 0.88 ( 0.05 ) & 3.68 ( 0.29 ) & 0.06 ( 0.03 ) &  9.62         & 0.33          & 0.88          & 3.68          & 0.06         \\\\\n",
       "\t  100          &  50           & 0.1           & 0.50          & 0.77          & 0.87 ( 0.05 ) & 1.51 ( 0.35 ) & 0 ( 0 )       &  7.51         & 0.12          & 0.87          & 1.51          & 0.00         \\\\\n",
       "\t  500          &  50           & 0.1           & 0.10          & 0.88          & 0.99 ( 0.05 ) & 0.73 ( 0.19 ) & 0 ( 0 )       &  6.73         & 0.07          & 0.99          & 0.73          & 0.00         \\\\\n",
       "\t 1000          &  50           & 0.1           & 0.05          & 0.90          & 1.09 ( 0.04 ) & 0.55 ( 0.17 ) & 0 ( 0 )       &  6.55         & 0.05          & 1.09          & 0.55          & 0.00         \\\\\n",
       "\t   50          & 100           & 0.1           & 2.00          & 0.53          & 1.12 ( 0.1 )  & 4.24 ( 0.3 )  & 0.23 ( 0.06 ) & 10.01         & 0.37          & 1.12          & 4.24          & 0.23         \\\\\n",
       "\t  100          & 100           & 0.1           & 1.00          & 0.79          & 0.85 ( 0.04 ) & 1.51 ( 0.34 ) & 0 ( 0 )       &  7.51         & 0.13          & 0.85          & 1.51          & 0.00         \\\\\n",
       "\\end{tabular}\n"
      ],
      "text/markdown": [
       "\n",
       "| N | P | Corr | Ratio | Stab | MSE | FP | FN | num_select | FDR | MSE_mean | FP_mean | FN_mean |\n",
       "|---|---|---|---|---|---|---|---|---|---|---|---|---|\n",
       "|   50          |  50           | 0.1           | 1.00          | 0.56          | 0.88 ( 0.05 ) | 3.68 ( 0.29 ) | 0.06 ( 0.03 ) |  9.62         | 0.33          | 0.88          | 3.68          | 0.06          |\n",
       "|  100          |  50           | 0.1           | 0.50          | 0.77          | 0.87 ( 0.05 ) | 1.51 ( 0.35 ) | 0 ( 0 )       |  7.51         | 0.12          | 0.87          | 1.51          | 0.00          |\n",
       "|  500          |  50           | 0.1           | 0.10          | 0.88          | 0.99 ( 0.05 ) | 0.73 ( 0.19 ) | 0 ( 0 )       |  6.73         | 0.07          | 0.99          | 0.73          | 0.00          |\n",
       "| 1000          |  50           | 0.1           | 0.05          | 0.90          | 1.09 ( 0.04 ) | 0.55 ( 0.17 ) | 0 ( 0 )       |  6.55         | 0.05          | 1.09          | 0.55          | 0.00          |\n",
       "|   50          | 100           | 0.1           | 2.00          | 0.53          | 1.12 ( 0.1 )  | 4.24 ( 0.3 )  | 0.23 ( 0.06 ) | 10.01         | 0.37          | 1.12          | 4.24          | 0.23          |\n",
       "|  100          | 100           | 0.1           | 1.00          | 0.79          | 0.85 ( 0.04 ) | 1.51 ( 0.34 ) | 0 ( 0 )       |  7.51         | 0.13          | 0.85          | 1.51          | 0.00          |\n",
       "\n"
      ],
      "text/plain": [
       "  N    P   Corr Ratio Stab MSE           FP            FN            num_select\n",
       "1   50  50 0.1  1.00  0.56 0.88 ( 0.05 ) 3.68 ( 0.29 ) 0.06 ( 0.03 )  9.62     \n",
       "2  100  50 0.1  0.50  0.77 0.87 ( 0.05 ) 1.51 ( 0.35 ) 0 ( 0 )        7.51     \n",
       "3  500  50 0.1  0.10  0.88 0.99 ( 0.05 ) 0.73 ( 0.19 ) 0 ( 0 )        6.73     \n",
       "4 1000  50 0.1  0.05  0.90 1.09 ( 0.04 ) 0.55 ( 0.17 ) 0 ( 0 )        6.55     \n",
       "5   50 100 0.1  2.00  0.53 1.12 ( 0.1 )  4.24 ( 0.3 )  0.23 ( 0.06 ) 10.01     \n",
       "6  100 100 0.1  1.00  0.79 0.85 ( 0.04 ) 1.51 ( 0.34 ) 0 ( 0 )        7.51     \n",
       "  FDR  MSE_mean FP_mean FN_mean\n",
       "1 0.33 0.88     3.68    0.06   \n",
       "2 0.12 0.87     1.51    0.00   \n",
       "3 0.07 0.99     0.73    0.00   \n",
       "4 0.05 1.09     0.55    0.00   \n",
       "5 0.37 1.12     4.24    0.23   \n",
       "6 0.13 0.85     1.51    0.00   "
      ]
     },
     "metadata": {},
     "output_type": "display_data"
    }
   ],
   "source": [
    "head(result.table_toe)"
   ]
  },
  {
   "cell_type": "code",
   "execution_count": 10,
   "metadata": {},
   "outputs": [
    {
     "data": {
      "text/html": [
       "<table>\n",
       "<thead><tr><th></th><th scope=col>N</th><th scope=col>P</th><th scope=col>Corr</th><th scope=col>Ratio</th><th scope=col>Stab</th><th scope=col>MSE</th><th scope=col>FP</th><th scope=col>FN</th><th scope=col>num_select</th><th scope=col>FDR</th><th scope=col>MSE_mean</th><th scope=col>FP_mean</th><th scope=col>FN_mean</th></tr></thead>\n",
       "<tbody>\n",
       "\t<tr><th scope=row>75</th><td> 500          </td><td> 500          </td><td>0.9           </td><td> 1.0          </td><td>0.41          </td><td>0.34 ( 0.01 ) </td><td>8.17 ( 0.48 ) </td><td>0.17 ( 0.04 ) </td><td>14.00         </td><td>0.54          </td><td>0.34          </td><td> 8.17         </td><td>0.17          </td></tr>\n",
       "\t<tr><th scope=row>76</th><td>1000          </td><td> 500          </td><td>0.9           </td><td> 0.5          </td><td>0.58          </td><td>0.32 ( 0 )    </td><td>4.24 ( 0.3 )  </td><td>0.01 ( 0.01 ) </td><td>10.23         </td><td>0.37          </td><td>0.32          </td><td> 4.24         </td><td>0.01          </td></tr>\n",
       "\t<tr><th scope=row>77</th><td>  50          </td><td>1000          </td><td>0.9           </td><td>20.0          </td><td>0.19          </td><td>1.04 ( 0.06 ) </td><td>5.24 ( 0.46 ) </td><td>4.23 ( 0.08 ) </td><td> 7.01         </td><td>0.6           </td><td>1.04          </td><td> 5.24         </td><td>4.23          </td></tr>\n",
       "\t<tr><th scope=row>78</th><td> 100          </td><td>1000          </td><td>0.9           </td><td>10.0          </td><td>0.22          </td><td>0.67 ( 0.02 ) </td><td>9.03 ( 0.73 ) </td><td>3.02 ( 0.07 ) </td><td>12.01         </td><td>0.66          </td><td>0.67          </td><td> 9.03         </td><td>3.02          </td></tr>\n",
       "\t<tr><th scope=row>79</th><td> 500          </td><td>1000          </td><td>0.9           </td><td> 2.0          </td><td>0.34          </td><td>0.35 ( 0.01 ) </td><td>10.52 ( 0.68 )</td><td>0.32 ( 0.05 ) </td><td>16.20         </td><td>0.59          </td><td>0.35          </td><td>10.50         </td><td>0.32          </td></tr>\n",
       "\t<tr><th scope=row>80</th><td>1000          </td><td>1000          </td><td>0.9           </td><td> 1.0          </td><td>0.57          </td><td>0.33 ( 0 )    </td><td>4.48 ( 0.3 )  </td><td>0.01 ( 0.01 ) </td><td>10.47         </td><td>0.39          </td><td>0.33          </td><td> 4.48         </td><td>0.01          </td></tr>\n",
       "</tbody>\n",
       "</table>\n"
      ],
      "text/latex": [
       "\\begin{tabular}{r|lllllllllllll}\n",
       "  & N & P & Corr & Ratio & Stab & MSE & FP & FN & num\\_select & FDR & MSE\\_mean & FP\\_mean & FN\\_mean\\\\\n",
       "\\hline\n",
       "\t75 &  500           &  500           & 0.9            &  1.0           & 0.41           & 0.34 ( 0.01 )  & 8.17 ( 0.48 )  & 0.17 ( 0.04 )  & 14.00          & 0.54           & 0.34           &  8.17          & 0.17          \\\\\n",
       "\t76 & 1000           &  500           & 0.9            &  0.5           & 0.58           & 0.32 ( 0 )     & 4.24 ( 0.3 )   & 0.01 ( 0.01 )  & 10.23          & 0.37           & 0.32           &  4.24          & 0.01          \\\\\n",
       "\t77 &   50           & 1000           & 0.9            & 20.0           & 0.19           & 1.04 ( 0.06 )  & 5.24 ( 0.46 )  & 4.23 ( 0.08 )  &  7.01          & 0.6            & 1.04           &  5.24          & 4.23          \\\\\n",
       "\t78 &  100           & 1000           & 0.9            & 10.0           & 0.22           & 0.67 ( 0.02 )  & 9.03 ( 0.73 )  & 3.02 ( 0.07 )  & 12.01          & 0.66           & 0.67           &  9.03          & 3.02          \\\\\n",
       "\t79 &  500           & 1000           & 0.9            &  2.0           & 0.34           & 0.35 ( 0.01 )  & 10.52 ( 0.68 ) & 0.32 ( 0.05 )  & 16.20          & 0.59           & 0.35           & 10.50          & 0.32          \\\\\n",
       "\t80 & 1000           & 1000           & 0.9            &  1.0           & 0.57           & 0.33 ( 0 )     & 4.48 ( 0.3 )   & 0.01 ( 0.01 )  & 10.47          & 0.39           & 0.33           &  4.48          & 0.01          \\\\\n",
       "\\end{tabular}\n"
      ],
      "text/markdown": [
       "\n",
       "| <!--/--> | N | P | Corr | Ratio | Stab | MSE | FP | FN | num_select | FDR | MSE_mean | FP_mean | FN_mean |\n",
       "|---|---|---|---|---|---|---|---|---|---|---|---|---|---|\n",
       "| 75 |  500           |  500           | 0.9            |  1.0           | 0.41           | 0.34 ( 0.01 )  | 8.17 ( 0.48 )  | 0.17 ( 0.04 )  | 14.00          | 0.54           | 0.34           |  8.17          | 0.17           |\n",
       "| 76 | 1000           |  500           | 0.9            |  0.5           | 0.58           | 0.32 ( 0 )     | 4.24 ( 0.3 )   | 0.01 ( 0.01 )  | 10.23          | 0.37           | 0.32           |  4.24          | 0.01           |\n",
       "| 77 |   50           | 1000           | 0.9            | 20.0           | 0.19           | 1.04 ( 0.06 )  | 5.24 ( 0.46 )  | 4.23 ( 0.08 )  |  7.01          | 0.6            | 1.04           |  5.24          | 4.23           |\n",
       "| 78 |  100           | 1000           | 0.9            | 10.0           | 0.22           | 0.67 ( 0.02 )  | 9.03 ( 0.73 )  | 3.02 ( 0.07 )  | 12.01          | 0.66           | 0.67           |  9.03          | 3.02           |\n",
       "| 79 |  500           | 1000           | 0.9            |  2.0           | 0.34           | 0.35 ( 0.01 )  | 10.52 ( 0.68 ) | 0.32 ( 0.05 )  | 16.20          | 0.59           | 0.35           | 10.50          | 0.32           |\n",
       "| 80 | 1000           | 1000           | 0.9            |  1.0           | 0.57           | 0.33 ( 0 )     | 4.48 ( 0.3 )   | 0.01 ( 0.01 )  | 10.47          | 0.39           | 0.33           |  4.48          | 0.01           |\n",
       "\n"
      ],
      "text/plain": [
       "   N    P    Corr Ratio Stab MSE           FP             FN           \n",
       "75  500  500 0.9   1.0  0.41 0.34 ( 0.01 ) 8.17 ( 0.48 )  0.17 ( 0.04 )\n",
       "76 1000  500 0.9   0.5  0.58 0.32 ( 0 )    4.24 ( 0.3 )   0.01 ( 0.01 )\n",
       "77   50 1000 0.9  20.0  0.19 1.04 ( 0.06 ) 5.24 ( 0.46 )  4.23 ( 0.08 )\n",
       "78  100 1000 0.9  10.0  0.22 0.67 ( 0.02 ) 9.03 ( 0.73 )  3.02 ( 0.07 )\n",
       "79  500 1000 0.9   2.0  0.34 0.35 ( 0.01 ) 10.52 ( 0.68 ) 0.32 ( 0.05 )\n",
       "80 1000 1000 0.9   1.0  0.57 0.33 ( 0 )    4.48 ( 0.3 )   0.01 ( 0.01 )\n",
       "   num_select FDR  MSE_mean FP_mean FN_mean\n",
       "75 14.00      0.54 0.34      8.17   0.17   \n",
       "76 10.23      0.37 0.32      4.24   0.01   \n",
       "77  7.01      0.6  1.04      5.24   4.23   \n",
       "78 12.01      0.66 0.67      9.03   3.02   \n",
       "79 16.20      0.59 0.35     10.50   0.32   \n",
       "80 10.47      0.39 0.33      4.48   0.01   "
      ]
     },
     "metadata": {},
     "output_type": "display_data"
    }
   ],
   "source": [
    "tail(result.table_toe)"
   ]
  },
  {
   "cell_type": "code",
   "execution_count": 11,
   "metadata": {},
   "outputs": [],
   "source": [
    "## export\n",
    "write.table(result.table_toe, '../results_summary_cts/sim_toe_compLasso.txt', sep='\\t', row.names=F)"
   ]
  },
  {
   "cell_type": "code",
   "execution_count": null,
   "metadata": {},
   "outputs": [],
   "source": []
  }
 ],
 "metadata": {
  "kernelspec": {
   "display_name": "R",
   "language": "R",
   "name": "ir"
  },
  "language_info": {
   "codemirror_mode": "r",
   "file_extension": ".r",
   "mimetype": "text/x-r-source",
   "name": "R",
   "pygments_lexer": "r",
   "version": "3.6.1"
  }
 },
 "nbformat": 4,
 "nbformat_minor": 2
}
