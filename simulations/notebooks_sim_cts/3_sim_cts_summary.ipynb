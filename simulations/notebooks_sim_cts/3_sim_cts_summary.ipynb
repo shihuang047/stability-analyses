{
 "cells": [
  {
   "cell_type": "markdown",
   "metadata": {},
   "source": [
    "### summarize method comparison results across 4 feature selection methods in different simulation scenarios"
   ]
  },
  {
   "cell_type": "markdown",
   "metadata": {},
   "source": [
    "### 1. Independent Design"
   ]
  },
  {
   "cell_type": "code",
   "execution_count": 1,
   "metadata": {},
   "outputs": [],
   "source": [
    "ind_lasso = read.csv('../results_summary_cts/sim_ind_lasso.txt', sep='\\t')\n",
    "ind_elnet = read.csv('../results_summary_cts/sim_ind_elnet.txt', sep='\\t')\n",
    "ind_rf = read.csv('../results_summary_cts/sim_ind_rf.txt', sep='\\t')\n",
    "ind_compLasso = read.csv('../results_summary_cts/sim_ind_compLasso.txt', sep='\\t')\n",
    "\n",
    "ind_lasso$method = rep('lasso', dim(ind_lasso)[1])\n",
    "ind_elnet$method = rep('elnet', dim(ind_elnet)[1])\n",
    "ind_rf$method = rep('rf', dim(ind_rf)[1])\n",
    "ind_compLasso$method = rep('compLasso', dim(ind_compLasso)[1])"
   ]
  },
  {
   "cell_type": "code",
   "execution_count": 2,
   "metadata": {},
   "outputs": [
    {
     "data": {
      "text/html": [
       "<ol class=list-inline>\n",
       "\t<li>16</li>\n",
       "\t<li>13</li>\n",
       "</ol>\n"
      ],
      "text/latex": [
       "\\begin{enumerate*}\n",
       "\\item 16\n",
       "\\item 13\n",
       "\\end{enumerate*}\n"
      ],
      "text/markdown": [
       "1. 16\n",
       "2. 13\n",
       "\n",
       "\n"
      ],
      "text/plain": [
       "[1] 16 13"
      ]
     },
     "metadata": {},
     "output_type": "display_data"
    },
    {
     "data": {
      "text/html": [
       "<ol class=list-inline>\n",
       "\t<li>16</li>\n",
       "\t<li>13</li>\n",
       "</ol>\n"
      ],
      "text/latex": [
       "\\begin{enumerate*}\n",
       "\\item 16\n",
       "\\item 13\n",
       "\\end{enumerate*}\n"
      ],
      "text/markdown": [
       "1. 16\n",
       "2. 13\n",
       "\n",
       "\n"
      ],
      "text/plain": [
       "[1] 16 13"
      ]
     },
     "metadata": {},
     "output_type": "display_data"
    },
    {
     "data": {
      "text/html": [
       "<ol class=list-inline>\n",
       "\t<li>16</li>\n",
       "\t<li>16</li>\n",
       "</ol>\n"
      ],
      "text/latex": [
       "\\begin{enumerate*}\n",
       "\\item 16\n",
       "\\item 16\n",
       "\\end{enumerate*}\n"
      ],
      "text/markdown": [
       "1. 16\n",
       "2. 16\n",
       "\n",
       "\n"
      ],
      "text/plain": [
       "[1] 16 16"
      ]
     },
     "metadata": {},
     "output_type": "display_data"
    },
    {
     "data": {
      "text/html": [
       "<ol class=list-inline>\n",
       "\t<li>16</li>\n",
       "\t<li>13</li>\n",
       "</ol>\n"
      ],
      "text/latex": [
       "\\begin{enumerate*}\n",
       "\\item 16\n",
       "\\item 13\n",
       "\\end{enumerate*}\n"
      ],
      "text/markdown": [
       "1. 16\n",
       "2. 13\n",
       "\n",
       "\n"
      ],
      "text/plain": [
       "[1] 16 13"
      ]
     },
     "metadata": {},
     "output_type": "display_data"
    }
   ],
   "source": [
    "dim(ind_lasso)\n",
    "dim(ind_elnet)\n",
    "dim(ind_rf)\n",
    "dim(ind_compLasso)"
   ]
  },
  {
   "cell_type": "code",
   "execution_count": 3,
   "metadata": {},
   "outputs": [
    {
     "data": {
      "text/html": [
       "<ol class=list-inline>\n",
       "\t<li>16</li>\n",
       "\t<li>13</li>\n",
       "</ol>\n"
      ],
      "text/latex": [
       "\\begin{enumerate*}\n",
       "\\item 16\n",
       "\\item 13\n",
       "\\end{enumerate*}\n"
      ],
      "text/markdown": [
       "1. 16\n",
       "2. 13\n",
       "\n",
       "\n"
      ],
      "text/plain": [
       "[1] 16 13"
      ]
     },
     "metadata": {},
     "output_type": "display_data"
    }
   ],
   "source": [
    "ind_rf = ind_rf[!names(ind_rf)%in% c('OOB', 'OOB_mean', 'Index')]\n",
    "dim(ind_rf)"
   ]
  },
  {
   "cell_type": "code",
   "execution_count": 4,
   "metadata": {},
   "outputs": [
    {
     "data": {
      "text/html": [
       "<ol class=list-inline>\n",
       "\t<li>64</li>\n",
       "\t<li>13</li>\n",
       "</ol>\n"
      ],
      "text/latex": [
       "\\begin{enumerate*}\n",
       "\\item 64\n",
       "\\item 13\n",
       "\\end{enumerate*}\n"
      ],
      "text/markdown": [
       "1. 64\n",
       "2. 13\n",
       "\n",
       "\n"
      ],
      "text/plain": [
       "[1] 64 13"
      ]
     },
     "metadata": {},
     "output_type": "display_data"
    }
   ],
   "source": [
    "ind = rbind(ind_lasso, ind_elnet)\n",
    "ind = rbind(ind, ind_rf)\n",
    "ind = rbind(ind, ind_compLasso)\n",
    "dim(ind)"
   ]
  },
  {
   "cell_type": "code",
   "execution_count": 5,
   "metadata": {},
   "outputs": [],
   "source": [
    "# fix false positives: when nothing was selected, then fp should be zero\n",
    "# fp is now 1 due to length(setdiff(0/NA)) = 1 when actually should be 0 (in cv_sim_apply.R)\n",
    "ind$FP_mean[ind$num_select ==0] = 0"
   ]
  },
  {
   "cell_type": "code",
   "execution_count": 6,
   "metadata": {},
   "outputs": [],
   "source": [
    "write.table(ind, '../results_summary_cts/table_ind_all.txt', sep='\\t', row.names=F)"
   ]
  },
  {
   "cell_type": "code",
   "execution_count": 7,
   "metadata": {},
   "outputs": [
    {
     "data": {
      "text/html": [
       "<table>\n",
       "<thead><tr><th></th><th scope=col>N</th><th scope=col>P</th><th scope=col>method</th><th scope=col>Stab</th><th scope=col>MSE_mean</th><th scope=col>FP_mean</th><th scope=col>FN_mean</th><th scope=col>num_select</th><th scope=col>FDR</th></tr></thead>\n",
       "<tbody>\n",
       "\t<tr><th scope=row>16</th><td>1000     </td><td>1000     </td><td>lasso    </td><td>0.64     </td><td>0.27     </td><td> 4.39    </td><td>0.00     </td><td> 9.39    </td><td>0.26     </td></tr>\n",
       "\t<tr><th scope=row>32</th><td>1000     </td><td>1000     </td><td>elnet    </td><td>0.15     </td><td>0.27     </td><td>34.60    </td><td>0.00     </td><td>39.65    </td><td>0.79     </td></tr>\n",
       "\t<tr><th scope=row>48</th><td>1000     </td><td>1000     </td><td>rf       </td><td>0.09     </td><td>0.85     </td><td>41.70    </td><td>0.99     </td><td>46.78    </td><td>0.89     </td></tr>\n",
       "\t<tr><th scope=row>64</th><td>1000     </td><td>1000     </td><td>compLasso</td><td>0.96     </td><td>1.16     </td><td> 0.24    </td><td>0.00     </td><td> 6.24    </td><td>0.03     </td></tr>\n",
       "\t<tr><th scope=row>12</th><td>1000     </td><td> 500     </td><td>lasso    </td><td>0.72     </td><td>0.27     </td><td> 3.35    </td><td>0.00     </td><td> 8.35    </td><td>0.21     </td></tr>\n",
       "\t<tr><th scope=row>28</th><td>1000     </td><td> 500     </td><td>elnet    </td><td>0.18     </td><td>0.26     </td><td>27.20    </td><td>0.00     </td><td>32.21    </td><td>0.77     </td></tr>\n",
       "\t<tr><th scope=row>44</th><td>1000     </td><td> 500     </td><td>rf       </td><td>0.19     </td><td>0.78     </td><td>18.70    </td><td>0.84     </td><td>23.89    </td><td>0.78     </td></tr>\n",
       "\t<tr><th scope=row>60</th><td>1000     </td><td> 500     </td><td>compLasso</td><td>0.96     </td><td>1.24     </td><td> 0.25    </td><td>0.00     </td><td> 6.25    </td><td>0.03     </td></tr>\n",
       "\t<tr><th scope=row>8</th><td>1000     </td><td> 100     </td><td>lasso    </td><td>0.82     </td><td>0.27     </td><td> 2.25    </td><td>0.00     </td><td> 7.25    </td><td>0.15     </td></tr>\n",
       "\t<tr><th scope=row>24</th><td>1000     </td><td> 100     </td><td>elnet    </td><td>0.23     </td><td>0.26     </td><td>17.00    </td><td>0.00     </td><td>22.05    </td><td>0.69     </td></tr>\n",
       "\t<tr><th scope=row>40</th><td>1000     </td><td> 100     </td><td>rf       </td><td>0.81     </td><td>0.47     </td><td> 0.71    </td><td>0.53     </td><td> 6.18    </td><td>0.10     </td></tr>\n",
       "\t<tr><th scope=row>56</th><td>1000     </td><td> 100     </td><td>compLasso</td><td>0.89     </td><td>1.04     </td><td> 0.71    </td><td>0.00     </td><td> 6.71    </td><td>0.08     </td></tr>\n",
       "\t<tr><th scope=row>4</th><td>1000     </td><td>  50     </td><td>lasso    </td><td>0.86     </td><td>0.26     </td><td> 1.82    </td><td>0.00     </td><td> 6.82    </td><td>0.10     </td></tr>\n",
       "\t<tr><th scope=row>20</th><td>1000     </td><td>  50     </td><td>elnet    </td><td>0.27     </td><td>0.25     </td><td>11.70    </td><td>0.00     </td><td>16.76    </td><td>0.60     </td></tr>\n",
       "\t<tr><th scope=row>36</th><td>1000     </td><td>  50     </td><td>rf       </td><td>0.88     </td><td>0.35     </td><td> 0.07    </td><td>0.78     </td><td> 5.29    </td><td>0.01     </td></tr>\n",
       "\t<tr><th scope=row>52</th><td>1000     </td><td>  50     </td><td>compLasso</td><td>0.93     </td><td>1.18     </td><td> 0.39    </td><td>0.00     </td><td> 6.39    </td><td>0.04     </td></tr>\n",
       "\t<tr><th scope=row>15</th><td> 500     </td><td>1000     </td><td>lasso    </td><td>0.52     </td><td>0.29     </td><td> 6.51    </td><td>0.00     </td><td>11.51    </td><td>0.40     </td></tr>\n",
       "\t<tr><th scope=row>31</th><td> 500     </td><td>1000     </td><td>elnet    </td><td>0.14     </td><td>0.27     </td><td>35.90    </td><td>0.00     </td><td>40.98    </td><td>0.80     </td></tr>\n",
       "\t<tr><th scope=row>47</th><td> 500     </td><td>1000     </td><td>rf       </td><td>0.06     </td><td>0.89     </td><td>44.70    </td><td>1.81     </td><td>48.96    </td><td>0.91     </td></tr>\n",
       "\t<tr><th scope=row>63</th><td> 500     </td><td>1000     </td><td>compLasso</td><td>0.96     </td><td>1.12     </td><td> 0.27    </td><td>0.00     </td><td> 6.27    </td><td>0.03     </td></tr>\n",
       "</tbody>\n",
       "</table>\n"
      ],
      "text/latex": [
       "\\begin{tabular}{r|lllllllll}\n",
       "  & N & P & method & Stab & MSE\\_mean & FP\\_mean & FN\\_mean & num\\_select & FDR\\\\\n",
       "\\hline\n",
       "\t16 & 1000      & 1000      & lasso     & 0.64      & 0.27      &  4.39     & 0.00      &  9.39     & 0.26     \\\\\n",
       "\t32 & 1000      & 1000      & elnet     & 0.15      & 0.27      & 34.60     & 0.00      & 39.65     & 0.79     \\\\\n",
       "\t48 & 1000      & 1000      & rf        & 0.09      & 0.85      & 41.70     & 0.99      & 46.78     & 0.89     \\\\\n",
       "\t64 & 1000      & 1000      & compLasso & 0.96      & 1.16      &  0.24     & 0.00      &  6.24     & 0.03     \\\\\n",
       "\t12 & 1000      &  500      & lasso     & 0.72      & 0.27      &  3.35     & 0.00      &  8.35     & 0.21     \\\\\n",
       "\t28 & 1000      &  500      & elnet     & 0.18      & 0.26      & 27.20     & 0.00      & 32.21     & 0.77     \\\\\n",
       "\t44 & 1000      &  500      & rf        & 0.19      & 0.78      & 18.70     & 0.84      & 23.89     & 0.78     \\\\\n",
       "\t60 & 1000      &  500      & compLasso & 0.96      & 1.24      &  0.25     & 0.00      &  6.25     & 0.03     \\\\\n",
       "\t8 & 1000      &  100      & lasso     & 0.82      & 0.27      &  2.25     & 0.00      &  7.25     & 0.15     \\\\\n",
       "\t24 & 1000      &  100      & elnet     & 0.23      & 0.26      & 17.00     & 0.00      & 22.05     & 0.69     \\\\\n",
       "\t40 & 1000      &  100      & rf        & 0.81      & 0.47      &  0.71     & 0.53      &  6.18     & 0.10     \\\\\n",
       "\t56 & 1000      &  100      & compLasso & 0.89      & 1.04      &  0.71     & 0.00      &  6.71     & 0.08     \\\\\n",
       "\t4 & 1000      &   50      & lasso     & 0.86      & 0.26      &  1.82     & 0.00      &  6.82     & 0.10     \\\\\n",
       "\t20 & 1000      &   50      & elnet     & 0.27      & 0.25      & 11.70     & 0.00      & 16.76     & 0.60     \\\\\n",
       "\t36 & 1000      &   50      & rf        & 0.88      & 0.35      &  0.07     & 0.78      &  5.29     & 0.01     \\\\\n",
       "\t52 & 1000      &   50      & compLasso & 0.93      & 1.18      &  0.39     & 0.00      &  6.39     & 0.04     \\\\\n",
       "\t15 &  500      & 1000      & lasso     & 0.52      & 0.29      &  6.51     & 0.00      & 11.51     & 0.40     \\\\\n",
       "\t31 &  500      & 1000      & elnet     & 0.14      & 0.27      & 35.90     & 0.00      & 40.98     & 0.80     \\\\\n",
       "\t47 &  500      & 1000      & rf        & 0.06      & 0.89      & 44.70     & 1.81      & 48.96     & 0.91     \\\\\n",
       "\t63 &  500      & 1000      & compLasso & 0.96      & 1.12      &  0.27     & 0.00      &  6.27     & 0.03     \\\\\n",
       "\\end{tabular}\n"
      ],
      "text/markdown": [
       "\n",
       "| <!--/--> | N | P | method | Stab | MSE_mean | FP_mean | FN_mean | num_select | FDR |\n",
       "|---|---|---|---|---|---|---|---|---|---|\n",
       "| 16 | 1000      | 1000      | lasso     | 0.64      | 0.27      |  4.39     | 0.00      |  9.39     | 0.26      |\n",
       "| 32 | 1000      | 1000      | elnet     | 0.15      | 0.27      | 34.60     | 0.00      | 39.65     | 0.79      |\n",
       "| 48 | 1000      | 1000      | rf        | 0.09      | 0.85      | 41.70     | 0.99      | 46.78     | 0.89      |\n",
       "| 64 | 1000      | 1000      | compLasso | 0.96      | 1.16      |  0.24     | 0.00      |  6.24     | 0.03      |\n",
       "| 12 | 1000      |  500      | lasso     | 0.72      | 0.27      |  3.35     | 0.00      |  8.35     | 0.21      |\n",
       "| 28 | 1000      |  500      | elnet     | 0.18      | 0.26      | 27.20     | 0.00      | 32.21     | 0.77      |\n",
       "| 44 | 1000      |  500      | rf        | 0.19      | 0.78      | 18.70     | 0.84      | 23.89     | 0.78      |\n",
       "| 60 | 1000      |  500      | compLasso | 0.96      | 1.24      |  0.25     | 0.00      |  6.25     | 0.03      |\n",
       "| 8 | 1000      |  100      | lasso     | 0.82      | 0.27      |  2.25     | 0.00      |  7.25     | 0.15      |\n",
       "| 24 | 1000      |  100      | elnet     | 0.23      | 0.26      | 17.00     | 0.00      | 22.05     | 0.69      |\n",
       "| 40 | 1000      |  100      | rf        | 0.81      | 0.47      |  0.71     | 0.53      |  6.18     | 0.10      |\n",
       "| 56 | 1000      |  100      | compLasso | 0.89      | 1.04      |  0.71     | 0.00      |  6.71     | 0.08      |\n",
       "| 4 | 1000      |   50      | lasso     | 0.86      | 0.26      |  1.82     | 0.00      |  6.82     | 0.10      |\n",
       "| 20 | 1000      |   50      | elnet     | 0.27      | 0.25      | 11.70     | 0.00      | 16.76     | 0.60      |\n",
       "| 36 | 1000      |   50      | rf        | 0.88      | 0.35      |  0.07     | 0.78      |  5.29     | 0.01      |\n",
       "| 52 | 1000      |   50      | compLasso | 0.93      | 1.18      |  0.39     | 0.00      |  6.39     | 0.04      |\n",
       "| 15 |  500      | 1000      | lasso     | 0.52      | 0.29      |  6.51     | 0.00      | 11.51     | 0.40      |\n",
       "| 31 |  500      | 1000      | elnet     | 0.14      | 0.27      | 35.90     | 0.00      | 40.98     | 0.80      |\n",
       "| 47 |  500      | 1000      | rf        | 0.06      | 0.89      | 44.70     | 1.81      | 48.96     | 0.91      |\n",
       "| 63 |  500      | 1000      | compLasso | 0.96      | 1.12      |  0.27     | 0.00      |  6.27     | 0.03      |\n",
       "\n"
      ],
      "text/plain": [
       "   N    P    method    Stab MSE_mean FP_mean FN_mean num_select FDR \n",
       "16 1000 1000 lasso     0.64 0.27      4.39   0.00     9.39      0.26\n",
       "32 1000 1000 elnet     0.15 0.27     34.60   0.00    39.65      0.79\n",
       "48 1000 1000 rf        0.09 0.85     41.70   0.99    46.78      0.89\n",
       "64 1000 1000 compLasso 0.96 1.16      0.24   0.00     6.24      0.03\n",
       "12 1000  500 lasso     0.72 0.27      3.35   0.00     8.35      0.21\n",
       "28 1000  500 elnet     0.18 0.26     27.20   0.00    32.21      0.77\n",
       "44 1000  500 rf        0.19 0.78     18.70   0.84    23.89      0.78\n",
       "60 1000  500 compLasso 0.96 1.24      0.25   0.00     6.25      0.03\n",
       "8  1000  100 lasso     0.82 0.27      2.25   0.00     7.25      0.15\n",
       "24 1000  100 elnet     0.23 0.26     17.00   0.00    22.05      0.69\n",
       "40 1000  100 rf        0.81 0.47      0.71   0.53     6.18      0.10\n",
       "56 1000  100 compLasso 0.89 1.04      0.71   0.00     6.71      0.08\n",
       "4  1000   50 lasso     0.86 0.26      1.82   0.00     6.82      0.10\n",
       "20 1000   50 elnet     0.27 0.25     11.70   0.00    16.76      0.60\n",
       "36 1000   50 rf        0.88 0.35      0.07   0.78     5.29      0.01\n",
       "52 1000   50 compLasso 0.93 1.18      0.39   0.00     6.39      0.04\n",
       "15  500 1000 lasso     0.52 0.29      6.51   0.00    11.51      0.40\n",
       "31  500 1000 elnet     0.14 0.27     35.90   0.00    40.98      0.80\n",
       "47  500 1000 rf        0.06 0.89     44.70   1.81    48.96      0.91\n",
       "63  500 1000 compLasso 0.96 1.12      0.27   0.00     6.27      0.03"
      ]
     },
     "metadata": {},
     "output_type": "display_data"
    }
   ],
   "source": [
    "ind[order(ind$N, ind$P, decreasing=T), c('N', 'P', 'method', 'Stab', 'MSE_mean', 'FP_mean', 'FN_mean', 'num_select', 'FDR')][1:20, ]"
   ]
  },
  {
   "cell_type": "markdown",
   "metadata": {},
   "source": [
    "### 2. Toeplitz Design"
   ]
  },
  {
   "cell_type": "code",
   "execution_count": 1,
   "metadata": {},
   "outputs": [],
   "source": [
    "toe_lasso = read.csv('../results_summary_cts/sim_toe_lasso.txt', sep='\\t')\n",
    "toe_elnet = read.csv('../results_summary_cts/sim_toe_elnet.txt', sep='\\t')\n",
    "toe_rf = read.csv('../results_summary_cts/sim_toe_rf.txt', sep='\\t')\n",
    "toe_compLasso = read.csv('../results_summary_cts/sim_toe_compLasso.txt', sep='\\t')\n",
    "\n",
    "toe_lasso$method = rep('lasso', dim(toe_lasso)[1])\n",
    "toe_elnet$method = rep('elnet', dim(toe_elnet)[1])\n",
    "toe_rf$method = rep('rf', dim(toe_rf)[1])\n",
    "toe_compLasso$method = rep('compLasso', dim(toe_compLasso)[1])"
   ]
  },
  {
   "cell_type": "code",
   "execution_count": 2,
   "metadata": {},
   "outputs": [
    {
     "data": {
      "text/html": [
       "<ol class=list-inline>\n",
       "\t<li>80</li>\n",
       "\t<li>14</li>\n",
       "</ol>\n"
      ],
      "text/latex": [
       "\\begin{enumerate*}\n",
       "\\item 80\n",
       "\\item 14\n",
       "\\end{enumerate*}\n"
      ],
      "text/markdown": [
       "1. 80\n",
       "2. 14\n",
       "\n",
       "\n"
      ],
      "text/plain": [
       "[1] 80 14"
      ]
     },
     "metadata": {},
     "output_type": "display_data"
    },
    {
     "data": {
      "text/html": [
       "<ol class=list-inline>\n",
       "\t<li>80</li>\n",
       "\t<li>14</li>\n",
       "</ol>\n"
      ],
      "text/latex": [
       "\\begin{enumerate*}\n",
       "\\item 80\n",
       "\\item 14\n",
       "\\end{enumerate*}\n"
      ],
      "text/markdown": [
       "1. 80\n",
       "2. 14\n",
       "\n",
       "\n"
      ],
      "text/plain": [
       "[1] 80 14"
      ]
     },
     "metadata": {},
     "output_type": "display_data"
    },
    {
     "data": {
      "text/html": [
       "<ol class=list-inline>\n",
       "\t<li>80</li>\n",
       "\t<li>16</li>\n",
       "</ol>\n"
      ],
      "text/latex": [
       "\\begin{enumerate*}\n",
       "\\item 80\n",
       "\\item 16\n",
       "\\end{enumerate*}\n"
      ],
      "text/markdown": [
       "1. 80\n",
       "2. 16\n",
       "\n",
       "\n"
      ],
      "text/plain": [
       "[1] 80 16"
      ]
     },
     "metadata": {},
     "output_type": "display_data"
    },
    {
     "data": {
      "text/html": [
       "<ol class=list-inline>\n",
       "\t<li>80</li>\n",
       "\t<li>14</li>\n",
       "</ol>\n"
      ],
      "text/latex": [
       "\\begin{enumerate*}\n",
       "\\item 80\n",
       "\\item 14\n",
       "\\end{enumerate*}\n"
      ],
      "text/markdown": [
       "1. 80\n",
       "2. 14\n",
       "\n",
       "\n"
      ],
      "text/plain": [
       "[1] 80 14"
      ]
     },
     "metadata": {},
     "output_type": "display_data"
    }
   ],
   "source": [
    "dim(toe_lasso)\n",
    "dim(toe_elnet)\n",
    "dim(toe_rf)\n",
    "dim(toe_compLasso)"
   ]
  },
  {
   "cell_type": "code",
   "execution_count": 3,
   "metadata": {},
   "outputs": [
    {
     "data": {
      "text/html": [
       "<ol class=list-inline>\n",
       "\t<li>80</li>\n",
       "\t<li>14</li>\n",
       "</ol>\n"
      ],
      "text/latex": [
       "\\begin{enumerate*}\n",
       "\\item 80\n",
       "\\item 14\n",
       "\\end{enumerate*}\n"
      ],
      "text/markdown": [
       "1. 80\n",
       "2. 14\n",
       "\n",
       "\n"
      ],
      "text/plain": [
       "[1] 80 14"
      ]
     },
     "metadata": {},
     "output_type": "display_data"
    }
   ],
   "source": [
    "toe_rf = toe_rf[!names(toe_rf)%in% c('OOB', 'OOB_mean', 'toeex')]\n",
    "dim(toe_rf)"
   ]
  },
  {
   "cell_type": "code",
   "execution_count": 4,
   "metadata": {},
   "outputs": [
    {
     "data": {
      "text/html": [
       "<ol class=list-inline>\n",
       "\t<li>320</li>\n",
       "\t<li>14</li>\n",
       "</ol>\n"
      ],
      "text/latex": [
       "\\begin{enumerate*}\n",
       "\\item 320\n",
       "\\item 14\n",
       "\\end{enumerate*}\n"
      ],
      "text/markdown": [
       "1. 320\n",
       "2. 14\n",
       "\n",
       "\n"
      ],
      "text/plain": [
       "[1] 320  14"
      ]
     },
     "metadata": {},
     "output_type": "display_data"
    }
   ],
   "source": [
    "toe = rbind(toe_lasso, toe_elnet)\n",
    "toe = rbind(toe, toe_rf)\n",
    "toe = rbind(toe, toe_compLasso)\n",
    "dim(toe)"
   ]
  },
  {
   "cell_type": "code",
   "execution_count": 5,
   "metadata": {},
   "outputs": [
    {
     "data": {
      "text/html": [
       "<table>\n",
       "<thead><tr><th></th><th scope=col>N</th><th scope=col>P</th><th scope=col>Corr</th><th scope=col>Ratio</th><th scope=col>Stab</th><th scope=col>MSE</th><th scope=col>FP</th><th scope=col>FN</th><th scope=col>num_select</th><th scope=col>FDR</th><th scope=col>MSE_mean</th><th scope=col>FP_mean</th><th scope=col>FN_mean</th><th scope=col>method</th></tr></thead>\n",
       "<tbody>\n",
       "\t<tr><th scope=row>161</th><td>50           </td><td>  50         </td><td>0.1          </td><td> 1           </td><td>0            </td><td>1.4 ( 0.06 ) </td><td>1 ( 0 )      </td><td>6 ( 0 )      </td><td>0            </td><td>NaN          </td><td>1.40         </td><td>1            </td><td>6            </td><td>rf           </td></tr>\n",
       "\t<tr><th scope=row>165</th><td>50           </td><td> 100         </td><td>0.1          </td><td> 2           </td><td>0            </td><td>1.36 ( 0.06 )</td><td>1 ( 0 )      </td><td>6 ( 0 )      </td><td>0            </td><td>NaN          </td><td>1.36         </td><td>1            </td><td>6            </td><td>rf           </td></tr>\n",
       "\t<tr><th scope=row>169</th><td>50           </td><td> 500         </td><td>0.1          </td><td>10           </td><td>0            </td><td>1.29 ( 0.05 )</td><td>1 ( 0 )      </td><td>6 ( 0 )      </td><td>0            </td><td>NaN          </td><td>1.29         </td><td>1            </td><td>6            </td><td>rf           </td></tr>\n",
       "\t<tr><th scope=row>173</th><td>50           </td><td>1000         </td><td>0.1          </td><td>20           </td><td>0            </td><td>1.35 ( 0.06 )</td><td>1 ( 0 )      </td><td>6 ( 0 )      </td><td>0            </td><td>NaN          </td><td>1.35         </td><td>1            </td><td>6            </td><td>rf           </td></tr>\n",
       "\t<tr><th scope=row>177</th><td>50           </td><td>  50         </td><td>0.3          </td><td> 1           </td><td>0            </td><td>1.22 ( 0.05 )</td><td>1 ( 0 )      </td><td>6 ( 0 )      </td><td>0            </td><td>NaN          </td><td>1.22         </td><td>1            </td><td>6            </td><td>rf           </td></tr>\n",
       "\t<tr><th scope=row>181</th><td>50           </td><td> 100         </td><td>0.3          </td><td> 2           </td><td>0            </td><td>1.15 ( 0.05 )</td><td>1 ( 0 )      </td><td>6 ( 0 )      </td><td>0            </td><td>NaN          </td><td>1.15         </td><td>1            </td><td>6            </td><td>rf           </td></tr>\n",
       "\t<tr><th scope=row>185</th><td>50           </td><td> 500         </td><td>0.3          </td><td>10           </td><td>0            </td><td>1.14 ( 0.05 )</td><td>1 ( 0 )      </td><td>6 ( 0 )      </td><td>0            </td><td>NaN          </td><td>1.14         </td><td>1            </td><td>6            </td><td>rf           </td></tr>\n",
       "\t<tr><th scope=row>189</th><td>50           </td><td>1000         </td><td>0.3          </td><td>20           </td><td>0            </td><td>1.2 ( 0.05 ) </td><td>1 ( 0 )      </td><td>6 ( 0 )      </td><td>0            </td><td>NaN          </td><td>1.20         </td><td>1            </td><td>6            </td><td>rf           </td></tr>\n",
       "\t<tr><th scope=row>193</th><td>50           </td><td>  50         </td><td>0.5          </td><td> 1           </td><td>0            </td><td>0.99 ( 0.05 )</td><td>1 ( 0 )      </td><td>6 ( 0 )      </td><td>0            </td><td>NaN          </td><td>0.99         </td><td>1            </td><td>6            </td><td>rf           </td></tr>\n",
       "\t<tr><th scope=row>197</th><td>50           </td><td> 100         </td><td>0.5          </td><td> 2           </td><td>0            </td><td>0.91 ( 0.04 )</td><td>1 ( 0 )      </td><td>6 ( 0 )      </td><td>0            </td><td>NaN          </td><td>0.91         </td><td>1            </td><td>6            </td><td>rf           </td></tr>\n",
       "\t<tr><th scope=row>201</th><td>50           </td><td> 500         </td><td>0.5          </td><td>10           </td><td>0            </td><td>0.95 ( 0.04 )</td><td>1 ( 0 )      </td><td>6 ( 0 )      </td><td>0            </td><td>NaN          </td><td>0.95         </td><td>1            </td><td>6            </td><td>rf           </td></tr>\n",
       "\t<tr><th scope=row>205</th><td>50           </td><td>1000         </td><td>0.5          </td><td>20           </td><td>0            </td><td>0.94 ( 0.04 )</td><td>1 ( 0 )      </td><td>6 ( 0 )      </td><td>0            </td><td>NaN          </td><td>0.94         </td><td>1            </td><td>6            </td><td>rf           </td></tr>\n",
       "\t<tr><th scope=row>209</th><td>50           </td><td>  50         </td><td>0.7          </td><td> 1           </td><td>0            </td><td>0.66 ( 0.03 )</td><td>1 ( 0 )      </td><td>6 ( 0 )      </td><td>0            </td><td>NaN          </td><td>0.66         </td><td>1            </td><td>6            </td><td>rf           </td></tr>\n",
       "\t<tr><th scope=row>213</th><td>50           </td><td> 100         </td><td>0.7          </td><td> 2           </td><td>0            </td><td>0.67 ( 0.03 )</td><td>1 ( 0 )      </td><td>6 ( 0 )      </td><td>0            </td><td>NaN          </td><td>0.67         </td><td>1            </td><td>6            </td><td>rf           </td></tr>\n",
       "\t<tr><th scope=row>217</th><td>50           </td><td> 500         </td><td>0.7          </td><td>10           </td><td>0            </td><td>0.7 ( 0.03 ) </td><td>1 ( 0 )      </td><td>6 ( 0 )      </td><td>0            </td><td>NaN          </td><td>0.70         </td><td>1            </td><td>6            </td><td>rf           </td></tr>\n",
       "\t<tr><th scope=row>221</th><td>50           </td><td>1000         </td><td>0.7          </td><td>20           </td><td>0            </td><td>0.74 ( 0.03 )</td><td>1 ( 0 )      </td><td>6 ( 0 )      </td><td>0            </td><td>NaN          </td><td>0.74         </td><td>1            </td><td>6            </td><td>rf           </td></tr>\n",
       "\t<tr><th scope=row>225</th><td>50           </td><td>  50         </td><td>0.9          </td><td> 1           </td><td>0            </td><td>0.27 ( 0.01 )</td><td>1 ( 0 )      </td><td>6 ( 0 )      </td><td>0            </td><td>NaN          </td><td>0.27         </td><td>1            </td><td>6            </td><td>rf           </td></tr>\n",
       "\t<tr><th scope=row>229</th><td>50           </td><td> 100         </td><td>0.9          </td><td> 2           </td><td>0            </td><td>0.3 ( 0.01 ) </td><td>1 ( 0 )      </td><td>6 ( 0 )      </td><td>0            </td><td>NaN          </td><td>0.30         </td><td>1            </td><td>6            </td><td>rf           </td></tr>\n",
       "\t<tr><th scope=row>233</th><td>50           </td><td> 500         </td><td>0.9          </td><td>10           </td><td>0            </td><td>0.29 ( 0.01 )</td><td>1 ( 0 )      </td><td>6 ( 0 )      </td><td>0            </td><td>NaN          </td><td>0.29         </td><td>1            </td><td>6            </td><td>rf           </td></tr>\n",
       "\t<tr><th scope=row>237</th><td>50           </td><td>1000         </td><td>0.9          </td><td>20           </td><td>0            </td><td>0.29 ( 0.01 )</td><td>1 ( 0 )      </td><td>6 ( 0 )      </td><td>0            </td><td>NaN          </td><td>0.29         </td><td>1            </td><td>6            </td><td>rf           </td></tr>\n",
       "</tbody>\n",
       "</table>\n"
      ],
      "text/latex": [
       "\\begin{tabular}{r|llllllllllllll}\n",
       "  & N & P & Corr & Ratio & Stab & MSE & FP & FN & num\\_select & FDR & MSE\\_mean & FP\\_mean & FN\\_mean & method\\\\\n",
       "\\hline\n",
       "\t161 & 50            &   50          & 0.1           &  1            & 0             & 1.4 ( 0.06 )  & 1 ( 0 )       & 6 ( 0 )       & 0             & NaN           & 1.40          & 1             & 6             & rf           \\\\\n",
       "\t165 & 50            &  100          & 0.1           &  2            & 0             & 1.36 ( 0.06 ) & 1 ( 0 )       & 6 ( 0 )       & 0             & NaN           & 1.36          & 1             & 6             & rf           \\\\\n",
       "\t169 & 50            &  500          & 0.1           & 10            & 0             & 1.29 ( 0.05 ) & 1 ( 0 )       & 6 ( 0 )       & 0             & NaN           & 1.29          & 1             & 6             & rf           \\\\\n",
       "\t173 & 50            & 1000          & 0.1           & 20            & 0             & 1.35 ( 0.06 ) & 1 ( 0 )       & 6 ( 0 )       & 0             & NaN           & 1.35          & 1             & 6             & rf           \\\\\n",
       "\t177 & 50            &   50          & 0.3           &  1            & 0             & 1.22 ( 0.05 ) & 1 ( 0 )       & 6 ( 0 )       & 0             & NaN           & 1.22          & 1             & 6             & rf           \\\\\n",
       "\t181 & 50            &  100          & 0.3           &  2            & 0             & 1.15 ( 0.05 ) & 1 ( 0 )       & 6 ( 0 )       & 0             & NaN           & 1.15          & 1             & 6             & rf           \\\\\n",
       "\t185 & 50            &  500          & 0.3           & 10            & 0             & 1.14 ( 0.05 ) & 1 ( 0 )       & 6 ( 0 )       & 0             & NaN           & 1.14          & 1             & 6             & rf           \\\\\n",
       "\t189 & 50            & 1000          & 0.3           & 20            & 0             & 1.2 ( 0.05 )  & 1 ( 0 )       & 6 ( 0 )       & 0             & NaN           & 1.20          & 1             & 6             & rf           \\\\\n",
       "\t193 & 50            &   50          & 0.5           &  1            & 0             & 0.99 ( 0.05 ) & 1 ( 0 )       & 6 ( 0 )       & 0             & NaN           & 0.99          & 1             & 6             & rf           \\\\\n",
       "\t197 & 50            &  100          & 0.5           &  2            & 0             & 0.91 ( 0.04 ) & 1 ( 0 )       & 6 ( 0 )       & 0             & NaN           & 0.91          & 1             & 6             & rf           \\\\\n",
       "\t201 & 50            &  500          & 0.5           & 10            & 0             & 0.95 ( 0.04 ) & 1 ( 0 )       & 6 ( 0 )       & 0             & NaN           & 0.95          & 1             & 6             & rf           \\\\\n",
       "\t205 & 50            & 1000          & 0.5           & 20            & 0             & 0.94 ( 0.04 ) & 1 ( 0 )       & 6 ( 0 )       & 0             & NaN           & 0.94          & 1             & 6             & rf           \\\\\n",
       "\t209 & 50            &   50          & 0.7           &  1            & 0             & 0.66 ( 0.03 ) & 1 ( 0 )       & 6 ( 0 )       & 0             & NaN           & 0.66          & 1             & 6             & rf           \\\\\n",
       "\t213 & 50            &  100          & 0.7           &  2            & 0             & 0.67 ( 0.03 ) & 1 ( 0 )       & 6 ( 0 )       & 0             & NaN           & 0.67          & 1             & 6             & rf           \\\\\n",
       "\t217 & 50            &  500          & 0.7           & 10            & 0             & 0.7 ( 0.03 )  & 1 ( 0 )       & 6 ( 0 )       & 0             & NaN           & 0.70          & 1             & 6             & rf           \\\\\n",
       "\t221 & 50            & 1000          & 0.7           & 20            & 0             & 0.74 ( 0.03 ) & 1 ( 0 )       & 6 ( 0 )       & 0             & NaN           & 0.74          & 1             & 6             & rf           \\\\\n",
       "\t225 & 50            &   50          & 0.9           &  1            & 0             & 0.27 ( 0.01 ) & 1 ( 0 )       & 6 ( 0 )       & 0             & NaN           & 0.27          & 1             & 6             & rf           \\\\\n",
       "\t229 & 50            &  100          & 0.9           &  2            & 0             & 0.3 ( 0.01 )  & 1 ( 0 )       & 6 ( 0 )       & 0             & NaN           & 0.30          & 1             & 6             & rf           \\\\\n",
       "\t233 & 50            &  500          & 0.9           & 10            & 0             & 0.29 ( 0.01 ) & 1 ( 0 )       & 6 ( 0 )       & 0             & NaN           & 0.29          & 1             & 6             & rf           \\\\\n",
       "\t237 & 50            & 1000          & 0.9           & 20            & 0             & 0.29 ( 0.01 ) & 1 ( 0 )       & 6 ( 0 )       & 0             & NaN           & 0.29          & 1             & 6             & rf           \\\\\n",
       "\\end{tabular}\n"
      ],
      "text/markdown": [
       "\n",
       "| <!--/--> | N | P | Corr | Ratio | Stab | MSE | FP | FN | num_select | FDR | MSE_mean | FP_mean | FN_mean | method |\n",
       "|---|---|---|---|---|---|---|---|---|---|---|---|---|---|---|\n",
       "| 161 | 50            |   50          | 0.1           |  1            | 0             | 1.4 ( 0.06 )  | 1 ( 0 )       | 6 ( 0 )       | 0             | NaN           | 1.40          | 1             | 6             | rf            |\n",
       "| 165 | 50            |  100          | 0.1           |  2            | 0             | 1.36 ( 0.06 ) | 1 ( 0 )       | 6 ( 0 )       | 0             | NaN           | 1.36          | 1             | 6             | rf            |\n",
       "| 169 | 50            |  500          | 0.1           | 10            | 0             | 1.29 ( 0.05 ) | 1 ( 0 )       | 6 ( 0 )       | 0             | NaN           | 1.29          | 1             | 6             | rf            |\n",
       "| 173 | 50            | 1000          | 0.1           | 20            | 0             | 1.35 ( 0.06 ) | 1 ( 0 )       | 6 ( 0 )       | 0             | NaN           | 1.35          | 1             | 6             | rf            |\n",
       "| 177 | 50            |   50          | 0.3           |  1            | 0             | 1.22 ( 0.05 ) | 1 ( 0 )       | 6 ( 0 )       | 0             | NaN           | 1.22          | 1             | 6             | rf            |\n",
       "| 181 | 50            |  100          | 0.3           |  2            | 0             | 1.15 ( 0.05 ) | 1 ( 0 )       | 6 ( 0 )       | 0             | NaN           | 1.15          | 1             | 6             | rf            |\n",
       "| 185 | 50            |  500          | 0.3           | 10            | 0             | 1.14 ( 0.05 ) | 1 ( 0 )       | 6 ( 0 )       | 0             | NaN           | 1.14          | 1             | 6             | rf            |\n",
       "| 189 | 50            | 1000          | 0.3           | 20            | 0             | 1.2 ( 0.05 )  | 1 ( 0 )       | 6 ( 0 )       | 0             | NaN           | 1.20          | 1             | 6             | rf            |\n",
       "| 193 | 50            |   50          | 0.5           |  1            | 0             | 0.99 ( 0.05 ) | 1 ( 0 )       | 6 ( 0 )       | 0             | NaN           | 0.99          | 1             | 6             | rf            |\n",
       "| 197 | 50            |  100          | 0.5           |  2            | 0             | 0.91 ( 0.04 ) | 1 ( 0 )       | 6 ( 0 )       | 0             | NaN           | 0.91          | 1             | 6             | rf            |\n",
       "| 201 | 50            |  500          | 0.5           | 10            | 0             | 0.95 ( 0.04 ) | 1 ( 0 )       | 6 ( 0 )       | 0             | NaN           | 0.95          | 1             | 6             | rf            |\n",
       "| 205 | 50            | 1000          | 0.5           | 20            | 0             | 0.94 ( 0.04 ) | 1 ( 0 )       | 6 ( 0 )       | 0             | NaN           | 0.94          | 1             | 6             | rf            |\n",
       "| 209 | 50            |   50          | 0.7           |  1            | 0             | 0.66 ( 0.03 ) | 1 ( 0 )       | 6 ( 0 )       | 0             | NaN           | 0.66          | 1             | 6             | rf            |\n",
       "| 213 | 50            |  100          | 0.7           |  2            | 0             | 0.67 ( 0.03 ) | 1 ( 0 )       | 6 ( 0 )       | 0             | NaN           | 0.67          | 1             | 6             | rf            |\n",
       "| 217 | 50            |  500          | 0.7           | 10            | 0             | 0.7 ( 0.03 )  | 1 ( 0 )       | 6 ( 0 )       | 0             | NaN           | 0.70          | 1             | 6             | rf            |\n",
       "| 221 | 50            | 1000          | 0.7           | 20            | 0             | 0.74 ( 0.03 ) | 1 ( 0 )       | 6 ( 0 )       | 0             | NaN           | 0.74          | 1             | 6             | rf            |\n",
       "| 225 | 50            |   50          | 0.9           |  1            | 0             | 0.27 ( 0.01 ) | 1 ( 0 )       | 6 ( 0 )       | 0             | NaN           | 0.27          | 1             | 6             | rf            |\n",
       "| 229 | 50            |  100          | 0.9           |  2            | 0             | 0.3 ( 0.01 )  | 1 ( 0 )       | 6 ( 0 )       | 0             | NaN           | 0.30          | 1             | 6             | rf            |\n",
       "| 233 | 50            |  500          | 0.9           | 10            | 0             | 0.29 ( 0.01 ) | 1 ( 0 )       | 6 ( 0 )       | 0             | NaN           | 0.29          | 1             | 6             | rf            |\n",
       "| 237 | 50            | 1000          | 0.9           | 20            | 0             | 0.29 ( 0.01 ) | 1 ( 0 )       | 6 ( 0 )       | 0             | NaN           | 0.29          | 1             | 6             | rf            |\n",
       "\n"
      ],
      "text/plain": [
       "    N  P    Corr Ratio Stab MSE           FP      FN      num_select FDR\n",
       "161 50   50 0.1   1    0    1.4 ( 0.06 )  1 ( 0 ) 6 ( 0 ) 0          NaN\n",
       "165 50  100 0.1   2    0    1.36 ( 0.06 ) 1 ( 0 ) 6 ( 0 ) 0          NaN\n",
       "169 50  500 0.1  10    0    1.29 ( 0.05 ) 1 ( 0 ) 6 ( 0 ) 0          NaN\n",
       "173 50 1000 0.1  20    0    1.35 ( 0.06 ) 1 ( 0 ) 6 ( 0 ) 0          NaN\n",
       "177 50   50 0.3   1    0    1.22 ( 0.05 ) 1 ( 0 ) 6 ( 0 ) 0          NaN\n",
       "181 50  100 0.3   2    0    1.15 ( 0.05 ) 1 ( 0 ) 6 ( 0 ) 0          NaN\n",
       "185 50  500 0.3  10    0    1.14 ( 0.05 ) 1 ( 0 ) 6 ( 0 ) 0          NaN\n",
       "189 50 1000 0.3  20    0    1.2 ( 0.05 )  1 ( 0 ) 6 ( 0 ) 0          NaN\n",
       "193 50   50 0.5   1    0    0.99 ( 0.05 ) 1 ( 0 ) 6 ( 0 ) 0          NaN\n",
       "197 50  100 0.5   2    0    0.91 ( 0.04 ) 1 ( 0 ) 6 ( 0 ) 0          NaN\n",
       "201 50  500 0.5  10    0    0.95 ( 0.04 ) 1 ( 0 ) 6 ( 0 ) 0          NaN\n",
       "205 50 1000 0.5  20    0    0.94 ( 0.04 ) 1 ( 0 ) 6 ( 0 ) 0          NaN\n",
       "209 50   50 0.7   1    0    0.66 ( 0.03 ) 1 ( 0 ) 6 ( 0 ) 0          NaN\n",
       "213 50  100 0.7   2    0    0.67 ( 0.03 ) 1 ( 0 ) 6 ( 0 ) 0          NaN\n",
       "217 50  500 0.7  10    0    0.7 ( 0.03 )  1 ( 0 ) 6 ( 0 ) 0          NaN\n",
       "221 50 1000 0.7  20    0    0.74 ( 0.03 ) 1 ( 0 ) 6 ( 0 ) 0          NaN\n",
       "225 50   50 0.9   1    0    0.27 ( 0.01 ) 1 ( 0 ) 6 ( 0 ) 0          NaN\n",
       "229 50  100 0.9   2    0    0.3 ( 0.01 )  1 ( 0 ) 6 ( 0 ) 0          NaN\n",
       "233 50  500 0.9  10    0    0.29 ( 0.01 ) 1 ( 0 ) 6 ( 0 ) 0          NaN\n",
       "237 50 1000 0.9  20    0    0.29 ( 0.01 ) 1 ( 0 ) 6 ( 0 ) 0          NaN\n",
       "    MSE_mean FP_mean FN_mean method\n",
       "161 1.40     1       6       rf    \n",
       "165 1.36     1       6       rf    \n",
       "169 1.29     1       6       rf    \n",
       "173 1.35     1       6       rf    \n",
       "177 1.22     1       6       rf    \n",
       "181 1.15     1       6       rf    \n",
       "185 1.14     1       6       rf    \n",
       "189 1.20     1       6       rf    \n",
       "193 0.99     1       6       rf    \n",
       "197 0.91     1       6       rf    \n",
       "201 0.95     1       6       rf    \n",
       "205 0.94     1       6       rf    \n",
       "209 0.66     1       6       rf    \n",
       "213 0.67     1       6       rf    \n",
       "217 0.70     1       6       rf    \n",
       "221 0.74     1       6       rf    \n",
       "225 0.27     1       6       rf    \n",
       "229 0.30     1       6       rf    \n",
       "233 0.29     1       6       rf    \n",
       "237 0.29     1       6       rf    "
      ]
     },
     "metadata": {},
     "output_type": "display_data"
    }
   ],
   "source": [
    "toe[toe$num_select == 0, ]"
   ]
  },
  {
   "cell_type": "code",
   "execution_count": 6,
   "metadata": {},
   "outputs": [],
   "source": [
    "# fix false positives: when nothing was selected, then fp should be zero\n",
    "# fp is now 1 due to length(setdiff(0/NA)) = 1 when actually should be 0 (in cv_sim_apply.R)\n",
    "toe$FP_mean[toe$num_select ==0] = 0\n",
    "write.table(toe, '../results_summary_cts/table_toe_all.txt', sep='\\t', row.names=F)"
   ]
  },
  {
   "cell_type": "markdown",
   "metadata": {},
   "source": [
    "### 3. Block Design"
   ]
  },
  {
   "cell_type": "code",
   "execution_count": 7,
   "metadata": {},
   "outputs": [],
   "source": [
    "block_lasso = read.csv('../results_summary_cts/sim_block_lasso.txt', sep='\\t')\n",
    "block_elnet = read.csv('../results_summary_cts/sim_block_elnet.txt', sep='\\t')\n",
    "block_rf = read.csv('../results_summary_cts/sim_block_rf.txt', sep='\\t')\n",
    "block_compLasso = read.csv('../results_summary_cts/sim_block_compLasso.txt', sep='\\t')\n",
    "\n",
    "block_lasso$method = rep('lasso', dim(block_lasso)[1])\n",
    "block_elnet$method = rep('elnet', dim(block_elnet)[1])\n",
    "block_rf$method = rep('rf', dim(block_rf)[1])\n",
    "block_compLasso$method = rep('compLasso', dim(block_compLasso)[1])"
   ]
  },
  {
   "cell_type": "code",
   "execution_count": 8,
   "metadata": {},
   "outputs": [
    {
     "data": {
      "text/html": [
       "<ol class=list-inline>\n",
       "\t<li>80</li>\n",
       "\t<li>14</li>\n",
       "</ol>\n"
      ],
      "text/latex": [
       "\\begin{enumerate*}\n",
       "\\item 80\n",
       "\\item 14\n",
       "\\end{enumerate*}\n"
      ],
      "text/markdown": [
       "1. 80\n",
       "2. 14\n",
       "\n",
       "\n"
      ],
      "text/plain": [
       "[1] 80 14"
      ]
     },
     "metadata": {},
     "output_type": "display_data"
    },
    {
     "data": {
      "text/html": [
       "<ol class=list-inline>\n",
       "\t<li>80</li>\n",
       "\t<li>14</li>\n",
       "</ol>\n"
      ],
      "text/latex": [
       "\\begin{enumerate*}\n",
       "\\item 80\n",
       "\\item 14\n",
       "\\end{enumerate*}\n"
      ],
      "text/markdown": [
       "1. 80\n",
       "2. 14\n",
       "\n",
       "\n"
      ],
      "text/plain": [
       "[1] 80 14"
      ]
     },
     "metadata": {},
     "output_type": "display_data"
    },
    {
     "data": {
      "text/html": [
       "<ol class=list-inline>\n",
       "\t<li>80</li>\n",
       "\t<li>16</li>\n",
       "</ol>\n"
      ],
      "text/latex": [
       "\\begin{enumerate*}\n",
       "\\item 80\n",
       "\\item 16\n",
       "\\end{enumerate*}\n"
      ],
      "text/markdown": [
       "1. 80\n",
       "2. 16\n",
       "\n",
       "\n"
      ],
      "text/plain": [
       "[1] 80 16"
      ]
     },
     "metadata": {},
     "output_type": "display_data"
    },
    {
     "data": {
      "text/html": [
       "<ol class=list-inline>\n",
       "\t<li>80</li>\n",
       "\t<li>14</li>\n",
       "</ol>\n"
      ],
      "text/latex": [
       "\\begin{enumerate*}\n",
       "\\item 80\n",
       "\\item 14\n",
       "\\end{enumerate*}\n"
      ],
      "text/markdown": [
       "1. 80\n",
       "2. 14\n",
       "\n",
       "\n"
      ],
      "text/plain": [
       "[1] 80 14"
      ]
     },
     "metadata": {},
     "output_type": "display_data"
    }
   ],
   "source": [
    "dim(block_lasso)\n",
    "dim(block_elnet)\n",
    "dim(block_rf)\n",
    "dim(block_compLasso)"
   ]
  },
  {
   "cell_type": "code",
   "execution_count": 9,
   "metadata": {},
   "outputs": [
    {
     "data": {
      "text/html": [
       "<ol class=list-inline>\n",
       "\t<li>80</li>\n",
       "\t<li>14</li>\n",
       "</ol>\n"
      ],
      "text/latex": [
       "\\begin{enumerate*}\n",
       "\\item 80\n",
       "\\item 14\n",
       "\\end{enumerate*}\n"
      ],
      "text/markdown": [
       "1. 80\n",
       "2. 14\n",
       "\n",
       "\n"
      ],
      "text/plain": [
       "[1] 80 14"
      ]
     },
     "metadata": {},
     "output_type": "display_data"
    }
   ],
   "source": [
    "block_rf = block_rf[!names(block_rf)%in% c('OOB', 'OOB_mean', 'blockex')]\n",
    "dim(block_rf)"
   ]
  },
  {
   "cell_type": "code",
   "execution_count": 10,
   "metadata": {},
   "outputs": [
    {
     "data": {
      "text/html": [
       "<ol class=list-inline>\n",
       "\t<li>320</li>\n",
       "\t<li>14</li>\n",
       "</ol>\n"
      ],
      "text/latex": [
       "\\begin{enumerate*}\n",
       "\\item 320\n",
       "\\item 14\n",
       "\\end{enumerate*}\n"
      ],
      "text/markdown": [
       "1. 320\n",
       "2. 14\n",
       "\n",
       "\n"
      ],
      "text/plain": [
       "[1] 320  14"
      ]
     },
     "metadata": {},
     "output_type": "display_data"
    }
   ],
   "source": [
    "block = rbind(block_lasso, block_elnet)\n",
    "block = rbind(block, block_rf)\n",
    "block = rbind(block, block_compLasso)\n",
    "dim(block)"
   ]
  },
  {
   "cell_type": "code",
   "execution_count": 11,
   "metadata": {},
   "outputs": [],
   "source": [
    "# fix false positives: when nothing was selected, then fp should be zero\n",
    "# fp is now 1 due to length(setdiff(0/NA)) = 1 when actually should be 0 (in cv_sim_apply.R)\n",
    "block$FP_mean[block$num_select ==0] = 0\n",
    "write.table(block, '../results_summary_cts/table_block_all.txt', sep='\\t', row.names=F)"
   ]
  }
 ],
 "metadata": {
  "kernelspec": {
   "display_name": "R",
   "language": "R",
   "name": "ir"
  },
  "language_info": {
   "codemirror_mode": "r",
   "file_extension": ".r",
   "mimetype": "text/x-r-source",
   "name": "R",
   "pygments_lexer": "r",
   "version": "3.6.1"
  }
 },
 "nbformat": 4,
 "nbformat_minor": 2
}
