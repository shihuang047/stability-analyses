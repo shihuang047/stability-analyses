{
 "cells": [
  {
   "cell_type": "code",
   "execution_count": 1,
   "metadata": {},
   "outputs": [],
   "source": [
    "load('../sim_data/block_Elnet.RData')"
   ]
  },
  {
   "cell_type": "code",
   "execution_count": 2,
   "metadata": {},
   "outputs": [],
   "source": [
    "dir = '../sim_data'\n",
    "dim.list = list()\n",
    "size = c(50, 100, 500, 1000)\n",
    "idx = 0\n",
    "for (P in size){\n",
    "    for (N in size){\n",
    "        idx = idx + 1\n",
    "        dim.list[[idx]] = c(P=P, N=N)\n",
    "    }\n",
    "}\n",
    "\n",
    "rou.list = seq(0.1, 0.9, 0.2)\n",
    "\n",
    "files = NULL\n",
    "for (rou in rou.list){\n",
    "  for (dim in dim.list){\n",
    "    p = dim[1]\n",
    "    n = dim[2]\n",
    "    files = cbind(files, paste0(dir, '/sim_block_corr', rou, paste('P', p, 'N', n, sep='_'), '.RData', sep=''))\n",
    "  }\n",
    "}"
   ]
  },
  {
   "cell_type": "code",
   "execution_count": 3,
   "metadata": {},
   "outputs": [],
   "source": [
    "avg_FDR = NULL\n",
    "for (i in 1:length(files)){\n",
    "    sim_file = files[i]\n",
    "    load(sim_file, dat <- new.env())\n",
    "    sub = dat$sim_array[[i]]\n",
    "    p = sub$p # take true values from 1st replicate of each simulated data\n",
    "    coef = sub$beta\n",
    "    coef.true = which(coef != 0)\n",
    "    \n",
    "    tt = results_block_elnet[[i]]$Stab.table\n",
    "    \n",
    "    FDR = NULL\n",
    "    for (r in 1:nrow(tt)){\n",
    "        FDR = c(FDR, length(setdiff(which(tt[r, ] !=0), coef.true))/sum(tt[r, ]))\n",
    "\n",
    "    }\n",
    "    \n",
    "    avg_FDR = c(avg_FDR, mean(FDR, na.rm=T))\n",
    "}"
   ]
  },
  {
   "cell_type": "code",
   "execution_count": 4,
   "metadata": {},
   "outputs": [],
   "source": [
    "table_block = NULL\n",
    "tmp_num_select = rep(0, length(results_block_elnet))\n",
    "for (i in 1:length(results_block_elnet)){\n",
    "    table_block = rbind(table_block, results_block_elnet[[i]][c('n', 'p', 'rou', 'FP', 'FN', 'MSE', 'Stab')])\n",
    "    tmp_num_select[i] = mean(rowSums(results_block_elnet[[i]]$Stab.table))\n",
    "    \n",
    "}\n",
    "table_block = as.data.frame(table_block)\n",
    "table_block$num_select = tmp_num_select\n",
    "table_block$FDR = round(avg_FDR,2)"
   ]
  },
  {
   "cell_type": "code",
   "execution_count": 6,
   "metadata": {},
   "outputs": [
    {
     "data": {
      "text/html": [
       "<table>\n",
       "<thead><tr><th scope=col>n</th><th scope=col>p</th><th scope=col>rou</th><th scope=col>FP</th><th scope=col>FN</th><th scope=col>MSE</th><th scope=col>Stab</th><th scope=col>num_select</th><th scope=col>FDR</th></tr></thead>\n",
       "<tbody>\n",
       "\t<tr><td>50           </td><td>50           </td><td>0.1          </td><td>10.9 ( 0.97 )</td><td>3.91 ( 0.15 )</td><td>0.38 ( 0.02 )</td><td>0.02         </td><td>11.99        </td><td>0.77         </td></tr>\n",
       "\t<tr><td>100           </td><td>50            </td><td>0.1           </td><td>13.39 ( 1.06 )</td><td>2.45 ( 0.16 ) </td><td>0.34 ( 0.01 ) </td><td>0.06          </td><td>15.94         </td><td>0.68          </td></tr>\n",
       "\t<tr><td>500           </td><td>50            </td><td>0.1           </td><td>19.21 ( 0.81 )</td><td>0.14 ( 0.04 ) </td><td>0.27 ( 0 )    </td><td>0.13          </td><td>24.07         </td><td>0.73          </td></tr>\n",
       "\t<tr><td>1000          </td><td>50            </td><td>0.1           </td><td>18.76 ( 0.63 )</td><td>0.02 ( 0.01 ) </td><td>0.26 ( 0 )    </td><td>0.15          </td><td>23.74         </td><td>0.73          </td></tr>\n",
       "\t<tr><td>50           </td><td>100          </td><td>0.1          </td><td>9.27 ( 0.76 )</td><td>4.63 ( 0.09 )</td><td>0.41 ( 0.02 )</td><td>0.03         </td><td> 9.64        </td><td>0.82         </td></tr>\n",
       "\t<tr><td>100          </td><td>100          </td><td>0.1          </td><td>10.1 ( 1.04 )</td><td>3.87 ( 0.13 )</td><td>0.34 ( 0.01 )</td><td>0.07         </td><td>11.23        </td><td>0.70         </td></tr>\n",
       "</tbody>\n",
       "</table>\n"
      ],
      "text/latex": [
       "\\begin{tabular}{r|lllllllll}\n",
       " n & p & rou & FP & FN & MSE & Stab & num\\_select & FDR\\\\\n",
       "\\hline\n",
       "\t 50            & 50            & 0.1           & 10.9 ( 0.97 ) & 3.91 ( 0.15 ) & 0.38 ( 0.02 ) & 0.02          & 11.99         & 0.77         \\\\\n",
       "\t 100            & 50             & 0.1            & 13.39 ( 1.06 ) & 2.45 ( 0.16 )  & 0.34 ( 0.01 )  & 0.06           & 15.94          & 0.68          \\\\\n",
       "\t 500            & 50             & 0.1            & 19.21 ( 0.81 ) & 0.14 ( 0.04 )  & 0.27 ( 0 )     & 0.13           & 24.07          & 0.73          \\\\\n",
       "\t 1000           & 50             & 0.1            & 18.76 ( 0.63 ) & 0.02 ( 0.01 )  & 0.26 ( 0 )     & 0.15           & 23.74          & 0.73          \\\\\n",
       "\t 50            & 100           & 0.1           & 9.27 ( 0.76 ) & 4.63 ( 0.09 ) & 0.41 ( 0.02 ) & 0.03          &  9.64         & 0.82         \\\\\n",
       "\t 100           & 100           & 0.1           & 10.1 ( 1.04 ) & 3.87 ( 0.13 ) & 0.34 ( 0.01 ) & 0.07          & 11.23         & 0.70         \\\\\n",
       "\\end{tabular}\n"
      ],
      "text/markdown": [
       "\n",
       "| n | p | rou | FP | FN | MSE | Stab | num_select | FDR |\n",
       "|---|---|---|---|---|---|---|---|---|\n",
       "| 50            | 50            | 0.1           | 10.9 ( 0.97 ) | 3.91 ( 0.15 ) | 0.38 ( 0.02 ) | 0.02          | 11.99         | 0.77          |\n",
       "| 100            | 50             | 0.1            | 13.39 ( 1.06 ) | 2.45 ( 0.16 )  | 0.34 ( 0.01 )  | 0.06           | 15.94          | 0.68           |\n",
       "| 500            | 50             | 0.1            | 19.21 ( 0.81 ) | 0.14 ( 0.04 )  | 0.27 ( 0 )     | 0.13           | 24.07          | 0.73           |\n",
       "| 1000           | 50             | 0.1            | 18.76 ( 0.63 ) | 0.02 ( 0.01 )  | 0.26 ( 0 )     | 0.15           | 23.74          | 0.73           |\n",
       "| 50            | 100           | 0.1           | 9.27 ( 0.76 ) | 4.63 ( 0.09 ) | 0.41 ( 0.02 ) | 0.03          |  9.64         | 0.82          |\n",
       "| 100           | 100           | 0.1           | 10.1 ( 1.04 ) | 3.87 ( 0.13 ) | 0.34 ( 0.01 ) | 0.07          | 11.23         | 0.70          |\n",
       "\n"
      ],
      "text/plain": [
       "  n    p   rou FP             FN            MSE           Stab num_select FDR \n",
       "1 50   50  0.1 10.9 ( 0.97 )  3.91 ( 0.15 ) 0.38 ( 0.02 ) 0.02 11.99      0.77\n",
       "2 100  50  0.1 13.39 ( 1.06 ) 2.45 ( 0.16 ) 0.34 ( 0.01 ) 0.06 15.94      0.68\n",
       "3 500  50  0.1 19.21 ( 0.81 ) 0.14 ( 0.04 ) 0.27 ( 0 )    0.13 24.07      0.73\n",
       "4 1000 50  0.1 18.76 ( 0.63 ) 0.02 ( 0.01 ) 0.26 ( 0 )    0.15 23.74      0.73\n",
       "5 50   100 0.1 9.27 ( 0.76 )  4.63 ( 0.09 ) 0.41 ( 0.02 ) 0.03  9.64      0.82\n",
       "6 100  100 0.1 10.1 ( 1.04 )  3.87 ( 0.13 ) 0.34 ( 0.01 ) 0.07 11.23      0.70"
      ]
     },
     "metadata": {},
     "output_type": "display_data"
    }
   ],
   "source": [
    "head(table_block)"
   ]
  },
  {
   "cell_type": "code",
   "execution_count": 7,
   "metadata": {},
   "outputs": [
    {
     "name": "stderr",
     "output_type": "stream",
     "text": [
      "extract_numeric() is deprecated: please use readr::parse_number() instead\n",
      "extract_numeric() is deprecated: please use readr::parse_number() instead\n"
     ]
    }
   ],
   "source": [
    "# export result\n",
    "result.table_block <- apply(table_block,2,as.character)\n",
    "rownames(result.table_block) = rownames(table_block)\n",
    "result.table_block = as.data.frame(result.table_block)\n",
    "\n",
    "# extract numbers only for 'n' & 'p'\n",
    "result.table_block$n = tidyr::extract_numeric(result.table_block$n)\n",
    "result.table_block$p = tidyr::extract_numeric(result.table_block$p)\n",
    "result.table_block$ratio = result.table_block$p / result.table_block$n\n",
    "\n",
    "result.table_block = result.table_block[c('n', 'p', 'rou', 'ratio', 'Stab', 'MSE', 'FP', 'FN', 'num_select', 'FDR')]\n",
    "colnames(result.table_block)[1:4] = c('N', 'P', 'Corr', 'Ratio')"
   ]
  },
  {
   "cell_type": "code",
   "execution_count": 8,
   "metadata": {},
   "outputs": [
    {
     "name": "stderr",
     "output_type": "stream",
     "text": [
      "Warning message in eval(expr, envir, enclos):\n",
      "“NAs introduced by coercion”Warning message in eval(expr, envir, enclos):\n",
      "“NAs introduced by coercion”"
     ]
    }
   ],
   "source": [
    "# convert interested measurements to be numeric\n",
    "result.table_block$Stab = as.numeric(as.character(result.table_block$Stab))\n",
    "result.table_block$MSE_mean = as.numeric(substr(result.table_block$MSE, start=1, stop=4))\n",
    "result.table_block$FP_mean = as.numeric(substr(result.table_block$FP, start=1, stop=4))\n",
    "result.table_block$FN_mean = as.numeric(substr(result.table_block$FN, start=1, stop=4))\n",
    "result.table_block$FN_mean[is.na(result.table_block$FN_mean)] = 0\n",
    "result.table_block$num_select = as.numeric(as.character(result.table_block$num_select))"
   ]
  },
  {
   "cell_type": "code",
   "execution_count": 9,
   "metadata": {},
   "outputs": [
    {
     "data": {
      "text/html": [
       "<table>\n",
       "<thead><tr><th></th><th scope=col>N</th><th scope=col>P</th><th scope=col>Corr</th><th scope=col>Ratio</th><th scope=col>Stab</th><th scope=col>MSE</th><th scope=col>FP</th><th scope=col>FN</th><th scope=col>num_select</th><th scope=col>FDR</th><th scope=col>MSE_mean</th><th scope=col>FP_mean</th><th scope=col>FN_mean</th></tr></thead>\n",
       "<tbody>\n",
       "\t<tr><th scope=row>45</th><td>50            </td><td>1000          </td><td>0.5           </td><td>20            </td><td>0.04          </td><td>2 ( 0.1 )     </td><td>52.83 ( 3.84 )</td><td>2.29 ( 0.1 )  </td><td>55.54         </td><td>0.91          </td><td>NA            </td><td>52.8          </td><td>2.29          </td></tr>\n",
       "</tbody>\n",
       "</table>\n"
      ],
      "text/latex": [
       "\\begin{tabular}{r|lllllllllllll}\n",
       "  & N & P & Corr & Ratio & Stab & MSE & FP & FN & num\\_select & FDR & MSE\\_mean & FP\\_mean & FN\\_mean\\\\\n",
       "\\hline\n",
       "\t45 & 50             & 1000           & 0.5            & 20             & 0.04           & 2 ( 0.1 )      & 52.83 ( 3.84 ) & 2.29 ( 0.1 )   & 55.54          & 0.91           & NA             & 52.8           & 2.29          \\\\\n",
       "\\end{tabular}\n"
      ],
      "text/markdown": [
       "\n",
       "| <!--/--> | N | P | Corr | Ratio | Stab | MSE | FP | FN | num_select | FDR | MSE_mean | FP_mean | FN_mean |\n",
       "|---|---|---|---|---|---|---|---|---|---|---|---|---|---|\n",
       "| 45 | 50             | 1000           | 0.5            | 20             | 0.04           | 2 ( 0.1 )      | 52.83 ( 3.84 ) | 2.29 ( 0.1 )   | 55.54          | 0.91           | NA             | 52.8           | 2.29           |\n",
       "\n"
      ],
      "text/plain": [
       "   N  P    Corr Ratio Stab MSE       FP             FN           num_select\n",
       "45 50 1000 0.5  20    0.04 2 ( 0.1 ) 52.83 ( 3.84 ) 2.29 ( 0.1 ) 55.54     \n",
       "   FDR  MSE_mean FP_mean FN_mean\n",
       "45 0.91 NA       52.8    2.29   "
      ]
     },
     "metadata": {},
     "output_type": "display_data"
    }
   ],
   "source": [
    "# check whether missing values exists\n",
    "result.table_block[rowSums(is.na(result.table_block)) > 0,]"
   ]
  },
  {
   "cell_type": "code",
   "execution_count": 10,
   "metadata": {},
   "outputs": [],
   "source": [
    "# recover values\n",
    "result.table_block$MSE_mean[45] = 2"
   ]
  },
  {
   "cell_type": "code",
   "execution_count": 11,
   "metadata": {},
   "outputs": [
    {
     "data": {
      "text/html": [
       "<table>\n",
       "<thead><tr><th></th><th scope=col>N</th><th scope=col>P</th><th scope=col>Corr</th><th scope=col>Ratio</th><th scope=col>Stab</th><th scope=col>MSE</th><th scope=col>FP</th><th scope=col>FN</th><th scope=col>num_select</th><th scope=col>FDR</th><th scope=col>MSE_mean</th><th scope=col>FP_mean</th><th scope=col>FN_mean</th></tr></thead>\n",
       "<tbody>\n",
       "\t<tr><th scope=row>45</th><td>50            </td><td>1000          </td><td>0.5           </td><td>20            </td><td>0.04          </td><td>2 ( 0.1 )     </td><td>52.83 ( 3.84 )</td><td>2.29 ( 0.1 )  </td><td>55.54         </td><td>0.91          </td><td>2             </td><td>52.8          </td><td>2.29          </td></tr>\n",
       "</tbody>\n",
       "</table>\n"
      ],
      "text/latex": [
       "\\begin{tabular}{r|lllllllllllll}\n",
       "  & N & P & Corr & Ratio & Stab & MSE & FP & FN & num\\_select & FDR & MSE\\_mean & FP\\_mean & FN\\_mean\\\\\n",
       "\\hline\n",
       "\t45 & 50             & 1000           & 0.5            & 20             & 0.04           & 2 ( 0.1 )      & 52.83 ( 3.84 ) & 2.29 ( 0.1 )   & 55.54          & 0.91           & 2              & 52.8           & 2.29          \\\\\n",
       "\\end{tabular}\n"
      ],
      "text/markdown": [
       "\n",
       "| <!--/--> | N | P | Corr | Ratio | Stab | MSE | FP | FN | num_select | FDR | MSE_mean | FP_mean | FN_mean |\n",
       "|---|---|---|---|---|---|---|---|---|---|---|---|---|---|\n",
       "| 45 | 50             | 1000           | 0.5            | 20             | 0.04           | 2 ( 0.1 )      | 52.83 ( 3.84 ) | 2.29 ( 0.1 )   | 55.54          | 0.91           | 2              | 52.8           | 2.29           |\n",
       "\n"
      ],
      "text/plain": [
       "   N  P    Corr Ratio Stab MSE       FP             FN           num_select\n",
       "45 50 1000 0.5  20    0.04 2 ( 0.1 ) 52.83 ( 3.84 ) 2.29 ( 0.1 ) 55.54     \n",
       "   FDR  MSE_mean FP_mean FN_mean\n",
       "45 0.91 2        52.8    2.29   "
      ]
     },
     "metadata": {},
     "output_type": "display_data"
    }
   ],
   "source": [
    "result.table_block[45, ]"
   ]
  },
  {
   "cell_type": "code",
   "execution_count": 12,
   "metadata": {},
   "outputs": [
    {
     "data": {
      "text/html": [
       "<table>\n",
       "<thead><tr><th scope=col>N</th><th scope=col>P</th><th scope=col>Corr</th><th scope=col>Ratio</th><th scope=col>Stab</th><th scope=col>MSE</th><th scope=col>FP</th><th scope=col>FN</th><th scope=col>num_select</th><th scope=col>FDR</th><th scope=col>MSE_mean</th><th scope=col>FP_mean</th><th scope=col>FN_mean</th></tr></thead>\n",
       "<tbody>\n",
       "\t<tr><td>  50          </td><td> 50           </td><td>0.1           </td><td>1.00          </td><td>0.02          </td><td>0.38 ( 0.02 ) </td><td>10.9 ( 0.97 ) </td><td>3.91 ( 0.15 ) </td><td>11.99         </td><td>0.77          </td><td>0.38          </td><td>10.90         </td><td>3.91          </td></tr>\n",
       "\t<tr><td> 100          </td><td> 50           </td><td>0.1           </td><td>0.50          </td><td>0.06          </td><td>0.34 ( 0.01 ) </td><td>13.39 ( 1.06 )</td><td>2.45 ( 0.16 ) </td><td>15.94         </td><td>0.68          </td><td>0.34          </td><td>13.30         </td><td>2.45          </td></tr>\n",
       "\t<tr><td> 500          </td><td> 50           </td><td>0.1           </td><td>0.10          </td><td>0.13          </td><td>0.27 ( 0 )    </td><td>19.21 ( 0.81 )</td><td>0.14 ( 0.04 ) </td><td>24.07         </td><td>0.73          </td><td>0.27          </td><td>19.20         </td><td>0.14          </td></tr>\n",
       "\t<tr><td>1000          </td><td> 50           </td><td>0.1           </td><td>0.05          </td><td>0.15          </td><td>0.26 ( 0 )    </td><td>18.76 ( 0.63 )</td><td>0.02 ( 0.01 ) </td><td>23.74         </td><td>0.73          </td><td>0.26          </td><td>18.70         </td><td>0.02          </td></tr>\n",
       "\t<tr><td>  50          </td><td>100           </td><td>0.1           </td><td>2.00          </td><td>0.03          </td><td>0.41 ( 0.02 ) </td><td>9.27 ( 0.76 ) </td><td>4.63 ( 0.09 ) </td><td> 9.64         </td><td>0.82          </td><td>0.41          </td><td> 9.27         </td><td>4.63          </td></tr>\n",
       "\t<tr><td> 100          </td><td>100           </td><td>0.1           </td><td>1.00          </td><td>0.07          </td><td>0.34 ( 0.01 ) </td><td>10.1 ( 1.04 ) </td><td>3.87 ( 0.13 ) </td><td>11.23         </td><td>0.7           </td><td>0.34          </td><td>10.10         </td><td>3.87          </td></tr>\n",
       "</tbody>\n",
       "</table>\n"
      ],
      "text/latex": [
       "\\begin{tabular}{r|lllllllllllll}\n",
       " N & P & Corr & Ratio & Stab & MSE & FP & FN & num\\_select & FDR & MSE\\_mean & FP\\_mean & FN\\_mean\\\\\n",
       "\\hline\n",
       "\t   50           &  50            & 0.1            & 1.00           & 0.02           & 0.38 ( 0.02 )  & 10.9 ( 0.97 )  & 3.91 ( 0.15 )  & 11.99          & 0.77           & 0.38           & 10.90          & 3.91          \\\\\n",
       "\t  100           &  50            & 0.1            & 0.50           & 0.06           & 0.34 ( 0.01 )  & 13.39 ( 1.06 ) & 2.45 ( 0.16 )  & 15.94          & 0.68           & 0.34           & 13.30          & 2.45          \\\\\n",
       "\t  500           &  50            & 0.1            & 0.10           & 0.13           & 0.27 ( 0 )     & 19.21 ( 0.81 ) & 0.14 ( 0.04 )  & 24.07          & 0.73           & 0.27           & 19.20          & 0.14          \\\\\n",
       "\t 1000           &  50            & 0.1            & 0.05           & 0.15           & 0.26 ( 0 )     & 18.76 ( 0.63 ) & 0.02 ( 0.01 )  & 23.74          & 0.73           & 0.26           & 18.70          & 0.02          \\\\\n",
       "\t   50           & 100            & 0.1            & 2.00           & 0.03           & 0.41 ( 0.02 )  & 9.27 ( 0.76 )  & 4.63 ( 0.09 )  &  9.64          & 0.82           & 0.41           &  9.27          & 4.63          \\\\\n",
       "\t  100           & 100            & 0.1            & 1.00           & 0.07           & 0.34 ( 0.01 )  & 10.1 ( 1.04 )  & 3.87 ( 0.13 )  & 11.23          & 0.7            & 0.34           & 10.10          & 3.87          \\\\\n",
       "\\end{tabular}\n"
      ],
      "text/markdown": [
       "\n",
       "| N | P | Corr | Ratio | Stab | MSE | FP | FN | num_select | FDR | MSE_mean | FP_mean | FN_mean |\n",
       "|---|---|---|---|---|---|---|---|---|---|---|---|---|\n",
       "|   50           |  50            | 0.1            | 1.00           | 0.02           | 0.38 ( 0.02 )  | 10.9 ( 0.97 )  | 3.91 ( 0.15 )  | 11.99          | 0.77           | 0.38           | 10.90          | 3.91           |\n",
       "|  100           |  50            | 0.1            | 0.50           | 0.06           | 0.34 ( 0.01 )  | 13.39 ( 1.06 ) | 2.45 ( 0.16 )  | 15.94          | 0.68           | 0.34           | 13.30          | 2.45           |\n",
       "|  500           |  50            | 0.1            | 0.10           | 0.13           | 0.27 ( 0 )     | 19.21 ( 0.81 ) | 0.14 ( 0.04 )  | 24.07          | 0.73           | 0.27           | 19.20          | 0.14           |\n",
       "| 1000           |  50            | 0.1            | 0.05           | 0.15           | 0.26 ( 0 )     | 18.76 ( 0.63 ) | 0.02 ( 0.01 )  | 23.74          | 0.73           | 0.26           | 18.70          | 0.02           |\n",
       "|   50           | 100            | 0.1            | 2.00           | 0.03           | 0.41 ( 0.02 )  | 9.27 ( 0.76 )  | 4.63 ( 0.09 )  |  9.64          | 0.82           | 0.41           |  9.27          | 4.63           |\n",
       "|  100           | 100            | 0.1            | 1.00           | 0.07           | 0.34 ( 0.01 )  | 10.1 ( 1.04 )  | 3.87 ( 0.13 )  | 11.23          | 0.7            | 0.34           | 10.10          | 3.87           |\n",
       "\n"
      ],
      "text/plain": [
       "  N    P   Corr Ratio Stab MSE           FP             FN           \n",
       "1   50  50 0.1  1.00  0.02 0.38 ( 0.02 ) 10.9 ( 0.97 )  3.91 ( 0.15 )\n",
       "2  100  50 0.1  0.50  0.06 0.34 ( 0.01 ) 13.39 ( 1.06 ) 2.45 ( 0.16 )\n",
       "3  500  50 0.1  0.10  0.13 0.27 ( 0 )    19.21 ( 0.81 ) 0.14 ( 0.04 )\n",
       "4 1000  50 0.1  0.05  0.15 0.26 ( 0 )    18.76 ( 0.63 ) 0.02 ( 0.01 )\n",
       "5   50 100 0.1  2.00  0.03 0.41 ( 0.02 ) 9.27 ( 0.76 )  4.63 ( 0.09 )\n",
       "6  100 100 0.1  1.00  0.07 0.34 ( 0.01 ) 10.1 ( 1.04 )  3.87 ( 0.13 )\n",
       "  num_select FDR  MSE_mean FP_mean FN_mean\n",
       "1 11.99      0.77 0.38     10.90   3.91   \n",
       "2 15.94      0.68 0.34     13.30   2.45   \n",
       "3 24.07      0.73 0.27     19.20   0.14   \n",
       "4 23.74      0.73 0.26     18.70   0.02   \n",
       "5  9.64      0.82 0.41      9.27   4.63   \n",
       "6 11.23      0.7  0.34     10.10   3.87   "
      ]
     },
     "metadata": {},
     "output_type": "display_data"
    }
   ],
   "source": [
    "head(result.table_block)"
   ]
  },
  {
   "cell_type": "code",
   "execution_count": 13,
   "metadata": {},
   "outputs": [
    {
     "data": {
      "text/html": [
       "<table>\n",
       "<thead><tr><th></th><th scope=col>N</th><th scope=col>P</th><th scope=col>Corr</th><th scope=col>Ratio</th><th scope=col>Stab</th><th scope=col>MSE</th><th scope=col>FP</th><th scope=col>FN</th><th scope=col>num_select</th><th scope=col>FDR</th><th scope=col>MSE_mean</th><th scope=col>FP_mean</th><th scope=col>FN_mean</th></tr></thead>\n",
       "<tbody>\n",
       "\t<tr><th scope=row>75</th><td> 500          </td><td> 500          </td><td>0.9           </td><td> 1.0          </td><td>0.15          </td><td>0.28 ( 0 )    </td><td>32.6 ( 1.76 ) </td><td>0 ( 0 )       </td><td>37.60         </td><td>0.81          </td><td>0.28          </td><td>32.6          </td><td>0.00          </td></tr>\n",
       "\t<tr><th scope=row>76</th><td>1000          </td><td> 500          </td><td>0.9           </td><td> 0.5          </td><td>0.16          </td><td>0.26 ( 0 )    </td><td>30.4 ( 1.66 ) </td><td>0 ( 0 )       </td><td>35.40         </td><td>0.79          </td><td>0.26          </td><td>30.4          </td><td>0.00          </td></tr>\n",
       "\t<tr><th scope=row>77</th><td>  50          </td><td>1000          </td><td>0.9           </td><td>20.0          </td><td>0.07          </td><td>3.06 ( 0.18 ) </td><td>43.09 ( 2.82 )</td><td>1.57 ( 0.1 )  </td><td>46.52         </td><td>0.88          </td><td>3.06          </td><td>43.0          </td><td>1.57          </td></tr>\n",
       "\t<tr><th scope=row>78</th><td> 100          </td><td>1000          </td><td>0.9           </td><td>10.0          </td><td>0.12          </td><td>0.59 ( 0.03 ) </td><td>43.91 ( 1.31 )</td><td>0 ( 0 )       </td><td>48.91         </td><td>0.87          </td><td>0.59          </td><td>43.9          </td><td>0.00          </td></tr>\n",
       "\t<tr><th scope=row>79</th><td> 500          </td><td>1000          </td><td>0.9           </td><td> 2.0          </td><td>0.12          </td><td>0.29 ( 0 )    </td><td>41.57 ( 2.28 )</td><td>0 ( 0 )       </td><td>46.57         </td><td>0.84          </td><td>0.29          </td><td>41.5          </td><td>0.00          </td></tr>\n",
       "\t<tr><th scope=row>80</th><td>1000          </td><td>1000          </td><td>0.9           </td><td> 1.0          </td><td>0.13          </td><td>0.27 ( 0 )    </td><td>38.76 ( 2.16 )</td><td>0 ( 0 )       </td><td>43.76         </td><td>0.82          </td><td>0.27          </td><td>38.7          </td><td>0.00          </td></tr>\n",
       "</tbody>\n",
       "</table>\n"
      ],
      "text/latex": [
       "\\begin{tabular}{r|lllllllllllll}\n",
       "  & N & P & Corr & Ratio & Stab & MSE & FP & FN & num\\_select & FDR & MSE\\_mean & FP\\_mean & FN\\_mean\\\\\n",
       "\\hline\n",
       "\t75 &  500           &  500           & 0.9            &  1.0           & 0.15           & 0.28 ( 0 )     & 32.6 ( 1.76 )  & 0 ( 0 )        & 37.60          & 0.81           & 0.28           & 32.6           & 0.00          \\\\\n",
       "\t76 & 1000           &  500           & 0.9            &  0.5           & 0.16           & 0.26 ( 0 )     & 30.4 ( 1.66 )  & 0 ( 0 )        & 35.40          & 0.79           & 0.26           & 30.4           & 0.00          \\\\\n",
       "\t77 &   50           & 1000           & 0.9            & 20.0           & 0.07           & 3.06 ( 0.18 )  & 43.09 ( 2.82 ) & 1.57 ( 0.1 )   & 46.52          & 0.88           & 3.06           & 43.0           & 1.57          \\\\\n",
       "\t78 &  100           & 1000           & 0.9            & 10.0           & 0.12           & 0.59 ( 0.03 )  & 43.91 ( 1.31 ) & 0 ( 0 )        & 48.91          & 0.87           & 0.59           & 43.9           & 0.00          \\\\\n",
       "\t79 &  500           & 1000           & 0.9            &  2.0           & 0.12           & 0.29 ( 0 )     & 41.57 ( 2.28 ) & 0 ( 0 )        & 46.57          & 0.84           & 0.29           & 41.5           & 0.00          \\\\\n",
       "\t80 & 1000           & 1000           & 0.9            &  1.0           & 0.13           & 0.27 ( 0 )     & 38.76 ( 2.16 ) & 0 ( 0 )        & 43.76          & 0.82           & 0.27           & 38.7           & 0.00          \\\\\n",
       "\\end{tabular}\n"
      ],
      "text/markdown": [
       "\n",
       "| <!--/--> | N | P | Corr | Ratio | Stab | MSE | FP | FN | num_select | FDR | MSE_mean | FP_mean | FN_mean |\n",
       "|---|---|---|---|---|---|---|---|---|---|---|---|---|---|\n",
       "| 75 |  500           |  500           | 0.9            |  1.0           | 0.15           | 0.28 ( 0 )     | 32.6 ( 1.76 )  | 0 ( 0 )        | 37.60          | 0.81           | 0.28           | 32.6           | 0.00           |\n",
       "| 76 | 1000           |  500           | 0.9            |  0.5           | 0.16           | 0.26 ( 0 )     | 30.4 ( 1.66 )  | 0 ( 0 )        | 35.40          | 0.79           | 0.26           | 30.4           | 0.00           |\n",
       "| 77 |   50           | 1000           | 0.9            | 20.0           | 0.07           | 3.06 ( 0.18 )  | 43.09 ( 2.82 ) | 1.57 ( 0.1 )   | 46.52          | 0.88           | 3.06           | 43.0           | 1.57           |\n",
       "| 78 |  100           | 1000           | 0.9            | 10.0           | 0.12           | 0.59 ( 0.03 )  | 43.91 ( 1.31 ) | 0 ( 0 )        | 48.91          | 0.87           | 0.59           | 43.9           | 0.00           |\n",
       "| 79 |  500           | 1000           | 0.9            |  2.0           | 0.12           | 0.29 ( 0 )     | 41.57 ( 2.28 ) | 0 ( 0 )        | 46.57          | 0.84           | 0.29           | 41.5           | 0.00           |\n",
       "| 80 | 1000           | 1000           | 0.9            |  1.0           | 0.13           | 0.27 ( 0 )     | 38.76 ( 2.16 ) | 0 ( 0 )        | 43.76          | 0.82           | 0.27           | 38.7           | 0.00           |\n",
       "\n"
      ],
      "text/plain": [
       "   N    P    Corr Ratio Stab MSE           FP             FN          \n",
       "75  500  500 0.9   1.0  0.15 0.28 ( 0 )    32.6 ( 1.76 )  0 ( 0 )     \n",
       "76 1000  500 0.9   0.5  0.16 0.26 ( 0 )    30.4 ( 1.66 )  0 ( 0 )     \n",
       "77   50 1000 0.9  20.0  0.07 3.06 ( 0.18 ) 43.09 ( 2.82 ) 1.57 ( 0.1 )\n",
       "78  100 1000 0.9  10.0  0.12 0.59 ( 0.03 ) 43.91 ( 1.31 ) 0 ( 0 )     \n",
       "79  500 1000 0.9   2.0  0.12 0.29 ( 0 )    41.57 ( 2.28 ) 0 ( 0 )     \n",
       "80 1000 1000 0.9   1.0  0.13 0.27 ( 0 )    38.76 ( 2.16 ) 0 ( 0 )     \n",
       "   num_select FDR  MSE_mean FP_mean FN_mean\n",
       "75 37.60      0.81 0.28     32.6    0.00   \n",
       "76 35.40      0.79 0.26     30.4    0.00   \n",
       "77 46.52      0.88 3.06     43.0    1.57   \n",
       "78 48.91      0.87 0.59     43.9    0.00   \n",
       "79 46.57      0.84 0.29     41.5    0.00   \n",
       "80 43.76      0.82 0.27     38.7    0.00   "
      ]
     },
     "metadata": {},
     "output_type": "display_data"
    }
   ],
   "source": [
    "tail(result.table_block)"
   ]
  },
  {
   "cell_type": "code",
   "execution_count": 14,
   "metadata": {},
   "outputs": [],
   "source": [
    "## export\n",
    "write.table(result.table_block, '../results_summary/sim_block_elnet.txt', sep='\\t', row.names=F)"
   ]
  },
  {
   "cell_type": "code",
   "execution_count": 15,
   "metadata": {},
   "outputs": [
    {
     "name": "stderr",
     "output_type": "stream",
     "text": [
      "Registered S3 methods overwritten by 'ggplot2':\n",
      "  method         from \n",
      "  [.quosures     rlang\n",
      "  c.quosures     rlang\n",
      "  print.quosures rlang\n",
      "Loading required package: magrittr\n",
      "Warning message:\n",
      "“Using size for a discrete variable is not advised.”Warning message:\n",
      "“Using alpha for a discrete variable is not advised.”Warning message:\n",
      "“Using size for a discrete variable is not advised.”Warning message:\n",
      "“Using alpha for a discrete variable is not advised.”Warning message:\n",
      "“Using size for a discrete variable is not advised.”Warning message:\n",
      "“Using alpha for a discrete variable is not advised.”Warning message:\n",
      "“Using size for a discrete variable is not advised.”Warning message:\n",
      "“Using alpha for a discrete variable is not advised.”file saved to ../figures_sim/figure_block_elnet.pdf\n"
     ]
    }
   ],
   "source": [
    "library(ggplot2)\n",
    "library(ggpubr)\n",
    "result.table_block$N = as.factor(result.table_block$N)\n",
    "fig_block_stab = ggplot(result.table_block, aes(x=P, y=Stab, color=N)) + \n",
    "               geom_point(aes(size = Corr, alpha=Corr)) + theme(legend.position = \"none\") +\n",
    "               scale_size_discrete(range = c(1,4)) + scale_alpha_discrete(range = c(1, 0.4)) + ylab('Stability')\n",
    "\n",
    "fig_block_mse = ggplot(result.table_block, aes(x=P, y=MSE_mean, color=N)) + \n",
    "              geom_point(aes(size = Corr, alpha=Corr)) + theme(legend.position=\"none\") +\n",
    "              scale_size_discrete(range = c(1,4)) + scale_alpha_discrete(range = c(1, 0.4)) + ylab('MSE')\n",
    "\n",
    "fig_block_fp = ggplot(result.table_block, aes(x=P, y=FP_mean, color=N)) + \n",
    "             geom_point(aes(size = Corr, alpha=Corr)) + theme(legend.position = \"none\") +\n",
    "             scale_size_discrete(range = c(1,4)) + scale_alpha_discrete(range = c(1, 0.4)) + ylab('False Positives')\n",
    "\n",
    "fig_block_fn = ggplot(result.table_block, aes(x=P, y=FN_mean, color=N)) + \n",
    "             geom_point(aes(size = Corr, alpha=Corr)) + theme(legend.position = \"none\") +\n",
    "             scale_size_discrete(range = c(1,4)) + scale_alpha_discrete(range = c(1, 0.4)) + ylab('False Negatives')\n",
    "fig = ggarrange(fig_block_stab, fig_block_mse, fig_block_fp, fig_block_fn, ncol=2, nrow=2, \n",
    "          common.legend = TRUE, legend=\"right\") \n",
    "fig = annotate_figure(fig, top = text_grob(\"Block_ElaticNet\"))\n",
    "ggexport(fig, filename = \"../figures_sim/figure_block_elnet.pdf\", height=6, width=6)"
   ]
  },
  {
   "cell_type": "code",
   "execution_count": 11,
   "metadata": {},
   "outputs": [
    {
     "data": {
      "text/html": [
       "<table>\n",
       "<thead><tr><th></th><th scope=col>N</th><th scope=col>P</th><th scope=col>Corr</th><th scope=col>Ratio</th><th scope=col>Stab</th><th scope=col>MSE</th><th scope=col>FP</th><th scope=col>FN</th><th scope=col>MSE_mean</th><th scope=col>FP_mean</th><th scope=col>FN_mean</th></tr></thead>\n",
       "<tbody>\n",
       "\t<tr><th scope=row>1</th><td>50            </td><td>  50          </td><td>0.1           </td><td> 1.0          </td><td>0.02          </td><td>0.38 ( 0.02 ) </td><td>10.9 ( 0.97 ) </td><td>3.91 ( 0.15 ) </td><td>0.38          </td><td>10.90         </td><td>3.91          </td></tr>\n",
       "\t<tr><th scope=row>17</th><td>50            </td><td>  50          </td><td>0.3           </td><td> 1.0          </td><td>0.17          </td><td>0.56 ( 0.03 ) </td><td>15.98 ( 0.61 )</td><td>0.26 ( 0.05 ) </td><td>0.56          </td><td>15.90         </td><td>0.26          </td></tr>\n",
       "\t<tr><th scope=row>33</th><td>50            </td><td>  50          </td><td>0.5           </td><td> 1.0          </td><td>0.19          </td><td>0.65 ( 0.05 ) </td><td>15.43 ( 0.64 )</td><td>0.1 ( 0.04 )  </td><td>0.65          </td><td>15.40         </td><td>0.10          </td></tr>\n",
       "\t<tr><th scope=row>49</th><td>50            </td><td>  50          </td><td>0.7           </td><td> 1.0          </td><td>0.18          </td><td>0.63 ( 0.04 ) </td><td>16.71 ( 0.61 )</td><td>0.04 ( 0.02 ) </td><td>0.63          </td><td>16.70         </td><td>0.04          </td></tr>\n",
       "\t<tr><th scope=row>65</th><td>50            </td><td>  50          </td><td>0.9           </td><td> 1.0          </td><td>0.21          </td><td>0.56 ( 0.03 ) </td><td>14.5 ( 0.57 ) </td><td>0.03 ( 0.02 ) </td><td>0.56          </td><td>14.50         </td><td>0.03          </td></tr>\n",
       "\t<tr><th scope=row>5</th><td>50            </td><td> 100          </td><td>0.1           </td><td> 2.0          </td><td>0.03          </td><td>0.41 ( 0.02 ) </td><td>9.27 ( 0.76 ) </td><td>4.63 ( 0.09 ) </td><td>0.41          </td><td> 9.27         </td><td>4.63          </td></tr>\n",
       "\t<tr><th scope=row>21</th><td>50            </td><td> 100          </td><td>0.3           </td><td> 2.0          </td><td>0.13          </td><td>0.81 ( 0.05 ) </td><td>22.23 ( 1.04 )</td><td>0.7 ( 0.08 )  </td><td>0.81          </td><td>22.20         </td><td>0.70          </td></tr>\n",
       "\t<tr><th scope=row>37</th><td>50            </td><td> 100          </td><td>0.5           </td><td> 2.0          </td><td>0.16          </td><td>0.8 ( 0.05 )  </td><td>21.3 ( 0.83 ) </td><td>0.3 ( 0.06 )  </td><td>0.80          </td><td>21.30         </td><td>0.30          </td></tr>\n",
       "\t<tr><th scope=row>53</th><td>50            </td><td> 100          </td><td>0.7           </td><td> 2.0          </td><td>0.18          </td><td>0.86 ( 0.07 ) </td><td>19.83 ( 0.86 )</td><td>0.11 ( 0.03 ) </td><td>0.86          </td><td>19.80         </td><td>0.11          </td></tr>\n",
       "\t<tr><th scope=row>69</th><td>50            </td><td> 100          </td><td>0.9           </td><td> 2.0          </td><td>0.18          </td><td>0.75 ( 0.04 ) </td><td>20.94 ( 0.7 ) </td><td>0.07 ( 0.03 ) </td><td>0.75          </td><td>20.90         </td><td>0.07          </td></tr>\n",
       "\t<tr><th scope=row>9</th><td>50            </td><td> 500          </td><td>0.1           </td><td>10.0          </td><td>0.01          </td><td>0.41 ( 0.02 ) </td><td>30.9 ( 3.51 ) </td><td>4.65 ( 0.13 ) </td><td>0.41          </td><td>30.90         </td><td>4.65          </td></tr>\n",
       "\t<tr><th scope=row>25</th><td>50            </td><td> 500          </td><td>0.3           </td><td>10.0          </td><td>0.05          </td><td>1.29 ( 0.07 ) </td><td>43.56 ( 3.08 )</td><td>2.15 ( 0.13 ) </td><td>1.29          </td><td>43.50         </td><td>2.15          </td></tr>\n",
       "\t<tr><th scope=row>41</th><td>50            </td><td> 500          </td><td>0.5           </td><td>10.0          </td><td>0.08          </td><td>1.61 ( 0.1 )  </td><td>36.33 ( 2.13 )</td><td>1.58 ( 0.11 ) </td><td>1.61          </td><td>36.30         </td><td>1.58          </td></tr>\n",
       "\t<tr><th scope=row>57</th><td>50            </td><td> 500          </td><td>0.7           </td><td>10.0          </td><td>0.10          </td><td>2.19 ( 0.14 ) </td><td>33.13 ( 1.76 )</td><td>1.25 ( 0.11 ) </td><td>2.19          </td><td>33.10         </td><td>1.25          </td></tr>\n",
       "\t<tr><th scope=row>73</th><td>50            </td><td> 500          </td><td>0.9           </td><td>10.0          </td><td>0.10          </td><td>2.21 ( 0.15 ) </td><td>35.26 ( 2.1 ) </td><td>0.98 ( 0.09 ) </td><td>2.21          </td><td>35.20         </td><td>0.98          </td></tr>\n",
       "\t<tr><th scope=row>13</th><td>50            </td><td>1000          </td><td>0.1           </td><td>20.0          </td><td>0.00          </td><td>0.41 ( 0.02 ) </td><td>38.1 ( 4.05 ) </td><td>5.01 ( 0.11 ) </td><td>0.41          </td><td>38.10         </td><td>5.01          </td></tr>\n",
       "\t<tr><th scope=row>29</th><td>50            </td><td>1000          </td><td>0.3           </td><td>20.0          </td><td>0.03          </td><td>1.3 ( 0.07 )  </td><td>61.12 ( 4.33 )</td><td>2.56 ( 0.12 ) </td><td>1.30          </td><td>61.10         </td><td>2.56          </td></tr>\n",
       "\t<tr><th scope=row>45</th><td>50            </td><td>1000          </td><td>0.5           </td><td>20.0          </td><td>0.04          </td><td>2 ( 0.1 )     </td><td>52.83 ( 3.84 )</td><td>2.29 ( 0.1 )  </td><td>2.00          </td><td>52.80         </td><td>2.29          </td></tr>\n",
       "\t<tr><th scope=row>61</th><td>50            </td><td>1000          </td><td>0.7           </td><td>20.0          </td><td>0.06          </td><td>2.43 ( 0.14 ) </td><td>41.11 ( 2.8 ) </td><td>1.98 ( 0.11 ) </td><td>2.43          </td><td>41.10         </td><td>1.98          </td></tr>\n",
       "\t<tr><th scope=row>77</th><td>50            </td><td>1000          </td><td>0.9           </td><td>20.0          </td><td>0.07          </td><td>3.06 ( 0.18 ) </td><td>43.09 ( 2.82 )</td><td>1.57 ( 0.1 )  </td><td>3.06          </td><td>43.00         </td><td>1.57          </td></tr>\n",
       "\t<tr><th scope=row>2</th><td>100           </td><td>  50          </td><td>0.1           </td><td> 0.5          </td><td>0.06          </td><td>0.34 ( 0.01 ) </td><td>13.39 ( 1.06 )</td><td>2.45 ( 0.16 ) </td><td>0.34          </td><td>13.30         </td><td>2.45          </td></tr>\n",
       "\t<tr><th scope=row>18</th><td>100           </td><td>  50          </td><td>0.3           </td><td> 0.5          </td><td>0.20          </td><td>0.34 ( 0.01 ) </td><td>15.16 ( 0.6 ) </td><td>0 ( 0 )       </td><td>0.34          </td><td>15.10         </td><td>0.00          </td></tr>\n",
       "\t<tr><th scope=row>34</th><td>100           </td><td>  50          </td><td>0.5           </td><td> 0.5          </td><td>0.20          </td><td>0.34 ( 0.01 ) </td><td>14.94 ( 0.61 )</td><td>0 ( 0 )       </td><td>0.34          </td><td>14.90         </td><td>0.00          </td></tr>\n",
       "\t<tr><th scope=row>50</th><td>100           </td><td>  50          </td><td>0.7           </td><td> 0.5          </td><td>0.22          </td><td>0.33 ( 0.01 ) </td><td>14.2 ( 0.55 ) </td><td>0 ( 0 )       </td><td>0.33          </td><td>14.20         </td><td>0.00          </td></tr>\n",
       "\t<tr><th scope=row>66</th><td>100           </td><td>  50          </td><td>0.9           </td><td> 0.5          </td><td>0.23          </td><td>0.33 ( 0.01 ) </td><td>13.9 ( 0.6 )  </td><td>0 ( 0 )       </td><td>0.33          </td><td>13.90         </td><td>0.00          </td></tr>\n",
       "\t<tr><th scope=row>6</th><td>100           </td><td> 100          </td><td>0.1           </td><td> 1.0          </td><td>0.07          </td><td>0.34 ( 0.01 ) </td><td>10.1 ( 1.04 ) </td><td>3.87 ( 0.13 ) </td><td>0.34          </td><td>10.10         </td><td>3.87          </td></tr>\n",
       "\t<tr><th scope=row>22</th><td>100           </td><td> 100          </td><td>0.3           </td><td> 1.0          </td><td>0.16          </td><td>0.42 ( 0.02 ) </td><td>23.17 ( 0.94 )</td><td>0.02 ( 0.01 ) </td><td>0.42          </td><td>23.10         </td><td>0.02          </td></tr>\n",
       "\t<tr><th scope=row>38</th><td>100           </td><td> 100          </td><td>0.5           </td><td> 1.0          </td><td>0.18          </td><td>0.37 ( 0.01 ) </td><td>21.74 ( 0.84 )</td><td>0 ( 0 )       </td><td>0.37          </td><td>21.70         </td><td>0.00          </td></tr>\n",
       "\t<tr><th scope=row>54</th><td>100           </td><td> 100          </td><td>0.7           </td><td> 1.0          </td><td>0.17          </td><td>0.38 ( 0.01 ) </td><td>22.59 ( 1.11 )</td><td>0 ( 0 )       </td><td>0.38          </td><td>22.50         </td><td>0.00          </td></tr>\n",
       "\t<tr><th scope=row>70</th><td>100           </td><td> 100          </td><td>0.9           </td><td> 1.0          </td><td>0.18          </td><td>0.38 ( 0.01 ) </td><td>20.8 ( 0.95 ) </td><td>0 ( 0 )       </td><td>0.38          </td><td>20.80         </td><td>0.00          </td></tr>\n",
       "\t<tr><th scope=row>...</th><td>...</td><td>...</td><td>...</td><td>...</td><td>...</td><td>...</td><td>...</td><td>...</td><td>...</td><td>...</td><td>...</td></tr>\n",
       "\t<tr><th scope=row>11</th><td>500           </td><td> 500          </td><td>0.1           </td><td>1.00          </td><td>0.08          </td><td>0.32 ( 0 )    </td><td>29.71 ( 2.76 )</td><td>2.55 ( 0.12 ) </td><td>0.32          </td><td>29.7          </td><td>2.55          </td></tr>\n",
       "\t<tr><th scope=row>27</th><td>500           </td><td> 500          </td><td>0.3           </td><td>1.00          </td><td>0.14          </td><td>0.28 ( 0 )    </td><td>35.68 ( 1.62 )</td><td>0 ( 0 )       </td><td>0.28          </td><td>35.6          </td><td>0.00          </td></tr>\n",
       "\t<tr><th scope=row>43</th><td>500           </td><td> 500          </td><td>0.5           </td><td>1.00          </td><td>0.15          </td><td>0.28 ( 0 )    </td><td>32.67 ( 1.7 ) </td><td>0 ( 0 )       </td><td>0.28          </td><td>32.6          </td><td>0.00          </td></tr>\n",
       "\t<tr><th scope=row>59</th><td>500           </td><td> 500          </td><td>0.7           </td><td>1.00          </td><td>0.16          </td><td>0.28 ( 0 )    </td><td>30.18 ( 1.66 )</td><td>0 ( 0 )       </td><td>0.28          </td><td>30.1          </td><td>0.00          </td></tr>\n",
       "\t<tr><th scope=row>75</th><td>500           </td><td> 500          </td><td>0.9           </td><td>1.00          </td><td>0.15          </td><td>0.28 ( 0 )    </td><td>32.6 ( 1.76 ) </td><td>0 ( 0 )       </td><td>0.28          </td><td>32.6          </td><td>0.00          </td></tr>\n",
       "\t<tr><th scope=row>15</th><td>500           </td><td>1000          </td><td>0.1           </td><td>2.00          </td><td>0.10          </td><td>0.3 ( 0 )     </td><td>20.28 ( 2.74 )</td><td>3.25 ( 0.08 ) </td><td>0.30          </td><td>20.2          </td><td>3.25          </td></tr>\n",
       "\t<tr><th scope=row>31</th><td>500           </td><td>1000          </td><td>0.3           </td><td>2.00          </td><td>0.11          </td><td>0.29 ( 0 )    </td><td>46.27 ( 2.2 ) </td><td>0 ( 0 )       </td><td>0.29          </td><td>46.2          </td><td>0.00          </td></tr>\n",
       "\t<tr><th scope=row>47</th><td>500           </td><td>1000          </td><td>0.5           </td><td>2.00          </td><td>0.14          </td><td>0.28 ( 0 )    </td><td>37.63 ( 1.92 )</td><td>0 ( 0 )       </td><td>0.28          </td><td>37.6          </td><td>0.00          </td></tr>\n",
       "\t<tr><th scope=row>63</th><td>500           </td><td>1000          </td><td>0.7           </td><td>2.00          </td><td>0.12          </td><td>0.29 ( 0 )    </td><td>42.75 ( 2.32 )</td><td>0 ( 0 )       </td><td>0.29          </td><td>42.7          </td><td>0.00          </td></tr>\n",
       "\t<tr><th scope=row>79</th><td>500           </td><td>1000          </td><td>0.9           </td><td>2.00          </td><td>0.12          </td><td>0.29 ( 0 )    </td><td>41.57 ( 2.28 )</td><td>0 ( 0 )       </td><td>0.29          </td><td>41.5          </td><td>0.00          </td></tr>\n",
       "\t<tr><th scope=row>4</th><td>1000          </td><td>  50          </td><td>0.1           </td><td>0.05          </td><td>0.15          </td><td>0.26 ( 0 )    </td><td>18.76 ( 0.63 )</td><td>0.02 ( 0.01 ) </td><td>0.26          </td><td>18.7          </td><td>0.02          </td></tr>\n",
       "\t<tr><th scope=row>20</th><td>1000          </td><td>  50          </td><td>0.3           </td><td>0.05          </td><td>0.22          </td><td>0.26 ( 0 )    </td><td>14.34 ( 0.49 )</td><td>0 ( 0 )       </td><td>0.26          </td><td>14.3          </td><td>0.00          </td></tr>\n",
       "\t<tr><th scope=row>36</th><td>1000          </td><td>  50          </td><td>0.5           </td><td>0.05          </td><td>0.25          </td><td>0.26 ( 0 )    </td><td>12.73 ( 0.5 ) </td><td>0 ( 0 )       </td><td>0.26          </td><td>12.7          </td><td>0.00          </td></tr>\n",
       "\t<tr><th scope=row>52</th><td>1000          </td><td>  50          </td><td>0.7           </td><td>0.05          </td><td>0.25          </td><td>0.26 ( 0 )    </td><td>12.77 ( 0.52 )</td><td>0 ( 0 )       </td><td>0.26          </td><td>12.7          </td><td>0.00          </td></tr>\n",
       "\t<tr><th scope=row>68</th><td>1000          </td><td>  50          </td><td>0.9           </td><td>0.05          </td><td>0.25          </td><td>0.26 ( 0 )    </td><td>12.64 ( 0.49 )</td><td>0 ( 0 )       </td><td>0.26          </td><td>12.6          </td><td>0.00          </td></tr>\n",
       "\t<tr><th scope=row>8</th><td>1000          </td><td> 100          </td><td>0.1           </td><td>0.10          </td><td>0.13          </td><td>0.27 ( 0 )    </td><td>28.36 ( 0.94 )</td><td>0.06 ( 0.03 ) </td><td>0.27          </td><td>28.3          </td><td>0.06          </td></tr>\n",
       "\t<tr><th scope=row>24</th><td>1000          </td><td> 100          </td><td>0.3           </td><td>0.10          </td><td>0.20          </td><td>0.26 ( 0 )    </td><td>19.57 ( 0.81 )</td><td>0 ( 0 )       </td><td>0.26          </td><td>19.5          </td><td>0.00          </td></tr>\n",
       "\t<tr><th scope=row>40</th><td>1000          </td><td> 100          </td><td>0.5           </td><td>0.10          </td><td>0.18          </td><td>0.26 ( 0 )    </td><td>20.53 ( 0.72 )</td><td>0 ( 0 )       </td><td>0.26          </td><td>20.5          </td><td>0.00          </td></tr>\n",
       "\t<tr><th scope=row>56</th><td>1000          </td><td> 100          </td><td>0.7           </td><td>0.10          </td><td>0.21          </td><td>0.26 ( 0 )    </td><td>18.55 ( 0.87 )</td><td>0 ( 0 )       </td><td>0.26          </td><td>18.5          </td><td>0.00          </td></tr>\n",
       "\t<tr><th scope=row>72</th><td>1000          </td><td> 100          </td><td>0.9           </td><td>0.10          </td><td>0.19          </td><td>0.26 ( 0 )    </td><td>19.91 ( 0.91 )</td><td>0 ( 0 )       </td><td>0.26          </td><td>19.9          </td><td>0.00          </td></tr>\n",
       "\t<tr><th scope=row>12</th><td>1000          </td><td> 500          </td><td>0.1           </td><td>0.50          </td><td>0.07          </td><td>0.28 ( 0 )    </td><td>61.47 ( 1.31 )</td><td>0.56 ( 0.07 ) </td><td>0.28          </td><td>61.4          </td><td>0.56          </td></tr>\n",
       "\t<tr><th scope=row>28</th><td>1000          </td><td> 500          </td><td>0.3           </td><td>0.50          </td><td>0.14          </td><td>0.27 ( 0 )    </td><td>36.15 ( 1.61 )</td><td>0 ( 0 )       </td><td>0.27          </td><td>36.1          </td><td>0.00          </td></tr>\n",
       "\t<tr><th scope=row>44</th><td>1000          </td><td> 500          </td><td>0.5           </td><td>0.50          </td><td>0.14          </td><td>0.26 ( 0 )    </td><td>33.71 ( 1.97 )</td><td>0 ( 0 )       </td><td>0.26          </td><td>33.7          </td><td>0.00          </td></tr>\n",
       "\t<tr><th scope=row>60</th><td>1000          </td><td> 500          </td><td>0.7           </td><td>0.50          </td><td>0.15          </td><td>0.26 ( 0 )    </td><td>33.3 ( 1.59 ) </td><td>0 ( 0 )       </td><td>0.26          </td><td>33.3          </td><td>0.00          </td></tr>\n",
       "\t<tr><th scope=row>76</th><td>1000          </td><td> 500          </td><td>0.9           </td><td>0.50          </td><td>0.16          </td><td>0.26 ( 0 )    </td><td>30.4 ( 1.66 ) </td><td>0 ( 0 )       </td><td>0.26          </td><td>30.4          </td><td>0.00          </td></tr>\n",
       "\t<tr><th scope=row>16</th><td>1000          </td><td>1000          </td><td>0.1           </td><td>1.00          </td><td>0.05          </td><td>0.29 ( 0 )    </td><td>71.65 ( 3.47 )</td><td>1.5 ( 0.1 )   </td><td>0.29          </td><td>71.6          </td><td>1.50          </td></tr>\n",
       "\t<tr><th scope=row>32</th><td>1000          </td><td>1000          </td><td>0.3           </td><td>1.00          </td><td>0.13          </td><td>0.27 ( 0 )    </td><td>39.23 ( 2 )   </td><td>0 ( 0 )       </td><td>0.27          </td><td>39.2          </td><td>0.00          </td></tr>\n",
       "\t<tr><th scope=row>48</th><td>1000          </td><td>1000          </td><td>0.5           </td><td>1.00          </td><td>0.14          </td><td>0.27 ( 0 )    </td><td>35.42 ( 1.84 )</td><td>0 ( 0 )       </td><td>0.27          </td><td>35.4          </td><td>0.00          </td></tr>\n",
       "\t<tr><th scope=row>64</th><td>1000          </td><td>1000          </td><td>0.7           </td><td>1.00          </td><td>0.14          </td><td>0.27 ( 0 )    </td><td>36.88 ( 2.33 )</td><td>0 ( 0 )       </td><td>0.27          </td><td>36.8          </td><td>0.00          </td></tr>\n",
       "\t<tr><th scope=row>80</th><td>1000          </td><td>1000          </td><td>0.9           </td><td>1.00          </td><td>0.13          </td><td>0.27 ( 0 )    </td><td>38.76 ( 2.16 )</td><td>0 ( 0 )       </td><td>0.27          </td><td>38.7          </td><td>0.00          </td></tr>\n",
       "</tbody>\n",
       "</table>\n"
      ],
      "text/latex": [
       "\\begin{tabular}{r|lllllllllll}\n",
       "  & N & P & Corr & Ratio & Stab & MSE & FP & FN & MSE\\_mean & FP\\_mean & FN\\_mean\\\\\n",
       "\\hline\n",
       "\t1 & 50             &   50           & 0.1            &  1.0           & 0.02           & 0.38 ( 0.02 )  & 10.9 ( 0.97 )  & 3.91 ( 0.15 )  & 0.38           & 10.90          & 3.91          \\\\\n",
       "\t17 & 50             &   50           & 0.3            &  1.0           & 0.17           & 0.56 ( 0.03 )  & 15.98 ( 0.61 ) & 0.26 ( 0.05 )  & 0.56           & 15.90          & 0.26          \\\\\n",
       "\t33 & 50             &   50           & 0.5            &  1.0           & 0.19           & 0.65 ( 0.05 )  & 15.43 ( 0.64 ) & 0.1 ( 0.04 )   & 0.65           & 15.40          & 0.10          \\\\\n",
       "\t49 & 50             &   50           & 0.7            &  1.0           & 0.18           & 0.63 ( 0.04 )  & 16.71 ( 0.61 ) & 0.04 ( 0.02 )  & 0.63           & 16.70          & 0.04          \\\\\n",
       "\t65 & 50             &   50           & 0.9            &  1.0           & 0.21           & 0.56 ( 0.03 )  & 14.5 ( 0.57 )  & 0.03 ( 0.02 )  & 0.56           & 14.50          & 0.03          \\\\\n",
       "\t5 & 50             &  100           & 0.1            &  2.0           & 0.03           & 0.41 ( 0.02 )  & 9.27 ( 0.76 )  & 4.63 ( 0.09 )  & 0.41           &  9.27          & 4.63          \\\\\n",
       "\t21 & 50             &  100           & 0.3            &  2.0           & 0.13           & 0.81 ( 0.05 )  & 22.23 ( 1.04 ) & 0.7 ( 0.08 )   & 0.81           & 22.20          & 0.70          \\\\\n",
       "\t37 & 50             &  100           & 0.5            &  2.0           & 0.16           & 0.8 ( 0.05 )   & 21.3 ( 0.83 )  & 0.3 ( 0.06 )   & 0.80           & 21.30          & 0.30          \\\\\n",
       "\t53 & 50             &  100           & 0.7            &  2.0           & 0.18           & 0.86 ( 0.07 )  & 19.83 ( 0.86 ) & 0.11 ( 0.03 )  & 0.86           & 19.80          & 0.11          \\\\\n",
       "\t69 & 50             &  100           & 0.9            &  2.0           & 0.18           & 0.75 ( 0.04 )  & 20.94 ( 0.7 )  & 0.07 ( 0.03 )  & 0.75           & 20.90          & 0.07          \\\\\n",
       "\t9 & 50             &  500           & 0.1            & 10.0           & 0.01           & 0.41 ( 0.02 )  & 30.9 ( 3.51 )  & 4.65 ( 0.13 )  & 0.41           & 30.90          & 4.65          \\\\\n",
       "\t25 & 50             &  500           & 0.3            & 10.0           & 0.05           & 1.29 ( 0.07 )  & 43.56 ( 3.08 ) & 2.15 ( 0.13 )  & 1.29           & 43.50          & 2.15          \\\\\n",
       "\t41 & 50             &  500           & 0.5            & 10.0           & 0.08           & 1.61 ( 0.1 )   & 36.33 ( 2.13 ) & 1.58 ( 0.11 )  & 1.61           & 36.30          & 1.58          \\\\\n",
       "\t57 & 50             &  500           & 0.7            & 10.0           & 0.10           & 2.19 ( 0.14 )  & 33.13 ( 1.76 ) & 1.25 ( 0.11 )  & 2.19           & 33.10          & 1.25          \\\\\n",
       "\t73 & 50             &  500           & 0.9            & 10.0           & 0.10           & 2.21 ( 0.15 )  & 35.26 ( 2.1 )  & 0.98 ( 0.09 )  & 2.21           & 35.20          & 0.98          \\\\\n",
       "\t13 & 50             & 1000           & 0.1            & 20.0           & 0.00           & 0.41 ( 0.02 )  & 38.1 ( 4.05 )  & 5.01 ( 0.11 )  & 0.41           & 38.10          & 5.01          \\\\\n",
       "\t29 & 50             & 1000           & 0.3            & 20.0           & 0.03           & 1.3 ( 0.07 )   & 61.12 ( 4.33 ) & 2.56 ( 0.12 )  & 1.30           & 61.10          & 2.56          \\\\\n",
       "\t45 & 50             & 1000           & 0.5            & 20.0           & 0.04           & 2 ( 0.1 )      & 52.83 ( 3.84 ) & 2.29 ( 0.1 )   & 2.00           & 52.80          & 2.29          \\\\\n",
       "\t61 & 50             & 1000           & 0.7            & 20.0           & 0.06           & 2.43 ( 0.14 )  & 41.11 ( 2.8 )  & 1.98 ( 0.11 )  & 2.43           & 41.10          & 1.98          \\\\\n",
       "\t77 & 50             & 1000           & 0.9            & 20.0           & 0.07           & 3.06 ( 0.18 )  & 43.09 ( 2.82 ) & 1.57 ( 0.1 )   & 3.06           & 43.00          & 1.57          \\\\\n",
       "\t2 & 100            &   50           & 0.1            &  0.5           & 0.06           & 0.34 ( 0.01 )  & 13.39 ( 1.06 ) & 2.45 ( 0.16 )  & 0.34           & 13.30          & 2.45          \\\\\n",
       "\t18 & 100            &   50           & 0.3            &  0.5           & 0.20           & 0.34 ( 0.01 )  & 15.16 ( 0.6 )  & 0 ( 0 )        & 0.34           & 15.10          & 0.00          \\\\\n",
       "\t34 & 100            &   50           & 0.5            &  0.5           & 0.20           & 0.34 ( 0.01 )  & 14.94 ( 0.61 ) & 0 ( 0 )        & 0.34           & 14.90          & 0.00          \\\\\n",
       "\t50 & 100            &   50           & 0.7            &  0.5           & 0.22           & 0.33 ( 0.01 )  & 14.2 ( 0.55 )  & 0 ( 0 )        & 0.33           & 14.20          & 0.00          \\\\\n",
       "\t66 & 100            &   50           & 0.9            &  0.5           & 0.23           & 0.33 ( 0.01 )  & 13.9 ( 0.6 )   & 0 ( 0 )        & 0.33           & 13.90          & 0.00          \\\\\n",
       "\t6 & 100            &  100           & 0.1            &  1.0           & 0.07           & 0.34 ( 0.01 )  & 10.1 ( 1.04 )  & 3.87 ( 0.13 )  & 0.34           & 10.10          & 3.87          \\\\\n",
       "\t22 & 100            &  100           & 0.3            &  1.0           & 0.16           & 0.42 ( 0.02 )  & 23.17 ( 0.94 ) & 0.02 ( 0.01 )  & 0.42           & 23.10          & 0.02          \\\\\n",
       "\t38 & 100            &  100           & 0.5            &  1.0           & 0.18           & 0.37 ( 0.01 )  & 21.74 ( 0.84 ) & 0 ( 0 )        & 0.37           & 21.70          & 0.00          \\\\\n",
       "\t54 & 100            &  100           & 0.7            &  1.0           & 0.17           & 0.38 ( 0.01 )  & 22.59 ( 1.11 ) & 0 ( 0 )        & 0.38           & 22.50          & 0.00          \\\\\n",
       "\t70 & 100            &  100           & 0.9            &  1.0           & 0.18           & 0.38 ( 0.01 )  & 20.8 ( 0.95 )  & 0 ( 0 )        & 0.38           & 20.80          & 0.00          \\\\\n",
       "\t... & ... & ... & ... & ... & ... & ... & ... & ... & ... & ... & ...\\\\\n",
       "\t11 & 500            &  500           & 0.1            & 1.00           & 0.08           & 0.32 ( 0 )     & 29.71 ( 2.76 ) & 2.55 ( 0.12 )  & 0.32           & 29.7           & 2.55          \\\\\n",
       "\t27 & 500            &  500           & 0.3            & 1.00           & 0.14           & 0.28 ( 0 )     & 35.68 ( 1.62 ) & 0 ( 0 )        & 0.28           & 35.6           & 0.00          \\\\\n",
       "\t43 & 500            &  500           & 0.5            & 1.00           & 0.15           & 0.28 ( 0 )     & 32.67 ( 1.7 )  & 0 ( 0 )        & 0.28           & 32.6           & 0.00          \\\\\n",
       "\t59 & 500            &  500           & 0.7            & 1.00           & 0.16           & 0.28 ( 0 )     & 30.18 ( 1.66 ) & 0 ( 0 )        & 0.28           & 30.1           & 0.00          \\\\\n",
       "\t75 & 500            &  500           & 0.9            & 1.00           & 0.15           & 0.28 ( 0 )     & 32.6 ( 1.76 )  & 0 ( 0 )        & 0.28           & 32.6           & 0.00          \\\\\n",
       "\t15 & 500            & 1000           & 0.1            & 2.00           & 0.10           & 0.3 ( 0 )      & 20.28 ( 2.74 ) & 3.25 ( 0.08 )  & 0.30           & 20.2           & 3.25          \\\\\n",
       "\t31 & 500            & 1000           & 0.3            & 2.00           & 0.11           & 0.29 ( 0 )     & 46.27 ( 2.2 )  & 0 ( 0 )        & 0.29           & 46.2           & 0.00          \\\\\n",
       "\t47 & 500            & 1000           & 0.5            & 2.00           & 0.14           & 0.28 ( 0 )     & 37.63 ( 1.92 ) & 0 ( 0 )        & 0.28           & 37.6           & 0.00          \\\\\n",
       "\t63 & 500            & 1000           & 0.7            & 2.00           & 0.12           & 0.29 ( 0 )     & 42.75 ( 2.32 ) & 0 ( 0 )        & 0.29           & 42.7           & 0.00          \\\\\n",
       "\t79 & 500            & 1000           & 0.9            & 2.00           & 0.12           & 0.29 ( 0 )     & 41.57 ( 2.28 ) & 0 ( 0 )        & 0.29           & 41.5           & 0.00          \\\\\n",
       "\t4 & 1000           &   50           & 0.1            & 0.05           & 0.15           & 0.26 ( 0 )     & 18.76 ( 0.63 ) & 0.02 ( 0.01 )  & 0.26           & 18.7           & 0.02          \\\\\n",
       "\t20 & 1000           &   50           & 0.3            & 0.05           & 0.22           & 0.26 ( 0 )     & 14.34 ( 0.49 ) & 0 ( 0 )        & 0.26           & 14.3           & 0.00          \\\\\n",
       "\t36 & 1000           &   50           & 0.5            & 0.05           & 0.25           & 0.26 ( 0 )     & 12.73 ( 0.5 )  & 0 ( 0 )        & 0.26           & 12.7           & 0.00          \\\\\n",
       "\t52 & 1000           &   50           & 0.7            & 0.05           & 0.25           & 0.26 ( 0 )     & 12.77 ( 0.52 ) & 0 ( 0 )        & 0.26           & 12.7           & 0.00          \\\\\n",
       "\t68 & 1000           &   50           & 0.9            & 0.05           & 0.25           & 0.26 ( 0 )     & 12.64 ( 0.49 ) & 0 ( 0 )        & 0.26           & 12.6           & 0.00          \\\\\n",
       "\t8 & 1000           &  100           & 0.1            & 0.10           & 0.13           & 0.27 ( 0 )     & 28.36 ( 0.94 ) & 0.06 ( 0.03 )  & 0.27           & 28.3           & 0.06          \\\\\n",
       "\t24 & 1000           &  100           & 0.3            & 0.10           & 0.20           & 0.26 ( 0 )     & 19.57 ( 0.81 ) & 0 ( 0 )        & 0.26           & 19.5           & 0.00          \\\\\n",
       "\t40 & 1000           &  100           & 0.5            & 0.10           & 0.18           & 0.26 ( 0 )     & 20.53 ( 0.72 ) & 0 ( 0 )        & 0.26           & 20.5           & 0.00          \\\\\n",
       "\t56 & 1000           &  100           & 0.7            & 0.10           & 0.21           & 0.26 ( 0 )     & 18.55 ( 0.87 ) & 0 ( 0 )        & 0.26           & 18.5           & 0.00          \\\\\n",
       "\t72 & 1000           &  100           & 0.9            & 0.10           & 0.19           & 0.26 ( 0 )     & 19.91 ( 0.91 ) & 0 ( 0 )        & 0.26           & 19.9           & 0.00          \\\\\n",
       "\t12 & 1000           &  500           & 0.1            & 0.50           & 0.07           & 0.28 ( 0 )     & 61.47 ( 1.31 ) & 0.56 ( 0.07 )  & 0.28           & 61.4           & 0.56          \\\\\n",
       "\t28 & 1000           &  500           & 0.3            & 0.50           & 0.14           & 0.27 ( 0 )     & 36.15 ( 1.61 ) & 0 ( 0 )        & 0.27           & 36.1           & 0.00          \\\\\n",
       "\t44 & 1000           &  500           & 0.5            & 0.50           & 0.14           & 0.26 ( 0 )     & 33.71 ( 1.97 ) & 0 ( 0 )        & 0.26           & 33.7           & 0.00          \\\\\n",
       "\t60 & 1000           &  500           & 0.7            & 0.50           & 0.15           & 0.26 ( 0 )     & 33.3 ( 1.59 )  & 0 ( 0 )        & 0.26           & 33.3           & 0.00          \\\\\n",
       "\t76 & 1000           &  500           & 0.9            & 0.50           & 0.16           & 0.26 ( 0 )     & 30.4 ( 1.66 )  & 0 ( 0 )        & 0.26           & 30.4           & 0.00          \\\\\n",
       "\t16 & 1000           & 1000           & 0.1            & 1.00           & 0.05           & 0.29 ( 0 )     & 71.65 ( 3.47 ) & 1.5 ( 0.1 )    & 0.29           & 71.6           & 1.50          \\\\\n",
       "\t32 & 1000           & 1000           & 0.3            & 1.00           & 0.13           & 0.27 ( 0 )     & 39.23 ( 2 )    & 0 ( 0 )        & 0.27           & 39.2           & 0.00          \\\\\n",
       "\t48 & 1000           & 1000           & 0.5            & 1.00           & 0.14           & 0.27 ( 0 )     & 35.42 ( 1.84 ) & 0 ( 0 )        & 0.27           & 35.4           & 0.00          \\\\\n",
       "\t64 & 1000           & 1000           & 0.7            & 1.00           & 0.14           & 0.27 ( 0 )     & 36.88 ( 2.33 ) & 0 ( 0 )        & 0.27           & 36.8           & 0.00          \\\\\n",
       "\t80 & 1000           & 1000           & 0.9            & 1.00           & 0.13           & 0.27 ( 0 )     & 38.76 ( 2.16 ) & 0 ( 0 )        & 0.27           & 38.7           & 0.00          \\\\\n",
       "\\end{tabular}\n"
      ],
      "text/markdown": [
       "\n",
       "| <!--/--> | N | P | Corr | Ratio | Stab | MSE | FP | FN | MSE_mean | FP_mean | FN_mean |\n",
       "|---|---|---|---|---|---|---|---|---|---|---|---|\n",
       "| 1 | 50             |   50           | 0.1            |  1.0           | 0.02           | 0.38 ( 0.02 )  | 10.9 ( 0.97 )  | 3.91 ( 0.15 )  | 0.38           | 10.90          | 3.91           |\n",
       "| 17 | 50             |   50           | 0.3            |  1.0           | 0.17           | 0.56 ( 0.03 )  | 15.98 ( 0.61 ) | 0.26 ( 0.05 )  | 0.56           | 15.90          | 0.26           |\n",
       "| 33 | 50             |   50           | 0.5            |  1.0           | 0.19           | 0.65 ( 0.05 )  | 15.43 ( 0.64 ) | 0.1 ( 0.04 )   | 0.65           | 15.40          | 0.10           |\n",
       "| 49 | 50             |   50           | 0.7            |  1.0           | 0.18           | 0.63 ( 0.04 )  | 16.71 ( 0.61 ) | 0.04 ( 0.02 )  | 0.63           | 16.70          | 0.04           |\n",
       "| 65 | 50             |   50           | 0.9            |  1.0           | 0.21           | 0.56 ( 0.03 )  | 14.5 ( 0.57 )  | 0.03 ( 0.02 )  | 0.56           | 14.50          | 0.03           |\n",
       "| 5 | 50             |  100           | 0.1            |  2.0           | 0.03           | 0.41 ( 0.02 )  | 9.27 ( 0.76 )  | 4.63 ( 0.09 )  | 0.41           |  9.27          | 4.63           |\n",
       "| 21 | 50             |  100           | 0.3            |  2.0           | 0.13           | 0.81 ( 0.05 )  | 22.23 ( 1.04 ) | 0.7 ( 0.08 )   | 0.81           | 22.20          | 0.70           |\n",
       "| 37 | 50             |  100           | 0.5            |  2.0           | 0.16           | 0.8 ( 0.05 )   | 21.3 ( 0.83 )  | 0.3 ( 0.06 )   | 0.80           | 21.30          | 0.30           |\n",
       "| 53 | 50             |  100           | 0.7            |  2.0           | 0.18           | 0.86 ( 0.07 )  | 19.83 ( 0.86 ) | 0.11 ( 0.03 )  | 0.86           | 19.80          | 0.11           |\n",
       "| 69 | 50             |  100           | 0.9            |  2.0           | 0.18           | 0.75 ( 0.04 )  | 20.94 ( 0.7 )  | 0.07 ( 0.03 )  | 0.75           | 20.90          | 0.07           |\n",
       "| 9 | 50             |  500           | 0.1            | 10.0           | 0.01           | 0.41 ( 0.02 )  | 30.9 ( 3.51 )  | 4.65 ( 0.13 )  | 0.41           | 30.90          | 4.65           |\n",
       "| 25 | 50             |  500           | 0.3            | 10.0           | 0.05           | 1.29 ( 0.07 )  | 43.56 ( 3.08 ) | 2.15 ( 0.13 )  | 1.29           | 43.50          | 2.15           |\n",
       "| 41 | 50             |  500           | 0.5            | 10.0           | 0.08           | 1.61 ( 0.1 )   | 36.33 ( 2.13 ) | 1.58 ( 0.11 )  | 1.61           | 36.30          | 1.58           |\n",
       "| 57 | 50             |  500           | 0.7            | 10.0           | 0.10           | 2.19 ( 0.14 )  | 33.13 ( 1.76 ) | 1.25 ( 0.11 )  | 2.19           | 33.10          | 1.25           |\n",
       "| 73 | 50             |  500           | 0.9            | 10.0           | 0.10           | 2.21 ( 0.15 )  | 35.26 ( 2.1 )  | 0.98 ( 0.09 )  | 2.21           | 35.20          | 0.98           |\n",
       "| 13 | 50             | 1000           | 0.1            | 20.0           | 0.00           | 0.41 ( 0.02 )  | 38.1 ( 4.05 )  | 5.01 ( 0.11 )  | 0.41           | 38.10          | 5.01           |\n",
       "| 29 | 50             | 1000           | 0.3            | 20.0           | 0.03           | 1.3 ( 0.07 )   | 61.12 ( 4.33 ) | 2.56 ( 0.12 )  | 1.30           | 61.10          | 2.56           |\n",
       "| 45 | 50             | 1000           | 0.5            | 20.0           | 0.04           | 2 ( 0.1 )      | 52.83 ( 3.84 ) | 2.29 ( 0.1 )   | 2.00           | 52.80          | 2.29           |\n",
       "| 61 | 50             | 1000           | 0.7            | 20.0           | 0.06           | 2.43 ( 0.14 )  | 41.11 ( 2.8 )  | 1.98 ( 0.11 )  | 2.43           | 41.10          | 1.98           |\n",
       "| 77 | 50             | 1000           | 0.9            | 20.0           | 0.07           | 3.06 ( 0.18 )  | 43.09 ( 2.82 ) | 1.57 ( 0.1 )   | 3.06           | 43.00          | 1.57           |\n",
       "| 2 | 100            |   50           | 0.1            |  0.5           | 0.06           | 0.34 ( 0.01 )  | 13.39 ( 1.06 ) | 2.45 ( 0.16 )  | 0.34           | 13.30          | 2.45           |\n",
       "| 18 | 100            |   50           | 0.3            |  0.5           | 0.20           | 0.34 ( 0.01 )  | 15.16 ( 0.6 )  | 0 ( 0 )        | 0.34           | 15.10          | 0.00           |\n",
       "| 34 | 100            |   50           | 0.5            |  0.5           | 0.20           | 0.34 ( 0.01 )  | 14.94 ( 0.61 ) | 0 ( 0 )        | 0.34           | 14.90          | 0.00           |\n",
       "| 50 | 100            |   50           | 0.7            |  0.5           | 0.22           | 0.33 ( 0.01 )  | 14.2 ( 0.55 )  | 0 ( 0 )        | 0.33           | 14.20          | 0.00           |\n",
       "| 66 | 100            |   50           | 0.9            |  0.5           | 0.23           | 0.33 ( 0.01 )  | 13.9 ( 0.6 )   | 0 ( 0 )        | 0.33           | 13.90          | 0.00           |\n",
       "| 6 | 100            |  100           | 0.1            |  1.0           | 0.07           | 0.34 ( 0.01 )  | 10.1 ( 1.04 )  | 3.87 ( 0.13 )  | 0.34           | 10.10          | 3.87           |\n",
       "| 22 | 100            |  100           | 0.3            |  1.0           | 0.16           | 0.42 ( 0.02 )  | 23.17 ( 0.94 ) | 0.02 ( 0.01 )  | 0.42           | 23.10          | 0.02           |\n",
       "| 38 | 100            |  100           | 0.5            |  1.0           | 0.18           | 0.37 ( 0.01 )  | 21.74 ( 0.84 ) | 0 ( 0 )        | 0.37           | 21.70          | 0.00           |\n",
       "| 54 | 100            |  100           | 0.7            |  1.0           | 0.17           | 0.38 ( 0.01 )  | 22.59 ( 1.11 ) | 0 ( 0 )        | 0.38           | 22.50          | 0.00           |\n",
       "| 70 | 100            |  100           | 0.9            |  1.0           | 0.18           | 0.38 ( 0.01 )  | 20.8 ( 0.95 )  | 0 ( 0 )        | 0.38           | 20.80          | 0.00           |\n",
       "| ... | ... | ... | ... | ... | ... | ... | ... | ... | ... | ... | ... |\n",
       "| 11 | 500            |  500           | 0.1            | 1.00           | 0.08           | 0.32 ( 0 )     | 29.71 ( 2.76 ) | 2.55 ( 0.12 )  | 0.32           | 29.7           | 2.55           |\n",
       "| 27 | 500            |  500           | 0.3            | 1.00           | 0.14           | 0.28 ( 0 )     | 35.68 ( 1.62 ) | 0 ( 0 )        | 0.28           | 35.6           | 0.00           |\n",
       "| 43 | 500            |  500           | 0.5            | 1.00           | 0.15           | 0.28 ( 0 )     | 32.67 ( 1.7 )  | 0 ( 0 )        | 0.28           | 32.6           | 0.00           |\n",
       "| 59 | 500            |  500           | 0.7            | 1.00           | 0.16           | 0.28 ( 0 )     | 30.18 ( 1.66 ) | 0 ( 0 )        | 0.28           | 30.1           | 0.00           |\n",
       "| 75 | 500            |  500           | 0.9            | 1.00           | 0.15           | 0.28 ( 0 )     | 32.6 ( 1.76 )  | 0 ( 0 )        | 0.28           | 32.6           | 0.00           |\n",
       "| 15 | 500            | 1000           | 0.1            | 2.00           | 0.10           | 0.3 ( 0 )      | 20.28 ( 2.74 ) | 3.25 ( 0.08 )  | 0.30           | 20.2           | 3.25           |\n",
       "| 31 | 500            | 1000           | 0.3            | 2.00           | 0.11           | 0.29 ( 0 )     | 46.27 ( 2.2 )  | 0 ( 0 )        | 0.29           | 46.2           | 0.00           |\n",
       "| 47 | 500            | 1000           | 0.5            | 2.00           | 0.14           | 0.28 ( 0 )     | 37.63 ( 1.92 ) | 0 ( 0 )        | 0.28           | 37.6           | 0.00           |\n",
       "| 63 | 500            | 1000           | 0.7            | 2.00           | 0.12           | 0.29 ( 0 )     | 42.75 ( 2.32 ) | 0 ( 0 )        | 0.29           | 42.7           | 0.00           |\n",
       "| 79 | 500            | 1000           | 0.9            | 2.00           | 0.12           | 0.29 ( 0 )     | 41.57 ( 2.28 ) | 0 ( 0 )        | 0.29           | 41.5           | 0.00           |\n",
       "| 4 | 1000           |   50           | 0.1            | 0.05           | 0.15           | 0.26 ( 0 )     | 18.76 ( 0.63 ) | 0.02 ( 0.01 )  | 0.26           | 18.7           | 0.02           |\n",
       "| 20 | 1000           |   50           | 0.3            | 0.05           | 0.22           | 0.26 ( 0 )     | 14.34 ( 0.49 ) | 0 ( 0 )        | 0.26           | 14.3           | 0.00           |\n",
       "| 36 | 1000           |   50           | 0.5            | 0.05           | 0.25           | 0.26 ( 0 )     | 12.73 ( 0.5 )  | 0 ( 0 )        | 0.26           | 12.7           | 0.00           |\n",
       "| 52 | 1000           |   50           | 0.7            | 0.05           | 0.25           | 0.26 ( 0 )     | 12.77 ( 0.52 ) | 0 ( 0 )        | 0.26           | 12.7           | 0.00           |\n",
       "| 68 | 1000           |   50           | 0.9            | 0.05           | 0.25           | 0.26 ( 0 )     | 12.64 ( 0.49 ) | 0 ( 0 )        | 0.26           | 12.6           | 0.00           |\n",
       "| 8 | 1000           |  100           | 0.1            | 0.10           | 0.13           | 0.27 ( 0 )     | 28.36 ( 0.94 ) | 0.06 ( 0.03 )  | 0.27           | 28.3           | 0.06           |\n",
       "| 24 | 1000           |  100           | 0.3            | 0.10           | 0.20           | 0.26 ( 0 )     | 19.57 ( 0.81 ) | 0 ( 0 )        | 0.26           | 19.5           | 0.00           |\n",
       "| 40 | 1000           |  100           | 0.5            | 0.10           | 0.18           | 0.26 ( 0 )     | 20.53 ( 0.72 ) | 0 ( 0 )        | 0.26           | 20.5           | 0.00           |\n",
       "| 56 | 1000           |  100           | 0.7            | 0.10           | 0.21           | 0.26 ( 0 )     | 18.55 ( 0.87 ) | 0 ( 0 )        | 0.26           | 18.5           | 0.00           |\n",
       "| 72 | 1000           |  100           | 0.9            | 0.10           | 0.19           | 0.26 ( 0 )     | 19.91 ( 0.91 ) | 0 ( 0 )        | 0.26           | 19.9           | 0.00           |\n",
       "| 12 | 1000           |  500           | 0.1            | 0.50           | 0.07           | 0.28 ( 0 )     | 61.47 ( 1.31 ) | 0.56 ( 0.07 )  | 0.28           | 61.4           | 0.56           |\n",
       "| 28 | 1000           |  500           | 0.3            | 0.50           | 0.14           | 0.27 ( 0 )     | 36.15 ( 1.61 ) | 0 ( 0 )        | 0.27           | 36.1           | 0.00           |\n",
       "| 44 | 1000           |  500           | 0.5            | 0.50           | 0.14           | 0.26 ( 0 )     | 33.71 ( 1.97 ) | 0 ( 0 )        | 0.26           | 33.7           | 0.00           |\n",
       "| 60 | 1000           |  500           | 0.7            | 0.50           | 0.15           | 0.26 ( 0 )     | 33.3 ( 1.59 )  | 0 ( 0 )        | 0.26           | 33.3           | 0.00           |\n",
       "| 76 | 1000           |  500           | 0.9            | 0.50           | 0.16           | 0.26 ( 0 )     | 30.4 ( 1.66 )  | 0 ( 0 )        | 0.26           | 30.4           | 0.00           |\n",
       "| 16 | 1000           | 1000           | 0.1            | 1.00           | 0.05           | 0.29 ( 0 )     | 71.65 ( 3.47 ) | 1.5 ( 0.1 )    | 0.29           | 71.6           | 1.50           |\n",
       "| 32 | 1000           | 1000           | 0.3            | 1.00           | 0.13           | 0.27 ( 0 )     | 39.23 ( 2 )    | 0 ( 0 )        | 0.27           | 39.2           | 0.00           |\n",
       "| 48 | 1000           | 1000           | 0.5            | 1.00           | 0.14           | 0.27 ( 0 )     | 35.42 ( 1.84 ) | 0 ( 0 )        | 0.27           | 35.4           | 0.00           |\n",
       "| 64 | 1000           | 1000           | 0.7            | 1.00           | 0.14           | 0.27 ( 0 )     | 36.88 ( 2.33 ) | 0 ( 0 )        | 0.27           | 36.8           | 0.00           |\n",
       "| 80 | 1000           | 1000           | 0.9            | 1.00           | 0.13           | 0.27 ( 0 )     | 38.76 ( 2.16 ) | 0 ( 0 )        | 0.27           | 38.7           | 0.00           |\n",
       "\n"
      ],
      "text/plain": [
       "    N    P    Corr Ratio Stab MSE           FP             FN           \n",
       "1   50     50 0.1   1.0  0.02 0.38 ( 0.02 ) 10.9 ( 0.97 )  3.91 ( 0.15 )\n",
       "17  50     50 0.3   1.0  0.17 0.56 ( 0.03 ) 15.98 ( 0.61 ) 0.26 ( 0.05 )\n",
       "33  50     50 0.5   1.0  0.19 0.65 ( 0.05 ) 15.43 ( 0.64 ) 0.1 ( 0.04 ) \n",
       "49  50     50 0.7   1.0  0.18 0.63 ( 0.04 ) 16.71 ( 0.61 ) 0.04 ( 0.02 )\n",
       "65  50     50 0.9   1.0  0.21 0.56 ( 0.03 ) 14.5 ( 0.57 )  0.03 ( 0.02 )\n",
       "5   50    100 0.1   2.0  0.03 0.41 ( 0.02 ) 9.27 ( 0.76 )  4.63 ( 0.09 )\n",
       "21  50    100 0.3   2.0  0.13 0.81 ( 0.05 ) 22.23 ( 1.04 ) 0.7 ( 0.08 ) \n",
       "37  50    100 0.5   2.0  0.16 0.8 ( 0.05 )  21.3 ( 0.83 )  0.3 ( 0.06 ) \n",
       "53  50    100 0.7   2.0  0.18 0.86 ( 0.07 ) 19.83 ( 0.86 ) 0.11 ( 0.03 )\n",
       "69  50    100 0.9   2.0  0.18 0.75 ( 0.04 ) 20.94 ( 0.7 )  0.07 ( 0.03 )\n",
       "9   50    500 0.1  10.0  0.01 0.41 ( 0.02 ) 30.9 ( 3.51 )  4.65 ( 0.13 )\n",
       "25  50    500 0.3  10.0  0.05 1.29 ( 0.07 ) 43.56 ( 3.08 ) 2.15 ( 0.13 )\n",
       "41  50    500 0.5  10.0  0.08 1.61 ( 0.1 )  36.33 ( 2.13 ) 1.58 ( 0.11 )\n",
       "57  50    500 0.7  10.0  0.10 2.19 ( 0.14 ) 33.13 ( 1.76 ) 1.25 ( 0.11 )\n",
       "73  50    500 0.9  10.0  0.10 2.21 ( 0.15 ) 35.26 ( 2.1 )  0.98 ( 0.09 )\n",
       "13  50   1000 0.1  20.0  0.00 0.41 ( 0.02 ) 38.1 ( 4.05 )  5.01 ( 0.11 )\n",
       "29  50   1000 0.3  20.0  0.03 1.3 ( 0.07 )  61.12 ( 4.33 ) 2.56 ( 0.12 )\n",
       "45  50   1000 0.5  20.0  0.04 2 ( 0.1 )     52.83 ( 3.84 ) 2.29 ( 0.1 ) \n",
       "61  50   1000 0.7  20.0  0.06 2.43 ( 0.14 ) 41.11 ( 2.8 )  1.98 ( 0.11 )\n",
       "77  50   1000 0.9  20.0  0.07 3.06 ( 0.18 ) 43.09 ( 2.82 ) 1.57 ( 0.1 ) \n",
       "2   100    50 0.1   0.5  0.06 0.34 ( 0.01 ) 13.39 ( 1.06 ) 2.45 ( 0.16 )\n",
       "18  100    50 0.3   0.5  0.20 0.34 ( 0.01 ) 15.16 ( 0.6 )  0 ( 0 )      \n",
       "34  100    50 0.5   0.5  0.20 0.34 ( 0.01 ) 14.94 ( 0.61 ) 0 ( 0 )      \n",
       "50  100    50 0.7   0.5  0.22 0.33 ( 0.01 ) 14.2 ( 0.55 )  0 ( 0 )      \n",
       "66  100    50 0.9   0.5  0.23 0.33 ( 0.01 ) 13.9 ( 0.6 )   0 ( 0 )      \n",
       "6   100   100 0.1   1.0  0.07 0.34 ( 0.01 ) 10.1 ( 1.04 )  3.87 ( 0.13 )\n",
       "22  100   100 0.3   1.0  0.16 0.42 ( 0.02 ) 23.17 ( 0.94 ) 0.02 ( 0.01 )\n",
       "38  100   100 0.5   1.0  0.18 0.37 ( 0.01 ) 21.74 ( 0.84 ) 0 ( 0 )      \n",
       "54  100   100 0.7   1.0  0.17 0.38 ( 0.01 ) 22.59 ( 1.11 ) 0 ( 0 )      \n",
       "70  100   100 0.9   1.0  0.18 0.38 ( 0.01 ) 20.8 ( 0.95 )  0 ( 0 )      \n",
       "... ...  ...  ...  ...   ...  ...           ...            ...          \n",
       "11  500   500 0.1  1.00  0.08 0.32 ( 0 )    29.71 ( 2.76 ) 2.55 ( 0.12 )\n",
       "27  500   500 0.3  1.00  0.14 0.28 ( 0 )    35.68 ( 1.62 ) 0 ( 0 )      \n",
       "43  500   500 0.5  1.00  0.15 0.28 ( 0 )    32.67 ( 1.7 )  0 ( 0 )      \n",
       "59  500   500 0.7  1.00  0.16 0.28 ( 0 )    30.18 ( 1.66 ) 0 ( 0 )      \n",
       "75  500   500 0.9  1.00  0.15 0.28 ( 0 )    32.6 ( 1.76 )  0 ( 0 )      \n",
       "15  500  1000 0.1  2.00  0.10 0.3 ( 0 )     20.28 ( 2.74 ) 3.25 ( 0.08 )\n",
       "31  500  1000 0.3  2.00  0.11 0.29 ( 0 )    46.27 ( 2.2 )  0 ( 0 )      \n",
       "47  500  1000 0.5  2.00  0.14 0.28 ( 0 )    37.63 ( 1.92 ) 0 ( 0 )      \n",
       "63  500  1000 0.7  2.00  0.12 0.29 ( 0 )    42.75 ( 2.32 ) 0 ( 0 )      \n",
       "79  500  1000 0.9  2.00  0.12 0.29 ( 0 )    41.57 ( 2.28 ) 0 ( 0 )      \n",
       "4   1000   50 0.1  0.05  0.15 0.26 ( 0 )    18.76 ( 0.63 ) 0.02 ( 0.01 )\n",
       "20  1000   50 0.3  0.05  0.22 0.26 ( 0 )    14.34 ( 0.49 ) 0 ( 0 )      \n",
       "36  1000   50 0.5  0.05  0.25 0.26 ( 0 )    12.73 ( 0.5 )  0 ( 0 )      \n",
       "52  1000   50 0.7  0.05  0.25 0.26 ( 0 )    12.77 ( 0.52 ) 0 ( 0 )      \n",
       "68  1000   50 0.9  0.05  0.25 0.26 ( 0 )    12.64 ( 0.49 ) 0 ( 0 )      \n",
       "8   1000  100 0.1  0.10  0.13 0.27 ( 0 )    28.36 ( 0.94 ) 0.06 ( 0.03 )\n",
       "24  1000  100 0.3  0.10  0.20 0.26 ( 0 )    19.57 ( 0.81 ) 0 ( 0 )      \n",
       "40  1000  100 0.5  0.10  0.18 0.26 ( 0 )    20.53 ( 0.72 ) 0 ( 0 )      \n",
       "56  1000  100 0.7  0.10  0.21 0.26 ( 0 )    18.55 ( 0.87 ) 0 ( 0 )      \n",
       "72  1000  100 0.9  0.10  0.19 0.26 ( 0 )    19.91 ( 0.91 ) 0 ( 0 )      \n",
       "12  1000  500 0.1  0.50  0.07 0.28 ( 0 )    61.47 ( 1.31 ) 0.56 ( 0.07 )\n",
       "28  1000  500 0.3  0.50  0.14 0.27 ( 0 )    36.15 ( 1.61 ) 0 ( 0 )      \n",
       "44  1000  500 0.5  0.50  0.14 0.26 ( 0 )    33.71 ( 1.97 ) 0 ( 0 )      \n",
       "60  1000  500 0.7  0.50  0.15 0.26 ( 0 )    33.3 ( 1.59 )  0 ( 0 )      \n",
       "76  1000  500 0.9  0.50  0.16 0.26 ( 0 )    30.4 ( 1.66 )  0 ( 0 )      \n",
       "16  1000 1000 0.1  1.00  0.05 0.29 ( 0 )    71.65 ( 3.47 ) 1.5 ( 0.1 )  \n",
       "32  1000 1000 0.3  1.00  0.13 0.27 ( 0 )    39.23 ( 2 )    0 ( 0 )      \n",
       "48  1000 1000 0.5  1.00  0.14 0.27 ( 0 )    35.42 ( 1.84 ) 0 ( 0 )      \n",
       "64  1000 1000 0.7  1.00  0.14 0.27 ( 0 )    36.88 ( 2.33 ) 0 ( 0 )      \n",
       "80  1000 1000 0.9  1.00  0.13 0.27 ( 0 )    38.76 ( 2.16 ) 0 ( 0 )      \n",
       "    MSE_mean FP_mean FN_mean\n",
       "1   0.38     10.90   3.91   \n",
       "17  0.56     15.90   0.26   \n",
       "33  0.65     15.40   0.10   \n",
       "49  0.63     16.70   0.04   \n",
       "65  0.56     14.50   0.03   \n",
       "5   0.41      9.27   4.63   \n",
       "21  0.81     22.20   0.70   \n",
       "37  0.80     21.30   0.30   \n",
       "53  0.86     19.80   0.11   \n",
       "69  0.75     20.90   0.07   \n",
       "9   0.41     30.90   4.65   \n",
       "25  1.29     43.50   2.15   \n",
       "41  1.61     36.30   1.58   \n",
       "57  2.19     33.10   1.25   \n",
       "73  2.21     35.20   0.98   \n",
       "13  0.41     38.10   5.01   \n",
       "29  1.30     61.10   2.56   \n",
       "45  2.00     52.80   2.29   \n",
       "61  2.43     41.10   1.98   \n",
       "77  3.06     43.00   1.57   \n",
       "2   0.34     13.30   2.45   \n",
       "18  0.34     15.10   0.00   \n",
       "34  0.34     14.90   0.00   \n",
       "50  0.33     14.20   0.00   \n",
       "66  0.33     13.90   0.00   \n",
       "6   0.34     10.10   3.87   \n",
       "22  0.42     23.10   0.02   \n",
       "38  0.37     21.70   0.00   \n",
       "54  0.38     22.50   0.00   \n",
       "70  0.38     20.80   0.00   \n",
       "... ...      ...     ...    \n",
       "11  0.32     29.7    2.55   \n",
       "27  0.28     35.6    0.00   \n",
       "43  0.28     32.6    0.00   \n",
       "59  0.28     30.1    0.00   \n",
       "75  0.28     32.6    0.00   \n",
       "15  0.30     20.2    3.25   \n",
       "31  0.29     46.2    0.00   \n",
       "47  0.28     37.6    0.00   \n",
       "63  0.29     42.7    0.00   \n",
       "79  0.29     41.5    0.00   \n",
       "4   0.26     18.7    0.02   \n",
       "20  0.26     14.3    0.00   \n",
       "36  0.26     12.7    0.00   \n",
       "52  0.26     12.7    0.00   \n",
       "68  0.26     12.6    0.00   \n",
       "8   0.27     28.3    0.06   \n",
       "24  0.26     19.5    0.00   \n",
       "40  0.26     20.5    0.00   \n",
       "56  0.26     18.5    0.00   \n",
       "72  0.26     19.9    0.00   \n",
       "12  0.28     61.4    0.56   \n",
       "28  0.27     36.1    0.00   \n",
       "44  0.26     33.7    0.00   \n",
       "60  0.26     33.3    0.00   \n",
       "76  0.26     30.4    0.00   \n",
       "16  0.29     71.6    1.50   \n",
       "32  0.27     39.2    0.00   \n",
       "48  0.27     35.4    0.00   \n",
       "64  0.27     36.8    0.00   \n",
       "80  0.27     38.7    0.00   "
      ]
     },
     "metadata": {},
     "output_type": "display_data"
    }
   ],
   "source": [
    "result.table_block[with(result.table_block, order(N, P, Corr)),]"
   ]
  },
  {
   "cell_type": "code",
   "execution_count": null,
   "metadata": {},
   "outputs": [],
   "source": []
  },
  {
   "cell_type": "code",
   "execution_count": null,
   "metadata": {},
   "outputs": [],
   "source": []
  }
 ],
 "metadata": {
  "kernelspec": {
   "display_name": "R",
   "language": "R",
   "name": "ir"
  },
  "language_info": {
   "codemirror_mode": "r",
   "file_extension": ".r",
   "mimetype": "text/x-r-source",
   "name": "R",
   "pygments_lexer": "r",
   "version": "3.6.1"
  }
 },
 "nbformat": 4,
 "nbformat_minor": 2
}
