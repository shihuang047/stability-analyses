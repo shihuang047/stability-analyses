{
 "cells": [
  {
   "cell_type": "code",
   "execution_count": 1,
   "metadata": {},
   "outputs": [],
   "source": [
    "load('../sim_data/toe_Elnet.RData')"
   ]
  },
  {
   "cell_type": "code",
   "execution_count": 2,
   "metadata": {},
   "outputs": [],
   "source": [
    "dir = '../sim_data'\n",
    "dim.list = list()\n",
    "size = c(50, 100, 500, 1000)\n",
    "idx = 0\n",
    "for (P in size){\n",
    "    for (N in size){\n",
    "        idx = idx + 1\n",
    "        dim.list[[idx]] = c(P=P, N=N)\n",
    "    }\n",
    "}\n",
    "\n",
    "rou.list = seq(0.1, 0.9, 0.2)\n",
    "\n",
    "files = NULL\n",
    "for (rou in rou.list){\n",
    "  for (dim in dim.list){\n",
    "    p = dim[1]\n",
    "    n = dim[2]\n",
    "    files = cbind(files, paste0(dir, '/sim_toeplitz_corr', rou, paste('P', p, 'N', n, sep='_'), '.RData', sep=''))\n",
    "  }\n",
    "}"
   ]
  },
  {
   "cell_type": "code",
   "execution_count": 3,
   "metadata": {},
   "outputs": [],
   "source": [
    "avg_FDR = NULL\n",
    "for (i in 1:length(files)){\n",
    "    sim_file = files[i]\n",
    "    load(sim_file, dat <- new.env())\n",
    "    sub = dat$sim_array[[i]]\n",
    "    p = sub$p # take true values from 1st replicate of each simulated data\n",
    "    coef = sub$beta\n",
    "    coef.true = which(coef != 0)\n",
    "    \n",
    "    tt = results_toe_elnet[[i]]$Stab.table\n",
    "    \n",
    "    FDR = NULL\n",
    "    for (r in 1:nrow(tt)){\n",
    "        FDR = c(FDR, length(setdiff(which(tt[r, ] !=0), coef.true))/sum(tt[r, ]))\n",
    "\n",
    "    }\n",
    "    \n",
    "    avg_FDR = c(avg_FDR, mean(FDR, na.rm=T))\n",
    "}"
   ]
  },
  {
   "cell_type": "code",
   "execution_count": 4,
   "metadata": {},
   "outputs": [],
   "source": [
    "table_toe = NULL\n",
    "tmp_num_select = rep(0, length(results_toe_elnet))\n",
    "for (i in 1:length(results_toe_elnet)){\n",
    "    table_toe = rbind(table_toe, results_toe_elnet[[i]][c('n', 'p', 'rou', 'FP', 'FN', 'MSE', 'Stab')])\n",
    "    tmp_num_select[i] = mean(rowSums(results_toe_elnet[[i]]$Stab.table))\n",
    "    \n",
    "}\n",
    "table_toe = as.data.frame(table_toe)\n",
    "table_toe$num_select = tmp_num_select\n",
    "table_toe$FDR = round(avg_FDR,2)"
   ]
  },
  {
   "cell_type": "code",
   "execution_count": 5,
   "metadata": {},
   "outputs": [
    {
     "data": {
      "text/html": [
       "<table>\n",
       "<thead><tr><th scope=col>n</th><th scope=col>p</th><th scope=col>rou</th><th scope=col>FP</th><th scope=col>FN</th><th scope=col>MSE</th><th scope=col>Stab</th><th scope=col>num_select</th><th scope=col>FDR</th></tr></thead>\n",
       "<tbody>\n",
       "\t<tr><td>50            </td><td>50            </td><td>0.1           </td><td>14.72 ( 0.57 )</td><td>0.01 ( 0.01 ) </td><td>0.6 ( 0.03 )  </td><td>0.21          </td><td>19.71         </td><td>0.67          </td></tr>\n",
       "\t<tr><td>100          </td><td>50           </td><td>0.1          </td><td>13.7 ( 0.66 )</td><td>0 ( 0 )      </td><td>0.34 ( 0.01 )</td><td>0.23         </td><td>18.70        </td><td>0.64         </td></tr>\n",
       "\t<tr><td>500           </td><td>50            </td><td>0.1           </td><td>13.59 ( 0.55 )</td><td>0 ( 0 )       </td><td>0.26 ( 0 )    </td><td>0.23          </td><td>18.59         </td><td>0.65          </td></tr>\n",
       "\t<tr><td>1000          </td><td>50            </td><td>0.1           </td><td>12.64 ( 0.54 )</td><td>0 ( 0 )       </td><td>0.26 ( 0 )    </td><td>0.25          </td><td>17.64         </td><td>0.63          </td></tr>\n",
       "\t<tr><td>50            </td><td>100           </td><td>0.1           </td><td>19.33 ( 0.67 )</td><td>0 ( 0 )       </td><td>0.69 ( 0.05 ) </td><td>0.2           </td><td>24.33         </td><td>0.73          </td></tr>\n",
       "\t<tr><td>100          </td><td>100          </td><td>0.1          </td><td>17.77 ( 0.8 )</td><td>0 ( 0 )      </td><td>0.38 ( 0.01 )</td><td>0.22         </td><td>22.77        </td><td>0.70         </td></tr>\n",
       "</tbody>\n",
       "</table>\n"
      ],
      "text/latex": [
       "\\begin{tabular}{r|lllllllll}\n",
       " n & p & rou & FP & FN & MSE & Stab & num\\_select & FDR\\\\\n",
       "\\hline\n",
       "\t 50             & 50             & 0.1            & 14.72 ( 0.57 ) & 0.01 ( 0.01 )  & 0.6 ( 0.03 )   & 0.21           & 19.71          & 0.67          \\\\\n",
       "\t 100           & 50            & 0.1           & 13.7 ( 0.66 ) & 0 ( 0 )       & 0.34 ( 0.01 ) & 0.23          & 18.70         & 0.64         \\\\\n",
       "\t 500            & 50             & 0.1            & 13.59 ( 0.55 ) & 0 ( 0 )        & 0.26 ( 0 )     & 0.23           & 18.59          & 0.65          \\\\\n",
       "\t 1000           & 50             & 0.1            & 12.64 ( 0.54 ) & 0 ( 0 )        & 0.26 ( 0 )     & 0.25           & 17.64          & 0.63          \\\\\n",
       "\t 50             & 100            & 0.1            & 19.33 ( 0.67 ) & 0 ( 0 )        & 0.69 ( 0.05 )  & 0.2            & 24.33          & 0.73          \\\\\n",
       "\t 100           & 100           & 0.1           & 17.77 ( 0.8 ) & 0 ( 0 )       & 0.38 ( 0.01 ) & 0.22          & 22.77         & 0.70         \\\\\n",
       "\\end{tabular}\n"
      ],
      "text/markdown": [
       "\n",
       "| n | p | rou | FP | FN | MSE | Stab | num_select | FDR |\n",
       "|---|---|---|---|---|---|---|---|---|\n",
       "| 50             | 50             | 0.1            | 14.72 ( 0.57 ) | 0.01 ( 0.01 )  | 0.6 ( 0.03 )   | 0.21           | 19.71          | 0.67           |\n",
       "| 100           | 50            | 0.1           | 13.7 ( 0.66 ) | 0 ( 0 )       | 0.34 ( 0.01 ) | 0.23          | 18.70         | 0.64          |\n",
       "| 500            | 50             | 0.1            | 13.59 ( 0.55 ) | 0 ( 0 )        | 0.26 ( 0 )     | 0.23           | 18.59          | 0.65           |\n",
       "| 1000           | 50             | 0.1            | 12.64 ( 0.54 ) | 0 ( 0 )        | 0.26 ( 0 )     | 0.25           | 17.64          | 0.63           |\n",
       "| 50             | 100            | 0.1            | 19.33 ( 0.67 ) | 0 ( 0 )        | 0.69 ( 0.05 )  | 0.2            | 24.33          | 0.73           |\n",
       "| 100           | 100           | 0.1           | 17.77 ( 0.8 ) | 0 ( 0 )       | 0.38 ( 0.01 ) | 0.22          | 22.77         | 0.70          |\n",
       "\n"
      ],
      "text/plain": [
       "  n    p   rou FP             FN            MSE           Stab num_select FDR \n",
       "1 50   50  0.1 14.72 ( 0.57 ) 0.01 ( 0.01 ) 0.6 ( 0.03 )  0.21 19.71      0.67\n",
       "2 100  50  0.1 13.7 ( 0.66 )  0 ( 0 )       0.34 ( 0.01 ) 0.23 18.70      0.64\n",
       "3 500  50  0.1 13.59 ( 0.55 ) 0 ( 0 )       0.26 ( 0 )    0.23 18.59      0.65\n",
       "4 1000 50  0.1 12.64 ( 0.54 ) 0 ( 0 )       0.26 ( 0 )    0.25 17.64      0.63\n",
       "5 50   100 0.1 19.33 ( 0.67 ) 0 ( 0 )       0.69 ( 0.05 ) 0.2  24.33      0.73\n",
       "6 100  100 0.1 17.77 ( 0.8 )  0 ( 0 )       0.38 ( 0.01 ) 0.22 22.77      0.70"
      ]
     },
     "metadata": {},
     "output_type": "display_data"
    }
   ],
   "source": [
    "head(table_toe)"
   ]
  },
  {
   "cell_type": "code",
   "execution_count": 6,
   "metadata": {},
   "outputs": [
    {
     "name": "stderr",
     "output_type": "stream",
     "text": [
      "extract_numeric() is deprecated: please use readr::parse_number() instead\n",
      "extract_numeric() is deprecated: please use readr::parse_number() instead\n"
     ]
    }
   ],
   "source": [
    "# export result\n",
    "result.table_toe <- apply(table_toe,2,as.character)\n",
    "rownames(result.table_toe) = rownames(table_toe)\n",
    "result.table_toe = as.data.frame(result.table_toe)\n",
    "\n",
    "# extract numbers only for 'n' & 'p'\n",
    "result.table_toe$n = tidyr::extract_numeric(result.table_toe$n)\n",
    "result.table_toe$p = tidyr::extract_numeric(result.table_toe$p)\n",
    "result.table_toe$ratio = result.table_toe$p / result.table_toe$n\n",
    "\n",
    "result.table_toe = result.table_toe[c('n', 'p', 'rou', 'ratio', 'Stab', 'MSE', 'FP', 'FN', 'num_select', 'FDR')]\n",
    "colnames(result.table_toe)[1:4] = c('N', 'P', 'Corr', 'Ratio')"
   ]
  },
  {
   "cell_type": "code",
   "execution_count": 7,
   "metadata": {},
   "outputs": [
    {
     "name": "stderr",
     "output_type": "stream",
     "text": [
      "Warning message in eval(expr, envir, enclos):\n",
      "“NAs introduced by coercion”Warning message in eval(expr, envir, enclos):\n",
      "“NAs introduced by coercion”"
     ]
    }
   ],
   "source": [
    "# convert interested measurements to be numeric\n",
    "result.table_toe$Stab = as.numeric(as.character(result.table_toe$Stab))\n",
    "result.table_toe$MSE_mean = as.numeric(substr(result.table_toe$MSE, start=1, stop=4))\n",
    "result.table_toe$FP_mean = as.numeric(substr(result.table_toe$FP, start=1, stop=4))\n",
    "result.table_toe$FN_mean = as.numeric(substr(result.table_toe$FN, start=1, stop=4))\n",
    "result.table_toe$FN_mean[is.na(result.table_toe$FN_mean)] = 0\n",
    "result.table_toe$num_select = as.numeric(as.character(result.table_toe$num_select))"
   ]
  },
  {
   "cell_type": "code",
   "execution_count": 8,
   "metadata": {},
   "outputs": [
    {
     "data": {
      "text/html": [
       "<table>\n",
       "<thead><tr><th></th><th scope=col>N</th><th scope=col>P</th><th scope=col>Corr</th><th scope=col>Ratio</th><th scope=col>Stab</th><th scope=col>MSE</th><th scope=col>FP</th><th scope=col>FN</th><th scope=col>num_select</th><th scope=col>FDR</th><th scope=col>MSE_mean</th><th scope=col>FP_mean</th><th scope=col>FN_mean</th></tr></thead>\n",
       "<tbody>\n",
       "\t<tr><th scope=row>24</th><td>1000         </td><td>100          </td><td>0.3          </td><td>0.1          </td><td>0.20         </td><td>0.26 ( 0 )   </td><td>19 ( 0.86 )  </td><td>0 ( 0 )      </td><td>24.00        </td><td>0.71         </td><td>0.26         </td><td>NA           </td><td>0.00         </td></tr>\n",
       "\t<tr><th scope=row>66</th><td> 100         </td><td> 50          </td><td>0.9          </td><td>0.5          </td><td>0.21         </td><td>0.35 ( 0.01 )</td><td>14 ( 0.69 )  </td><td>0.27 ( 0.06 )</td><td>18.73        </td><td>0.66         </td><td>0.35         </td><td>NA           </td><td>0.27         </td></tr>\n",
       "</tbody>\n",
       "</table>\n"
      ],
      "text/latex": [
       "\\begin{tabular}{r|lllllllllllll}\n",
       "  & N & P & Corr & Ratio & Stab & MSE & FP & FN & num\\_select & FDR & MSE\\_mean & FP\\_mean & FN\\_mean\\\\\n",
       "\\hline\n",
       "\t24 & 1000          & 100           & 0.3           & 0.1           & 0.20          & 0.26 ( 0 )    & 19 ( 0.86 )   & 0 ( 0 )       & 24.00         & 0.71          & 0.26          & NA            & 0.00         \\\\\n",
       "\t66 &  100          &  50           & 0.9           & 0.5           & 0.21          & 0.35 ( 0.01 ) & 14 ( 0.69 )   & 0.27 ( 0.06 ) & 18.73         & 0.66          & 0.35          & NA            & 0.27         \\\\\n",
       "\\end{tabular}\n"
      ],
      "text/markdown": [
       "\n",
       "| <!--/--> | N | P | Corr | Ratio | Stab | MSE | FP | FN | num_select | FDR | MSE_mean | FP_mean | FN_mean |\n",
       "|---|---|---|---|---|---|---|---|---|---|---|---|---|---|\n",
       "| 24 | 1000          | 100           | 0.3           | 0.1           | 0.20          | 0.26 ( 0 )    | 19 ( 0.86 )   | 0 ( 0 )       | 24.00         | 0.71          | 0.26          | NA            | 0.00          |\n",
       "| 66 |  100          |  50           | 0.9           | 0.5           | 0.21          | 0.35 ( 0.01 ) | 14 ( 0.69 )   | 0.27 ( 0.06 ) | 18.73         | 0.66          | 0.35          | NA            | 0.27          |\n",
       "\n"
      ],
      "text/plain": [
       "   N    P   Corr Ratio Stab MSE           FP          FN            num_select\n",
       "24 1000 100 0.3  0.1   0.20 0.26 ( 0 )    19 ( 0.86 ) 0 ( 0 )       24.00     \n",
       "66  100  50 0.9  0.5   0.21 0.35 ( 0.01 ) 14 ( 0.69 ) 0.27 ( 0.06 ) 18.73     \n",
       "   FDR  MSE_mean FP_mean FN_mean\n",
       "24 0.71 0.26     NA      0.00   \n",
       "66 0.66 0.35     NA      0.27   "
      ]
     },
     "metadata": {},
     "output_type": "display_data"
    }
   ],
   "source": [
    "# check whether missing values exists\n",
    "result.table_toe[rowSums(is.na(result.table_toe)) > 0,]"
   ]
  },
  {
   "cell_type": "code",
   "execution_count": 9,
   "metadata": {},
   "outputs": [],
   "source": [
    "# recover values\n",
    "result.table_toe$FP_mean[24] = 19\n",
    "result.table_toe$FP_mean[66] = 14"
   ]
  },
  {
   "cell_type": "code",
   "execution_count": 10,
   "metadata": {},
   "outputs": [
    {
     "data": {
      "text/html": [
       "<table>\n",
       "<thead><tr><th></th><th scope=col>N</th><th scope=col>P</th><th scope=col>Corr</th><th scope=col>Ratio</th><th scope=col>Stab</th><th scope=col>MSE</th><th scope=col>FP</th><th scope=col>FN</th><th scope=col>num_select</th><th scope=col>FDR</th><th scope=col>MSE_mean</th><th scope=col>FP_mean</th><th scope=col>FN_mean</th></tr></thead>\n",
       "<tbody>\n",
       "\t<tr><th scope=row>24</th><td>1000         </td><td>100          </td><td>0.3          </td><td>0.1          </td><td>0.20         </td><td>0.26 ( 0 )   </td><td>19 ( 0.86 )  </td><td>0 ( 0 )      </td><td>24.00        </td><td>0.71         </td><td>0.26         </td><td>19           </td><td>0.00         </td></tr>\n",
       "\t<tr><th scope=row>66</th><td> 100         </td><td> 50          </td><td>0.9          </td><td>0.5          </td><td>0.21         </td><td>0.35 ( 0.01 )</td><td>14 ( 0.69 )  </td><td>0.27 ( 0.06 )</td><td>18.73        </td><td>0.66         </td><td>0.35         </td><td>14           </td><td>0.27         </td></tr>\n",
       "</tbody>\n",
       "</table>\n"
      ],
      "text/latex": [
       "\\begin{tabular}{r|lllllllllllll}\n",
       "  & N & P & Corr & Ratio & Stab & MSE & FP & FN & num\\_select & FDR & MSE\\_mean & FP\\_mean & FN\\_mean\\\\\n",
       "\\hline\n",
       "\t24 & 1000          & 100           & 0.3           & 0.1           & 0.20          & 0.26 ( 0 )    & 19 ( 0.86 )   & 0 ( 0 )       & 24.00         & 0.71          & 0.26          & 19            & 0.00         \\\\\n",
       "\t66 &  100          &  50           & 0.9           & 0.5           & 0.21          & 0.35 ( 0.01 ) & 14 ( 0.69 )   & 0.27 ( 0.06 ) & 18.73         & 0.66          & 0.35          & 14            & 0.27         \\\\\n",
       "\\end{tabular}\n"
      ],
      "text/markdown": [
       "\n",
       "| <!--/--> | N | P | Corr | Ratio | Stab | MSE | FP | FN | num_select | FDR | MSE_mean | FP_mean | FN_mean |\n",
       "|---|---|---|---|---|---|---|---|---|---|---|---|---|---|\n",
       "| 24 | 1000          | 100           | 0.3           | 0.1           | 0.20          | 0.26 ( 0 )    | 19 ( 0.86 )   | 0 ( 0 )       | 24.00         | 0.71          | 0.26          | 19            | 0.00          |\n",
       "| 66 |  100          |  50           | 0.9           | 0.5           | 0.21          | 0.35 ( 0.01 ) | 14 ( 0.69 )   | 0.27 ( 0.06 ) | 18.73         | 0.66          | 0.35          | 14            | 0.27          |\n",
       "\n"
      ],
      "text/plain": [
       "   N    P   Corr Ratio Stab MSE           FP          FN            num_select\n",
       "24 1000 100 0.3  0.1   0.20 0.26 ( 0 )    19 ( 0.86 ) 0 ( 0 )       24.00     \n",
       "66  100  50 0.9  0.5   0.21 0.35 ( 0.01 ) 14 ( 0.69 ) 0.27 ( 0.06 ) 18.73     \n",
       "   FDR  MSE_mean FP_mean FN_mean\n",
       "24 0.71 0.26     19      0.00   \n",
       "66 0.66 0.35     14      0.27   "
      ]
     },
     "metadata": {},
     "output_type": "display_data"
    }
   ],
   "source": [
    "result.table_toe[c(24, 66), ]"
   ]
  },
  {
   "cell_type": "code",
   "execution_count": 11,
   "metadata": {},
   "outputs": [
    {
     "data": {
      "text/html": [
       "<table>\n",
       "<thead><tr><th scope=col>N</th><th scope=col>P</th><th scope=col>Corr</th><th scope=col>Ratio</th><th scope=col>Stab</th><th scope=col>MSE</th><th scope=col>FP</th><th scope=col>FN</th><th scope=col>num_select</th><th scope=col>FDR</th><th scope=col>MSE_mean</th><th scope=col>FP_mean</th><th scope=col>FN_mean</th></tr></thead>\n",
       "<tbody>\n",
       "\t<tr><td>  50          </td><td> 50           </td><td>0.1           </td><td>1.00          </td><td>0.21          </td><td>0.6 ( 0.03 )  </td><td>14.72 ( 0.57 )</td><td>0.01 ( 0.01 ) </td><td>19.71         </td><td>0.67          </td><td>0.60          </td><td>14.7          </td><td>0.01          </td></tr>\n",
       "\t<tr><td> 100          </td><td> 50           </td><td>0.1           </td><td>0.50          </td><td>0.23          </td><td>0.34 ( 0.01 ) </td><td>13.7 ( 0.66 ) </td><td>0 ( 0 )       </td><td>18.70         </td><td>0.64          </td><td>0.34          </td><td>13.7          </td><td>0.00          </td></tr>\n",
       "\t<tr><td> 500          </td><td> 50           </td><td>0.1           </td><td>0.10          </td><td>0.23          </td><td>0.26 ( 0 )    </td><td>13.59 ( 0.55 )</td><td>0 ( 0 )       </td><td>18.59         </td><td>0.65          </td><td>0.26          </td><td>13.5          </td><td>0.00          </td></tr>\n",
       "\t<tr><td>1000          </td><td> 50           </td><td>0.1           </td><td>0.05          </td><td>0.25          </td><td>0.26 ( 0 )    </td><td>12.64 ( 0.54 )</td><td>0 ( 0 )       </td><td>17.64         </td><td>0.63          </td><td>0.26          </td><td>12.6          </td><td>0.00          </td></tr>\n",
       "\t<tr><td>  50          </td><td>100           </td><td>0.1           </td><td>2.00          </td><td>0.20          </td><td>0.69 ( 0.05 ) </td><td>19.33 ( 0.67 )</td><td>0 ( 0 )       </td><td>24.33         </td><td>0.73          </td><td>0.69          </td><td>19.3          </td><td>0.00          </td></tr>\n",
       "\t<tr><td> 100          </td><td>100           </td><td>0.1           </td><td>1.00          </td><td>0.22          </td><td>0.38 ( 0.01 ) </td><td>17.77 ( 0.8 ) </td><td>0 ( 0 )       </td><td>22.77         </td><td>0.7           </td><td>0.38          </td><td>17.7          </td><td>0.00          </td></tr>\n",
       "</tbody>\n",
       "</table>\n"
      ],
      "text/latex": [
       "\\begin{tabular}{r|lllllllllllll}\n",
       " N & P & Corr & Ratio & Stab & MSE & FP & FN & num\\_select & FDR & MSE\\_mean & FP\\_mean & FN\\_mean\\\\\n",
       "\\hline\n",
       "\t   50           &  50            & 0.1            & 1.00           & 0.21           & 0.6 ( 0.03 )   & 14.72 ( 0.57 ) & 0.01 ( 0.01 )  & 19.71          & 0.67           & 0.60           & 14.7           & 0.01          \\\\\n",
       "\t  100           &  50            & 0.1            & 0.50           & 0.23           & 0.34 ( 0.01 )  & 13.7 ( 0.66 )  & 0 ( 0 )        & 18.70          & 0.64           & 0.34           & 13.7           & 0.00          \\\\\n",
       "\t  500           &  50            & 0.1            & 0.10           & 0.23           & 0.26 ( 0 )     & 13.59 ( 0.55 ) & 0 ( 0 )        & 18.59          & 0.65           & 0.26           & 13.5           & 0.00          \\\\\n",
       "\t 1000           &  50            & 0.1            & 0.05           & 0.25           & 0.26 ( 0 )     & 12.64 ( 0.54 ) & 0 ( 0 )        & 17.64          & 0.63           & 0.26           & 12.6           & 0.00          \\\\\n",
       "\t   50           & 100            & 0.1            & 2.00           & 0.20           & 0.69 ( 0.05 )  & 19.33 ( 0.67 ) & 0 ( 0 )        & 24.33          & 0.73           & 0.69           & 19.3           & 0.00          \\\\\n",
       "\t  100           & 100            & 0.1            & 1.00           & 0.22           & 0.38 ( 0.01 )  & 17.77 ( 0.8 )  & 0 ( 0 )        & 22.77          & 0.7            & 0.38           & 17.7           & 0.00          \\\\\n",
       "\\end{tabular}\n"
      ],
      "text/markdown": [
       "\n",
       "| N | P | Corr | Ratio | Stab | MSE | FP | FN | num_select | FDR | MSE_mean | FP_mean | FN_mean |\n",
       "|---|---|---|---|---|---|---|---|---|---|---|---|---|\n",
       "|   50           |  50            | 0.1            | 1.00           | 0.21           | 0.6 ( 0.03 )   | 14.72 ( 0.57 ) | 0.01 ( 0.01 )  | 19.71          | 0.67           | 0.60           | 14.7           | 0.01           |\n",
       "|  100           |  50            | 0.1            | 0.50           | 0.23           | 0.34 ( 0.01 )  | 13.7 ( 0.66 )  | 0 ( 0 )        | 18.70          | 0.64           | 0.34           | 13.7           | 0.00           |\n",
       "|  500           |  50            | 0.1            | 0.10           | 0.23           | 0.26 ( 0 )     | 13.59 ( 0.55 ) | 0 ( 0 )        | 18.59          | 0.65           | 0.26           | 13.5           | 0.00           |\n",
       "| 1000           |  50            | 0.1            | 0.05           | 0.25           | 0.26 ( 0 )     | 12.64 ( 0.54 ) | 0 ( 0 )        | 17.64          | 0.63           | 0.26           | 12.6           | 0.00           |\n",
       "|   50           | 100            | 0.1            | 2.00           | 0.20           | 0.69 ( 0.05 )  | 19.33 ( 0.67 ) | 0 ( 0 )        | 24.33          | 0.73           | 0.69           | 19.3           | 0.00           |\n",
       "|  100           | 100            | 0.1            | 1.00           | 0.22           | 0.38 ( 0.01 )  | 17.77 ( 0.8 )  | 0 ( 0 )        | 22.77          | 0.7            | 0.38           | 17.7           | 0.00           |\n",
       "\n"
      ],
      "text/plain": [
       "  N    P   Corr Ratio Stab MSE           FP             FN           \n",
       "1   50  50 0.1  1.00  0.21 0.6 ( 0.03 )  14.72 ( 0.57 ) 0.01 ( 0.01 )\n",
       "2  100  50 0.1  0.50  0.23 0.34 ( 0.01 ) 13.7 ( 0.66 )  0 ( 0 )      \n",
       "3  500  50 0.1  0.10  0.23 0.26 ( 0 )    13.59 ( 0.55 ) 0 ( 0 )      \n",
       "4 1000  50 0.1  0.05  0.25 0.26 ( 0 )    12.64 ( 0.54 ) 0 ( 0 )      \n",
       "5   50 100 0.1  2.00  0.20 0.69 ( 0.05 ) 19.33 ( 0.67 ) 0 ( 0 )      \n",
       "6  100 100 0.1  1.00  0.22 0.38 ( 0.01 ) 17.77 ( 0.8 )  0 ( 0 )      \n",
       "  num_select FDR  MSE_mean FP_mean FN_mean\n",
       "1 19.71      0.67 0.60     14.7    0.01   \n",
       "2 18.70      0.64 0.34     13.7    0.00   \n",
       "3 18.59      0.65 0.26     13.5    0.00   \n",
       "4 17.64      0.63 0.26     12.6    0.00   \n",
       "5 24.33      0.73 0.69     19.3    0.00   \n",
       "6 22.77      0.7  0.38     17.7    0.00   "
      ]
     },
     "metadata": {},
     "output_type": "display_data"
    }
   ],
   "source": [
    "head(result.table_toe)"
   ]
  },
  {
   "cell_type": "code",
   "execution_count": 12,
   "metadata": {},
   "outputs": [
    {
     "data": {
      "text/html": [
       "<table>\n",
       "<thead><tr><th></th><th scope=col>N</th><th scope=col>P</th><th scope=col>Corr</th><th scope=col>Ratio</th><th scope=col>Stab</th><th scope=col>MSE</th><th scope=col>FP</th><th scope=col>FN</th><th scope=col>num_select</th><th scope=col>FDR</th><th scope=col>MSE_mean</th><th scope=col>FP_mean</th><th scope=col>FN_mean</th></tr></thead>\n",
       "<tbody>\n",
       "\t<tr><th scope=row>75</th><td> 500          </td><td> 500          </td><td>0.9           </td><td> 1.0          </td><td>0.12          </td><td>0.29 ( 0 )    </td><td>41.14 ( 1.02 )</td><td>0 ( 0 )       </td><td>46.14         </td><td>0.86          </td><td>0.29          </td><td>41.1          </td><td>0.00          </td></tr>\n",
       "\t<tr><th scope=row>76</th><td>1000          </td><td> 500          </td><td>0.9           </td><td> 0.5          </td><td>0.13          </td><td>0.27 ( 0 )    </td><td>39.21 ( 0.84 )</td><td>0 ( 0 )       </td><td>44.21         </td><td>0.86          </td><td>0.27          </td><td>39.2          </td><td>0.00          </td></tr>\n",
       "\t<tr><th scope=row>77</th><td>  50          </td><td>1000          </td><td>0.9           </td><td>20.0          </td><td>0.04          </td><td>0.94 ( 0.05 ) </td><td>36.59 ( 3.6 ) </td><td>3.72 ( 0.08 ) </td><td>37.87         </td><td>0.92          </td><td>0.94          </td><td>36.5          </td><td>3.72          </td></tr>\n",
       "\t<tr><th scope=row>78</th><td> 100          </td><td>1000          </td><td>0.9           </td><td>10.0          </td><td>0.09          </td><td>0.59 ( 0.02 ) </td><td>32.05 ( 1.85 )</td><td>2.59 ( 0.06 ) </td><td>34.46         </td><td>0.88          </td><td>0.59          </td><td>32.0          </td><td>2.59          </td></tr>\n",
       "\t<tr><th scope=row>79</th><td> 500          </td><td>1000          </td><td>0.9           </td><td> 2.0          </td><td>0.09          </td><td>0.3 ( 0 )     </td><td>57.69 ( 1.57 )</td><td>0 ( 0 )       </td><td>62.69         </td><td>0.9           </td><td>0.30          </td><td>57.6          </td><td>0.00          </td></tr>\n",
       "\t<tr><th scope=row>80</th><td>1000          </td><td>1000          </td><td>0.9           </td><td> 1.0          </td><td>0.10          </td><td>0.27 ( 0 )    </td><td>52.35 ( 1.6 ) </td><td>0 ( 0 )       </td><td>57.35         </td><td>0.89          </td><td>0.27          </td><td>52.3          </td><td>0.00          </td></tr>\n",
       "</tbody>\n",
       "</table>\n"
      ],
      "text/latex": [
       "\\begin{tabular}{r|lllllllllllll}\n",
       "  & N & P & Corr & Ratio & Stab & MSE & FP & FN & num\\_select & FDR & MSE\\_mean & FP\\_mean & FN\\_mean\\\\\n",
       "\\hline\n",
       "\t75 &  500           &  500           & 0.9            &  1.0           & 0.12           & 0.29 ( 0 )     & 41.14 ( 1.02 ) & 0 ( 0 )        & 46.14          & 0.86           & 0.29           & 41.1           & 0.00          \\\\\n",
       "\t76 & 1000           &  500           & 0.9            &  0.5           & 0.13           & 0.27 ( 0 )     & 39.21 ( 0.84 ) & 0 ( 0 )        & 44.21          & 0.86           & 0.27           & 39.2           & 0.00          \\\\\n",
       "\t77 &   50           & 1000           & 0.9            & 20.0           & 0.04           & 0.94 ( 0.05 )  & 36.59 ( 3.6 )  & 3.72 ( 0.08 )  & 37.87          & 0.92           & 0.94           & 36.5           & 3.72          \\\\\n",
       "\t78 &  100           & 1000           & 0.9            & 10.0           & 0.09           & 0.59 ( 0.02 )  & 32.05 ( 1.85 ) & 2.59 ( 0.06 )  & 34.46          & 0.88           & 0.59           & 32.0           & 2.59          \\\\\n",
       "\t79 &  500           & 1000           & 0.9            &  2.0           & 0.09           & 0.3 ( 0 )      & 57.69 ( 1.57 ) & 0 ( 0 )        & 62.69          & 0.9            & 0.30           & 57.6           & 0.00          \\\\\n",
       "\t80 & 1000           & 1000           & 0.9            &  1.0           & 0.10           & 0.27 ( 0 )     & 52.35 ( 1.6 )  & 0 ( 0 )        & 57.35          & 0.89           & 0.27           & 52.3           & 0.00          \\\\\n",
       "\\end{tabular}\n"
      ],
      "text/markdown": [
       "\n",
       "| <!--/--> | N | P | Corr | Ratio | Stab | MSE | FP | FN | num_select | FDR | MSE_mean | FP_mean | FN_mean |\n",
       "|---|---|---|---|---|---|---|---|---|---|---|---|---|---|\n",
       "| 75 |  500           |  500           | 0.9            |  1.0           | 0.12           | 0.29 ( 0 )     | 41.14 ( 1.02 ) | 0 ( 0 )        | 46.14          | 0.86           | 0.29           | 41.1           | 0.00           |\n",
       "| 76 | 1000           |  500           | 0.9            |  0.5           | 0.13           | 0.27 ( 0 )     | 39.21 ( 0.84 ) | 0 ( 0 )        | 44.21          | 0.86           | 0.27           | 39.2           | 0.00           |\n",
       "| 77 |   50           | 1000           | 0.9            | 20.0           | 0.04           | 0.94 ( 0.05 )  | 36.59 ( 3.6 )  | 3.72 ( 0.08 )  | 37.87          | 0.92           | 0.94           | 36.5           | 3.72           |\n",
       "| 78 |  100           | 1000           | 0.9            | 10.0           | 0.09           | 0.59 ( 0.02 )  | 32.05 ( 1.85 ) | 2.59 ( 0.06 )  | 34.46          | 0.88           | 0.59           | 32.0           | 2.59           |\n",
       "| 79 |  500           | 1000           | 0.9            |  2.0           | 0.09           | 0.3 ( 0 )      | 57.69 ( 1.57 ) | 0 ( 0 )        | 62.69          | 0.9            | 0.30           | 57.6           | 0.00           |\n",
       "| 80 | 1000           | 1000           | 0.9            |  1.0           | 0.10           | 0.27 ( 0 )     | 52.35 ( 1.6 )  | 0 ( 0 )        | 57.35          | 0.89           | 0.27           | 52.3           | 0.00           |\n",
       "\n"
      ],
      "text/plain": [
       "   N    P    Corr Ratio Stab MSE           FP             FN           \n",
       "75  500  500 0.9   1.0  0.12 0.29 ( 0 )    41.14 ( 1.02 ) 0 ( 0 )      \n",
       "76 1000  500 0.9   0.5  0.13 0.27 ( 0 )    39.21 ( 0.84 ) 0 ( 0 )      \n",
       "77   50 1000 0.9  20.0  0.04 0.94 ( 0.05 ) 36.59 ( 3.6 )  3.72 ( 0.08 )\n",
       "78  100 1000 0.9  10.0  0.09 0.59 ( 0.02 ) 32.05 ( 1.85 ) 2.59 ( 0.06 )\n",
       "79  500 1000 0.9   2.0  0.09 0.3 ( 0 )     57.69 ( 1.57 ) 0 ( 0 )      \n",
       "80 1000 1000 0.9   1.0  0.10 0.27 ( 0 )    52.35 ( 1.6 )  0 ( 0 )      \n",
       "   num_select FDR  MSE_mean FP_mean FN_mean\n",
       "75 46.14      0.86 0.29     41.1    0.00   \n",
       "76 44.21      0.86 0.27     39.2    0.00   \n",
       "77 37.87      0.92 0.94     36.5    3.72   \n",
       "78 34.46      0.88 0.59     32.0    2.59   \n",
       "79 62.69      0.9  0.30     57.6    0.00   \n",
       "80 57.35      0.89 0.27     52.3    0.00   "
      ]
     },
     "metadata": {},
     "output_type": "display_data"
    }
   ],
   "source": [
    "tail(result.table_toe)"
   ]
  },
  {
   "cell_type": "code",
   "execution_count": 13,
   "metadata": {},
   "outputs": [],
   "source": [
    "## export\n",
    "write.table(result.table_toe, '../results_summary/sim_toe_elnet.txt', sep='\\t', row.names=F)"
   ]
  },
  {
   "cell_type": "code",
   "execution_count": 10,
   "metadata": {},
   "outputs": [
    {
     "name": "stderr",
     "output_type": "stream",
     "text": [
      "Registered S3 methods overwritten by 'ggplot2':\n",
      "  method         from \n",
      "  [.quosures     rlang\n",
      "  c.quosures     rlang\n",
      "  print.quosures rlang\n",
      "Loading required package: magrittr\n",
      "Warning message:\n",
      "“Using size for a discrete variable is not advised.”Warning message:\n",
      "“Using alpha for a discrete variable is not advised.”Warning message:\n",
      "“Using size for a discrete variable is not advised.”Warning message:\n",
      "“Using alpha for a discrete variable is not advised.”Warning message:\n",
      "“Using size for a discrete variable is not advised.”Warning message:\n",
      "“Using alpha for a discrete variable is not advised.”Warning message:\n",
      "“Using size for a discrete variable is not advised.”Warning message:\n",
      "“Using alpha for a discrete variable is not advised.”file saved to ../figures_sim/figure_toe_elnet.pdf\n"
     ]
    }
   ],
   "source": [
    "library(ggplot2)\n",
    "library(ggpubr)\n",
    "result.table_toe$N = as.factor(result.table_toe$N)\n",
    "fig_toe_stab = ggplot(result.table_toe, aes(x=P, y=Stab, color=N)) + \n",
    "               geom_point(aes(size = Corr, alpha=Corr)) + theme(legend.position = \"none\") +\n",
    "               scale_size_discrete(range = c(1,4)) + scale_alpha_discrete(range = c(1, 0.4)) + ylab('Stability')\n",
    "\n",
    "fig_toe_mse = ggplot(result.table_toe, aes(x=P, y=MSE_mean, color=N)) + \n",
    "              geom_point(aes(size = Corr, alpha=Corr)) + theme(legend.position=\"none\") +\n",
    "              scale_size_discrete(range = c(1,4)) + scale_alpha_discrete(range = c(1, 0.4)) + ylab('MSE')\n",
    "\n",
    "fig_toe_fp = ggplot(result.table_toe, aes(x=P, y=FP_mean, color=N)) + \n",
    "             geom_point(aes(size = Corr, alpha=Corr)) + theme(legend.position = \"none\") +\n",
    "             scale_size_discrete(range = c(1,4)) + scale_alpha_discrete(range = c(1, 0.4)) + ylab('False Positives')\n",
    "\n",
    "fig_toe_fn = ggplot(result.table_toe, aes(x=P, y=FN_mean, color=N)) + \n",
    "             geom_point(aes(size = Corr, alpha=Corr)) + theme(legend.position = \"none\") +\n",
    "             scale_size_discrete(range = c(1,4)) + scale_alpha_discrete(range = c(1, 0.4)) + ylab('False Negatives')\n",
    "fig = ggarrange(fig_toe_stab, fig_toe_mse, fig_toe_fp, fig_toe_fn, ncol=2, nrow=2, \n",
    "          common.legend = TRUE, legend=\"right\") \n",
    "fig = annotate_figure(fig, top = text_grob(\"Toeplitz_ElaticNet\"))\n",
    "ggexport(fig, filename = \"../figures_sim/figure_toe_elnet.pdf\", height=6, width=6)"
   ]
  },
  {
   "cell_type": "code",
   "execution_count": 11,
   "metadata": {},
   "outputs": [
    {
     "data": {
      "text/html": [
       "<table>\n",
       "<thead><tr><th></th><th scope=col>N</th><th scope=col>P</th><th scope=col>Corr</th><th scope=col>Ratio</th><th scope=col>Stab</th><th scope=col>MSE</th><th scope=col>FP</th><th scope=col>FN</th><th scope=col>MSE_mean</th><th scope=col>FP_mean</th><th scope=col>FN_mean</th></tr></thead>\n",
       "<tbody>\n",
       "\t<tr><th scope=row>1</th><td>50            </td><td>  50          </td><td>0.1           </td><td> 1.0          </td><td>0.21          </td><td>0.6 ( 0.03 )  </td><td>14.72 ( 0.57 )</td><td>0.01 ( 0.01 ) </td><td>0.60          </td><td>14.7          </td><td>0.01          </td></tr>\n",
       "\t<tr><th scope=row>17</th><td>50            </td><td>  50          </td><td>0.3           </td><td> 1.0          </td><td>0.21          </td><td>0.53 ( 0.03 ) </td><td>14.65 ( 0.58 )</td><td>0.03 ( 0.02 ) </td><td>0.53          </td><td>14.6          </td><td>0.03          </td></tr>\n",
       "\t<tr><th scope=row>33</th><td>50            </td><td>  50          </td><td>0.5           </td><td> 1.0          </td><td>0.20          </td><td>0.57 ( 0.04 ) </td><td>14.64 ( 0.66 )</td><td>0.09 ( 0.03 ) </td><td>0.57          </td><td>14.6          </td><td>0.09          </td></tr>\n",
       "\t<tr><th scope=row>49</th><td>50            </td><td>  50          </td><td>0.7           </td><td> 1.0          </td><td>0.18          </td><td>0.6 ( 0.04 )  </td><td>15.25 ( 0.54 )</td><td>0.25 ( 0.05 ) </td><td>0.60          </td><td>15.2          </td><td>0.25          </td></tr>\n",
       "\t<tr><th scope=row>65</th><td>50            </td><td>  50          </td><td>0.9           </td><td> 1.0          </td><td>0.16          </td><td>0.5 ( 0.02 )  </td><td>13.26 ( 0.77 )</td><td>1.03 ( 0.11 ) </td><td>0.50          </td><td>13.2          </td><td>1.03          </td></tr>\n",
       "\t<tr><th scope=row>5</th><td>50            </td><td> 100          </td><td>0.1           </td><td> 2.0          </td><td>0.20          </td><td>0.69 ( 0.05 ) </td><td>19.33 ( 0.67 )</td><td>0 ( 0 )       </td><td>0.69          </td><td>19.3          </td><td>0.00          </td></tr>\n",
       "\t<tr><th scope=row>21</th><td>50            </td><td> 100          </td><td>0.3           </td><td> 2.0          </td><td>0.19          </td><td>0.72 ( 0.04 ) </td><td>19.67 ( 0.66 )</td><td>0.08 ( 0.03 ) </td><td>0.72          </td><td>19.6          </td><td>0.08          </td></tr>\n",
       "\t<tr><th scope=row>37</th><td>50            </td><td> 100          </td><td>0.5           </td><td> 2.0          </td><td>0.17          </td><td>0.8 ( 0.04 )  </td><td>20.05 ( 0.68 )</td><td>0.34 ( 0.06 ) </td><td>0.80          </td><td>20.0          </td><td>0.34          </td></tr>\n",
       "\t<tr><th scope=row>53</th><td>50            </td><td> 100          </td><td>0.7           </td><td> 2.0          </td><td>0.15          </td><td>0.81 ( 0.04 ) </td><td>19.25 ( 0.81 )</td><td>0.79 ( 0.09 ) </td><td>0.81          </td><td>19.2          </td><td>0.79          </td></tr>\n",
       "\t<tr><th scope=row>69</th><td>50            </td><td> 100          </td><td>0.9           </td><td> 2.0          </td><td>0.15          </td><td>0.56 ( 0.03 ) </td><td>15.35 ( 0.8 ) </td><td>1.83 ( 0.12 ) </td><td>0.56          </td><td>15.3          </td><td>1.83          </td></tr>\n",
       "\t<tr><th scope=row>9</th><td>50            </td><td> 500          </td><td>0.1           </td><td>10.0          </td><td>0.13          </td><td>1.74 ( 0.11 ) </td><td>29.67 ( 1.23 )</td><td>0.63 ( 0.07 ) </td><td>1.74          </td><td>29.6          </td><td>0.63          </td></tr>\n",
       "\t<tr><th scope=row>25</th><td>50            </td><td> 500          </td><td>0.3           </td><td>10.0          </td><td>0.10          </td><td>1.94 ( 0.12 ) </td><td>32.52 ( 1.94 )</td><td>1.33 ( 0.1 )  </td><td>1.94          </td><td>32.5          </td><td>1.33          </td></tr>\n",
       "\t<tr><th scope=row>41</th><td>50            </td><td> 500          </td><td>0.5           </td><td>10.0          </td><td>0.09          </td><td>1.86 ( 0.11 ) </td><td>29.92 ( 1.25 )</td><td>1.88 ( 0.1 )  </td><td>1.86          </td><td>29.9          </td><td>1.88          </td></tr>\n",
       "\t<tr><th scope=row>57</th><td>50            </td><td> 500          </td><td>0.7           </td><td>10.0          </td><td>0.09          </td><td>1.48 ( 0.09 ) </td><td>27.19 ( 0.95 )</td><td>2.71 ( 0.08 ) </td><td>1.48          </td><td>27.1          </td><td>2.71          </td></tr>\n",
       "\t<tr><th scope=row>73</th><td>50            </td><td> 500          </td><td>0.9           </td><td>10.0          </td><td>0.08          </td><td>0.88 ( 0.04 ) </td><td>25.11 ( 1.93 )</td><td>3.23 ( 0.08 ) </td><td>0.88          </td><td>25.1          </td><td>3.23          </td></tr>\n",
       "\t<tr><th scope=row>13</th><td>50            </td><td>1000          </td><td>0.1           </td><td>20.0          </td><td>0.09          </td><td>2.5 ( 0.16 )  </td><td>39.01 ( 2.7 ) </td><td>1.34 ( 0.1 )  </td><td>2.50          </td><td>39.0          </td><td>1.34          </td></tr>\n",
       "\t<tr><th scope=row>29</th><td>50            </td><td>1000          </td><td>0.3           </td><td>20.0          </td><td>0.08          </td><td>2.46 ( 0.17 ) </td><td>35.99 ( 1.99 )</td><td>1.83 ( 0.1 )  </td><td>2.46          </td><td>35.9          </td><td>1.83          </td></tr>\n",
       "\t<tr><th scope=row>45</th><td>50            </td><td>1000          </td><td>0.5           </td><td>20.0          </td><td>0.07          </td><td>2.33 ( 0.14 ) </td><td>35.29 ( 1.69 )</td><td>2.53 ( 0.1 )  </td><td>2.33          </td><td>35.2          </td><td>2.53          </td></tr>\n",
       "\t<tr><th scope=row>61</th><td>50            </td><td>1000          </td><td>0.7           </td><td>20.0          </td><td>0.06          </td><td>1.66 ( 0.09 ) </td><td>35.91 ( 1.86 )</td><td>3.03 ( 0.09 ) </td><td>1.66          </td><td>35.9          </td><td>3.03          </td></tr>\n",
       "\t<tr><th scope=row>77</th><td>50            </td><td>1000          </td><td>0.9           </td><td>20.0          </td><td>0.04          </td><td>0.94 ( 0.05 ) </td><td>36.59 ( 3.6 ) </td><td>3.72 ( 0.08 ) </td><td>0.94          </td><td>36.5          </td><td>3.72          </td></tr>\n",
       "\t<tr><th scope=row>2</th><td>100           </td><td>  50          </td><td>0.1           </td><td> 0.5          </td><td>0.23          </td><td>0.34 ( 0.01 ) </td><td>13.7 ( 0.66 ) </td><td>0 ( 0 )       </td><td>0.34          </td><td>13.7          </td><td>0.00          </td></tr>\n",
       "\t<tr><th scope=row>18</th><td>100           </td><td>  50          </td><td>0.3           </td><td> 0.5          </td><td>0.20          </td><td>0.34 ( 0.01 ) </td><td>14.91 ( 0.58 )</td><td>0 ( 0 )       </td><td>0.34          </td><td>14.9          </td><td>0.00          </td></tr>\n",
       "\t<tr><th scope=row>34</th><td>100           </td><td>  50          </td><td>0.5           </td><td> 0.5          </td><td>0.21          </td><td>0.33 ( 0.01 ) </td><td>14.76 ( 0.55 )</td><td>0 ( 0 )       </td><td>0.33          </td><td>14.7          </td><td>0.00          </td></tr>\n",
       "\t<tr><th scope=row>50</th><td>100           </td><td>  50          </td><td>0.7           </td><td> 0.5          </td><td>0.20          </td><td>0.35 ( 0.01 ) </td><td>15.66 ( 0.62 )</td><td>0 ( 0 )       </td><td>0.35          </td><td>15.6          </td><td>0.00          </td></tr>\n",
       "\t<tr><th scope=row>66</th><td>100           </td><td>  50          </td><td>0.9           </td><td> 0.5          </td><td>0.21          </td><td>0.35 ( 0.01 ) </td><td>14 ( 0.69 )   </td><td>0.27 ( 0.06 ) </td><td>0.35          </td><td>14.0          </td><td>0.27          </td></tr>\n",
       "\t<tr><th scope=row>6</th><td>100           </td><td> 100          </td><td>0.1           </td><td> 1.0          </td><td>0.22          </td><td>0.38 ( 0.01 ) </td><td>17.77 ( 0.8 ) </td><td>0 ( 0 )       </td><td>0.38          </td><td>17.7          </td><td>0.00          </td></tr>\n",
       "\t<tr><th scope=row>22</th><td>100           </td><td> 100          </td><td>0.3           </td><td> 1.0          </td><td>0.19          </td><td>0.38 ( 0.01 ) </td><td>20.48 ( 0.85 )</td><td>0 ( 0 )       </td><td>0.38          </td><td>20.4          </td><td>0.00          </td></tr>\n",
       "\t<tr><th scope=row>38</th><td>100           </td><td> 100          </td><td>0.5           </td><td> 1.0          </td><td>0.17          </td><td>0.41 ( 0.02 ) </td><td>21.92 ( 0.83 )</td><td>0 ( 0 )       </td><td>0.41          </td><td>21.9          </td><td>0.00          </td></tr>\n",
       "\t<tr><th scope=row>54</th><td>100           </td><td> 100          </td><td>0.7           </td><td> 1.0          </td><td>0.18          </td><td>0.36 ( 0.01 ) </td><td>21.79 ( 0.78 )</td><td>0.01 ( 0.01 ) </td><td>0.36          </td><td>21.7          </td><td>0.01          </td></tr>\n",
       "\t<tr><th scope=row>70</th><td>100           </td><td> 100          </td><td>0.9           </td><td> 1.0          </td><td>0.18          </td><td>0.4 ( 0.02 )  </td><td>18.69 ( 0.92 )</td><td>0.41 ( 0.07 ) </td><td>0.40          </td><td>18.6          </td><td>0.41          </td></tr>\n",
       "\t<tr><th scope=row>...</th><td>...</td><td>...</td><td>...</td><td>...</td><td>...</td><td>...</td><td>...</td><td>...</td><td>...</td><td>...</td><td>...</td></tr>\n",
       "\t<tr><th scope=row>11</th><td>500           </td><td> 500          </td><td>0.1           </td><td>1.00          </td><td>0.16          </td><td>0.27 ( 0 )    </td><td>29.38 ( 1.53 )</td><td>0 ( 0 )       </td><td>0.27          </td><td>29.3          </td><td>0             </td></tr>\n",
       "\t<tr><th scope=row>27</th><td>500           </td><td> 500          </td><td>0.3           </td><td>1.00          </td><td>0.16          </td><td>0.28 ( 0 )    </td><td>30.92 ( 1.44 )</td><td>0 ( 0 )       </td><td>0.28          </td><td>30.9          </td><td>0             </td></tr>\n",
       "\t<tr><th scope=row>43</th><td>500           </td><td> 500          </td><td>0.5           </td><td>1.00          </td><td>0.13          </td><td>0.28 ( 0 )    </td><td>37.1 ( 1.54 ) </td><td>0 ( 0 )       </td><td>0.28          </td><td>37.1          </td><td>0             </td></tr>\n",
       "\t<tr><th scope=row>59</th><td>500           </td><td> 500          </td><td>0.7           </td><td>1.00          </td><td>0.13          </td><td>0.29 ( 0 )    </td><td>38.11 ( 1.41 )</td><td>0 ( 0 )       </td><td>0.29          </td><td>38.1          </td><td>0             </td></tr>\n",
       "\t<tr><th scope=row>75</th><td>500           </td><td> 500          </td><td>0.9           </td><td>1.00          </td><td>0.12          </td><td>0.29 ( 0 )    </td><td>41.14 ( 1.02 )</td><td>0 ( 0 )       </td><td>0.29          </td><td>41.1          </td><td>0             </td></tr>\n",
       "\t<tr><th scope=row>15</th><td>500           </td><td>1000          </td><td>0.1           </td><td>2.00          </td><td>0.14          </td><td>0.27 ( 0 )    </td><td>37.88 ( 2.19 )</td><td>0 ( 0 )       </td><td>0.27          </td><td>37.8          </td><td>0             </td></tr>\n",
       "\t<tr><th scope=row>31</th><td>500           </td><td>1000          </td><td>0.3           </td><td>2.00          </td><td>0.13          </td><td>0.28 ( 0 )    </td><td>38.46 ( 2.16 )</td><td>0 ( 0 )       </td><td>0.28          </td><td>38.4          </td><td>0             </td></tr>\n",
       "\t<tr><th scope=row>47</th><td>500           </td><td>1000          </td><td>0.5           </td><td>2.00          </td><td>0.12          </td><td>0.29 ( 0 )    </td><td>42.86 ( 2.28 )</td><td>0 ( 0 )       </td><td>0.29          </td><td>42.8          </td><td>0             </td></tr>\n",
       "\t<tr><th scope=row>63</th><td>500           </td><td>1000          </td><td>0.7           </td><td>2.00          </td><td>0.11          </td><td>0.3 ( 0 )     </td><td>49.45 ( 1.98 )</td><td>0 ( 0 )       </td><td>0.30          </td><td>49.4          </td><td>0             </td></tr>\n",
       "\t<tr><th scope=row>79</th><td>500           </td><td>1000          </td><td>0.9           </td><td>2.00          </td><td>0.09          </td><td>0.3 ( 0 )     </td><td>57.69 ( 1.57 )</td><td>0 ( 0 )       </td><td>0.30          </td><td>57.6          </td><td>0             </td></tr>\n",
       "\t<tr><th scope=row>4</th><td>1000          </td><td>  50          </td><td>0.1           </td><td>0.05          </td><td>0.25          </td><td>0.26 ( 0 )    </td><td>12.64 ( 0.54 )</td><td>0 ( 0 )       </td><td>0.26          </td><td>12.6          </td><td>0             </td></tr>\n",
       "\t<tr><th scope=row>20</th><td>1000          </td><td>  50          </td><td>0.3           </td><td>0.05          </td><td>0.27          </td><td>0.26 ( 0 )    </td><td>11.94 ( 0.43 )</td><td>0 ( 0 )       </td><td>0.26          </td><td>11.9          </td><td>0             </td></tr>\n",
       "\t<tr><th scope=row>36</th><td>1000          </td><td>  50          </td><td>0.5           </td><td>0.05          </td><td>0.23          </td><td>0.26 ( 0 )    </td><td>13.4 ( 0.49 ) </td><td>0 ( 0 )       </td><td>0.26          </td><td>13.4          </td><td>0             </td></tr>\n",
       "\t<tr><th scope=row>52</th><td>1000          </td><td>  50          </td><td>0.7           </td><td>0.05          </td><td>0.26          </td><td>0.26 ( 0 )    </td><td>12.18 ( 0.6 ) </td><td>0 ( 0 )       </td><td>0.26          </td><td>12.1          </td><td>0             </td></tr>\n",
       "\t<tr><th scope=row>68</th><td>1000          </td><td>  50          </td><td>0.9           </td><td>0.05          </td><td>0.29          </td><td>0.26 ( 0 )    </td><td>12.06 ( 0.52 )</td><td>0 ( 0 )       </td><td>0.26          </td><td>12.0          </td><td>0             </td></tr>\n",
       "\t<tr><th scope=row>8</th><td>1000          </td><td> 100          </td><td>0.1           </td><td>0.10          </td><td>0.22          </td><td>0.26 ( 0 )    </td><td>17.23 ( 0.72 )</td><td>0 ( 0 )       </td><td>0.26          </td><td>17.2          </td><td>0             </td></tr>\n",
       "\t<tr><th scope=row>24</th><td>1000          </td><td> 100          </td><td>0.3           </td><td>0.10          </td><td>0.20          </td><td>0.26 ( 0 )    </td><td>19 ( 0.86 )   </td><td>0 ( 0 )       </td><td>0.26          </td><td>19.0          </td><td>0             </td></tr>\n",
       "\t<tr><th scope=row>40</th><td>1000          </td><td> 100          </td><td>0.5           </td><td>0.10          </td><td>0.20          </td><td>0.26 ( 0 )    </td><td>19.53 ( 0.66 )</td><td>0 ( 0 )       </td><td>0.26          </td><td>19.5          </td><td>0             </td></tr>\n",
       "\t<tr><th scope=row>56</th><td>1000          </td><td> 100          </td><td>0.7           </td><td>0.10          </td><td>0.21          </td><td>0.26 ( 0 )    </td><td>18.91 ( 0.6 ) </td><td>0 ( 0 )       </td><td>0.26          </td><td>18.9          </td><td>0             </td></tr>\n",
       "\t<tr><th scope=row>72</th><td>1000          </td><td> 100          </td><td>0.9           </td><td>0.10          </td><td>0.26          </td><td>0.26 ( 0 )    </td><td>16.05 ( 0.62 )</td><td>0 ( 0 )       </td><td>0.26          </td><td>16.0          </td><td>0             </td></tr>\n",
       "\t<tr><th scope=row>12</th><td>1000          </td><td> 500          </td><td>0.1           </td><td>0.50          </td><td>0.18          </td><td>0.27 ( 0 )    </td><td>26.73 ( 1.56 )</td><td>0 ( 0 )       </td><td>0.27          </td><td>26.7          </td><td>0             </td></tr>\n",
       "\t<tr><th scope=row>28</th><td>1000          </td><td> 500          </td><td>0.3           </td><td>0.50          </td><td>0.16          </td><td>0.26 ( 0 )    </td><td>30.61 ( 1.55 )</td><td>0 ( 0 )       </td><td>0.26          </td><td>30.6          </td><td>0             </td></tr>\n",
       "\t<tr><th scope=row>44</th><td>1000          </td><td> 500          </td><td>0.5           </td><td>0.50          </td><td>0.13          </td><td>0.27 ( 0 )    </td><td>36.71 ( 1.5 ) </td><td>0 ( 0 )       </td><td>0.27          </td><td>36.7          </td><td>0             </td></tr>\n",
       "\t<tr><th scope=row>60</th><td>1000          </td><td> 500          </td><td>0.7           </td><td>0.50          </td><td>0.13          </td><td>0.27 ( 0 )    </td><td>38.16 ( 1.26 )</td><td>0 ( 0 )       </td><td>0.27          </td><td>38.1          </td><td>0             </td></tr>\n",
       "\t<tr><th scope=row>76</th><td>1000          </td><td> 500          </td><td>0.9           </td><td>0.50          </td><td>0.13          </td><td>0.27 ( 0 )    </td><td>39.21 ( 0.84 )</td><td>0 ( 0 )       </td><td>0.27          </td><td>39.2          </td><td>0             </td></tr>\n",
       "\t<tr><th scope=row>16</th><td>1000          </td><td>1000          </td><td>0.1           </td><td>1.00          </td><td>0.16          </td><td>0.26 ( 0 )    </td><td>31.4 ( 1.69 ) </td><td>0 ( 0 )       </td><td>0.26          </td><td>31.4          </td><td>0             </td></tr>\n",
       "\t<tr><th scope=row>32</th><td>1000          </td><td>1000          </td><td>0.3           </td><td>1.00          </td><td>0.13          </td><td>0.27 ( 0 )    </td><td>38.29 ( 2.09 )</td><td>0 ( 0 )       </td><td>0.27          </td><td>38.2          </td><td>0             </td></tr>\n",
       "\t<tr><th scope=row>48</th><td>1000          </td><td>1000          </td><td>0.5           </td><td>1.00          </td><td>0.13          </td><td>0.27 ( 0 )    </td><td>41.01 ( 1.99 )</td><td>0 ( 0 )       </td><td>0.27          </td><td>41.0          </td><td>0             </td></tr>\n",
       "\t<tr><th scope=row>64</th><td>1000          </td><td>1000          </td><td>0.7           </td><td>1.00          </td><td>0.11          </td><td>0.27 ( 0 )    </td><td>48.15 ( 1.76 )</td><td>0 ( 0 )       </td><td>0.27          </td><td>48.1          </td><td>0             </td></tr>\n",
       "\t<tr><th scope=row>80</th><td>1000          </td><td>1000          </td><td>0.9           </td><td>1.00          </td><td>0.10          </td><td>0.27 ( 0 )    </td><td>52.35 ( 1.6 ) </td><td>0 ( 0 )       </td><td>0.27          </td><td>52.3          </td><td>0             </td></tr>\n",
       "</tbody>\n",
       "</table>\n"
      ],
      "text/latex": [
       "\\begin{tabular}{r|lllllllllll}\n",
       "  & N & P & Corr & Ratio & Stab & MSE & FP & FN & MSE\\_mean & FP\\_mean & FN\\_mean\\\\\n",
       "\\hline\n",
       "\t1 & 50             &   50           & 0.1            &  1.0           & 0.21           & 0.6 ( 0.03 )   & 14.72 ( 0.57 ) & 0.01 ( 0.01 )  & 0.60           & 14.7           & 0.01          \\\\\n",
       "\t17 & 50             &   50           & 0.3            &  1.0           & 0.21           & 0.53 ( 0.03 )  & 14.65 ( 0.58 ) & 0.03 ( 0.02 )  & 0.53           & 14.6           & 0.03          \\\\\n",
       "\t33 & 50             &   50           & 0.5            &  1.0           & 0.20           & 0.57 ( 0.04 )  & 14.64 ( 0.66 ) & 0.09 ( 0.03 )  & 0.57           & 14.6           & 0.09          \\\\\n",
       "\t49 & 50             &   50           & 0.7            &  1.0           & 0.18           & 0.6 ( 0.04 )   & 15.25 ( 0.54 ) & 0.25 ( 0.05 )  & 0.60           & 15.2           & 0.25          \\\\\n",
       "\t65 & 50             &   50           & 0.9            &  1.0           & 0.16           & 0.5 ( 0.02 )   & 13.26 ( 0.77 ) & 1.03 ( 0.11 )  & 0.50           & 13.2           & 1.03          \\\\\n",
       "\t5 & 50             &  100           & 0.1            &  2.0           & 0.20           & 0.69 ( 0.05 )  & 19.33 ( 0.67 ) & 0 ( 0 )        & 0.69           & 19.3           & 0.00          \\\\\n",
       "\t21 & 50             &  100           & 0.3            &  2.0           & 0.19           & 0.72 ( 0.04 )  & 19.67 ( 0.66 ) & 0.08 ( 0.03 )  & 0.72           & 19.6           & 0.08          \\\\\n",
       "\t37 & 50             &  100           & 0.5            &  2.0           & 0.17           & 0.8 ( 0.04 )   & 20.05 ( 0.68 ) & 0.34 ( 0.06 )  & 0.80           & 20.0           & 0.34          \\\\\n",
       "\t53 & 50             &  100           & 0.7            &  2.0           & 0.15           & 0.81 ( 0.04 )  & 19.25 ( 0.81 ) & 0.79 ( 0.09 )  & 0.81           & 19.2           & 0.79          \\\\\n",
       "\t69 & 50             &  100           & 0.9            &  2.0           & 0.15           & 0.56 ( 0.03 )  & 15.35 ( 0.8 )  & 1.83 ( 0.12 )  & 0.56           & 15.3           & 1.83          \\\\\n",
       "\t9 & 50             &  500           & 0.1            & 10.0           & 0.13           & 1.74 ( 0.11 )  & 29.67 ( 1.23 ) & 0.63 ( 0.07 )  & 1.74           & 29.6           & 0.63          \\\\\n",
       "\t25 & 50             &  500           & 0.3            & 10.0           & 0.10           & 1.94 ( 0.12 )  & 32.52 ( 1.94 ) & 1.33 ( 0.1 )   & 1.94           & 32.5           & 1.33          \\\\\n",
       "\t41 & 50             &  500           & 0.5            & 10.0           & 0.09           & 1.86 ( 0.11 )  & 29.92 ( 1.25 ) & 1.88 ( 0.1 )   & 1.86           & 29.9           & 1.88          \\\\\n",
       "\t57 & 50             &  500           & 0.7            & 10.0           & 0.09           & 1.48 ( 0.09 )  & 27.19 ( 0.95 ) & 2.71 ( 0.08 )  & 1.48           & 27.1           & 2.71          \\\\\n",
       "\t73 & 50             &  500           & 0.9            & 10.0           & 0.08           & 0.88 ( 0.04 )  & 25.11 ( 1.93 ) & 3.23 ( 0.08 )  & 0.88           & 25.1           & 3.23          \\\\\n",
       "\t13 & 50             & 1000           & 0.1            & 20.0           & 0.09           & 2.5 ( 0.16 )   & 39.01 ( 2.7 )  & 1.34 ( 0.1 )   & 2.50           & 39.0           & 1.34          \\\\\n",
       "\t29 & 50             & 1000           & 0.3            & 20.0           & 0.08           & 2.46 ( 0.17 )  & 35.99 ( 1.99 ) & 1.83 ( 0.1 )   & 2.46           & 35.9           & 1.83          \\\\\n",
       "\t45 & 50             & 1000           & 0.5            & 20.0           & 0.07           & 2.33 ( 0.14 )  & 35.29 ( 1.69 ) & 2.53 ( 0.1 )   & 2.33           & 35.2           & 2.53          \\\\\n",
       "\t61 & 50             & 1000           & 0.7            & 20.0           & 0.06           & 1.66 ( 0.09 )  & 35.91 ( 1.86 ) & 3.03 ( 0.09 )  & 1.66           & 35.9           & 3.03          \\\\\n",
       "\t77 & 50             & 1000           & 0.9            & 20.0           & 0.04           & 0.94 ( 0.05 )  & 36.59 ( 3.6 )  & 3.72 ( 0.08 )  & 0.94           & 36.5           & 3.72          \\\\\n",
       "\t2 & 100            &   50           & 0.1            &  0.5           & 0.23           & 0.34 ( 0.01 )  & 13.7 ( 0.66 )  & 0 ( 0 )        & 0.34           & 13.7           & 0.00          \\\\\n",
       "\t18 & 100            &   50           & 0.3            &  0.5           & 0.20           & 0.34 ( 0.01 )  & 14.91 ( 0.58 ) & 0 ( 0 )        & 0.34           & 14.9           & 0.00          \\\\\n",
       "\t34 & 100            &   50           & 0.5            &  0.5           & 0.21           & 0.33 ( 0.01 )  & 14.76 ( 0.55 ) & 0 ( 0 )        & 0.33           & 14.7           & 0.00          \\\\\n",
       "\t50 & 100            &   50           & 0.7            &  0.5           & 0.20           & 0.35 ( 0.01 )  & 15.66 ( 0.62 ) & 0 ( 0 )        & 0.35           & 15.6           & 0.00          \\\\\n",
       "\t66 & 100            &   50           & 0.9            &  0.5           & 0.21           & 0.35 ( 0.01 )  & 14 ( 0.69 )    & 0.27 ( 0.06 )  & 0.35           & 14.0           & 0.27          \\\\\n",
       "\t6 & 100            &  100           & 0.1            &  1.0           & 0.22           & 0.38 ( 0.01 )  & 17.77 ( 0.8 )  & 0 ( 0 )        & 0.38           & 17.7           & 0.00          \\\\\n",
       "\t22 & 100            &  100           & 0.3            &  1.0           & 0.19           & 0.38 ( 0.01 )  & 20.48 ( 0.85 ) & 0 ( 0 )        & 0.38           & 20.4           & 0.00          \\\\\n",
       "\t38 & 100            &  100           & 0.5            &  1.0           & 0.17           & 0.41 ( 0.02 )  & 21.92 ( 0.83 ) & 0 ( 0 )        & 0.41           & 21.9           & 0.00          \\\\\n",
       "\t54 & 100            &  100           & 0.7            &  1.0           & 0.18           & 0.36 ( 0.01 )  & 21.79 ( 0.78 ) & 0.01 ( 0.01 )  & 0.36           & 21.7           & 0.01          \\\\\n",
       "\t70 & 100            &  100           & 0.9            &  1.0           & 0.18           & 0.4 ( 0.02 )   & 18.69 ( 0.92 ) & 0.41 ( 0.07 )  & 0.40           & 18.6           & 0.41          \\\\\n",
       "\t... & ... & ... & ... & ... & ... & ... & ... & ... & ... & ... & ...\\\\\n",
       "\t11 & 500            &  500           & 0.1            & 1.00           & 0.16           & 0.27 ( 0 )     & 29.38 ( 1.53 ) & 0 ( 0 )        & 0.27           & 29.3           & 0             \\\\\n",
       "\t27 & 500            &  500           & 0.3            & 1.00           & 0.16           & 0.28 ( 0 )     & 30.92 ( 1.44 ) & 0 ( 0 )        & 0.28           & 30.9           & 0             \\\\\n",
       "\t43 & 500            &  500           & 0.5            & 1.00           & 0.13           & 0.28 ( 0 )     & 37.1 ( 1.54 )  & 0 ( 0 )        & 0.28           & 37.1           & 0             \\\\\n",
       "\t59 & 500            &  500           & 0.7            & 1.00           & 0.13           & 0.29 ( 0 )     & 38.11 ( 1.41 ) & 0 ( 0 )        & 0.29           & 38.1           & 0             \\\\\n",
       "\t75 & 500            &  500           & 0.9            & 1.00           & 0.12           & 0.29 ( 0 )     & 41.14 ( 1.02 ) & 0 ( 0 )        & 0.29           & 41.1           & 0             \\\\\n",
       "\t15 & 500            & 1000           & 0.1            & 2.00           & 0.14           & 0.27 ( 0 )     & 37.88 ( 2.19 ) & 0 ( 0 )        & 0.27           & 37.8           & 0             \\\\\n",
       "\t31 & 500            & 1000           & 0.3            & 2.00           & 0.13           & 0.28 ( 0 )     & 38.46 ( 2.16 ) & 0 ( 0 )        & 0.28           & 38.4           & 0             \\\\\n",
       "\t47 & 500            & 1000           & 0.5            & 2.00           & 0.12           & 0.29 ( 0 )     & 42.86 ( 2.28 ) & 0 ( 0 )        & 0.29           & 42.8           & 0             \\\\\n",
       "\t63 & 500            & 1000           & 0.7            & 2.00           & 0.11           & 0.3 ( 0 )      & 49.45 ( 1.98 ) & 0 ( 0 )        & 0.30           & 49.4           & 0             \\\\\n",
       "\t79 & 500            & 1000           & 0.9            & 2.00           & 0.09           & 0.3 ( 0 )      & 57.69 ( 1.57 ) & 0 ( 0 )        & 0.30           & 57.6           & 0             \\\\\n",
       "\t4 & 1000           &   50           & 0.1            & 0.05           & 0.25           & 0.26 ( 0 )     & 12.64 ( 0.54 ) & 0 ( 0 )        & 0.26           & 12.6           & 0             \\\\\n",
       "\t20 & 1000           &   50           & 0.3            & 0.05           & 0.27           & 0.26 ( 0 )     & 11.94 ( 0.43 ) & 0 ( 0 )        & 0.26           & 11.9           & 0             \\\\\n",
       "\t36 & 1000           &   50           & 0.5            & 0.05           & 0.23           & 0.26 ( 0 )     & 13.4 ( 0.49 )  & 0 ( 0 )        & 0.26           & 13.4           & 0             \\\\\n",
       "\t52 & 1000           &   50           & 0.7            & 0.05           & 0.26           & 0.26 ( 0 )     & 12.18 ( 0.6 )  & 0 ( 0 )        & 0.26           & 12.1           & 0             \\\\\n",
       "\t68 & 1000           &   50           & 0.9            & 0.05           & 0.29           & 0.26 ( 0 )     & 12.06 ( 0.52 ) & 0 ( 0 )        & 0.26           & 12.0           & 0             \\\\\n",
       "\t8 & 1000           &  100           & 0.1            & 0.10           & 0.22           & 0.26 ( 0 )     & 17.23 ( 0.72 ) & 0 ( 0 )        & 0.26           & 17.2           & 0             \\\\\n",
       "\t24 & 1000           &  100           & 0.3            & 0.10           & 0.20           & 0.26 ( 0 )     & 19 ( 0.86 )    & 0 ( 0 )        & 0.26           & 19.0           & 0             \\\\\n",
       "\t40 & 1000           &  100           & 0.5            & 0.10           & 0.20           & 0.26 ( 0 )     & 19.53 ( 0.66 ) & 0 ( 0 )        & 0.26           & 19.5           & 0             \\\\\n",
       "\t56 & 1000           &  100           & 0.7            & 0.10           & 0.21           & 0.26 ( 0 )     & 18.91 ( 0.6 )  & 0 ( 0 )        & 0.26           & 18.9           & 0             \\\\\n",
       "\t72 & 1000           &  100           & 0.9            & 0.10           & 0.26           & 0.26 ( 0 )     & 16.05 ( 0.62 ) & 0 ( 0 )        & 0.26           & 16.0           & 0             \\\\\n",
       "\t12 & 1000           &  500           & 0.1            & 0.50           & 0.18           & 0.27 ( 0 )     & 26.73 ( 1.56 ) & 0 ( 0 )        & 0.27           & 26.7           & 0             \\\\\n",
       "\t28 & 1000           &  500           & 0.3            & 0.50           & 0.16           & 0.26 ( 0 )     & 30.61 ( 1.55 ) & 0 ( 0 )        & 0.26           & 30.6           & 0             \\\\\n",
       "\t44 & 1000           &  500           & 0.5            & 0.50           & 0.13           & 0.27 ( 0 )     & 36.71 ( 1.5 )  & 0 ( 0 )        & 0.27           & 36.7           & 0             \\\\\n",
       "\t60 & 1000           &  500           & 0.7            & 0.50           & 0.13           & 0.27 ( 0 )     & 38.16 ( 1.26 ) & 0 ( 0 )        & 0.27           & 38.1           & 0             \\\\\n",
       "\t76 & 1000           &  500           & 0.9            & 0.50           & 0.13           & 0.27 ( 0 )     & 39.21 ( 0.84 ) & 0 ( 0 )        & 0.27           & 39.2           & 0             \\\\\n",
       "\t16 & 1000           & 1000           & 0.1            & 1.00           & 0.16           & 0.26 ( 0 )     & 31.4 ( 1.69 )  & 0 ( 0 )        & 0.26           & 31.4           & 0             \\\\\n",
       "\t32 & 1000           & 1000           & 0.3            & 1.00           & 0.13           & 0.27 ( 0 )     & 38.29 ( 2.09 ) & 0 ( 0 )        & 0.27           & 38.2           & 0             \\\\\n",
       "\t48 & 1000           & 1000           & 0.5            & 1.00           & 0.13           & 0.27 ( 0 )     & 41.01 ( 1.99 ) & 0 ( 0 )        & 0.27           & 41.0           & 0             \\\\\n",
       "\t64 & 1000           & 1000           & 0.7            & 1.00           & 0.11           & 0.27 ( 0 )     & 48.15 ( 1.76 ) & 0 ( 0 )        & 0.27           & 48.1           & 0             \\\\\n",
       "\t80 & 1000           & 1000           & 0.9            & 1.00           & 0.10           & 0.27 ( 0 )     & 52.35 ( 1.6 )  & 0 ( 0 )        & 0.27           & 52.3           & 0             \\\\\n",
       "\\end{tabular}\n"
      ],
      "text/markdown": [
       "\n",
       "| <!--/--> | N | P | Corr | Ratio | Stab | MSE | FP | FN | MSE_mean | FP_mean | FN_mean |\n",
       "|---|---|---|---|---|---|---|---|---|---|---|---|\n",
       "| 1 | 50             |   50           | 0.1            |  1.0           | 0.21           | 0.6 ( 0.03 )   | 14.72 ( 0.57 ) | 0.01 ( 0.01 )  | 0.60           | 14.7           | 0.01           |\n",
       "| 17 | 50             |   50           | 0.3            |  1.0           | 0.21           | 0.53 ( 0.03 )  | 14.65 ( 0.58 ) | 0.03 ( 0.02 )  | 0.53           | 14.6           | 0.03           |\n",
       "| 33 | 50             |   50           | 0.5            |  1.0           | 0.20           | 0.57 ( 0.04 )  | 14.64 ( 0.66 ) | 0.09 ( 0.03 )  | 0.57           | 14.6           | 0.09           |\n",
       "| 49 | 50             |   50           | 0.7            |  1.0           | 0.18           | 0.6 ( 0.04 )   | 15.25 ( 0.54 ) | 0.25 ( 0.05 )  | 0.60           | 15.2           | 0.25           |\n",
       "| 65 | 50             |   50           | 0.9            |  1.0           | 0.16           | 0.5 ( 0.02 )   | 13.26 ( 0.77 ) | 1.03 ( 0.11 )  | 0.50           | 13.2           | 1.03           |\n",
       "| 5 | 50             |  100           | 0.1            |  2.0           | 0.20           | 0.69 ( 0.05 )  | 19.33 ( 0.67 ) | 0 ( 0 )        | 0.69           | 19.3           | 0.00           |\n",
       "| 21 | 50             |  100           | 0.3            |  2.0           | 0.19           | 0.72 ( 0.04 )  | 19.67 ( 0.66 ) | 0.08 ( 0.03 )  | 0.72           | 19.6           | 0.08           |\n",
       "| 37 | 50             |  100           | 0.5            |  2.0           | 0.17           | 0.8 ( 0.04 )   | 20.05 ( 0.68 ) | 0.34 ( 0.06 )  | 0.80           | 20.0           | 0.34           |\n",
       "| 53 | 50             |  100           | 0.7            |  2.0           | 0.15           | 0.81 ( 0.04 )  | 19.25 ( 0.81 ) | 0.79 ( 0.09 )  | 0.81           | 19.2           | 0.79           |\n",
       "| 69 | 50             |  100           | 0.9            |  2.0           | 0.15           | 0.56 ( 0.03 )  | 15.35 ( 0.8 )  | 1.83 ( 0.12 )  | 0.56           | 15.3           | 1.83           |\n",
       "| 9 | 50             |  500           | 0.1            | 10.0           | 0.13           | 1.74 ( 0.11 )  | 29.67 ( 1.23 ) | 0.63 ( 0.07 )  | 1.74           | 29.6           | 0.63           |\n",
       "| 25 | 50             |  500           | 0.3            | 10.0           | 0.10           | 1.94 ( 0.12 )  | 32.52 ( 1.94 ) | 1.33 ( 0.1 )   | 1.94           | 32.5           | 1.33           |\n",
       "| 41 | 50             |  500           | 0.5            | 10.0           | 0.09           | 1.86 ( 0.11 )  | 29.92 ( 1.25 ) | 1.88 ( 0.1 )   | 1.86           | 29.9           | 1.88           |\n",
       "| 57 | 50             |  500           | 0.7            | 10.0           | 0.09           | 1.48 ( 0.09 )  | 27.19 ( 0.95 ) | 2.71 ( 0.08 )  | 1.48           | 27.1           | 2.71           |\n",
       "| 73 | 50             |  500           | 0.9            | 10.0           | 0.08           | 0.88 ( 0.04 )  | 25.11 ( 1.93 ) | 3.23 ( 0.08 )  | 0.88           | 25.1           | 3.23           |\n",
       "| 13 | 50             | 1000           | 0.1            | 20.0           | 0.09           | 2.5 ( 0.16 )   | 39.01 ( 2.7 )  | 1.34 ( 0.1 )   | 2.50           | 39.0           | 1.34           |\n",
       "| 29 | 50             | 1000           | 0.3            | 20.0           | 0.08           | 2.46 ( 0.17 )  | 35.99 ( 1.99 ) | 1.83 ( 0.1 )   | 2.46           | 35.9           | 1.83           |\n",
       "| 45 | 50             | 1000           | 0.5            | 20.0           | 0.07           | 2.33 ( 0.14 )  | 35.29 ( 1.69 ) | 2.53 ( 0.1 )   | 2.33           | 35.2           | 2.53           |\n",
       "| 61 | 50             | 1000           | 0.7            | 20.0           | 0.06           | 1.66 ( 0.09 )  | 35.91 ( 1.86 ) | 3.03 ( 0.09 )  | 1.66           | 35.9           | 3.03           |\n",
       "| 77 | 50             | 1000           | 0.9            | 20.0           | 0.04           | 0.94 ( 0.05 )  | 36.59 ( 3.6 )  | 3.72 ( 0.08 )  | 0.94           | 36.5           | 3.72           |\n",
       "| 2 | 100            |   50           | 0.1            |  0.5           | 0.23           | 0.34 ( 0.01 )  | 13.7 ( 0.66 )  | 0 ( 0 )        | 0.34           | 13.7           | 0.00           |\n",
       "| 18 | 100            |   50           | 0.3            |  0.5           | 0.20           | 0.34 ( 0.01 )  | 14.91 ( 0.58 ) | 0 ( 0 )        | 0.34           | 14.9           | 0.00           |\n",
       "| 34 | 100            |   50           | 0.5            |  0.5           | 0.21           | 0.33 ( 0.01 )  | 14.76 ( 0.55 ) | 0 ( 0 )        | 0.33           | 14.7           | 0.00           |\n",
       "| 50 | 100            |   50           | 0.7            |  0.5           | 0.20           | 0.35 ( 0.01 )  | 15.66 ( 0.62 ) | 0 ( 0 )        | 0.35           | 15.6           | 0.00           |\n",
       "| 66 | 100            |   50           | 0.9            |  0.5           | 0.21           | 0.35 ( 0.01 )  | 14 ( 0.69 )    | 0.27 ( 0.06 )  | 0.35           | 14.0           | 0.27           |\n",
       "| 6 | 100            |  100           | 0.1            |  1.0           | 0.22           | 0.38 ( 0.01 )  | 17.77 ( 0.8 )  | 0 ( 0 )        | 0.38           | 17.7           | 0.00           |\n",
       "| 22 | 100            |  100           | 0.3            |  1.0           | 0.19           | 0.38 ( 0.01 )  | 20.48 ( 0.85 ) | 0 ( 0 )        | 0.38           | 20.4           | 0.00           |\n",
       "| 38 | 100            |  100           | 0.5            |  1.0           | 0.17           | 0.41 ( 0.02 )  | 21.92 ( 0.83 ) | 0 ( 0 )        | 0.41           | 21.9           | 0.00           |\n",
       "| 54 | 100            |  100           | 0.7            |  1.0           | 0.18           | 0.36 ( 0.01 )  | 21.79 ( 0.78 ) | 0.01 ( 0.01 )  | 0.36           | 21.7           | 0.01           |\n",
       "| 70 | 100            |  100           | 0.9            |  1.0           | 0.18           | 0.4 ( 0.02 )   | 18.69 ( 0.92 ) | 0.41 ( 0.07 )  | 0.40           | 18.6           | 0.41           |\n",
       "| ... | ... | ... | ... | ... | ... | ... | ... | ... | ... | ... | ... |\n",
       "| 11 | 500            |  500           | 0.1            | 1.00           | 0.16           | 0.27 ( 0 )     | 29.38 ( 1.53 ) | 0 ( 0 )        | 0.27           | 29.3           | 0              |\n",
       "| 27 | 500            |  500           | 0.3            | 1.00           | 0.16           | 0.28 ( 0 )     | 30.92 ( 1.44 ) | 0 ( 0 )        | 0.28           | 30.9           | 0              |\n",
       "| 43 | 500            |  500           | 0.5            | 1.00           | 0.13           | 0.28 ( 0 )     | 37.1 ( 1.54 )  | 0 ( 0 )        | 0.28           | 37.1           | 0              |\n",
       "| 59 | 500            |  500           | 0.7            | 1.00           | 0.13           | 0.29 ( 0 )     | 38.11 ( 1.41 ) | 0 ( 0 )        | 0.29           | 38.1           | 0              |\n",
       "| 75 | 500            |  500           | 0.9            | 1.00           | 0.12           | 0.29 ( 0 )     | 41.14 ( 1.02 ) | 0 ( 0 )        | 0.29           | 41.1           | 0              |\n",
       "| 15 | 500            | 1000           | 0.1            | 2.00           | 0.14           | 0.27 ( 0 )     | 37.88 ( 2.19 ) | 0 ( 0 )        | 0.27           | 37.8           | 0              |\n",
       "| 31 | 500            | 1000           | 0.3            | 2.00           | 0.13           | 0.28 ( 0 )     | 38.46 ( 2.16 ) | 0 ( 0 )        | 0.28           | 38.4           | 0              |\n",
       "| 47 | 500            | 1000           | 0.5            | 2.00           | 0.12           | 0.29 ( 0 )     | 42.86 ( 2.28 ) | 0 ( 0 )        | 0.29           | 42.8           | 0              |\n",
       "| 63 | 500            | 1000           | 0.7            | 2.00           | 0.11           | 0.3 ( 0 )      | 49.45 ( 1.98 ) | 0 ( 0 )        | 0.30           | 49.4           | 0              |\n",
       "| 79 | 500            | 1000           | 0.9            | 2.00           | 0.09           | 0.3 ( 0 )      | 57.69 ( 1.57 ) | 0 ( 0 )        | 0.30           | 57.6           | 0              |\n",
       "| 4 | 1000           |   50           | 0.1            | 0.05           | 0.25           | 0.26 ( 0 )     | 12.64 ( 0.54 ) | 0 ( 0 )        | 0.26           | 12.6           | 0              |\n",
       "| 20 | 1000           |   50           | 0.3            | 0.05           | 0.27           | 0.26 ( 0 )     | 11.94 ( 0.43 ) | 0 ( 0 )        | 0.26           | 11.9           | 0              |\n",
       "| 36 | 1000           |   50           | 0.5            | 0.05           | 0.23           | 0.26 ( 0 )     | 13.4 ( 0.49 )  | 0 ( 0 )        | 0.26           | 13.4           | 0              |\n",
       "| 52 | 1000           |   50           | 0.7            | 0.05           | 0.26           | 0.26 ( 0 )     | 12.18 ( 0.6 )  | 0 ( 0 )        | 0.26           | 12.1           | 0              |\n",
       "| 68 | 1000           |   50           | 0.9            | 0.05           | 0.29           | 0.26 ( 0 )     | 12.06 ( 0.52 ) | 0 ( 0 )        | 0.26           | 12.0           | 0              |\n",
       "| 8 | 1000           |  100           | 0.1            | 0.10           | 0.22           | 0.26 ( 0 )     | 17.23 ( 0.72 ) | 0 ( 0 )        | 0.26           | 17.2           | 0              |\n",
       "| 24 | 1000           |  100           | 0.3            | 0.10           | 0.20           | 0.26 ( 0 )     | 19 ( 0.86 )    | 0 ( 0 )        | 0.26           | 19.0           | 0              |\n",
       "| 40 | 1000           |  100           | 0.5            | 0.10           | 0.20           | 0.26 ( 0 )     | 19.53 ( 0.66 ) | 0 ( 0 )        | 0.26           | 19.5           | 0              |\n",
       "| 56 | 1000           |  100           | 0.7            | 0.10           | 0.21           | 0.26 ( 0 )     | 18.91 ( 0.6 )  | 0 ( 0 )        | 0.26           | 18.9           | 0              |\n",
       "| 72 | 1000           |  100           | 0.9            | 0.10           | 0.26           | 0.26 ( 0 )     | 16.05 ( 0.62 ) | 0 ( 0 )        | 0.26           | 16.0           | 0              |\n",
       "| 12 | 1000           |  500           | 0.1            | 0.50           | 0.18           | 0.27 ( 0 )     | 26.73 ( 1.56 ) | 0 ( 0 )        | 0.27           | 26.7           | 0              |\n",
       "| 28 | 1000           |  500           | 0.3            | 0.50           | 0.16           | 0.26 ( 0 )     | 30.61 ( 1.55 ) | 0 ( 0 )        | 0.26           | 30.6           | 0              |\n",
       "| 44 | 1000           |  500           | 0.5            | 0.50           | 0.13           | 0.27 ( 0 )     | 36.71 ( 1.5 )  | 0 ( 0 )        | 0.27           | 36.7           | 0              |\n",
       "| 60 | 1000           |  500           | 0.7            | 0.50           | 0.13           | 0.27 ( 0 )     | 38.16 ( 1.26 ) | 0 ( 0 )        | 0.27           | 38.1           | 0              |\n",
       "| 76 | 1000           |  500           | 0.9            | 0.50           | 0.13           | 0.27 ( 0 )     | 39.21 ( 0.84 ) | 0 ( 0 )        | 0.27           | 39.2           | 0              |\n",
       "| 16 | 1000           | 1000           | 0.1            | 1.00           | 0.16           | 0.26 ( 0 )     | 31.4 ( 1.69 )  | 0 ( 0 )        | 0.26           | 31.4           | 0              |\n",
       "| 32 | 1000           | 1000           | 0.3            | 1.00           | 0.13           | 0.27 ( 0 )     | 38.29 ( 2.09 ) | 0 ( 0 )        | 0.27           | 38.2           | 0              |\n",
       "| 48 | 1000           | 1000           | 0.5            | 1.00           | 0.13           | 0.27 ( 0 )     | 41.01 ( 1.99 ) | 0 ( 0 )        | 0.27           | 41.0           | 0              |\n",
       "| 64 | 1000           | 1000           | 0.7            | 1.00           | 0.11           | 0.27 ( 0 )     | 48.15 ( 1.76 ) | 0 ( 0 )        | 0.27           | 48.1           | 0              |\n",
       "| 80 | 1000           | 1000           | 0.9            | 1.00           | 0.10           | 0.27 ( 0 )     | 52.35 ( 1.6 )  | 0 ( 0 )        | 0.27           | 52.3           | 0              |\n",
       "\n"
      ],
      "text/plain": [
       "    N    P    Corr Ratio Stab MSE           FP             FN           \n",
       "1   50     50 0.1   1.0  0.21 0.6 ( 0.03 )  14.72 ( 0.57 ) 0.01 ( 0.01 )\n",
       "17  50     50 0.3   1.0  0.21 0.53 ( 0.03 ) 14.65 ( 0.58 ) 0.03 ( 0.02 )\n",
       "33  50     50 0.5   1.0  0.20 0.57 ( 0.04 ) 14.64 ( 0.66 ) 0.09 ( 0.03 )\n",
       "49  50     50 0.7   1.0  0.18 0.6 ( 0.04 )  15.25 ( 0.54 ) 0.25 ( 0.05 )\n",
       "65  50     50 0.9   1.0  0.16 0.5 ( 0.02 )  13.26 ( 0.77 ) 1.03 ( 0.11 )\n",
       "5   50    100 0.1   2.0  0.20 0.69 ( 0.05 ) 19.33 ( 0.67 ) 0 ( 0 )      \n",
       "21  50    100 0.3   2.0  0.19 0.72 ( 0.04 ) 19.67 ( 0.66 ) 0.08 ( 0.03 )\n",
       "37  50    100 0.5   2.0  0.17 0.8 ( 0.04 )  20.05 ( 0.68 ) 0.34 ( 0.06 )\n",
       "53  50    100 0.7   2.0  0.15 0.81 ( 0.04 ) 19.25 ( 0.81 ) 0.79 ( 0.09 )\n",
       "69  50    100 0.9   2.0  0.15 0.56 ( 0.03 ) 15.35 ( 0.8 )  1.83 ( 0.12 )\n",
       "9   50    500 0.1  10.0  0.13 1.74 ( 0.11 ) 29.67 ( 1.23 ) 0.63 ( 0.07 )\n",
       "25  50    500 0.3  10.0  0.10 1.94 ( 0.12 ) 32.52 ( 1.94 ) 1.33 ( 0.1 ) \n",
       "41  50    500 0.5  10.0  0.09 1.86 ( 0.11 ) 29.92 ( 1.25 ) 1.88 ( 0.1 ) \n",
       "57  50    500 0.7  10.0  0.09 1.48 ( 0.09 ) 27.19 ( 0.95 ) 2.71 ( 0.08 )\n",
       "73  50    500 0.9  10.0  0.08 0.88 ( 0.04 ) 25.11 ( 1.93 ) 3.23 ( 0.08 )\n",
       "13  50   1000 0.1  20.0  0.09 2.5 ( 0.16 )  39.01 ( 2.7 )  1.34 ( 0.1 ) \n",
       "29  50   1000 0.3  20.0  0.08 2.46 ( 0.17 ) 35.99 ( 1.99 ) 1.83 ( 0.1 ) \n",
       "45  50   1000 0.5  20.0  0.07 2.33 ( 0.14 ) 35.29 ( 1.69 ) 2.53 ( 0.1 ) \n",
       "61  50   1000 0.7  20.0  0.06 1.66 ( 0.09 ) 35.91 ( 1.86 ) 3.03 ( 0.09 )\n",
       "77  50   1000 0.9  20.0  0.04 0.94 ( 0.05 ) 36.59 ( 3.6 )  3.72 ( 0.08 )\n",
       "2   100    50 0.1   0.5  0.23 0.34 ( 0.01 ) 13.7 ( 0.66 )  0 ( 0 )      \n",
       "18  100    50 0.3   0.5  0.20 0.34 ( 0.01 ) 14.91 ( 0.58 ) 0 ( 0 )      \n",
       "34  100    50 0.5   0.5  0.21 0.33 ( 0.01 ) 14.76 ( 0.55 ) 0 ( 0 )      \n",
       "50  100    50 0.7   0.5  0.20 0.35 ( 0.01 ) 15.66 ( 0.62 ) 0 ( 0 )      \n",
       "66  100    50 0.9   0.5  0.21 0.35 ( 0.01 ) 14 ( 0.69 )    0.27 ( 0.06 )\n",
       "6   100   100 0.1   1.0  0.22 0.38 ( 0.01 ) 17.77 ( 0.8 )  0 ( 0 )      \n",
       "22  100   100 0.3   1.0  0.19 0.38 ( 0.01 ) 20.48 ( 0.85 ) 0 ( 0 )      \n",
       "38  100   100 0.5   1.0  0.17 0.41 ( 0.02 ) 21.92 ( 0.83 ) 0 ( 0 )      \n",
       "54  100   100 0.7   1.0  0.18 0.36 ( 0.01 ) 21.79 ( 0.78 ) 0.01 ( 0.01 )\n",
       "70  100   100 0.9   1.0  0.18 0.4 ( 0.02 )  18.69 ( 0.92 ) 0.41 ( 0.07 )\n",
       "... ...  ...  ...  ...   ...  ...           ...            ...          \n",
       "11  500   500 0.1  1.00  0.16 0.27 ( 0 )    29.38 ( 1.53 ) 0 ( 0 )      \n",
       "27  500   500 0.3  1.00  0.16 0.28 ( 0 )    30.92 ( 1.44 ) 0 ( 0 )      \n",
       "43  500   500 0.5  1.00  0.13 0.28 ( 0 )    37.1 ( 1.54 )  0 ( 0 )      \n",
       "59  500   500 0.7  1.00  0.13 0.29 ( 0 )    38.11 ( 1.41 ) 0 ( 0 )      \n",
       "75  500   500 0.9  1.00  0.12 0.29 ( 0 )    41.14 ( 1.02 ) 0 ( 0 )      \n",
       "15  500  1000 0.1  2.00  0.14 0.27 ( 0 )    37.88 ( 2.19 ) 0 ( 0 )      \n",
       "31  500  1000 0.3  2.00  0.13 0.28 ( 0 )    38.46 ( 2.16 ) 0 ( 0 )      \n",
       "47  500  1000 0.5  2.00  0.12 0.29 ( 0 )    42.86 ( 2.28 ) 0 ( 0 )      \n",
       "63  500  1000 0.7  2.00  0.11 0.3 ( 0 )     49.45 ( 1.98 ) 0 ( 0 )      \n",
       "79  500  1000 0.9  2.00  0.09 0.3 ( 0 )     57.69 ( 1.57 ) 0 ( 0 )      \n",
       "4   1000   50 0.1  0.05  0.25 0.26 ( 0 )    12.64 ( 0.54 ) 0 ( 0 )      \n",
       "20  1000   50 0.3  0.05  0.27 0.26 ( 0 )    11.94 ( 0.43 ) 0 ( 0 )      \n",
       "36  1000   50 0.5  0.05  0.23 0.26 ( 0 )    13.4 ( 0.49 )  0 ( 0 )      \n",
       "52  1000   50 0.7  0.05  0.26 0.26 ( 0 )    12.18 ( 0.6 )  0 ( 0 )      \n",
       "68  1000   50 0.9  0.05  0.29 0.26 ( 0 )    12.06 ( 0.52 ) 0 ( 0 )      \n",
       "8   1000  100 0.1  0.10  0.22 0.26 ( 0 )    17.23 ( 0.72 ) 0 ( 0 )      \n",
       "24  1000  100 0.3  0.10  0.20 0.26 ( 0 )    19 ( 0.86 )    0 ( 0 )      \n",
       "40  1000  100 0.5  0.10  0.20 0.26 ( 0 )    19.53 ( 0.66 ) 0 ( 0 )      \n",
       "56  1000  100 0.7  0.10  0.21 0.26 ( 0 )    18.91 ( 0.6 )  0 ( 0 )      \n",
       "72  1000  100 0.9  0.10  0.26 0.26 ( 0 )    16.05 ( 0.62 ) 0 ( 0 )      \n",
       "12  1000  500 0.1  0.50  0.18 0.27 ( 0 )    26.73 ( 1.56 ) 0 ( 0 )      \n",
       "28  1000  500 0.3  0.50  0.16 0.26 ( 0 )    30.61 ( 1.55 ) 0 ( 0 )      \n",
       "44  1000  500 0.5  0.50  0.13 0.27 ( 0 )    36.71 ( 1.5 )  0 ( 0 )      \n",
       "60  1000  500 0.7  0.50  0.13 0.27 ( 0 )    38.16 ( 1.26 ) 0 ( 0 )      \n",
       "76  1000  500 0.9  0.50  0.13 0.27 ( 0 )    39.21 ( 0.84 ) 0 ( 0 )      \n",
       "16  1000 1000 0.1  1.00  0.16 0.26 ( 0 )    31.4 ( 1.69 )  0 ( 0 )      \n",
       "32  1000 1000 0.3  1.00  0.13 0.27 ( 0 )    38.29 ( 2.09 ) 0 ( 0 )      \n",
       "48  1000 1000 0.5  1.00  0.13 0.27 ( 0 )    41.01 ( 1.99 ) 0 ( 0 )      \n",
       "64  1000 1000 0.7  1.00  0.11 0.27 ( 0 )    48.15 ( 1.76 ) 0 ( 0 )      \n",
       "80  1000 1000 0.9  1.00  0.10 0.27 ( 0 )    52.35 ( 1.6 )  0 ( 0 )      \n",
       "    MSE_mean FP_mean FN_mean\n",
       "1   0.60     14.7    0.01   \n",
       "17  0.53     14.6    0.03   \n",
       "33  0.57     14.6    0.09   \n",
       "49  0.60     15.2    0.25   \n",
       "65  0.50     13.2    1.03   \n",
       "5   0.69     19.3    0.00   \n",
       "21  0.72     19.6    0.08   \n",
       "37  0.80     20.0    0.34   \n",
       "53  0.81     19.2    0.79   \n",
       "69  0.56     15.3    1.83   \n",
       "9   1.74     29.6    0.63   \n",
       "25  1.94     32.5    1.33   \n",
       "41  1.86     29.9    1.88   \n",
       "57  1.48     27.1    2.71   \n",
       "73  0.88     25.1    3.23   \n",
       "13  2.50     39.0    1.34   \n",
       "29  2.46     35.9    1.83   \n",
       "45  2.33     35.2    2.53   \n",
       "61  1.66     35.9    3.03   \n",
       "77  0.94     36.5    3.72   \n",
       "2   0.34     13.7    0.00   \n",
       "18  0.34     14.9    0.00   \n",
       "34  0.33     14.7    0.00   \n",
       "50  0.35     15.6    0.00   \n",
       "66  0.35     14.0    0.27   \n",
       "6   0.38     17.7    0.00   \n",
       "22  0.38     20.4    0.00   \n",
       "38  0.41     21.9    0.00   \n",
       "54  0.36     21.7    0.01   \n",
       "70  0.40     18.6    0.41   \n",
       "... ...      ...     ...    \n",
       "11  0.27     29.3    0      \n",
       "27  0.28     30.9    0      \n",
       "43  0.28     37.1    0      \n",
       "59  0.29     38.1    0      \n",
       "75  0.29     41.1    0      \n",
       "15  0.27     37.8    0      \n",
       "31  0.28     38.4    0      \n",
       "47  0.29     42.8    0      \n",
       "63  0.30     49.4    0      \n",
       "79  0.30     57.6    0      \n",
       "4   0.26     12.6    0      \n",
       "20  0.26     11.9    0      \n",
       "36  0.26     13.4    0      \n",
       "52  0.26     12.1    0      \n",
       "68  0.26     12.0    0      \n",
       "8   0.26     17.2    0      \n",
       "24  0.26     19.0    0      \n",
       "40  0.26     19.5    0      \n",
       "56  0.26     18.9    0      \n",
       "72  0.26     16.0    0      \n",
       "12  0.27     26.7    0      \n",
       "28  0.26     30.6    0      \n",
       "44  0.27     36.7    0      \n",
       "60  0.27     38.1    0      \n",
       "76  0.27     39.2    0      \n",
       "16  0.26     31.4    0      \n",
       "32  0.27     38.2    0      \n",
       "48  0.27     41.0    0      \n",
       "64  0.27     48.1    0      \n",
       "80  0.27     52.3    0      "
      ]
     },
     "metadata": {},
     "output_type": "display_data"
    }
   ],
   "source": [
    "result.table_toe[with(result.table_toe, order(N, P, Corr)),]"
   ]
  },
  {
   "cell_type": "code",
   "execution_count": null,
   "metadata": {},
   "outputs": [],
   "source": []
  },
  {
   "cell_type": "code",
   "execution_count": null,
   "metadata": {},
   "outputs": [],
   "source": []
  }
 ],
 "metadata": {
  "kernelspec": {
   "display_name": "R",
   "language": "R",
   "name": "ir"
  },
  "language_info": {
   "codemirror_mode": "r",
   "file_extension": ".r",
   "mimetype": "text/x-r-source",
   "name": "R",
   "pygments_lexer": "r",
   "version": "3.6.1"
  }
 },
 "nbformat": 4,
 "nbformat_minor": 2
}
