{
 "cells": [
  {
   "cell_type": "code",
   "execution_count": 1,
   "metadata": {},
   "outputs": [],
   "source": [
    "load('../sim_data/independent_Lasso.RData')"
   ]
  },
  {
   "cell_type": "code",
   "execution_count": 2,
   "metadata": {},
   "outputs": [],
   "source": [
    "dir = '../sim_data'\n",
    "dim.list = list()\n",
    "size = c(50, 100, 500, 1000)\n",
    "idx = 0\n",
    "for (P in size){\n",
    "    for (N in size){\n",
    "        idx = idx + 1\n",
    "        dim.list[[idx]] = c(P=P, N=N)\n",
    "    }\n",
    "}\n",
    "\n",
    "files = NULL\n",
    "for (dim in dim.list){\n",
    "    p = dim[1]\n",
    "    n = dim[2]\n",
    "    files = cbind(files, paste0(dir, '/sim_independent_', paste('P', p, 'N', n, sep='_'), '.RData'))\n",
    "}"
   ]
  },
  {
   "cell_type": "code",
   "execution_count": 3,
   "metadata": {},
   "outputs": [],
   "source": [
    "avg_FDR = NULL\n",
    "for (i in 1:length(files)){\n",
    "    sim_file = files[i]\n",
    "    load(sim_file, dat <- new.env())\n",
    "    sub = dat$sim_array[[i]]\n",
    "    p = sub$p # take true values from 1st replicate of each simulated data\n",
    "    coef = sub$beta\n",
    "    coef.true = which(coef != 0)\n",
    "    \n",
    "    tt = results_ind_lasso[[i]]$Stab.table\n",
    "    \n",
    "    FDR = NULL\n",
    "    for (r in 1:nrow(tt)){\n",
    "        FDR = c(FDR, length(setdiff(which(tt[r, ] !=0), coef.true))/sum(tt[r, ]))\n",
    "\n",
    "    }\n",
    "    \n",
    "    avg_FDR = c(avg_FDR, mean(FDR, na.rm=T))\n",
    "}\n"
   ]
  },
  {
   "cell_type": "code",
   "execution_count": 16,
   "metadata": {},
   "outputs": [],
   "source": [
    "table_ind = NULL\n",
    "tmp_num_select = rep(0, length(results_ind_lasso))\n",
    "for (i in 1:length(results_ind_lasso)){\n",
    "    table_ind = rbind(table_ind, results_ind_lasso[[i]][c('n', 'p', 'rou', 'FP', 'FN', 'MSE', 'Stab')])\n",
    "    tmp_num_select[i] = mean(rowSums(results_ind_lasso[[i]]$Stab.table))\n",
    "    \n",
    "}\n",
    "table_ind = as.data.frame(table_ind)\n",
    "table_ind$num_select = tmp_num_select\n",
    "table_ind$FDR = round(avg_FDR,2)"
   ]
  },
  {
   "cell_type": "code",
   "execution_count": 17,
   "metadata": {},
   "outputs": [
    {
     "data": {
      "text/html": [
       "<table>\n",
       "<thead><tr><th scope=col>n</th><th scope=col>p</th><th scope=col>rou</th><th scope=col>FP</th><th scope=col>FN</th><th scope=col>MSE</th><th scope=col>Stab</th><th scope=col>num_select</th><th scope=col>FDR</th></tr></thead>\n",
       "<tbody>\n",
       "\t<tr><td>50           </td><td>50           </td><td>0            </td><td>8.36 ( 0.45 )</td><td>0.02 ( 0.01 )</td><td>0.54 ( 0.03 )</td><td>0.37         </td><td>13.34        </td><td>0.51         </td></tr>\n",
       "\t<tr><td>100          </td><td>50           </td><td>0            </td><td>5.5 ( 0.42 ) </td><td>0 ( 0 )      </td><td>0.36 ( 0.01 )</td><td>0.51         </td><td>10.50        </td><td>0.37         </td></tr>\n",
       "\t<tr><td>500          </td><td>50           </td><td>0            </td><td>2.33 ( 0.14 )</td><td>0 ( 0 )      </td><td>0.28 ( 0 )   </td><td>0.79         </td><td> 7.33        </td><td>0.15         </td></tr>\n",
       "\t<tr><td>1000         </td><td>50           </td><td>0            </td><td>1.82 ( 0.13 )</td><td>0 ( 0 )      </td><td>0.26 ( 0 )   </td><td>0.86         </td><td> 6.82        </td><td>0.10         </td></tr>\n",
       "\t<tr><td>50           </td><td>100          </td><td>0            </td><td>11.1 ( 0.38 )</td><td>0.08 ( 0.03 )</td><td>0.66 ( 0.04 )</td><td>0.32         </td><td>16.02        </td><td>0.61         </td></tr>\n",
       "\t<tr><td>100          </td><td>100          </td><td>0            </td><td>7.23 ( 0.4 ) </td><td>0 ( 0 )      </td><td>0.41 ( 0.01 )</td><td>0.46         </td><td>12.23        </td><td>0.46         </td></tr>\n",
       "</tbody>\n",
       "</table>\n"
      ],
      "text/latex": [
       "\\begin{tabular}{r|lllllllll}\n",
       " n & p & rou & FP & FN & MSE & Stab & num\\_select & FDR\\\\\n",
       "\\hline\n",
       "\t 50            & 50            & 0             & 8.36 ( 0.45 ) & 0.02 ( 0.01 ) & 0.54 ( 0.03 ) & 0.37          & 13.34         & 0.51         \\\\\n",
       "\t 100           & 50            & 0             & 5.5 ( 0.42 )  & 0 ( 0 )       & 0.36 ( 0.01 ) & 0.51          & 10.50         & 0.37         \\\\\n",
       "\t 500           & 50            & 0             & 2.33 ( 0.14 ) & 0 ( 0 )       & 0.28 ( 0 )    & 0.79          &  7.33         & 0.15         \\\\\n",
       "\t 1000          & 50            & 0             & 1.82 ( 0.13 ) & 0 ( 0 )       & 0.26 ( 0 )    & 0.86          &  6.82         & 0.10         \\\\\n",
       "\t 50            & 100           & 0             & 11.1 ( 0.38 ) & 0.08 ( 0.03 ) & 0.66 ( 0.04 ) & 0.32          & 16.02         & 0.61         \\\\\n",
       "\t 100           & 100           & 0             & 7.23 ( 0.4 )  & 0 ( 0 )       & 0.41 ( 0.01 ) & 0.46          & 12.23         & 0.46         \\\\\n",
       "\\end{tabular}\n"
      ],
      "text/markdown": [
       "\n",
       "| n | p | rou | FP | FN | MSE | Stab | num_select | FDR |\n",
       "|---|---|---|---|---|---|---|---|---|\n",
       "| 50            | 50            | 0             | 8.36 ( 0.45 ) | 0.02 ( 0.01 ) | 0.54 ( 0.03 ) | 0.37          | 13.34         | 0.51          |\n",
       "| 100           | 50            | 0             | 5.5 ( 0.42 )  | 0 ( 0 )       | 0.36 ( 0.01 ) | 0.51          | 10.50         | 0.37          |\n",
       "| 500           | 50            | 0             | 2.33 ( 0.14 ) | 0 ( 0 )       | 0.28 ( 0 )    | 0.79          |  7.33         | 0.15          |\n",
       "| 1000          | 50            | 0             | 1.82 ( 0.13 ) | 0 ( 0 )       | 0.26 ( 0 )    | 0.86          |  6.82         | 0.10          |\n",
       "| 50            | 100           | 0             | 11.1 ( 0.38 ) | 0.08 ( 0.03 ) | 0.66 ( 0.04 ) | 0.32          | 16.02         | 0.61          |\n",
       "| 100           | 100           | 0             | 7.23 ( 0.4 )  | 0 ( 0 )       | 0.41 ( 0.01 ) | 0.46          | 12.23         | 0.46          |\n",
       "\n"
      ],
      "text/plain": [
       "  n    p   rou FP            FN            MSE           Stab num_select FDR \n",
       "1 50   50  0   8.36 ( 0.45 ) 0.02 ( 0.01 ) 0.54 ( 0.03 ) 0.37 13.34      0.51\n",
       "2 100  50  0   5.5 ( 0.42 )  0 ( 0 )       0.36 ( 0.01 ) 0.51 10.50      0.37\n",
       "3 500  50  0   2.33 ( 0.14 ) 0 ( 0 )       0.28 ( 0 )    0.79  7.33      0.15\n",
       "4 1000 50  0   1.82 ( 0.13 ) 0 ( 0 )       0.26 ( 0 )    0.86  6.82      0.10\n",
       "5 50   100 0   11.1 ( 0.38 ) 0.08 ( 0.03 ) 0.66 ( 0.04 ) 0.32 16.02      0.61\n",
       "6 100  100 0   7.23 ( 0.4 )  0 ( 0 )       0.41 ( 0.01 ) 0.46 12.23      0.46"
      ]
     },
     "metadata": {},
     "output_type": "display_data"
    }
   ],
   "source": [
    "head(table_ind)"
   ]
  },
  {
   "cell_type": "code",
   "execution_count": 18,
   "metadata": {},
   "outputs": [
    {
     "name": "stderr",
     "output_type": "stream",
     "text": [
      "extract_numeric() is deprecated: please use readr::parse_number() instead\n",
      "extract_numeric() is deprecated: please use readr::parse_number() instead\n"
     ]
    }
   ],
   "source": [
    "# export result\n",
    "result.table_ind <- apply(table_ind,2,as.character)\n",
    "rownames(result.table_ind) = rownames(table_ind)\n",
    "result.table_ind = as.data.frame(result.table_ind)\n",
    "\n",
    "# extract numbers only for 'n' & 'p'\n",
    "result.table_ind$n = tidyr::extract_numeric(result.table_ind$n)\n",
    "result.table_ind$p = tidyr::extract_numeric(result.table_ind$p)\n",
    "result.table_ind$ratio = result.table_ind$p / result.table_ind$n\n",
    "\n",
    "result.table_ind = result.table_ind[c('n', 'p', 'ratio', 'Stab', 'MSE', 'FP', 'FN', 'num_select', 'FDR')]\n",
    "colnames(result.table_ind)[1:3] = c('N', 'P', 'Ratio')"
   ]
  },
  {
   "cell_type": "code",
   "execution_count": 19,
   "metadata": {},
   "outputs": [
    {
     "name": "stderr",
     "output_type": "stream",
     "text": [
      "Warning message in eval(expr, envir, enclos):\n",
      "“NAs introduced by coercion”"
     ]
    }
   ],
   "source": [
    "# convert interested measurements to be numeric\n",
    "result.table_ind$Stab = as.numeric(as.character(result.table_ind$Stab))\n",
    "result.table_ind$MSE_mean = as.numeric(substr(result.table_ind$MSE, start=1, stop=4))\n",
    "result.table_ind$FP_mean = as.numeric(substr(result.table_ind$FP, start=1, stop=4))\n",
    "result.table_ind$FN_mean = as.numeric(substr(result.table_ind$FN, start=1, stop=4))\n",
    "result.table_ind$FN_mean[is.na(result.table_ind$FN_mean)] = 0\n",
    "result.table_ind$num_select = as.numeric(as.character(result.table_ind$num_select))"
   ]
  },
  {
   "cell_type": "code",
   "execution_count": 21,
   "metadata": {},
   "outputs": [
    {
     "data": {
      "text/html": [
       "<table>\n",
       "<thead><tr><th scope=col>N</th><th scope=col>P</th><th scope=col>Ratio</th><th scope=col>Stab</th><th scope=col>MSE</th><th scope=col>FP</th><th scope=col>FN</th><th scope=col>num_select</th><th scope=col>FDR</th><th scope=col>MSE_mean</th><th scope=col>FP_mean</th><th scope=col>FN_mean</th></tr></thead>\n",
       "<tbody>\n",
       "\t<tr><td>  50          </td><td>  50          </td><td> 1.00         </td><td>0.37          </td><td>0.54 ( 0.03 ) </td><td>8.36 ( 0.45 ) </td><td>0.02 ( 0.01 ) </td><td>13.34         </td><td>0.51          </td><td>0.54          </td><td> 8.36         </td><td>0.02          </td></tr>\n",
       "\t<tr><td> 100          </td><td>  50          </td><td> 0.50         </td><td>0.51          </td><td>0.36 ( 0.01 ) </td><td>5.5 ( 0.42 )  </td><td>0 ( 0 )       </td><td>10.50         </td><td>0.37          </td><td>0.36          </td><td> 5.50         </td><td>0.00          </td></tr>\n",
       "\t<tr><td> 500          </td><td>  50          </td><td> 0.10         </td><td>0.79          </td><td>0.28 ( 0 )    </td><td>2.33 ( 0.14 ) </td><td>0 ( 0 )       </td><td> 7.33         </td><td>0.15          </td><td>0.28          </td><td> 2.33         </td><td>0.00          </td></tr>\n",
       "\t<tr><td>1000          </td><td>  50          </td><td> 0.05         </td><td>0.86          </td><td>0.26 ( 0 )    </td><td>1.82 ( 0.13 ) </td><td>0 ( 0 )       </td><td> 6.82         </td><td>0.1           </td><td>0.26          </td><td> 1.82         </td><td>0.00          </td></tr>\n",
       "\t<tr><td>  50          </td><td> 100          </td><td> 2.00         </td><td>0.32          </td><td>0.66 ( 0.04 ) </td><td>11.1 ( 0.38 ) </td><td>0.08 ( 0.03 ) </td><td>16.02         </td><td>0.61          </td><td>0.66          </td><td>11.10         </td><td>0.08          </td></tr>\n",
       "\t<tr><td> 100          </td><td> 100          </td><td> 1.00         </td><td>0.46          </td><td>0.41 ( 0.01 ) </td><td>7.23 ( 0.4 )  </td><td>0 ( 0 )       </td><td>12.23         </td><td>0.46          </td><td>0.41          </td><td> 7.23         </td><td>0.00          </td></tr>\n",
       "\t<tr><td> 500          </td><td> 100          </td><td> 0.20         </td><td>0.71          </td><td>0.29 ( 0 )    </td><td>3.26 ( 0.25 ) </td><td>0 ( 0 )       </td><td> 8.26         </td><td>0.22          </td><td>0.29          </td><td> 3.26         </td><td>0.00          </td></tr>\n",
       "\t<tr><td>1000          </td><td> 100          </td><td> 0.10         </td><td>0.82          </td><td>0.27 ( 0 )    </td><td>2.25 ( 0.15 ) </td><td>0 ( 0 )       </td><td> 7.25         </td><td>0.15          </td><td>0.27          </td><td> 2.25         </td><td>0.00          </td></tr>\n",
       "\t<tr><td>  50          </td><td> 500          </td><td>10.00         </td><td>0.19          </td><td>1.41 ( 0.11 ) </td><td>19.89 ( 0.38 )</td><td>0.64 ( 0.08 ) </td><td>24.25         </td><td>0.77          </td><td>1.41          </td><td>19.80         </td><td>0.64          </td></tr>\n",
       "\t<tr><td> 100          </td><td> 500          </td><td> 5.00         </td><td>0.30          </td><td>0.48 ( 0.02 ) </td><td>14.71 ( 0.7 ) </td><td>0 ( 0 )       </td><td>19.71         </td><td>0.66          </td><td>0.48          </td><td>14.70         </td><td>0.00          </td></tr>\n",
       "\t<tr><td> 500          </td><td> 500          </td><td> 1.00         </td><td>0.61          </td><td>0.28 ( 0 )    </td><td>4.82 ( 0.34 ) </td><td>0 ( 0 )       </td><td> 9.82         </td><td>0.32          </td><td>0.28          </td><td> 4.82         </td><td>0.00          </td></tr>\n",
       "\t<tr><td>1000          </td><td> 500          </td><td> 0.50         </td><td>0.72          </td><td>0.27 ( 0 )    </td><td>3.35 ( 0.32 ) </td><td>0 ( 0 )       </td><td> 8.35         </td><td>0.21          </td><td>0.27          </td><td> 3.35         </td><td>0.00          </td></tr>\n",
       "\t<tr><td>  50          </td><td>1000          </td><td>20.00         </td><td>0.14          </td><td>2.24 ( 0.19 ) </td><td>23.95 ( 0.37 )</td><td>1.19 ( 0.09 ) </td><td>27.76         </td><td>0.82          </td><td>2.24          </td><td>23.90         </td><td>1.19          </td></tr>\n",
       "\t<tr><td> 100          </td><td>1000          </td><td>10.00         </td><td>0.25          </td><td>0.53 ( 0.02 ) </td><td>18.53 ( 0.59 )</td><td>0 ( 0 )       </td><td>23.53         </td><td>0.73          </td><td>0.53          </td><td>18.50         </td><td>0.00          </td></tr>\n",
       "\t<tr><td> 500          </td><td>1000          </td><td> 2.00         </td><td>0.52          </td><td>0.29 ( 0 )    </td><td>6.51 ( 0.45 ) </td><td>0 ( 0 )       </td><td>11.51         </td><td>0.4           </td><td>0.29          </td><td> 6.51         </td><td>0.00          </td></tr>\n",
       "\t<tr><td>1000          </td><td>1000          </td><td> 1.00         </td><td>0.64          </td><td>0.27 ( 0 )    </td><td>4.39 ( 0.56 ) </td><td>0 ( 0 )       </td><td> 9.39         </td><td>0.26          </td><td>0.27          </td><td> 4.39         </td><td>0.00          </td></tr>\n",
       "</tbody>\n",
       "</table>\n"
      ],
      "text/latex": [
       "\\begin{tabular}{r|llllllllllll}\n",
       " N & P & Ratio & Stab & MSE & FP & FN & num\\_select & FDR & MSE\\_mean & FP\\_mean & FN\\_mean\\\\\n",
       "\\hline\n",
       "\t   50           &   50           &  1.00          & 0.37           & 0.54 ( 0.03 )  & 8.36 ( 0.45 )  & 0.02 ( 0.01 )  & 13.34          & 0.51           & 0.54           &  8.36          & 0.02          \\\\\n",
       "\t  100           &   50           &  0.50          & 0.51           & 0.36 ( 0.01 )  & 5.5 ( 0.42 )   & 0 ( 0 )        & 10.50          & 0.37           & 0.36           &  5.50          & 0.00          \\\\\n",
       "\t  500           &   50           &  0.10          & 0.79           & 0.28 ( 0 )     & 2.33 ( 0.14 )  & 0 ( 0 )        &  7.33          & 0.15           & 0.28           &  2.33          & 0.00          \\\\\n",
       "\t 1000           &   50           &  0.05          & 0.86           & 0.26 ( 0 )     & 1.82 ( 0.13 )  & 0 ( 0 )        &  6.82          & 0.1            & 0.26           &  1.82          & 0.00          \\\\\n",
       "\t   50           &  100           &  2.00          & 0.32           & 0.66 ( 0.04 )  & 11.1 ( 0.38 )  & 0.08 ( 0.03 )  & 16.02          & 0.61           & 0.66           & 11.10          & 0.08          \\\\\n",
       "\t  100           &  100           &  1.00          & 0.46           & 0.41 ( 0.01 )  & 7.23 ( 0.4 )   & 0 ( 0 )        & 12.23          & 0.46           & 0.41           &  7.23          & 0.00          \\\\\n",
       "\t  500           &  100           &  0.20          & 0.71           & 0.29 ( 0 )     & 3.26 ( 0.25 )  & 0 ( 0 )        &  8.26          & 0.22           & 0.29           &  3.26          & 0.00          \\\\\n",
       "\t 1000           &  100           &  0.10          & 0.82           & 0.27 ( 0 )     & 2.25 ( 0.15 )  & 0 ( 0 )        &  7.25          & 0.15           & 0.27           &  2.25          & 0.00          \\\\\n",
       "\t   50           &  500           & 10.00          & 0.19           & 1.41 ( 0.11 )  & 19.89 ( 0.38 ) & 0.64 ( 0.08 )  & 24.25          & 0.77           & 1.41           & 19.80          & 0.64          \\\\\n",
       "\t  100           &  500           &  5.00          & 0.30           & 0.48 ( 0.02 )  & 14.71 ( 0.7 )  & 0 ( 0 )        & 19.71          & 0.66           & 0.48           & 14.70          & 0.00          \\\\\n",
       "\t  500           &  500           &  1.00          & 0.61           & 0.28 ( 0 )     & 4.82 ( 0.34 )  & 0 ( 0 )        &  9.82          & 0.32           & 0.28           &  4.82          & 0.00          \\\\\n",
       "\t 1000           &  500           &  0.50          & 0.72           & 0.27 ( 0 )     & 3.35 ( 0.32 )  & 0 ( 0 )        &  8.35          & 0.21           & 0.27           &  3.35          & 0.00          \\\\\n",
       "\t   50           & 1000           & 20.00          & 0.14           & 2.24 ( 0.19 )  & 23.95 ( 0.37 ) & 1.19 ( 0.09 )  & 27.76          & 0.82           & 2.24           & 23.90          & 1.19          \\\\\n",
       "\t  100           & 1000           & 10.00          & 0.25           & 0.53 ( 0.02 )  & 18.53 ( 0.59 ) & 0 ( 0 )        & 23.53          & 0.73           & 0.53           & 18.50          & 0.00          \\\\\n",
       "\t  500           & 1000           &  2.00          & 0.52           & 0.29 ( 0 )     & 6.51 ( 0.45 )  & 0 ( 0 )        & 11.51          & 0.4            & 0.29           &  6.51          & 0.00          \\\\\n",
       "\t 1000           & 1000           &  1.00          & 0.64           & 0.27 ( 0 )     & 4.39 ( 0.56 )  & 0 ( 0 )        &  9.39          & 0.26           & 0.27           &  4.39          & 0.00          \\\\\n",
       "\\end{tabular}\n"
      ],
      "text/markdown": [
       "\n",
       "| N | P | Ratio | Stab | MSE | FP | FN | num_select | FDR | MSE_mean | FP_mean | FN_mean |\n",
       "|---|---|---|---|---|---|---|---|---|---|---|---|\n",
       "|   50           |   50           |  1.00          | 0.37           | 0.54 ( 0.03 )  | 8.36 ( 0.45 )  | 0.02 ( 0.01 )  | 13.34          | 0.51           | 0.54           |  8.36          | 0.02           |\n",
       "|  100           |   50           |  0.50          | 0.51           | 0.36 ( 0.01 )  | 5.5 ( 0.42 )   | 0 ( 0 )        | 10.50          | 0.37           | 0.36           |  5.50          | 0.00           |\n",
       "|  500           |   50           |  0.10          | 0.79           | 0.28 ( 0 )     | 2.33 ( 0.14 )  | 0 ( 0 )        |  7.33          | 0.15           | 0.28           |  2.33          | 0.00           |\n",
       "| 1000           |   50           |  0.05          | 0.86           | 0.26 ( 0 )     | 1.82 ( 0.13 )  | 0 ( 0 )        |  6.82          | 0.1            | 0.26           |  1.82          | 0.00           |\n",
       "|   50           |  100           |  2.00          | 0.32           | 0.66 ( 0.04 )  | 11.1 ( 0.38 )  | 0.08 ( 0.03 )  | 16.02          | 0.61           | 0.66           | 11.10          | 0.08           |\n",
       "|  100           |  100           |  1.00          | 0.46           | 0.41 ( 0.01 )  | 7.23 ( 0.4 )   | 0 ( 0 )        | 12.23          | 0.46           | 0.41           |  7.23          | 0.00           |\n",
       "|  500           |  100           |  0.20          | 0.71           | 0.29 ( 0 )     | 3.26 ( 0.25 )  | 0 ( 0 )        |  8.26          | 0.22           | 0.29           |  3.26          | 0.00           |\n",
       "| 1000           |  100           |  0.10          | 0.82           | 0.27 ( 0 )     | 2.25 ( 0.15 )  | 0 ( 0 )        |  7.25          | 0.15           | 0.27           |  2.25          | 0.00           |\n",
       "|   50           |  500           | 10.00          | 0.19           | 1.41 ( 0.11 )  | 19.89 ( 0.38 ) | 0.64 ( 0.08 )  | 24.25          | 0.77           | 1.41           | 19.80          | 0.64           |\n",
       "|  100           |  500           |  5.00          | 0.30           | 0.48 ( 0.02 )  | 14.71 ( 0.7 )  | 0 ( 0 )        | 19.71          | 0.66           | 0.48           | 14.70          | 0.00           |\n",
       "|  500           |  500           |  1.00          | 0.61           | 0.28 ( 0 )     | 4.82 ( 0.34 )  | 0 ( 0 )        |  9.82          | 0.32           | 0.28           |  4.82          | 0.00           |\n",
       "| 1000           |  500           |  0.50          | 0.72           | 0.27 ( 0 )     | 3.35 ( 0.32 )  | 0 ( 0 )        |  8.35          | 0.21           | 0.27           |  3.35          | 0.00           |\n",
       "|   50           | 1000           | 20.00          | 0.14           | 2.24 ( 0.19 )  | 23.95 ( 0.37 ) | 1.19 ( 0.09 )  | 27.76          | 0.82           | 2.24           | 23.90          | 1.19           |\n",
       "|  100           | 1000           | 10.00          | 0.25           | 0.53 ( 0.02 )  | 18.53 ( 0.59 ) | 0 ( 0 )        | 23.53          | 0.73           | 0.53           | 18.50          | 0.00           |\n",
       "|  500           | 1000           |  2.00          | 0.52           | 0.29 ( 0 )     | 6.51 ( 0.45 )  | 0 ( 0 )        | 11.51          | 0.4            | 0.29           |  6.51          | 0.00           |\n",
       "| 1000           | 1000           |  1.00          | 0.64           | 0.27 ( 0 )     | 4.39 ( 0.56 )  | 0 ( 0 )        |  9.39          | 0.26           | 0.27           |  4.39          | 0.00           |\n",
       "\n"
      ],
      "text/plain": [
       "   N    P    Ratio Stab MSE           FP             FN            num_select\n",
       "1    50   50  1.00 0.37 0.54 ( 0.03 ) 8.36 ( 0.45 )  0.02 ( 0.01 ) 13.34     \n",
       "2   100   50  0.50 0.51 0.36 ( 0.01 ) 5.5 ( 0.42 )   0 ( 0 )       10.50     \n",
       "3   500   50  0.10 0.79 0.28 ( 0 )    2.33 ( 0.14 )  0 ( 0 )        7.33     \n",
       "4  1000   50  0.05 0.86 0.26 ( 0 )    1.82 ( 0.13 )  0 ( 0 )        6.82     \n",
       "5    50  100  2.00 0.32 0.66 ( 0.04 ) 11.1 ( 0.38 )  0.08 ( 0.03 ) 16.02     \n",
       "6   100  100  1.00 0.46 0.41 ( 0.01 ) 7.23 ( 0.4 )   0 ( 0 )       12.23     \n",
       "7   500  100  0.20 0.71 0.29 ( 0 )    3.26 ( 0.25 )  0 ( 0 )        8.26     \n",
       "8  1000  100  0.10 0.82 0.27 ( 0 )    2.25 ( 0.15 )  0 ( 0 )        7.25     \n",
       "9    50  500 10.00 0.19 1.41 ( 0.11 ) 19.89 ( 0.38 ) 0.64 ( 0.08 ) 24.25     \n",
       "10  100  500  5.00 0.30 0.48 ( 0.02 ) 14.71 ( 0.7 )  0 ( 0 )       19.71     \n",
       "11  500  500  1.00 0.61 0.28 ( 0 )    4.82 ( 0.34 )  0 ( 0 )        9.82     \n",
       "12 1000  500  0.50 0.72 0.27 ( 0 )    3.35 ( 0.32 )  0 ( 0 )        8.35     \n",
       "13   50 1000 20.00 0.14 2.24 ( 0.19 ) 23.95 ( 0.37 ) 1.19 ( 0.09 ) 27.76     \n",
       "14  100 1000 10.00 0.25 0.53 ( 0.02 ) 18.53 ( 0.59 ) 0 ( 0 )       23.53     \n",
       "15  500 1000  2.00 0.52 0.29 ( 0 )    6.51 ( 0.45 )  0 ( 0 )       11.51     \n",
       "16 1000 1000  1.00 0.64 0.27 ( 0 )    4.39 ( 0.56 )  0 ( 0 )        9.39     \n",
       "   FDR  MSE_mean FP_mean FN_mean\n",
       "1  0.51 0.54      8.36   0.02   \n",
       "2  0.37 0.36      5.50   0.00   \n",
       "3  0.15 0.28      2.33   0.00   \n",
       "4  0.1  0.26      1.82   0.00   \n",
       "5  0.61 0.66     11.10   0.08   \n",
       "6  0.46 0.41      7.23   0.00   \n",
       "7  0.22 0.29      3.26   0.00   \n",
       "8  0.15 0.27      2.25   0.00   \n",
       "9  0.77 1.41     19.80   0.64   \n",
       "10 0.66 0.48     14.70   0.00   \n",
       "11 0.32 0.28      4.82   0.00   \n",
       "12 0.21 0.27      3.35   0.00   \n",
       "13 0.82 2.24     23.90   1.19   \n",
       "14 0.73 0.53     18.50   0.00   \n",
       "15 0.4  0.29      6.51   0.00   \n",
       "16 0.26 0.27      4.39   0.00   "
      ]
     },
     "metadata": {},
     "output_type": "display_data"
    }
   ],
   "source": [
    "result.table_ind\n",
    "\n",
    "## export\n",
    "write.table(result.table_ind, '../results_summary/sim_ind_lasso.txt', sep='\\t', row.names=F)"
   ]
  },
  {
   "cell_type": "code",
   "execution_count": 10,
   "metadata": {},
   "outputs": [
    {
     "data": {
      "text/html": [
       "<strong>pdf:</strong> 2"
      ],
      "text/latex": [
       "\\textbf{pdf:} 2"
      ],
      "text/markdown": [
       "**pdf:** 2"
      ],
      "text/plain": [
       "pdf \n",
       "  2 "
      ]
     },
     "metadata": {},
     "output_type": "display_data"
    }
   ],
   "source": [
    "library(ggplot2)\n",
    "library(gridExtra)\n",
    "pdf('../figures_sim/figure_independent_lasso.pdf', height=5, width=7)\n",
    "result.table_ind$N = as.factor(result.table_ind$N)\n",
    "fig_ind_stab = ggplot(result.table_ind, aes(x=P, y=Stab, color=N)) + geom_point() + ylab('Stability')\n",
    "fig_ind_mse = ggplot(result.table_ind, aes(x=P, y=MSE_mean, color=N)) + geom_point() + ylab('MSE')\n",
    "fig_ind_fp = ggplot(result.table_ind, aes(x=P, y=FP_mean, color=N)) + geom_point() + ylab('False Positives')\n",
    "fig_ind_fn = ggplot(result.table_ind, aes(x=P, y=FN_mean, color=N)) + geom_point() + ylab('False Negatives')\n",
    "grid.arrange(fig_ind_stab, fig_ind_mse, fig_ind_fp, fig_ind_fn, ncol=2, top='Independent_Lasso')\n",
    "dev.off()"
   ]
  }
 ],
 "metadata": {
  "kernelspec": {
   "display_name": "R",
   "language": "R",
   "name": "ir"
  },
  "language_info": {
   "codemirror_mode": "r",
   "file_extension": ".r",
   "mimetype": "text/x-r-source",
   "name": "R",
   "pygments_lexer": "r",
   "version": "3.6.1"
  }
 },
 "nbformat": 4,
 "nbformat_minor": 2
}
