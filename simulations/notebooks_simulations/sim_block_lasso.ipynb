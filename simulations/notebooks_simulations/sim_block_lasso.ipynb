{
 "cells": [
  {
   "cell_type": "code",
   "execution_count": 1,
   "metadata": {},
   "outputs": [],
   "source": [
    "load('../sim_data/block_Lasso.RData')"
   ]
  },
  {
   "cell_type": "code",
   "execution_count": 2,
   "metadata": {},
   "outputs": [],
   "source": [
    "dir = '../sim_data'\n",
    "dim.list = list()\n",
    "size = c(50, 100, 500, 1000)\n",
    "idx = 0\n",
    "for (P in size){\n",
    "    for (N in size){\n",
    "        idx = idx + 1\n",
    "        dim.list[[idx]] = c(P=P, N=N)\n",
    "    }\n",
    "}\n",
    "\n",
    "rou.list = seq(0.1, 0.9, 0.2)\n",
    "\n",
    "files = NULL\n",
    "for (rou in rou.list){\n",
    "  for (dim in dim.list){\n",
    "    p = dim[1]\n",
    "    n = dim[2]\n",
    "    files = cbind(files, paste0(dir, '/sim_block_corr', rou, paste('P', p, 'N', n, sep='_'), '.RData', sep=''))\n",
    "  }\n",
    "}"
   ]
  },
  {
   "cell_type": "code",
   "execution_count": 3,
   "metadata": {},
   "outputs": [],
   "source": [
    "avg_FDR = NULL\n",
    "for (i in 1:length(files)){\n",
    "    sim_file = files[i]\n",
    "    load(sim_file, dat <- new.env())\n",
    "    sub = dat$sim_array[[i]]\n",
    "    p = sub$p # take true values from 1st replicate of each simulated data\n",
    "    coef = sub$beta\n",
    "    coef.true = which(coef != 0)\n",
    "    \n",
    "    tt = results_block_lasso[[i]]$Stab.table\n",
    "    \n",
    "    FDR = NULL\n",
    "    for (r in 1:nrow(tt)){\n",
    "        FDR = c(FDR, length(setdiff(which(tt[r, ] !=0), coef.true))/sum(tt[r, ]))\n",
    "\n",
    "    }\n",
    "    \n",
    "    avg_FDR = c(avg_FDR, mean(FDR, na.rm=T))\n",
    "}"
   ]
  },
  {
   "cell_type": "code",
   "execution_count": 4,
   "metadata": {},
   "outputs": [],
   "source": [
    "table_block = NULL\n",
    "tmp_num_select = rep(0, length(results_block_lasso))\n",
    "for (i in 1:length(results_block_lasso)){\n",
    "    table_block = rbind(table_block, results_block_lasso[[i]][c('n', 'p', 'rou', 'FP', 'FN', 'MSE', 'Stab')])\n",
    "    tmp_num_select[i] = mean(rowSums(results_block_lasso[[i]]$Stab.table))\n",
    "    \n",
    "}\n",
    "table_block = as.data.frame(table_block)\n",
    "table_block$num_select = tmp_num_select\n",
    "table_block$FDR = round(avg_FDR,2)"
   ]
  },
  {
   "cell_type": "code",
   "execution_count": 7,
   "metadata": {},
   "outputs": [
    {
     "data": {
      "text/html": [
       "<table>\n",
       "<thead><tr><th scope=col>n</th><th scope=col>p</th><th scope=col>rou</th><th scope=col>FP</th><th scope=col>FN</th><th scope=col>MSE</th><th scope=col>Stab</th><th scope=col>num_select</th><th scope=col>FDR</th></tr></thead>\n",
       "<tbody>\n",
       "\t<tr><td>50           </td><td>50           </td><td>0.1          </td><td>3.52 ( 0.22 )</td><td>4.92 ( 0.08 )</td><td>0.36 ( 0.01 )</td><td>0.05         </td><td>3.60         </td><td>0.65         </td></tr>\n",
       "\t<tr><td>100          </td><td>50           </td><td>0.1          </td><td>2.71 ( 0.25 )</td><td>4.4 ( 0.1 )  </td><td>0.31 ( 0.01 )</td><td>0.18         </td><td>3.31         </td><td>0.42         </td></tr>\n",
       "\t<tr><td>500          </td><td>50           </td><td>0.1          </td><td>5.42 ( 0.25 )</td><td>1.97 ( 0.11 )</td><td>0.29 ( 0 )   </td><td>0.35         </td><td>8.45         </td><td>0.48         </td></tr>\n",
       "\t<tr><td>1000         </td><td>50           </td><td>0.1          </td><td>4.91 ( 0.2 ) </td><td>1.57 ( 0.09 )</td><td>0.28 ( 0 )   </td><td>0.44         </td><td>8.34         </td><td>0.44         </td></tr>\n",
       "\t<tr><td>50           </td><td>100          </td><td>0.1          </td><td>4.73 ( 0.22 )</td><td>4.79 ( 0.08 )</td><td>0.37 ( 0.02 )</td><td>0.06         </td><td>4.94         </td><td>0.72         </td></tr>\n",
       "\t<tr><td>100          </td><td>100          </td><td>0.1          </td><td>3 ( 0.15 )   </td><td>4.75 ( 0.09 )</td><td>0.34 ( 0.01 )</td><td>0.13         </td><td>3.25         </td><td>0.57         </td></tr>\n",
       "</tbody>\n",
       "</table>\n"
      ],
      "text/latex": [
       "\\begin{tabular}{r|lllllllll}\n",
       " n & p & rou & FP & FN & MSE & Stab & num\\_select & FDR\\\\\n",
       "\\hline\n",
       "\t 50            & 50            & 0.1           & 3.52 ( 0.22 ) & 4.92 ( 0.08 ) & 0.36 ( 0.01 ) & 0.05          & 3.60          & 0.65         \\\\\n",
       "\t 100           & 50            & 0.1           & 2.71 ( 0.25 ) & 4.4 ( 0.1 )   & 0.31 ( 0.01 ) & 0.18          & 3.31          & 0.42         \\\\\n",
       "\t 500           & 50            & 0.1           & 5.42 ( 0.25 ) & 1.97 ( 0.11 ) & 0.29 ( 0 )    & 0.35          & 8.45          & 0.48         \\\\\n",
       "\t 1000          & 50            & 0.1           & 4.91 ( 0.2 )  & 1.57 ( 0.09 ) & 0.28 ( 0 )    & 0.44          & 8.34          & 0.44         \\\\\n",
       "\t 50            & 100           & 0.1           & 4.73 ( 0.22 ) & 4.79 ( 0.08 ) & 0.37 ( 0.02 ) & 0.06          & 4.94          & 0.72         \\\\\n",
       "\t 100           & 100           & 0.1           & 3 ( 0.15 )    & 4.75 ( 0.09 ) & 0.34 ( 0.01 ) & 0.13          & 3.25          & 0.57         \\\\\n",
       "\\end{tabular}\n"
      ],
      "text/markdown": [
       "\n",
       "| n | p | rou | FP | FN | MSE | Stab | num_select | FDR |\n",
       "|---|---|---|---|---|---|---|---|---|\n",
       "| 50            | 50            | 0.1           | 3.52 ( 0.22 ) | 4.92 ( 0.08 ) | 0.36 ( 0.01 ) | 0.05          | 3.60          | 0.65          |\n",
       "| 100           | 50            | 0.1           | 2.71 ( 0.25 ) | 4.4 ( 0.1 )   | 0.31 ( 0.01 ) | 0.18          | 3.31          | 0.42          |\n",
       "| 500           | 50            | 0.1           | 5.42 ( 0.25 ) | 1.97 ( 0.11 ) | 0.29 ( 0 )    | 0.35          | 8.45          | 0.48          |\n",
       "| 1000          | 50            | 0.1           | 4.91 ( 0.2 )  | 1.57 ( 0.09 ) | 0.28 ( 0 )    | 0.44          | 8.34          | 0.44          |\n",
       "| 50            | 100           | 0.1           | 4.73 ( 0.22 ) | 4.79 ( 0.08 ) | 0.37 ( 0.02 ) | 0.06          | 4.94          | 0.72          |\n",
       "| 100           | 100           | 0.1           | 3 ( 0.15 )    | 4.75 ( 0.09 ) | 0.34 ( 0.01 ) | 0.13          | 3.25          | 0.57          |\n",
       "\n"
      ],
      "text/plain": [
       "  n    p   rou FP            FN            MSE           Stab num_select FDR \n",
       "1 50   50  0.1 3.52 ( 0.22 ) 4.92 ( 0.08 ) 0.36 ( 0.01 ) 0.05 3.60       0.65\n",
       "2 100  50  0.1 2.71 ( 0.25 ) 4.4 ( 0.1 )   0.31 ( 0.01 ) 0.18 3.31       0.42\n",
       "3 500  50  0.1 5.42 ( 0.25 ) 1.97 ( 0.11 ) 0.29 ( 0 )    0.35 8.45       0.48\n",
       "4 1000 50  0.1 4.91 ( 0.2 )  1.57 ( 0.09 ) 0.28 ( 0 )    0.44 8.34       0.44\n",
       "5 50   100 0.1 4.73 ( 0.22 ) 4.79 ( 0.08 ) 0.37 ( 0.02 ) 0.06 4.94       0.72\n",
       "6 100  100 0.1 3 ( 0.15 )    4.75 ( 0.09 ) 0.34 ( 0.01 ) 0.13 3.25       0.57"
      ]
     },
     "metadata": {},
     "output_type": "display_data"
    }
   ],
   "source": [
    "head(table_block)"
   ]
  },
  {
   "cell_type": "code",
   "execution_count": 8,
   "metadata": {},
   "outputs": [
    {
     "name": "stderr",
     "output_type": "stream",
     "text": [
      "extract_numeric() is deprecated: please use readr::parse_number() instead\n",
      "extract_numeric() is deprecated: please use readr::parse_number() instead\n"
     ]
    }
   ],
   "source": [
    "# export result\n",
    "result.table_block <- apply(table_block,2,as.character)\n",
    "rownames(result.table_block) = rownames(table_block)\n",
    "result.table_block = as.data.frame(result.table_block)\n",
    "\n",
    "# extract numbers only for 'n' & 'p'\n",
    "result.table_block$n = tidyr::extract_numeric(result.table_block$n)\n",
    "result.table_block$p = tidyr::extract_numeric(result.table_block$p)\n",
    "result.table_block$ratio = result.table_block$p / result.table_block$n\n",
    "\n",
    "result.table_block = result.table_block[c('n', 'p', 'rou', 'ratio', 'Stab', 'MSE', 'FP', 'FN', 'num_select', 'FDR')]\n",
    "colnames(result.table_block)[1:4] = c('N', 'P', 'Corr', 'Ratio')"
   ]
  },
  {
   "cell_type": "code",
   "execution_count": 9,
   "metadata": {},
   "outputs": [
    {
     "name": "stderr",
     "output_type": "stream",
     "text": [
      "Warning message in eval(expr, envir, enclos):\n",
      "“NAs introduced by coercion”Warning message in eval(expr, envir, enclos):\n",
      "“NAs introduced by coercion”"
     ]
    }
   ],
   "source": [
    "# convert interested measurements to be numeric\n",
    "result.table_block$Stab = as.numeric(as.character(result.table_block$Stab))\n",
    "result.table_block$MSE_mean = as.numeric(substr(result.table_block$MSE, start=1, stop=4))\n",
    "result.table_block$FP_mean = as.numeric(substr(result.table_block$FP, start=1, stop=4))\n",
    "result.table_block$FN_mean = as.numeric(substr(result.table_block$FN, start=1, stop=4))\n",
    "result.table_block$FN_mean[is.na(result.table_block$FN_mean)] = 0\n",
    "result.table_block$num_select = as.numeric(as.character(result.table_block$num_select))"
   ]
  },
  {
   "cell_type": "code",
   "execution_count": 10,
   "metadata": {},
   "outputs": [
    {
     "data": {
      "text/html": [
       "<table>\n",
       "<thead><tr><th></th><th scope=col>N</th><th scope=col>P</th><th scope=col>Corr</th><th scope=col>Ratio</th><th scope=col>Stab</th><th scope=col>MSE</th><th scope=col>FP</th><th scope=col>FN</th><th scope=col>num_select</th><th scope=col>FDR</th><th scope=col>MSE_mean</th><th scope=col>FP_mean</th><th scope=col>FN_mean</th></tr></thead>\n",
       "<tbody>\n",
       "\t<tr><th scope=row>6</th><td>100          </td><td>100          </td><td>0.1          </td><td>1            </td><td>0.13         </td><td>0.34 ( 0.01 )</td><td>3 ( 0.15 )   </td><td>4.75 ( 0.09 )</td><td>3.25         </td><td>0.57         </td><td>0.34         </td><td>NA           </td><td>4.75         </td></tr>\n",
       "</tbody>\n",
       "</table>\n"
      ],
      "text/latex": [
       "\\begin{tabular}{r|lllllllllllll}\n",
       "  & N & P & Corr & Ratio & Stab & MSE & FP & FN & num\\_select & FDR & MSE\\_mean & FP\\_mean & FN\\_mean\\\\\n",
       "\\hline\n",
       "\t6 & 100           & 100           & 0.1           & 1             & 0.13          & 0.34 ( 0.01 ) & 3 ( 0.15 )    & 4.75 ( 0.09 ) & 3.25          & 0.57          & 0.34          & NA            & 4.75         \\\\\n",
       "\\end{tabular}\n"
      ],
      "text/markdown": [
       "\n",
       "| <!--/--> | N | P | Corr | Ratio | Stab | MSE | FP | FN | num_select | FDR | MSE_mean | FP_mean | FN_mean |\n",
       "|---|---|---|---|---|---|---|---|---|---|---|---|---|---|\n",
       "| 6 | 100           | 100           | 0.1           | 1             | 0.13          | 0.34 ( 0.01 ) | 3 ( 0.15 )    | 4.75 ( 0.09 ) | 3.25          | 0.57          | 0.34          | NA            | 4.75          |\n",
       "\n"
      ],
      "text/plain": [
       "  N   P   Corr Ratio Stab MSE           FP         FN            num_select\n",
       "6 100 100 0.1  1     0.13 0.34 ( 0.01 ) 3 ( 0.15 ) 4.75 ( 0.09 ) 3.25      \n",
       "  FDR  MSE_mean FP_mean FN_mean\n",
       "6 0.57 0.34     NA      4.75   "
      ]
     },
     "metadata": {},
     "output_type": "display_data"
    }
   ],
   "source": [
    "# check whether missing values exists\n",
    "result.table_block[rowSums(is.na(result.table_block)) > 0,]"
   ]
  },
  {
   "cell_type": "code",
   "execution_count": 11,
   "metadata": {},
   "outputs": [],
   "source": [
    "# recover values\n",
    "result.table_block$FP_mean[is.na(result.table_block$FP_mean)] = 3"
   ]
  },
  {
   "cell_type": "code",
   "execution_count": 12,
   "metadata": {},
   "outputs": [
    {
     "data": {
      "text/html": [
       "<table>\n",
       "<thead><tr><th></th><th scope=col>N</th><th scope=col>P</th><th scope=col>Corr</th><th scope=col>Ratio</th><th scope=col>Stab</th><th scope=col>MSE</th><th scope=col>FP</th><th scope=col>FN</th><th scope=col>num_select</th><th scope=col>FDR</th><th scope=col>MSE_mean</th><th scope=col>FP_mean</th><th scope=col>FN_mean</th></tr></thead>\n",
       "<tbody>\n",
       "\t<tr><th scope=row>6</th><td>100          </td><td>100          </td><td>0.1          </td><td>1            </td><td>0.13         </td><td>0.34 ( 0.01 )</td><td>3 ( 0.15 )   </td><td>4.75 ( 0.09 )</td><td>3.25         </td><td>0.57         </td><td>0.34         </td><td>3            </td><td>4.75         </td></tr>\n",
       "</tbody>\n",
       "</table>\n"
      ],
      "text/latex": [
       "\\begin{tabular}{r|lllllllllllll}\n",
       "  & N & P & Corr & Ratio & Stab & MSE & FP & FN & num\\_select & FDR & MSE\\_mean & FP\\_mean & FN\\_mean\\\\\n",
       "\\hline\n",
       "\t6 & 100           & 100           & 0.1           & 1             & 0.13          & 0.34 ( 0.01 ) & 3 ( 0.15 )    & 4.75 ( 0.09 ) & 3.25          & 0.57          & 0.34          & 3             & 4.75         \\\\\n",
       "\\end{tabular}\n"
      ],
      "text/markdown": [
       "\n",
       "| <!--/--> | N | P | Corr | Ratio | Stab | MSE | FP | FN | num_select | FDR | MSE_mean | FP_mean | FN_mean |\n",
       "|---|---|---|---|---|---|---|---|---|---|---|---|---|---|\n",
       "| 6 | 100           | 100           | 0.1           | 1             | 0.13          | 0.34 ( 0.01 ) | 3 ( 0.15 )    | 4.75 ( 0.09 ) | 3.25          | 0.57          | 0.34          | 3             | 4.75          |\n",
       "\n"
      ],
      "text/plain": [
       "  N   P   Corr Ratio Stab MSE           FP         FN            num_select\n",
       "6 100 100 0.1  1     0.13 0.34 ( 0.01 ) 3 ( 0.15 ) 4.75 ( 0.09 ) 3.25      \n",
       "  FDR  MSE_mean FP_mean FN_mean\n",
       "6 0.57 0.34     3       4.75   "
      ]
     },
     "metadata": {},
     "output_type": "display_data"
    }
   ],
   "source": [
    "result.table_block[6, ]"
   ]
  },
  {
   "cell_type": "code",
   "execution_count": 13,
   "metadata": {},
   "outputs": [
    {
     "data": {
      "text/html": [
       "<table>\n",
       "<thead><tr><th scope=col>N</th><th scope=col>P</th><th scope=col>Corr</th><th scope=col>Ratio</th><th scope=col>Stab</th><th scope=col>MSE</th><th scope=col>FP</th><th scope=col>FN</th><th scope=col>num_select</th><th scope=col>FDR</th><th scope=col>MSE_mean</th><th scope=col>FP_mean</th><th scope=col>FN_mean</th></tr></thead>\n",
       "<tbody>\n",
       "\t<tr><td>  50         </td><td> 50          </td><td>0.1          </td><td>1.00         </td><td>0.05         </td><td>0.36 ( 0.01 )</td><td>3.52 ( 0.22 )</td><td>4.92 ( 0.08 )</td><td>3.60         </td><td>0.65         </td><td>0.36         </td><td>3.52         </td><td>4.92         </td></tr>\n",
       "\t<tr><td> 100         </td><td> 50          </td><td>0.1          </td><td>0.50         </td><td>0.18         </td><td>0.31 ( 0.01 )</td><td>2.71 ( 0.25 )</td><td>4.4 ( 0.1 )  </td><td>3.31         </td><td>0.42         </td><td>0.31         </td><td>2.71         </td><td>4.40         </td></tr>\n",
       "\t<tr><td> 500         </td><td> 50          </td><td>0.1          </td><td>0.10         </td><td>0.35         </td><td>0.29 ( 0 )   </td><td>5.42 ( 0.25 )</td><td>1.97 ( 0.11 )</td><td>8.45         </td><td>0.48         </td><td>0.29         </td><td>5.42         </td><td>1.97         </td></tr>\n",
       "\t<tr><td>1000         </td><td> 50          </td><td>0.1          </td><td>0.05         </td><td>0.44         </td><td>0.28 ( 0 )   </td><td>4.91 ( 0.2 ) </td><td>1.57 ( 0.09 )</td><td>8.34         </td><td>0.44         </td><td>0.28         </td><td>4.91         </td><td>1.57         </td></tr>\n",
       "\t<tr><td>  50         </td><td>100          </td><td>0.1          </td><td>2.00         </td><td>0.06         </td><td>0.37 ( 0.02 )</td><td>4.73 ( 0.22 )</td><td>4.79 ( 0.08 )</td><td>4.94         </td><td>0.72         </td><td>0.37         </td><td>4.73         </td><td>4.79         </td></tr>\n",
       "\t<tr><td> 100         </td><td>100          </td><td>0.1          </td><td>1.00         </td><td>0.13         </td><td>0.34 ( 0.01 )</td><td>3 ( 0.15 )   </td><td>4.75 ( 0.09 )</td><td>3.25         </td><td>0.57         </td><td>0.34         </td><td>3.00         </td><td>4.75         </td></tr>\n",
       "</tbody>\n",
       "</table>\n"
      ],
      "text/latex": [
       "\\begin{tabular}{r|lllllllllllll}\n",
       " N & P & Corr & Ratio & Stab & MSE & FP & FN & num\\_select & FDR & MSE\\_mean & FP\\_mean & FN\\_mean\\\\\n",
       "\\hline\n",
       "\t   50          &  50           & 0.1           & 1.00          & 0.05          & 0.36 ( 0.01 ) & 3.52 ( 0.22 ) & 4.92 ( 0.08 ) & 3.60          & 0.65          & 0.36          & 3.52          & 4.92         \\\\\n",
       "\t  100          &  50           & 0.1           & 0.50          & 0.18          & 0.31 ( 0.01 ) & 2.71 ( 0.25 ) & 4.4 ( 0.1 )   & 3.31          & 0.42          & 0.31          & 2.71          & 4.40         \\\\\n",
       "\t  500          &  50           & 0.1           & 0.10          & 0.35          & 0.29 ( 0 )    & 5.42 ( 0.25 ) & 1.97 ( 0.11 ) & 8.45          & 0.48          & 0.29          & 5.42          & 1.97         \\\\\n",
       "\t 1000          &  50           & 0.1           & 0.05          & 0.44          & 0.28 ( 0 )    & 4.91 ( 0.2 )  & 1.57 ( 0.09 ) & 8.34          & 0.44          & 0.28          & 4.91          & 1.57         \\\\\n",
       "\t   50          & 100           & 0.1           & 2.00          & 0.06          & 0.37 ( 0.02 ) & 4.73 ( 0.22 ) & 4.79 ( 0.08 ) & 4.94          & 0.72          & 0.37          & 4.73          & 4.79         \\\\\n",
       "\t  100          & 100           & 0.1           & 1.00          & 0.13          & 0.34 ( 0.01 ) & 3 ( 0.15 )    & 4.75 ( 0.09 ) & 3.25          & 0.57          & 0.34          & 3.00          & 4.75         \\\\\n",
       "\\end{tabular}\n"
      ],
      "text/markdown": [
       "\n",
       "| N | P | Corr | Ratio | Stab | MSE | FP | FN | num_select | FDR | MSE_mean | FP_mean | FN_mean |\n",
       "|---|---|---|---|---|---|---|---|---|---|---|---|---|\n",
       "|   50          |  50           | 0.1           | 1.00          | 0.05          | 0.36 ( 0.01 ) | 3.52 ( 0.22 ) | 4.92 ( 0.08 ) | 3.60          | 0.65          | 0.36          | 3.52          | 4.92          |\n",
       "|  100          |  50           | 0.1           | 0.50          | 0.18          | 0.31 ( 0.01 ) | 2.71 ( 0.25 ) | 4.4 ( 0.1 )   | 3.31          | 0.42          | 0.31          | 2.71          | 4.40          |\n",
       "|  500          |  50           | 0.1           | 0.10          | 0.35          | 0.29 ( 0 )    | 5.42 ( 0.25 ) | 1.97 ( 0.11 ) | 8.45          | 0.48          | 0.29          | 5.42          | 1.97          |\n",
       "| 1000          |  50           | 0.1           | 0.05          | 0.44          | 0.28 ( 0 )    | 4.91 ( 0.2 )  | 1.57 ( 0.09 ) | 8.34          | 0.44          | 0.28          | 4.91          | 1.57          |\n",
       "|   50          | 100           | 0.1           | 2.00          | 0.06          | 0.37 ( 0.02 ) | 4.73 ( 0.22 ) | 4.79 ( 0.08 ) | 4.94          | 0.72          | 0.37          | 4.73          | 4.79          |\n",
       "|  100          | 100           | 0.1           | 1.00          | 0.13          | 0.34 ( 0.01 ) | 3 ( 0.15 )    | 4.75 ( 0.09 ) | 3.25          | 0.57          | 0.34          | 3.00          | 4.75          |\n",
       "\n"
      ],
      "text/plain": [
       "  N    P   Corr Ratio Stab MSE           FP            FN            num_select\n",
       "1   50  50 0.1  1.00  0.05 0.36 ( 0.01 ) 3.52 ( 0.22 ) 4.92 ( 0.08 ) 3.60      \n",
       "2  100  50 0.1  0.50  0.18 0.31 ( 0.01 ) 2.71 ( 0.25 ) 4.4 ( 0.1 )   3.31      \n",
       "3  500  50 0.1  0.10  0.35 0.29 ( 0 )    5.42 ( 0.25 ) 1.97 ( 0.11 ) 8.45      \n",
       "4 1000  50 0.1  0.05  0.44 0.28 ( 0 )    4.91 ( 0.2 )  1.57 ( 0.09 ) 8.34      \n",
       "5   50 100 0.1  2.00  0.06 0.37 ( 0.02 ) 4.73 ( 0.22 ) 4.79 ( 0.08 ) 4.94      \n",
       "6  100 100 0.1  1.00  0.13 0.34 ( 0.01 ) 3 ( 0.15 )    4.75 ( 0.09 ) 3.25      \n",
       "  FDR  MSE_mean FP_mean FN_mean\n",
       "1 0.65 0.36     3.52    4.92   \n",
       "2 0.42 0.31     2.71    4.40   \n",
       "3 0.48 0.29     5.42    1.97   \n",
       "4 0.44 0.28     4.91    1.57   \n",
       "5 0.72 0.37     4.73    4.79   \n",
       "6 0.57 0.34     3.00    4.75   "
      ]
     },
     "metadata": {},
     "output_type": "display_data"
    }
   ],
   "source": [
    "head(result.table_block)"
   ]
  },
  {
   "cell_type": "code",
   "execution_count": 14,
   "metadata": {},
   "outputs": [
    {
     "data": {
      "text/html": [
       "<table>\n",
       "<thead><tr><th></th><th scope=col>N</th><th scope=col>P</th><th scope=col>Corr</th><th scope=col>Ratio</th><th scope=col>Stab</th><th scope=col>MSE</th><th scope=col>FP</th><th scope=col>FN</th><th scope=col>num_select</th><th scope=col>FDR</th><th scope=col>MSE_mean</th><th scope=col>FP_mean</th><th scope=col>FN_mean</th></tr></thead>\n",
       "<tbody>\n",
       "\t<tr><th scope=row>75</th><td> 500          </td><td> 500          </td><td>0.9           </td><td> 1.0          </td><td>0.50          </td><td>0.29 ( 0 )    </td><td>6.87 ( 0.54 ) </td><td>0 ( 0 )       </td><td>11.87         </td><td>0.41          </td><td>0.29          </td><td> 6.87         </td><td>0.00          </td></tr>\n",
       "\t<tr><th scope=row>76</th><td>1000          </td><td> 500          </td><td>0.9           </td><td> 0.5          </td><td>0.71          </td><td>0.27 ( 0 )    </td><td>3.37 ( 0.27 ) </td><td>0 ( 0 )       </td><td> 8.37         </td><td>0.23          </td><td>0.27          </td><td> 3.37         </td><td>0.00          </td></tr>\n",
       "\t<tr><th scope=row>77</th><td>  50          </td><td>1000          </td><td>0.9           </td><td>20.0          </td><td>0.11          </td><td>2.46 ( 0.16 ) </td><td>25.37 ( 0.35 )</td><td>1.73 ( 0.12 ) </td><td>28.64         </td><td>0.85          </td><td>2.46          </td><td>25.30         </td><td>1.73          </td></tr>\n",
       "\t<tr><th scope=row>78</th><td> 100          </td><td>1000          </td><td>0.9           </td><td>10.0          </td><td>0.22          </td><td>0.62 ( 0.03 ) </td><td>21.43 ( 0.62 )</td><td>0 ( 0 )       </td><td>26.43         </td><td>0.76          </td><td>0.62          </td><td>21.40         </td><td>0.00          </td></tr>\n",
       "\t<tr><th scope=row>79</th><td> 500          </td><td>1000          </td><td>0.9           </td><td> 2.0          </td><td>0.46          </td><td>0.3 ( 0 )     </td><td>7.99 ( 0.79 ) </td><td>0 ( 0 )       </td><td>12.99         </td><td>0.42          </td><td>0.30          </td><td> 7.99         </td><td>0.00          </td></tr>\n",
       "\t<tr><th scope=row>80</th><td>1000          </td><td>1000          </td><td>0.9           </td><td> 1.0          </td><td>0.60          </td><td>0.28 ( 0 )    </td><td>4.93 ( 0.43 ) </td><td>0 ( 0 )       </td><td> 9.93         </td><td>0.31          </td><td>0.28          </td><td> 4.93         </td><td>0.00          </td></tr>\n",
       "</tbody>\n",
       "</table>\n"
      ],
      "text/latex": [
       "\\begin{tabular}{r|lllllllllllll}\n",
       "  & N & P & Corr & Ratio & Stab & MSE & FP & FN & num\\_select & FDR & MSE\\_mean & FP\\_mean & FN\\_mean\\\\\n",
       "\\hline\n",
       "\t75 &  500           &  500           & 0.9            &  1.0           & 0.50           & 0.29 ( 0 )     & 6.87 ( 0.54 )  & 0 ( 0 )        & 11.87          & 0.41           & 0.29           &  6.87          & 0.00          \\\\\n",
       "\t76 & 1000           &  500           & 0.9            &  0.5           & 0.71           & 0.27 ( 0 )     & 3.37 ( 0.27 )  & 0 ( 0 )        &  8.37          & 0.23           & 0.27           &  3.37          & 0.00          \\\\\n",
       "\t77 &   50           & 1000           & 0.9            & 20.0           & 0.11           & 2.46 ( 0.16 )  & 25.37 ( 0.35 ) & 1.73 ( 0.12 )  & 28.64          & 0.85           & 2.46           & 25.30          & 1.73          \\\\\n",
       "\t78 &  100           & 1000           & 0.9            & 10.0           & 0.22           & 0.62 ( 0.03 )  & 21.43 ( 0.62 ) & 0 ( 0 )        & 26.43          & 0.76           & 0.62           & 21.40          & 0.00          \\\\\n",
       "\t79 &  500           & 1000           & 0.9            &  2.0           & 0.46           & 0.3 ( 0 )      & 7.99 ( 0.79 )  & 0 ( 0 )        & 12.99          & 0.42           & 0.30           &  7.99          & 0.00          \\\\\n",
       "\t80 & 1000           & 1000           & 0.9            &  1.0           & 0.60           & 0.28 ( 0 )     & 4.93 ( 0.43 )  & 0 ( 0 )        &  9.93          & 0.31           & 0.28           &  4.93          & 0.00          \\\\\n",
       "\\end{tabular}\n"
      ],
      "text/markdown": [
       "\n",
       "| <!--/--> | N | P | Corr | Ratio | Stab | MSE | FP | FN | num_select | FDR | MSE_mean | FP_mean | FN_mean |\n",
       "|---|---|---|---|---|---|---|---|---|---|---|---|---|---|\n",
       "| 75 |  500           |  500           | 0.9            |  1.0           | 0.50           | 0.29 ( 0 )     | 6.87 ( 0.54 )  | 0 ( 0 )        | 11.87          | 0.41           | 0.29           |  6.87          | 0.00           |\n",
       "| 76 | 1000           |  500           | 0.9            |  0.5           | 0.71           | 0.27 ( 0 )     | 3.37 ( 0.27 )  | 0 ( 0 )        |  8.37          | 0.23           | 0.27           |  3.37          | 0.00           |\n",
       "| 77 |   50           | 1000           | 0.9            | 20.0           | 0.11           | 2.46 ( 0.16 )  | 25.37 ( 0.35 ) | 1.73 ( 0.12 )  | 28.64          | 0.85           | 2.46           | 25.30          | 1.73           |\n",
       "| 78 |  100           | 1000           | 0.9            | 10.0           | 0.22           | 0.62 ( 0.03 )  | 21.43 ( 0.62 ) | 0 ( 0 )        | 26.43          | 0.76           | 0.62           | 21.40          | 0.00           |\n",
       "| 79 |  500           | 1000           | 0.9            |  2.0           | 0.46           | 0.3 ( 0 )      | 7.99 ( 0.79 )  | 0 ( 0 )        | 12.99          | 0.42           | 0.30           |  7.99          | 0.00           |\n",
       "| 80 | 1000           | 1000           | 0.9            |  1.0           | 0.60           | 0.28 ( 0 )     | 4.93 ( 0.43 )  | 0 ( 0 )        |  9.93          | 0.31           | 0.28           |  4.93          | 0.00           |\n",
       "\n"
      ],
      "text/plain": [
       "   N    P    Corr Ratio Stab MSE           FP             FN           \n",
       "75  500  500 0.9   1.0  0.50 0.29 ( 0 )    6.87 ( 0.54 )  0 ( 0 )      \n",
       "76 1000  500 0.9   0.5  0.71 0.27 ( 0 )    3.37 ( 0.27 )  0 ( 0 )      \n",
       "77   50 1000 0.9  20.0  0.11 2.46 ( 0.16 ) 25.37 ( 0.35 ) 1.73 ( 0.12 )\n",
       "78  100 1000 0.9  10.0  0.22 0.62 ( 0.03 ) 21.43 ( 0.62 ) 0 ( 0 )      \n",
       "79  500 1000 0.9   2.0  0.46 0.3 ( 0 )     7.99 ( 0.79 )  0 ( 0 )      \n",
       "80 1000 1000 0.9   1.0  0.60 0.28 ( 0 )    4.93 ( 0.43 )  0 ( 0 )      \n",
       "   num_select FDR  MSE_mean FP_mean FN_mean\n",
       "75 11.87      0.41 0.29      6.87   0.00   \n",
       "76  8.37      0.23 0.27      3.37   0.00   \n",
       "77 28.64      0.85 2.46     25.30   1.73   \n",
       "78 26.43      0.76 0.62     21.40   0.00   \n",
       "79 12.99      0.42 0.30      7.99   0.00   \n",
       "80  9.93      0.31 0.28      4.93   0.00   "
      ]
     },
     "metadata": {},
     "output_type": "display_data"
    }
   ],
   "source": [
    "tail(result.table_block)"
   ]
  },
  {
   "cell_type": "code",
   "execution_count": 15,
   "metadata": {},
   "outputs": [],
   "source": [
    "## export\n",
    "write.table(result.table_block, '../results_summary/sim_block_lasso.txt', sep='\\t', row.names=F)"
   ]
  },
  {
   "cell_type": "code",
   "execution_count": 10,
   "metadata": {},
   "outputs": [
    {
     "name": "stderr",
     "output_type": "stream",
     "text": [
      "Registered S3 methods overwritten by 'ggplot2':\n",
      "  method         from \n",
      "  [.quosures     rlang\n",
      "  c.quosures     rlang\n",
      "  print.quosures rlang\n",
      "Loading required package: magrittr\n",
      "Warning message:\n",
      "“Using size for a discrete variable is not advised.”Warning message:\n",
      "“Using alpha for a discrete variable is not advised.”Warning message:\n",
      "“Using size for a discrete variable is not advised.”Warning message:\n",
      "“Using alpha for a discrete variable is not advised.”Warning message:\n",
      "“Using size for a discrete variable is not advised.”Warning message:\n",
      "“Using alpha for a discrete variable is not advised.”Warning message:\n",
      "“Using size for a discrete variable is not advised.”Warning message:\n",
      "“Using alpha for a discrete variable is not advised.”file saved to ../figures_sim/figure_block_lasso.pdf\n"
     ]
    }
   ],
   "source": [
    "library(ggplot2)\n",
    "library(ggpubr)\n",
    "result.table_block$N = as.factor(result.table_block$N)\n",
    "fig_block_stab = ggplot(result.table_block, aes(x=P, y=Stab, color=N)) + \n",
    "               geom_point(aes(size = Corr, alpha=Corr)) + theme(legend.position = \"none\") +\n",
    "               scale_size_discrete(range = c(1,4)) + scale_alpha_discrete(range = c(1, 0.4)) + ylab('Stability')\n",
    "\n",
    "fig_block_mse = ggplot(result.table_block, aes(x=P, y=MSE_mean, color=N)) + \n",
    "              geom_point(aes(size = Corr, alpha=Corr)) + theme(legend.position=\"none\") +\n",
    "              scale_size_discrete(range = c(1,4)) + scale_alpha_discrete(range = c(1, 0.4)) + ylab('MSE')\n",
    "\n",
    "fig_block_fp = ggplot(result.table_block, aes(x=P, y=FP_mean, color=N)) + \n",
    "             geom_point(aes(size = Corr, alpha=Corr)) + theme(legend.position = \"none\") +\n",
    "             scale_size_discrete(range = c(1,4)) + scale_alpha_discrete(range = c(1, 0.4)) + ylab('False Positives')\n",
    "\n",
    "fig_block_fn = ggplot(result.table_block, aes(x=P, y=FN_mean, color=N)) + \n",
    "             geom_point(aes(size = Corr, alpha=Corr)) + theme(legend.position = \"none\") +\n",
    "             scale_size_discrete(range = c(1,4)) + scale_alpha_discrete(range = c(1, 0.4)) + ylab('False Negatives')\n",
    "fig = ggarrange(fig_block_stab, fig_block_mse, fig_block_fp, fig_block_fn, ncol=2, nrow=2, \n",
    "          common.legend = TRUE, legend=\"right\") \n",
    "fig = annotate_figure(fig, top = text_grob(\"Block_Lasso\"))\n",
    "ggexport(fig, filename = \"../figures_sim/figure_block_lasso.pdf\", height=6, width=6)"
   ]
  },
  {
   "cell_type": "code",
   "execution_count": 11,
   "metadata": {},
   "outputs": [
    {
     "data": {
      "text/html": [
       "<table>\n",
       "<thead><tr><th></th><th scope=col>N</th><th scope=col>P</th><th scope=col>Corr</th><th scope=col>Ratio</th><th scope=col>Stab</th><th scope=col>MSE</th><th scope=col>FP</th><th scope=col>FN</th><th scope=col>MSE_mean</th><th scope=col>FP_mean</th><th scope=col>FN_mean</th></tr></thead>\n",
       "<tbody>\n",
       "\t<tr><th scope=row>1</th><td>50            </td><td>  50          </td><td>0.1           </td><td> 1.0          </td><td>0.05          </td><td>0.36 ( 0.01 ) </td><td>3.52 ( 0.22 ) </td><td>4.92 ( 0.08 ) </td><td>0.36          </td><td> 3.52         </td><td>4.92          </td></tr>\n",
       "\t<tr><th scope=row>17</th><td>50            </td><td>  50          </td><td>0.3           </td><td> 1.0          </td><td>0.27          </td><td>0.72 ( 0.04 ) </td><td>8.7 ( 0.42 )  </td><td>0.79 ( 0.09 ) </td><td>0.72          </td><td> 8.70         </td><td>0.79          </td></tr>\n",
       "\t<tr><th scope=row>33</th><td>50            </td><td>  50          </td><td>0.5           </td><td> 1.0          </td><td>0.33          </td><td>0.64 ( 0.03 ) </td><td>9.36 ( 0.45 ) </td><td>0.12 ( 0.04 ) </td><td>0.64          </td><td> 9.36         </td><td>0.12          </td></tr>\n",
       "\t<tr><th scope=row>49</th><td>50            </td><td>  50          </td><td>0.7           </td><td> 1.0          </td><td>0.36          </td><td>0.57 ( 0.04 ) </td><td>8.63 ( 0.41 ) </td><td>0.06 ( 0.02 ) </td><td>0.57          </td><td> 8.63         </td><td>0.06          </td></tr>\n",
       "\t<tr><th scope=row>65</th><td>50            </td><td>  50          </td><td>0.9           </td><td> 1.0          </td><td>0.32          </td><td>0.61 ( 0.05 ) </td><td>9.61 ( 0.49 ) </td><td>0.07 ( 0.03 ) </td><td>0.61          </td><td> 9.61         </td><td>0.07          </td></tr>\n",
       "\t<tr><th scope=row>5</th><td>50            </td><td> 100          </td><td>0.1           </td><td> 2.0          </td><td>0.06          </td><td>0.37 ( 0.02 ) </td><td>4.73 ( 0.22 ) </td><td>4.79 ( 0.08 ) </td><td>0.37          </td><td> 4.73         </td><td>4.79          </td></tr>\n",
       "\t<tr><th scope=row>21</th><td>50            </td><td> 100          </td><td>0.3           </td><td> 2.0          </td><td>0.21          </td><td>0.82 ( 0.05 ) </td><td>12.31 ( 0.43 )</td><td>1.14 ( 0.1 )  </td><td>0.82          </td><td>12.30         </td><td>1.14          </td></tr>\n",
       "\t<tr><th scope=row>37</th><td>50            </td><td> 100          </td><td>0.5           </td><td> 2.0          </td><td>0.28          </td><td>0.78 ( 0.05 ) </td><td>12.05 ( 0.47 )</td><td>0.38 ( 0.07 ) </td><td>0.78          </td><td>12.00         </td><td>0.38          </td></tr>\n",
       "\t<tr><th scope=row>53</th><td>50            </td><td> 100          </td><td>0.7           </td><td> 2.0          </td><td>0.30          </td><td>0.82 ( 0.05 ) </td><td>11.87 ( 0.44 )</td><td>0.17 ( 0.05 ) </td><td>0.82          </td><td>11.80         </td><td>0.17          </td></tr>\n",
       "\t<tr><th scope=row>69</th><td>50            </td><td> 100          </td><td>0.9           </td><td> 2.0          </td><td>0.29          </td><td>0.87 ( 0.05 ) </td><td>12.12 ( 0.37 )</td><td>0.17 ( 0.05 ) </td><td>0.87          </td><td>12.10         </td><td>0.17          </td></tr>\n",
       "\t<tr><th scope=row>9</th><td>50            </td><td> 500          </td><td>0.1           </td><td>10.0          </td><td>0.01          </td><td>0.37 ( 0.02 ) </td><td>10.58 ( 0.31 )</td><td>5.25 ( 0.07 ) </td><td>0.37          </td><td>10.50         </td><td>5.25          </td></tr>\n",
       "\t<tr><th scope=row>25</th><td>50            </td><td> 500          </td><td>0.3           </td><td>10.0          </td><td>0.09          </td><td>1.25 ( 0.07 ) </td><td>20.71 ( 0.36 )</td><td>2.63 ( 0.11 ) </td><td>1.25          </td><td>20.70         </td><td>2.63          </td></tr>\n",
       "\t<tr><th scope=row>41</th><td>50            </td><td> 500          </td><td>0.5           </td><td>10.0          </td><td>0.12          </td><td>1.64 ( 0.1 )  </td><td>21.8 ( 0.36 ) </td><td>1.82 ( 0.11 ) </td><td>1.64          </td><td>21.80         </td><td>1.82          </td></tr>\n",
       "\t<tr><th scope=row>57</th><td>50            </td><td> 500          </td><td>0.7           </td><td>10.0          </td><td>0.15          </td><td>2.03 ( 0.14 ) </td><td>21.53 ( 0.36 )</td><td>1.18 ( 0.11 ) </td><td>2.03          </td><td>21.50         </td><td>1.18          </td></tr>\n",
       "\t<tr><th scope=row>73</th><td>50            </td><td> 500          </td><td>0.9           </td><td>10.0          </td><td>0.14          </td><td>2.29 ( 0.15 ) </td><td>23.7 ( 0.43 ) </td><td>1.18 ( 0.11 ) </td><td>2.29          </td><td>23.70         </td><td>1.18          </td></tr>\n",
       "\t<tr><th scope=row>13</th><td>50            </td><td>1000          </td><td>0.1           </td><td>20.0          </td><td>0.01          </td><td>0.39 ( 0.02 ) </td><td>13.99 ( 0.32 )</td><td>5.31 ( 0.07 ) </td><td>0.39          </td><td>13.90         </td><td>5.31          </td></tr>\n",
       "\t<tr><th scope=row>29</th><td>50            </td><td>1000          </td><td>0.3           </td><td>20.0          </td><td>0.06          </td><td>1.51 ( 0.08 ) </td><td>24.06 ( 0.36 )</td><td>3.21 ( 0.11 ) </td><td>1.51          </td><td>24.00         </td><td>3.21          </td></tr>\n",
       "\t<tr><th scope=row>45</th><td>50            </td><td>1000          </td><td>0.5           </td><td>20.0          </td><td>0.09          </td><td>1.84 ( 0.1 )  </td><td>24.67 ( 0.36 )</td><td>2.56 ( 0.11 ) </td><td>1.84          </td><td>24.60         </td><td>2.56          </td></tr>\n",
       "\t<tr><th scope=row>61</th><td>50            </td><td>1000          </td><td>0.7           </td><td>20.0          </td><td>0.10          </td><td>2.51 ( 0.13 ) </td><td>25.24 ( 0.32 )</td><td>2.11 ( 0.12 ) </td><td>2.51          </td><td>25.20         </td><td>2.11          </td></tr>\n",
       "\t<tr><th scope=row>77</th><td>50            </td><td>1000          </td><td>0.9           </td><td>20.0          </td><td>0.11          </td><td>2.46 ( 0.16 ) </td><td>25.37 ( 0.35 )</td><td>1.73 ( 0.12 ) </td><td>2.46          </td><td>25.30         </td><td>1.73          </td></tr>\n",
       "\t<tr><th scope=row>2</th><td>100           </td><td>  50          </td><td>0.1           </td><td> 0.5          </td><td>0.18          </td><td>0.31 ( 0.01 ) </td><td>2.71 ( 0.25 ) </td><td>4.4 ( 0.1 )   </td><td>0.31          </td><td> 2.71         </td><td>4.40          </td></tr>\n",
       "\t<tr><th scope=row>18</th><td>100           </td><td>  50          </td><td>0.3           </td><td> 0.5          </td><td>0.39          </td><td>0.4 ( 0.01 )  </td><td>7.91 ( 0.47 ) </td><td>0.01 ( 0.01 ) </td><td>0.40          </td><td> 7.91         </td><td>0.01          </td></tr>\n",
       "\t<tr><th scope=row>34</th><td>100           </td><td>  50          </td><td>0.5           </td><td> 0.5          </td><td>0.41          </td><td>0.36 ( 0.01 ) </td><td>7.39 ( 0.39 ) </td><td>0 ( 0 )       </td><td>0.36          </td><td> 7.39         </td><td>0.00          </td></tr>\n",
       "\t<tr><th scope=row>50</th><td>100           </td><td>  50          </td><td>0.7           </td><td> 0.5          </td><td>0.45          </td><td>0.37 ( 0.01 ) </td><td>6.73 ( 0.39 ) </td><td>0 ( 0 )       </td><td>0.37          </td><td> 6.73         </td><td>0.00          </td></tr>\n",
       "\t<tr><th scope=row>66</th><td>100           </td><td>  50          </td><td>0.9           </td><td> 0.5          </td><td>0.44          </td><td>0.37 ( 0.01 ) </td><td>6.82 ( 0.39 ) </td><td>0 ( 0 )       </td><td>0.37          </td><td> 6.82         </td><td>0.00          </td></tr>\n",
       "\t<tr><th scope=row>6</th><td>100           </td><td> 100          </td><td>0.1           </td><td> 1.0          </td><td>0.13          </td><td>0.34 ( 0.01 ) </td><td>3 ( 0.15 )    </td><td>4.75 ( 0.09 ) </td><td>0.34          </td><td> 3.00         </td><td>4.75          </td></tr>\n",
       "\t<tr><th scope=row>22</th><td>100           </td><td> 100          </td><td>0.3           </td><td> 1.0          </td><td>0.34          </td><td>0.44 ( 0.01 ) </td><td>10.58 ( 0.62 )</td><td>0.09 ( 0.03 ) </td><td>0.44          </td><td>10.50         </td><td>0.09          </td></tr>\n",
       "\t<tr><th scope=row>38</th><td>100           </td><td> 100          </td><td>0.5           </td><td> 1.0          </td><td>0.37          </td><td>0.42 ( 0.02 ) </td><td>9.57 ( 0.58 ) </td><td>0 ( 0 )       </td><td>0.42          </td><td> 9.57         </td><td>0.00          </td></tr>\n",
       "\t<tr><th scope=row>54</th><td>100           </td><td> 100          </td><td>0.7           </td><td> 1.0          </td><td>0.37          </td><td>0.41 ( 0.02 ) </td><td>9.7 ( 0.63 )  </td><td>0 ( 0 )       </td><td>0.41          </td><td> 9.70         </td><td>0.00          </td></tr>\n",
       "\t<tr><th scope=row>70</th><td>100           </td><td> 100          </td><td>0.9           </td><td> 1.0          </td><td>0.40          </td><td>0.38 ( 0.01 ) </td><td>8.72 ( 0.53 ) </td><td>0 ( 0 )       </td><td>0.38          </td><td> 8.72         </td><td>0.00          </td></tr>\n",
       "\t<tr><th scope=row>...</th><td>...</td><td>...</td><td>...</td><td>...</td><td>...</td><td>...</td><td>...</td><td>...</td><td>...</td><td>...</td><td>...</td></tr>\n",
       "\t<tr><th scope=row>11</th><td>500           </td><td> 500          </td><td>0.1           </td><td>1.00          </td><td>0.33          </td><td>0.32 ( 0.01 ) </td><td>3.77 ( 0.75 ) </td><td>3.69 ( 0.08 ) </td><td>0.32          </td><td> 3.77         </td><td>3.69          </td></tr>\n",
       "\t<tr><th scope=row>27</th><td>500           </td><td> 500          </td><td>0.3           </td><td>1.00          </td><td>0.47          </td><td>0.29 ( 0 )    </td><td>7.7 ( 0.54 )  </td><td>0 ( 0 )       </td><td>0.29          </td><td> 7.70         </td><td>0.00          </td></tr>\n",
       "\t<tr><th scope=row>43</th><td>500           </td><td> 500          </td><td>0.5           </td><td>1.00          </td><td>0.46          </td><td>0.3 ( 0 )     </td><td>7.82 ( 0.64 ) </td><td>0 ( 0 )       </td><td>0.30          </td><td> 7.82         </td><td>0.00          </td></tr>\n",
       "\t<tr><th scope=row>59</th><td>500           </td><td> 500          </td><td>0.7           </td><td>1.00          </td><td>0.51          </td><td>0.29 ( 0 )    </td><td>6.69 ( 0.45 ) </td><td>0 ( 0 )       </td><td>0.29          </td><td> 6.69         </td><td>0.00          </td></tr>\n",
       "\t<tr><th scope=row>75</th><td>500           </td><td> 500          </td><td>0.9           </td><td>1.00          </td><td>0.50          </td><td>0.29 ( 0 )    </td><td>6.87 ( 0.54 ) </td><td>0 ( 0 )       </td><td>0.29          </td><td> 6.87         </td><td>0.00          </td></tr>\n",
       "\t<tr><th scope=row>15</th><td>500           </td><td>1000          </td><td>0.1           </td><td>2.00          </td><td>0.48          </td><td>0.33 ( 0 )    </td><td>1.83 ( 0.19 ) </td><td>3.97 ( 0.07 ) </td><td>0.33          </td><td> 1.83         </td><td>3.97          </td></tr>\n",
       "\t<tr><th scope=row>31</th><td>500           </td><td>1000          </td><td>0.3           </td><td>2.00          </td><td>0.35          </td><td>0.29 ( 0 )    </td><td>11.72 ( 0.9 ) </td><td>0 ( 0 )       </td><td>0.29          </td><td>11.70         </td><td>0.00          </td></tr>\n",
       "\t<tr><th scope=row>47</th><td>500           </td><td>1000          </td><td>0.5           </td><td>2.00          </td><td>0.45          </td><td>0.29 ( 0 )    </td><td>8.22 ( 0.73 ) </td><td>0 ( 0 )       </td><td>0.29          </td><td> 8.22         </td><td>0.00          </td></tr>\n",
       "\t<tr><th scope=row>63</th><td>500           </td><td>1000          </td><td>0.7           </td><td>2.00          </td><td>0.47          </td><td>0.3 ( 0 )     </td><td>7.81 ( 0.61 ) </td><td>0 ( 0 )       </td><td>0.30          </td><td> 7.81         </td><td>0.00          </td></tr>\n",
       "\t<tr><th scope=row>79</th><td>500           </td><td>1000          </td><td>0.9           </td><td>2.00          </td><td>0.46          </td><td>0.3 ( 0 )     </td><td>7.99 ( 0.79 ) </td><td>0 ( 0 )       </td><td>0.30          </td><td> 7.99         </td><td>0.00          </td></tr>\n",
       "\t<tr><th scope=row>4</th><td>1000          </td><td>  50          </td><td>0.1           </td><td>0.05          </td><td>0.44          </td><td>0.28 ( 0 )    </td><td>4.91 ( 0.2 )  </td><td>1.57 ( 0.09 ) </td><td>0.28          </td><td> 4.91         </td><td>1.57          </td></tr>\n",
       "\t<tr><th scope=row>20</th><td>1000          </td><td>  50          </td><td>0.3           </td><td>0.05          </td><td>0.78          </td><td>0.27 ( 0 )    </td><td>2.45 ( 0.14 ) </td><td>0 ( 0 )       </td><td>0.27          </td><td> 2.45         </td><td>0.00          </td></tr>\n",
       "\t<tr><th scope=row>36</th><td>1000          </td><td>  50          </td><td>0.5           </td><td>0.05          </td><td>0.82          </td><td>0.27 ( 0 )    </td><td>2.11 ( 0.13 ) </td><td>0 ( 0 )       </td><td>0.27          </td><td> 2.11         </td><td>0.00          </td></tr>\n",
       "\t<tr><th scope=row>52</th><td>1000          </td><td>  50          </td><td>0.7           </td><td>0.05          </td><td>0.85          </td><td>0.27 ( 0 )    </td><td>1.89 ( 0.12 ) </td><td>0 ( 0 )       </td><td>0.27          </td><td> 1.89         </td><td>0.00          </td></tr>\n",
       "\t<tr><th scope=row>68</th><td>1000          </td><td>  50          </td><td>0.9           </td><td>0.05          </td><td>0.87          </td><td>0.27 ( 0 )    </td><td>1.76 ( 0.11 ) </td><td>0 ( 0 )       </td><td>0.27          </td><td> 1.76         </td><td>0.00          </td></tr>\n",
       "\t<tr><th scope=row>8</th><td>1000          </td><td> 100          </td><td>0.1           </td><td>0.10          </td><td>0.33          </td><td>0.29 ( 0 )    </td><td>7.77 ( 0.33 ) </td><td>1.44 ( 0.08 ) </td><td>0.29          </td><td> 7.77         </td><td>1.44          </td></tr>\n",
       "\t<tr><th scope=row>24</th><td>1000          </td><td> 100          </td><td>0.3           </td><td>0.10          </td><td>0.69          </td><td>0.27 ( 0 )    </td><td>3.46 ( 0.29 ) </td><td>0 ( 0 )       </td><td>0.27          </td><td> 3.46         </td><td>0.00          </td></tr>\n",
       "\t<tr><th scope=row>40</th><td>1000          </td><td> 100          </td><td>0.5           </td><td>0.10          </td><td>0.78          </td><td>0.27 ( 0 )    </td><td>2.58 ( 0.16 ) </td><td>0 ( 0 )       </td><td>0.27          </td><td> 2.58         </td><td>0.00          </td></tr>\n",
       "\t<tr><th scope=row>56</th><td>1000          </td><td> 100          </td><td>0.7           </td><td>0.10          </td><td>0.76          </td><td>0.27 ( 0 )    </td><td>2.71 ( 0.23 ) </td><td>0 ( 0 )       </td><td>0.27          </td><td> 2.71         </td><td>0.00          </td></tr>\n",
       "\t<tr><th scope=row>72</th><td>1000          </td><td> 100          </td><td>0.9           </td><td>0.10          </td><td>0.76          </td><td>0.27 ( 0 )    </td><td>2.72 ( 0.23 ) </td><td>0 ( 0 )       </td><td>0.27          </td><td> 2.72         </td><td>0.00          </td></tr>\n",
       "\t<tr><th scope=row>12</th><td>1000          </td><td> 500          </td><td>0.1           </td><td>0.50          </td><td>0.14          </td><td>0.29 ( 0 )    </td><td>20.61 ( 1.39 )</td><td>2.11 ( 0.1 )  </td><td>0.29          </td><td>20.60         </td><td>2.11          </td></tr>\n",
       "\t<tr><th scope=row>28</th><td>1000          </td><td> 500          </td><td>0.3           </td><td>0.50          </td><td>0.53          </td><td>0.27 ( 0 )    </td><td>6.14 ( 0.57 ) </td><td>0 ( 0 )       </td><td>0.27          </td><td> 6.14         </td><td>0.00          </td></tr>\n",
       "\t<tr><th scope=row>44</th><td>1000          </td><td> 500          </td><td>0.5           </td><td>0.50          </td><td>0.65          </td><td>0.28 ( 0 )    </td><td>4.16 ( 0.33 ) </td><td>0 ( 0 )       </td><td>0.28          </td><td> 4.16         </td><td>0.00          </td></tr>\n",
       "\t<tr><th scope=row>60</th><td>1000          </td><td> 500          </td><td>0.7           </td><td>0.50          </td><td>0.62          </td><td>0.28 ( 0 )    </td><td>4.65 ( 0.37 ) </td><td>0 ( 0 )       </td><td>0.28          </td><td> 4.65         </td><td>0.00          </td></tr>\n",
       "\t<tr><th scope=row>76</th><td>1000          </td><td> 500          </td><td>0.9           </td><td>0.50          </td><td>0.71          </td><td>0.27 ( 0 )    </td><td>3.37 ( 0.27 ) </td><td>0 ( 0 )       </td><td>0.27          </td><td> 3.37         </td><td>0.00          </td></tr>\n",
       "\t<tr><th scope=row>16</th><td>1000          </td><td>1000          </td><td>0.1           </td><td>1.00          </td><td>0.17          </td><td>0.3 ( 0 )     </td><td>13.42 ( 1.74 )</td><td>2.77 ( 0.09 ) </td><td>0.30          </td><td>13.40         </td><td>2.77          </td></tr>\n",
       "\t<tr><th scope=row>32</th><td>1000          </td><td>1000          </td><td>0.3           </td><td>1.00          </td><td>0.51          </td><td>0.27 ( 0 )    </td><td>6.69 ( 0.52 ) </td><td>0 ( 0 )       </td><td>0.27          </td><td> 6.69         </td><td>0.00          </td></tr>\n",
       "\t<tr><th scope=row>48</th><td>1000          </td><td>1000          </td><td>0.5           </td><td>1.00          </td><td>0.53          </td><td>0.27 ( 0 )    </td><td>6.36 ( 0.51 ) </td><td>0 ( 0 )       </td><td>0.27          </td><td> 6.36         </td><td>0.00          </td></tr>\n",
       "\t<tr><th scope=row>64</th><td>1000          </td><td>1000          </td><td>0.7           </td><td>1.00          </td><td>0.65          </td><td>0.28 ( 0 )    </td><td>4.14 ( 0.35 ) </td><td>0 ( 0 )       </td><td>0.28          </td><td> 4.14         </td><td>0.00          </td></tr>\n",
       "\t<tr><th scope=row>80</th><td>1000          </td><td>1000          </td><td>0.9           </td><td>1.00          </td><td>0.60          </td><td>0.28 ( 0 )    </td><td>4.93 ( 0.43 ) </td><td>0 ( 0 )       </td><td>0.28          </td><td> 4.93         </td><td>0.00          </td></tr>\n",
       "</tbody>\n",
       "</table>\n"
      ],
      "text/latex": [
       "\\begin{tabular}{r|lllllllllll}\n",
       "  & N & P & Corr & Ratio & Stab & MSE & FP & FN & MSE\\_mean & FP\\_mean & FN\\_mean\\\\\n",
       "\\hline\n",
       "\t1 & 50             &   50           & 0.1            &  1.0           & 0.05           & 0.36 ( 0.01 )  & 3.52 ( 0.22 )  & 4.92 ( 0.08 )  & 0.36           &  3.52          & 4.92          \\\\\n",
       "\t17 & 50             &   50           & 0.3            &  1.0           & 0.27           & 0.72 ( 0.04 )  & 8.7 ( 0.42 )   & 0.79 ( 0.09 )  & 0.72           &  8.70          & 0.79          \\\\\n",
       "\t33 & 50             &   50           & 0.5            &  1.0           & 0.33           & 0.64 ( 0.03 )  & 9.36 ( 0.45 )  & 0.12 ( 0.04 )  & 0.64           &  9.36          & 0.12          \\\\\n",
       "\t49 & 50             &   50           & 0.7            &  1.0           & 0.36           & 0.57 ( 0.04 )  & 8.63 ( 0.41 )  & 0.06 ( 0.02 )  & 0.57           &  8.63          & 0.06          \\\\\n",
       "\t65 & 50             &   50           & 0.9            &  1.0           & 0.32           & 0.61 ( 0.05 )  & 9.61 ( 0.49 )  & 0.07 ( 0.03 )  & 0.61           &  9.61          & 0.07          \\\\\n",
       "\t5 & 50             &  100           & 0.1            &  2.0           & 0.06           & 0.37 ( 0.02 )  & 4.73 ( 0.22 )  & 4.79 ( 0.08 )  & 0.37           &  4.73          & 4.79          \\\\\n",
       "\t21 & 50             &  100           & 0.3            &  2.0           & 0.21           & 0.82 ( 0.05 )  & 12.31 ( 0.43 ) & 1.14 ( 0.1 )   & 0.82           & 12.30          & 1.14          \\\\\n",
       "\t37 & 50             &  100           & 0.5            &  2.0           & 0.28           & 0.78 ( 0.05 )  & 12.05 ( 0.47 ) & 0.38 ( 0.07 )  & 0.78           & 12.00          & 0.38          \\\\\n",
       "\t53 & 50             &  100           & 0.7            &  2.0           & 0.30           & 0.82 ( 0.05 )  & 11.87 ( 0.44 ) & 0.17 ( 0.05 )  & 0.82           & 11.80          & 0.17          \\\\\n",
       "\t69 & 50             &  100           & 0.9            &  2.0           & 0.29           & 0.87 ( 0.05 )  & 12.12 ( 0.37 ) & 0.17 ( 0.05 )  & 0.87           & 12.10          & 0.17          \\\\\n",
       "\t9 & 50             &  500           & 0.1            & 10.0           & 0.01           & 0.37 ( 0.02 )  & 10.58 ( 0.31 ) & 5.25 ( 0.07 )  & 0.37           & 10.50          & 5.25          \\\\\n",
       "\t25 & 50             &  500           & 0.3            & 10.0           & 0.09           & 1.25 ( 0.07 )  & 20.71 ( 0.36 ) & 2.63 ( 0.11 )  & 1.25           & 20.70          & 2.63          \\\\\n",
       "\t41 & 50             &  500           & 0.5            & 10.0           & 0.12           & 1.64 ( 0.1 )   & 21.8 ( 0.36 )  & 1.82 ( 0.11 )  & 1.64           & 21.80          & 1.82          \\\\\n",
       "\t57 & 50             &  500           & 0.7            & 10.0           & 0.15           & 2.03 ( 0.14 )  & 21.53 ( 0.36 ) & 1.18 ( 0.11 )  & 2.03           & 21.50          & 1.18          \\\\\n",
       "\t73 & 50             &  500           & 0.9            & 10.0           & 0.14           & 2.29 ( 0.15 )  & 23.7 ( 0.43 )  & 1.18 ( 0.11 )  & 2.29           & 23.70          & 1.18          \\\\\n",
       "\t13 & 50             & 1000           & 0.1            & 20.0           & 0.01           & 0.39 ( 0.02 )  & 13.99 ( 0.32 ) & 5.31 ( 0.07 )  & 0.39           & 13.90          & 5.31          \\\\\n",
       "\t29 & 50             & 1000           & 0.3            & 20.0           & 0.06           & 1.51 ( 0.08 )  & 24.06 ( 0.36 ) & 3.21 ( 0.11 )  & 1.51           & 24.00          & 3.21          \\\\\n",
       "\t45 & 50             & 1000           & 0.5            & 20.0           & 0.09           & 1.84 ( 0.1 )   & 24.67 ( 0.36 ) & 2.56 ( 0.11 )  & 1.84           & 24.60          & 2.56          \\\\\n",
       "\t61 & 50             & 1000           & 0.7            & 20.0           & 0.10           & 2.51 ( 0.13 )  & 25.24 ( 0.32 ) & 2.11 ( 0.12 )  & 2.51           & 25.20          & 2.11          \\\\\n",
       "\t77 & 50             & 1000           & 0.9            & 20.0           & 0.11           & 2.46 ( 0.16 )  & 25.37 ( 0.35 ) & 1.73 ( 0.12 )  & 2.46           & 25.30          & 1.73          \\\\\n",
       "\t2 & 100            &   50           & 0.1            &  0.5           & 0.18           & 0.31 ( 0.01 )  & 2.71 ( 0.25 )  & 4.4 ( 0.1 )    & 0.31           &  2.71          & 4.40          \\\\\n",
       "\t18 & 100            &   50           & 0.3            &  0.5           & 0.39           & 0.4 ( 0.01 )   & 7.91 ( 0.47 )  & 0.01 ( 0.01 )  & 0.40           &  7.91          & 0.01          \\\\\n",
       "\t34 & 100            &   50           & 0.5            &  0.5           & 0.41           & 0.36 ( 0.01 )  & 7.39 ( 0.39 )  & 0 ( 0 )        & 0.36           &  7.39          & 0.00          \\\\\n",
       "\t50 & 100            &   50           & 0.7            &  0.5           & 0.45           & 0.37 ( 0.01 )  & 6.73 ( 0.39 )  & 0 ( 0 )        & 0.37           &  6.73          & 0.00          \\\\\n",
       "\t66 & 100            &   50           & 0.9            &  0.5           & 0.44           & 0.37 ( 0.01 )  & 6.82 ( 0.39 )  & 0 ( 0 )        & 0.37           &  6.82          & 0.00          \\\\\n",
       "\t6 & 100            &  100           & 0.1            &  1.0           & 0.13           & 0.34 ( 0.01 )  & 3 ( 0.15 )     & 4.75 ( 0.09 )  & 0.34           &  3.00          & 4.75          \\\\\n",
       "\t22 & 100            &  100           & 0.3            &  1.0           & 0.34           & 0.44 ( 0.01 )  & 10.58 ( 0.62 ) & 0.09 ( 0.03 )  & 0.44           & 10.50          & 0.09          \\\\\n",
       "\t38 & 100            &  100           & 0.5            &  1.0           & 0.37           & 0.42 ( 0.02 )  & 9.57 ( 0.58 )  & 0 ( 0 )        & 0.42           &  9.57          & 0.00          \\\\\n",
       "\t54 & 100            &  100           & 0.7            &  1.0           & 0.37           & 0.41 ( 0.02 )  & 9.7 ( 0.63 )   & 0 ( 0 )        & 0.41           &  9.70          & 0.00          \\\\\n",
       "\t70 & 100            &  100           & 0.9            &  1.0           & 0.40           & 0.38 ( 0.01 )  & 8.72 ( 0.53 )  & 0 ( 0 )        & 0.38           &  8.72          & 0.00          \\\\\n",
       "\t... & ... & ... & ... & ... & ... & ... & ... & ... & ... & ... & ...\\\\\n",
       "\t11 & 500            &  500           & 0.1            & 1.00           & 0.33           & 0.32 ( 0.01 )  & 3.77 ( 0.75 )  & 3.69 ( 0.08 )  & 0.32           &  3.77          & 3.69          \\\\\n",
       "\t27 & 500            &  500           & 0.3            & 1.00           & 0.47           & 0.29 ( 0 )     & 7.7 ( 0.54 )   & 0 ( 0 )        & 0.29           &  7.70          & 0.00          \\\\\n",
       "\t43 & 500            &  500           & 0.5            & 1.00           & 0.46           & 0.3 ( 0 )      & 7.82 ( 0.64 )  & 0 ( 0 )        & 0.30           &  7.82          & 0.00          \\\\\n",
       "\t59 & 500            &  500           & 0.7            & 1.00           & 0.51           & 0.29 ( 0 )     & 6.69 ( 0.45 )  & 0 ( 0 )        & 0.29           &  6.69          & 0.00          \\\\\n",
       "\t75 & 500            &  500           & 0.9            & 1.00           & 0.50           & 0.29 ( 0 )     & 6.87 ( 0.54 )  & 0 ( 0 )        & 0.29           &  6.87          & 0.00          \\\\\n",
       "\t15 & 500            & 1000           & 0.1            & 2.00           & 0.48           & 0.33 ( 0 )     & 1.83 ( 0.19 )  & 3.97 ( 0.07 )  & 0.33           &  1.83          & 3.97          \\\\\n",
       "\t31 & 500            & 1000           & 0.3            & 2.00           & 0.35           & 0.29 ( 0 )     & 11.72 ( 0.9 )  & 0 ( 0 )        & 0.29           & 11.70          & 0.00          \\\\\n",
       "\t47 & 500            & 1000           & 0.5            & 2.00           & 0.45           & 0.29 ( 0 )     & 8.22 ( 0.73 )  & 0 ( 0 )        & 0.29           &  8.22          & 0.00          \\\\\n",
       "\t63 & 500            & 1000           & 0.7            & 2.00           & 0.47           & 0.3 ( 0 )      & 7.81 ( 0.61 )  & 0 ( 0 )        & 0.30           &  7.81          & 0.00          \\\\\n",
       "\t79 & 500            & 1000           & 0.9            & 2.00           & 0.46           & 0.3 ( 0 )      & 7.99 ( 0.79 )  & 0 ( 0 )        & 0.30           &  7.99          & 0.00          \\\\\n",
       "\t4 & 1000           &   50           & 0.1            & 0.05           & 0.44           & 0.28 ( 0 )     & 4.91 ( 0.2 )   & 1.57 ( 0.09 )  & 0.28           &  4.91          & 1.57          \\\\\n",
       "\t20 & 1000           &   50           & 0.3            & 0.05           & 0.78           & 0.27 ( 0 )     & 2.45 ( 0.14 )  & 0 ( 0 )        & 0.27           &  2.45          & 0.00          \\\\\n",
       "\t36 & 1000           &   50           & 0.5            & 0.05           & 0.82           & 0.27 ( 0 )     & 2.11 ( 0.13 )  & 0 ( 0 )        & 0.27           &  2.11          & 0.00          \\\\\n",
       "\t52 & 1000           &   50           & 0.7            & 0.05           & 0.85           & 0.27 ( 0 )     & 1.89 ( 0.12 )  & 0 ( 0 )        & 0.27           &  1.89          & 0.00          \\\\\n",
       "\t68 & 1000           &   50           & 0.9            & 0.05           & 0.87           & 0.27 ( 0 )     & 1.76 ( 0.11 )  & 0 ( 0 )        & 0.27           &  1.76          & 0.00          \\\\\n",
       "\t8 & 1000           &  100           & 0.1            & 0.10           & 0.33           & 0.29 ( 0 )     & 7.77 ( 0.33 )  & 1.44 ( 0.08 )  & 0.29           &  7.77          & 1.44          \\\\\n",
       "\t24 & 1000           &  100           & 0.3            & 0.10           & 0.69           & 0.27 ( 0 )     & 3.46 ( 0.29 )  & 0 ( 0 )        & 0.27           &  3.46          & 0.00          \\\\\n",
       "\t40 & 1000           &  100           & 0.5            & 0.10           & 0.78           & 0.27 ( 0 )     & 2.58 ( 0.16 )  & 0 ( 0 )        & 0.27           &  2.58          & 0.00          \\\\\n",
       "\t56 & 1000           &  100           & 0.7            & 0.10           & 0.76           & 0.27 ( 0 )     & 2.71 ( 0.23 )  & 0 ( 0 )        & 0.27           &  2.71          & 0.00          \\\\\n",
       "\t72 & 1000           &  100           & 0.9            & 0.10           & 0.76           & 0.27 ( 0 )     & 2.72 ( 0.23 )  & 0 ( 0 )        & 0.27           &  2.72          & 0.00          \\\\\n",
       "\t12 & 1000           &  500           & 0.1            & 0.50           & 0.14           & 0.29 ( 0 )     & 20.61 ( 1.39 ) & 2.11 ( 0.1 )   & 0.29           & 20.60          & 2.11          \\\\\n",
       "\t28 & 1000           &  500           & 0.3            & 0.50           & 0.53           & 0.27 ( 0 )     & 6.14 ( 0.57 )  & 0 ( 0 )        & 0.27           &  6.14          & 0.00          \\\\\n",
       "\t44 & 1000           &  500           & 0.5            & 0.50           & 0.65           & 0.28 ( 0 )     & 4.16 ( 0.33 )  & 0 ( 0 )        & 0.28           &  4.16          & 0.00          \\\\\n",
       "\t60 & 1000           &  500           & 0.7            & 0.50           & 0.62           & 0.28 ( 0 )     & 4.65 ( 0.37 )  & 0 ( 0 )        & 0.28           &  4.65          & 0.00          \\\\\n",
       "\t76 & 1000           &  500           & 0.9            & 0.50           & 0.71           & 0.27 ( 0 )     & 3.37 ( 0.27 )  & 0 ( 0 )        & 0.27           &  3.37          & 0.00          \\\\\n",
       "\t16 & 1000           & 1000           & 0.1            & 1.00           & 0.17           & 0.3 ( 0 )      & 13.42 ( 1.74 ) & 2.77 ( 0.09 )  & 0.30           & 13.40          & 2.77          \\\\\n",
       "\t32 & 1000           & 1000           & 0.3            & 1.00           & 0.51           & 0.27 ( 0 )     & 6.69 ( 0.52 )  & 0 ( 0 )        & 0.27           &  6.69          & 0.00          \\\\\n",
       "\t48 & 1000           & 1000           & 0.5            & 1.00           & 0.53           & 0.27 ( 0 )     & 6.36 ( 0.51 )  & 0 ( 0 )        & 0.27           &  6.36          & 0.00          \\\\\n",
       "\t64 & 1000           & 1000           & 0.7            & 1.00           & 0.65           & 0.28 ( 0 )     & 4.14 ( 0.35 )  & 0 ( 0 )        & 0.28           &  4.14          & 0.00          \\\\\n",
       "\t80 & 1000           & 1000           & 0.9            & 1.00           & 0.60           & 0.28 ( 0 )     & 4.93 ( 0.43 )  & 0 ( 0 )        & 0.28           &  4.93          & 0.00          \\\\\n",
       "\\end{tabular}\n"
      ],
      "text/markdown": [
       "\n",
       "| <!--/--> | N | P | Corr | Ratio | Stab | MSE | FP | FN | MSE_mean | FP_mean | FN_mean |\n",
       "|---|---|---|---|---|---|---|---|---|---|---|---|\n",
       "| 1 | 50             |   50           | 0.1            |  1.0           | 0.05           | 0.36 ( 0.01 )  | 3.52 ( 0.22 )  | 4.92 ( 0.08 )  | 0.36           |  3.52          | 4.92           |\n",
       "| 17 | 50             |   50           | 0.3            |  1.0           | 0.27           | 0.72 ( 0.04 )  | 8.7 ( 0.42 )   | 0.79 ( 0.09 )  | 0.72           |  8.70          | 0.79           |\n",
       "| 33 | 50             |   50           | 0.5            |  1.0           | 0.33           | 0.64 ( 0.03 )  | 9.36 ( 0.45 )  | 0.12 ( 0.04 )  | 0.64           |  9.36          | 0.12           |\n",
       "| 49 | 50             |   50           | 0.7            |  1.0           | 0.36           | 0.57 ( 0.04 )  | 8.63 ( 0.41 )  | 0.06 ( 0.02 )  | 0.57           |  8.63          | 0.06           |\n",
       "| 65 | 50             |   50           | 0.9            |  1.0           | 0.32           | 0.61 ( 0.05 )  | 9.61 ( 0.49 )  | 0.07 ( 0.03 )  | 0.61           |  9.61          | 0.07           |\n",
       "| 5 | 50             |  100           | 0.1            |  2.0           | 0.06           | 0.37 ( 0.02 )  | 4.73 ( 0.22 )  | 4.79 ( 0.08 )  | 0.37           |  4.73          | 4.79           |\n",
       "| 21 | 50             |  100           | 0.3            |  2.0           | 0.21           | 0.82 ( 0.05 )  | 12.31 ( 0.43 ) | 1.14 ( 0.1 )   | 0.82           | 12.30          | 1.14           |\n",
       "| 37 | 50             |  100           | 0.5            |  2.0           | 0.28           | 0.78 ( 0.05 )  | 12.05 ( 0.47 ) | 0.38 ( 0.07 )  | 0.78           | 12.00          | 0.38           |\n",
       "| 53 | 50             |  100           | 0.7            |  2.0           | 0.30           | 0.82 ( 0.05 )  | 11.87 ( 0.44 ) | 0.17 ( 0.05 )  | 0.82           | 11.80          | 0.17           |\n",
       "| 69 | 50             |  100           | 0.9            |  2.0           | 0.29           | 0.87 ( 0.05 )  | 12.12 ( 0.37 ) | 0.17 ( 0.05 )  | 0.87           | 12.10          | 0.17           |\n",
       "| 9 | 50             |  500           | 0.1            | 10.0           | 0.01           | 0.37 ( 0.02 )  | 10.58 ( 0.31 ) | 5.25 ( 0.07 )  | 0.37           | 10.50          | 5.25           |\n",
       "| 25 | 50             |  500           | 0.3            | 10.0           | 0.09           | 1.25 ( 0.07 )  | 20.71 ( 0.36 ) | 2.63 ( 0.11 )  | 1.25           | 20.70          | 2.63           |\n",
       "| 41 | 50             |  500           | 0.5            | 10.0           | 0.12           | 1.64 ( 0.1 )   | 21.8 ( 0.36 )  | 1.82 ( 0.11 )  | 1.64           | 21.80          | 1.82           |\n",
       "| 57 | 50             |  500           | 0.7            | 10.0           | 0.15           | 2.03 ( 0.14 )  | 21.53 ( 0.36 ) | 1.18 ( 0.11 )  | 2.03           | 21.50          | 1.18           |\n",
       "| 73 | 50             |  500           | 0.9            | 10.0           | 0.14           | 2.29 ( 0.15 )  | 23.7 ( 0.43 )  | 1.18 ( 0.11 )  | 2.29           | 23.70          | 1.18           |\n",
       "| 13 | 50             | 1000           | 0.1            | 20.0           | 0.01           | 0.39 ( 0.02 )  | 13.99 ( 0.32 ) | 5.31 ( 0.07 )  | 0.39           | 13.90          | 5.31           |\n",
       "| 29 | 50             | 1000           | 0.3            | 20.0           | 0.06           | 1.51 ( 0.08 )  | 24.06 ( 0.36 ) | 3.21 ( 0.11 )  | 1.51           | 24.00          | 3.21           |\n",
       "| 45 | 50             | 1000           | 0.5            | 20.0           | 0.09           | 1.84 ( 0.1 )   | 24.67 ( 0.36 ) | 2.56 ( 0.11 )  | 1.84           | 24.60          | 2.56           |\n",
       "| 61 | 50             | 1000           | 0.7            | 20.0           | 0.10           | 2.51 ( 0.13 )  | 25.24 ( 0.32 ) | 2.11 ( 0.12 )  | 2.51           | 25.20          | 2.11           |\n",
       "| 77 | 50             | 1000           | 0.9            | 20.0           | 0.11           | 2.46 ( 0.16 )  | 25.37 ( 0.35 ) | 1.73 ( 0.12 )  | 2.46           | 25.30          | 1.73           |\n",
       "| 2 | 100            |   50           | 0.1            |  0.5           | 0.18           | 0.31 ( 0.01 )  | 2.71 ( 0.25 )  | 4.4 ( 0.1 )    | 0.31           |  2.71          | 4.40           |\n",
       "| 18 | 100            |   50           | 0.3            |  0.5           | 0.39           | 0.4 ( 0.01 )   | 7.91 ( 0.47 )  | 0.01 ( 0.01 )  | 0.40           |  7.91          | 0.01           |\n",
       "| 34 | 100            |   50           | 0.5            |  0.5           | 0.41           | 0.36 ( 0.01 )  | 7.39 ( 0.39 )  | 0 ( 0 )        | 0.36           |  7.39          | 0.00           |\n",
       "| 50 | 100            |   50           | 0.7            |  0.5           | 0.45           | 0.37 ( 0.01 )  | 6.73 ( 0.39 )  | 0 ( 0 )        | 0.37           |  6.73          | 0.00           |\n",
       "| 66 | 100            |   50           | 0.9            |  0.5           | 0.44           | 0.37 ( 0.01 )  | 6.82 ( 0.39 )  | 0 ( 0 )        | 0.37           |  6.82          | 0.00           |\n",
       "| 6 | 100            |  100           | 0.1            |  1.0           | 0.13           | 0.34 ( 0.01 )  | 3 ( 0.15 )     | 4.75 ( 0.09 )  | 0.34           |  3.00          | 4.75           |\n",
       "| 22 | 100            |  100           | 0.3            |  1.0           | 0.34           | 0.44 ( 0.01 )  | 10.58 ( 0.62 ) | 0.09 ( 0.03 )  | 0.44           | 10.50          | 0.09           |\n",
       "| 38 | 100            |  100           | 0.5            |  1.0           | 0.37           | 0.42 ( 0.02 )  | 9.57 ( 0.58 )  | 0 ( 0 )        | 0.42           |  9.57          | 0.00           |\n",
       "| 54 | 100            |  100           | 0.7            |  1.0           | 0.37           | 0.41 ( 0.02 )  | 9.7 ( 0.63 )   | 0 ( 0 )        | 0.41           |  9.70          | 0.00           |\n",
       "| 70 | 100            |  100           | 0.9            |  1.0           | 0.40           | 0.38 ( 0.01 )  | 8.72 ( 0.53 )  | 0 ( 0 )        | 0.38           |  8.72          | 0.00           |\n",
       "| ... | ... | ... | ... | ... | ... | ... | ... | ... | ... | ... | ... |\n",
       "| 11 | 500            |  500           | 0.1            | 1.00           | 0.33           | 0.32 ( 0.01 )  | 3.77 ( 0.75 )  | 3.69 ( 0.08 )  | 0.32           |  3.77          | 3.69           |\n",
       "| 27 | 500            |  500           | 0.3            | 1.00           | 0.47           | 0.29 ( 0 )     | 7.7 ( 0.54 )   | 0 ( 0 )        | 0.29           |  7.70          | 0.00           |\n",
       "| 43 | 500            |  500           | 0.5            | 1.00           | 0.46           | 0.3 ( 0 )      | 7.82 ( 0.64 )  | 0 ( 0 )        | 0.30           |  7.82          | 0.00           |\n",
       "| 59 | 500            |  500           | 0.7            | 1.00           | 0.51           | 0.29 ( 0 )     | 6.69 ( 0.45 )  | 0 ( 0 )        | 0.29           |  6.69          | 0.00           |\n",
       "| 75 | 500            |  500           | 0.9            | 1.00           | 0.50           | 0.29 ( 0 )     | 6.87 ( 0.54 )  | 0 ( 0 )        | 0.29           |  6.87          | 0.00           |\n",
       "| 15 | 500            | 1000           | 0.1            | 2.00           | 0.48           | 0.33 ( 0 )     | 1.83 ( 0.19 )  | 3.97 ( 0.07 )  | 0.33           |  1.83          | 3.97           |\n",
       "| 31 | 500            | 1000           | 0.3            | 2.00           | 0.35           | 0.29 ( 0 )     | 11.72 ( 0.9 )  | 0 ( 0 )        | 0.29           | 11.70          | 0.00           |\n",
       "| 47 | 500            | 1000           | 0.5            | 2.00           | 0.45           | 0.29 ( 0 )     | 8.22 ( 0.73 )  | 0 ( 0 )        | 0.29           |  8.22          | 0.00           |\n",
       "| 63 | 500            | 1000           | 0.7            | 2.00           | 0.47           | 0.3 ( 0 )      | 7.81 ( 0.61 )  | 0 ( 0 )        | 0.30           |  7.81          | 0.00           |\n",
       "| 79 | 500            | 1000           | 0.9            | 2.00           | 0.46           | 0.3 ( 0 )      | 7.99 ( 0.79 )  | 0 ( 0 )        | 0.30           |  7.99          | 0.00           |\n",
       "| 4 | 1000           |   50           | 0.1            | 0.05           | 0.44           | 0.28 ( 0 )     | 4.91 ( 0.2 )   | 1.57 ( 0.09 )  | 0.28           |  4.91          | 1.57           |\n",
       "| 20 | 1000           |   50           | 0.3            | 0.05           | 0.78           | 0.27 ( 0 )     | 2.45 ( 0.14 )  | 0 ( 0 )        | 0.27           |  2.45          | 0.00           |\n",
       "| 36 | 1000           |   50           | 0.5            | 0.05           | 0.82           | 0.27 ( 0 )     | 2.11 ( 0.13 )  | 0 ( 0 )        | 0.27           |  2.11          | 0.00           |\n",
       "| 52 | 1000           |   50           | 0.7            | 0.05           | 0.85           | 0.27 ( 0 )     | 1.89 ( 0.12 )  | 0 ( 0 )        | 0.27           |  1.89          | 0.00           |\n",
       "| 68 | 1000           |   50           | 0.9            | 0.05           | 0.87           | 0.27 ( 0 )     | 1.76 ( 0.11 )  | 0 ( 0 )        | 0.27           |  1.76          | 0.00           |\n",
       "| 8 | 1000           |  100           | 0.1            | 0.10           | 0.33           | 0.29 ( 0 )     | 7.77 ( 0.33 )  | 1.44 ( 0.08 )  | 0.29           |  7.77          | 1.44           |\n",
       "| 24 | 1000           |  100           | 0.3            | 0.10           | 0.69           | 0.27 ( 0 )     | 3.46 ( 0.29 )  | 0 ( 0 )        | 0.27           |  3.46          | 0.00           |\n",
       "| 40 | 1000           |  100           | 0.5            | 0.10           | 0.78           | 0.27 ( 0 )     | 2.58 ( 0.16 )  | 0 ( 0 )        | 0.27           |  2.58          | 0.00           |\n",
       "| 56 | 1000           |  100           | 0.7            | 0.10           | 0.76           | 0.27 ( 0 )     | 2.71 ( 0.23 )  | 0 ( 0 )        | 0.27           |  2.71          | 0.00           |\n",
       "| 72 | 1000           |  100           | 0.9            | 0.10           | 0.76           | 0.27 ( 0 )     | 2.72 ( 0.23 )  | 0 ( 0 )        | 0.27           |  2.72          | 0.00           |\n",
       "| 12 | 1000           |  500           | 0.1            | 0.50           | 0.14           | 0.29 ( 0 )     | 20.61 ( 1.39 ) | 2.11 ( 0.1 )   | 0.29           | 20.60          | 2.11           |\n",
       "| 28 | 1000           |  500           | 0.3            | 0.50           | 0.53           | 0.27 ( 0 )     | 6.14 ( 0.57 )  | 0 ( 0 )        | 0.27           |  6.14          | 0.00           |\n",
       "| 44 | 1000           |  500           | 0.5            | 0.50           | 0.65           | 0.28 ( 0 )     | 4.16 ( 0.33 )  | 0 ( 0 )        | 0.28           |  4.16          | 0.00           |\n",
       "| 60 | 1000           |  500           | 0.7            | 0.50           | 0.62           | 0.28 ( 0 )     | 4.65 ( 0.37 )  | 0 ( 0 )        | 0.28           |  4.65          | 0.00           |\n",
       "| 76 | 1000           |  500           | 0.9            | 0.50           | 0.71           | 0.27 ( 0 )     | 3.37 ( 0.27 )  | 0 ( 0 )        | 0.27           |  3.37          | 0.00           |\n",
       "| 16 | 1000           | 1000           | 0.1            | 1.00           | 0.17           | 0.3 ( 0 )      | 13.42 ( 1.74 ) | 2.77 ( 0.09 )  | 0.30           | 13.40          | 2.77           |\n",
       "| 32 | 1000           | 1000           | 0.3            | 1.00           | 0.51           | 0.27 ( 0 )     | 6.69 ( 0.52 )  | 0 ( 0 )        | 0.27           |  6.69          | 0.00           |\n",
       "| 48 | 1000           | 1000           | 0.5            | 1.00           | 0.53           | 0.27 ( 0 )     | 6.36 ( 0.51 )  | 0 ( 0 )        | 0.27           |  6.36          | 0.00           |\n",
       "| 64 | 1000           | 1000           | 0.7            | 1.00           | 0.65           | 0.28 ( 0 )     | 4.14 ( 0.35 )  | 0 ( 0 )        | 0.28           |  4.14          | 0.00           |\n",
       "| 80 | 1000           | 1000           | 0.9            | 1.00           | 0.60           | 0.28 ( 0 )     | 4.93 ( 0.43 )  | 0 ( 0 )        | 0.28           |  4.93          | 0.00           |\n",
       "\n"
      ],
      "text/plain": [
       "    N    P    Corr Ratio Stab MSE           FP             FN           \n",
       "1   50     50 0.1   1.0  0.05 0.36 ( 0.01 ) 3.52 ( 0.22 )  4.92 ( 0.08 )\n",
       "17  50     50 0.3   1.0  0.27 0.72 ( 0.04 ) 8.7 ( 0.42 )   0.79 ( 0.09 )\n",
       "33  50     50 0.5   1.0  0.33 0.64 ( 0.03 ) 9.36 ( 0.45 )  0.12 ( 0.04 )\n",
       "49  50     50 0.7   1.0  0.36 0.57 ( 0.04 ) 8.63 ( 0.41 )  0.06 ( 0.02 )\n",
       "65  50     50 0.9   1.0  0.32 0.61 ( 0.05 ) 9.61 ( 0.49 )  0.07 ( 0.03 )\n",
       "5   50    100 0.1   2.0  0.06 0.37 ( 0.02 ) 4.73 ( 0.22 )  4.79 ( 0.08 )\n",
       "21  50    100 0.3   2.0  0.21 0.82 ( 0.05 ) 12.31 ( 0.43 ) 1.14 ( 0.1 ) \n",
       "37  50    100 0.5   2.0  0.28 0.78 ( 0.05 ) 12.05 ( 0.47 ) 0.38 ( 0.07 )\n",
       "53  50    100 0.7   2.0  0.30 0.82 ( 0.05 ) 11.87 ( 0.44 ) 0.17 ( 0.05 )\n",
       "69  50    100 0.9   2.0  0.29 0.87 ( 0.05 ) 12.12 ( 0.37 ) 0.17 ( 0.05 )\n",
       "9   50    500 0.1  10.0  0.01 0.37 ( 0.02 ) 10.58 ( 0.31 ) 5.25 ( 0.07 )\n",
       "25  50    500 0.3  10.0  0.09 1.25 ( 0.07 ) 20.71 ( 0.36 ) 2.63 ( 0.11 )\n",
       "41  50    500 0.5  10.0  0.12 1.64 ( 0.1 )  21.8 ( 0.36 )  1.82 ( 0.11 )\n",
       "57  50    500 0.7  10.0  0.15 2.03 ( 0.14 ) 21.53 ( 0.36 ) 1.18 ( 0.11 )\n",
       "73  50    500 0.9  10.0  0.14 2.29 ( 0.15 ) 23.7 ( 0.43 )  1.18 ( 0.11 )\n",
       "13  50   1000 0.1  20.0  0.01 0.39 ( 0.02 ) 13.99 ( 0.32 ) 5.31 ( 0.07 )\n",
       "29  50   1000 0.3  20.0  0.06 1.51 ( 0.08 ) 24.06 ( 0.36 ) 3.21 ( 0.11 )\n",
       "45  50   1000 0.5  20.0  0.09 1.84 ( 0.1 )  24.67 ( 0.36 ) 2.56 ( 0.11 )\n",
       "61  50   1000 0.7  20.0  0.10 2.51 ( 0.13 ) 25.24 ( 0.32 ) 2.11 ( 0.12 )\n",
       "77  50   1000 0.9  20.0  0.11 2.46 ( 0.16 ) 25.37 ( 0.35 ) 1.73 ( 0.12 )\n",
       "2   100    50 0.1   0.5  0.18 0.31 ( 0.01 ) 2.71 ( 0.25 )  4.4 ( 0.1 )  \n",
       "18  100    50 0.3   0.5  0.39 0.4 ( 0.01 )  7.91 ( 0.47 )  0.01 ( 0.01 )\n",
       "34  100    50 0.5   0.5  0.41 0.36 ( 0.01 ) 7.39 ( 0.39 )  0 ( 0 )      \n",
       "50  100    50 0.7   0.5  0.45 0.37 ( 0.01 ) 6.73 ( 0.39 )  0 ( 0 )      \n",
       "66  100    50 0.9   0.5  0.44 0.37 ( 0.01 ) 6.82 ( 0.39 )  0 ( 0 )      \n",
       "6   100   100 0.1   1.0  0.13 0.34 ( 0.01 ) 3 ( 0.15 )     4.75 ( 0.09 )\n",
       "22  100   100 0.3   1.0  0.34 0.44 ( 0.01 ) 10.58 ( 0.62 ) 0.09 ( 0.03 )\n",
       "38  100   100 0.5   1.0  0.37 0.42 ( 0.02 ) 9.57 ( 0.58 )  0 ( 0 )      \n",
       "54  100   100 0.7   1.0  0.37 0.41 ( 0.02 ) 9.7 ( 0.63 )   0 ( 0 )      \n",
       "70  100   100 0.9   1.0  0.40 0.38 ( 0.01 ) 8.72 ( 0.53 )  0 ( 0 )      \n",
       "... ...  ...  ...  ...   ...  ...           ...            ...          \n",
       "11  500   500 0.1  1.00  0.33 0.32 ( 0.01 ) 3.77 ( 0.75 )  3.69 ( 0.08 )\n",
       "27  500   500 0.3  1.00  0.47 0.29 ( 0 )    7.7 ( 0.54 )   0 ( 0 )      \n",
       "43  500   500 0.5  1.00  0.46 0.3 ( 0 )     7.82 ( 0.64 )  0 ( 0 )      \n",
       "59  500   500 0.7  1.00  0.51 0.29 ( 0 )    6.69 ( 0.45 )  0 ( 0 )      \n",
       "75  500   500 0.9  1.00  0.50 0.29 ( 0 )    6.87 ( 0.54 )  0 ( 0 )      \n",
       "15  500  1000 0.1  2.00  0.48 0.33 ( 0 )    1.83 ( 0.19 )  3.97 ( 0.07 )\n",
       "31  500  1000 0.3  2.00  0.35 0.29 ( 0 )    11.72 ( 0.9 )  0 ( 0 )      \n",
       "47  500  1000 0.5  2.00  0.45 0.29 ( 0 )    8.22 ( 0.73 )  0 ( 0 )      \n",
       "63  500  1000 0.7  2.00  0.47 0.3 ( 0 )     7.81 ( 0.61 )  0 ( 0 )      \n",
       "79  500  1000 0.9  2.00  0.46 0.3 ( 0 )     7.99 ( 0.79 )  0 ( 0 )      \n",
       "4   1000   50 0.1  0.05  0.44 0.28 ( 0 )    4.91 ( 0.2 )   1.57 ( 0.09 )\n",
       "20  1000   50 0.3  0.05  0.78 0.27 ( 0 )    2.45 ( 0.14 )  0 ( 0 )      \n",
       "36  1000   50 0.5  0.05  0.82 0.27 ( 0 )    2.11 ( 0.13 )  0 ( 0 )      \n",
       "52  1000   50 0.7  0.05  0.85 0.27 ( 0 )    1.89 ( 0.12 )  0 ( 0 )      \n",
       "68  1000   50 0.9  0.05  0.87 0.27 ( 0 )    1.76 ( 0.11 )  0 ( 0 )      \n",
       "8   1000  100 0.1  0.10  0.33 0.29 ( 0 )    7.77 ( 0.33 )  1.44 ( 0.08 )\n",
       "24  1000  100 0.3  0.10  0.69 0.27 ( 0 )    3.46 ( 0.29 )  0 ( 0 )      \n",
       "40  1000  100 0.5  0.10  0.78 0.27 ( 0 )    2.58 ( 0.16 )  0 ( 0 )      \n",
       "56  1000  100 0.7  0.10  0.76 0.27 ( 0 )    2.71 ( 0.23 )  0 ( 0 )      \n",
       "72  1000  100 0.9  0.10  0.76 0.27 ( 0 )    2.72 ( 0.23 )  0 ( 0 )      \n",
       "12  1000  500 0.1  0.50  0.14 0.29 ( 0 )    20.61 ( 1.39 ) 2.11 ( 0.1 ) \n",
       "28  1000  500 0.3  0.50  0.53 0.27 ( 0 )    6.14 ( 0.57 )  0 ( 0 )      \n",
       "44  1000  500 0.5  0.50  0.65 0.28 ( 0 )    4.16 ( 0.33 )  0 ( 0 )      \n",
       "60  1000  500 0.7  0.50  0.62 0.28 ( 0 )    4.65 ( 0.37 )  0 ( 0 )      \n",
       "76  1000  500 0.9  0.50  0.71 0.27 ( 0 )    3.37 ( 0.27 )  0 ( 0 )      \n",
       "16  1000 1000 0.1  1.00  0.17 0.3 ( 0 )     13.42 ( 1.74 ) 2.77 ( 0.09 )\n",
       "32  1000 1000 0.3  1.00  0.51 0.27 ( 0 )    6.69 ( 0.52 )  0 ( 0 )      \n",
       "48  1000 1000 0.5  1.00  0.53 0.27 ( 0 )    6.36 ( 0.51 )  0 ( 0 )      \n",
       "64  1000 1000 0.7  1.00  0.65 0.28 ( 0 )    4.14 ( 0.35 )  0 ( 0 )      \n",
       "80  1000 1000 0.9  1.00  0.60 0.28 ( 0 )    4.93 ( 0.43 )  0 ( 0 )      \n",
       "    MSE_mean FP_mean FN_mean\n",
       "1   0.36      3.52   4.92   \n",
       "17  0.72      8.70   0.79   \n",
       "33  0.64      9.36   0.12   \n",
       "49  0.57      8.63   0.06   \n",
       "65  0.61      9.61   0.07   \n",
       "5   0.37      4.73   4.79   \n",
       "21  0.82     12.30   1.14   \n",
       "37  0.78     12.00   0.38   \n",
       "53  0.82     11.80   0.17   \n",
       "69  0.87     12.10   0.17   \n",
       "9   0.37     10.50   5.25   \n",
       "25  1.25     20.70   2.63   \n",
       "41  1.64     21.80   1.82   \n",
       "57  2.03     21.50   1.18   \n",
       "73  2.29     23.70   1.18   \n",
       "13  0.39     13.90   5.31   \n",
       "29  1.51     24.00   3.21   \n",
       "45  1.84     24.60   2.56   \n",
       "61  2.51     25.20   2.11   \n",
       "77  2.46     25.30   1.73   \n",
       "2   0.31      2.71   4.40   \n",
       "18  0.40      7.91   0.01   \n",
       "34  0.36      7.39   0.00   \n",
       "50  0.37      6.73   0.00   \n",
       "66  0.37      6.82   0.00   \n",
       "6   0.34      3.00   4.75   \n",
       "22  0.44     10.50   0.09   \n",
       "38  0.42      9.57   0.00   \n",
       "54  0.41      9.70   0.00   \n",
       "70  0.38      8.72   0.00   \n",
       "... ...      ...     ...    \n",
       "11  0.32      3.77   3.69   \n",
       "27  0.29      7.70   0.00   \n",
       "43  0.30      7.82   0.00   \n",
       "59  0.29      6.69   0.00   \n",
       "75  0.29      6.87   0.00   \n",
       "15  0.33      1.83   3.97   \n",
       "31  0.29     11.70   0.00   \n",
       "47  0.29      8.22   0.00   \n",
       "63  0.30      7.81   0.00   \n",
       "79  0.30      7.99   0.00   \n",
       "4   0.28      4.91   1.57   \n",
       "20  0.27      2.45   0.00   \n",
       "36  0.27      2.11   0.00   \n",
       "52  0.27      1.89   0.00   \n",
       "68  0.27      1.76   0.00   \n",
       "8   0.29      7.77   1.44   \n",
       "24  0.27      3.46   0.00   \n",
       "40  0.27      2.58   0.00   \n",
       "56  0.27      2.71   0.00   \n",
       "72  0.27      2.72   0.00   \n",
       "12  0.29     20.60   2.11   \n",
       "28  0.27      6.14   0.00   \n",
       "44  0.28      4.16   0.00   \n",
       "60  0.28      4.65   0.00   \n",
       "76  0.27      3.37   0.00   \n",
       "16  0.30     13.40   2.77   \n",
       "32  0.27      6.69   0.00   \n",
       "48  0.27      6.36   0.00   \n",
       "64  0.28      4.14   0.00   \n",
       "80  0.28      4.93   0.00   "
      ]
     },
     "metadata": {},
     "output_type": "display_data"
    }
   ],
   "source": [
    "result.table_block[with(result.table_block, order(N, P, Corr)),]"
   ]
  },
  {
   "cell_type": "code",
   "execution_count": null,
   "metadata": {},
   "outputs": [],
   "source": []
  },
  {
   "cell_type": "code",
   "execution_count": null,
   "metadata": {},
   "outputs": [],
   "source": []
  }
 ],
 "metadata": {
  "kernelspec": {
   "display_name": "R",
   "language": "R",
   "name": "ir"
  },
  "language_info": {
   "codemirror_mode": "r",
   "file_extension": ".r",
   "mimetype": "text/x-r-source",
   "name": "R",
   "pygments_lexer": "r",
   "version": "3.6.1"
  }
 },
 "nbformat": 4,
 "nbformat_minor": 2
}
