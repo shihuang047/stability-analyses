{
 "cells": [
  {
   "cell_type": "code",
   "execution_count": 1,
   "metadata": {},
   "outputs": [],
   "source": [
    "load('../sim_data/independent_Elnet.RData')"
   ]
  },
  {
   "cell_type": "code",
   "execution_count": 2,
   "metadata": {},
   "outputs": [],
   "source": [
    "dir = '../sim_data'\n",
    "dim.list = list()\n",
    "size = c(50, 100, 500, 1000)\n",
    "idx = 0\n",
    "for (P in size){\n",
    "    for (N in size){\n",
    "        idx = idx + 1\n",
    "        dim.list[[idx]] = c(P=P, N=N)\n",
    "    }\n",
    "}\n",
    "\n",
    "files = NULL\n",
    "for (dim in dim.list){\n",
    "    p = dim[1]\n",
    "    n = dim[2]\n",
    "    files = cbind(files, paste0(dir, '/sim_independent_', paste('P', p, 'N', n, sep='_'), '.RData'))\n",
    "}"
   ]
  },
  {
   "cell_type": "code",
   "execution_count": 4,
   "metadata": {},
   "outputs": [],
   "source": [
    "avg_FDR = NULL\n",
    "for (i in 1:length(files)){\n",
    "    sim_file = files[i]\n",
    "    load(sim_file, dat <- new.env())\n",
    "    sub = dat$sim_array[[i]]\n",
    "    p = sub$p # take true values from 1st replicate of each simulated data\n",
    "    coef = sub$beta\n",
    "    coef.true = which(coef != 0)\n",
    "    \n",
    "    tt = results_ind_elnet[[i]]$Stab.table\n",
    "    \n",
    "    FDR = NULL\n",
    "    for (r in 1:nrow(tt)){\n",
    "        FDR = c(FDR, length(setdiff(which(tt[r, ] !=0), coef.true))/sum(tt[r, ]))\n",
    "\n",
    "    }\n",
    "    \n",
    "    avg_FDR = c(avg_FDR, mean(FDR, na.rm=T))\n",
    "}"
   ]
  },
  {
   "cell_type": "code",
   "execution_count": 5,
   "metadata": {},
   "outputs": [],
   "source": [
    "table_ind = NULL\n",
    "tmp_num_select = rep(0, length(results_ind_elnet))\n",
    "for (i in 1:length(results_ind_elnet)){\n",
    "    table_ind = rbind(table_ind, results_ind_elnet[[i]][c('n', 'p', 'rou', 'FP', 'FN', 'MSE', 'Stab')])\n",
    "    tmp_num_select[i] = mean(rowSums(results_ind_elnet[[i]]$Stab.table))\n",
    "    \n",
    "}\n",
    "table_ind = as.data.frame(table_ind)\n",
    "table_ind$num_select = tmp_num_select\n",
    "table_ind$FDR = round(avg_FDR,2)"
   ]
  },
  {
   "cell_type": "code",
   "execution_count": 6,
   "metadata": {},
   "outputs": [
    {
     "data": {
      "text/html": [
       "<table>\n",
       "<thead><tr><th scope=col>n</th><th scope=col>p</th><th scope=col>rou</th><th scope=col>FP</th><th scope=col>FN</th><th scope=col>MSE</th><th scope=col>Stab</th><th scope=col>num_select</th><th scope=col>FDR</th></tr></thead>\n",
       "<tbody>\n",
       "\t<tr><td>50            </td><td>50            </td><td>0             </td><td>14.99 ( 0.59 )</td><td>0 ( 0 )       </td><td>0.53 ( 0.03 ) </td><td>0.2           </td><td>19.99         </td><td>0.67          </td></tr>\n",
       "\t<tr><td>100           </td><td>50            </td><td>0             </td><td>13.46 ( 0.55 )</td><td>0 ( 0 )       </td><td>0.34 ( 0.01 ) </td><td>0.23          </td><td>18.46         </td><td>0.65          </td></tr>\n",
       "\t<tr><td>500           </td><td>50            </td><td>0             </td><td>13.65 ( 0.56 )</td><td>0 ( 0 )       </td><td>0.26 ( 0 )    </td><td>0.23          </td><td>18.65         </td><td>0.64          </td></tr>\n",
       "\t<tr><td>1000          </td><td>50            </td><td>0             </td><td>11.76 ( 0.53 )</td><td>0 ( 0 )       </td><td>0.25 ( 0 )    </td><td>0.27          </td><td>16.76         </td><td>0.60          </td></tr>\n",
       "\t<tr><td>50            </td><td>100           </td><td>0             </td><td>19.45 ( 0.66 )</td><td>0.04 ( 0.02 ) </td><td>0.74 ( 0.06 ) </td><td>0.19          </td><td>24.41         </td><td>0.74          </td></tr>\n",
       "\t<tr><td>100          </td><td>100          </td><td>0            </td><td>19.2 ( 1.02 )</td><td>0 ( 0 )      </td><td>0.38 ( 0.01 )</td><td>0.2          </td><td>24.20        </td><td>0.71         </td></tr>\n",
       "</tbody>\n",
       "</table>\n"
      ],
      "text/latex": [
       "\\begin{tabular}{r|lllllllll}\n",
       " n & p & rou & FP & FN & MSE & Stab & num\\_select & FDR\\\\\n",
       "\\hline\n",
       "\t 50             & 50             & 0              & 14.99 ( 0.59 ) & 0 ( 0 )        & 0.53 ( 0.03 )  & 0.2            & 19.99          & 0.67          \\\\\n",
       "\t 100            & 50             & 0              & 13.46 ( 0.55 ) & 0 ( 0 )        & 0.34 ( 0.01 )  & 0.23           & 18.46          & 0.65          \\\\\n",
       "\t 500            & 50             & 0              & 13.65 ( 0.56 ) & 0 ( 0 )        & 0.26 ( 0 )     & 0.23           & 18.65          & 0.64          \\\\\n",
       "\t 1000           & 50             & 0              & 11.76 ( 0.53 ) & 0 ( 0 )        & 0.25 ( 0 )     & 0.27           & 16.76          & 0.60          \\\\\n",
       "\t 50             & 100            & 0              & 19.45 ( 0.66 ) & 0.04 ( 0.02 )  & 0.74 ( 0.06 )  & 0.19           & 24.41          & 0.74          \\\\\n",
       "\t 100           & 100           & 0             & 19.2 ( 1.02 ) & 0 ( 0 )       & 0.38 ( 0.01 ) & 0.2           & 24.20         & 0.71         \\\\\n",
       "\\end{tabular}\n"
      ],
      "text/markdown": [
       "\n",
       "| n | p | rou | FP | FN | MSE | Stab | num_select | FDR |\n",
       "|---|---|---|---|---|---|---|---|---|\n",
       "| 50             | 50             | 0              | 14.99 ( 0.59 ) | 0 ( 0 )        | 0.53 ( 0.03 )  | 0.2            | 19.99          | 0.67           |\n",
       "| 100            | 50             | 0              | 13.46 ( 0.55 ) | 0 ( 0 )        | 0.34 ( 0.01 )  | 0.23           | 18.46          | 0.65           |\n",
       "| 500            | 50             | 0              | 13.65 ( 0.56 ) | 0 ( 0 )        | 0.26 ( 0 )     | 0.23           | 18.65          | 0.64           |\n",
       "| 1000           | 50             | 0              | 11.76 ( 0.53 ) | 0 ( 0 )        | 0.25 ( 0 )     | 0.27           | 16.76          | 0.60           |\n",
       "| 50             | 100            | 0              | 19.45 ( 0.66 ) | 0.04 ( 0.02 )  | 0.74 ( 0.06 )  | 0.19           | 24.41          | 0.74           |\n",
       "| 100           | 100           | 0             | 19.2 ( 1.02 ) | 0 ( 0 )       | 0.38 ( 0.01 ) | 0.2           | 24.20         | 0.71          |\n",
       "\n"
      ],
      "text/plain": [
       "  n    p   rou FP             FN            MSE           Stab num_select FDR \n",
       "1 50   50  0   14.99 ( 0.59 ) 0 ( 0 )       0.53 ( 0.03 ) 0.2  19.99      0.67\n",
       "2 100  50  0   13.46 ( 0.55 ) 0 ( 0 )       0.34 ( 0.01 ) 0.23 18.46      0.65\n",
       "3 500  50  0   13.65 ( 0.56 ) 0 ( 0 )       0.26 ( 0 )    0.23 18.65      0.64\n",
       "4 1000 50  0   11.76 ( 0.53 ) 0 ( 0 )       0.25 ( 0 )    0.27 16.76      0.60\n",
       "5 50   100 0   19.45 ( 0.66 ) 0.04 ( 0.02 ) 0.74 ( 0.06 ) 0.19 24.41      0.74\n",
       "6 100  100 0   19.2 ( 1.02 )  0 ( 0 )       0.38 ( 0.01 ) 0.2  24.20      0.71"
      ]
     },
     "metadata": {},
     "output_type": "display_data"
    }
   ],
   "source": [
    "head(table_ind)"
   ]
  },
  {
   "cell_type": "code",
   "execution_count": 7,
   "metadata": {},
   "outputs": [
    {
     "name": "stderr",
     "output_type": "stream",
     "text": [
      "extract_numeric() is deprecated: please use readr::parse_number() instead\n",
      "extract_numeric() is deprecated: please use readr::parse_number() instead\n"
     ]
    }
   ],
   "source": [
    "# export result\n",
    "result.table_ind <- apply(table_ind,2,as.character)\n",
    "rownames(result.table_ind) = rownames(table_ind)\n",
    "result.table_ind = as.data.frame(result.table_ind)\n",
    "\n",
    "# extract numbers only for 'n' & 'p'\n",
    "result.table_ind$n = tidyr::extract_numeric(result.table_ind$n)\n",
    "result.table_ind$p = tidyr::extract_numeric(result.table_ind$p)\n",
    "result.table_ind$ratio = result.table_ind$p / result.table_ind$n\n",
    "\n",
    "result.table_ind = result.table_ind[c('n', 'p', 'ratio', 'Stab', 'MSE', 'FP', 'FN', 'num_select', 'FDR')]\n",
    "colnames(result.table_ind)[1:3] = c('N', 'P', 'Ratio')"
   ]
  },
  {
   "cell_type": "code",
   "execution_count": 8,
   "metadata": {},
   "outputs": [
    {
     "name": "stderr",
     "output_type": "stream",
     "text": [
      "Warning message in eval(expr, envir, enclos):\n",
      "“NAs introduced by coercion”"
     ]
    }
   ],
   "source": [
    "# convert interested measurements to be numeric\n",
    "result.table_ind$Stab = as.numeric(as.character(result.table_ind$Stab))\n",
    "result.table_ind$MSE_mean = as.numeric(substr(result.table_ind$MSE, start=1, stop=4))\n",
    "result.table_ind$FP_mean = as.numeric(substr(result.table_ind$FP, start=1, stop=4))\n",
    "result.table_ind$FN_mean = as.numeric(substr(result.table_ind$FN, start=1, stop=4))\n",
    "result.table_ind$FN_mean[is.na(result.table_ind$FN_mean)] = 0\n",
    "result.table_ind$num_select = as.numeric(as.character(result.table_ind$num_select))"
   ]
  },
  {
   "cell_type": "code",
   "execution_count": 9,
   "metadata": {},
   "outputs": [
    {
     "data": {
      "text/html": [
       "<table>\n",
       "<thead><tr><th scope=col>N</th><th scope=col>P</th><th scope=col>Ratio</th><th scope=col>Stab</th><th scope=col>MSE</th><th scope=col>FP</th><th scope=col>FN</th><th scope=col>num_select</th><th scope=col>FDR</th><th scope=col>MSE_mean</th><th scope=col>FP_mean</th><th scope=col>FN_mean</th></tr></thead>\n",
       "<tbody>\n",
       "\t<tr><td>  50          </td><td>  50          </td><td> 1.00         </td><td>0.20          </td><td>0.53 ( 0.03 ) </td><td>14.99 ( 0.59 )</td><td>0 ( 0 )       </td><td>19.99         </td><td>0.67          </td><td>0.53          </td><td>14.9          </td><td>0.00          </td></tr>\n",
       "\t<tr><td> 100          </td><td>  50          </td><td> 0.50         </td><td>0.23          </td><td>0.34 ( 0.01 ) </td><td>13.46 ( 0.55 )</td><td>0 ( 0 )       </td><td>18.46         </td><td>0.65          </td><td>0.34          </td><td>13.4          </td><td>0.00          </td></tr>\n",
       "\t<tr><td> 500          </td><td>  50          </td><td> 0.10         </td><td>0.23          </td><td>0.26 ( 0 )    </td><td>13.65 ( 0.56 )</td><td>0 ( 0 )       </td><td>18.65         </td><td>0.64          </td><td>0.26          </td><td>13.6          </td><td>0.00          </td></tr>\n",
       "\t<tr><td>1000          </td><td>  50          </td><td> 0.05         </td><td>0.27          </td><td>0.25 ( 0 )    </td><td>11.76 ( 0.53 )</td><td>0 ( 0 )       </td><td>16.76         </td><td>0.6           </td><td>0.25          </td><td>11.7          </td><td>0.00          </td></tr>\n",
       "\t<tr><td>  50          </td><td> 100          </td><td> 2.00         </td><td>0.19          </td><td>0.74 ( 0.06 ) </td><td>19.45 ( 0.66 )</td><td>0.04 ( 0.02 ) </td><td>24.41         </td><td>0.74          </td><td>0.74          </td><td>19.4          </td><td>0.04          </td></tr>\n",
       "\t<tr><td> 100          </td><td> 100          </td><td> 1.00         </td><td>0.20          </td><td>0.38 ( 0.01 ) </td><td>19.2 ( 1.02 ) </td><td>0 ( 0 )       </td><td>24.20         </td><td>0.71          </td><td>0.38          </td><td>19.2          </td><td>0.00          </td></tr>\n",
       "\t<tr><td> 500          </td><td> 100          </td><td> 0.20         </td><td>0.23          </td><td>0.27 ( 0 )    </td><td>16.28 ( 0.78 )</td><td>0 ( 0 )       </td><td>21.28         </td><td>0.67          </td><td>0.27          </td><td>16.2          </td><td>0.00          </td></tr>\n",
       "\t<tr><td>1000          </td><td> 100          </td><td> 0.10         </td><td>0.23          </td><td>0.26 ( 0 )    </td><td>17.05 ( 0.76 )</td><td>0 ( 0 )       </td><td>22.05         </td><td>0.69          </td><td>0.26          </td><td>17.0          </td><td>0.00          </td></tr>\n",
       "\t<tr><td>  50          </td><td> 500          </td><td>10.00         </td><td>0.13          </td><td>1.65 ( 0.13 ) </td><td>30.38 ( 1.24 )</td><td>0.58 ( 0.08 ) </td><td>34.80         </td><td>0.83          </td><td>1.65          </td><td>30.3          </td><td>0.58          </td></tr>\n",
       "\t<tr><td> 100          </td><td> 500          </td><td> 5.00         </td><td>0.15          </td><td>0.5 ( 0.02 )  </td><td>32.18 ( 1.44 )</td><td>0 ( 0 )       </td><td>37.18         </td><td>0.81          </td><td>0.50          </td><td>32.1          </td><td>0.00          </td></tr>\n",
       "\t<tr><td> 500          </td><td> 500          </td><td> 1.00         </td><td>0.16          </td><td>0.28 ( 0 )    </td><td>29.79 ( 1.73 )</td><td>0 ( 0 )       </td><td>34.79         </td><td>0.78          </td><td>0.28          </td><td>29.7          </td><td>0.00          </td></tr>\n",
       "\t<tr><td>1000          </td><td> 500          </td><td> 0.50         </td><td>0.18          </td><td>0.26 ( 0 )    </td><td>27.21 ( 1.58 )</td><td>0 ( 0 )       </td><td>32.21         </td><td>0.77          </td><td>0.26          </td><td>27.2          </td><td>0.00          </td></tr>\n",
       "\t<tr><td>  50          </td><td>1000          </td><td>20.00         </td><td>0.10          </td><td>2.5 ( 0.22 )  </td><td>36.6 ( 2.03 ) </td><td>1.12 ( 0.09 ) </td><td>40.48         </td><td>0.86          </td><td>2.50          </td><td>36.6          </td><td>1.12          </td></tr>\n",
       "\t<tr><td> 100          </td><td>1000          </td><td>10.00         </td><td>0.13          </td><td>0.56 ( 0.02 ) </td><td>40.61 ( 1.71 )</td><td>0 ( 0 )       </td><td>45.61         </td><td>0.85          </td><td>0.56          </td><td>40.6          </td><td>0.00          </td></tr>\n",
       "\t<tr><td> 500          </td><td>1000          </td><td> 2.00         </td><td>0.14          </td><td>0.27 ( 0 )    </td><td>35.98 ( 2.2 ) </td><td>0 ( 0 )       </td><td>40.98         </td><td>0.8           </td><td>0.27          </td><td>35.9          </td><td>0.00          </td></tr>\n",
       "\t<tr><td>1000          </td><td>1000          </td><td> 1.00         </td><td>0.15          </td><td>0.27 ( 0 )    </td><td>34.65 ( 2.02 )</td><td>0 ( 0 )       </td><td>39.65         </td><td>0.79          </td><td>0.27          </td><td>34.6          </td><td>0.00          </td></tr>\n",
       "</tbody>\n",
       "</table>\n"
      ],
      "text/latex": [
       "\\begin{tabular}{r|llllllllllll}\n",
       " N & P & Ratio & Stab & MSE & FP & FN & num\\_select & FDR & MSE\\_mean & FP\\_mean & FN\\_mean\\\\\n",
       "\\hline\n",
       "\t   50           &   50           &  1.00          & 0.20           & 0.53 ( 0.03 )  & 14.99 ( 0.59 ) & 0 ( 0 )        & 19.99          & 0.67           & 0.53           & 14.9           & 0.00          \\\\\n",
       "\t  100           &   50           &  0.50          & 0.23           & 0.34 ( 0.01 )  & 13.46 ( 0.55 ) & 0 ( 0 )        & 18.46          & 0.65           & 0.34           & 13.4           & 0.00          \\\\\n",
       "\t  500           &   50           &  0.10          & 0.23           & 0.26 ( 0 )     & 13.65 ( 0.56 ) & 0 ( 0 )        & 18.65          & 0.64           & 0.26           & 13.6           & 0.00          \\\\\n",
       "\t 1000           &   50           &  0.05          & 0.27           & 0.25 ( 0 )     & 11.76 ( 0.53 ) & 0 ( 0 )        & 16.76          & 0.6            & 0.25           & 11.7           & 0.00          \\\\\n",
       "\t   50           &  100           &  2.00          & 0.19           & 0.74 ( 0.06 )  & 19.45 ( 0.66 ) & 0.04 ( 0.02 )  & 24.41          & 0.74           & 0.74           & 19.4           & 0.04          \\\\\n",
       "\t  100           &  100           &  1.00          & 0.20           & 0.38 ( 0.01 )  & 19.2 ( 1.02 )  & 0 ( 0 )        & 24.20          & 0.71           & 0.38           & 19.2           & 0.00          \\\\\n",
       "\t  500           &  100           &  0.20          & 0.23           & 0.27 ( 0 )     & 16.28 ( 0.78 ) & 0 ( 0 )        & 21.28          & 0.67           & 0.27           & 16.2           & 0.00          \\\\\n",
       "\t 1000           &  100           &  0.10          & 0.23           & 0.26 ( 0 )     & 17.05 ( 0.76 ) & 0 ( 0 )        & 22.05          & 0.69           & 0.26           & 17.0           & 0.00          \\\\\n",
       "\t   50           &  500           & 10.00          & 0.13           & 1.65 ( 0.13 )  & 30.38 ( 1.24 ) & 0.58 ( 0.08 )  & 34.80          & 0.83           & 1.65           & 30.3           & 0.58          \\\\\n",
       "\t  100           &  500           &  5.00          & 0.15           & 0.5 ( 0.02 )   & 32.18 ( 1.44 ) & 0 ( 0 )        & 37.18          & 0.81           & 0.50           & 32.1           & 0.00          \\\\\n",
       "\t  500           &  500           &  1.00          & 0.16           & 0.28 ( 0 )     & 29.79 ( 1.73 ) & 0 ( 0 )        & 34.79          & 0.78           & 0.28           & 29.7           & 0.00          \\\\\n",
       "\t 1000           &  500           &  0.50          & 0.18           & 0.26 ( 0 )     & 27.21 ( 1.58 ) & 0 ( 0 )        & 32.21          & 0.77           & 0.26           & 27.2           & 0.00          \\\\\n",
       "\t   50           & 1000           & 20.00          & 0.10           & 2.5 ( 0.22 )   & 36.6 ( 2.03 )  & 1.12 ( 0.09 )  & 40.48          & 0.86           & 2.50           & 36.6           & 1.12          \\\\\n",
       "\t  100           & 1000           & 10.00          & 0.13           & 0.56 ( 0.02 )  & 40.61 ( 1.71 ) & 0 ( 0 )        & 45.61          & 0.85           & 0.56           & 40.6           & 0.00          \\\\\n",
       "\t  500           & 1000           &  2.00          & 0.14           & 0.27 ( 0 )     & 35.98 ( 2.2 )  & 0 ( 0 )        & 40.98          & 0.8            & 0.27           & 35.9           & 0.00          \\\\\n",
       "\t 1000           & 1000           &  1.00          & 0.15           & 0.27 ( 0 )     & 34.65 ( 2.02 ) & 0 ( 0 )        & 39.65          & 0.79           & 0.27           & 34.6           & 0.00          \\\\\n",
       "\\end{tabular}\n"
      ],
      "text/markdown": [
       "\n",
       "| N | P | Ratio | Stab | MSE | FP | FN | num_select | FDR | MSE_mean | FP_mean | FN_mean |\n",
       "|---|---|---|---|---|---|---|---|---|---|---|---|\n",
       "|   50           |   50           |  1.00          | 0.20           | 0.53 ( 0.03 )  | 14.99 ( 0.59 ) | 0 ( 0 )        | 19.99          | 0.67           | 0.53           | 14.9           | 0.00           |\n",
       "|  100           |   50           |  0.50          | 0.23           | 0.34 ( 0.01 )  | 13.46 ( 0.55 ) | 0 ( 0 )        | 18.46          | 0.65           | 0.34           | 13.4           | 0.00           |\n",
       "|  500           |   50           |  0.10          | 0.23           | 0.26 ( 0 )     | 13.65 ( 0.56 ) | 0 ( 0 )        | 18.65          | 0.64           | 0.26           | 13.6           | 0.00           |\n",
       "| 1000           |   50           |  0.05          | 0.27           | 0.25 ( 0 )     | 11.76 ( 0.53 ) | 0 ( 0 )        | 16.76          | 0.6            | 0.25           | 11.7           | 0.00           |\n",
       "|   50           |  100           |  2.00          | 0.19           | 0.74 ( 0.06 )  | 19.45 ( 0.66 ) | 0.04 ( 0.02 )  | 24.41          | 0.74           | 0.74           | 19.4           | 0.04           |\n",
       "|  100           |  100           |  1.00          | 0.20           | 0.38 ( 0.01 )  | 19.2 ( 1.02 )  | 0 ( 0 )        | 24.20          | 0.71           | 0.38           | 19.2           | 0.00           |\n",
       "|  500           |  100           |  0.20          | 0.23           | 0.27 ( 0 )     | 16.28 ( 0.78 ) | 0 ( 0 )        | 21.28          | 0.67           | 0.27           | 16.2           | 0.00           |\n",
       "| 1000           |  100           |  0.10          | 0.23           | 0.26 ( 0 )     | 17.05 ( 0.76 ) | 0 ( 0 )        | 22.05          | 0.69           | 0.26           | 17.0           | 0.00           |\n",
       "|   50           |  500           | 10.00          | 0.13           | 1.65 ( 0.13 )  | 30.38 ( 1.24 ) | 0.58 ( 0.08 )  | 34.80          | 0.83           | 1.65           | 30.3           | 0.58           |\n",
       "|  100           |  500           |  5.00          | 0.15           | 0.5 ( 0.02 )   | 32.18 ( 1.44 ) | 0 ( 0 )        | 37.18          | 0.81           | 0.50           | 32.1           | 0.00           |\n",
       "|  500           |  500           |  1.00          | 0.16           | 0.28 ( 0 )     | 29.79 ( 1.73 ) | 0 ( 0 )        | 34.79          | 0.78           | 0.28           | 29.7           | 0.00           |\n",
       "| 1000           |  500           |  0.50          | 0.18           | 0.26 ( 0 )     | 27.21 ( 1.58 ) | 0 ( 0 )        | 32.21          | 0.77           | 0.26           | 27.2           | 0.00           |\n",
       "|   50           | 1000           | 20.00          | 0.10           | 2.5 ( 0.22 )   | 36.6 ( 2.03 )  | 1.12 ( 0.09 )  | 40.48          | 0.86           | 2.50           | 36.6           | 1.12           |\n",
       "|  100           | 1000           | 10.00          | 0.13           | 0.56 ( 0.02 )  | 40.61 ( 1.71 ) | 0 ( 0 )        | 45.61          | 0.85           | 0.56           | 40.6           | 0.00           |\n",
       "|  500           | 1000           |  2.00          | 0.14           | 0.27 ( 0 )     | 35.98 ( 2.2 )  | 0 ( 0 )        | 40.98          | 0.8            | 0.27           | 35.9           | 0.00           |\n",
       "| 1000           | 1000           |  1.00          | 0.15           | 0.27 ( 0 )     | 34.65 ( 2.02 ) | 0 ( 0 )        | 39.65          | 0.79           | 0.27           | 34.6           | 0.00           |\n",
       "\n"
      ],
      "text/plain": [
       "   N    P    Ratio Stab MSE           FP             FN            num_select\n",
       "1    50   50  1.00 0.20 0.53 ( 0.03 ) 14.99 ( 0.59 ) 0 ( 0 )       19.99     \n",
       "2   100   50  0.50 0.23 0.34 ( 0.01 ) 13.46 ( 0.55 ) 0 ( 0 )       18.46     \n",
       "3   500   50  0.10 0.23 0.26 ( 0 )    13.65 ( 0.56 ) 0 ( 0 )       18.65     \n",
       "4  1000   50  0.05 0.27 0.25 ( 0 )    11.76 ( 0.53 ) 0 ( 0 )       16.76     \n",
       "5    50  100  2.00 0.19 0.74 ( 0.06 ) 19.45 ( 0.66 ) 0.04 ( 0.02 ) 24.41     \n",
       "6   100  100  1.00 0.20 0.38 ( 0.01 ) 19.2 ( 1.02 )  0 ( 0 )       24.20     \n",
       "7   500  100  0.20 0.23 0.27 ( 0 )    16.28 ( 0.78 ) 0 ( 0 )       21.28     \n",
       "8  1000  100  0.10 0.23 0.26 ( 0 )    17.05 ( 0.76 ) 0 ( 0 )       22.05     \n",
       "9    50  500 10.00 0.13 1.65 ( 0.13 ) 30.38 ( 1.24 ) 0.58 ( 0.08 ) 34.80     \n",
       "10  100  500  5.00 0.15 0.5 ( 0.02 )  32.18 ( 1.44 ) 0 ( 0 )       37.18     \n",
       "11  500  500  1.00 0.16 0.28 ( 0 )    29.79 ( 1.73 ) 0 ( 0 )       34.79     \n",
       "12 1000  500  0.50 0.18 0.26 ( 0 )    27.21 ( 1.58 ) 0 ( 0 )       32.21     \n",
       "13   50 1000 20.00 0.10 2.5 ( 0.22 )  36.6 ( 2.03 )  1.12 ( 0.09 ) 40.48     \n",
       "14  100 1000 10.00 0.13 0.56 ( 0.02 ) 40.61 ( 1.71 ) 0 ( 0 )       45.61     \n",
       "15  500 1000  2.00 0.14 0.27 ( 0 )    35.98 ( 2.2 )  0 ( 0 )       40.98     \n",
       "16 1000 1000  1.00 0.15 0.27 ( 0 )    34.65 ( 2.02 ) 0 ( 0 )       39.65     \n",
       "   FDR  MSE_mean FP_mean FN_mean\n",
       "1  0.67 0.53     14.9    0.00   \n",
       "2  0.65 0.34     13.4    0.00   \n",
       "3  0.64 0.26     13.6    0.00   \n",
       "4  0.6  0.25     11.7    0.00   \n",
       "5  0.74 0.74     19.4    0.04   \n",
       "6  0.71 0.38     19.2    0.00   \n",
       "7  0.67 0.27     16.2    0.00   \n",
       "8  0.69 0.26     17.0    0.00   \n",
       "9  0.83 1.65     30.3    0.58   \n",
       "10 0.81 0.50     32.1    0.00   \n",
       "11 0.78 0.28     29.7    0.00   \n",
       "12 0.77 0.26     27.2    0.00   \n",
       "13 0.86 2.50     36.6    1.12   \n",
       "14 0.85 0.56     40.6    0.00   \n",
       "15 0.8  0.27     35.9    0.00   \n",
       "16 0.79 0.27     34.6    0.00   "
      ]
     },
     "metadata": {},
     "output_type": "display_data"
    }
   ],
   "source": [
    "result.table_ind\n",
    "\n",
    "## export\n",
    "write.table(result.table_ind, '../results_summary/sim_ind_elnet.txt', sep='\\t', row.names=F)"
   ]
  },
  {
   "cell_type": "code",
   "execution_count": 6,
   "metadata": {},
   "outputs": [
    {
     "name": "stderr",
     "output_type": "stream",
     "text": [
      "Registered S3 methods overwritten by 'ggplot2':\n",
      "  method         from \n",
      "  [.quosures     rlang\n",
      "  c.quosures     rlang\n",
      "  print.quosures rlang\n"
     ]
    },
    {
     "data": {
      "text/html": [
       "<strong>pdf:</strong> 2"
      ],
      "text/latex": [
       "\\textbf{pdf:} 2"
      ],
      "text/markdown": [
       "**pdf:** 2"
      ],
      "text/plain": [
       "pdf \n",
       "  2 "
      ]
     },
     "metadata": {},
     "output_type": "display_data"
    }
   ],
   "source": [
    "library(ggplot2)\n",
    "library(gridExtra)\n",
    "pdf('../figures_sim/figure_independent_elnet.pdf', height=5, width=7)\n",
    "result.table_ind$N = as.factor(result.table_ind$N)\n",
    "fig_ind_stab = ggplot(result.table_ind, aes(x=P, y=Stab, color=N)) + geom_point() + ylab('Stability')\n",
    "fig_ind_mse = ggplot(result.table_ind, aes(x=P, y=MSE_mean, color=N)) + geom_point() + ylab('MSE')\n",
    "fig_ind_fp = ggplot(result.table_ind, aes(x=P, y=FP_mean, color=N)) + geom_point() + ylab('False Positives')\n",
    "fig_ind_fn = ggplot(result.table_ind, aes(x=P, y=FN_mean, color=N)) + geom_point() + ylab('False Negatives')\n",
    "grid.arrange(fig_ind_stab, fig_ind_mse, fig_ind_fp, fig_ind_fn, ncol=2, top='Independent_ElasticNet')\n",
    "dev.off()"
   ]
  },
  {
   "cell_type": "code",
   "execution_count": null,
   "metadata": {},
   "outputs": [],
   "source": []
  },
  {
   "cell_type": "code",
   "execution_count": null,
   "metadata": {},
   "outputs": [],
   "source": []
  }
 ],
 "metadata": {
  "kernelspec": {
   "display_name": "R",
   "language": "R",
   "name": "ir"
  },
  "language_info": {
   "codemirror_mode": "r",
   "file_extension": ".r",
   "mimetype": "text/x-r-source",
   "name": "R",
   "pygments_lexer": "r",
   "version": "3.6.1"
  }
 },
 "nbformat": 4,
 "nbformat_minor": 2
}
