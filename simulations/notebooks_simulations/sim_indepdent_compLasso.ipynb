{
 "cells": [
  {
   "cell_type": "code",
   "execution_count": 1,
   "metadata": {},
   "outputs": [],
   "source": [
    "load('../sim_data/independent_compLasso.RData')"
   ]
  },
  {
   "cell_type": "code",
   "execution_count": 2,
   "metadata": {},
   "outputs": [],
   "source": [
    "dir = '../sim_data'\n",
    "dim.list = list()\n",
    "size = c(50, 100, 500, 1000)\n",
    "idx = 0\n",
    "for (P in size){\n",
    "    for (N in size){\n",
    "        idx = idx + 1\n",
    "        dim.list[[idx]] = c(P=P, N=N)\n",
    "    }\n",
    "}\n",
    "\n",
    "files = NULL\n",
    "for (dim in dim.list){\n",
    "    p = dim[1]\n",
    "    n = dim[2]\n",
    "    files = cbind(files, paste0(dir, '/sim_independent_', paste('P', p, 'N', n, sep='_'), '.RData'))\n",
    "}"
   ]
  },
  {
   "cell_type": "code",
   "execution_count": 3,
   "metadata": {},
   "outputs": [],
   "source": [
    "avg_FDR = NULL\n",
    "for (i in 1:length(files)){\n",
    "    sim_file = files[i]\n",
    "    load(sim_file, dat <- new.env())\n",
    "    sub = dat$sim_array[[i]]\n",
    "    p = sub$p # take true values from 1st replicate of each simulated data\n",
    "    coef = sub$beta\n",
    "    coef.true = which(coef != 0)\n",
    "    \n",
    "    tt = results_ind_compLasso[[i]]$Stab.table\n",
    "    \n",
    "    FDR = NULL\n",
    "    for (r in 1:nrow(tt)){\n",
    "        FDR = c(FDR, length(setdiff(which(tt[r, ] !=0), coef.true))/sum(tt[r, ]))\n",
    "\n",
    "    }\n",
    "    \n",
    "    avg_FDR = c(avg_FDR, mean(FDR, na.rm=T))\n",
    "}"
   ]
  },
  {
   "cell_type": "code",
   "execution_count": 4,
   "metadata": {},
   "outputs": [],
   "source": [
    "table_ind = NULL\n",
    "tmp_num_select = rep(0, length(results_ind_compLasso))\n",
    "for (i in 1:length(results_ind_compLasso)){\n",
    "    table_ind = rbind(table_ind, results_ind_compLasso[[i]][c('n', 'p', 'rou', 'FP', 'FN', 'MSE', 'Stab')])\n",
    "    tmp_num_select[i] = mean(rowSums(results_ind_compLasso[[i]]$Stab.table))\n",
    "    \n",
    "}\n",
    "table_ind = as.data.frame(table_ind)\n",
    "table_ind$num_select = tmp_num_select\n",
    "table_ind$FDR = round(avg_FDR,2)"
   ]
  },
  {
   "cell_type": "code",
   "execution_count": 5,
   "metadata": {},
   "outputs": [
    {
     "data": {
      "text/html": [
       "<table>\n",
       "<thead><tr><th scope=col>n</th><th scope=col>p</th><th scope=col>rou</th><th scope=col>FP</th><th scope=col>FN</th><th scope=col>MSE</th><th scope=col>Stab</th><th scope=col>num_select</th><th scope=col>FDR</th></tr></thead>\n",
       "<tbody>\n",
       "\t<tr><td>50           </td><td>50           </td><td>0            </td><td>2.99 ( 0.27 )</td><td>0.05 ( 0.02 )</td><td>0.8 ( 0.05 ) </td><td>0.61         </td><td> 8.94        </td><td>0.28         </td></tr>\n",
       "\t<tr><td>100          </td><td>50           </td><td>0            </td><td>0.79 ( 0.15 )</td><td>0 ( 0 )      </td><td>0.98 ( 0.06 )</td><td>0.87         </td><td> 6.79        </td><td>0.09         </td></tr>\n",
       "\t<tr><td>500          </td><td>50           </td><td>0            </td><td>0.51 ( 0.11 )</td><td>0 ( 0 )      </td><td>1.08 ( 0.05 )</td><td>0.91         </td><td> 6.51        </td><td>0.06         </td></tr>\n",
       "\t<tr><td>1000         </td><td>50           </td><td>0            </td><td>0.39 ( 0.15 )</td><td>0 ( 0 )      </td><td>1.18 ( 0.04 )</td><td>0.93         </td><td> 6.39        </td><td>0.04         </td></tr>\n",
       "\t<tr><td>50           </td><td>100          </td><td>0            </td><td>4.3 ( 0.31 ) </td><td>0.24 ( 0.05 )</td><td>1.05 ( 0.07 )</td><td>0.52         </td><td>10.06        </td><td>0.37         </td></tr>\n",
       "\t<tr><td>100          </td><td>100          </td><td>0            </td><td>1.02 ( 0.19 )</td><td>0 ( 0 )      </td><td>0.94 ( 0.04 )</td><td>0.85         </td><td> 7.02        </td><td>0.11         </td></tr>\n",
       "</tbody>\n",
       "</table>\n"
      ],
      "text/latex": [
       "\\begin{tabular}{r|lllllllll}\n",
       " n & p & rou & FP & FN & MSE & Stab & num\\_select & FDR\\\\\n",
       "\\hline\n",
       "\t 50            & 50            & 0             & 2.99 ( 0.27 ) & 0.05 ( 0.02 ) & 0.8 ( 0.05 )  & 0.61          &  8.94         & 0.28         \\\\\n",
       "\t 100           & 50            & 0             & 0.79 ( 0.15 ) & 0 ( 0 )       & 0.98 ( 0.06 ) & 0.87          &  6.79         & 0.09         \\\\\n",
       "\t 500           & 50            & 0             & 0.51 ( 0.11 ) & 0 ( 0 )       & 1.08 ( 0.05 ) & 0.91          &  6.51         & 0.06         \\\\\n",
       "\t 1000          & 50            & 0             & 0.39 ( 0.15 ) & 0 ( 0 )       & 1.18 ( 0.04 ) & 0.93          &  6.39         & 0.04         \\\\\n",
       "\t 50            & 100           & 0             & 4.3 ( 0.31 )  & 0.24 ( 0.05 ) & 1.05 ( 0.07 ) & 0.52          & 10.06         & 0.37         \\\\\n",
       "\t 100           & 100           & 0             & 1.02 ( 0.19 ) & 0 ( 0 )       & 0.94 ( 0.04 ) & 0.85          &  7.02         & 0.11         \\\\\n",
       "\\end{tabular}\n"
      ],
      "text/markdown": [
       "\n",
       "| n | p | rou | FP | FN | MSE | Stab | num_select | FDR |\n",
       "|---|---|---|---|---|---|---|---|---|\n",
       "| 50            | 50            | 0             | 2.99 ( 0.27 ) | 0.05 ( 0.02 ) | 0.8 ( 0.05 )  | 0.61          |  8.94         | 0.28          |\n",
       "| 100           | 50            | 0             | 0.79 ( 0.15 ) | 0 ( 0 )       | 0.98 ( 0.06 ) | 0.87          |  6.79         | 0.09          |\n",
       "| 500           | 50            | 0             | 0.51 ( 0.11 ) | 0 ( 0 )       | 1.08 ( 0.05 ) | 0.91          |  6.51         | 0.06          |\n",
       "| 1000          | 50            | 0             | 0.39 ( 0.15 ) | 0 ( 0 )       | 1.18 ( 0.04 ) | 0.93          |  6.39         | 0.04          |\n",
       "| 50            | 100           | 0             | 4.3 ( 0.31 )  | 0.24 ( 0.05 ) | 1.05 ( 0.07 ) | 0.52          | 10.06         | 0.37          |\n",
       "| 100           | 100           | 0             | 1.02 ( 0.19 ) | 0 ( 0 )       | 0.94 ( 0.04 ) | 0.85          |  7.02         | 0.11          |\n",
       "\n"
      ],
      "text/plain": [
       "  n    p   rou FP            FN            MSE           Stab num_select FDR \n",
       "1 50   50  0   2.99 ( 0.27 ) 0.05 ( 0.02 ) 0.8 ( 0.05 )  0.61  8.94      0.28\n",
       "2 100  50  0   0.79 ( 0.15 ) 0 ( 0 )       0.98 ( 0.06 ) 0.87  6.79      0.09\n",
       "3 500  50  0   0.51 ( 0.11 ) 0 ( 0 )       1.08 ( 0.05 ) 0.91  6.51      0.06\n",
       "4 1000 50  0   0.39 ( 0.15 ) 0 ( 0 )       1.18 ( 0.04 ) 0.93  6.39      0.04\n",
       "5 50   100 0   4.3 ( 0.31 )  0.24 ( 0.05 ) 1.05 ( 0.07 ) 0.52 10.06      0.37\n",
       "6 100  100 0   1.02 ( 0.19 ) 0 ( 0 )       0.94 ( 0.04 ) 0.85  7.02      0.11"
      ]
     },
     "metadata": {},
     "output_type": "display_data"
    }
   ],
   "source": [
    "head(table_ind)"
   ]
  },
  {
   "cell_type": "code",
   "execution_count": 6,
   "metadata": {},
   "outputs": [
    {
     "name": "stderr",
     "output_type": "stream",
     "text": [
      "extract_numeric() is deprecated: please use readr::parse_number() instead\n",
      "extract_numeric() is deprecated: please use readr::parse_number() instead\n"
     ]
    }
   ],
   "source": [
    "# export result\n",
    "result.table_ind <- apply(table_ind,2,as.character)\n",
    "rownames(result.table_ind) = rownames(table_ind)\n",
    "result.table_ind = as.data.frame(result.table_ind)\n",
    "\n",
    "# extract numbers only for 'n' & 'p'\n",
    "result.table_ind$n = tidyr::extract_numeric(result.table_ind$n)\n",
    "result.table_ind$p = tidyr::extract_numeric(result.table_ind$p)\n",
    "result.table_ind$ratio = result.table_ind$p / result.table_ind$n\n",
    "\n",
    "result.table_ind = result.table_ind[c('n', 'p', 'ratio', 'Stab', 'MSE', 'FP', 'FN', 'num_select', 'FDR')]\n",
    "colnames(result.table_ind)[1:3] = c('N', 'P', 'Ratio')"
   ]
  },
  {
   "cell_type": "code",
   "execution_count": 7,
   "metadata": {},
   "outputs": [
    {
     "name": "stderr",
     "output_type": "stream",
     "text": [
      "Warning message in eval(expr, envir, enclos):\n",
      "“NAs introduced by coercion”Warning message in eval(expr, envir, enclos):\n",
      "“NAs introduced by coercion”"
     ]
    }
   ],
   "source": [
    "# convert interested measurements to be numeric\n",
    "result.table_ind$Stab = as.numeric(as.character(result.table_ind$Stab))\n",
    "result.table_ind$MSE_mean = as.numeric(substr(result.table_ind$MSE, start=1, stop=4))\n",
    "result.table_ind$FP_mean = as.numeric(substr(result.table_ind$FP, start=1, stop=4))\n",
    "result.table_ind$FN_mean = as.numeric(substr(result.table_ind$FN, start=1, stop=4))\n",
    "result.table_ind$FN_mean[is.na(result.table_ind$FN_mean)] = 0\n",
    "result.table_ind$num_select = as.numeric(as.character(result.table_ind$num_select))"
   ]
  },
  {
   "cell_type": "code",
   "execution_count": 8,
   "metadata": {},
   "outputs": [
    {
     "data": {
      "text/html": [
       "<table>\n",
       "<thead><tr><th scope=col>N</th><th scope=col>P</th><th scope=col>Ratio</th><th scope=col>Stab</th><th scope=col>MSE</th><th scope=col>FP</th><th scope=col>FN</th><th scope=col>num_select</th><th scope=col>FDR</th><th scope=col>MSE_mean</th><th scope=col>FP_mean</th><th scope=col>FN_mean</th></tr></thead>\n",
       "<tbody>\n",
       "\t<tr><td>  50         </td><td>  50         </td><td> 1.00        </td><td>0.61         </td><td>0.8 ( 0.05 ) </td><td>2.99 ( 0.27 )</td><td>0.05 ( 0.02 )</td><td> 8.94        </td><td>0.28         </td><td>0.80         </td><td>2.99         </td><td>0.05         </td></tr>\n",
       "\t<tr><td> 100         </td><td>  50         </td><td> 0.50        </td><td>0.87         </td><td>0.98 ( 0.06 )</td><td>0.79 ( 0.15 )</td><td>0 ( 0 )      </td><td> 6.79        </td><td>0.09         </td><td>0.98         </td><td>0.79         </td><td>0.00         </td></tr>\n",
       "\t<tr><td> 500         </td><td>  50         </td><td> 0.10        </td><td>0.91         </td><td>1.08 ( 0.05 )</td><td>0.51 ( 0.11 )</td><td>0 ( 0 )      </td><td> 6.51        </td><td>0.06         </td><td>1.08         </td><td>0.51         </td><td>0.00         </td></tr>\n",
       "\t<tr><td>1000         </td><td>  50         </td><td> 0.05        </td><td>0.93         </td><td>1.18 ( 0.04 )</td><td>0.39 ( 0.15 )</td><td>0 ( 0 )      </td><td> 6.39        </td><td>0.04         </td><td>1.18         </td><td>0.39         </td><td>0.00         </td></tr>\n",
       "\t<tr><td>  50         </td><td> 100         </td><td> 2.00        </td><td>0.52         </td><td>1.05 ( 0.07 )</td><td>4.3 ( 0.31 ) </td><td>0.24 ( 0.05 )</td><td>10.06        </td><td>0.37         </td><td>1.05         </td><td>4.30         </td><td>0.24         </td></tr>\n",
       "\t<tr><td> 100         </td><td> 100         </td><td> 1.00        </td><td>0.85         </td><td>0.94 ( 0.04 )</td><td>1.02 ( 0.19 )</td><td>0 ( 0 )      </td><td> 7.02        </td><td>0.11         </td><td>0.94         </td><td>1.02         </td><td>0.00         </td></tr>\n",
       "\t<tr><td> 500         </td><td> 100         </td><td> 0.20        </td><td>0.96         </td><td>1.16 ( 0.04 )</td><td>0.25 ( 0.09 )</td><td>0 ( 0 )      </td><td> 6.25        </td><td>0.03         </td><td>1.16         </td><td>0.25         </td><td>0.00         </td></tr>\n",
       "\t<tr><td>1000         </td><td> 100         </td><td> 0.10        </td><td>0.89         </td><td>1.04 ( 0.05 )</td><td>0.71 ( 0.15 )</td><td>0 ( 0 )      </td><td> 6.71        </td><td>0.08         </td><td>1.04         </td><td>0.71         </td><td>0.00         </td></tr>\n",
       "\t<tr><td>  50         </td><td> 500         </td><td>10.00        </td><td>0.38         </td><td>2.18 ( 0.13 )</td><td>5.53 ( 0.36 )</td><td>1.27 ( 0.11 )</td><td>10.26        </td><td>0.48         </td><td>2.18         </td><td>5.53         </td><td>1.27         </td></tr>\n",
       "\t<tr><td> 100         </td><td> 500         </td><td> 5.00        </td><td>0.75         </td><td>1 ( 0.05 )   </td><td>1.9 ( 0.29 ) </td><td>0.03 ( 0.02 )</td><td> 7.87        </td><td>0.18         </td><td>1.00         </td><td>1.90         </td><td>0.03         </td></tr>\n",
       "\t<tr><td> 500         </td><td> 500         </td><td> 1.00        </td><td>0.96         </td><td>1.18 ( 0.04 )</td><td>0.27 ( 0.13 )</td><td>0 ( 0 )      </td><td> 6.27        </td><td>0.03         </td><td>1.18         </td><td>0.27         </td><td>0.00         </td></tr>\n",
       "\t<tr><td>1000         </td><td> 500         </td><td> 0.50        </td><td>0.96         </td><td>1.24 ( 0.04 )</td><td>0.25 ( 0.1 ) </td><td>0 ( 0 )      </td><td> 6.25        </td><td>0.03         </td><td>1.24         </td><td>0.25         </td><td>0.00         </td></tr>\n",
       "\t<tr><td>  50         </td><td>1000         </td><td>20.00        </td><td>0.32         </td><td>3.09 ( 0.23 )</td><td>5.56 ( 0.36 )</td><td>1.95 ( 0.14 )</td><td> 9.61        </td><td>0.51         </td><td>3.09         </td><td>5.56         </td><td>1.95         </td></tr>\n",
       "\t<tr><td> 100         </td><td>1000         </td><td>10.00        </td><td>0.67         </td><td>1.1 ( 0.07 ) </td><td>2.8 ( 0.37 ) </td><td>0.04 ( 0.02 )</td><td> 8.76        </td><td>0.24         </td><td>1.10         </td><td>2.80         </td><td>0.04         </td></tr>\n",
       "\t<tr><td> 500         </td><td>1000         </td><td> 2.00        </td><td>0.96         </td><td>1.12 ( 0.04 )</td><td>0.27 ( 0.08 )</td><td>0 ( 0 )      </td><td> 6.27        </td><td>0.03         </td><td>1.12         </td><td>0.27         </td><td>0.00         </td></tr>\n",
       "\t<tr><td>1000         </td><td>1000         </td><td> 1.00        </td><td>0.96         </td><td>1.16 ( 0.04 )</td><td>0.24 ( 0.07 )</td><td>0 ( 0 )      </td><td> 6.24        </td><td>0.03         </td><td>1.16         </td><td>0.24         </td><td>0.00         </td></tr>\n",
       "</tbody>\n",
       "</table>\n"
      ],
      "text/latex": [
       "\\begin{tabular}{r|llllllllllll}\n",
       " N & P & Ratio & Stab & MSE & FP & FN & num\\_select & FDR & MSE\\_mean & FP\\_mean & FN\\_mean\\\\\n",
       "\\hline\n",
       "\t   50          &   50          &  1.00         & 0.61          & 0.8 ( 0.05 )  & 2.99 ( 0.27 ) & 0.05 ( 0.02 ) &  8.94         & 0.28          & 0.80          & 2.99          & 0.05         \\\\\n",
       "\t  100          &   50          &  0.50         & 0.87          & 0.98 ( 0.06 ) & 0.79 ( 0.15 ) & 0 ( 0 )       &  6.79         & 0.09          & 0.98          & 0.79          & 0.00         \\\\\n",
       "\t  500          &   50          &  0.10         & 0.91          & 1.08 ( 0.05 ) & 0.51 ( 0.11 ) & 0 ( 0 )       &  6.51         & 0.06          & 1.08          & 0.51          & 0.00         \\\\\n",
       "\t 1000          &   50          &  0.05         & 0.93          & 1.18 ( 0.04 ) & 0.39 ( 0.15 ) & 0 ( 0 )       &  6.39         & 0.04          & 1.18          & 0.39          & 0.00         \\\\\n",
       "\t   50          &  100          &  2.00         & 0.52          & 1.05 ( 0.07 ) & 4.3 ( 0.31 )  & 0.24 ( 0.05 ) & 10.06         & 0.37          & 1.05          & 4.30          & 0.24         \\\\\n",
       "\t  100          &  100          &  1.00         & 0.85          & 0.94 ( 0.04 ) & 1.02 ( 0.19 ) & 0 ( 0 )       &  7.02         & 0.11          & 0.94          & 1.02          & 0.00         \\\\\n",
       "\t  500          &  100          &  0.20         & 0.96          & 1.16 ( 0.04 ) & 0.25 ( 0.09 ) & 0 ( 0 )       &  6.25         & 0.03          & 1.16          & 0.25          & 0.00         \\\\\n",
       "\t 1000          &  100          &  0.10         & 0.89          & 1.04 ( 0.05 ) & 0.71 ( 0.15 ) & 0 ( 0 )       &  6.71         & 0.08          & 1.04          & 0.71          & 0.00         \\\\\n",
       "\t   50          &  500          & 10.00         & 0.38          & 2.18 ( 0.13 ) & 5.53 ( 0.36 ) & 1.27 ( 0.11 ) & 10.26         & 0.48          & 2.18          & 5.53          & 1.27         \\\\\n",
       "\t  100          &  500          &  5.00         & 0.75          & 1 ( 0.05 )    & 1.9 ( 0.29 )  & 0.03 ( 0.02 ) &  7.87         & 0.18          & 1.00          & 1.90          & 0.03         \\\\\n",
       "\t  500          &  500          &  1.00         & 0.96          & 1.18 ( 0.04 ) & 0.27 ( 0.13 ) & 0 ( 0 )       &  6.27         & 0.03          & 1.18          & 0.27          & 0.00         \\\\\n",
       "\t 1000          &  500          &  0.50         & 0.96          & 1.24 ( 0.04 ) & 0.25 ( 0.1 )  & 0 ( 0 )       &  6.25         & 0.03          & 1.24          & 0.25          & 0.00         \\\\\n",
       "\t   50          & 1000          & 20.00         & 0.32          & 3.09 ( 0.23 ) & 5.56 ( 0.36 ) & 1.95 ( 0.14 ) &  9.61         & 0.51          & 3.09          & 5.56          & 1.95         \\\\\n",
       "\t  100          & 1000          & 10.00         & 0.67          & 1.1 ( 0.07 )  & 2.8 ( 0.37 )  & 0.04 ( 0.02 ) &  8.76         & 0.24          & 1.10          & 2.80          & 0.04         \\\\\n",
       "\t  500          & 1000          &  2.00         & 0.96          & 1.12 ( 0.04 ) & 0.27 ( 0.08 ) & 0 ( 0 )       &  6.27         & 0.03          & 1.12          & 0.27          & 0.00         \\\\\n",
       "\t 1000          & 1000          &  1.00         & 0.96          & 1.16 ( 0.04 ) & 0.24 ( 0.07 ) & 0 ( 0 )       &  6.24         & 0.03          & 1.16          & 0.24          & 0.00         \\\\\n",
       "\\end{tabular}\n"
      ],
      "text/markdown": [
       "\n",
       "| N | P | Ratio | Stab | MSE | FP | FN | num_select | FDR | MSE_mean | FP_mean | FN_mean |\n",
       "|---|---|---|---|---|---|---|---|---|---|---|---|\n",
       "|   50          |   50          |  1.00         | 0.61          | 0.8 ( 0.05 )  | 2.99 ( 0.27 ) | 0.05 ( 0.02 ) |  8.94         | 0.28          | 0.80          | 2.99          | 0.05          |\n",
       "|  100          |   50          |  0.50         | 0.87          | 0.98 ( 0.06 ) | 0.79 ( 0.15 ) | 0 ( 0 )       |  6.79         | 0.09          | 0.98          | 0.79          | 0.00          |\n",
       "|  500          |   50          |  0.10         | 0.91          | 1.08 ( 0.05 ) | 0.51 ( 0.11 ) | 0 ( 0 )       |  6.51         | 0.06          | 1.08          | 0.51          | 0.00          |\n",
       "| 1000          |   50          |  0.05         | 0.93          | 1.18 ( 0.04 ) | 0.39 ( 0.15 ) | 0 ( 0 )       |  6.39         | 0.04          | 1.18          | 0.39          | 0.00          |\n",
       "|   50          |  100          |  2.00         | 0.52          | 1.05 ( 0.07 ) | 4.3 ( 0.31 )  | 0.24 ( 0.05 ) | 10.06         | 0.37          | 1.05          | 4.30          | 0.24          |\n",
       "|  100          |  100          |  1.00         | 0.85          | 0.94 ( 0.04 ) | 1.02 ( 0.19 ) | 0 ( 0 )       |  7.02         | 0.11          | 0.94          | 1.02          | 0.00          |\n",
       "|  500          |  100          |  0.20         | 0.96          | 1.16 ( 0.04 ) | 0.25 ( 0.09 ) | 0 ( 0 )       |  6.25         | 0.03          | 1.16          | 0.25          | 0.00          |\n",
       "| 1000          |  100          |  0.10         | 0.89          | 1.04 ( 0.05 ) | 0.71 ( 0.15 ) | 0 ( 0 )       |  6.71         | 0.08          | 1.04          | 0.71          | 0.00          |\n",
       "|   50          |  500          | 10.00         | 0.38          | 2.18 ( 0.13 ) | 5.53 ( 0.36 ) | 1.27 ( 0.11 ) | 10.26         | 0.48          | 2.18          | 5.53          | 1.27          |\n",
       "|  100          |  500          |  5.00         | 0.75          | 1 ( 0.05 )    | 1.9 ( 0.29 )  | 0.03 ( 0.02 ) |  7.87         | 0.18          | 1.00          | 1.90          | 0.03          |\n",
       "|  500          |  500          |  1.00         | 0.96          | 1.18 ( 0.04 ) | 0.27 ( 0.13 ) | 0 ( 0 )       |  6.27         | 0.03          | 1.18          | 0.27          | 0.00          |\n",
       "| 1000          |  500          |  0.50         | 0.96          | 1.24 ( 0.04 ) | 0.25 ( 0.1 )  | 0 ( 0 )       |  6.25         | 0.03          | 1.24          | 0.25          | 0.00          |\n",
       "|   50          | 1000          | 20.00         | 0.32          | 3.09 ( 0.23 ) | 5.56 ( 0.36 ) | 1.95 ( 0.14 ) |  9.61         | 0.51          | 3.09          | 5.56          | 1.95          |\n",
       "|  100          | 1000          | 10.00         | 0.67          | 1.1 ( 0.07 )  | 2.8 ( 0.37 )  | 0.04 ( 0.02 ) |  8.76         | 0.24          | 1.10          | 2.80          | 0.04          |\n",
       "|  500          | 1000          |  2.00         | 0.96          | 1.12 ( 0.04 ) | 0.27 ( 0.08 ) | 0 ( 0 )       |  6.27         | 0.03          | 1.12          | 0.27          | 0.00          |\n",
       "| 1000          | 1000          |  1.00         | 0.96          | 1.16 ( 0.04 ) | 0.24 ( 0.07 ) | 0 ( 0 )       |  6.24         | 0.03          | 1.16          | 0.24          | 0.00          |\n",
       "\n"
      ],
      "text/plain": [
       "   N    P    Ratio Stab MSE           FP            FN            num_select\n",
       "1    50   50  1.00 0.61 0.8 ( 0.05 )  2.99 ( 0.27 ) 0.05 ( 0.02 )  8.94     \n",
       "2   100   50  0.50 0.87 0.98 ( 0.06 ) 0.79 ( 0.15 ) 0 ( 0 )        6.79     \n",
       "3   500   50  0.10 0.91 1.08 ( 0.05 ) 0.51 ( 0.11 ) 0 ( 0 )        6.51     \n",
       "4  1000   50  0.05 0.93 1.18 ( 0.04 ) 0.39 ( 0.15 ) 0 ( 0 )        6.39     \n",
       "5    50  100  2.00 0.52 1.05 ( 0.07 ) 4.3 ( 0.31 )  0.24 ( 0.05 ) 10.06     \n",
       "6   100  100  1.00 0.85 0.94 ( 0.04 ) 1.02 ( 0.19 ) 0 ( 0 )        7.02     \n",
       "7   500  100  0.20 0.96 1.16 ( 0.04 ) 0.25 ( 0.09 ) 0 ( 0 )        6.25     \n",
       "8  1000  100  0.10 0.89 1.04 ( 0.05 ) 0.71 ( 0.15 ) 0 ( 0 )        6.71     \n",
       "9    50  500 10.00 0.38 2.18 ( 0.13 ) 5.53 ( 0.36 ) 1.27 ( 0.11 ) 10.26     \n",
       "10  100  500  5.00 0.75 1 ( 0.05 )    1.9 ( 0.29 )  0.03 ( 0.02 )  7.87     \n",
       "11  500  500  1.00 0.96 1.18 ( 0.04 ) 0.27 ( 0.13 ) 0 ( 0 )        6.27     \n",
       "12 1000  500  0.50 0.96 1.24 ( 0.04 ) 0.25 ( 0.1 )  0 ( 0 )        6.25     \n",
       "13   50 1000 20.00 0.32 3.09 ( 0.23 ) 5.56 ( 0.36 ) 1.95 ( 0.14 )  9.61     \n",
       "14  100 1000 10.00 0.67 1.1 ( 0.07 )  2.8 ( 0.37 )  0.04 ( 0.02 )  8.76     \n",
       "15  500 1000  2.00 0.96 1.12 ( 0.04 ) 0.27 ( 0.08 ) 0 ( 0 )        6.27     \n",
       "16 1000 1000  1.00 0.96 1.16 ( 0.04 ) 0.24 ( 0.07 ) 0 ( 0 )        6.24     \n",
       "   FDR  MSE_mean FP_mean FN_mean\n",
       "1  0.28 0.80     2.99    0.05   \n",
       "2  0.09 0.98     0.79    0.00   \n",
       "3  0.06 1.08     0.51    0.00   \n",
       "4  0.04 1.18     0.39    0.00   \n",
       "5  0.37 1.05     4.30    0.24   \n",
       "6  0.11 0.94     1.02    0.00   \n",
       "7  0.03 1.16     0.25    0.00   \n",
       "8  0.08 1.04     0.71    0.00   \n",
       "9  0.48 2.18     5.53    1.27   \n",
       "10 0.18 1.00     1.90    0.03   \n",
       "11 0.03 1.18     0.27    0.00   \n",
       "12 0.03 1.24     0.25    0.00   \n",
       "13 0.51 3.09     5.56    1.95   \n",
       "14 0.24 1.10     2.80    0.04   \n",
       "15 0.03 1.12     0.27    0.00   \n",
       "16 0.03 1.16     0.24    0.00   "
      ]
     },
     "metadata": {},
     "output_type": "display_data"
    }
   ],
   "source": [
    "# fix missing values\n",
    "result.table_ind$MSE_mean[is.na(result.table_ind$MSE_mean)] = 1\n",
    "result.table_ind"
   ]
  },
  {
   "cell_type": "code",
   "execution_count": 9,
   "metadata": {},
   "outputs": [],
   "source": [
    "## export\n",
    "write.table(result.table_ind, '../results_summary/sim_ind_compLasso.txt', sep='\\t', row.names=F)"
   ]
  },
  {
   "cell_type": "code",
   "execution_count": 6,
   "metadata": {},
   "outputs": [
    {
     "name": "stderr",
     "output_type": "stream",
     "text": [
      "Registered S3 methods overwritten by 'ggplot2':\n",
      "  method         from \n",
      "  [.quosures     rlang\n",
      "  c.quosures     rlang\n",
      "  print.quosures rlang\n",
      "Warning message:\n",
      "“Removed 1 rows containing missing values (geom_point).”"
     ]
    },
    {
     "data": {
      "text/html": [
       "<strong>pdf:</strong> 2"
      ],
      "text/latex": [
       "\\textbf{pdf:} 2"
      ],
      "text/markdown": [
       "**pdf:** 2"
      ],
      "text/plain": [
       "pdf \n",
       "  2 "
      ]
     },
     "metadata": {},
     "output_type": "display_data"
    }
   ],
   "source": [
    "library(ggplot2)\n",
    "library(gridExtra)\n",
    "pdf('../figures_sim/figure_independent_compLasso.pdf', height=5, width=7)\n",
    "result.table_ind$N = as.factor(result.table_ind$N)\n",
    "fig_ind_stab = ggplot(result.table_ind, aes(x=P, y=Stab, color=N)) + geom_point() + ylab('Stability')\n",
    "fig_ind_mse = ggplot(result.table_ind, aes(x=P, y=MSE_mean, color=N)) + geom_point() + ylab('MSE')\n",
    "fig_ind_fp = ggplot(result.table_ind, aes(x=P, y=FP_mean, color=N)) + geom_point() + ylab('False Positives')\n",
    "fig_ind_fn = ggplot(result.table_ind, aes(x=P, y=FN_mean, color=N)) + geom_point() + ylab('False Negatives')\n",
    "grid.arrange(fig_ind_stab, fig_ind_mse, fig_ind_fp, fig_ind_fn, ncol=2, top='Independent_compLasso')\n",
    "dev.off()"
   ]
  },
  {
   "cell_type": "code",
   "execution_count": null,
   "metadata": {},
   "outputs": [],
   "source": []
  },
  {
   "cell_type": "code",
   "execution_count": null,
   "metadata": {},
   "outputs": [],
   "source": []
  }
 ],
 "metadata": {
  "kernelspec": {
   "display_name": "R",
   "language": "R",
   "name": "ir"
  },
  "language_info": {
   "codemirror_mode": "r",
   "file_extension": ".r",
   "mimetype": "text/x-r-source",
   "name": "R",
   "pygments_lexer": "r",
   "version": "3.6.1"
  }
 },
 "nbformat": 4,
 "nbformat_minor": 2
}
