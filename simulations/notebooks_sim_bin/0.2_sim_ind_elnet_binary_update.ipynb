{
 "cells": [
  {
   "cell_type": "markdown",
   "metadata": {},
   "source": [
    "### summarize elastic net results on Independent Simulation Scenarios for binary outcome"
   ]
  },
  {
   "cell_type": "code",
   "execution_count": 1,
   "metadata": {},
   "outputs": [],
   "source": [
    "dir = '/panfs/panfs1.ucsd.edu/panscratch/lij014/Stability_2020/sim_data'"
   ]
  },
  {
   "cell_type": "code",
   "execution_count": 2,
   "metadata": {},
   "outputs": [],
   "source": [
    "dim.list = list()\n",
    "size = c(50, 100, 500, 1000)\n",
    "idx = 0\n",
    "for (P in size){\n",
    "    for (N in size){\n",
    "        idx = idx + 1\n",
    "        dim.list[[idx]] = c(P=P, N=N)\n",
    "    }\n",
    "}\n",
    "\n",
    "files = NULL\n",
    "for (dim in dim.list){\n",
    "    p = dim[1]\n",
    "    n = dim[2]\n",
    "    files = cbind(files, paste0(dir, '/sim_independent_', paste('P', p, 'N', n, sep='_'), '.RData'))\n",
    "}"
   ]
  },
  {
   "cell_type": "code",
   "execution_count": 3,
   "metadata": {},
   "outputs": [
    {
     "data": {
      "text/html": [
       "16"
      ],
      "text/latex": [
       "16"
      ],
      "text/markdown": [
       "16"
      ],
      "text/plain": [
       "[1] 16"
      ]
     },
     "metadata": {},
     "output_type": "display_data"
    }
   ],
   "source": [
    "length(files)"
   ]
  },
  {
   "cell_type": "code",
   "execution_count": 4,
   "metadata": {},
   "outputs": [
    {
     "name": "stdout",
     "output_type": "stream",
     "text": [
      "[1] \"indx: 1\"\n",
      "[1] \"indx: 2\"\n",
      "[1] \"indx: 3\"\n",
      "[1] \"indx: 4\"\n",
      "[1] \"indx: 5\"\n",
      "[1] \"indx: 6\"\n",
      "[1] \"indx: 7\"\n",
      "[1] \"indx: 8\"\n",
      "[1] \"indx: 9\"\n",
      "[1] \"indx: 10\"\n",
      "[1] \"indx: 11\"\n",
      "[1] \"indx: 12\"\n",
      "[1] \"indx: 13\"\n",
      "[1] \"indx: 14\"\n",
      "[1] \"indx: 15\"\n",
      "[1] \"indx: 16\"\n"
     ]
    }
   ],
   "source": [
    "avg_FDR = NULL\n",
    "table_toe = NULL\n",
    "tmp_num_select = rep(0, length(files))\n",
    "for (i in 1:length(files)){\n",
    "    print(paste0('indx: ', i))\n",
    "    load(paste0(dir, '/binary_update/ind_Elnet_binary_', i, '.RData')) \n",
    "    \n",
    "    table_toe = rbind(table_toe, results_ind_elnet[c('n', 'p', 'rou', 'FP', 'FN', 'ROC', 'Stab')])\n",
    "    tmp_num_select[i] = mean(rowSums(results_ind_elnet$Stab.table))\n",
    "    \n",
    "    # calculate FDR\n",
    "    load(file_name, dat <- new.env())\n",
    "    sub = dat$sim_array[[i]]\n",
    "    p = sub$p # take true values from 1st replicate of each simulated data\n",
    "    coef = sub$beta\n",
    "    coef.true = which(coef != 0)\n",
    "    \n",
    "    tt = results_ind_elnet$Stab.table\n",
    "    FDR = NULL # false positive rate\n",
    "    for (r in 1:nrow(tt)){\n",
    "        FDR = c(FDR, length(setdiff(which(tt[r, ] !=0), coef.true))/sum(tt[r, ]))\n",
    "\n",
    "    }\n",
    "    \n",
    "    avg_FDR = c(avg_FDR, mean(FDR, na.rm=T))\n",
    "}\n",
    "table_toe = as.data.frame(table_toe)\n",
    "table_toe$num_select = tmp_num_select\n",
    "table_toe$FDR = round(avg_FDR,2)"
   ]
  },
  {
   "cell_type": "code",
   "execution_count": 5,
   "metadata": {},
   "outputs": [
    {
     "data": {
      "text/html": [
       "<table>\n",
       "<caption>A data.frame: 6 × 9</caption>\n",
       "<thead>\n",
       "\t<tr><th></th><th scope=col>n</th><th scope=col>p</th><th scope=col>rou</th><th scope=col>FP</th><th scope=col>FN</th><th scope=col>ROC</th><th scope=col>Stab</th><th scope=col>num_select</th><th scope=col>FDR</th></tr>\n",
       "\t<tr><th></th><th scope=col>&lt;list&gt;</th><th scope=col>&lt;list&gt;</th><th scope=col>&lt;list&gt;</th><th scope=col>&lt;list&gt;</th><th scope=col>&lt;list&gt;</th><th scope=col>&lt;list&gt;</th><th scope=col>&lt;list&gt;</th><th scope=col>&lt;dbl&gt;</th><th scope=col>&lt;dbl&gt;</th></tr>\n",
       "</thead>\n",
       "<tbody>\n",
       "\t<tr><th scope=row>1</th><td>50</td><td>50</td><td>0</td><td>12.04 ( 0.89 )</td><td>1.42 ( 0.11 )</td><td>0.76 ( 0.01 )</td><td>0.15</td><td>15.62</td><td>0.61</td></tr>\n",
       "\t<tr><th scope=row>2</th><td>100</td><td>50</td><td>0</td><td>11.44 ( 0.76 )</td><td>0.46 ( 0.07 )</td><td>0.84 ( 0.01 )</td><td>0.23</td><td>15.98</td><td>0.56</td></tr>\n",
       "\t<tr><th scope=row>3</th><td>500</td><td>50</td><td>0</td><td>8.74 ( 0.72 )</td><td>0 ( 0 )</td><td>0.92 ( 0 )</td><td>0.36</td><td>13.74</td><td>0.45</td></tr>\n",
       "\t<tr><th scope=row>4</th><td>1000</td><td>50</td><td>0</td><td>7.56 ( 0.72 )</td><td>0 ( 0 )</td><td>0.93 ( 0 )</td><td>0.41</td><td>12.56</td><td>0.40</td></tr>\n",
       "\t<tr><th scope=row>5</th><td>50</td><td>100</td><td>0</td><td>18.92 ( 1.7 )</td><td>1.81 ( 0.12 )</td><td>0.72 ( 0.01 )</td><td>0.1</td><td>22.11</td><td>0.72</td></tr>\n",
       "\t<tr><th scope=row>6</th><td>100</td><td>100</td><td>0</td><td>12.48 ( 0.9 )</td><td>0.96 ( 0.09 )</td><td>0.82 ( 0.01 )</td><td>0.22</td><td>16.52</td><td>0.58</td></tr>\n",
       "</tbody>\n",
       "</table>\n"
      ],
      "text/latex": [
       "A data.frame: 6 × 9\n",
       "\\begin{tabular}{r|lllllllll}\n",
       "  & n & p & rou & FP & FN & ROC & Stab & num\\_select & FDR\\\\\n",
       "  & <list> & <list> & <list> & <list> & <list> & <list> & <list> & <dbl> & <dbl>\\\\\n",
       "\\hline\n",
       "\t1 & 50 & 50 & 0 & 12.04 ( 0.89 ) & 1.42 ( 0.11 ) & 0.76 ( 0.01 ) & 0.15 & 15.62 & 0.61\\\\\n",
       "\t2 & 100 & 50 & 0 & 11.44 ( 0.76 ) & 0.46 ( 0.07 ) & 0.84 ( 0.01 ) & 0.23 & 15.98 & 0.56\\\\\n",
       "\t3 & 500 & 50 & 0 & 8.74 ( 0.72 ) & 0 ( 0 ) & 0.92 ( 0 ) & 0.36 & 13.74 & 0.45\\\\\n",
       "\t4 & 1000 & 50 & 0 & 7.56 ( 0.72 ) & 0 ( 0 ) & 0.93 ( 0 ) & 0.41 & 12.56 & 0.40\\\\\n",
       "\t5 & 50 & 100 & 0 & 18.92 ( 1.7 ) & 1.81 ( 0.12 ) & 0.72 ( 0.01 ) & 0.1 & 22.11 & 0.72\\\\\n",
       "\t6 & 100 & 100 & 0 & 12.48 ( 0.9 ) & 0.96 ( 0.09 ) & 0.82 ( 0.01 ) & 0.22 & 16.52 & 0.58\\\\\n",
       "\\end{tabular}\n"
      ],
      "text/markdown": [
       "\n",
       "A data.frame: 6 × 9\n",
       "\n",
       "| <!--/--> | n &lt;list&gt; | p &lt;list&gt; | rou &lt;list&gt; | FP &lt;list&gt; | FN &lt;list&gt; | ROC &lt;list&gt; | Stab &lt;list&gt; | num_select &lt;dbl&gt; | FDR &lt;dbl&gt; |\n",
       "|---|---|---|---|---|---|---|---|---|---|\n",
       "| 1 | 50 | 50 | 0 | 12.04 ( 0.89 ) | 1.42 ( 0.11 ) | 0.76 ( 0.01 ) | 0.15 | 15.62 | 0.61 |\n",
       "| 2 | 100 | 50 | 0 | 11.44 ( 0.76 ) | 0.46 ( 0.07 ) | 0.84 ( 0.01 ) | 0.23 | 15.98 | 0.56 |\n",
       "| 3 | 500 | 50 | 0 | 8.74 ( 0.72 ) | 0 ( 0 ) | 0.92 ( 0 ) | 0.36 | 13.74 | 0.45 |\n",
       "| 4 | 1000 | 50 | 0 | 7.56 ( 0.72 ) | 0 ( 0 ) | 0.93 ( 0 ) | 0.41 | 12.56 | 0.40 |\n",
       "| 5 | 50 | 100 | 0 | 18.92 ( 1.7 ) | 1.81 ( 0.12 ) | 0.72 ( 0.01 ) | 0.1 | 22.11 | 0.72 |\n",
       "| 6 | 100 | 100 | 0 | 12.48 ( 0.9 ) | 0.96 ( 0.09 ) | 0.82 ( 0.01 ) | 0.22 | 16.52 | 0.58 |\n",
       "\n"
      ],
      "text/plain": [
       "  n    p   rou FP             FN            ROC           Stab num_select FDR \n",
       "1 50   50  0   12.04 ( 0.89 ) 1.42 ( 0.11 ) 0.76 ( 0.01 ) 0.15 15.62      0.61\n",
       "2 100  50  0   11.44 ( 0.76 ) 0.46 ( 0.07 ) 0.84 ( 0.01 ) 0.23 15.98      0.56\n",
       "3 500  50  0   8.74 ( 0.72 )  0 ( 0 )       0.92 ( 0 )    0.36 13.74      0.45\n",
       "4 1000 50  0   7.56 ( 0.72 )  0 ( 0 )       0.93 ( 0 )    0.41 12.56      0.40\n",
       "5 50   100 0   18.92 ( 1.7 )  1.81 ( 0.12 ) 0.72 ( 0.01 ) 0.1  22.11      0.72\n",
       "6 100  100 0   12.48 ( 0.9 )  0.96 ( 0.09 ) 0.82 ( 0.01 ) 0.22 16.52      0.58"
      ]
     },
     "metadata": {},
     "output_type": "display_data"
    }
   ],
   "source": [
    "head(table_toe)"
   ]
  },
  {
   "cell_type": "code",
   "execution_count": 6,
   "metadata": {},
   "outputs": [
    {
     "data": {
      "text/html": [
       "<table>\n",
       "<caption>A data.frame: 6 × 9</caption>\n",
       "<thead>\n",
       "\t<tr><th></th><th scope=col>n</th><th scope=col>p</th><th scope=col>rou</th><th scope=col>FP</th><th scope=col>FN</th><th scope=col>ROC</th><th scope=col>Stab</th><th scope=col>num_select</th><th scope=col>FDR</th></tr>\n",
       "\t<tr><th></th><th scope=col>&lt;list&gt;</th><th scope=col>&lt;list&gt;</th><th scope=col>&lt;list&gt;</th><th scope=col>&lt;list&gt;</th><th scope=col>&lt;list&gt;</th><th scope=col>&lt;list&gt;</th><th scope=col>&lt;list&gt;</th><th scope=col>&lt;dbl&gt;</th><th scope=col>&lt;dbl&gt;</th></tr>\n",
       "</thead>\n",
       "<tbody>\n",
       "\t<tr><th scope=row>11</th><td>500</td><td>500</td><td>0</td><td>16.79 ( 1.47 )</td><td>0 ( 0 )</td><td>0.92 ( 0 )</td><td>0.27</td><td>21.79</td><td>0.61</td></tr>\n",
       "\t<tr><th scope=row>12</th><td>1000</td><td>500</td><td>0</td><td>11.47 ( 1.14 )</td><td>0 ( 0 )</td><td>0.93 ( 0 )</td><td>0.36</td><td>16.47</td><td>0.48</td></tr>\n",
       "\t<tr><th scope=row>13</th><td>50</td><td>1000</td><td>0</td><td>72.88 ( 8.55 )</td><td>2.89 ( 0.13 )</td><td>0.67 ( 0.01 )</td><td>0.02</td><td>74.99</td><td>0.91</td></tr>\n",
       "\t<tr><th scope=row>14</th><td>100</td><td>1000</td><td>0</td><td>29.95 ( 4.05 )</td><td>2 ( 0.1 )</td><td>0.76 ( 0.01 )</td><td>0.09</td><td>32.95</td><td>0.77</td></tr>\n",
       "\t<tr><th scope=row>15</th><td>500</td><td>1000</td><td>0</td><td>19.47 ( 1.76 )</td><td>0 ( 0 )</td><td>0.91 ( 0 )</td><td>0.24</td><td>24.47</td><td>0.62</td></tr>\n",
       "\t<tr><th scope=row>16</th><td>1000</td><td>1000</td><td>0</td><td>18.47 ( 1.76 )</td><td>0 ( 0 )</td><td>0.93 ( 0 )</td><td>0.25</td><td>23.47</td><td>0.58</td></tr>\n",
       "</tbody>\n",
       "</table>\n"
      ],
      "text/latex": [
       "A data.frame: 6 × 9\n",
       "\\begin{tabular}{r|lllllllll}\n",
       "  & n & p & rou & FP & FN & ROC & Stab & num\\_select & FDR\\\\\n",
       "  & <list> & <list> & <list> & <list> & <list> & <list> & <list> & <dbl> & <dbl>\\\\\n",
       "\\hline\n",
       "\t11 & 500 & 500 & 0 & 16.79 ( 1.47 ) & 0 ( 0 ) & 0.92 ( 0 ) & 0.27 & 21.79 & 0.61\\\\\n",
       "\t12 & 1000 & 500 & 0 & 11.47 ( 1.14 ) & 0 ( 0 ) & 0.93 ( 0 ) & 0.36 & 16.47 & 0.48\\\\\n",
       "\t13 & 50 & 1000 & 0 & 72.88 ( 8.55 ) & 2.89 ( 0.13 ) & 0.67 ( 0.01 ) & 0.02 & 74.99 & 0.91\\\\\n",
       "\t14 & 100 & 1000 & 0 & 29.95 ( 4.05 ) & 2 ( 0.1 ) & 0.76 ( 0.01 ) & 0.09 & 32.95 & 0.77\\\\\n",
       "\t15 & 500 & 1000 & 0 & 19.47 ( 1.76 ) & 0 ( 0 ) & 0.91 ( 0 ) & 0.24 & 24.47 & 0.62\\\\\n",
       "\t16 & 1000 & 1000 & 0 & 18.47 ( 1.76 ) & 0 ( 0 ) & 0.93 ( 0 ) & 0.25 & 23.47 & 0.58\\\\\n",
       "\\end{tabular}\n"
      ],
      "text/markdown": [
       "\n",
       "A data.frame: 6 × 9\n",
       "\n",
       "| <!--/--> | n &lt;list&gt; | p &lt;list&gt; | rou &lt;list&gt; | FP &lt;list&gt; | FN &lt;list&gt; | ROC &lt;list&gt; | Stab &lt;list&gt; | num_select &lt;dbl&gt; | FDR &lt;dbl&gt; |\n",
       "|---|---|---|---|---|---|---|---|---|---|\n",
       "| 11 | 500 | 500 | 0 | 16.79 ( 1.47 ) | 0 ( 0 ) | 0.92 ( 0 ) | 0.27 | 21.79 | 0.61 |\n",
       "| 12 | 1000 | 500 | 0 | 11.47 ( 1.14 ) | 0 ( 0 ) | 0.93 ( 0 ) | 0.36 | 16.47 | 0.48 |\n",
       "| 13 | 50 | 1000 | 0 | 72.88 ( 8.55 ) | 2.89 ( 0.13 ) | 0.67 ( 0.01 ) | 0.02 | 74.99 | 0.91 |\n",
       "| 14 | 100 | 1000 | 0 | 29.95 ( 4.05 ) | 2 ( 0.1 ) | 0.76 ( 0.01 ) | 0.09 | 32.95 | 0.77 |\n",
       "| 15 | 500 | 1000 | 0 | 19.47 ( 1.76 ) | 0 ( 0 ) | 0.91 ( 0 ) | 0.24 | 24.47 | 0.62 |\n",
       "| 16 | 1000 | 1000 | 0 | 18.47 ( 1.76 ) | 0 ( 0 ) | 0.93 ( 0 ) | 0.25 | 23.47 | 0.58 |\n",
       "\n"
      ],
      "text/plain": [
       "   n    p    rou FP             FN            ROC           Stab num_select\n",
       "11 500  500  0   16.79 ( 1.47 ) 0 ( 0 )       0.92 ( 0 )    0.27 21.79     \n",
       "12 1000 500  0   11.47 ( 1.14 ) 0 ( 0 )       0.93 ( 0 )    0.36 16.47     \n",
       "13 50   1000 0   72.88 ( 8.55 ) 2.89 ( 0.13 ) 0.67 ( 0.01 ) 0.02 74.99     \n",
       "14 100  1000 0   29.95 ( 4.05 ) 2 ( 0.1 )     0.76 ( 0.01 ) 0.09 32.95     \n",
       "15 500  1000 0   19.47 ( 1.76 ) 0 ( 0 )       0.91 ( 0 )    0.24 24.47     \n",
       "16 1000 1000 0   18.47 ( 1.76 ) 0 ( 0 )       0.93 ( 0 )    0.25 23.47     \n",
       "   FDR \n",
       "11 0.61\n",
       "12 0.48\n",
       "13 0.91\n",
       "14 0.77\n",
       "15 0.62\n",
       "16 0.58"
      ]
     },
     "metadata": {},
     "output_type": "display_data"
    }
   ],
   "source": [
    "tail(table_toe)"
   ]
  },
  {
   "cell_type": "code",
   "execution_count": 7,
   "metadata": {},
   "outputs": [
    {
     "name": "stderr",
     "output_type": "stream",
     "text": [
      "extract_numeric() is deprecated: please use readr::parse_number() instead\n",
      "\n",
      "extract_numeric() is deprecated: please use readr::parse_number() instead\n",
      "\n"
     ]
    }
   ],
   "source": [
    "# export result\n",
    "result.table_toe <- apply(table_toe,2,as.character)\n",
    "rownames(result.table_toe) = rownames(table_toe)\n",
    "result.table_toe = as.data.frame(result.table_toe)\n",
    "\n",
    "# extract numbers only for 'n' & 'p'\n",
    "result.table_toe$n = tidyr::extract_numeric(result.table_toe$n)\n",
    "result.table_toe$p = tidyr::extract_numeric(result.table_toe$p)\n",
    "result.table_toe$ratio = result.table_toe$p / result.table_toe$n\n",
    "\n",
    "result.table_toe = result.table_toe[c('n', 'p', 'rou', 'ratio', 'Stab', 'ROC', 'FP', 'FN', 'num_select', 'FDR')]\n",
    "colnames(result.table_toe)[1:4] = c('N', 'P', 'Corr', 'Ratio')"
   ]
  },
  {
   "cell_type": "code",
   "execution_count": 8,
   "metadata": {},
   "outputs": [],
   "source": [
    "# convert interested measurements to be numeric\n",
    "result.table_toe$Stab = as.numeric(as.character(result.table_toe$Stab))\n",
    "result.table_toe$num_select = as.numeric(as.character(result.table_toe$num_select))\n",
    "\n",
    "result.table_toe$ROC_mean = as.numeric(sub(\"\\\\(.*\", \"\", result.table_toe$ROC))\n",
    "result.table_toe$FP_mean = as.numeric(sub(\"\\\\(.*\", \"\", result.table_toe$FP))\n",
    "result.table_toe$FN_mean = as.numeric(sub(\"\\\\(.*\", \"\", result.table_toe$FN))"
   ]
  },
  {
   "cell_type": "code",
   "execution_count": 9,
   "metadata": {},
   "outputs": [
    {
     "data": {
      "text/html": [
       "<table>\n",
       "<caption>A data.frame: 0 × 13</caption>\n",
       "<thead>\n",
       "\t<tr><th scope=col>N</th><th scope=col>P</th><th scope=col>Corr</th><th scope=col>Ratio</th><th scope=col>Stab</th><th scope=col>ROC</th><th scope=col>FP</th><th scope=col>FN</th><th scope=col>num_select</th><th scope=col>FDR</th><th scope=col>ROC_mean</th><th scope=col>FP_mean</th><th scope=col>FN_mean</th></tr>\n",
       "\t<tr><th scope=col>&lt;dbl&gt;</th><th scope=col>&lt;dbl&gt;</th><th scope=col>&lt;fct&gt;</th><th scope=col>&lt;dbl&gt;</th><th scope=col>&lt;dbl&gt;</th><th scope=col>&lt;fct&gt;</th><th scope=col>&lt;fct&gt;</th><th scope=col>&lt;fct&gt;</th><th scope=col>&lt;dbl&gt;</th><th scope=col>&lt;fct&gt;</th><th scope=col>&lt;dbl&gt;</th><th scope=col>&lt;dbl&gt;</th><th scope=col>&lt;dbl&gt;</th></tr>\n",
       "</thead>\n",
       "<tbody>\n",
       "</tbody>\n",
       "</table>\n"
      ],
      "text/latex": [
       "A data.frame: 0 × 13\n",
       "\\begin{tabular}{lllllllllllll}\n",
       " N & P & Corr & Ratio & Stab & ROC & FP & FN & num\\_select & FDR & ROC\\_mean & FP\\_mean & FN\\_mean\\\\\n",
       " <dbl> & <dbl> & <fct> & <dbl> & <dbl> & <fct> & <fct> & <fct> & <dbl> & <fct> & <dbl> & <dbl> & <dbl>\\\\\n",
       "\\hline\n",
       "\\end{tabular}\n"
      ],
      "text/markdown": [
       "\n",
       "A data.frame: 0 × 13\n",
       "\n",
       "| N &lt;dbl&gt; | P &lt;dbl&gt; | Corr &lt;fct&gt; | Ratio &lt;dbl&gt; | Stab &lt;dbl&gt; | ROC &lt;fct&gt; | FP &lt;fct&gt; | FN &lt;fct&gt; | num_select &lt;dbl&gt; | FDR &lt;fct&gt; | ROC_mean &lt;dbl&gt; | FP_mean &lt;dbl&gt; | FN_mean &lt;dbl&gt; |\n",
       "|---|---|---|---|---|---|---|---|---|---|---|---|---|\n",
       "\n"
      ],
      "text/plain": [
       "     N P Corr Ratio Stab ROC FP FN num_select FDR ROC_mean FP_mean FN_mean"
      ]
     },
     "metadata": {},
     "output_type": "display_data"
    }
   ],
   "source": [
    "# check whether missing values exists\n",
    "result.table_toe[rowSums(is.na(result.table_toe)) > 0,]"
   ]
  },
  {
   "cell_type": "code",
   "execution_count": 10,
   "metadata": {},
   "outputs": [
    {
     "data": {
      "text/html": [
       "<table>\n",
       "<caption>A data.frame: 6 × 13</caption>\n",
       "<thead>\n",
       "\t<tr><th></th><th scope=col>N</th><th scope=col>P</th><th scope=col>Corr</th><th scope=col>Ratio</th><th scope=col>Stab</th><th scope=col>ROC</th><th scope=col>FP</th><th scope=col>FN</th><th scope=col>num_select</th><th scope=col>FDR</th><th scope=col>ROC_mean</th><th scope=col>FP_mean</th><th scope=col>FN_mean</th></tr>\n",
       "\t<tr><th></th><th scope=col>&lt;dbl&gt;</th><th scope=col>&lt;dbl&gt;</th><th scope=col>&lt;fct&gt;</th><th scope=col>&lt;dbl&gt;</th><th scope=col>&lt;dbl&gt;</th><th scope=col>&lt;fct&gt;</th><th scope=col>&lt;fct&gt;</th><th scope=col>&lt;fct&gt;</th><th scope=col>&lt;dbl&gt;</th><th scope=col>&lt;fct&gt;</th><th scope=col>&lt;dbl&gt;</th><th scope=col>&lt;dbl&gt;</th><th scope=col>&lt;dbl&gt;</th></tr>\n",
       "</thead>\n",
       "<tbody>\n",
       "\t<tr><th scope=row>1</th><td>  50</td><td> 50</td><td>0</td><td>1.00</td><td>0.15</td><td>0.76 ( 0.01 )</td><td>12.04 ( 0.89 )</td><td>1.42 ( 0.11 )</td><td>15.62</td><td>0.61</td><td>0.76</td><td>12.04</td><td>1.42</td></tr>\n",
       "\t<tr><th scope=row>2</th><td> 100</td><td> 50</td><td>0</td><td>0.50</td><td>0.23</td><td>0.84 ( 0.01 )</td><td>11.44 ( 0.76 )</td><td>0.46 ( 0.07 )</td><td>15.98</td><td>0.56</td><td>0.84</td><td>11.44</td><td>0.46</td></tr>\n",
       "\t<tr><th scope=row>3</th><td> 500</td><td> 50</td><td>0</td><td>0.10</td><td>0.36</td><td>0.92 ( 0 )   </td><td>8.74 ( 0.72 ) </td><td>0 ( 0 )      </td><td>13.74</td><td>0.45</td><td>0.92</td><td> 8.74</td><td>0.00</td></tr>\n",
       "\t<tr><th scope=row>4</th><td>1000</td><td> 50</td><td>0</td><td>0.05</td><td>0.41</td><td>0.93 ( 0 )   </td><td>7.56 ( 0.72 ) </td><td>0 ( 0 )      </td><td>12.56</td><td>0.4 </td><td>0.93</td><td> 7.56</td><td>0.00</td></tr>\n",
       "\t<tr><th scope=row>5</th><td>  50</td><td>100</td><td>0</td><td>2.00</td><td>0.10</td><td>0.72 ( 0.01 )</td><td>18.92 ( 1.7 ) </td><td>1.81 ( 0.12 )</td><td>22.11</td><td>0.72</td><td>0.72</td><td>18.92</td><td>1.81</td></tr>\n",
       "\t<tr><th scope=row>6</th><td> 100</td><td>100</td><td>0</td><td>1.00</td><td>0.22</td><td>0.82 ( 0.01 )</td><td>12.48 ( 0.9 ) </td><td>0.96 ( 0.09 )</td><td>16.52</td><td>0.58</td><td>0.82</td><td>12.48</td><td>0.96</td></tr>\n",
       "</tbody>\n",
       "</table>\n"
      ],
      "text/latex": [
       "A data.frame: 6 × 13\n",
       "\\begin{tabular}{r|lllllllllllll}\n",
       "  & N & P & Corr & Ratio & Stab & ROC & FP & FN & num\\_select & FDR & ROC\\_mean & FP\\_mean & FN\\_mean\\\\\n",
       "  & <dbl> & <dbl> & <fct> & <dbl> & <dbl> & <fct> & <fct> & <fct> & <dbl> & <fct> & <dbl> & <dbl> & <dbl>\\\\\n",
       "\\hline\n",
       "\t1 &   50 &  50 & 0 & 1.00 & 0.15 & 0.76 ( 0.01 ) & 12.04 ( 0.89 ) & 1.42 ( 0.11 ) & 15.62 & 0.61 & 0.76 & 12.04 & 1.42\\\\\n",
       "\t2 &  100 &  50 & 0 & 0.50 & 0.23 & 0.84 ( 0.01 ) & 11.44 ( 0.76 ) & 0.46 ( 0.07 ) & 15.98 & 0.56 & 0.84 & 11.44 & 0.46\\\\\n",
       "\t3 &  500 &  50 & 0 & 0.10 & 0.36 & 0.92 ( 0 )    & 8.74 ( 0.72 )  & 0 ( 0 )       & 13.74 & 0.45 & 0.92 &  8.74 & 0.00\\\\\n",
       "\t4 & 1000 &  50 & 0 & 0.05 & 0.41 & 0.93 ( 0 )    & 7.56 ( 0.72 )  & 0 ( 0 )       & 12.56 & 0.4  & 0.93 &  7.56 & 0.00\\\\\n",
       "\t5 &   50 & 100 & 0 & 2.00 & 0.10 & 0.72 ( 0.01 ) & 18.92 ( 1.7 )  & 1.81 ( 0.12 ) & 22.11 & 0.72 & 0.72 & 18.92 & 1.81\\\\\n",
       "\t6 &  100 & 100 & 0 & 1.00 & 0.22 & 0.82 ( 0.01 ) & 12.48 ( 0.9 )  & 0.96 ( 0.09 ) & 16.52 & 0.58 & 0.82 & 12.48 & 0.96\\\\\n",
       "\\end{tabular}\n"
      ],
      "text/markdown": [
       "\n",
       "A data.frame: 6 × 13\n",
       "\n",
       "| <!--/--> | N &lt;dbl&gt; | P &lt;dbl&gt; | Corr &lt;fct&gt; | Ratio &lt;dbl&gt; | Stab &lt;dbl&gt; | ROC &lt;fct&gt; | FP &lt;fct&gt; | FN &lt;fct&gt; | num_select &lt;dbl&gt; | FDR &lt;fct&gt; | ROC_mean &lt;dbl&gt; | FP_mean &lt;dbl&gt; | FN_mean &lt;dbl&gt; |\n",
       "|---|---|---|---|---|---|---|---|---|---|---|---|---|---|\n",
       "| 1 |   50 |  50 | 0 | 1.00 | 0.15 | 0.76 ( 0.01 ) | 12.04 ( 0.89 ) | 1.42 ( 0.11 ) | 15.62 | 0.61 | 0.76 | 12.04 | 1.42 |\n",
       "| 2 |  100 |  50 | 0 | 0.50 | 0.23 | 0.84 ( 0.01 ) | 11.44 ( 0.76 ) | 0.46 ( 0.07 ) | 15.98 | 0.56 | 0.84 | 11.44 | 0.46 |\n",
       "| 3 |  500 |  50 | 0 | 0.10 | 0.36 | 0.92 ( 0 )    | 8.74 ( 0.72 )  | 0 ( 0 )       | 13.74 | 0.45 | 0.92 |  8.74 | 0.00 |\n",
       "| 4 | 1000 |  50 | 0 | 0.05 | 0.41 | 0.93 ( 0 )    | 7.56 ( 0.72 )  | 0 ( 0 )       | 12.56 | 0.4  | 0.93 |  7.56 | 0.00 |\n",
       "| 5 |   50 | 100 | 0 | 2.00 | 0.10 | 0.72 ( 0.01 ) | 18.92 ( 1.7 )  | 1.81 ( 0.12 ) | 22.11 | 0.72 | 0.72 | 18.92 | 1.81 |\n",
       "| 6 |  100 | 100 | 0 | 1.00 | 0.22 | 0.82 ( 0.01 ) | 12.48 ( 0.9 )  | 0.96 ( 0.09 ) | 16.52 | 0.58 | 0.82 | 12.48 | 0.96 |\n",
       "\n"
      ],
      "text/plain": [
       "  N    P   Corr Ratio Stab ROC           FP             FN           \n",
       "1   50  50 0    1.00  0.15 0.76 ( 0.01 ) 12.04 ( 0.89 ) 1.42 ( 0.11 )\n",
       "2  100  50 0    0.50  0.23 0.84 ( 0.01 ) 11.44 ( 0.76 ) 0.46 ( 0.07 )\n",
       "3  500  50 0    0.10  0.36 0.92 ( 0 )    8.74 ( 0.72 )  0 ( 0 )      \n",
       "4 1000  50 0    0.05  0.41 0.93 ( 0 )    7.56 ( 0.72 )  0 ( 0 )      \n",
       "5   50 100 0    2.00  0.10 0.72 ( 0.01 ) 18.92 ( 1.7 )  1.81 ( 0.12 )\n",
       "6  100 100 0    1.00  0.22 0.82 ( 0.01 ) 12.48 ( 0.9 )  0.96 ( 0.09 )\n",
       "  num_select FDR  ROC_mean FP_mean FN_mean\n",
       "1 15.62      0.61 0.76     12.04   1.42   \n",
       "2 15.98      0.56 0.84     11.44   0.46   \n",
       "3 13.74      0.45 0.92      8.74   0.00   \n",
       "4 12.56      0.4  0.93      7.56   0.00   \n",
       "5 22.11      0.72 0.72     18.92   1.81   \n",
       "6 16.52      0.58 0.82     12.48   0.96   "
      ]
     },
     "metadata": {},
     "output_type": "display_data"
    }
   ],
   "source": [
    "head(result.table_toe)"
   ]
  },
  {
   "cell_type": "code",
   "execution_count": 11,
   "metadata": {},
   "outputs": [
    {
     "data": {
      "text/html": [
       "<table>\n",
       "<caption>A data.frame: 6 × 13</caption>\n",
       "<thead>\n",
       "\t<tr><th></th><th scope=col>N</th><th scope=col>P</th><th scope=col>Corr</th><th scope=col>Ratio</th><th scope=col>Stab</th><th scope=col>ROC</th><th scope=col>FP</th><th scope=col>FN</th><th scope=col>num_select</th><th scope=col>FDR</th><th scope=col>ROC_mean</th><th scope=col>FP_mean</th><th scope=col>FN_mean</th></tr>\n",
       "\t<tr><th></th><th scope=col>&lt;dbl&gt;</th><th scope=col>&lt;dbl&gt;</th><th scope=col>&lt;fct&gt;</th><th scope=col>&lt;dbl&gt;</th><th scope=col>&lt;dbl&gt;</th><th scope=col>&lt;fct&gt;</th><th scope=col>&lt;fct&gt;</th><th scope=col>&lt;fct&gt;</th><th scope=col>&lt;dbl&gt;</th><th scope=col>&lt;fct&gt;</th><th scope=col>&lt;dbl&gt;</th><th scope=col>&lt;dbl&gt;</th><th scope=col>&lt;dbl&gt;</th></tr>\n",
       "</thead>\n",
       "<tbody>\n",
       "\t<tr><th scope=row>11</th><td> 500</td><td> 500</td><td>0</td><td> 1.0</td><td>0.27</td><td>0.92 ( 0 )   </td><td>16.79 ( 1.47 )</td><td>0 ( 0 )      </td><td>21.79</td><td>0.61</td><td>0.92</td><td>16.79</td><td>0.00</td></tr>\n",
       "\t<tr><th scope=row>12</th><td>1000</td><td> 500</td><td>0</td><td> 0.5</td><td>0.36</td><td>0.93 ( 0 )   </td><td>11.47 ( 1.14 )</td><td>0 ( 0 )      </td><td>16.47</td><td>0.48</td><td>0.93</td><td>11.47</td><td>0.00</td></tr>\n",
       "\t<tr><th scope=row>13</th><td>  50</td><td>1000</td><td>0</td><td>20.0</td><td>0.02</td><td>0.67 ( 0.01 )</td><td>72.88 ( 8.55 )</td><td>2.89 ( 0.13 )</td><td>74.99</td><td>0.91</td><td>0.67</td><td>72.88</td><td>2.89</td></tr>\n",
       "\t<tr><th scope=row>14</th><td> 100</td><td>1000</td><td>0</td><td>10.0</td><td>0.09</td><td>0.76 ( 0.01 )</td><td>29.95 ( 4.05 )</td><td>2 ( 0.1 )    </td><td>32.95</td><td>0.77</td><td>0.76</td><td>29.95</td><td>2.00</td></tr>\n",
       "\t<tr><th scope=row>15</th><td> 500</td><td>1000</td><td>0</td><td> 2.0</td><td>0.24</td><td>0.91 ( 0 )   </td><td>19.47 ( 1.76 )</td><td>0 ( 0 )      </td><td>24.47</td><td>0.62</td><td>0.91</td><td>19.47</td><td>0.00</td></tr>\n",
       "\t<tr><th scope=row>16</th><td>1000</td><td>1000</td><td>0</td><td> 1.0</td><td>0.25</td><td>0.93 ( 0 )   </td><td>18.47 ( 1.76 )</td><td>0 ( 0 )      </td><td>23.47</td><td>0.58</td><td>0.93</td><td>18.47</td><td>0.00</td></tr>\n",
       "</tbody>\n",
       "</table>\n"
      ],
      "text/latex": [
       "A data.frame: 6 × 13\n",
       "\\begin{tabular}{r|lllllllllllll}\n",
       "  & N & P & Corr & Ratio & Stab & ROC & FP & FN & num\\_select & FDR & ROC\\_mean & FP\\_mean & FN\\_mean\\\\\n",
       "  & <dbl> & <dbl> & <fct> & <dbl> & <dbl> & <fct> & <fct> & <fct> & <dbl> & <fct> & <dbl> & <dbl> & <dbl>\\\\\n",
       "\\hline\n",
       "\t11 &  500 &  500 & 0 &  1.0 & 0.27 & 0.92 ( 0 )    & 16.79 ( 1.47 ) & 0 ( 0 )       & 21.79 & 0.61 & 0.92 & 16.79 & 0.00\\\\\n",
       "\t12 & 1000 &  500 & 0 &  0.5 & 0.36 & 0.93 ( 0 )    & 11.47 ( 1.14 ) & 0 ( 0 )       & 16.47 & 0.48 & 0.93 & 11.47 & 0.00\\\\\n",
       "\t13 &   50 & 1000 & 0 & 20.0 & 0.02 & 0.67 ( 0.01 ) & 72.88 ( 8.55 ) & 2.89 ( 0.13 ) & 74.99 & 0.91 & 0.67 & 72.88 & 2.89\\\\\n",
       "\t14 &  100 & 1000 & 0 & 10.0 & 0.09 & 0.76 ( 0.01 ) & 29.95 ( 4.05 ) & 2 ( 0.1 )     & 32.95 & 0.77 & 0.76 & 29.95 & 2.00\\\\\n",
       "\t15 &  500 & 1000 & 0 &  2.0 & 0.24 & 0.91 ( 0 )    & 19.47 ( 1.76 ) & 0 ( 0 )       & 24.47 & 0.62 & 0.91 & 19.47 & 0.00\\\\\n",
       "\t16 & 1000 & 1000 & 0 &  1.0 & 0.25 & 0.93 ( 0 )    & 18.47 ( 1.76 ) & 0 ( 0 )       & 23.47 & 0.58 & 0.93 & 18.47 & 0.00\\\\\n",
       "\\end{tabular}\n"
      ],
      "text/markdown": [
       "\n",
       "A data.frame: 6 × 13\n",
       "\n",
       "| <!--/--> | N &lt;dbl&gt; | P &lt;dbl&gt; | Corr &lt;fct&gt; | Ratio &lt;dbl&gt; | Stab &lt;dbl&gt; | ROC &lt;fct&gt; | FP &lt;fct&gt; | FN &lt;fct&gt; | num_select &lt;dbl&gt; | FDR &lt;fct&gt; | ROC_mean &lt;dbl&gt; | FP_mean &lt;dbl&gt; | FN_mean &lt;dbl&gt; |\n",
       "|---|---|---|---|---|---|---|---|---|---|---|---|---|---|\n",
       "| 11 |  500 |  500 | 0 |  1.0 | 0.27 | 0.92 ( 0 )    | 16.79 ( 1.47 ) | 0 ( 0 )       | 21.79 | 0.61 | 0.92 | 16.79 | 0.00 |\n",
       "| 12 | 1000 |  500 | 0 |  0.5 | 0.36 | 0.93 ( 0 )    | 11.47 ( 1.14 ) | 0 ( 0 )       | 16.47 | 0.48 | 0.93 | 11.47 | 0.00 |\n",
       "| 13 |   50 | 1000 | 0 | 20.0 | 0.02 | 0.67 ( 0.01 ) | 72.88 ( 8.55 ) | 2.89 ( 0.13 ) | 74.99 | 0.91 | 0.67 | 72.88 | 2.89 |\n",
       "| 14 |  100 | 1000 | 0 | 10.0 | 0.09 | 0.76 ( 0.01 ) | 29.95 ( 4.05 ) | 2 ( 0.1 )     | 32.95 | 0.77 | 0.76 | 29.95 | 2.00 |\n",
       "| 15 |  500 | 1000 | 0 |  2.0 | 0.24 | 0.91 ( 0 )    | 19.47 ( 1.76 ) | 0 ( 0 )       | 24.47 | 0.62 | 0.91 | 19.47 | 0.00 |\n",
       "| 16 | 1000 | 1000 | 0 |  1.0 | 0.25 | 0.93 ( 0 )    | 18.47 ( 1.76 ) | 0 ( 0 )       | 23.47 | 0.58 | 0.93 | 18.47 | 0.00 |\n",
       "\n"
      ],
      "text/plain": [
       "   N    P    Corr Ratio Stab ROC           FP             FN           \n",
       "11  500  500 0     1.0  0.27 0.92 ( 0 )    16.79 ( 1.47 ) 0 ( 0 )      \n",
       "12 1000  500 0     0.5  0.36 0.93 ( 0 )    11.47 ( 1.14 ) 0 ( 0 )      \n",
       "13   50 1000 0    20.0  0.02 0.67 ( 0.01 ) 72.88 ( 8.55 ) 2.89 ( 0.13 )\n",
       "14  100 1000 0    10.0  0.09 0.76 ( 0.01 ) 29.95 ( 4.05 ) 2 ( 0.1 )    \n",
       "15  500 1000 0     2.0  0.24 0.91 ( 0 )    19.47 ( 1.76 ) 0 ( 0 )      \n",
       "16 1000 1000 0     1.0  0.25 0.93 ( 0 )    18.47 ( 1.76 ) 0 ( 0 )      \n",
       "   num_select FDR  ROC_mean FP_mean FN_mean\n",
       "11 21.79      0.61 0.92     16.79   0.00   \n",
       "12 16.47      0.48 0.93     11.47   0.00   \n",
       "13 74.99      0.91 0.67     72.88   2.89   \n",
       "14 32.95      0.77 0.76     29.95   2.00   \n",
       "15 24.47      0.62 0.91     19.47   0.00   \n",
       "16 23.47      0.58 0.93     18.47   0.00   "
      ]
     },
     "metadata": {},
     "output_type": "display_data"
    }
   ],
   "source": [
    "tail(result.table_toe)"
   ]
  },
  {
   "cell_type": "code",
   "execution_count": 12,
   "metadata": {},
   "outputs": [
    {
     "data": {
      "text/html": [
       "<table>\n",
       "<caption>A data.frame: 16 × 13</caption>\n",
       "<thead>\n",
       "\t<tr><th></th><th scope=col>N</th><th scope=col>P</th><th scope=col>Corr</th><th scope=col>Ratio</th><th scope=col>Stab</th><th scope=col>ROC</th><th scope=col>FP</th><th scope=col>FN</th><th scope=col>num_select</th><th scope=col>FDR</th><th scope=col>ROC_mean</th><th scope=col>FP_mean</th><th scope=col>FN_mean</th></tr>\n",
       "\t<tr><th></th><th scope=col>&lt;dbl&gt;</th><th scope=col>&lt;dbl&gt;</th><th scope=col>&lt;fct&gt;</th><th scope=col>&lt;dbl&gt;</th><th scope=col>&lt;dbl&gt;</th><th scope=col>&lt;fct&gt;</th><th scope=col>&lt;fct&gt;</th><th scope=col>&lt;fct&gt;</th><th scope=col>&lt;dbl&gt;</th><th scope=col>&lt;fct&gt;</th><th scope=col>&lt;dbl&gt;</th><th scope=col>&lt;dbl&gt;</th><th scope=col>&lt;dbl&gt;</th></tr>\n",
       "</thead>\n",
       "<tbody>\n",
       "\t<tr><th scope=row>1</th><td>  50</td><td>  50</td><td>0</td><td> 1.00</td><td>0.15</td><td>0.76 ( 0.01 )</td><td>12.04 ( 0.89 )</td><td>1.42 ( 0.11 )</td><td>15.62</td><td>0.61</td><td>0.76</td><td>12.04</td><td>1.42</td></tr>\n",
       "\t<tr><th scope=row>2</th><td> 100</td><td>  50</td><td>0</td><td> 0.50</td><td>0.23</td><td>0.84 ( 0.01 )</td><td>11.44 ( 0.76 )</td><td>0.46 ( 0.07 )</td><td>15.98</td><td>0.56</td><td>0.84</td><td>11.44</td><td>0.46</td></tr>\n",
       "\t<tr><th scope=row>3</th><td> 500</td><td>  50</td><td>0</td><td> 0.10</td><td>0.36</td><td>0.92 ( 0 )   </td><td>8.74 ( 0.72 ) </td><td>0 ( 0 )      </td><td>13.74</td><td>0.45</td><td>0.92</td><td> 8.74</td><td>0.00</td></tr>\n",
       "\t<tr><th scope=row>4</th><td>1000</td><td>  50</td><td>0</td><td> 0.05</td><td>0.41</td><td>0.93 ( 0 )   </td><td>7.56 ( 0.72 ) </td><td>0 ( 0 )      </td><td>12.56</td><td>0.4 </td><td>0.93</td><td> 7.56</td><td>0.00</td></tr>\n",
       "\t<tr><th scope=row>5</th><td>  50</td><td> 100</td><td>0</td><td> 2.00</td><td>0.10</td><td>0.72 ( 0.01 )</td><td>18.92 ( 1.7 ) </td><td>1.81 ( 0.12 )</td><td>22.11</td><td>0.72</td><td>0.72</td><td>18.92</td><td>1.81</td></tr>\n",
       "\t<tr><th scope=row>6</th><td> 100</td><td> 100</td><td>0</td><td> 1.00</td><td>0.22</td><td>0.82 ( 0.01 )</td><td>12.48 ( 0.9 ) </td><td>0.96 ( 0.09 )</td><td>16.52</td><td>0.58</td><td>0.82</td><td>12.48</td><td>0.96</td></tr>\n",
       "\t<tr><th scope=row>7</th><td> 500</td><td> 100</td><td>0</td><td> 0.20</td><td>0.32</td><td>0.92 ( 0 )   </td><td>11.78 ( 0.99 )</td><td>0 ( 0 )      </td><td>16.78</td><td>0.52</td><td>0.92</td><td>11.78</td><td>0.00</td></tr>\n",
       "\t<tr><th scope=row>8</th><td>1000</td><td> 100</td><td>0</td><td> 0.10</td><td>0.34</td><td>0.93 ( 0 )   </td><td>10.71 ( 1.03 )</td><td>0 ( 0 )      </td><td>15.71</td><td>0.47</td><td>0.93</td><td>10.71</td><td>0.00</td></tr>\n",
       "\t<tr><th scope=row>9</th><td>  50</td><td> 500</td><td>0</td><td>10.00</td><td>0.03</td><td>0.68 ( 0.01 )</td><td>57.17 ( 5.72 )</td><td>2.27 ( 0.13 )</td><td>59.90</td><td>0.88</td><td>0.68</td><td>57.17</td><td>2.27</td></tr>\n",
       "\t<tr><th scope=row>10</th><td> 100</td><td> 500</td><td>0</td><td> 5.00</td><td>0.15</td><td>0.77 ( 0.01 )</td><td>20.84 ( 2.08 )</td><td>1.49 ( 0.1 ) </td><td>24.35</td><td>0.69</td><td>0.77</td><td>20.84</td><td>1.49</td></tr>\n",
       "\t<tr><th scope=row>11</th><td> 500</td><td> 500</td><td>0</td><td> 1.00</td><td>0.27</td><td>0.92 ( 0 )   </td><td>16.79 ( 1.47 )</td><td>0 ( 0 )      </td><td>21.79</td><td>0.61</td><td>0.92</td><td>16.79</td><td>0.00</td></tr>\n",
       "\t<tr><th scope=row>12</th><td>1000</td><td> 500</td><td>0</td><td> 0.50</td><td>0.36</td><td>0.93 ( 0 )   </td><td>11.47 ( 1.14 )</td><td>0 ( 0 )      </td><td>16.47</td><td>0.48</td><td>0.93</td><td>11.47</td><td>0.00</td></tr>\n",
       "\t<tr><th scope=row>13</th><td>  50</td><td>1000</td><td>0</td><td>20.00</td><td>0.02</td><td>0.67 ( 0.01 )</td><td>72.88 ( 8.55 )</td><td>2.89 ( 0.13 )</td><td>74.99</td><td>0.91</td><td>0.67</td><td>72.88</td><td>2.89</td></tr>\n",
       "\t<tr><th scope=row>14</th><td> 100</td><td>1000</td><td>0</td><td>10.00</td><td>0.09</td><td>0.76 ( 0.01 )</td><td>29.95 ( 4.05 )</td><td>2 ( 0.1 )    </td><td>32.95</td><td>0.77</td><td>0.76</td><td>29.95</td><td>2.00</td></tr>\n",
       "\t<tr><th scope=row>15</th><td> 500</td><td>1000</td><td>0</td><td> 2.00</td><td>0.24</td><td>0.91 ( 0 )   </td><td>19.47 ( 1.76 )</td><td>0 ( 0 )      </td><td>24.47</td><td>0.62</td><td>0.91</td><td>19.47</td><td>0.00</td></tr>\n",
       "\t<tr><th scope=row>16</th><td>1000</td><td>1000</td><td>0</td><td> 1.00</td><td>0.25</td><td>0.93 ( 0 )   </td><td>18.47 ( 1.76 )</td><td>0 ( 0 )      </td><td>23.47</td><td>0.58</td><td>0.93</td><td>18.47</td><td>0.00</td></tr>\n",
       "</tbody>\n",
       "</table>\n"
      ],
      "text/latex": [
       "A data.frame: 16 × 13\n",
       "\\begin{tabular}{r|lllllllllllll}\n",
       "  & N & P & Corr & Ratio & Stab & ROC & FP & FN & num\\_select & FDR & ROC\\_mean & FP\\_mean & FN\\_mean\\\\\n",
       "  & <dbl> & <dbl> & <fct> & <dbl> & <dbl> & <fct> & <fct> & <fct> & <dbl> & <fct> & <dbl> & <dbl> & <dbl>\\\\\n",
       "\\hline\n",
       "\t1 &   50 &   50 & 0 &  1.00 & 0.15 & 0.76 ( 0.01 ) & 12.04 ( 0.89 ) & 1.42 ( 0.11 ) & 15.62 & 0.61 & 0.76 & 12.04 & 1.42\\\\\n",
       "\t2 &  100 &   50 & 0 &  0.50 & 0.23 & 0.84 ( 0.01 ) & 11.44 ( 0.76 ) & 0.46 ( 0.07 ) & 15.98 & 0.56 & 0.84 & 11.44 & 0.46\\\\\n",
       "\t3 &  500 &   50 & 0 &  0.10 & 0.36 & 0.92 ( 0 )    & 8.74 ( 0.72 )  & 0 ( 0 )       & 13.74 & 0.45 & 0.92 &  8.74 & 0.00\\\\\n",
       "\t4 & 1000 &   50 & 0 &  0.05 & 0.41 & 0.93 ( 0 )    & 7.56 ( 0.72 )  & 0 ( 0 )       & 12.56 & 0.4  & 0.93 &  7.56 & 0.00\\\\\n",
       "\t5 &   50 &  100 & 0 &  2.00 & 0.10 & 0.72 ( 0.01 ) & 18.92 ( 1.7 )  & 1.81 ( 0.12 ) & 22.11 & 0.72 & 0.72 & 18.92 & 1.81\\\\\n",
       "\t6 &  100 &  100 & 0 &  1.00 & 0.22 & 0.82 ( 0.01 ) & 12.48 ( 0.9 )  & 0.96 ( 0.09 ) & 16.52 & 0.58 & 0.82 & 12.48 & 0.96\\\\\n",
       "\t7 &  500 &  100 & 0 &  0.20 & 0.32 & 0.92 ( 0 )    & 11.78 ( 0.99 ) & 0 ( 0 )       & 16.78 & 0.52 & 0.92 & 11.78 & 0.00\\\\\n",
       "\t8 & 1000 &  100 & 0 &  0.10 & 0.34 & 0.93 ( 0 )    & 10.71 ( 1.03 ) & 0 ( 0 )       & 15.71 & 0.47 & 0.93 & 10.71 & 0.00\\\\\n",
       "\t9 &   50 &  500 & 0 & 10.00 & 0.03 & 0.68 ( 0.01 ) & 57.17 ( 5.72 ) & 2.27 ( 0.13 ) & 59.90 & 0.88 & 0.68 & 57.17 & 2.27\\\\\n",
       "\t10 &  100 &  500 & 0 &  5.00 & 0.15 & 0.77 ( 0.01 ) & 20.84 ( 2.08 ) & 1.49 ( 0.1 )  & 24.35 & 0.69 & 0.77 & 20.84 & 1.49\\\\\n",
       "\t11 &  500 &  500 & 0 &  1.00 & 0.27 & 0.92 ( 0 )    & 16.79 ( 1.47 ) & 0 ( 0 )       & 21.79 & 0.61 & 0.92 & 16.79 & 0.00\\\\\n",
       "\t12 & 1000 &  500 & 0 &  0.50 & 0.36 & 0.93 ( 0 )    & 11.47 ( 1.14 ) & 0 ( 0 )       & 16.47 & 0.48 & 0.93 & 11.47 & 0.00\\\\\n",
       "\t13 &   50 & 1000 & 0 & 20.00 & 0.02 & 0.67 ( 0.01 ) & 72.88 ( 8.55 ) & 2.89 ( 0.13 ) & 74.99 & 0.91 & 0.67 & 72.88 & 2.89\\\\\n",
       "\t14 &  100 & 1000 & 0 & 10.00 & 0.09 & 0.76 ( 0.01 ) & 29.95 ( 4.05 ) & 2 ( 0.1 )     & 32.95 & 0.77 & 0.76 & 29.95 & 2.00\\\\\n",
       "\t15 &  500 & 1000 & 0 &  2.00 & 0.24 & 0.91 ( 0 )    & 19.47 ( 1.76 ) & 0 ( 0 )       & 24.47 & 0.62 & 0.91 & 19.47 & 0.00\\\\\n",
       "\t16 & 1000 & 1000 & 0 &  1.00 & 0.25 & 0.93 ( 0 )    & 18.47 ( 1.76 ) & 0 ( 0 )       & 23.47 & 0.58 & 0.93 & 18.47 & 0.00\\\\\n",
       "\\end{tabular}\n"
      ],
      "text/markdown": [
       "\n",
       "A data.frame: 16 × 13\n",
       "\n",
       "| <!--/--> | N &lt;dbl&gt; | P &lt;dbl&gt; | Corr &lt;fct&gt; | Ratio &lt;dbl&gt; | Stab &lt;dbl&gt; | ROC &lt;fct&gt; | FP &lt;fct&gt; | FN &lt;fct&gt; | num_select &lt;dbl&gt; | FDR &lt;fct&gt; | ROC_mean &lt;dbl&gt; | FP_mean &lt;dbl&gt; | FN_mean &lt;dbl&gt; |\n",
       "|---|---|---|---|---|---|---|---|---|---|---|---|---|---|\n",
       "| 1 |   50 |   50 | 0 |  1.00 | 0.15 | 0.76 ( 0.01 ) | 12.04 ( 0.89 ) | 1.42 ( 0.11 ) | 15.62 | 0.61 | 0.76 | 12.04 | 1.42 |\n",
       "| 2 |  100 |   50 | 0 |  0.50 | 0.23 | 0.84 ( 0.01 ) | 11.44 ( 0.76 ) | 0.46 ( 0.07 ) | 15.98 | 0.56 | 0.84 | 11.44 | 0.46 |\n",
       "| 3 |  500 |   50 | 0 |  0.10 | 0.36 | 0.92 ( 0 )    | 8.74 ( 0.72 )  | 0 ( 0 )       | 13.74 | 0.45 | 0.92 |  8.74 | 0.00 |\n",
       "| 4 | 1000 |   50 | 0 |  0.05 | 0.41 | 0.93 ( 0 )    | 7.56 ( 0.72 )  | 0 ( 0 )       | 12.56 | 0.4  | 0.93 |  7.56 | 0.00 |\n",
       "| 5 |   50 |  100 | 0 |  2.00 | 0.10 | 0.72 ( 0.01 ) | 18.92 ( 1.7 )  | 1.81 ( 0.12 ) | 22.11 | 0.72 | 0.72 | 18.92 | 1.81 |\n",
       "| 6 |  100 |  100 | 0 |  1.00 | 0.22 | 0.82 ( 0.01 ) | 12.48 ( 0.9 )  | 0.96 ( 0.09 ) | 16.52 | 0.58 | 0.82 | 12.48 | 0.96 |\n",
       "| 7 |  500 |  100 | 0 |  0.20 | 0.32 | 0.92 ( 0 )    | 11.78 ( 0.99 ) | 0 ( 0 )       | 16.78 | 0.52 | 0.92 | 11.78 | 0.00 |\n",
       "| 8 | 1000 |  100 | 0 |  0.10 | 0.34 | 0.93 ( 0 )    | 10.71 ( 1.03 ) | 0 ( 0 )       | 15.71 | 0.47 | 0.93 | 10.71 | 0.00 |\n",
       "| 9 |   50 |  500 | 0 | 10.00 | 0.03 | 0.68 ( 0.01 ) | 57.17 ( 5.72 ) | 2.27 ( 0.13 ) | 59.90 | 0.88 | 0.68 | 57.17 | 2.27 |\n",
       "| 10 |  100 |  500 | 0 |  5.00 | 0.15 | 0.77 ( 0.01 ) | 20.84 ( 2.08 ) | 1.49 ( 0.1 )  | 24.35 | 0.69 | 0.77 | 20.84 | 1.49 |\n",
       "| 11 |  500 |  500 | 0 |  1.00 | 0.27 | 0.92 ( 0 )    | 16.79 ( 1.47 ) | 0 ( 0 )       | 21.79 | 0.61 | 0.92 | 16.79 | 0.00 |\n",
       "| 12 | 1000 |  500 | 0 |  0.50 | 0.36 | 0.93 ( 0 )    | 11.47 ( 1.14 ) | 0 ( 0 )       | 16.47 | 0.48 | 0.93 | 11.47 | 0.00 |\n",
       "| 13 |   50 | 1000 | 0 | 20.00 | 0.02 | 0.67 ( 0.01 ) | 72.88 ( 8.55 ) | 2.89 ( 0.13 ) | 74.99 | 0.91 | 0.67 | 72.88 | 2.89 |\n",
       "| 14 |  100 | 1000 | 0 | 10.00 | 0.09 | 0.76 ( 0.01 ) | 29.95 ( 4.05 ) | 2 ( 0.1 )     | 32.95 | 0.77 | 0.76 | 29.95 | 2.00 |\n",
       "| 15 |  500 | 1000 | 0 |  2.00 | 0.24 | 0.91 ( 0 )    | 19.47 ( 1.76 ) | 0 ( 0 )       | 24.47 | 0.62 | 0.91 | 19.47 | 0.00 |\n",
       "| 16 | 1000 | 1000 | 0 |  1.00 | 0.25 | 0.93 ( 0 )    | 18.47 ( 1.76 ) | 0 ( 0 )       | 23.47 | 0.58 | 0.93 | 18.47 | 0.00 |\n",
       "\n"
      ],
      "text/plain": [
       "   N    P    Corr Ratio Stab ROC           FP             FN           \n",
       "1    50   50 0     1.00 0.15 0.76 ( 0.01 ) 12.04 ( 0.89 ) 1.42 ( 0.11 )\n",
       "2   100   50 0     0.50 0.23 0.84 ( 0.01 ) 11.44 ( 0.76 ) 0.46 ( 0.07 )\n",
       "3   500   50 0     0.10 0.36 0.92 ( 0 )    8.74 ( 0.72 )  0 ( 0 )      \n",
       "4  1000   50 0     0.05 0.41 0.93 ( 0 )    7.56 ( 0.72 )  0 ( 0 )      \n",
       "5    50  100 0     2.00 0.10 0.72 ( 0.01 ) 18.92 ( 1.7 )  1.81 ( 0.12 )\n",
       "6   100  100 0     1.00 0.22 0.82 ( 0.01 ) 12.48 ( 0.9 )  0.96 ( 0.09 )\n",
       "7   500  100 0     0.20 0.32 0.92 ( 0 )    11.78 ( 0.99 ) 0 ( 0 )      \n",
       "8  1000  100 0     0.10 0.34 0.93 ( 0 )    10.71 ( 1.03 ) 0 ( 0 )      \n",
       "9    50  500 0    10.00 0.03 0.68 ( 0.01 ) 57.17 ( 5.72 ) 2.27 ( 0.13 )\n",
       "10  100  500 0     5.00 0.15 0.77 ( 0.01 ) 20.84 ( 2.08 ) 1.49 ( 0.1 ) \n",
       "11  500  500 0     1.00 0.27 0.92 ( 0 )    16.79 ( 1.47 ) 0 ( 0 )      \n",
       "12 1000  500 0     0.50 0.36 0.93 ( 0 )    11.47 ( 1.14 ) 0 ( 0 )      \n",
       "13   50 1000 0    20.00 0.02 0.67 ( 0.01 ) 72.88 ( 8.55 ) 2.89 ( 0.13 )\n",
       "14  100 1000 0    10.00 0.09 0.76 ( 0.01 ) 29.95 ( 4.05 ) 2 ( 0.1 )    \n",
       "15  500 1000 0     2.00 0.24 0.91 ( 0 )    19.47 ( 1.76 ) 0 ( 0 )      \n",
       "16 1000 1000 0     1.00 0.25 0.93 ( 0 )    18.47 ( 1.76 ) 0 ( 0 )      \n",
       "   num_select FDR  ROC_mean FP_mean FN_mean\n",
       "1  15.62      0.61 0.76     12.04   1.42   \n",
       "2  15.98      0.56 0.84     11.44   0.46   \n",
       "3  13.74      0.45 0.92      8.74   0.00   \n",
       "4  12.56      0.4  0.93      7.56   0.00   \n",
       "5  22.11      0.72 0.72     18.92   1.81   \n",
       "6  16.52      0.58 0.82     12.48   0.96   \n",
       "7  16.78      0.52 0.92     11.78   0.00   \n",
       "8  15.71      0.47 0.93     10.71   0.00   \n",
       "9  59.90      0.88 0.68     57.17   2.27   \n",
       "10 24.35      0.69 0.77     20.84   1.49   \n",
       "11 21.79      0.61 0.92     16.79   0.00   \n",
       "12 16.47      0.48 0.93     11.47   0.00   \n",
       "13 74.99      0.91 0.67     72.88   2.89   \n",
       "14 32.95      0.77 0.76     29.95   2.00   \n",
       "15 24.47      0.62 0.91     19.47   0.00   \n",
       "16 23.47      0.58 0.93     18.47   0.00   "
      ]
     },
     "metadata": {},
     "output_type": "display_data"
    }
   ],
   "source": [
    "result.table_toe\n",
    "\n",
    "## export\n",
    "write.table(result.table_toe, '../results_summary_bin/sim_ind_Elnet_binary.txt', sep='\\t', row.names=F)"
   ]
  },
  {
   "cell_type": "code",
   "execution_count": null,
   "metadata": {},
   "outputs": [],
   "source": []
  }
 ],
 "metadata": {
  "kernelspec": {
   "display_name": "R",
   "language": "R",
   "name": "ir"
  },
  "language_info": {
   "codemirror_mode": "r",
   "file_extension": ".r",
   "mimetype": "text/x-r-source",
   "name": "R",
   "pygments_lexer": "r",
   "version": "3.6.1"
  }
 },
 "nbformat": 4,
 "nbformat_minor": 2
}
