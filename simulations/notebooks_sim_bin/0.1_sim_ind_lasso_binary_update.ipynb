{
 "cells": [
  {
   "cell_type": "markdown",
   "metadata": {},
   "source": [
    "### summarize lasso results on Independent Simulation Scenarios for binary outcome"
   ]
  },
  {
   "cell_type": "code",
   "execution_count": 1,
   "metadata": {},
   "outputs": [],
   "source": [
    "dir = '/panfs/panfs1.ucsd.edu/panscratch/lij014/Stability_2020/sim_data'"
   ]
  },
  {
   "cell_type": "code",
   "execution_count": 2,
   "metadata": {},
   "outputs": [],
   "source": [
    "dim.list = list()\n",
    "size = c(50, 100, 500, 1000)\n",
    "idx = 0\n",
    "for (P in size){\n",
    "    for (N in size){\n",
    "        idx = idx + 1\n",
    "        dim.list[[idx]] = c(P=P, N=N)\n",
    "    }\n",
    "}\n",
    "\n",
    "files = NULL\n",
    "for (dim in dim.list){\n",
    "    p = dim[1]\n",
    "    n = dim[2]\n",
    "    files = cbind(files, paste0(dir, '/sim_independent_', paste('P', p, 'N', n, sep='_'), '.RData'))\n",
    "}"
   ]
  },
  {
   "cell_type": "code",
   "execution_count": 3,
   "metadata": {},
   "outputs": [
    {
     "data": {
      "text/html": [
       "16"
      ],
      "text/latex": [
       "16"
      ],
      "text/markdown": [
       "16"
      ],
      "text/plain": [
       "[1] 16"
      ]
     },
     "metadata": {},
     "output_type": "display_data"
    }
   ],
   "source": [
    "length(files)"
   ]
  },
  {
   "cell_type": "code",
   "execution_count": 4,
   "metadata": {},
   "outputs": [
    {
     "name": "stdout",
     "output_type": "stream",
     "text": [
      "[1] \"indx: 1\"\n",
      "[1] \"indx: 2\"\n",
      "[1] \"indx: 3\"\n",
      "[1] \"indx: 4\"\n",
      "[1] \"indx: 5\"\n",
      "[1] \"indx: 6\"\n",
      "[1] \"indx: 7\"\n",
      "[1] \"indx: 8\"\n",
      "[1] \"indx: 9\"\n",
      "[1] \"indx: 10\"\n",
      "[1] \"indx: 11\"\n",
      "[1] \"indx: 12\"\n",
      "[1] \"indx: 13\"\n",
      "[1] \"indx: 14\"\n",
      "[1] \"indx: 15\"\n",
      "[1] \"indx: 16\"\n"
     ]
    }
   ],
   "source": [
    "avg_FDR = NULL\n",
    "table_toe = NULL\n",
    "tmp_num_select = rep(0, length(files))\n",
    "for (i in 1:length(files)){\n",
    "    print(paste0('indx: ', i))\n",
    "    load(paste0(dir, '/binary_update/ind_Lasso_binary_', i, '.RData')) \n",
    "    \n",
    "    table_toe = rbind(table_toe, results_ind_lasso[c('n', 'p', 'rou', 'FP', 'FN', 'ROC', 'Stab')])\n",
    "    tmp_num_select[i] = mean(rowSums(results_ind_lasso$Stab.table))\n",
    "    \n",
    "    # calculate FDR\n",
    "    load(file_name, dat <- new.env())\n",
    "    sub = dat$sim_array[[i]]\n",
    "    p = sub$p # take true values from 1st replicate of each simulated data\n",
    "    coef = sub$beta\n",
    "    coef.true = which(coef != 0)\n",
    "    \n",
    "    tt = results_ind_lasso$Stab.table\n",
    "    FDR = NULL # false positive rate\n",
    "    for (r in 1:nrow(tt)){\n",
    "        FDR = c(FDR, length(setdiff(which(tt[r, ] !=0), coef.true))/sum(tt[r, ]))\n",
    "\n",
    "    }\n",
    "    \n",
    "    avg_FDR = c(avg_FDR, mean(FDR, na.rm=T))\n",
    "}\n",
    "table_toe = as.data.frame(table_toe)\n",
    "table_toe$num_select = tmp_num_select\n",
    "table_toe$FDR = round(avg_FDR,2)"
   ]
  },
  {
   "cell_type": "code",
   "execution_count": 5,
   "metadata": {},
   "outputs": [
    {
     "data": {
      "text/html": [
       "<table>\n",
       "<caption>A data.frame: 6 × 9</caption>\n",
       "<thead>\n",
       "\t<tr><th></th><th scope=col>n</th><th scope=col>p</th><th scope=col>rou</th><th scope=col>FP</th><th scope=col>FN</th><th scope=col>ROC</th><th scope=col>Stab</th><th scope=col>num_select</th><th scope=col>FDR</th></tr>\n",
       "\t<tr><th></th><th scope=col>&lt;list&gt;</th><th scope=col>&lt;list&gt;</th><th scope=col>&lt;list&gt;</th><th scope=col>&lt;list&gt;</th><th scope=col>&lt;list&gt;</th><th scope=col>&lt;list&gt;</th><th scope=col>&lt;list&gt;</th><th scope=col>&lt;dbl&gt;</th><th scope=col>&lt;dbl&gt;</th></tr>\n",
       "</thead>\n",
       "<tbody>\n",
       "\t<tr><th scope=row>1</th><td>50</td><td>50</td><td>0</td><td>3.69 ( 0.25 )</td><td>2.5 ( 0.12 )</td><td>0.74 ( 0.01 )</td><td>0.33</td><td> 6.19</td><td>0.37</td></tr>\n",
       "\t<tr><th scope=row>2</th><td>100</td><td>50</td><td>0</td><td>7.16 ( 0.37 )</td><td>0.64 ( 0.08 )</td><td>0.85 ( 0.01 )</td><td>0.35</td><td>11.52</td><td>0.48</td></tr>\n",
       "\t<tr><th scope=row>3</th><td>500</td><td>50</td><td>0</td><td>5.21 ( 0.21 )</td><td>0 ( 0 )</td><td>0.93 ( 0 )</td><td>0.53</td><td>10.21</td><td>0.39</td></tr>\n",
       "\t<tr><th scope=row>4</th><td>1000</td><td>50</td><td>0</td><td>2.25 ( 0.11 )</td><td>0 ( 0 )</td><td>0.93 ( 0 )</td><td>0.8</td><td> 7.25</td><td>0.15</td></tr>\n",
       "\t<tr><th scope=row>5</th><td>50</td><td>100</td><td>0</td><td>5.13 ( 0.34 )</td><td>2.93 ( 0.1 )</td><td>0.73 ( 0.01 )</td><td>0.25</td><td> 7.20</td><td>0.50</td></tr>\n",
       "\t<tr><th scope=row>6</th><td>100</td><td>100</td><td>0</td><td>8.22 ( 0.44 )</td><td>1.03 ( 0.09 )</td><td>0.83 ( 0.01 )</td><td>0.32</td><td>12.19</td><td>0.54</td></tr>\n",
       "</tbody>\n",
       "</table>\n"
      ],
      "text/latex": [
       "A data.frame: 6 × 9\n",
       "\\begin{tabular}{r|lllllllll}\n",
       "  & n & p & rou & FP & FN & ROC & Stab & num\\_select & FDR\\\\\n",
       "  & <list> & <list> & <list> & <list> & <list> & <list> & <list> & <dbl> & <dbl>\\\\\n",
       "\\hline\n",
       "\t1 & 50 & 50 & 0 & 3.69 ( 0.25 ) & 2.5 ( 0.12 ) & 0.74 ( 0.01 ) & 0.33 &  6.19 & 0.37\\\\\n",
       "\t2 & 100 & 50 & 0 & 7.16 ( 0.37 ) & 0.64 ( 0.08 ) & 0.85 ( 0.01 ) & 0.35 & 11.52 & 0.48\\\\\n",
       "\t3 & 500 & 50 & 0 & 5.21 ( 0.21 ) & 0 ( 0 ) & 0.93 ( 0 ) & 0.53 & 10.21 & 0.39\\\\\n",
       "\t4 & 1000 & 50 & 0 & 2.25 ( 0.11 ) & 0 ( 0 ) & 0.93 ( 0 ) & 0.8 &  7.25 & 0.15\\\\\n",
       "\t5 & 50 & 100 & 0 & 5.13 ( 0.34 ) & 2.93 ( 0.1 ) & 0.73 ( 0.01 ) & 0.25 &  7.20 & 0.50\\\\\n",
       "\t6 & 100 & 100 & 0 & 8.22 ( 0.44 ) & 1.03 ( 0.09 ) & 0.83 ( 0.01 ) & 0.32 & 12.19 & 0.54\\\\\n",
       "\\end{tabular}\n"
      ],
      "text/markdown": [
       "\n",
       "A data.frame: 6 × 9\n",
       "\n",
       "| <!--/--> | n &lt;list&gt; | p &lt;list&gt; | rou &lt;list&gt; | FP &lt;list&gt; | FN &lt;list&gt; | ROC &lt;list&gt; | Stab &lt;list&gt; | num_select &lt;dbl&gt; | FDR &lt;dbl&gt; |\n",
       "|---|---|---|---|---|---|---|---|---|---|\n",
       "| 1 | 50 | 50 | 0 | 3.69 ( 0.25 ) | 2.5 ( 0.12 ) | 0.74 ( 0.01 ) | 0.33 |  6.19 | 0.37 |\n",
       "| 2 | 100 | 50 | 0 | 7.16 ( 0.37 ) | 0.64 ( 0.08 ) | 0.85 ( 0.01 ) | 0.35 | 11.52 | 0.48 |\n",
       "| 3 | 500 | 50 | 0 | 5.21 ( 0.21 ) | 0 ( 0 ) | 0.93 ( 0 ) | 0.53 | 10.21 | 0.39 |\n",
       "| 4 | 1000 | 50 | 0 | 2.25 ( 0.11 ) | 0 ( 0 ) | 0.93 ( 0 ) | 0.8 |  7.25 | 0.15 |\n",
       "| 5 | 50 | 100 | 0 | 5.13 ( 0.34 ) | 2.93 ( 0.1 ) | 0.73 ( 0.01 ) | 0.25 |  7.20 | 0.50 |\n",
       "| 6 | 100 | 100 | 0 | 8.22 ( 0.44 ) | 1.03 ( 0.09 ) | 0.83 ( 0.01 ) | 0.32 | 12.19 | 0.54 |\n",
       "\n"
      ],
      "text/plain": [
       "  n    p   rou FP            FN            ROC           Stab num_select FDR \n",
       "1 50   50  0   3.69 ( 0.25 ) 2.5 ( 0.12 )  0.74 ( 0.01 ) 0.33  6.19      0.37\n",
       "2 100  50  0   7.16 ( 0.37 ) 0.64 ( 0.08 ) 0.85 ( 0.01 ) 0.35 11.52      0.48\n",
       "3 500  50  0   5.21 ( 0.21 ) 0 ( 0 )       0.93 ( 0 )    0.53 10.21      0.39\n",
       "4 1000 50  0   2.25 ( 0.11 ) 0 ( 0 )       0.93 ( 0 )    0.8   7.25      0.15\n",
       "5 50   100 0   5.13 ( 0.34 ) 2.93 ( 0.1 )  0.73 ( 0.01 ) 0.25  7.20      0.50\n",
       "6 100  100 0   8.22 ( 0.44 ) 1.03 ( 0.09 ) 0.83 ( 0.01 ) 0.32 12.19      0.54"
      ]
     },
     "metadata": {},
     "output_type": "display_data"
    }
   ],
   "source": [
    "head(table_toe)"
   ]
  },
  {
   "cell_type": "code",
   "execution_count": 6,
   "metadata": {},
   "outputs": [
    {
     "data": {
      "text/html": [
       "<table>\n",
       "<caption>A data.frame: 6 × 9</caption>\n",
       "<thead>\n",
       "\t<tr><th></th><th scope=col>n</th><th scope=col>p</th><th scope=col>rou</th><th scope=col>FP</th><th scope=col>FN</th><th scope=col>ROC</th><th scope=col>Stab</th><th scope=col>num_select</th><th scope=col>FDR</th></tr>\n",
       "\t<tr><th></th><th scope=col>&lt;list&gt;</th><th scope=col>&lt;list&gt;</th><th scope=col>&lt;list&gt;</th><th scope=col>&lt;list&gt;</th><th scope=col>&lt;list&gt;</th><th scope=col>&lt;list&gt;</th><th scope=col>&lt;list&gt;</th><th scope=col>&lt;dbl&gt;</th><th scope=col>&lt;dbl&gt;</th></tr>\n",
       "</thead>\n",
       "<tbody>\n",
       "\t<tr><th scope=row>11</th><td>500</td><td>500</td><td>0</td><td>23.83 ( 0.69 )</td><td>0 ( 0 )</td><td>0.92 ( 0 )</td><td>0.2</td><td>28.83</td><td>0.78</td></tr>\n",
       "\t<tr><th scope=row>12</th><td>1000</td><td>500</td><td>0</td><td>11.38 ( 0.41 )</td><td>0 ( 0 )</td><td>0.93 ( 0 )</td><td>0.36</td><td>16.38</td><td>0.60</td></tr>\n",
       "\t<tr><th scope=row>13</th><td>50</td><td>1000</td><td>0</td><td>9.77 ( 0.24 )</td><td>4.03 ( 0.08 )</td><td>0.67 ( 0.01 )</td><td>0.09</td><td>10.74</td><td>0.81</td></tr>\n",
       "\t<tr><th scope=row>14</th><td>100</td><td>1000</td><td>0</td><td>11.91 ( 0.8 )</td><td>2.32 ( 0.1 )</td><td>0.78 ( 0.01 )</td><td>0.2</td><td>14.59</td><td>0.66</td></tr>\n",
       "\t<tr><th scope=row>15</th><td>500</td><td>1000</td><td>0</td><td>30.84 ( 0.92 )</td><td>0 ( 0 )</td><td>0.91 ( 0 )</td><td>0.16</td><td>35.84</td><td>0.82</td></tr>\n",
       "\t<tr><th scope=row>16</th><td>1000</td><td>1000</td><td>0</td><td>19.96 ( 0.61 )</td><td>0 ( 0 )</td><td>0.93 ( 0 )</td><td>0.24</td><td>24.96</td><td>0.74</td></tr>\n",
       "</tbody>\n",
       "</table>\n"
      ],
      "text/latex": [
       "A data.frame: 6 × 9\n",
       "\\begin{tabular}{r|lllllllll}\n",
       "  & n & p & rou & FP & FN & ROC & Stab & num\\_select & FDR\\\\\n",
       "  & <list> & <list> & <list> & <list> & <list> & <list> & <list> & <dbl> & <dbl>\\\\\n",
       "\\hline\n",
       "\t11 & 500 & 500 & 0 & 23.83 ( 0.69 ) & 0 ( 0 ) & 0.92 ( 0 ) & 0.2 & 28.83 & 0.78\\\\\n",
       "\t12 & 1000 & 500 & 0 & 11.38 ( 0.41 ) & 0 ( 0 ) & 0.93 ( 0 ) & 0.36 & 16.38 & 0.60\\\\\n",
       "\t13 & 50 & 1000 & 0 & 9.77 ( 0.24 ) & 4.03 ( 0.08 ) & 0.67 ( 0.01 ) & 0.09 & 10.74 & 0.81\\\\\n",
       "\t14 & 100 & 1000 & 0 & 11.91 ( 0.8 ) & 2.32 ( 0.1 ) & 0.78 ( 0.01 ) & 0.2 & 14.59 & 0.66\\\\\n",
       "\t15 & 500 & 1000 & 0 & 30.84 ( 0.92 ) & 0 ( 0 ) & 0.91 ( 0 ) & 0.16 & 35.84 & 0.82\\\\\n",
       "\t16 & 1000 & 1000 & 0 & 19.96 ( 0.61 ) & 0 ( 0 ) & 0.93 ( 0 ) & 0.24 & 24.96 & 0.74\\\\\n",
       "\\end{tabular}\n"
      ],
      "text/markdown": [
       "\n",
       "A data.frame: 6 × 9\n",
       "\n",
       "| <!--/--> | n &lt;list&gt; | p &lt;list&gt; | rou &lt;list&gt; | FP &lt;list&gt; | FN &lt;list&gt; | ROC &lt;list&gt; | Stab &lt;list&gt; | num_select &lt;dbl&gt; | FDR &lt;dbl&gt; |\n",
       "|---|---|---|---|---|---|---|---|---|---|\n",
       "| 11 | 500 | 500 | 0 | 23.83 ( 0.69 ) | 0 ( 0 ) | 0.92 ( 0 ) | 0.2 | 28.83 | 0.78 |\n",
       "| 12 | 1000 | 500 | 0 | 11.38 ( 0.41 ) | 0 ( 0 ) | 0.93 ( 0 ) | 0.36 | 16.38 | 0.60 |\n",
       "| 13 | 50 | 1000 | 0 | 9.77 ( 0.24 ) | 4.03 ( 0.08 ) | 0.67 ( 0.01 ) | 0.09 | 10.74 | 0.81 |\n",
       "| 14 | 100 | 1000 | 0 | 11.91 ( 0.8 ) | 2.32 ( 0.1 ) | 0.78 ( 0.01 ) | 0.2 | 14.59 | 0.66 |\n",
       "| 15 | 500 | 1000 | 0 | 30.84 ( 0.92 ) | 0 ( 0 ) | 0.91 ( 0 ) | 0.16 | 35.84 | 0.82 |\n",
       "| 16 | 1000 | 1000 | 0 | 19.96 ( 0.61 ) | 0 ( 0 ) | 0.93 ( 0 ) | 0.24 | 24.96 | 0.74 |\n",
       "\n"
      ],
      "text/plain": [
       "   n    p    rou FP             FN            ROC           Stab num_select\n",
       "11 500  500  0   23.83 ( 0.69 ) 0 ( 0 )       0.92 ( 0 )    0.2  28.83     \n",
       "12 1000 500  0   11.38 ( 0.41 ) 0 ( 0 )       0.93 ( 0 )    0.36 16.38     \n",
       "13 50   1000 0   9.77 ( 0.24 )  4.03 ( 0.08 ) 0.67 ( 0.01 ) 0.09 10.74     \n",
       "14 100  1000 0   11.91 ( 0.8 )  2.32 ( 0.1 )  0.78 ( 0.01 ) 0.2  14.59     \n",
       "15 500  1000 0   30.84 ( 0.92 ) 0 ( 0 )       0.91 ( 0 )    0.16 35.84     \n",
       "16 1000 1000 0   19.96 ( 0.61 ) 0 ( 0 )       0.93 ( 0 )    0.24 24.96     \n",
       "   FDR \n",
       "11 0.78\n",
       "12 0.60\n",
       "13 0.81\n",
       "14 0.66\n",
       "15 0.82\n",
       "16 0.74"
      ]
     },
     "metadata": {},
     "output_type": "display_data"
    }
   ],
   "source": [
    "tail(table_toe)"
   ]
  },
  {
   "cell_type": "code",
   "execution_count": 7,
   "metadata": {},
   "outputs": [
    {
     "name": "stderr",
     "output_type": "stream",
     "text": [
      "extract_numeric() is deprecated: please use readr::parse_number() instead\n",
      "\n",
      "extract_numeric() is deprecated: please use readr::parse_number() instead\n",
      "\n"
     ]
    }
   ],
   "source": [
    "# export result\n",
    "result.table_toe <- apply(table_toe,2,as.character)\n",
    "rownames(result.table_toe) = rownames(table_toe)\n",
    "result.table_toe = as.data.frame(result.table_toe)\n",
    "\n",
    "# extract numbers only for 'n' & 'p'\n",
    "result.table_toe$n = tidyr::extract_numeric(result.table_toe$n)\n",
    "result.table_toe$p = tidyr::extract_numeric(result.table_toe$p)\n",
    "result.table_toe$ratio = result.table_toe$p / result.table_toe$n\n",
    "\n",
    "result.table_toe = result.table_toe[c('n', 'p', 'rou', 'ratio', 'Stab', 'ROC', 'FP', 'FN', 'num_select', 'FDR')]\n",
    "colnames(result.table_toe)[1:4] = c('N', 'P', 'Corr', 'Ratio')"
   ]
  },
  {
   "cell_type": "code",
   "execution_count": 8,
   "metadata": {},
   "outputs": [],
   "source": [
    "# convert interested measurements to be numeric\n",
    "result.table_toe$Stab = as.numeric(as.character(result.table_toe$Stab))\n",
    "result.table_toe$num_select = as.numeric(as.character(result.table_toe$num_select))\n",
    "\n",
    "result.table_toe$ROC_mean = as.numeric(sub(\"\\\\(.*\", \"\", result.table_toe$ROC))\n",
    "result.table_toe$FP_mean = as.numeric(sub(\"\\\\(.*\", \"\", result.table_toe$FP))\n",
    "result.table_toe$FN_mean = as.numeric(sub(\"\\\\(.*\", \"\", result.table_toe$FN))"
   ]
  },
  {
   "cell_type": "code",
   "execution_count": 9,
   "metadata": {},
   "outputs": [
    {
     "data": {
      "text/html": [
       "<table>\n",
       "<caption>A data.frame: 0 × 13</caption>\n",
       "<thead>\n",
       "\t<tr><th scope=col>N</th><th scope=col>P</th><th scope=col>Corr</th><th scope=col>Ratio</th><th scope=col>Stab</th><th scope=col>ROC</th><th scope=col>FP</th><th scope=col>FN</th><th scope=col>num_select</th><th scope=col>FDR</th><th scope=col>ROC_mean</th><th scope=col>FP_mean</th><th scope=col>FN_mean</th></tr>\n",
       "\t<tr><th scope=col>&lt;dbl&gt;</th><th scope=col>&lt;dbl&gt;</th><th scope=col>&lt;fct&gt;</th><th scope=col>&lt;dbl&gt;</th><th scope=col>&lt;dbl&gt;</th><th scope=col>&lt;fct&gt;</th><th scope=col>&lt;fct&gt;</th><th scope=col>&lt;fct&gt;</th><th scope=col>&lt;dbl&gt;</th><th scope=col>&lt;fct&gt;</th><th scope=col>&lt;dbl&gt;</th><th scope=col>&lt;dbl&gt;</th><th scope=col>&lt;dbl&gt;</th></tr>\n",
       "</thead>\n",
       "<tbody>\n",
       "</tbody>\n",
       "</table>\n"
      ],
      "text/latex": [
       "A data.frame: 0 × 13\n",
       "\\begin{tabular}{lllllllllllll}\n",
       " N & P & Corr & Ratio & Stab & ROC & FP & FN & num\\_select & FDR & ROC\\_mean & FP\\_mean & FN\\_mean\\\\\n",
       " <dbl> & <dbl> & <fct> & <dbl> & <dbl> & <fct> & <fct> & <fct> & <dbl> & <fct> & <dbl> & <dbl> & <dbl>\\\\\n",
       "\\hline\n",
       "\\end{tabular}\n"
      ],
      "text/markdown": [
       "\n",
       "A data.frame: 0 × 13\n",
       "\n",
       "| N &lt;dbl&gt; | P &lt;dbl&gt; | Corr &lt;fct&gt; | Ratio &lt;dbl&gt; | Stab &lt;dbl&gt; | ROC &lt;fct&gt; | FP &lt;fct&gt; | FN &lt;fct&gt; | num_select &lt;dbl&gt; | FDR &lt;fct&gt; | ROC_mean &lt;dbl&gt; | FP_mean &lt;dbl&gt; | FN_mean &lt;dbl&gt; |\n",
       "|---|---|---|---|---|---|---|---|---|---|---|---|---|\n",
       "\n"
      ],
      "text/plain": [
       "     N P Corr Ratio Stab ROC FP FN num_select FDR ROC_mean FP_mean FN_mean"
      ]
     },
     "metadata": {},
     "output_type": "display_data"
    }
   ],
   "source": [
    "# check whether missing values exists\n",
    "result.table_toe[rowSums(is.na(result.table_toe)) > 0,]"
   ]
  },
  {
   "cell_type": "code",
   "execution_count": 10,
   "metadata": {},
   "outputs": [
    {
     "data": {
      "text/html": [
       "<table>\n",
       "<caption>A data.frame: 6 × 13</caption>\n",
       "<thead>\n",
       "\t<tr><th></th><th scope=col>N</th><th scope=col>P</th><th scope=col>Corr</th><th scope=col>Ratio</th><th scope=col>Stab</th><th scope=col>ROC</th><th scope=col>FP</th><th scope=col>FN</th><th scope=col>num_select</th><th scope=col>FDR</th><th scope=col>ROC_mean</th><th scope=col>FP_mean</th><th scope=col>FN_mean</th></tr>\n",
       "\t<tr><th></th><th scope=col>&lt;dbl&gt;</th><th scope=col>&lt;dbl&gt;</th><th scope=col>&lt;fct&gt;</th><th scope=col>&lt;dbl&gt;</th><th scope=col>&lt;dbl&gt;</th><th scope=col>&lt;fct&gt;</th><th scope=col>&lt;fct&gt;</th><th scope=col>&lt;fct&gt;</th><th scope=col>&lt;dbl&gt;</th><th scope=col>&lt;fct&gt;</th><th scope=col>&lt;dbl&gt;</th><th scope=col>&lt;dbl&gt;</th><th scope=col>&lt;dbl&gt;</th></tr>\n",
       "</thead>\n",
       "<tbody>\n",
       "\t<tr><th scope=row>1</th><td>  50</td><td> 50</td><td>0</td><td>1.00</td><td>0.33</td><td>0.74 ( 0.01 )</td><td>3.69 ( 0.25 )</td><td>2.5 ( 0.12 ) </td><td> 6.19</td><td>0.37</td><td>0.74</td><td>3.69</td><td>2.50</td></tr>\n",
       "\t<tr><th scope=row>2</th><td> 100</td><td> 50</td><td>0</td><td>0.50</td><td>0.35</td><td>0.85 ( 0.01 )</td><td>7.16 ( 0.37 )</td><td>0.64 ( 0.08 )</td><td>11.52</td><td>0.48</td><td>0.85</td><td>7.16</td><td>0.64</td></tr>\n",
       "\t<tr><th scope=row>3</th><td> 500</td><td> 50</td><td>0</td><td>0.10</td><td>0.53</td><td>0.93 ( 0 )   </td><td>5.21 ( 0.21 )</td><td>0 ( 0 )      </td><td>10.21</td><td>0.39</td><td>0.93</td><td>5.21</td><td>0.00</td></tr>\n",
       "\t<tr><th scope=row>4</th><td>1000</td><td> 50</td><td>0</td><td>0.05</td><td>0.80</td><td>0.93 ( 0 )   </td><td>2.25 ( 0.11 )</td><td>0 ( 0 )      </td><td> 7.25</td><td>0.15</td><td>0.93</td><td>2.25</td><td>0.00</td></tr>\n",
       "\t<tr><th scope=row>5</th><td>  50</td><td>100</td><td>0</td><td>2.00</td><td>0.25</td><td>0.73 ( 0.01 )</td><td>5.13 ( 0.34 )</td><td>2.93 ( 0.1 ) </td><td> 7.20</td><td>0.5 </td><td>0.73</td><td>5.13</td><td>2.93</td></tr>\n",
       "\t<tr><th scope=row>6</th><td> 100</td><td>100</td><td>0</td><td>1.00</td><td>0.32</td><td>0.83 ( 0.01 )</td><td>8.22 ( 0.44 )</td><td>1.03 ( 0.09 )</td><td>12.19</td><td>0.54</td><td>0.83</td><td>8.22</td><td>1.03</td></tr>\n",
       "</tbody>\n",
       "</table>\n"
      ],
      "text/latex": [
       "A data.frame: 6 × 13\n",
       "\\begin{tabular}{r|lllllllllllll}\n",
       "  & N & P & Corr & Ratio & Stab & ROC & FP & FN & num\\_select & FDR & ROC\\_mean & FP\\_mean & FN\\_mean\\\\\n",
       "  & <dbl> & <dbl> & <fct> & <dbl> & <dbl> & <fct> & <fct> & <fct> & <dbl> & <fct> & <dbl> & <dbl> & <dbl>\\\\\n",
       "\\hline\n",
       "\t1 &   50 &  50 & 0 & 1.00 & 0.33 & 0.74 ( 0.01 ) & 3.69 ( 0.25 ) & 2.5 ( 0.12 )  &  6.19 & 0.37 & 0.74 & 3.69 & 2.50\\\\\n",
       "\t2 &  100 &  50 & 0 & 0.50 & 0.35 & 0.85 ( 0.01 ) & 7.16 ( 0.37 ) & 0.64 ( 0.08 ) & 11.52 & 0.48 & 0.85 & 7.16 & 0.64\\\\\n",
       "\t3 &  500 &  50 & 0 & 0.10 & 0.53 & 0.93 ( 0 )    & 5.21 ( 0.21 ) & 0 ( 0 )       & 10.21 & 0.39 & 0.93 & 5.21 & 0.00\\\\\n",
       "\t4 & 1000 &  50 & 0 & 0.05 & 0.80 & 0.93 ( 0 )    & 2.25 ( 0.11 ) & 0 ( 0 )       &  7.25 & 0.15 & 0.93 & 2.25 & 0.00\\\\\n",
       "\t5 &   50 & 100 & 0 & 2.00 & 0.25 & 0.73 ( 0.01 ) & 5.13 ( 0.34 ) & 2.93 ( 0.1 )  &  7.20 & 0.5  & 0.73 & 5.13 & 2.93\\\\\n",
       "\t6 &  100 & 100 & 0 & 1.00 & 0.32 & 0.83 ( 0.01 ) & 8.22 ( 0.44 ) & 1.03 ( 0.09 ) & 12.19 & 0.54 & 0.83 & 8.22 & 1.03\\\\\n",
       "\\end{tabular}\n"
      ],
      "text/markdown": [
       "\n",
       "A data.frame: 6 × 13\n",
       "\n",
       "| <!--/--> | N &lt;dbl&gt; | P &lt;dbl&gt; | Corr &lt;fct&gt; | Ratio &lt;dbl&gt; | Stab &lt;dbl&gt; | ROC &lt;fct&gt; | FP &lt;fct&gt; | FN &lt;fct&gt; | num_select &lt;dbl&gt; | FDR &lt;fct&gt; | ROC_mean &lt;dbl&gt; | FP_mean &lt;dbl&gt; | FN_mean &lt;dbl&gt; |\n",
       "|---|---|---|---|---|---|---|---|---|---|---|---|---|---|\n",
       "| 1 |   50 |  50 | 0 | 1.00 | 0.33 | 0.74 ( 0.01 ) | 3.69 ( 0.25 ) | 2.5 ( 0.12 )  |  6.19 | 0.37 | 0.74 | 3.69 | 2.50 |\n",
       "| 2 |  100 |  50 | 0 | 0.50 | 0.35 | 0.85 ( 0.01 ) | 7.16 ( 0.37 ) | 0.64 ( 0.08 ) | 11.52 | 0.48 | 0.85 | 7.16 | 0.64 |\n",
       "| 3 |  500 |  50 | 0 | 0.10 | 0.53 | 0.93 ( 0 )    | 5.21 ( 0.21 ) | 0 ( 0 )       | 10.21 | 0.39 | 0.93 | 5.21 | 0.00 |\n",
       "| 4 | 1000 |  50 | 0 | 0.05 | 0.80 | 0.93 ( 0 )    | 2.25 ( 0.11 ) | 0 ( 0 )       |  7.25 | 0.15 | 0.93 | 2.25 | 0.00 |\n",
       "| 5 |   50 | 100 | 0 | 2.00 | 0.25 | 0.73 ( 0.01 ) | 5.13 ( 0.34 ) | 2.93 ( 0.1 )  |  7.20 | 0.5  | 0.73 | 5.13 | 2.93 |\n",
       "| 6 |  100 | 100 | 0 | 1.00 | 0.32 | 0.83 ( 0.01 ) | 8.22 ( 0.44 ) | 1.03 ( 0.09 ) | 12.19 | 0.54 | 0.83 | 8.22 | 1.03 |\n",
       "\n"
      ],
      "text/plain": [
       "  N    P   Corr Ratio Stab ROC           FP            FN            num_select\n",
       "1   50  50 0    1.00  0.33 0.74 ( 0.01 ) 3.69 ( 0.25 ) 2.5 ( 0.12 )   6.19     \n",
       "2  100  50 0    0.50  0.35 0.85 ( 0.01 ) 7.16 ( 0.37 ) 0.64 ( 0.08 ) 11.52     \n",
       "3  500  50 0    0.10  0.53 0.93 ( 0 )    5.21 ( 0.21 ) 0 ( 0 )       10.21     \n",
       "4 1000  50 0    0.05  0.80 0.93 ( 0 )    2.25 ( 0.11 ) 0 ( 0 )        7.25     \n",
       "5   50 100 0    2.00  0.25 0.73 ( 0.01 ) 5.13 ( 0.34 ) 2.93 ( 0.1 )   7.20     \n",
       "6  100 100 0    1.00  0.32 0.83 ( 0.01 ) 8.22 ( 0.44 ) 1.03 ( 0.09 ) 12.19     \n",
       "  FDR  ROC_mean FP_mean FN_mean\n",
       "1 0.37 0.74     3.69    2.50   \n",
       "2 0.48 0.85     7.16    0.64   \n",
       "3 0.39 0.93     5.21    0.00   \n",
       "4 0.15 0.93     2.25    0.00   \n",
       "5 0.5  0.73     5.13    2.93   \n",
       "6 0.54 0.83     8.22    1.03   "
      ]
     },
     "metadata": {},
     "output_type": "display_data"
    }
   ],
   "source": [
    "head(result.table_toe)"
   ]
  },
  {
   "cell_type": "code",
   "execution_count": 11,
   "metadata": {},
   "outputs": [
    {
     "data": {
      "text/html": [
       "<table>\n",
       "<caption>A data.frame: 6 × 13</caption>\n",
       "<thead>\n",
       "\t<tr><th></th><th scope=col>N</th><th scope=col>P</th><th scope=col>Corr</th><th scope=col>Ratio</th><th scope=col>Stab</th><th scope=col>ROC</th><th scope=col>FP</th><th scope=col>FN</th><th scope=col>num_select</th><th scope=col>FDR</th><th scope=col>ROC_mean</th><th scope=col>FP_mean</th><th scope=col>FN_mean</th></tr>\n",
       "\t<tr><th></th><th scope=col>&lt;dbl&gt;</th><th scope=col>&lt;dbl&gt;</th><th scope=col>&lt;fct&gt;</th><th scope=col>&lt;dbl&gt;</th><th scope=col>&lt;dbl&gt;</th><th scope=col>&lt;fct&gt;</th><th scope=col>&lt;fct&gt;</th><th scope=col>&lt;fct&gt;</th><th scope=col>&lt;dbl&gt;</th><th scope=col>&lt;fct&gt;</th><th scope=col>&lt;dbl&gt;</th><th scope=col>&lt;dbl&gt;</th><th scope=col>&lt;dbl&gt;</th></tr>\n",
       "</thead>\n",
       "<tbody>\n",
       "\t<tr><th scope=row>11</th><td> 500</td><td> 500</td><td>0</td><td> 1.0</td><td>0.20</td><td>0.92 ( 0 )   </td><td>23.83 ( 0.69 )</td><td>0 ( 0 )      </td><td>28.83</td><td>0.78</td><td>0.92</td><td>23.83</td><td>0.00</td></tr>\n",
       "\t<tr><th scope=row>12</th><td>1000</td><td> 500</td><td>0</td><td> 0.5</td><td>0.36</td><td>0.93 ( 0 )   </td><td>11.38 ( 0.41 )</td><td>0 ( 0 )      </td><td>16.38</td><td>0.6 </td><td>0.93</td><td>11.38</td><td>0.00</td></tr>\n",
       "\t<tr><th scope=row>13</th><td>  50</td><td>1000</td><td>0</td><td>20.0</td><td>0.09</td><td>0.67 ( 0.01 )</td><td>9.77 ( 0.24 ) </td><td>4.03 ( 0.08 )</td><td>10.74</td><td>0.81</td><td>0.67</td><td> 9.77</td><td>4.03</td></tr>\n",
       "\t<tr><th scope=row>14</th><td> 100</td><td>1000</td><td>0</td><td>10.0</td><td>0.20</td><td>0.78 ( 0.01 )</td><td>11.91 ( 0.8 ) </td><td>2.32 ( 0.1 ) </td><td>14.59</td><td>0.66</td><td>0.78</td><td>11.91</td><td>2.32</td></tr>\n",
       "\t<tr><th scope=row>15</th><td> 500</td><td>1000</td><td>0</td><td> 2.0</td><td>0.16</td><td>0.91 ( 0 )   </td><td>30.84 ( 0.92 )</td><td>0 ( 0 )      </td><td>35.84</td><td>0.82</td><td>0.91</td><td>30.84</td><td>0.00</td></tr>\n",
       "\t<tr><th scope=row>16</th><td>1000</td><td>1000</td><td>0</td><td> 1.0</td><td>0.24</td><td>0.93 ( 0 )   </td><td>19.96 ( 0.61 )</td><td>0 ( 0 )      </td><td>24.96</td><td>0.74</td><td>0.93</td><td>19.96</td><td>0.00</td></tr>\n",
       "</tbody>\n",
       "</table>\n"
      ],
      "text/latex": [
       "A data.frame: 6 × 13\n",
       "\\begin{tabular}{r|lllllllllllll}\n",
       "  & N & P & Corr & Ratio & Stab & ROC & FP & FN & num\\_select & FDR & ROC\\_mean & FP\\_mean & FN\\_mean\\\\\n",
       "  & <dbl> & <dbl> & <fct> & <dbl> & <dbl> & <fct> & <fct> & <fct> & <dbl> & <fct> & <dbl> & <dbl> & <dbl>\\\\\n",
       "\\hline\n",
       "\t11 &  500 &  500 & 0 &  1.0 & 0.20 & 0.92 ( 0 )    & 23.83 ( 0.69 ) & 0 ( 0 )       & 28.83 & 0.78 & 0.92 & 23.83 & 0.00\\\\\n",
       "\t12 & 1000 &  500 & 0 &  0.5 & 0.36 & 0.93 ( 0 )    & 11.38 ( 0.41 ) & 0 ( 0 )       & 16.38 & 0.6  & 0.93 & 11.38 & 0.00\\\\\n",
       "\t13 &   50 & 1000 & 0 & 20.0 & 0.09 & 0.67 ( 0.01 ) & 9.77 ( 0.24 )  & 4.03 ( 0.08 ) & 10.74 & 0.81 & 0.67 &  9.77 & 4.03\\\\\n",
       "\t14 &  100 & 1000 & 0 & 10.0 & 0.20 & 0.78 ( 0.01 ) & 11.91 ( 0.8 )  & 2.32 ( 0.1 )  & 14.59 & 0.66 & 0.78 & 11.91 & 2.32\\\\\n",
       "\t15 &  500 & 1000 & 0 &  2.0 & 0.16 & 0.91 ( 0 )    & 30.84 ( 0.92 ) & 0 ( 0 )       & 35.84 & 0.82 & 0.91 & 30.84 & 0.00\\\\\n",
       "\t16 & 1000 & 1000 & 0 &  1.0 & 0.24 & 0.93 ( 0 )    & 19.96 ( 0.61 ) & 0 ( 0 )       & 24.96 & 0.74 & 0.93 & 19.96 & 0.00\\\\\n",
       "\\end{tabular}\n"
      ],
      "text/markdown": [
       "\n",
       "A data.frame: 6 × 13\n",
       "\n",
       "| <!--/--> | N &lt;dbl&gt; | P &lt;dbl&gt; | Corr &lt;fct&gt; | Ratio &lt;dbl&gt; | Stab &lt;dbl&gt; | ROC &lt;fct&gt; | FP &lt;fct&gt; | FN &lt;fct&gt; | num_select &lt;dbl&gt; | FDR &lt;fct&gt; | ROC_mean &lt;dbl&gt; | FP_mean &lt;dbl&gt; | FN_mean &lt;dbl&gt; |\n",
       "|---|---|---|---|---|---|---|---|---|---|---|---|---|---|\n",
       "| 11 |  500 |  500 | 0 |  1.0 | 0.20 | 0.92 ( 0 )    | 23.83 ( 0.69 ) | 0 ( 0 )       | 28.83 | 0.78 | 0.92 | 23.83 | 0.00 |\n",
       "| 12 | 1000 |  500 | 0 |  0.5 | 0.36 | 0.93 ( 0 )    | 11.38 ( 0.41 ) | 0 ( 0 )       | 16.38 | 0.6  | 0.93 | 11.38 | 0.00 |\n",
       "| 13 |   50 | 1000 | 0 | 20.0 | 0.09 | 0.67 ( 0.01 ) | 9.77 ( 0.24 )  | 4.03 ( 0.08 ) | 10.74 | 0.81 | 0.67 |  9.77 | 4.03 |\n",
       "| 14 |  100 | 1000 | 0 | 10.0 | 0.20 | 0.78 ( 0.01 ) | 11.91 ( 0.8 )  | 2.32 ( 0.1 )  | 14.59 | 0.66 | 0.78 | 11.91 | 2.32 |\n",
       "| 15 |  500 | 1000 | 0 |  2.0 | 0.16 | 0.91 ( 0 )    | 30.84 ( 0.92 ) | 0 ( 0 )       | 35.84 | 0.82 | 0.91 | 30.84 | 0.00 |\n",
       "| 16 | 1000 | 1000 | 0 |  1.0 | 0.24 | 0.93 ( 0 )    | 19.96 ( 0.61 ) | 0 ( 0 )       | 24.96 | 0.74 | 0.93 | 19.96 | 0.00 |\n",
       "\n"
      ],
      "text/plain": [
       "   N    P    Corr Ratio Stab ROC           FP             FN           \n",
       "11  500  500 0     1.0  0.20 0.92 ( 0 )    23.83 ( 0.69 ) 0 ( 0 )      \n",
       "12 1000  500 0     0.5  0.36 0.93 ( 0 )    11.38 ( 0.41 ) 0 ( 0 )      \n",
       "13   50 1000 0    20.0  0.09 0.67 ( 0.01 ) 9.77 ( 0.24 )  4.03 ( 0.08 )\n",
       "14  100 1000 0    10.0  0.20 0.78 ( 0.01 ) 11.91 ( 0.8 )  2.32 ( 0.1 ) \n",
       "15  500 1000 0     2.0  0.16 0.91 ( 0 )    30.84 ( 0.92 ) 0 ( 0 )      \n",
       "16 1000 1000 0     1.0  0.24 0.93 ( 0 )    19.96 ( 0.61 ) 0 ( 0 )      \n",
       "   num_select FDR  ROC_mean FP_mean FN_mean\n",
       "11 28.83      0.78 0.92     23.83   0.00   \n",
       "12 16.38      0.6  0.93     11.38   0.00   \n",
       "13 10.74      0.81 0.67      9.77   4.03   \n",
       "14 14.59      0.66 0.78     11.91   2.32   \n",
       "15 35.84      0.82 0.91     30.84   0.00   \n",
       "16 24.96      0.74 0.93     19.96   0.00   "
      ]
     },
     "metadata": {},
     "output_type": "display_data"
    }
   ],
   "source": [
    "tail(result.table_toe)"
   ]
  },
  {
   "cell_type": "code",
   "execution_count": 12,
   "metadata": {
    "scrolled": false
   },
   "outputs": [
    {
     "data": {
      "text/html": [
       "<table>\n",
       "<caption>A data.frame: 16 × 13</caption>\n",
       "<thead>\n",
       "\t<tr><th></th><th scope=col>N</th><th scope=col>P</th><th scope=col>Corr</th><th scope=col>Ratio</th><th scope=col>Stab</th><th scope=col>ROC</th><th scope=col>FP</th><th scope=col>FN</th><th scope=col>num_select</th><th scope=col>FDR</th><th scope=col>ROC_mean</th><th scope=col>FP_mean</th><th scope=col>FN_mean</th></tr>\n",
       "\t<tr><th></th><th scope=col>&lt;dbl&gt;</th><th scope=col>&lt;dbl&gt;</th><th scope=col>&lt;fct&gt;</th><th scope=col>&lt;dbl&gt;</th><th scope=col>&lt;dbl&gt;</th><th scope=col>&lt;fct&gt;</th><th scope=col>&lt;fct&gt;</th><th scope=col>&lt;fct&gt;</th><th scope=col>&lt;dbl&gt;</th><th scope=col>&lt;fct&gt;</th><th scope=col>&lt;dbl&gt;</th><th scope=col>&lt;dbl&gt;</th><th scope=col>&lt;dbl&gt;</th></tr>\n",
       "</thead>\n",
       "<tbody>\n",
       "\t<tr><th scope=row>1</th><td>  50</td><td>  50</td><td>0</td><td> 1.00</td><td>0.33</td><td>0.74 ( 0.01 )</td><td>3.69 ( 0.25 ) </td><td>2.5 ( 0.12 ) </td><td> 6.19</td><td>0.37</td><td>0.74</td><td> 3.69</td><td>2.50</td></tr>\n",
       "\t<tr><th scope=row>2</th><td> 100</td><td>  50</td><td>0</td><td> 0.50</td><td>0.35</td><td>0.85 ( 0.01 )</td><td>7.16 ( 0.37 ) </td><td>0.64 ( 0.08 )</td><td>11.52</td><td>0.48</td><td>0.85</td><td> 7.16</td><td>0.64</td></tr>\n",
       "\t<tr><th scope=row>3</th><td> 500</td><td>  50</td><td>0</td><td> 0.10</td><td>0.53</td><td>0.93 ( 0 )   </td><td>5.21 ( 0.21 ) </td><td>0 ( 0 )      </td><td>10.21</td><td>0.39</td><td>0.93</td><td> 5.21</td><td>0.00</td></tr>\n",
       "\t<tr><th scope=row>4</th><td>1000</td><td>  50</td><td>0</td><td> 0.05</td><td>0.80</td><td>0.93 ( 0 )   </td><td>2.25 ( 0.11 ) </td><td>0 ( 0 )      </td><td> 7.25</td><td>0.15</td><td>0.93</td><td> 2.25</td><td>0.00</td></tr>\n",
       "\t<tr><th scope=row>5</th><td>  50</td><td> 100</td><td>0</td><td> 2.00</td><td>0.25</td><td>0.73 ( 0.01 )</td><td>5.13 ( 0.34 ) </td><td>2.93 ( 0.1 ) </td><td> 7.20</td><td>0.5 </td><td>0.73</td><td> 5.13</td><td>2.93</td></tr>\n",
       "\t<tr><th scope=row>6</th><td> 100</td><td> 100</td><td>0</td><td> 1.00</td><td>0.32</td><td>0.83 ( 0.01 )</td><td>8.22 ( 0.44 ) </td><td>1.03 ( 0.09 )</td><td>12.19</td><td>0.54</td><td>0.83</td><td> 8.22</td><td>1.03</td></tr>\n",
       "\t<tr><th scope=row>7</th><td> 500</td><td> 100</td><td>0</td><td> 0.20</td><td>0.40</td><td>0.92 ( 0 )   </td><td>8.89 ( 0.29 ) </td><td>0 ( 0 )      </td><td>13.89</td><td>0.55</td><td>0.92</td><td> 8.89</td><td>0.00</td></tr>\n",
       "\t<tr><th scope=row>8</th><td>1000</td><td> 100</td><td>0</td><td> 0.10</td><td>0.69</td><td>0.93 ( 0 )   </td><td>3.53 ( 0.16 ) </td><td>0 ( 0 )      </td><td> 8.53</td><td>0.27</td><td>0.93</td><td> 3.53</td><td>0.00</td></tr>\n",
       "\t<tr><th scope=row>9</th><td>  50</td><td> 500</td><td>0</td><td>10.00</td><td>0.13</td><td>0.7 ( 0.01 ) </td><td>8.05 ( 0.28 ) </td><td>3.74 ( 0.09 )</td><td> 9.31</td><td>0.74</td><td>0.70</td><td> 8.05</td><td>3.74</td></tr>\n",
       "\t<tr><th scope=row>10</th><td> 100</td><td> 500</td><td>0</td><td> 5.00</td><td>0.24</td><td>0.79 ( 0.01 )</td><td>11.14 ( 0.64 )</td><td>1.71 ( 0.1 ) </td><td>14.43</td><td>0.63</td><td>0.79</td><td>11.14</td><td>1.71</td></tr>\n",
       "\t<tr><th scope=row>11</th><td> 500</td><td> 500</td><td>0</td><td> 1.00</td><td>0.20</td><td>0.92 ( 0 )   </td><td>23.83 ( 0.69 )</td><td>0 ( 0 )      </td><td>28.83</td><td>0.78</td><td>0.92</td><td>23.83</td><td>0.00</td></tr>\n",
       "\t<tr><th scope=row>12</th><td>1000</td><td> 500</td><td>0</td><td> 0.50</td><td>0.36</td><td>0.93 ( 0 )   </td><td>11.38 ( 0.41 )</td><td>0 ( 0 )      </td><td>16.38</td><td>0.6 </td><td>0.93</td><td>11.38</td><td>0.00</td></tr>\n",
       "\t<tr><th scope=row>13</th><td>  50</td><td>1000</td><td>0</td><td>20.00</td><td>0.09</td><td>0.67 ( 0.01 )</td><td>9.77 ( 0.24 ) </td><td>4.03 ( 0.08 )</td><td>10.74</td><td>0.81</td><td>0.67</td><td> 9.77</td><td>4.03</td></tr>\n",
       "\t<tr><th scope=row>14</th><td> 100</td><td>1000</td><td>0</td><td>10.00</td><td>0.20</td><td>0.78 ( 0.01 )</td><td>11.91 ( 0.8 ) </td><td>2.32 ( 0.1 ) </td><td>14.59</td><td>0.66</td><td>0.78</td><td>11.91</td><td>2.32</td></tr>\n",
       "\t<tr><th scope=row>15</th><td> 500</td><td>1000</td><td>0</td><td> 2.00</td><td>0.16</td><td>0.91 ( 0 )   </td><td>30.84 ( 0.92 )</td><td>0 ( 0 )      </td><td>35.84</td><td>0.82</td><td>0.91</td><td>30.84</td><td>0.00</td></tr>\n",
       "\t<tr><th scope=row>16</th><td>1000</td><td>1000</td><td>0</td><td> 1.00</td><td>0.24</td><td>0.93 ( 0 )   </td><td>19.96 ( 0.61 )</td><td>0 ( 0 )      </td><td>24.96</td><td>0.74</td><td>0.93</td><td>19.96</td><td>0.00</td></tr>\n",
       "</tbody>\n",
       "</table>\n"
      ],
      "text/latex": [
       "A data.frame: 16 × 13\n",
       "\\begin{tabular}{r|lllllllllllll}\n",
       "  & N & P & Corr & Ratio & Stab & ROC & FP & FN & num\\_select & FDR & ROC\\_mean & FP\\_mean & FN\\_mean\\\\\n",
       "  & <dbl> & <dbl> & <fct> & <dbl> & <dbl> & <fct> & <fct> & <fct> & <dbl> & <fct> & <dbl> & <dbl> & <dbl>\\\\\n",
       "\\hline\n",
       "\t1 &   50 &   50 & 0 &  1.00 & 0.33 & 0.74 ( 0.01 ) & 3.69 ( 0.25 )  & 2.5 ( 0.12 )  &  6.19 & 0.37 & 0.74 &  3.69 & 2.50\\\\\n",
       "\t2 &  100 &   50 & 0 &  0.50 & 0.35 & 0.85 ( 0.01 ) & 7.16 ( 0.37 )  & 0.64 ( 0.08 ) & 11.52 & 0.48 & 0.85 &  7.16 & 0.64\\\\\n",
       "\t3 &  500 &   50 & 0 &  0.10 & 0.53 & 0.93 ( 0 )    & 5.21 ( 0.21 )  & 0 ( 0 )       & 10.21 & 0.39 & 0.93 &  5.21 & 0.00\\\\\n",
       "\t4 & 1000 &   50 & 0 &  0.05 & 0.80 & 0.93 ( 0 )    & 2.25 ( 0.11 )  & 0 ( 0 )       &  7.25 & 0.15 & 0.93 &  2.25 & 0.00\\\\\n",
       "\t5 &   50 &  100 & 0 &  2.00 & 0.25 & 0.73 ( 0.01 ) & 5.13 ( 0.34 )  & 2.93 ( 0.1 )  &  7.20 & 0.5  & 0.73 &  5.13 & 2.93\\\\\n",
       "\t6 &  100 &  100 & 0 &  1.00 & 0.32 & 0.83 ( 0.01 ) & 8.22 ( 0.44 )  & 1.03 ( 0.09 ) & 12.19 & 0.54 & 0.83 &  8.22 & 1.03\\\\\n",
       "\t7 &  500 &  100 & 0 &  0.20 & 0.40 & 0.92 ( 0 )    & 8.89 ( 0.29 )  & 0 ( 0 )       & 13.89 & 0.55 & 0.92 &  8.89 & 0.00\\\\\n",
       "\t8 & 1000 &  100 & 0 &  0.10 & 0.69 & 0.93 ( 0 )    & 3.53 ( 0.16 )  & 0 ( 0 )       &  8.53 & 0.27 & 0.93 &  3.53 & 0.00\\\\\n",
       "\t9 &   50 &  500 & 0 & 10.00 & 0.13 & 0.7 ( 0.01 )  & 8.05 ( 0.28 )  & 3.74 ( 0.09 ) &  9.31 & 0.74 & 0.70 &  8.05 & 3.74\\\\\n",
       "\t10 &  100 &  500 & 0 &  5.00 & 0.24 & 0.79 ( 0.01 ) & 11.14 ( 0.64 ) & 1.71 ( 0.1 )  & 14.43 & 0.63 & 0.79 & 11.14 & 1.71\\\\\n",
       "\t11 &  500 &  500 & 0 &  1.00 & 0.20 & 0.92 ( 0 )    & 23.83 ( 0.69 ) & 0 ( 0 )       & 28.83 & 0.78 & 0.92 & 23.83 & 0.00\\\\\n",
       "\t12 & 1000 &  500 & 0 &  0.50 & 0.36 & 0.93 ( 0 )    & 11.38 ( 0.41 ) & 0 ( 0 )       & 16.38 & 0.6  & 0.93 & 11.38 & 0.00\\\\\n",
       "\t13 &   50 & 1000 & 0 & 20.00 & 0.09 & 0.67 ( 0.01 ) & 9.77 ( 0.24 )  & 4.03 ( 0.08 ) & 10.74 & 0.81 & 0.67 &  9.77 & 4.03\\\\\n",
       "\t14 &  100 & 1000 & 0 & 10.00 & 0.20 & 0.78 ( 0.01 ) & 11.91 ( 0.8 )  & 2.32 ( 0.1 )  & 14.59 & 0.66 & 0.78 & 11.91 & 2.32\\\\\n",
       "\t15 &  500 & 1000 & 0 &  2.00 & 0.16 & 0.91 ( 0 )    & 30.84 ( 0.92 ) & 0 ( 0 )       & 35.84 & 0.82 & 0.91 & 30.84 & 0.00\\\\\n",
       "\t16 & 1000 & 1000 & 0 &  1.00 & 0.24 & 0.93 ( 0 )    & 19.96 ( 0.61 ) & 0 ( 0 )       & 24.96 & 0.74 & 0.93 & 19.96 & 0.00\\\\\n",
       "\\end{tabular}\n"
      ],
      "text/markdown": [
       "\n",
       "A data.frame: 16 × 13\n",
       "\n",
       "| <!--/--> | N &lt;dbl&gt; | P &lt;dbl&gt; | Corr &lt;fct&gt; | Ratio &lt;dbl&gt; | Stab &lt;dbl&gt; | ROC &lt;fct&gt; | FP &lt;fct&gt; | FN &lt;fct&gt; | num_select &lt;dbl&gt; | FDR &lt;fct&gt; | ROC_mean &lt;dbl&gt; | FP_mean &lt;dbl&gt; | FN_mean &lt;dbl&gt; |\n",
       "|---|---|---|---|---|---|---|---|---|---|---|---|---|---|\n",
       "| 1 |   50 |   50 | 0 |  1.00 | 0.33 | 0.74 ( 0.01 ) | 3.69 ( 0.25 )  | 2.5 ( 0.12 )  |  6.19 | 0.37 | 0.74 |  3.69 | 2.50 |\n",
       "| 2 |  100 |   50 | 0 |  0.50 | 0.35 | 0.85 ( 0.01 ) | 7.16 ( 0.37 )  | 0.64 ( 0.08 ) | 11.52 | 0.48 | 0.85 |  7.16 | 0.64 |\n",
       "| 3 |  500 |   50 | 0 |  0.10 | 0.53 | 0.93 ( 0 )    | 5.21 ( 0.21 )  | 0 ( 0 )       | 10.21 | 0.39 | 0.93 |  5.21 | 0.00 |\n",
       "| 4 | 1000 |   50 | 0 |  0.05 | 0.80 | 0.93 ( 0 )    | 2.25 ( 0.11 )  | 0 ( 0 )       |  7.25 | 0.15 | 0.93 |  2.25 | 0.00 |\n",
       "| 5 |   50 |  100 | 0 |  2.00 | 0.25 | 0.73 ( 0.01 ) | 5.13 ( 0.34 )  | 2.93 ( 0.1 )  |  7.20 | 0.5  | 0.73 |  5.13 | 2.93 |\n",
       "| 6 |  100 |  100 | 0 |  1.00 | 0.32 | 0.83 ( 0.01 ) | 8.22 ( 0.44 )  | 1.03 ( 0.09 ) | 12.19 | 0.54 | 0.83 |  8.22 | 1.03 |\n",
       "| 7 |  500 |  100 | 0 |  0.20 | 0.40 | 0.92 ( 0 )    | 8.89 ( 0.29 )  | 0 ( 0 )       | 13.89 | 0.55 | 0.92 |  8.89 | 0.00 |\n",
       "| 8 | 1000 |  100 | 0 |  0.10 | 0.69 | 0.93 ( 0 )    | 3.53 ( 0.16 )  | 0 ( 0 )       |  8.53 | 0.27 | 0.93 |  3.53 | 0.00 |\n",
       "| 9 |   50 |  500 | 0 | 10.00 | 0.13 | 0.7 ( 0.01 )  | 8.05 ( 0.28 )  | 3.74 ( 0.09 ) |  9.31 | 0.74 | 0.70 |  8.05 | 3.74 |\n",
       "| 10 |  100 |  500 | 0 |  5.00 | 0.24 | 0.79 ( 0.01 ) | 11.14 ( 0.64 ) | 1.71 ( 0.1 )  | 14.43 | 0.63 | 0.79 | 11.14 | 1.71 |\n",
       "| 11 |  500 |  500 | 0 |  1.00 | 0.20 | 0.92 ( 0 )    | 23.83 ( 0.69 ) | 0 ( 0 )       | 28.83 | 0.78 | 0.92 | 23.83 | 0.00 |\n",
       "| 12 | 1000 |  500 | 0 |  0.50 | 0.36 | 0.93 ( 0 )    | 11.38 ( 0.41 ) | 0 ( 0 )       | 16.38 | 0.6  | 0.93 | 11.38 | 0.00 |\n",
       "| 13 |   50 | 1000 | 0 | 20.00 | 0.09 | 0.67 ( 0.01 ) | 9.77 ( 0.24 )  | 4.03 ( 0.08 ) | 10.74 | 0.81 | 0.67 |  9.77 | 4.03 |\n",
       "| 14 |  100 | 1000 | 0 | 10.00 | 0.20 | 0.78 ( 0.01 ) | 11.91 ( 0.8 )  | 2.32 ( 0.1 )  | 14.59 | 0.66 | 0.78 | 11.91 | 2.32 |\n",
       "| 15 |  500 | 1000 | 0 |  2.00 | 0.16 | 0.91 ( 0 )    | 30.84 ( 0.92 ) | 0 ( 0 )       | 35.84 | 0.82 | 0.91 | 30.84 | 0.00 |\n",
       "| 16 | 1000 | 1000 | 0 |  1.00 | 0.24 | 0.93 ( 0 )    | 19.96 ( 0.61 ) | 0 ( 0 )       | 24.96 | 0.74 | 0.93 | 19.96 | 0.00 |\n",
       "\n"
      ],
      "text/plain": [
       "   N    P    Corr Ratio Stab ROC           FP             FN           \n",
       "1    50   50 0     1.00 0.33 0.74 ( 0.01 ) 3.69 ( 0.25 )  2.5 ( 0.12 ) \n",
       "2   100   50 0     0.50 0.35 0.85 ( 0.01 ) 7.16 ( 0.37 )  0.64 ( 0.08 )\n",
       "3   500   50 0     0.10 0.53 0.93 ( 0 )    5.21 ( 0.21 )  0 ( 0 )      \n",
       "4  1000   50 0     0.05 0.80 0.93 ( 0 )    2.25 ( 0.11 )  0 ( 0 )      \n",
       "5    50  100 0     2.00 0.25 0.73 ( 0.01 ) 5.13 ( 0.34 )  2.93 ( 0.1 ) \n",
       "6   100  100 0     1.00 0.32 0.83 ( 0.01 ) 8.22 ( 0.44 )  1.03 ( 0.09 )\n",
       "7   500  100 0     0.20 0.40 0.92 ( 0 )    8.89 ( 0.29 )  0 ( 0 )      \n",
       "8  1000  100 0     0.10 0.69 0.93 ( 0 )    3.53 ( 0.16 )  0 ( 0 )      \n",
       "9    50  500 0    10.00 0.13 0.7 ( 0.01 )  8.05 ( 0.28 )  3.74 ( 0.09 )\n",
       "10  100  500 0     5.00 0.24 0.79 ( 0.01 ) 11.14 ( 0.64 ) 1.71 ( 0.1 ) \n",
       "11  500  500 0     1.00 0.20 0.92 ( 0 )    23.83 ( 0.69 ) 0 ( 0 )      \n",
       "12 1000  500 0     0.50 0.36 0.93 ( 0 )    11.38 ( 0.41 ) 0 ( 0 )      \n",
       "13   50 1000 0    20.00 0.09 0.67 ( 0.01 ) 9.77 ( 0.24 )  4.03 ( 0.08 )\n",
       "14  100 1000 0    10.00 0.20 0.78 ( 0.01 ) 11.91 ( 0.8 )  2.32 ( 0.1 ) \n",
       "15  500 1000 0     2.00 0.16 0.91 ( 0 )    30.84 ( 0.92 ) 0 ( 0 )      \n",
       "16 1000 1000 0     1.00 0.24 0.93 ( 0 )    19.96 ( 0.61 ) 0 ( 0 )      \n",
       "   num_select FDR  ROC_mean FP_mean FN_mean\n",
       "1   6.19      0.37 0.74      3.69   2.50   \n",
       "2  11.52      0.48 0.85      7.16   0.64   \n",
       "3  10.21      0.39 0.93      5.21   0.00   \n",
       "4   7.25      0.15 0.93      2.25   0.00   \n",
       "5   7.20      0.5  0.73      5.13   2.93   \n",
       "6  12.19      0.54 0.83      8.22   1.03   \n",
       "7  13.89      0.55 0.92      8.89   0.00   \n",
       "8   8.53      0.27 0.93      3.53   0.00   \n",
       "9   9.31      0.74 0.70      8.05   3.74   \n",
       "10 14.43      0.63 0.79     11.14   1.71   \n",
       "11 28.83      0.78 0.92     23.83   0.00   \n",
       "12 16.38      0.6  0.93     11.38   0.00   \n",
       "13 10.74      0.81 0.67      9.77   4.03   \n",
       "14 14.59      0.66 0.78     11.91   2.32   \n",
       "15 35.84      0.82 0.91     30.84   0.00   \n",
       "16 24.96      0.74 0.93     19.96   0.00   "
      ]
     },
     "metadata": {},
     "output_type": "display_data"
    }
   ],
   "source": [
    "result.table_toe\n",
    "\n",
    "## export\n",
    "write.table(result.table_toe, '../results_summary_bin/sim_ind_lasso_binary.txt', \n",
    "            sep='\\t', row.names=F)"
   ]
  },
  {
   "cell_type": "code",
   "execution_count": null,
   "metadata": {},
   "outputs": [],
   "source": []
  }
 ],
 "metadata": {
  "kernelspec": {
   "display_name": "R",
   "language": "R",
   "name": "ir"
  },
  "language_info": {
   "codemirror_mode": "r",
   "file_extension": ".r",
   "mimetype": "text/x-r-source",
   "name": "R",
   "pygments_lexer": "r",
   "version": "3.6.1"
  }
 },
 "nbformat": 4,
 "nbformat_minor": 2
}
