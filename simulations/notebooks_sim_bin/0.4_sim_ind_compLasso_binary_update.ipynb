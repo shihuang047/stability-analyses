{
 "cells": [
  {
   "cell_type": "markdown",
   "metadata": {},
   "source": [
    "### summarize compositional lasso results on Independent Simulation Scenarios for binary outcome"
   ]
  },
  {
   "cell_type": "code",
   "execution_count": 1,
   "metadata": {},
   "outputs": [],
   "source": [
    "dir = '/panfs/panfs1.ucsd.edu/panscratch/lij014/Stability_2020/sim_data'"
   ]
  },
  {
   "cell_type": "code",
   "execution_count": 2,
   "metadata": {},
   "outputs": [],
   "source": [
    "dim.list = list()\n",
    "size = c(50, 100, 500, 1000)\n",
    "idx = 0\n",
    "for (P in size){\n",
    "    for (N in size){\n",
    "        idx = idx + 1\n",
    "        dim.list[[idx]] = c(P=P, N=N)\n",
    "    }\n",
    "}\n",
    "\n",
    "files = NULL\n",
    "for (dim in dim.list){\n",
    "    p = dim[1]\n",
    "    n = dim[2]\n",
    "    files = cbind(files, paste0(dir, '/sim_independent_', paste('P', p, 'N', n, sep='_'), '.RData'))\n",
    "}"
   ]
  },
  {
   "cell_type": "code",
   "execution_count": 3,
   "metadata": {},
   "outputs": [
    {
     "data": {
      "text/html": [
       "16"
      ],
      "text/latex": [
       "16"
      ],
      "text/markdown": [
       "16"
      ],
      "text/plain": [
       "[1] 16"
      ]
     },
     "metadata": {},
     "output_type": "display_data"
    }
   ],
   "source": [
    "length(files)"
   ]
  },
  {
   "cell_type": "code",
   "execution_count": 4,
   "metadata": {},
   "outputs": [
    {
     "name": "stdout",
     "output_type": "stream",
     "text": [
      "[1] \"indx: 1\"\n",
      "[1] \"indx: 2\"\n",
      "[1] \"indx: 3\"\n",
      "[1] \"indx: 4\"\n",
      "[1] \"indx: 5\"\n",
      "[1] \"indx: 6\"\n",
      "[1] \"indx: 7\"\n",
      "[1] \"indx: 8\"\n",
      "[1] \"indx: 9\"\n",
      "[1] \"indx: 10\"\n",
      "[1] \"indx: 11\"\n",
      "[1] \"indx: 12\"\n",
      "[1] \"indx: 13\"\n",
      "[1] \"indx: 14\"\n",
      "[1] \"indx: 15\"\n",
      "[1] \"indx: 16\"\n"
     ]
    }
   ],
   "source": [
    "avg_FDR = NULL\n",
    "table_toe = NULL\n",
    "tmp_num_select = rep(0, length(files))\n",
    "for (i in 1:length(files)){\n",
    "    print(paste0('indx: ', i))\n",
    "    load(paste0(dir, '/binary_update/ind_GenCompLasso_binary_', i, '.RData')) \n",
    "    \n",
    "    table_toe = rbind(table_toe, results_ind_GenCompLasso[c('n', 'p', 'rou', 'FP', 'FN', 'ROC', 'Stab')])\n",
    "    tmp_num_select[i] = mean(rowSums(results_ind_GenCompLasso$Stab.table))\n",
    "    \n",
    "    # calculate FDR\n",
    "    load(file_name, dat <- new.env())\n",
    "    sub = dat$sim_array[[i]]\n",
    "    p = sub$p # take true values from 1st replicate of each simulated data\n",
    "    coef = sub$beta\n",
    "    coef.true = which(coef != 0)\n",
    "    \n",
    "    tt = results_ind_GenCompLasso$Stab.table\n",
    "    FDR = NULL # false positive rate\n",
    "    for (r in 1:nrow(tt)){\n",
    "        FDR = c(FDR, length(setdiff(which(tt[r, ] !=0), coef.true))/sum(tt[r, ]))\n",
    "\n",
    "    }\n",
    "    \n",
    "    avg_FDR = c(avg_FDR, mean(FDR, na.rm=T))\n",
    "}\n",
    "table_toe = as.data.frame(table_toe)\n",
    "table_toe$num_select = tmp_num_select\n",
    "table_toe$FDR = round(avg_FDR,2)"
   ]
  },
  {
   "cell_type": "code",
   "execution_count": 5,
   "metadata": {},
   "outputs": [
    {
     "data": {
      "text/html": [
       "<table>\n",
       "<caption>A data.frame: 6 × 9</caption>\n",
       "<thead>\n",
       "\t<tr><th></th><th scope=col>n</th><th scope=col>p</th><th scope=col>rou</th><th scope=col>FP</th><th scope=col>FN</th><th scope=col>ROC</th><th scope=col>Stab</th><th scope=col>num_select</th><th scope=col>FDR</th></tr>\n",
       "\t<tr><th></th><th scope=col>&lt;list&gt;</th><th scope=col>&lt;list&gt;</th><th scope=col>&lt;list&gt;</th><th scope=col>&lt;list&gt;</th><th scope=col>&lt;list&gt;</th><th scope=col>&lt;list&gt;</th><th scope=col>&lt;list&gt;</th><th scope=col>&lt;dbl&gt;</th><th scope=col>&lt;dbl&gt;</th></tr>\n",
       "</thead>\n",
       "<tbody>\n",
       "\t<tr><th scope=row>1</th><td>50</td><td>50</td><td>0</td><td>16.38 ( 0.96 )</td><td>0.61 ( 0.06 )</td><td>0.98 ( 0 )</td><td>0.13</td><td>21.77</td><td>0.71</td></tr>\n",
       "\t<tr><th scope=row>2</th><td>100</td><td>50</td><td>0</td><td>7.94 ( 0.54 )</td><td>0.34 ( 0.06 )</td><td>0.93 ( 0 )</td><td>0.32</td><td>13.60</td><td>0.54</td></tr>\n",
       "\t<tr><th scope=row>3</th><td>500</td><td>50</td><td>0</td><td>2.67 ( 0.6 )</td><td>0.1 ( 0.03 )</td><td>0.91 ( 0 )</td><td>0.63</td><td> 8.57</td><td>0.19</td></tr>\n",
       "\t<tr><th scope=row>4</th><td>1000</td><td>50</td><td>0</td><td>1.61 ( 0.48 )</td><td>0.04 ( 0.02 )</td><td>0.91 ( 0 )</td><td>0.75</td><td> 7.57</td><td>0.09</td></tr>\n",
       "\t<tr><th scope=row>5</th><td>50</td><td>100</td><td>0</td><td>39.18 ( 2.14 )</td><td>0.63 ( 0.07 )</td><td>0.99 ( 0 )</td><td>0.06</td><td>44.55</td><td>0.85</td></tr>\n",
       "\t<tr><th scope=row>6</th><td>100</td><td>100</td><td>0</td><td>16.29 ( 1.16 )</td><td>0.47 ( 0.06 )</td><td>0.94 ( 0 )</td><td>0.2</td><td>21.82</td><td>0.70</td></tr>\n",
       "</tbody>\n",
       "</table>\n"
      ],
      "text/latex": [
       "A data.frame: 6 × 9\n",
       "\\begin{tabular}{r|lllllllll}\n",
       "  & n & p & rou & FP & FN & ROC & Stab & num\\_select & FDR\\\\\n",
       "  & <list> & <list> & <list> & <list> & <list> & <list> & <list> & <dbl> & <dbl>\\\\\n",
       "\\hline\n",
       "\t1 & 50 & 50 & 0 & 16.38 ( 0.96 ) & 0.61 ( 0.06 ) & 0.98 ( 0 ) & 0.13 & 21.77 & 0.71\\\\\n",
       "\t2 & 100 & 50 & 0 & 7.94 ( 0.54 ) & 0.34 ( 0.06 ) & 0.93 ( 0 ) & 0.32 & 13.60 & 0.54\\\\\n",
       "\t3 & 500 & 50 & 0 & 2.67 ( 0.6 ) & 0.1 ( 0.03 ) & 0.91 ( 0 ) & 0.63 &  8.57 & 0.19\\\\\n",
       "\t4 & 1000 & 50 & 0 & 1.61 ( 0.48 ) & 0.04 ( 0.02 ) & 0.91 ( 0 ) & 0.75 &  7.57 & 0.09\\\\\n",
       "\t5 & 50 & 100 & 0 & 39.18 ( 2.14 ) & 0.63 ( 0.07 ) & 0.99 ( 0 ) & 0.06 & 44.55 & 0.85\\\\\n",
       "\t6 & 100 & 100 & 0 & 16.29 ( 1.16 ) & 0.47 ( 0.06 ) & 0.94 ( 0 ) & 0.2 & 21.82 & 0.70\\\\\n",
       "\\end{tabular}\n"
      ],
      "text/markdown": [
       "\n",
       "A data.frame: 6 × 9\n",
       "\n",
       "| <!--/--> | n &lt;list&gt; | p &lt;list&gt; | rou &lt;list&gt; | FP &lt;list&gt; | FN &lt;list&gt; | ROC &lt;list&gt; | Stab &lt;list&gt; | num_select &lt;dbl&gt; | FDR &lt;dbl&gt; |\n",
       "|---|---|---|---|---|---|---|---|---|---|\n",
       "| 1 | 50 | 50 | 0 | 16.38 ( 0.96 ) | 0.61 ( 0.06 ) | 0.98 ( 0 ) | 0.13 | 21.77 | 0.71 |\n",
       "| 2 | 100 | 50 | 0 | 7.94 ( 0.54 ) | 0.34 ( 0.06 ) | 0.93 ( 0 ) | 0.32 | 13.60 | 0.54 |\n",
       "| 3 | 500 | 50 | 0 | 2.67 ( 0.6 ) | 0.1 ( 0.03 ) | 0.91 ( 0 ) | 0.63 |  8.57 | 0.19 |\n",
       "| 4 | 1000 | 50 | 0 | 1.61 ( 0.48 ) | 0.04 ( 0.02 ) | 0.91 ( 0 ) | 0.75 |  7.57 | 0.09 |\n",
       "| 5 | 50 | 100 | 0 | 39.18 ( 2.14 ) | 0.63 ( 0.07 ) | 0.99 ( 0 ) | 0.06 | 44.55 | 0.85 |\n",
       "| 6 | 100 | 100 | 0 | 16.29 ( 1.16 ) | 0.47 ( 0.06 ) | 0.94 ( 0 ) | 0.2 | 21.82 | 0.70 |\n",
       "\n"
      ],
      "text/plain": [
       "  n    p   rou FP             FN            ROC        Stab num_select FDR \n",
       "1 50   50  0   16.38 ( 0.96 ) 0.61 ( 0.06 ) 0.98 ( 0 ) 0.13 21.77      0.71\n",
       "2 100  50  0   7.94 ( 0.54 )  0.34 ( 0.06 ) 0.93 ( 0 ) 0.32 13.60      0.54\n",
       "3 500  50  0   2.67 ( 0.6 )   0.1 ( 0.03 )  0.91 ( 0 ) 0.63  8.57      0.19\n",
       "4 1000 50  0   1.61 ( 0.48 )  0.04 ( 0.02 ) 0.91 ( 0 ) 0.75  7.57      0.09\n",
       "5 50   100 0   39.18 ( 2.14 ) 0.63 ( 0.07 ) 0.99 ( 0 ) 0.06 44.55      0.85\n",
       "6 100  100 0   16.29 ( 1.16 ) 0.47 ( 0.06 ) 0.94 ( 0 ) 0.2  21.82      0.70"
      ]
     },
     "metadata": {},
     "output_type": "display_data"
    }
   ],
   "source": [
    "head(table_toe)"
   ]
  },
  {
   "cell_type": "code",
   "execution_count": 6,
   "metadata": {},
   "outputs": [
    {
     "data": {
      "text/html": [
       "<table>\n",
       "<caption>A data.frame: 6 × 9</caption>\n",
       "<thead>\n",
       "\t<tr><th></th><th scope=col>n</th><th scope=col>p</th><th scope=col>rou</th><th scope=col>FP</th><th scope=col>FN</th><th scope=col>ROC</th><th scope=col>Stab</th><th scope=col>num_select</th><th scope=col>FDR</th></tr>\n",
       "\t<tr><th></th><th scope=col>&lt;list&gt;</th><th scope=col>&lt;list&gt;</th><th scope=col>&lt;list&gt;</th><th scope=col>&lt;list&gt;</th><th scope=col>&lt;list&gt;</th><th scope=col>&lt;list&gt;</th><th scope=col>&lt;list&gt;</th><th scope=col>&lt;dbl&gt;</th><th scope=col>&lt;dbl&gt;</th></tr>\n",
       "</thead>\n",
       "<tbody>\n",
       "\t<tr><th scope=row>11</th><td>500</td><td>500</td><td>0</td><td>8.32 ( 1.15 )</td><td>0.1 ( 0.03 )</td><td>0.91 ( 0 )</td><td>0.43</td><td> 14.22</td><td>0.41</td></tr>\n",
       "\t<tr><th scope=row>12</th><td>1000</td><td>500</td><td>0</td><td>4.63 ( 1.57 )</td><td>0 ( 0 )</td><td>0.91 ( 0 )</td><td>0.6</td><td> 10.63</td><td>0.21</td></tr>\n",
       "\t<tr><th scope=row>13</th><td>50</td><td>1000</td><td>0</td><td>406.32 ( 7.33 )</td><td>0.73 ( 0.07 )</td><td>1 ( 0 )</td><td>0.01</td><td>411.59</td><td>0.99</td></tr>\n",
       "\t<tr><th scope=row>14</th><td>100</td><td>1000</td><td>0</td><td>283.24 ( 7.31 )</td><td>0.49 ( 0.06 )</td><td>1 ( 0 )</td><td>0.02</td><td>288.75</td><td>0.98</td></tr>\n",
       "\t<tr><th scope=row>15</th><td>500</td><td>1000</td><td>0</td><td>9.4 ( 1.07 )</td><td>0.07 ( 0.03 )</td><td>0.91 ( 0 )</td><td>0.4</td><td> 15.33</td><td>0.47</td></tr>\n",
       "\t<tr><th scope=row>16</th><td>1000</td><td>1000</td><td>0</td><td>1.91 ( 0.29 )</td><td>0.01 ( 0.01 )</td><td>0.91 ( 0 )</td><td>0.82</td><td>  7.90</td><td>0.18</td></tr>\n",
       "</tbody>\n",
       "</table>\n"
      ],
      "text/latex": [
       "A data.frame: 6 × 9\n",
       "\\begin{tabular}{r|lllllllll}\n",
       "  & n & p & rou & FP & FN & ROC & Stab & num\\_select & FDR\\\\\n",
       "  & <list> & <list> & <list> & <list> & <list> & <list> & <list> & <dbl> & <dbl>\\\\\n",
       "\\hline\n",
       "\t11 & 500 & 500 & 0 & 8.32 ( 1.15 ) & 0.1 ( 0.03 ) & 0.91 ( 0 ) & 0.43 &  14.22 & 0.41\\\\\n",
       "\t12 & 1000 & 500 & 0 & 4.63 ( 1.57 ) & 0 ( 0 ) & 0.91 ( 0 ) & 0.6 &  10.63 & 0.21\\\\\n",
       "\t13 & 50 & 1000 & 0 & 406.32 ( 7.33 ) & 0.73 ( 0.07 ) & 1 ( 0 ) & 0.01 & 411.59 & 0.99\\\\\n",
       "\t14 & 100 & 1000 & 0 & 283.24 ( 7.31 ) & 0.49 ( 0.06 ) & 1 ( 0 ) & 0.02 & 288.75 & 0.98\\\\\n",
       "\t15 & 500 & 1000 & 0 & 9.4 ( 1.07 ) & 0.07 ( 0.03 ) & 0.91 ( 0 ) & 0.4 &  15.33 & 0.47\\\\\n",
       "\t16 & 1000 & 1000 & 0 & 1.91 ( 0.29 ) & 0.01 ( 0.01 ) & 0.91 ( 0 ) & 0.82 &   7.90 & 0.18\\\\\n",
       "\\end{tabular}\n"
      ],
      "text/markdown": [
       "\n",
       "A data.frame: 6 × 9\n",
       "\n",
       "| <!--/--> | n &lt;list&gt; | p &lt;list&gt; | rou &lt;list&gt; | FP &lt;list&gt; | FN &lt;list&gt; | ROC &lt;list&gt; | Stab &lt;list&gt; | num_select &lt;dbl&gt; | FDR &lt;dbl&gt; |\n",
       "|---|---|---|---|---|---|---|---|---|---|\n",
       "| 11 | 500 | 500 | 0 | 8.32 ( 1.15 ) | 0.1 ( 0.03 ) | 0.91 ( 0 ) | 0.43 |  14.22 | 0.41 |\n",
       "| 12 | 1000 | 500 | 0 | 4.63 ( 1.57 ) | 0 ( 0 ) | 0.91 ( 0 ) | 0.6 |  10.63 | 0.21 |\n",
       "| 13 | 50 | 1000 | 0 | 406.32 ( 7.33 ) | 0.73 ( 0.07 ) | 1 ( 0 ) | 0.01 | 411.59 | 0.99 |\n",
       "| 14 | 100 | 1000 | 0 | 283.24 ( 7.31 ) | 0.49 ( 0.06 ) | 1 ( 0 ) | 0.02 | 288.75 | 0.98 |\n",
       "| 15 | 500 | 1000 | 0 | 9.4 ( 1.07 ) | 0.07 ( 0.03 ) | 0.91 ( 0 ) | 0.4 |  15.33 | 0.47 |\n",
       "| 16 | 1000 | 1000 | 0 | 1.91 ( 0.29 ) | 0.01 ( 0.01 ) | 0.91 ( 0 ) | 0.82 |   7.90 | 0.18 |\n",
       "\n"
      ],
      "text/plain": [
       "   n    p    rou FP              FN            ROC        Stab num_select FDR \n",
       "11 500  500  0   8.32 ( 1.15 )   0.1 ( 0.03 )  0.91 ( 0 ) 0.43  14.22     0.41\n",
       "12 1000 500  0   4.63 ( 1.57 )   0 ( 0 )       0.91 ( 0 ) 0.6   10.63     0.21\n",
       "13 50   1000 0   406.32 ( 7.33 ) 0.73 ( 0.07 ) 1 ( 0 )    0.01 411.59     0.99\n",
       "14 100  1000 0   283.24 ( 7.31 ) 0.49 ( 0.06 ) 1 ( 0 )    0.02 288.75     0.98\n",
       "15 500  1000 0   9.4 ( 1.07 )    0.07 ( 0.03 ) 0.91 ( 0 ) 0.4   15.33     0.47\n",
       "16 1000 1000 0   1.91 ( 0.29 )   0.01 ( 0.01 ) 0.91 ( 0 ) 0.82   7.90     0.18"
      ]
     },
     "metadata": {},
     "output_type": "display_data"
    }
   ],
   "source": [
    "tail(table_toe)"
   ]
  },
  {
   "cell_type": "code",
   "execution_count": 7,
   "metadata": {},
   "outputs": [
    {
     "name": "stderr",
     "output_type": "stream",
     "text": [
      "extract_numeric() is deprecated: please use readr::parse_number() instead\n",
      "\n",
      "extract_numeric() is deprecated: please use readr::parse_number() instead\n",
      "\n"
     ]
    }
   ],
   "source": [
    "# export result\n",
    "result.table_toe <- apply(table_toe,2,as.character)\n",
    "rownames(result.table_toe) = rownames(table_toe)\n",
    "result.table_toe = as.data.frame(result.table_toe)\n",
    "\n",
    "# extract numbers only for 'n' & 'p'\n",
    "result.table_toe$n = tidyr::extract_numeric(result.table_toe$n)\n",
    "result.table_toe$p = tidyr::extract_numeric(result.table_toe$p)\n",
    "result.table_toe$ratio = result.table_toe$p / result.table_toe$n\n",
    "\n",
    "result.table_toe = result.table_toe[c('n', 'p', 'rou', 'ratio', 'Stab', 'ROC', 'FP', 'FN', 'num_select', 'FDR')]\n",
    "colnames(result.table_toe)[1:4] = c('N', 'P', 'Corr', 'Ratio')"
   ]
  },
  {
   "cell_type": "code",
   "execution_count": 8,
   "metadata": {},
   "outputs": [],
   "source": [
    "# convert interested measurements to be numeric\n",
    "result.table_toe$Stab = as.numeric(as.character(result.table_toe$Stab))\n",
    "# result.table_toe$ROC_mean = as.numeric(substr(result.table_toe$ROC, start=1, stop=4))\n",
    "# result.table_toe$FP_mean = as.numeric(substr(result.table_toe$FP, start=1, stop=4))\n",
    "# result.table_toe$FN_mean = as.numeric(substr(result.table_toe$FN, start=1, stop=4))\n",
    "# result.table_toe$FN_mean[is.na(result.table_toe$FN_mean)] = 0\n",
    "result.table_toe$num_select = as.numeric(as.character(result.table_toe$num_select))\n",
    "\n",
    "result.table_toe$ROC_mean = as.numeric(sub(\"\\\\(.*\", \"\", result.table_toe$ROC))\n",
    "result.table_toe$FP_mean = as.numeric(sub(\"\\\\(.*\", \"\", result.table_toe$FP))\n",
    "result.table_toe$FN_mean = as.numeric(sub(\"\\\\(.*\", \"\", result.table_toe$FN))"
   ]
  },
  {
   "cell_type": "code",
   "execution_count": 9,
   "metadata": {},
   "outputs": [
    {
     "data": {
      "text/html": [
       "<table>\n",
       "<caption>A data.frame: 0 × 13</caption>\n",
       "<thead>\n",
       "\t<tr><th scope=col>N</th><th scope=col>P</th><th scope=col>Corr</th><th scope=col>Ratio</th><th scope=col>Stab</th><th scope=col>ROC</th><th scope=col>FP</th><th scope=col>FN</th><th scope=col>num_select</th><th scope=col>FDR</th><th scope=col>ROC_mean</th><th scope=col>FP_mean</th><th scope=col>FN_mean</th></tr>\n",
       "\t<tr><th scope=col>&lt;dbl&gt;</th><th scope=col>&lt;dbl&gt;</th><th scope=col>&lt;fct&gt;</th><th scope=col>&lt;dbl&gt;</th><th scope=col>&lt;dbl&gt;</th><th scope=col>&lt;fct&gt;</th><th scope=col>&lt;fct&gt;</th><th scope=col>&lt;fct&gt;</th><th scope=col>&lt;dbl&gt;</th><th scope=col>&lt;fct&gt;</th><th scope=col>&lt;dbl&gt;</th><th scope=col>&lt;dbl&gt;</th><th scope=col>&lt;dbl&gt;</th></tr>\n",
       "</thead>\n",
       "<tbody>\n",
       "</tbody>\n",
       "</table>\n"
      ],
      "text/latex": [
       "A data.frame: 0 × 13\n",
       "\\begin{tabular}{lllllllllllll}\n",
       " N & P & Corr & Ratio & Stab & ROC & FP & FN & num\\_select & FDR & ROC\\_mean & FP\\_mean & FN\\_mean\\\\\n",
       " <dbl> & <dbl> & <fct> & <dbl> & <dbl> & <fct> & <fct> & <fct> & <dbl> & <fct> & <dbl> & <dbl> & <dbl>\\\\\n",
       "\\hline\n",
       "\\end{tabular}\n"
      ],
      "text/markdown": [
       "\n",
       "A data.frame: 0 × 13\n",
       "\n",
       "| N &lt;dbl&gt; | P &lt;dbl&gt; | Corr &lt;fct&gt; | Ratio &lt;dbl&gt; | Stab &lt;dbl&gt; | ROC &lt;fct&gt; | FP &lt;fct&gt; | FN &lt;fct&gt; | num_select &lt;dbl&gt; | FDR &lt;fct&gt; | ROC_mean &lt;dbl&gt; | FP_mean &lt;dbl&gt; | FN_mean &lt;dbl&gt; |\n",
       "|---|---|---|---|---|---|---|---|---|---|---|---|---|\n",
       "\n"
      ],
      "text/plain": [
       "     N P Corr Ratio Stab ROC FP FN num_select FDR ROC_mean FP_mean FN_mean"
      ]
     },
     "metadata": {},
     "output_type": "display_data"
    }
   ],
   "source": [
    "# check whether missing values exists\n",
    "result.table_toe[rowSums(is.na(result.table_toe)) > 0,]"
   ]
  },
  {
   "cell_type": "code",
   "execution_count": 10,
   "metadata": {},
   "outputs": [
    {
     "data": {
      "text/html": [
       "<table>\n",
       "<caption>A data.frame: 6 × 13</caption>\n",
       "<thead>\n",
       "\t<tr><th></th><th scope=col>N</th><th scope=col>P</th><th scope=col>Corr</th><th scope=col>Ratio</th><th scope=col>Stab</th><th scope=col>ROC</th><th scope=col>FP</th><th scope=col>FN</th><th scope=col>num_select</th><th scope=col>FDR</th><th scope=col>ROC_mean</th><th scope=col>FP_mean</th><th scope=col>FN_mean</th></tr>\n",
       "\t<tr><th></th><th scope=col>&lt;dbl&gt;</th><th scope=col>&lt;dbl&gt;</th><th scope=col>&lt;fct&gt;</th><th scope=col>&lt;dbl&gt;</th><th scope=col>&lt;dbl&gt;</th><th scope=col>&lt;fct&gt;</th><th scope=col>&lt;fct&gt;</th><th scope=col>&lt;fct&gt;</th><th scope=col>&lt;dbl&gt;</th><th scope=col>&lt;fct&gt;</th><th scope=col>&lt;dbl&gt;</th><th scope=col>&lt;dbl&gt;</th><th scope=col>&lt;dbl&gt;</th></tr>\n",
       "</thead>\n",
       "<tbody>\n",
       "\t<tr><th scope=row>1</th><td>  50</td><td> 50</td><td>0</td><td>1.00</td><td>0.13</td><td>0.98 ( 0 )</td><td>16.38 ( 0.96 )</td><td>0.61 ( 0.06 )</td><td>21.77</td><td>0.71</td><td>0.98</td><td>16.38</td><td>0.61</td></tr>\n",
       "\t<tr><th scope=row>2</th><td> 100</td><td> 50</td><td>0</td><td>0.50</td><td>0.32</td><td>0.93 ( 0 )</td><td>7.94 ( 0.54 ) </td><td>0.34 ( 0.06 )</td><td>13.60</td><td>0.54</td><td>0.93</td><td> 7.94</td><td>0.34</td></tr>\n",
       "\t<tr><th scope=row>3</th><td> 500</td><td> 50</td><td>0</td><td>0.10</td><td>0.63</td><td>0.91 ( 0 )</td><td>2.67 ( 0.6 )  </td><td>0.1 ( 0.03 ) </td><td> 8.57</td><td>0.19</td><td>0.91</td><td> 2.67</td><td>0.10</td></tr>\n",
       "\t<tr><th scope=row>4</th><td>1000</td><td> 50</td><td>0</td><td>0.05</td><td>0.75</td><td>0.91 ( 0 )</td><td>1.61 ( 0.48 ) </td><td>0.04 ( 0.02 )</td><td> 7.57</td><td>0.09</td><td>0.91</td><td> 1.61</td><td>0.04</td></tr>\n",
       "\t<tr><th scope=row>5</th><td>  50</td><td>100</td><td>0</td><td>2.00</td><td>0.06</td><td>0.99 ( 0 )</td><td>39.18 ( 2.14 )</td><td>0.63 ( 0.07 )</td><td>44.55</td><td>0.85</td><td>0.99</td><td>39.18</td><td>0.63</td></tr>\n",
       "\t<tr><th scope=row>6</th><td> 100</td><td>100</td><td>0</td><td>1.00</td><td>0.20</td><td>0.94 ( 0 )</td><td>16.29 ( 1.16 )</td><td>0.47 ( 0.06 )</td><td>21.82</td><td>0.7 </td><td>0.94</td><td>16.29</td><td>0.47</td></tr>\n",
       "</tbody>\n",
       "</table>\n"
      ],
      "text/latex": [
       "A data.frame: 6 × 13\n",
       "\\begin{tabular}{r|lllllllllllll}\n",
       "  & N & P & Corr & Ratio & Stab & ROC & FP & FN & num\\_select & FDR & ROC\\_mean & FP\\_mean & FN\\_mean\\\\\n",
       "  & <dbl> & <dbl> & <fct> & <dbl> & <dbl> & <fct> & <fct> & <fct> & <dbl> & <fct> & <dbl> & <dbl> & <dbl>\\\\\n",
       "\\hline\n",
       "\t1 &   50 &  50 & 0 & 1.00 & 0.13 & 0.98 ( 0 ) & 16.38 ( 0.96 ) & 0.61 ( 0.06 ) & 21.77 & 0.71 & 0.98 & 16.38 & 0.61\\\\\n",
       "\t2 &  100 &  50 & 0 & 0.50 & 0.32 & 0.93 ( 0 ) & 7.94 ( 0.54 )  & 0.34 ( 0.06 ) & 13.60 & 0.54 & 0.93 &  7.94 & 0.34\\\\\n",
       "\t3 &  500 &  50 & 0 & 0.10 & 0.63 & 0.91 ( 0 ) & 2.67 ( 0.6 )   & 0.1 ( 0.03 )  &  8.57 & 0.19 & 0.91 &  2.67 & 0.10\\\\\n",
       "\t4 & 1000 &  50 & 0 & 0.05 & 0.75 & 0.91 ( 0 ) & 1.61 ( 0.48 )  & 0.04 ( 0.02 ) &  7.57 & 0.09 & 0.91 &  1.61 & 0.04\\\\\n",
       "\t5 &   50 & 100 & 0 & 2.00 & 0.06 & 0.99 ( 0 ) & 39.18 ( 2.14 ) & 0.63 ( 0.07 ) & 44.55 & 0.85 & 0.99 & 39.18 & 0.63\\\\\n",
       "\t6 &  100 & 100 & 0 & 1.00 & 0.20 & 0.94 ( 0 ) & 16.29 ( 1.16 ) & 0.47 ( 0.06 ) & 21.82 & 0.7  & 0.94 & 16.29 & 0.47\\\\\n",
       "\\end{tabular}\n"
      ],
      "text/markdown": [
       "\n",
       "A data.frame: 6 × 13\n",
       "\n",
       "| <!--/--> | N &lt;dbl&gt; | P &lt;dbl&gt; | Corr &lt;fct&gt; | Ratio &lt;dbl&gt; | Stab &lt;dbl&gt; | ROC &lt;fct&gt; | FP &lt;fct&gt; | FN &lt;fct&gt; | num_select &lt;dbl&gt; | FDR &lt;fct&gt; | ROC_mean &lt;dbl&gt; | FP_mean &lt;dbl&gt; | FN_mean &lt;dbl&gt; |\n",
       "|---|---|---|---|---|---|---|---|---|---|---|---|---|---|\n",
       "| 1 |   50 |  50 | 0 | 1.00 | 0.13 | 0.98 ( 0 ) | 16.38 ( 0.96 ) | 0.61 ( 0.06 ) | 21.77 | 0.71 | 0.98 | 16.38 | 0.61 |\n",
       "| 2 |  100 |  50 | 0 | 0.50 | 0.32 | 0.93 ( 0 ) | 7.94 ( 0.54 )  | 0.34 ( 0.06 ) | 13.60 | 0.54 | 0.93 |  7.94 | 0.34 |\n",
       "| 3 |  500 |  50 | 0 | 0.10 | 0.63 | 0.91 ( 0 ) | 2.67 ( 0.6 )   | 0.1 ( 0.03 )  |  8.57 | 0.19 | 0.91 |  2.67 | 0.10 |\n",
       "| 4 | 1000 |  50 | 0 | 0.05 | 0.75 | 0.91 ( 0 ) | 1.61 ( 0.48 )  | 0.04 ( 0.02 ) |  7.57 | 0.09 | 0.91 |  1.61 | 0.04 |\n",
       "| 5 |   50 | 100 | 0 | 2.00 | 0.06 | 0.99 ( 0 ) | 39.18 ( 2.14 ) | 0.63 ( 0.07 ) | 44.55 | 0.85 | 0.99 | 39.18 | 0.63 |\n",
       "| 6 |  100 | 100 | 0 | 1.00 | 0.20 | 0.94 ( 0 ) | 16.29 ( 1.16 ) | 0.47 ( 0.06 ) | 21.82 | 0.7  | 0.94 | 16.29 | 0.47 |\n",
       "\n"
      ],
      "text/plain": [
       "  N    P   Corr Ratio Stab ROC        FP             FN            num_select\n",
       "1   50  50 0    1.00  0.13 0.98 ( 0 ) 16.38 ( 0.96 ) 0.61 ( 0.06 ) 21.77     \n",
       "2  100  50 0    0.50  0.32 0.93 ( 0 ) 7.94 ( 0.54 )  0.34 ( 0.06 ) 13.60     \n",
       "3  500  50 0    0.10  0.63 0.91 ( 0 ) 2.67 ( 0.6 )   0.1 ( 0.03 )   8.57     \n",
       "4 1000  50 0    0.05  0.75 0.91 ( 0 ) 1.61 ( 0.48 )  0.04 ( 0.02 )  7.57     \n",
       "5   50 100 0    2.00  0.06 0.99 ( 0 ) 39.18 ( 2.14 ) 0.63 ( 0.07 ) 44.55     \n",
       "6  100 100 0    1.00  0.20 0.94 ( 0 ) 16.29 ( 1.16 ) 0.47 ( 0.06 ) 21.82     \n",
       "  FDR  ROC_mean FP_mean FN_mean\n",
       "1 0.71 0.98     16.38   0.61   \n",
       "2 0.54 0.93      7.94   0.34   \n",
       "3 0.19 0.91      2.67   0.10   \n",
       "4 0.09 0.91      1.61   0.04   \n",
       "5 0.85 0.99     39.18   0.63   \n",
       "6 0.7  0.94     16.29   0.47   "
      ]
     },
     "metadata": {},
     "output_type": "display_data"
    }
   ],
   "source": [
    "head(result.table_toe)"
   ]
  },
  {
   "cell_type": "code",
   "execution_count": 11,
   "metadata": {},
   "outputs": [
    {
     "data": {
      "text/html": [
       "<table>\n",
       "<caption>A data.frame: 6 × 13</caption>\n",
       "<thead>\n",
       "\t<tr><th></th><th scope=col>N</th><th scope=col>P</th><th scope=col>Corr</th><th scope=col>Ratio</th><th scope=col>Stab</th><th scope=col>ROC</th><th scope=col>FP</th><th scope=col>FN</th><th scope=col>num_select</th><th scope=col>FDR</th><th scope=col>ROC_mean</th><th scope=col>FP_mean</th><th scope=col>FN_mean</th></tr>\n",
       "\t<tr><th></th><th scope=col>&lt;dbl&gt;</th><th scope=col>&lt;dbl&gt;</th><th scope=col>&lt;fct&gt;</th><th scope=col>&lt;dbl&gt;</th><th scope=col>&lt;dbl&gt;</th><th scope=col>&lt;fct&gt;</th><th scope=col>&lt;fct&gt;</th><th scope=col>&lt;fct&gt;</th><th scope=col>&lt;dbl&gt;</th><th scope=col>&lt;fct&gt;</th><th scope=col>&lt;dbl&gt;</th><th scope=col>&lt;dbl&gt;</th><th scope=col>&lt;dbl&gt;</th></tr>\n",
       "</thead>\n",
       "<tbody>\n",
       "\t<tr><th scope=row>11</th><td> 500</td><td> 500</td><td>0</td><td> 1.0</td><td>0.43</td><td>0.91 ( 0 )</td><td>8.32 ( 1.15 )  </td><td>0.1 ( 0.03 ) </td><td> 14.22</td><td>0.41</td><td>0.91</td><td>  8.32</td><td>0.10</td></tr>\n",
       "\t<tr><th scope=row>12</th><td>1000</td><td> 500</td><td>0</td><td> 0.5</td><td>0.60</td><td>0.91 ( 0 )</td><td>4.63 ( 1.57 )  </td><td>0 ( 0 )      </td><td> 10.63</td><td>0.21</td><td>0.91</td><td>  4.63</td><td>0.00</td></tr>\n",
       "\t<tr><th scope=row>13</th><td>  50</td><td>1000</td><td>0</td><td>20.0</td><td>0.01</td><td>1 ( 0 )   </td><td>406.32 ( 7.33 )</td><td>0.73 ( 0.07 )</td><td>411.59</td><td>0.99</td><td>1.00</td><td>406.32</td><td>0.73</td></tr>\n",
       "\t<tr><th scope=row>14</th><td> 100</td><td>1000</td><td>0</td><td>10.0</td><td>0.02</td><td>1 ( 0 )   </td><td>283.24 ( 7.31 )</td><td>0.49 ( 0.06 )</td><td>288.75</td><td>0.98</td><td>1.00</td><td>283.24</td><td>0.49</td></tr>\n",
       "\t<tr><th scope=row>15</th><td> 500</td><td>1000</td><td>0</td><td> 2.0</td><td>0.40</td><td>0.91 ( 0 )</td><td>9.4 ( 1.07 )   </td><td>0.07 ( 0.03 )</td><td> 15.33</td><td>0.47</td><td>0.91</td><td>  9.40</td><td>0.07</td></tr>\n",
       "\t<tr><th scope=row>16</th><td>1000</td><td>1000</td><td>0</td><td> 1.0</td><td>0.82</td><td>0.91 ( 0 )</td><td>1.91 ( 0.29 )  </td><td>0.01 ( 0.01 )</td><td>  7.90</td><td>0.18</td><td>0.91</td><td>  1.91</td><td>0.01</td></tr>\n",
       "</tbody>\n",
       "</table>\n"
      ],
      "text/latex": [
       "A data.frame: 6 × 13\n",
       "\\begin{tabular}{r|lllllllllllll}\n",
       "  & N & P & Corr & Ratio & Stab & ROC & FP & FN & num\\_select & FDR & ROC\\_mean & FP\\_mean & FN\\_mean\\\\\n",
       "  & <dbl> & <dbl> & <fct> & <dbl> & <dbl> & <fct> & <fct> & <fct> & <dbl> & <fct> & <dbl> & <dbl> & <dbl>\\\\\n",
       "\\hline\n",
       "\t11 &  500 &  500 & 0 &  1.0 & 0.43 & 0.91 ( 0 ) & 8.32 ( 1.15 )   & 0.1 ( 0.03 )  &  14.22 & 0.41 & 0.91 &   8.32 & 0.10\\\\\n",
       "\t12 & 1000 &  500 & 0 &  0.5 & 0.60 & 0.91 ( 0 ) & 4.63 ( 1.57 )   & 0 ( 0 )       &  10.63 & 0.21 & 0.91 &   4.63 & 0.00\\\\\n",
       "\t13 &   50 & 1000 & 0 & 20.0 & 0.01 & 1 ( 0 )    & 406.32 ( 7.33 ) & 0.73 ( 0.07 ) & 411.59 & 0.99 & 1.00 & 406.32 & 0.73\\\\\n",
       "\t14 &  100 & 1000 & 0 & 10.0 & 0.02 & 1 ( 0 )    & 283.24 ( 7.31 ) & 0.49 ( 0.06 ) & 288.75 & 0.98 & 1.00 & 283.24 & 0.49\\\\\n",
       "\t15 &  500 & 1000 & 0 &  2.0 & 0.40 & 0.91 ( 0 ) & 9.4 ( 1.07 )    & 0.07 ( 0.03 ) &  15.33 & 0.47 & 0.91 &   9.40 & 0.07\\\\\n",
       "\t16 & 1000 & 1000 & 0 &  1.0 & 0.82 & 0.91 ( 0 ) & 1.91 ( 0.29 )   & 0.01 ( 0.01 ) &   7.90 & 0.18 & 0.91 &   1.91 & 0.01\\\\\n",
       "\\end{tabular}\n"
      ],
      "text/markdown": [
       "\n",
       "A data.frame: 6 × 13\n",
       "\n",
       "| <!--/--> | N &lt;dbl&gt; | P &lt;dbl&gt; | Corr &lt;fct&gt; | Ratio &lt;dbl&gt; | Stab &lt;dbl&gt; | ROC &lt;fct&gt; | FP &lt;fct&gt; | FN &lt;fct&gt; | num_select &lt;dbl&gt; | FDR &lt;fct&gt; | ROC_mean &lt;dbl&gt; | FP_mean &lt;dbl&gt; | FN_mean &lt;dbl&gt; |\n",
       "|---|---|---|---|---|---|---|---|---|---|---|---|---|---|\n",
       "| 11 |  500 |  500 | 0 |  1.0 | 0.43 | 0.91 ( 0 ) | 8.32 ( 1.15 )   | 0.1 ( 0.03 )  |  14.22 | 0.41 | 0.91 |   8.32 | 0.10 |\n",
       "| 12 | 1000 |  500 | 0 |  0.5 | 0.60 | 0.91 ( 0 ) | 4.63 ( 1.57 )   | 0 ( 0 )       |  10.63 | 0.21 | 0.91 |   4.63 | 0.00 |\n",
       "| 13 |   50 | 1000 | 0 | 20.0 | 0.01 | 1 ( 0 )    | 406.32 ( 7.33 ) | 0.73 ( 0.07 ) | 411.59 | 0.99 | 1.00 | 406.32 | 0.73 |\n",
       "| 14 |  100 | 1000 | 0 | 10.0 | 0.02 | 1 ( 0 )    | 283.24 ( 7.31 ) | 0.49 ( 0.06 ) | 288.75 | 0.98 | 1.00 | 283.24 | 0.49 |\n",
       "| 15 |  500 | 1000 | 0 |  2.0 | 0.40 | 0.91 ( 0 ) | 9.4 ( 1.07 )    | 0.07 ( 0.03 ) |  15.33 | 0.47 | 0.91 |   9.40 | 0.07 |\n",
       "| 16 | 1000 | 1000 | 0 |  1.0 | 0.82 | 0.91 ( 0 ) | 1.91 ( 0.29 )   | 0.01 ( 0.01 ) |   7.90 | 0.18 | 0.91 |   1.91 | 0.01 |\n",
       "\n"
      ],
      "text/plain": [
       "   N    P    Corr Ratio Stab ROC        FP              FN           \n",
       "11  500  500 0     1.0  0.43 0.91 ( 0 ) 8.32 ( 1.15 )   0.1 ( 0.03 ) \n",
       "12 1000  500 0     0.5  0.60 0.91 ( 0 ) 4.63 ( 1.57 )   0 ( 0 )      \n",
       "13   50 1000 0    20.0  0.01 1 ( 0 )    406.32 ( 7.33 ) 0.73 ( 0.07 )\n",
       "14  100 1000 0    10.0  0.02 1 ( 0 )    283.24 ( 7.31 ) 0.49 ( 0.06 )\n",
       "15  500 1000 0     2.0  0.40 0.91 ( 0 ) 9.4 ( 1.07 )    0.07 ( 0.03 )\n",
       "16 1000 1000 0     1.0  0.82 0.91 ( 0 ) 1.91 ( 0.29 )   0.01 ( 0.01 )\n",
       "   num_select FDR  ROC_mean FP_mean FN_mean\n",
       "11  14.22     0.41 0.91       8.32  0.10   \n",
       "12  10.63     0.21 0.91       4.63  0.00   \n",
       "13 411.59     0.99 1.00     406.32  0.73   \n",
       "14 288.75     0.98 1.00     283.24  0.49   \n",
       "15  15.33     0.47 0.91       9.40  0.07   \n",
       "16   7.90     0.18 0.91       1.91  0.01   "
      ]
     },
     "metadata": {},
     "output_type": "display_data"
    }
   ],
   "source": [
    "tail(result.table_toe)"
   ]
  },
  {
   "cell_type": "code",
   "execution_count": 12,
   "metadata": {},
   "outputs": [
    {
     "data": {
      "text/html": [
       "<table>\n",
       "<caption>A data.frame: 16 × 13</caption>\n",
       "<thead>\n",
       "\t<tr><th></th><th scope=col>N</th><th scope=col>P</th><th scope=col>Corr</th><th scope=col>Ratio</th><th scope=col>Stab</th><th scope=col>ROC</th><th scope=col>FP</th><th scope=col>FN</th><th scope=col>num_select</th><th scope=col>FDR</th><th scope=col>ROC_mean</th><th scope=col>FP_mean</th><th scope=col>FN_mean</th></tr>\n",
       "\t<tr><th></th><th scope=col>&lt;dbl&gt;</th><th scope=col>&lt;dbl&gt;</th><th scope=col>&lt;fct&gt;</th><th scope=col>&lt;dbl&gt;</th><th scope=col>&lt;dbl&gt;</th><th scope=col>&lt;fct&gt;</th><th scope=col>&lt;fct&gt;</th><th scope=col>&lt;fct&gt;</th><th scope=col>&lt;dbl&gt;</th><th scope=col>&lt;fct&gt;</th><th scope=col>&lt;dbl&gt;</th><th scope=col>&lt;dbl&gt;</th><th scope=col>&lt;dbl&gt;</th></tr>\n",
       "</thead>\n",
       "<tbody>\n",
       "\t<tr><th scope=row>1</th><td>  50</td><td>  50</td><td>0</td><td> 1.00</td><td>0.13</td><td>0.98 ( 0 )</td><td>16.38 ( 0.96 ) </td><td>0.61 ( 0.06 )</td><td> 21.77</td><td>0.71</td><td>0.98</td><td> 16.38</td><td>0.61</td></tr>\n",
       "\t<tr><th scope=row>2</th><td> 100</td><td>  50</td><td>0</td><td> 0.50</td><td>0.32</td><td>0.93 ( 0 )</td><td>7.94 ( 0.54 )  </td><td>0.34 ( 0.06 )</td><td> 13.60</td><td>0.54</td><td>0.93</td><td>  7.94</td><td>0.34</td></tr>\n",
       "\t<tr><th scope=row>3</th><td> 500</td><td>  50</td><td>0</td><td> 0.10</td><td>0.63</td><td>0.91 ( 0 )</td><td>2.67 ( 0.6 )   </td><td>0.1 ( 0.03 ) </td><td>  8.57</td><td>0.19</td><td>0.91</td><td>  2.67</td><td>0.10</td></tr>\n",
       "\t<tr><th scope=row>4</th><td>1000</td><td>  50</td><td>0</td><td> 0.05</td><td>0.75</td><td>0.91 ( 0 )</td><td>1.61 ( 0.48 )  </td><td>0.04 ( 0.02 )</td><td>  7.57</td><td>0.09</td><td>0.91</td><td>  1.61</td><td>0.04</td></tr>\n",
       "\t<tr><th scope=row>5</th><td>  50</td><td> 100</td><td>0</td><td> 2.00</td><td>0.06</td><td>0.99 ( 0 )</td><td>39.18 ( 2.14 ) </td><td>0.63 ( 0.07 )</td><td> 44.55</td><td>0.85</td><td>0.99</td><td> 39.18</td><td>0.63</td></tr>\n",
       "\t<tr><th scope=row>6</th><td> 100</td><td> 100</td><td>0</td><td> 1.00</td><td>0.20</td><td>0.94 ( 0 )</td><td>16.29 ( 1.16 ) </td><td>0.47 ( 0.06 )</td><td> 21.82</td><td>0.7 </td><td>0.94</td><td> 16.29</td><td>0.47</td></tr>\n",
       "\t<tr><th scope=row>7</th><td> 500</td><td> 100</td><td>0</td><td> 0.20</td><td>0.47</td><td>0.91 ( 0 )</td><td>5.63 ( 0.84 )  </td><td>0.13 ( 0.03 )</td><td> 11.50</td><td>0.3 </td><td>0.91</td><td>  5.63</td><td>0.13</td></tr>\n",
       "\t<tr><th scope=row>8</th><td>1000</td><td> 100</td><td>0</td><td> 0.10</td><td>0.43</td><td>0.91 ( 0 )</td><td>6.87 ( 1.8 )   </td><td>0 ( 0 )      </td><td> 12.87</td><td>0.17</td><td>0.91</td><td>  6.87</td><td>0.00</td></tr>\n",
       "\t<tr><th scope=row>9</th><td>  50</td><td> 500</td><td>0</td><td>10.00</td><td>0.01</td><td>1 ( 0 )   </td><td>251.02 ( 6.8 ) </td><td>0.36 ( 0.06 )</td><td>256.66</td><td>0.98</td><td>1.00</td><td>251.02</td><td>0.36</td></tr>\n",
       "\t<tr><th scope=row>10</th><td> 100</td><td> 500</td><td>0</td><td> 5.00</td><td>0.03</td><td>1 ( 0 )   </td><td>134.32 ( 6.63 )</td><td>0.33 ( 0.05 )</td><td>139.99</td><td>0.95</td><td>1.00</td><td>134.32</td><td>0.33</td></tr>\n",
       "\t<tr><th scope=row>11</th><td> 500</td><td> 500</td><td>0</td><td> 1.00</td><td>0.43</td><td>0.91 ( 0 )</td><td>8.32 ( 1.15 )  </td><td>0.1 ( 0.03 ) </td><td> 14.22</td><td>0.41</td><td>0.91</td><td>  8.32</td><td>0.10</td></tr>\n",
       "\t<tr><th scope=row>12</th><td>1000</td><td> 500</td><td>0</td><td> 0.50</td><td>0.60</td><td>0.91 ( 0 )</td><td>4.63 ( 1.57 )  </td><td>0 ( 0 )      </td><td> 10.63</td><td>0.21</td><td>0.91</td><td>  4.63</td><td>0.00</td></tr>\n",
       "\t<tr><th scope=row>13</th><td>  50</td><td>1000</td><td>0</td><td>20.00</td><td>0.01</td><td>1 ( 0 )   </td><td>406.32 ( 7.33 )</td><td>0.73 ( 0.07 )</td><td>411.59</td><td>0.99</td><td>1.00</td><td>406.32</td><td>0.73</td></tr>\n",
       "\t<tr><th scope=row>14</th><td> 100</td><td>1000</td><td>0</td><td>10.00</td><td>0.02</td><td>1 ( 0 )   </td><td>283.24 ( 7.31 )</td><td>0.49 ( 0.06 )</td><td>288.75</td><td>0.98</td><td>1.00</td><td>283.24</td><td>0.49</td></tr>\n",
       "\t<tr><th scope=row>15</th><td> 500</td><td>1000</td><td>0</td><td> 2.00</td><td>0.40</td><td>0.91 ( 0 )</td><td>9.4 ( 1.07 )   </td><td>0.07 ( 0.03 )</td><td> 15.33</td><td>0.47</td><td>0.91</td><td>  9.40</td><td>0.07</td></tr>\n",
       "\t<tr><th scope=row>16</th><td>1000</td><td>1000</td><td>0</td><td> 1.00</td><td>0.82</td><td>0.91 ( 0 )</td><td>1.91 ( 0.29 )  </td><td>0.01 ( 0.01 )</td><td>  7.90</td><td>0.18</td><td>0.91</td><td>  1.91</td><td>0.01</td></tr>\n",
       "</tbody>\n",
       "</table>\n"
      ],
      "text/latex": [
       "A data.frame: 16 × 13\n",
       "\\begin{tabular}{r|lllllllllllll}\n",
       "  & N & P & Corr & Ratio & Stab & ROC & FP & FN & num\\_select & FDR & ROC\\_mean & FP\\_mean & FN\\_mean\\\\\n",
       "  & <dbl> & <dbl> & <fct> & <dbl> & <dbl> & <fct> & <fct> & <fct> & <dbl> & <fct> & <dbl> & <dbl> & <dbl>\\\\\n",
       "\\hline\n",
       "\t1 &   50 &   50 & 0 &  1.00 & 0.13 & 0.98 ( 0 ) & 16.38 ( 0.96 )  & 0.61 ( 0.06 ) &  21.77 & 0.71 & 0.98 &  16.38 & 0.61\\\\\n",
       "\t2 &  100 &   50 & 0 &  0.50 & 0.32 & 0.93 ( 0 ) & 7.94 ( 0.54 )   & 0.34 ( 0.06 ) &  13.60 & 0.54 & 0.93 &   7.94 & 0.34\\\\\n",
       "\t3 &  500 &   50 & 0 &  0.10 & 0.63 & 0.91 ( 0 ) & 2.67 ( 0.6 )    & 0.1 ( 0.03 )  &   8.57 & 0.19 & 0.91 &   2.67 & 0.10\\\\\n",
       "\t4 & 1000 &   50 & 0 &  0.05 & 0.75 & 0.91 ( 0 ) & 1.61 ( 0.48 )   & 0.04 ( 0.02 ) &   7.57 & 0.09 & 0.91 &   1.61 & 0.04\\\\\n",
       "\t5 &   50 &  100 & 0 &  2.00 & 0.06 & 0.99 ( 0 ) & 39.18 ( 2.14 )  & 0.63 ( 0.07 ) &  44.55 & 0.85 & 0.99 &  39.18 & 0.63\\\\\n",
       "\t6 &  100 &  100 & 0 &  1.00 & 0.20 & 0.94 ( 0 ) & 16.29 ( 1.16 )  & 0.47 ( 0.06 ) &  21.82 & 0.7  & 0.94 &  16.29 & 0.47\\\\\n",
       "\t7 &  500 &  100 & 0 &  0.20 & 0.47 & 0.91 ( 0 ) & 5.63 ( 0.84 )   & 0.13 ( 0.03 ) &  11.50 & 0.3  & 0.91 &   5.63 & 0.13\\\\\n",
       "\t8 & 1000 &  100 & 0 &  0.10 & 0.43 & 0.91 ( 0 ) & 6.87 ( 1.8 )    & 0 ( 0 )       &  12.87 & 0.17 & 0.91 &   6.87 & 0.00\\\\\n",
       "\t9 &   50 &  500 & 0 & 10.00 & 0.01 & 1 ( 0 )    & 251.02 ( 6.8 )  & 0.36 ( 0.06 ) & 256.66 & 0.98 & 1.00 & 251.02 & 0.36\\\\\n",
       "\t10 &  100 &  500 & 0 &  5.00 & 0.03 & 1 ( 0 )    & 134.32 ( 6.63 ) & 0.33 ( 0.05 ) & 139.99 & 0.95 & 1.00 & 134.32 & 0.33\\\\\n",
       "\t11 &  500 &  500 & 0 &  1.00 & 0.43 & 0.91 ( 0 ) & 8.32 ( 1.15 )   & 0.1 ( 0.03 )  &  14.22 & 0.41 & 0.91 &   8.32 & 0.10\\\\\n",
       "\t12 & 1000 &  500 & 0 &  0.50 & 0.60 & 0.91 ( 0 ) & 4.63 ( 1.57 )   & 0 ( 0 )       &  10.63 & 0.21 & 0.91 &   4.63 & 0.00\\\\\n",
       "\t13 &   50 & 1000 & 0 & 20.00 & 0.01 & 1 ( 0 )    & 406.32 ( 7.33 ) & 0.73 ( 0.07 ) & 411.59 & 0.99 & 1.00 & 406.32 & 0.73\\\\\n",
       "\t14 &  100 & 1000 & 0 & 10.00 & 0.02 & 1 ( 0 )    & 283.24 ( 7.31 ) & 0.49 ( 0.06 ) & 288.75 & 0.98 & 1.00 & 283.24 & 0.49\\\\\n",
       "\t15 &  500 & 1000 & 0 &  2.00 & 0.40 & 0.91 ( 0 ) & 9.4 ( 1.07 )    & 0.07 ( 0.03 ) &  15.33 & 0.47 & 0.91 &   9.40 & 0.07\\\\\n",
       "\t16 & 1000 & 1000 & 0 &  1.00 & 0.82 & 0.91 ( 0 ) & 1.91 ( 0.29 )   & 0.01 ( 0.01 ) &   7.90 & 0.18 & 0.91 &   1.91 & 0.01\\\\\n",
       "\\end{tabular}\n"
      ],
      "text/markdown": [
       "\n",
       "A data.frame: 16 × 13\n",
       "\n",
       "| <!--/--> | N &lt;dbl&gt; | P &lt;dbl&gt; | Corr &lt;fct&gt; | Ratio &lt;dbl&gt; | Stab &lt;dbl&gt; | ROC &lt;fct&gt; | FP &lt;fct&gt; | FN &lt;fct&gt; | num_select &lt;dbl&gt; | FDR &lt;fct&gt; | ROC_mean &lt;dbl&gt; | FP_mean &lt;dbl&gt; | FN_mean &lt;dbl&gt; |\n",
       "|---|---|---|---|---|---|---|---|---|---|---|---|---|---|\n",
       "| 1 |   50 |   50 | 0 |  1.00 | 0.13 | 0.98 ( 0 ) | 16.38 ( 0.96 )  | 0.61 ( 0.06 ) |  21.77 | 0.71 | 0.98 |  16.38 | 0.61 |\n",
       "| 2 |  100 |   50 | 0 |  0.50 | 0.32 | 0.93 ( 0 ) | 7.94 ( 0.54 )   | 0.34 ( 0.06 ) |  13.60 | 0.54 | 0.93 |   7.94 | 0.34 |\n",
       "| 3 |  500 |   50 | 0 |  0.10 | 0.63 | 0.91 ( 0 ) | 2.67 ( 0.6 )    | 0.1 ( 0.03 )  |   8.57 | 0.19 | 0.91 |   2.67 | 0.10 |\n",
       "| 4 | 1000 |   50 | 0 |  0.05 | 0.75 | 0.91 ( 0 ) | 1.61 ( 0.48 )   | 0.04 ( 0.02 ) |   7.57 | 0.09 | 0.91 |   1.61 | 0.04 |\n",
       "| 5 |   50 |  100 | 0 |  2.00 | 0.06 | 0.99 ( 0 ) | 39.18 ( 2.14 )  | 0.63 ( 0.07 ) |  44.55 | 0.85 | 0.99 |  39.18 | 0.63 |\n",
       "| 6 |  100 |  100 | 0 |  1.00 | 0.20 | 0.94 ( 0 ) | 16.29 ( 1.16 )  | 0.47 ( 0.06 ) |  21.82 | 0.7  | 0.94 |  16.29 | 0.47 |\n",
       "| 7 |  500 |  100 | 0 |  0.20 | 0.47 | 0.91 ( 0 ) | 5.63 ( 0.84 )   | 0.13 ( 0.03 ) |  11.50 | 0.3  | 0.91 |   5.63 | 0.13 |\n",
       "| 8 | 1000 |  100 | 0 |  0.10 | 0.43 | 0.91 ( 0 ) | 6.87 ( 1.8 )    | 0 ( 0 )       |  12.87 | 0.17 | 0.91 |   6.87 | 0.00 |\n",
       "| 9 |   50 |  500 | 0 | 10.00 | 0.01 | 1 ( 0 )    | 251.02 ( 6.8 )  | 0.36 ( 0.06 ) | 256.66 | 0.98 | 1.00 | 251.02 | 0.36 |\n",
       "| 10 |  100 |  500 | 0 |  5.00 | 0.03 | 1 ( 0 )    | 134.32 ( 6.63 ) | 0.33 ( 0.05 ) | 139.99 | 0.95 | 1.00 | 134.32 | 0.33 |\n",
       "| 11 |  500 |  500 | 0 |  1.00 | 0.43 | 0.91 ( 0 ) | 8.32 ( 1.15 )   | 0.1 ( 0.03 )  |  14.22 | 0.41 | 0.91 |   8.32 | 0.10 |\n",
       "| 12 | 1000 |  500 | 0 |  0.50 | 0.60 | 0.91 ( 0 ) | 4.63 ( 1.57 )   | 0 ( 0 )       |  10.63 | 0.21 | 0.91 |   4.63 | 0.00 |\n",
       "| 13 |   50 | 1000 | 0 | 20.00 | 0.01 | 1 ( 0 )    | 406.32 ( 7.33 ) | 0.73 ( 0.07 ) | 411.59 | 0.99 | 1.00 | 406.32 | 0.73 |\n",
       "| 14 |  100 | 1000 | 0 | 10.00 | 0.02 | 1 ( 0 )    | 283.24 ( 7.31 ) | 0.49 ( 0.06 ) | 288.75 | 0.98 | 1.00 | 283.24 | 0.49 |\n",
       "| 15 |  500 | 1000 | 0 |  2.00 | 0.40 | 0.91 ( 0 ) | 9.4 ( 1.07 )    | 0.07 ( 0.03 ) |  15.33 | 0.47 | 0.91 |   9.40 | 0.07 |\n",
       "| 16 | 1000 | 1000 | 0 |  1.00 | 0.82 | 0.91 ( 0 ) | 1.91 ( 0.29 )   | 0.01 ( 0.01 ) |   7.90 | 0.18 | 0.91 |   1.91 | 0.01 |\n",
       "\n"
      ],
      "text/plain": [
       "   N    P    Corr Ratio Stab ROC        FP              FN           \n",
       "1    50   50 0     1.00 0.13 0.98 ( 0 ) 16.38 ( 0.96 )  0.61 ( 0.06 )\n",
       "2   100   50 0     0.50 0.32 0.93 ( 0 ) 7.94 ( 0.54 )   0.34 ( 0.06 )\n",
       "3   500   50 0     0.10 0.63 0.91 ( 0 ) 2.67 ( 0.6 )    0.1 ( 0.03 ) \n",
       "4  1000   50 0     0.05 0.75 0.91 ( 0 ) 1.61 ( 0.48 )   0.04 ( 0.02 )\n",
       "5    50  100 0     2.00 0.06 0.99 ( 0 ) 39.18 ( 2.14 )  0.63 ( 0.07 )\n",
       "6   100  100 0     1.00 0.20 0.94 ( 0 ) 16.29 ( 1.16 )  0.47 ( 0.06 )\n",
       "7   500  100 0     0.20 0.47 0.91 ( 0 ) 5.63 ( 0.84 )   0.13 ( 0.03 )\n",
       "8  1000  100 0     0.10 0.43 0.91 ( 0 ) 6.87 ( 1.8 )    0 ( 0 )      \n",
       "9    50  500 0    10.00 0.01 1 ( 0 )    251.02 ( 6.8 )  0.36 ( 0.06 )\n",
       "10  100  500 0     5.00 0.03 1 ( 0 )    134.32 ( 6.63 ) 0.33 ( 0.05 )\n",
       "11  500  500 0     1.00 0.43 0.91 ( 0 ) 8.32 ( 1.15 )   0.1 ( 0.03 ) \n",
       "12 1000  500 0     0.50 0.60 0.91 ( 0 ) 4.63 ( 1.57 )   0 ( 0 )      \n",
       "13   50 1000 0    20.00 0.01 1 ( 0 )    406.32 ( 7.33 ) 0.73 ( 0.07 )\n",
       "14  100 1000 0    10.00 0.02 1 ( 0 )    283.24 ( 7.31 ) 0.49 ( 0.06 )\n",
       "15  500 1000 0     2.00 0.40 0.91 ( 0 ) 9.4 ( 1.07 )    0.07 ( 0.03 )\n",
       "16 1000 1000 0     1.00 0.82 0.91 ( 0 ) 1.91 ( 0.29 )   0.01 ( 0.01 )\n",
       "   num_select FDR  ROC_mean FP_mean FN_mean\n",
       "1   21.77     0.71 0.98      16.38  0.61   \n",
       "2   13.60     0.54 0.93       7.94  0.34   \n",
       "3    8.57     0.19 0.91       2.67  0.10   \n",
       "4    7.57     0.09 0.91       1.61  0.04   \n",
       "5   44.55     0.85 0.99      39.18  0.63   \n",
       "6   21.82     0.7  0.94      16.29  0.47   \n",
       "7   11.50     0.3  0.91       5.63  0.13   \n",
       "8   12.87     0.17 0.91       6.87  0.00   \n",
       "9  256.66     0.98 1.00     251.02  0.36   \n",
       "10 139.99     0.95 1.00     134.32  0.33   \n",
       "11  14.22     0.41 0.91       8.32  0.10   \n",
       "12  10.63     0.21 0.91       4.63  0.00   \n",
       "13 411.59     0.99 1.00     406.32  0.73   \n",
       "14 288.75     0.98 1.00     283.24  0.49   \n",
       "15  15.33     0.47 0.91       9.40  0.07   \n",
       "16   7.90     0.18 0.91       1.91  0.01   "
      ]
     },
     "metadata": {},
     "output_type": "display_data"
    }
   ],
   "source": [
    "result.table_toe\n",
    "\n",
    "## export\n",
    "write.table(result.table_toe, '../results_summary_updated/sim_ind_GencompLasso_binary.txt', sep='\\t', row.names=F)"
   ]
  },
  {
   "cell_type": "code",
   "execution_count": null,
   "metadata": {},
   "outputs": [],
   "source": []
  }
 ],
 "metadata": {
  "kernelspec": {
   "display_name": "R",
   "language": "R",
   "name": "ir"
  },
  "language_info": {
   "codemirror_mode": "r",
   "file_extension": ".r",
   "mimetype": "text/x-r-source",
   "name": "R",
   "pygments_lexer": "r",
   "version": "3.6.1"
  }
 },
 "nbformat": 4,
 "nbformat_minor": 2
}
