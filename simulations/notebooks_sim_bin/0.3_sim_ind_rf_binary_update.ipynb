{
 "cells": [
  {
   "cell_type": "markdown",
   "metadata": {},
   "source": [
    "### summarize random forests results on Independent Simulation Scenarios for binary outcome"
   ]
  },
  {
   "cell_type": "code",
   "execution_count": 1,
   "metadata": {},
   "outputs": [],
   "source": [
    "dir = '/panfs/panfs1.ucsd.edu/panscratch/lij014/Stability_2020/sim_data'"
   ]
  },
  {
   "cell_type": "code",
   "execution_count": 2,
   "metadata": {},
   "outputs": [],
   "source": [
    "dim.list = list()\n",
    "size = c(50, 100, 500, 1000)\n",
    "idx = 0\n",
    "for (P in size){\n",
    "    for (N in size){\n",
    "        idx = idx + 1\n",
    "        dim.list[[idx]] = c(P=P, N=N)\n",
    "    }\n",
    "}\n",
    "\n",
    "files = NULL\n",
    "for (dim in dim.list){\n",
    "    p = dim[1]\n",
    "    n = dim[2]\n",
    "    files = cbind(files, paste0(dir, '/sim_independent_', paste('P', p, 'N', n, sep='_'), '.RData'))\n",
    "}"
   ]
  },
  {
   "cell_type": "code",
   "execution_count": 3,
   "metadata": {},
   "outputs": [
    {
     "data": {
      "text/html": [
       "16"
      ],
      "text/latex": [
       "16"
      ],
      "text/markdown": [
       "16"
      ],
      "text/plain": [
       "[1] 16"
      ]
     },
     "metadata": {},
     "output_type": "display_data"
    }
   ],
   "source": [
    "length(files)"
   ]
  },
  {
   "cell_type": "code",
   "execution_count": 4,
   "metadata": {},
   "outputs": [
    {
     "name": "stdout",
     "output_type": "stream",
     "text": [
      "[1] \"indx: 1\"\n",
      "[1] \"indx: 2\"\n",
      "[1] \"indx: 3\"\n",
      "[1] \"indx: 4\"\n",
      "[1] \"indx: 5\"\n",
      "[1] \"indx: 6\"\n",
      "[1] \"indx: 7\"\n",
      "[1] \"indx: 8\"\n",
      "[1] \"indx: 9\"\n",
      "[1] \"indx: 10\"\n",
      "[1] \"indx: 11\"\n",
      "[1] \"indx: 12\"\n",
      "[1] \"indx: 13\"\n",
      "[1] \"indx: 14\"\n",
      "[1] \"indx: 15\"\n",
      "[1] \"indx: 16\"\n"
     ]
    }
   ],
   "source": [
    "avg_FDR = NULL\n",
    "table_toe = NULL\n",
    "tmp_num_select = rep(0, length(files))\n",
    "for (i in 1:length(files)){\n",
    "    print(paste0('indx: ', i))\n",
    "    load(paste0(dir, '/binary_update/ind_RF_binary_', i, '.RData')) \n",
    "    \n",
    "    table_toe = rbind(table_toe, results_ind_rf[c('n', 'p', 'rou', 'FP', 'FN', 'ROC', 'Stab')])\n",
    "    tmp_num_select[i] = mean(rowSums(results_ind_rf$Stab.table))\n",
    "    \n",
    "    # calculate FDR\n",
    "    load(file_name, dat <- new.env())\n",
    "    sub = dat$sim_array[[i]]\n",
    "    p = sub$p # take true values from 1st replicate of each simulated data\n",
    "    coef = sub$beta\n",
    "    coef.true = which(coef != 0)\n",
    "    \n",
    "    tt = results_ind_rf$Stab.table\n",
    "    FDR = NULL # false positive rate\n",
    "    for (r in 1:nrow(tt)){\n",
    "        FDR = c(FDR, length(setdiff(which(tt[r, ] !=0), coef.true))/sum(tt[r, ]))\n",
    "\n",
    "    }\n",
    "    \n",
    "    avg_FDR = c(avg_FDR, mean(FDR, na.rm=T))\n",
    "}\n",
    "table_toe = as.data.frame(table_toe)\n",
    "table_toe$num_select = tmp_num_select\n",
    "table_toe$FDR = round(avg_FDR,2)"
   ]
  },
  {
   "cell_type": "code",
   "execution_count": 6,
   "metadata": {},
   "outputs": [
    {
     "data": {
      "text/html": [
       "<table>\n",
       "<caption>A data.frame: 6 × 9</caption>\n",
       "<thead>\n",
       "\t<tr><th></th><th scope=col>n</th><th scope=col>p</th><th scope=col>rou</th><th scope=col>FP</th><th scope=col>FN</th><th scope=col>ROC</th><th scope=col>Stab</th><th scope=col>num_select</th><th scope=col>FDR</th></tr>\n",
       "\t<tr><th></th><th scope=col>&lt;list&gt;</th><th scope=col>&lt;list&gt;</th><th scope=col>&lt;list&gt;</th><th scope=col>&lt;list&gt;</th><th scope=col>&lt;list&gt;</th><th scope=col>&lt;list&gt;</th><th scope=col>&lt;list&gt;</th><th scope=col>&lt;dbl&gt;</th><th scope=col>&lt;dbl&gt;</th></tr>\n",
       "</thead>\n",
       "<tbody>\n",
       "\t<tr><th scope=row>1</th><td>50</td><td>50</td><td>0</td><td>1 ( 0 )</td><td>6 ( 0 )</td><td>1 ( 0 )</td><td>NaN</td><td>0.00</td><td> NaN</td></tr>\n",
       "\t<tr><th scope=row>2</th><td>100</td><td>50</td><td>0</td><td>1.97 ( 0.13 )</td><td>4.62 ( 0.08 )</td><td>1 ( 0 )</td><td>0.1</td><td>3.34</td><td>0.55</td></tr>\n",
       "\t<tr><th scope=row>3</th><td>500</td><td>50</td><td>0</td><td>1.26 ( 0.12 )</td><td>2.19 ( 0.08 )</td><td>1 ( 0 )</td><td>0.54</td><td>5.07</td><td>0.22</td></tr>\n",
       "\t<tr><th scope=row>4</th><td>1000</td><td>50</td><td>0</td><td>0.86 ( 0.09 )</td><td>1.12 ( 0.08 )</td><td>1 ( 0 )</td><td>0.73</td><td>5.74</td><td>0.13</td></tr>\n",
       "\t<tr><th scope=row>5</th><td>50</td><td>100</td><td>0</td><td>1 ( 0 )</td><td>6 ( 0 )</td><td>1 ( 0 )</td><td>NaN</td><td>0.00</td><td> NaN</td></tr>\n",
       "\t<tr><th scope=row>6</th><td>100</td><td>100</td><td>0</td><td>4.29 ( 0.17 )</td><td>4.79 ( 0.09 )</td><td>1 ( 0 )</td><td>0.05</td><td>5.50</td><td>0.77</td></tr>\n",
       "</tbody>\n",
       "</table>\n"
      ],
      "text/latex": [
       "A data.frame: 6 × 9\n",
       "\\begin{tabular}{r|lllllllll}\n",
       "  & n & p & rou & FP & FN & ROC & Stab & num\\_select & FDR\\\\\n",
       "  & <list> & <list> & <list> & <list> & <list> & <list> & <list> & <dbl> & <dbl>\\\\\n",
       "\\hline\n",
       "\t1 & 50 & 50 & 0 & 1 ( 0 ) & 6 ( 0 ) & 1 ( 0 ) & NaN & 0.00 &  NaN\\\\\n",
       "\t2 & 100 & 50 & 0 & 1.97 ( 0.13 ) & 4.62 ( 0.08 ) & 1 ( 0 ) & 0.1 & 3.34 & 0.55\\\\\n",
       "\t3 & 500 & 50 & 0 & 1.26 ( 0.12 ) & 2.19 ( 0.08 ) & 1 ( 0 ) & 0.54 & 5.07 & 0.22\\\\\n",
       "\t4 & 1000 & 50 & 0 & 0.86 ( 0.09 ) & 1.12 ( 0.08 ) & 1 ( 0 ) & 0.73 & 5.74 & 0.13\\\\\n",
       "\t5 & 50 & 100 & 0 & 1 ( 0 ) & 6 ( 0 ) & 1 ( 0 ) & NaN & 0.00 &  NaN\\\\\n",
       "\t6 & 100 & 100 & 0 & 4.29 ( 0.17 ) & 4.79 ( 0.09 ) & 1 ( 0 ) & 0.05 & 5.50 & 0.77\\\\\n",
       "\\end{tabular}\n"
      ],
      "text/markdown": [
       "\n",
       "A data.frame: 6 × 9\n",
       "\n",
       "| <!--/--> | n &lt;list&gt; | p &lt;list&gt; | rou &lt;list&gt; | FP &lt;list&gt; | FN &lt;list&gt; | ROC &lt;list&gt; | Stab &lt;list&gt; | num_select &lt;dbl&gt; | FDR &lt;dbl&gt; |\n",
       "|---|---|---|---|---|---|---|---|---|---|\n",
       "| 1 | 50 | 50 | 0 | 1 ( 0 ) | 6 ( 0 ) | 1 ( 0 ) | NaN | 0.00 |  NaN |\n",
       "| 2 | 100 | 50 | 0 | 1.97 ( 0.13 ) | 4.62 ( 0.08 ) | 1 ( 0 ) | 0.1 | 3.34 | 0.55 |\n",
       "| 3 | 500 | 50 | 0 | 1.26 ( 0.12 ) | 2.19 ( 0.08 ) | 1 ( 0 ) | 0.54 | 5.07 | 0.22 |\n",
       "| 4 | 1000 | 50 | 0 | 0.86 ( 0.09 ) | 1.12 ( 0.08 ) | 1 ( 0 ) | 0.73 | 5.74 | 0.13 |\n",
       "| 5 | 50 | 100 | 0 | 1 ( 0 ) | 6 ( 0 ) | 1 ( 0 ) | NaN | 0.00 |  NaN |\n",
       "| 6 | 100 | 100 | 0 | 4.29 ( 0.17 ) | 4.79 ( 0.09 ) | 1 ( 0 ) | 0.05 | 5.50 | 0.77 |\n",
       "\n"
      ],
      "text/plain": [
       "  n    p   rou FP            FN            ROC     Stab num_select FDR \n",
       "1 50   50  0   1 ( 0 )       6 ( 0 )       1 ( 0 ) NaN  0.00        NaN\n",
       "2 100  50  0   1.97 ( 0.13 ) 4.62 ( 0.08 ) 1 ( 0 ) 0.1  3.34       0.55\n",
       "3 500  50  0   1.26 ( 0.12 ) 2.19 ( 0.08 ) 1 ( 0 ) 0.54 5.07       0.22\n",
       "4 1000 50  0   0.86 ( 0.09 ) 1.12 ( 0.08 ) 1 ( 0 ) 0.73 5.74       0.13\n",
       "5 50   100 0   1 ( 0 )       6 ( 0 )       1 ( 0 ) NaN  0.00        NaN\n",
       "6 100  100 0   4.29 ( 0.17 ) 4.79 ( 0.09 ) 1 ( 0 ) 0.05 5.50       0.77"
      ]
     },
     "metadata": {},
     "output_type": "display_data"
    }
   ],
   "source": [
    "head(table_toe)"
   ]
  },
  {
   "cell_type": "code",
   "execution_count": 7,
   "metadata": {},
   "outputs": [
    {
     "data": {
      "text/html": [
       "<table>\n",
       "<caption>A data.frame: 6 × 9</caption>\n",
       "<thead>\n",
       "\t<tr><th></th><th scope=col>n</th><th scope=col>p</th><th scope=col>rou</th><th scope=col>FP</th><th scope=col>FN</th><th scope=col>ROC</th><th scope=col>Stab</th><th scope=col>num_select</th><th scope=col>FDR</th></tr>\n",
       "\t<tr><th></th><th scope=col>&lt;list&gt;</th><th scope=col>&lt;list&gt;</th><th scope=col>&lt;list&gt;</th><th scope=col>&lt;list&gt;</th><th scope=col>&lt;list&gt;</th><th scope=col>&lt;list&gt;</th><th scope=col>&lt;list&gt;</th><th scope=col>&lt;dbl&gt;</th><th scope=col>&lt;dbl&gt;</th></tr>\n",
       "</thead>\n",
       "<tbody>\n",
       "\t<tr><th scope=row>11</th><td>500</td><td>500</td><td>0</td><td>23.08 ( 0.51 )</td><td>2.34 ( 0.1 )</td><td>1 ( 0 )</td><td>0.09</td><td>26.74</td><td>0.86</td></tr>\n",
       "\t<tr><th scope=row>12</th><td>1000</td><td>500</td><td>0</td><td>22.72 ( 0.46 )</td><td>1.34 ( 0.08 )</td><td>1 ( 0 )</td><td>0.14</td><td>27.38</td><td>0.83</td></tr>\n",
       "\t<tr><th scope=row>13</th><td>50</td><td>1000</td><td>0</td><td>1 ( 0 )</td><td>6 ( 0 )</td><td>1 ( 0 )</td><td>NaN</td><td> 0.00</td><td> NaN</td></tr>\n",
       "\t<tr><th scope=row>14</th><td>100</td><td>1000</td><td>0</td><td>46.76 ( 0.67 )</td><td>4.86 ( 0.09 )</td><td>1 ( 0 )</td><td>0.01</td><td>47.90</td><td>0.98</td></tr>\n",
       "\t<tr><th scope=row>15</th><td>500</td><td>1000</td><td>0</td><td>47.82 ( 0.66 )</td><td>2.5 ( 0.1 )</td><td>1 ( 0 )</td><td>0.04</td><td>51.32</td><td>0.93</td></tr>\n",
       "\t<tr><th scope=row>16</th><td>1000</td><td>1000</td><td>0</td><td>47.14 ( 0.77 )</td><td>1.46 ( 0.08 )</td><td>1 ( 0 )</td><td>0.07</td><td>51.68</td><td>0.91</td></tr>\n",
       "</tbody>\n",
       "</table>\n"
      ],
      "text/latex": [
       "A data.frame: 6 × 9\n",
       "\\begin{tabular}{r|lllllllll}\n",
       "  & n & p & rou & FP & FN & ROC & Stab & num\\_select & FDR\\\\\n",
       "  & <list> & <list> & <list> & <list> & <list> & <list> & <list> & <dbl> & <dbl>\\\\\n",
       "\\hline\n",
       "\t11 & 500 & 500 & 0 & 23.08 ( 0.51 ) & 2.34 ( 0.1 ) & 1 ( 0 ) & 0.09 & 26.74 & 0.86\\\\\n",
       "\t12 & 1000 & 500 & 0 & 22.72 ( 0.46 ) & 1.34 ( 0.08 ) & 1 ( 0 ) & 0.14 & 27.38 & 0.83\\\\\n",
       "\t13 & 50 & 1000 & 0 & 1 ( 0 ) & 6 ( 0 ) & 1 ( 0 ) & NaN &  0.00 &  NaN\\\\\n",
       "\t14 & 100 & 1000 & 0 & 46.76 ( 0.67 ) & 4.86 ( 0.09 ) & 1 ( 0 ) & 0.01 & 47.90 & 0.98\\\\\n",
       "\t15 & 500 & 1000 & 0 & 47.82 ( 0.66 ) & 2.5 ( 0.1 ) & 1 ( 0 ) & 0.04 & 51.32 & 0.93\\\\\n",
       "\t16 & 1000 & 1000 & 0 & 47.14 ( 0.77 ) & 1.46 ( 0.08 ) & 1 ( 0 ) & 0.07 & 51.68 & 0.91\\\\\n",
       "\\end{tabular}\n"
      ],
      "text/markdown": [
       "\n",
       "A data.frame: 6 × 9\n",
       "\n",
       "| <!--/--> | n &lt;list&gt; | p &lt;list&gt; | rou &lt;list&gt; | FP &lt;list&gt; | FN &lt;list&gt; | ROC &lt;list&gt; | Stab &lt;list&gt; | num_select &lt;dbl&gt; | FDR &lt;dbl&gt; |\n",
       "|---|---|---|---|---|---|---|---|---|---|\n",
       "| 11 | 500 | 500 | 0 | 23.08 ( 0.51 ) | 2.34 ( 0.1 ) | 1 ( 0 ) | 0.09 | 26.74 | 0.86 |\n",
       "| 12 | 1000 | 500 | 0 | 22.72 ( 0.46 ) | 1.34 ( 0.08 ) | 1 ( 0 ) | 0.14 | 27.38 | 0.83 |\n",
       "| 13 | 50 | 1000 | 0 | 1 ( 0 ) | 6 ( 0 ) | 1 ( 0 ) | NaN |  0.00 |  NaN |\n",
       "| 14 | 100 | 1000 | 0 | 46.76 ( 0.67 ) | 4.86 ( 0.09 ) | 1 ( 0 ) | 0.01 | 47.90 | 0.98 |\n",
       "| 15 | 500 | 1000 | 0 | 47.82 ( 0.66 ) | 2.5 ( 0.1 ) | 1 ( 0 ) | 0.04 | 51.32 | 0.93 |\n",
       "| 16 | 1000 | 1000 | 0 | 47.14 ( 0.77 ) | 1.46 ( 0.08 ) | 1 ( 0 ) | 0.07 | 51.68 | 0.91 |\n",
       "\n"
      ],
      "text/plain": [
       "   n    p    rou FP             FN            ROC     Stab num_select FDR \n",
       "11 500  500  0   23.08 ( 0.51 ) 2.34 ( 0.1 )  1 ( 0 ) 0.09 26.74      0.86\n",
       "12 1000 500  0   22.72 ( 0.46 ) 1.34 ( 0.08 ) 1 ( 0 ) 0.14 27.38      0.83\n",
       "13 50   1000 0   1 ( 0 )        6 ( 0 )       1 ( 0 ) NaN   0.00       NaN\n",
       "14 100  1000 0   46.76 ( 0.67 ) 4.86 ( 0.09 ) 1 ( 0 ) 0.01 47.90      0.98\n",
       "15 500  1000 0   47.82 ( 0.66 ) 2.5 ( 0.1 )   1 ( 0 ) 0.04 51.32      0.93\n",
       "16 1000 1000 0   47.14 ( 0.77 ) 1.46 ( 0.08 ) 1 ( 0 ) 0.07 51.68      0.91"
      ]
     },
     "metadata": {},
     "output_type": "display_data"
    }
   ],
   "source": [
    "tail(table_toe)"
   ]
  },
  {
   "cell_type": "code",
   "execution_count": 8,
   "metadata": {},
   "outputs": [
    {
     "name": "stderr",
     "output_type": "stream",
     "text": [
      "extract_numeric() is deprecated: please use readr::parse_number() instead\n",
      "\n",
      "extract_numeric() is deprecated: please use readr::parse_number() instead\n",
      "\n"
     ]
    }
   ],
   "source": [
    "# export result\n",
    "result.table_toe <- apply(table_toe,2,as.character)\n",
    "rownames(result.table_toe) = rownames(table_toe)\n",
    "result.table_toe = as.data.frame(result.table_toe)\n",
    "\n",
    "# extract numbers only for 'n' & 'p'\n",
    "result.table_toe$n = tidyr::extract_numeric(result.table_toe$n)\n",
    "result.table_toe$p = tidyr::extract_numeric(result.table_toe$p)\n",
    "result.table_toe$ratio = result.table_toe$p / result.table_toe$n\n",
    "\n",
    "result.table_toe = result.table_toe[c('n', 'p', 'rou', 'ratio', 'Stab', 'ROC', 'FP', 'FN', 'num_select', 'FDR')]\n",
    "colnames(result.table_toe)[1:4] = c('N', 'P', 'Corr', 'Ratio')"
   ]
  },
  {
   "cell_type": "code",
   "execution_count": 9,
   "metadata": {},
   "outputs": [],
   "source": [
    "# convert interested measurements to be numeric\n",
    "result.table_toe$Stab = as.numeric(as.character(result.table_toe$Stab))\n",
    "result.table_toe$num_select = as.numeric(as.character(result.table_toe$num_select))\n",
    "\n",
    "result.table_toe$ROC_mean = as.numeric(sub(\"\\\\(.*\", \"\", result.table_toe$ROC))\n",
    "result.table_toe$FP_mean = as.numeric(sub(\"\\\\(.*\", \"\", result.table_toe$FP))\n",
    "result.table_toe$FN_mean = as.numeric(sub(\"\\\\(.*\", \"\", result.table_toe$FN))"
   ]
  },
  {
   "cell_type": "code",
   "execution_count": 10,
   "metadata": {},
   "outputs": [
    {
     "data": {
      "text/html": [
       "<table>\n",
       "<caption>A data.frame: 4 × 13</caption>\n",
       "<thead>\n",
       "\t<tr><th></th><th scope=col>N</th><th scope=col>P</th><th scope=col>Corr</th><th scope=col>Ratio</th><th scope=col>Stab</th><th scope=col>ROC</th><th scope=col>FP</th><th scope=col>FN</th><th scope=col>num_select</th><th scope=col>FDR</th><th scope=col>ROC_mean</th><th scope=col>FP_mean</th><th scope=col>FN_mean</th></tr>\n",
       "\t<tr><th></th><th scope=col>&lt;dbl&gt;</th><th scope=col>&lt;dbl&gt;</th><th scope=col>&lt;fct&gt;</th><th scope=col>&lt;dbl&gt;</th><th scope=col>&lt;dbl&gt;</th><th scope=col>&lt;fct&gt;</th><th scope=col>&lt;fct&gt;</th><th scope=col>&lt;fct&gt;</th><th scope=col>&lt;dbl&gt;</th><th scope=col>&lt;fct&gt;</th><th scope=col>&lt;dbl&gt;</th><th scope=col>&lt;dbl&gt;</th><th scope=col>&lt;dbl&gt;</th></tr>\n",
       "</thead>\n",
       "<tbody>\n",
       "\t<tr><th scope=row>1</th><td>50</td><td>  50</td><td>0</td><td> 1</td><td>NaN</td><td>1 ( 0 )</td><td>1 ( 0 )</td><td>6 ( 0 )</td><td>0</td><td>NaN</td><td>1</td><td>1</td><td>6</td></tr>\n",
       "\t<tr><th scope=row>5</th><td>50</td><td> 100</td><td>0</td><td> 2</td><td>NaN</td><td>1 ( 0 )</td><td>1 ( 0 )</td><td>6 ( 0 )</td><td>0</td><td>NaN</td><td>1</td><td>1</td><td>6</td></tr>\n",
       "\t<tr><th scope=row>9</th><td>50</td><td> 500</td><td>0</td><td>10</td><td>NaN</td><td>1 ( 0 )</td><td>1 ( 0 )</td><td>6 ( 0 )</td><td>0</td><td>NaN</td><td>1</td><td>1</td><td>6</td></tr>\n",
       "\t<tr><th scope=row>13</th><td>50</td><td>1000</td><td>0</td><td>20</td><td>NaN</td><td>1 ( 0 )</td><td>1 ( 0 )</td><td>6 ( 0 )</td><td>0</td><td>NaN</td><td>1</td><td>1</td><td>6</td></tr>\n",
       "</tbody>\n",
       "</table>\n"
      ],
      "text/latex": [
       "A data.frame: 4 × 13\n",
       "\\begin{tabular}{r|lllllllllllll}\n",
       "  & N & P & Corr & Ratio & Stab & ROC & FP & FN & num\\_select & FDR & ROC\\_mean & FP\\_mean & FN\\_mean\\\\\n",
       "  & <dbl> & <dbl> & <fct> & <dbl> & <dbl> & <fct> & <fct> & <fct> & <dbl> & <fct> & <dbl> & <dbl> & <dbl>\\\\\n",
       "\\hline\n",
       "\t1 & 50 &   50 & 0 &  1 & NaN & 1 ( 0 ) & 1 ( 0 ) & 6 ( 0 ) & 0 & NaN & 1 & 1 & 6\\\\\n",
       "\t5 & 50 &  100 & 0 &  2 & NaN & 1 ( 0 ) & 1 ( 0 ) & 6 ( 0 ) & 0 & NaN & 1 & 1 & 6\\\\\n",
       "\t9 & 50 &  500 & 0 & 10 & NaN & 1 ( 0 ) & 1 ( 0 ) & 6 ( 0 ) & 0 & NaN & 1 & 1 & 6\\\\\n",
       "\t13 & 50 & 1000 & 0 & 20 & NaN & 1 ( 0 ) & 1 ( 0 ) & 6 ( 0 ) & 0 & NaN & 1 & 1 & 6\\\\\n",
       "\\end{tabular}\n"
      ],
      "text/markdown": [
       "\n",
       "A data.frame: 4 × 13\n",
       "\n",
       "| <!--/--> | N &lt;dbl&gt; | P &lt;dbl&gt; | Corr &lt;fct&gt; | Ratio &lt;dbl&gt; | Stab &lt;dbl&gt; | ROC &lt;fct&gt; | FP &lt;fct&gt; | FN &lt;fct&gt; | num_select &lt;dbl&gt; | FDR &lt;fct&gt; | ROC_mean &lt;dbl&gt; | FP_mean &lt;dbl&gt; | FN_mean &lt;dbl&gt; |\n",
       "|---|---|---|---|---|---|---|---|---|---|---|---|---|---|\n",
       "| 1 | 50 |   50 | 0 |  1 | NaN | 1 ( 0 ) | 1 ( 0 ) | 6 ( 0 ) | 0 | NaN | 1 | 1 | 6 |\n",
       "| 5 | 50 |  100 | 0 |  2 | NaN | 1 ( 0 ) | 1 ( 0 ) | 6 ( 0 ) | 0 | NaN | 1 | 1 | 6 |\n",
       "| 9 | 50 |  500 | 0 | 10 | NaN | 1 ( 0 ) | 1 ( 0 ) | 6 ( 0 ) | 0 | NaN | 1 | 1 | 6 |\n",
       "| 13 | 50 | 1000 | 0 | 20 | NaN | 1 ( 0 ) | 1 ( 0 ) | 6 ( 0 ) | 0 | NaN | 1 | 1 | 6 |\n",
       "\n"
      ],
      "text/plain": [
       "   N  P    Corr Ratio Stab ROC     FP      FN      num_select FDR ROC_mean\n",
       "1  50   50 0     1    NaN  1 ( 0 ) 1 ( 0 ) 6 ( 0 ) 0          NaN 1       \n",
       "5  50  100 0     2    NaN  1 ( 0 ) 1 ( 0 ) 6 ( 0 ) 0          NaN 1       \n",
       "9  50  500 0    10    NaN  1 ( 0 ) 1 ( 0 ) 6 ( 0 ) 0          NaN 1       \n",
       "13 50 1000 0    20    NaN  1 ( 0 ) 1 ( 0 ) 6 ( 0 ) 0          NaN 1       \n",
       "   FP_mean FN_mean\n",
       "1  1       6      \n",
       "5  1       6      \n",
       "9  1       6      \n",
       "13 1       6      "
      ]
     },
     "metadata": {},
     "output_type": "display_data"
    }
   ],
   "source": [
    "# check whether missing values exists\n",
    "result.table_toe[rowSums(is.na(result.table_toe)) > 0,]"
   ]
  },
  {
   "cell_type": "code",
   "execution_count": 11,
   "metadata": {},
   "outputs": [
    {
     "data": {
      "text/html": [
       "<table>\n",
       "<caption>A data.frame: 6 × 13</caption>\n",
       "<thead>\n",
       "\t<tr><th></th><th scope=col>N</th><th scope=col>P</th><th scope=col>Corr</th><th scope=col>Ratio</th><th scope=col>Stab</th><th scope=col>ROC</th><th scope=col>FP</th><th scope=col>FN</th><th scope=col>num_select</th><th scope=col>FDR</th><th scope=col>ROC_mean</th><th scope=col>FP_mean</th><th scope=col>FN_mean</th></tr>\n",
       "\t<tr><th></th><th scope=col>&lt;dbl&gt;</th><th scope=col>&lt;dbl&gt;</th><th scope=col>&lt;fct&gt;</th><th scope=col>&lt;dbl&gt;</th><th scope=col>&lt;dbl&gt;</th><th scope=col>&lt;fct&gt;</th><th scope=col>&lt;fct&gt;</th><th scope=col>&lt;fct&gt;</th><th scope=col>&lt;dbl&gt;</th><th scope=col>&lt;fct&gt;</th><th scope=col>&lt;dbl&gt;</th><th scope=col>&lt;dbl&gt;</th><th scope=col>&lt;dbl&gt;</th></tr>\n",
       "</thead>\n",
       "<tbody>\n",
       "\t<tr><th scope=row>1</th><td>  50</td><td> 50</td><td>0</td><td>1.00</td><td> NaN</td><td>1 ( 0 )</td><td>1 ( 0 )      </td><td>6 ( 0 )      </td><td>0.00</td><td>NaN </td><td>1</td><td>1.00</td><td>6.00</td></tr>\n",
       "\t<tr><th scope=row>2</th><td> 100</td><td> 50</td><td>0</td><td>0.50</td><td>0.10</td><td>1 ( 0 )</td><td>1.97 ( 0.13 )</td><td>4.62 ( 0.08 )</td><td>3.34</td><td>0.55</td><td>1</td><td>1.97</td><td>4.62</td></tr>\n",
       "\t<tr><th scope=row>3</th><td> 500</td><td> 50</td><td>0</td><td>0.10</td><td>0.54</td><td>1 ( 0 )</td><td>1.26 ( 0.12 )</td><td>2.19 ( 0.08 )</td><td>5.07</td><td>0.22</td><td>1</td><td>1.26</td><td>2.19</td></tr>\n",
       "\t<tr><th scope=row>4</th><td>1000</td><td> 50</td><td>0</td><td>0.05</td><td>0.73</td><td>1 ( 0 )</td><td>0.86 ( 0.09 )</td><td>1.12 ( 0.08 )</td><td>5.74</td><td>0.13</td><td>1</td><td>0.86</td><td>1.12</td></tr>\n",
       "\t<tr><th scope=row>5</th><td>  50</td><td>100</td><td>0</td><td>2.00</td><td> NaN</td><td>1 ( 0 )</td><td>1 ( 0 )      </td><td>6 ( 0 )      </td><td>0.00</td><td>NaN </td><td>1</td><td>1.00</td><td>6.00</td></tr>\n",
       "\t<tr><th scope=row>6</th><td> 100</td><td>100</td><td>0</td><td>1.00</td><td>0.05</td><td>1 ( 0 )</td><td>4.29 ( 0.17 )</td><td>4.79 ( 0.09 )</td><td>5.50</td><td>0.77</td><td>1</td><td>4.29</td><td>4.79</td></tr>\n",
       "</tbody>\n",
       "</table>\n"
      ],
      "text/latex": [
       "A data.frame: 6 × 13\n",
       "\\begin{tabular}{r|lllllllllllll}\n",
       "  & N & P & Corr & Ratio & Stab & ROC & FP & FN & num\\_select & FDR & ROC\\_mean & FP\\_mean & FN\\_mean\\\\\n",
       "  & <dbl> & <dbl> & <fct> & <dbl> & <dbl> & <fct> & <fct> & <fct> & <dbl> & <fct> & <dbl> & <dbl> & <dbl>\\\\\n",
       "\\hline\n",
       "\t1 &   50 &  50 & 0 & 1.00 &  NaN & 1 ( 0 ) & 1 ( 0 )       & 6 ( 0 )       & 0.00 & NaN  & 1 & 1.00 & 6.00\\\\\n",
       "\t2 &  100 &  50 & 0 & 0.50 & 0.10 & 1 ( 0 ) & 1.97 ( 0.13 ) & 4.62 ( 0.08 ) & 3.34 & 0.55 & 1 & 1.97 & 4.62\\\\\n",
       "\t3 &  500 &  50 & 0 & 0.10 & 0.54 & 1 ( 0 ) & 1.26 ( 0.12 ) & 2.19 ( 0.08 ) & 5.07 & 0.22 & 1 & 1.26 & 2.19\\\\\n",
       "\t4 & 1000 &  50 & 0 & 0.05 & 0.73 & 1 ( 0 ) & 0.86 ( 0.09 ) & 1.12 ( 0.08 ) & 5.74 & 0.13 & 1 & 0.86 & 1.12\\\\\n",
       "\t5 &   50 & 100 & 0 & 2.00 &  NaN & 1 ( 0 ) & 1 ( 0 )       & 6 ( 0 )       & 0.00 & NaN  & 1 & 1.00 & 6.00\\\\\n",
       "\t6 &  100 & 100 & 0 & 1.00 & 0.05 & 1 ( 0 ) & 4.29 ( 0.17 ) & 4.79 ( 0.09 ) & 5.50 & 0.77 & 1 & 4.29 & 4.79\\\\\n",
       "\\end{tabular}\n"
      ],
      "text/markdown": [
       "\n",
       "A data.frame: 6 × 13\n",
       "\n",
       "| <!--/--> | N &lt;dbl&gt; | P &lt;dbl&gt; | Corr &lt;fct&gt; | Ratio &lt;dbl&gt; | Stab &lt;dbl&gt; | ROC &lt;fct&gt; | FP &lt;fct&gt; | FN &lt;fct&gt; | num_select &lt;dbl&gt; | FDR &lt;fct&gt; | ROC_mean &lt;dbl&gt; | FP_mean &lt;dbl&gt; | FN_mean &lt;dbl&gt; |\n",
       "|---|---|---|---|---|---|---|---|---|---|---|---|---|---|\n",
       "| 1 |   50 |  50 | 0 | 1.00 |  NaN | 1 ( 0 ) | 1 ( 0 )       | 6 ( 0 )       | 0.00 | NaN  | 1 | 1.00 | 6.00 |\n",
       "| 2 |  100 |  50 | 0 | 0.50 | 0.10 | 1 ( 0 ) | 1.97 ( 0.13 ) | 4.62 ( 0.08 ) | 3.34 | 0.55 | 1 | 1.97 | 4.62 |\n",
       "| 3 |  500 |  50 | 0 | 0.10 | 0.54 | 1 ( 0 ) | 1.26 ( 0.12 ) | 2.19 ( 0.08 ) | 5.07 | 0.22 | 1 | 1.26 | 2.19 |\n",
       "| 4 | 1000 |  50 | 0 | 0.05 | 0.73 | 1 ( 0 ) | 0.86 ( 0.09 ) | 1.12 ( 0.08 ) | 5.74 | 0.13 | 1 | 0.86 | 1.12 |\n",
       "| 5 |   50 | 100 | 0 | 2.00 |  NaN | 1 ( 0 ) | 1 ( 0 )       | 6 ( 0 )       | 0.00 | NaN  | 1 | 1.00 | 6.00 |\n",
       "| 6 |  100 | 100 | 0 | 1.00 | 0.05 | 1 ( 0 ) | 4.29 ( 0.17 ) | 4.79 ( 0.09 ) | 5.50 | 0.77 | 1 | 4.29 | 4.79 |\n",
       "\n"
      ],
      "text/plain": [
       "  N    P   Corr Ratio Stab ROC     FP            FN            num_select FDR \n",
       "1   50  50 0    1.00   NaN 1 ( 0 ) 1 ( 0 )       6 ( 0 )       0.00       NaN \n",
       "2  100  50 0    0.50  0.10 1 ( 0 ) 1.97 ( 0.13 ) 4.62 ( 0.08 ) 3.34       0.55\n",
       "3  500  50 0    0.10  0.54 1 ( 0 ) 1.26 ( 0.12 ) 2.19 ( 0.08 ) 5.07       0.22\n",
       "4 1000  50 0    0.05  0.73 1 ( 0 ) 0.86 ( 0.09 ) 1.12 ( 0.08 ) 5.74       0.13\n",
       "5   50 100 0    2.00   NaN 1 ( 0 ) 1 ( 0 )       6 ( 0 )       0.00       NaN \n",
       "6  100 100 0    1.00  0.05 1 ( 0 ) 4.29 ( 0.17 ) 4.79 ( 0.09 ) 5.50       0.77\n",
       "  ROC_mean FP_mean FN_mean\n",
       "1 1        1.00    6.00   \n",
       "2 1        1.97    4.62   \n",
       "3 1        1.26    2.19   \n",
       "4 1        0.86    1.12   \n",
       "5 1        1.00    6.00   \n",
       "6 1        4.29    4.79   "
      ]
     },
     "metadata": {},
     "output_type": "display_data"
    }
   ],
   "source": [
    "head(result.table_toe)"
   ]
  },
  {
   "cell_type": "code",
   "execution_count": 12,
   "metadata": {},
   "outputs": [
    {
     "data": {
      "text/html": [
       "<table>\n",
       "<caption>A data.frame: 6 × 13</caption>\n",
       "<thead>\n",
       "\t<tr><th></th><th scope=col>N</th><th scope=col>P</th><th scope=col>Corr</th><th scope=col>Ratio</th><th scope=col>Stab</th><th scope=col>ROC</th><th scope=col>FP</th><th scope=col>FN</th><th scope=col>num_select</th><th scope=col>FDR</th><th scope=col>ROC_mean</th><th scope=col>FP_mean</th><th scope=col>FN_mean</th></tr>\n",
       "\t<tr><th></th><th scope=col>&lt;dbl&gt;</th><th scope=col>&lt;dbl&gt;</th><th scope=col>&lt;fct&gt;</th><th scope=col>&lt;dbl&gt;</th><th scope=col>&lt;dbl&gt;</th><th scope=col>&lt;fct&gt;</th><th scope=col>&lt;fct&gt;</th><th scope=col>&lt;fct&gt;</th><th scope=col>&lt;dbl&gt;</th><th scope=col>&lt;fct&gt;</th><th scope=col>&lt;dbl&gt;</th><th scope=col>&lt;dbl&gt;</th><th scope=col>&lt;dbl&gt;</th></tr>\n",
       "</thead>\n",
       "<tbody>\n",
       "\t<tr><th scope=row>11</th><td> 500</td><td> 500</td><td>0</td><td> 1.0</td><td>0.09</td><td>1 ( 0 )</td><td>23.08 ( 0.51 )</td><td>2.34 ( 0.1 ) </td><td>26.74</td><td>0.86</td><td>1</td><td>23.08</td><td>2.34</td></tr>\n",
       "\t<tr><th scope=row>12</th><td>1000</td><td> 500</td><td>0</td><td> 0.5</td><td>0.14</td><td>1 ( 0 )</td><td>22.72 ( 0.46 )</td><td>1.34 ( 0.08 )</td><td>27.38</td><td>0.83</td><td>1</td><td>22.72</td><td>1.34</td></tr>\n",
       "\t<tr><th scope=row>13</th><td>  50</td><td>1000</td><td>0</td><td>20.0</td><td> NaN</td><td>1 ( 0 )</td><td>1 ( 0 )       </td><td>6 ( 0 )      </td><td> 0.00</td><td>NaN </td><td>1</td><td> 1.00</td><td>6.00</td></tr>\n",
       "\t<tr><th scope=row>14</th><td> 100</td><td>1000</td><td>0</td><td>10.0</td><td>0.01</td><td>1 ( 0 )</td><td>46.76 ( 0.67 )</td><td>4.86 ( 0.09 )</td><td>47.90</td><td>0.98</td><td>1</td><td>46.76</td><td>4.86</td></tr>\n",
       "\t<tr><th scope=row>15</th><td> 500</td><td>1000</td><td>0</td><td> 2.0</td><td>0.04</td><td>1 ( 0 )</td><td>47.82 ( 0.66 )</td><td>2.5 ( 0.1 )  </td><td>51.32</td><td>0.93</td><td>1</td><td>47.82</td><td>2.50</td></tr>\n",
       "\t<tr><th scope=row>16</th><td>1000</td><td>1000</td><td>0</td><td> 1.0</td><td>0.07</td><td>1 ( 0 )</td><td>47.14 ( 0.77 )</td><td>1.46 ( 0.08 )</td><td>51.68</td><td>0.91</td><td>1</td><td>47.14</td><td>1.46</td></tr>\n",
       "</tbody>\n",
       "</table>\n"
      ],
      "text/latex": [
       "A data.frame: 6 × 13\n",
       "\\begin{tabular}{r|lllllllllllll}\n",
       "  & N & P & Corr & Ratio & Stab & ROC & FP & FN & num\\_select & FDR & ROC\\_mean & FP\\_mean & FN\\_mean\\\\\n",
       "  & <dbl> & <dbl> & <fct> & <dbl> & <dbl> & <fct> & <fct> & <fct> & <dbl> & <fct> & <dbl> & <dbl> & <dbl>\\\\\n",
       "\\hline\n",
       "\t11 &  500 &  500 & 0 &  1.0 & 0.09 & 1 ( 0 ) & 23.08 ( 0.51 ) & 2.34 ( 0.1 )  & 26.74 & 0.86 & 1 & 23.08 & 2.34\\\\\n",
       "\t12 & 1000 &  500 & 0 &  0.5 & 0.14 & 1 ( 0 ) & 22.72 ( 0.46 ) & 1.34 ( 0.08 ) & 27.38 & 0.83 & 1 & 22.72 & 1.34\\\\\n",
       "\t13 &   50 & 1000 & 0 & 20.0 &  NaN & 1 ( 0 ) & 1 ( 0 )        & 6 ( 0 )       &  0.00 & NaN  & 1 &  1.00 & 6.00\\\\\n",
       "\t14 &  100 & 1000 & 0 & 10.0 & 0.01 & 1 ( 0 ) & 46.76 ( 0.67 ) & 4.86 ( 0.09 ) & 47.90 & 0.98 & 1 & 46.76 & 4.86\\\\\n",
       "\t15 &  500 & 1000 & 0 &  2.0 & 0.04 & 1 ( 0 ) & 47.82 ( 0.66 ) & 2.5 ( 0.1 )   & 51.32 & 0.93 & 1 & 47.82 & 2.50\\\\\n",
       "\t16 & 1000 & 1000 & 0 &  1.0 & 0.07 & 1 ( 0 ) & 47.14 ( 0.77 ) & 1.46 ( 0.08 ) & 51.68 & 0.91 & 1 & 47.14 & 1.46\\\\\n",
       "\\end{tabular}\n"
      ],
      "text/markdown": [
       "\n",
       "A data.frame: 6 × 13\n",
       "\n",
       "| <!--/--> | N &lt;dbl&gt; | P &lt;dbl&gt; | Corr &lt;fct&gt; | Ratio &lt;dbl&gt; | Stab &lt;dbl&gt; | ROC &lt;fct&gt; | FP &lt;fct&gt; | FN &lt;fct&gt; | num_select &lt;dbl&gt; | FDR &lt;fct&gt; | ROC_mean &lt;dbl&gt; | FP_mean &lt;dbl&gt; | FN_mean &lt;dbl&gt; |\n",
       "|---|---|---|---|---|---|---|---|---|---|---|---|---|---|\n",
       "| 11 |  500 |  500 | 0 |  1.0 | 0.09 | 1 ( 0 ) | 23.08 ( 0.51 ) | 2.34 ( 0.1 )  | 26.74 | 0.86 | 1 | 23.08 | 2.34 |\n",
       "| 12 | 1000 |  500 | 0 |  0.5 | 0.14 | 1 ( 0 ) | 22.72 ( 0.46 ) | 1.34 ( 0.08 ) | 27.38 | 0.83 | 1 | 22.72 | 1.34 |\n",
       "| 13 |   50 | 1000 | 0 | 20.0 |  NaN | 1 ( 0 ) | 1 ( 0 )        | 6 ( 0 )       |  0.00 | NaN  | 1 |  1.00 | 6.00 |\n",
       "| 14 |  100 | 1000 | 0 | 10.0 | 0.01 | 1 ( 0 ) | 46.76 ( 0.67 ) | 4.86 ( 0.09 ) | 47.90 | 0.98 | 1 | 46.76 | 4.86 |\n",
       "| 15 |  500 | 1000 | 0 |  2.0 | 0.04 | 1 ( 0 ) | 47.82 ( 0.66 ) | 2.5 ( 0.1 )   | 51.32 | 0.93 | 1 | 47.82 | 2.50 |\n",
       "| 16 | 1000 | 1000 | 0 |  1.0 | 0.07 | 1 ( 0 ) | 47.14 ( 0.77 ) | 1.46 ( 0.08 ) | 51.68 | 0.91 | 1 | 47.14 | 1.46 |\n",
       "\n"
      ],
      "text/plain": [
       "   N    P    Corr Ratio Stab ROC     FP             FN            num_select\n",
       "11  500  500 0     1.0  0.09 1 ( 0 ) 23.08 ( 0.51 ) 2.34 ( 0.1 )  26.74     \n",
       "12 1000  500 0     0.5  0.14 1 ( 0 ) 22.72 ( 0.46 ) 1.34 ( 0.08 ) 27.38     \n",
       "13   50 1000 0    20.0   NaN 1 ( 0 ) 1 ( 0 )        6 ( 0 )        0.00     \n",
       "14  100 1000 0    10.0  0.01 1 ( 0 ) 46.76 ( 0.67 ) 4.86 ( 0.09 ) 47.90     \n",
       "15  500 1000 0     2.0  0.04 1 ( 0 ) 47.82 ( 0.66 ) 2.5 ( 0.1 )   51.32     \n",
       "16 1000 1000 0     1.0  0.07 1 ( 0 ) 47.14 ( 0.77 ) 1.46 ( 0.08 ) 51.68     \n",
       "   FDR  ROC_mean FP_mean FN_mean\n",
       "11 0.86 1        23.08   2.34   \n",
       "12 0.83 1        22.72   1.34   \n",
       "13 NaN  1         1.00   6.00   \n",
       "14 0.98 1        46.76   4.86   \n",
       "15 0.93 1        47.82   2.50   \n",
       "16 0.91 1        47.14   1.46   "
      ]
     },
     "metadata": {},
     "output_type": "display_data"
    }
   ],
   "source": [
    "tail(result.table_toe)"
   ]
  },
  {
   "cell_type": "code",
   "execution_count": 13,
   "metadata": {},
   "outputs": [
    {
     "data": {
      "text/html": [
       "<table>\n",
       "<caption>A data.frame: 16 × 13</caption>\n",
       "<thead>\n",
       "\t<tr><th></th><th scope=col>N</th><th scope=col>P</th><th scope=col>Corr</th><th scope=col>Ratio</th><th scope=col>Stab</th><th scope=col>ROC</th><th scope=col>FP</th><th scope=col>FN</th><th scope=col>num_select</th><th scope=col>FDR</th><th scope=col>ROC_mean</th><th scope=col>FP_mean</th><th scope=col>FN_mean</th></tr>\n",
       "\t<tr><th></th><th scope=col>&lt;dbl&gt;</th><th scope=col>&lt;dbl&gt;</th><th scope=col>&lt;fct&gt;</th><th scope=col>&lt;dbl&gt;</th><th scope=col>&lt;dbl&gt;</th><th scope=col>&lt;fct&gt;</th><th scope=col>&lt;fct&gt;</th><th scope=col>&lt;fct&gt;</th><th scope=col>&lt;dbl&gt;</th><th scope=col>&lt;fct&gt;</th><th scope=col>&lt;dbl&gt;</th><th scope=col>&lt;dbl&gt;</th><th scope=col>&lt;dbl&gt;</th></tr>\n",
       "</thead>\n",
       "<tbody>\n",
       "\t<tr><th scope=row>1</th><td>  50</td><td>  50</td><td>0</td><td> 1.00</td><td> NaN</td><td>1 ( 0 )</td><td>1 ( 0 )       </td><td>6 ( 0 )      </td><td> 0.00</td><td>NaN </td><td>1</td><td> 1.00</td><td>6.00</td></tr>\n",
       "\t<tr><th scope=row>2</th><td> 100</td><td>  50</td><td>0</td><td> 0.50</td><td>0.10</td><td>1 ( 0 )</td><td>1.97 ( 0.13 ) </td><td>4.62 ( 0.08 )</td><td> 3.34</td><td>0.55</td><td>1</td><td> 1.97</td><td>4.62</td></tr>\n",
       "\t<tr><th scope=row>3</th><td> 500</td><td>  50</td><td>0</td><td> 0.10</td><td>0.54</td><td>1 ( 0 )</td><td>1.26 ( 0.12 ) </td><td>2.19 ( 0.08 )</td><td> 5.07</td><td>0.22</td><td>1</td><td> 1.26</td><td>2.19</td></tr>\n",
       "\t<tr><th scope=row>4</th><td>1000</td><td>  50</td><td>0</td><td> 0.05</td><td>0.73</td><td>1 ( 0 )</td><td>0.86 ( 0.09 ) </td><td>1.12 ( 0.08 )</td><td> 5.74</td><td>0.13</td><td>1</td><td> 0.86</td><td>1.12</td></tr>\n",
       "\t<tr><th scope=row>5</th><td>  50</td><td> 100</td><td>0</td><td> 2.00</td><td> NaN</td><td>1 ( 0 )</td><td>1 ( 0 )       </td><td>6 ( 0 )      </td><td> 0.00</td><td>NaN </td><td>1</td><td> 1.00</td><td>6.00</td></tr>\n",
       "\t<tr><th scope=row>6</th><td> 100</td><td> 100</td><td>0</td><td> 1.00</td><td>0.05</td><td>1 ( 0 )</td><td>4.29 ( 0.17 ) </td><td>4.79 ( 0.09 )</td><td> 5.50</td><td>0.77</td><td>1</td><td> 4.29</td><td>4.79</td></tr>\n",
       "\t<tr><th scope=row>7</th><td> 500</td><td> 100</td><td>0</td><td> 0.20</td><td>0.40</td><td>1 ( 0 )</td><td>3.42 ( 0.16 ) </td><td>2.01 ( 0.09 )</td><td> 7.41</td><td>0.44</td><td>1</td><td> 3.42</td><td>2.01</td></tr>\n",
       "\t<tr><th scope=row>8</th><td>1000</td><td> 100</td><td>0</td><td> 0.10</td><td>0.49</td><td>1 ( 0 )</td><td>3.39 ( 0.19 ) </td><td>1.14 ( 0.07 )</td><td> 8.25</td><td>0.38</td><td>1</td><td> 3.39</td><td>1.14</td></tr>\n",
       "\t<tr><th scope=row>9</th><td>  50</td><td> 500</td><td>0</td><td>10.00</td><td> NaN</td><td>1 ( 0 )</td><td>1 ( 0 )       </td><td>6 ( 0 )      </td><td> 0.00</td><td>NaN </td><td>1</td><td> 1.00</td><td>6.00</td></tr>\n",
       "\t<tr><th scope=row>10</th><td> 100</td><td> 500</td><td>0</td><td> 5.00</td><td>0.01</td><td>1 ( 0 )</td><td>24.68 ( 0.48 )</td><td>4.5 ( 0.09 ) </td><td>26.18</td><td>0.94</td><td>1</td><td>24.68</td><td>4.50</td></tr>\n",
       "\t<tr><th scope=row>11</th><td> 500</td><td> 500</td><td>0</td><td> 1.00</td><td>0.09</td><td>1 ( 0 )</td><td>23.08 ( 0.51 )</td><td>2.34 ( 0.1 ) </td><td>26.74</td><td>0.86</td><td>1</td><td>23.08</td><td>2.34</td></tr>\n",
       "\t<tr><th scope=row>12</th><td>1000</td><td> 500</td><td>0</td><td> 0.50</td><td>0.14</td><td>1 ( 0 )</td><td>22.72 ( 0.46 )</td><td>1.34 ( 0.08 )</td><td>27.38</td><td>0.83</td><td>1</td><td>22.72</td><td>1.34</td></tr>\n",
       "\t<tr><th scope=row>13</th><td>  50</td><td>1000</td><td>0</td><td>20.00</td><td> NaN</td><td>1 ( 0 )</td><td>1 ( 0 )       </td><td>6 ( 0 )      </td><td> 0.00</td><td>NaN </td><td>1</td><td> 1.00</td><td>6.00</td></tr>\n",
       "\t<tr><th scope=row>14</th><td> 100</td><td>1000</td><td>0</td><td>10.00</td><td>0.01</td><td>1 ( 0 )</td><td>46.76 ( 0.67 )</td><td>4.86 ( 0.09 )</td><td>47.90</td><td>0.98</td><td>1</td><td>46.76</td><td>4.86</td></tr>\n",
       "\t<tr><th scope=row>15</th><td> 500</td><td>1000</td><td>0</td><td> 2.00</td><td>0.04</td><td>1 ( 0 )</td><td>47.82 ( 0.66 )</td><td>2.5 ( 0.1 )  </td><td>51.32</td><td>0.93</td><td>1</td><td>47.82</td><td>2.50</td></tr>\n",
       "\t<tr><th scope=row>16</th><td>1000</td><td>1000</td><td>0</td><td> 1.00</td><td>0.07</td><td>1 ( 0 )</td><td>47.14 ( 0.77 )</td><td>1.46 ( 0.08 )</td><td>51.68</td><td>0.91</td><td>1</td><td>47.14</td><td>1.46</td></tr>\n",
       "</tbody>\n",
       "</table>\n"
      ],
      "text/latex": [
       "A data.frame: 16 × 13\n",
       "\\begin{tabular}{r|lllllllllllll}\n",
       "  & N & P & Corr & Ratio & Stab & ROC & FP & FN & num\\_select & FDR & ROC\\_mean & FP\\_mean & FN\\_mean\\\\\n",
       "  & <dbl> & <dbl> & <fct> & <dbl> & <dbl> & <fct> & <fct> & <fct> & <dbl> & <fct> & <dbl> & <dbl> & <dbl>\\\\\n",
       "\\hline\n",
       "\t1 &   50 &   50 & 0 &  1.00 &  NaN & 1 ( 0 ) & 1 ( 0 )        & 6 ( 0 )       &  0.00 & NaN  & 1 &  1.00 & 6.00\\\\\n",
       "\t2 &  100 &   50 & 0 &  0.50 & 0.10 & 1 ( 0 ) & 1.97 ( 0.13 )  & 4.62 ( 0.08 ) &  3.34 & 0.55 & 1 &  1.97 & 4.62\\\\\n",
       "\t3 &  500 &   50 & 0 &  0.10 & 0.54 & 1 ( 0 ) & 1.26 ( 0.12 )  & 2.19 ( 0.08 ) &  5.07 & 0.22 & 1 &  1.26 & 2.19\\\\\n",
       "\t4 & 1000 &   50 & 0 &  0.05 & 0.73 & 1 ( 0 ) & 0.86 ( 0.09 )  & 1.12 ( 0.08 ) &  5.74 & 0.13 & 1 &  0.86 & 1.12\\\\\n",
       "\t5 &   50 &  100 & 0 &  2.00 &  NaN & 1 ( 0 ) & 1 ( 0 )        & 6 ( 0 )       &  0.00 & NaN  & 1 &  1.00 & 6.00\\\\\n",
       "\t6 &  100 &  100 & 0 &  1.00 & 0.05 & 1 ( 0 ) & 4.29 ( 0.17 )  & 4.79 ( 0.09 ) &  5.50 & 0.77 & 1 &  4.29 & 4.79\\\\\n",
       "\t7 &  500 &  100 & 0 &  0.20 & 0.40 & 1 ( 0 ) & 3.42 ( 0.16 )  & 2.01 ( 0.09 ) &  7.41 & 0.44 & 1 &  3.42 & 2.01\\\\\n",
       "\t8 & 1000 &  100 & 0 &  0.10 & 0.49 & 1 ( 0 ) & 3.39 ( 0.19 )  & 1.14 ( 0.07 ) &  8.25 & 0.38 & 1 &  3.39 & 1.14\\\\\n",
       "\t9 &   50 &  500 & 0 & 10.00 &  NaN & 1 ( 0 ) & 1 ( 0 )        & 6 ( 0 )       &  0.00 & NaN  & 1 &  1.00 & 6.00\\\\\n",
       "\t10 &  100 &  500 & 0 &  5.00 & 0.01 & 1 ( 0 ) & 24.68 ( 0.48 ) & 4.5 ( 0.09 )  & 26.18 & 0.94 & 1 & 24.68 & 4.50\\\\\n",
       "\t11 &  500 &  500 & 0 &  1.00 & 0.09 & 1 ( 0 ) & 23.08 ( 0.51 ) & 2.34 ( 0.1 )  & 26.74 & 0.86 & 1 & 23.08 & 2.34\\\\\n",
       "\t12 & 1000 &  500 & 0 &  0.50 & 0.14 & 1 ( 0 ) & 22.72 ( 0.46 ) & 1.34 ( 0.08 ) & 27.38 & 0.83 & 1 & 22.72 & 1.34\\\\\n",
       "\t13 &   50 & 1000 & 0 & 20.00 &  NaN & 1 ( 0 ) & 1 ( 0 )        & 6 ( 0 )       &  0.00 & NaN  & 1 &  1.00 & 6.00\\\\\n",
       "\t14 &  100 & 1000 & 0 & 10.00 & 0.01 & 1 ( 0 ) & 46.76 ( 0.67 ) & 4.86 ( 0.09 ) & 47.90 & 0.98 & 1 & 46.76 & 4.86\\\\\n",
       "\t15 &  500 & 1000 & 0 &  2.00 & 0.04 & 1 ( 0 ) & 47.82 ( 0.66 ) & 2.5 ( 0.1 )   & 51.32 & 0.93 & 1 & 47.82 & 2.50\\\\\n",
       "\t16 & 1000 & 1000 & 0 &  1.00 & 0.07 & 1 ( 0 ) & 47.14 ( 0.77 ) & 1.46 ( 0.08 ) & 51.68 & 0.91 & 1 & 47.14 & 1.46\\\\\n",
       "\\end{tabular}\n"
      ],
      "text/markdown": [
       "\n",
       "A data.frame: 16 × 13\n",
       "\n",
       "| <!--/--> | N &lt;dbl&gt; | P &lt;dbl&gt; | Corr &lt;fct&gt; | Ratio &lt;dbl&gt; | Stab &lt;dbl&gt; | ROC &lt;fct&gt; | FP &lt;fct&gt; | FN &lt;fct&gt; | num_select &lt;dbl&gt; | FDR &lt;fct&gt; | ROC_mean &lt;dbl&gt; | FP_mean &lt;dbl&gt; | FN_mean &lt;dbl&gt; |\n",
       "|---|---|---|---|---|---|---|---|---|---|---|---|---|---|\n",
       "| 1 |   50 |   50 | 0 |  1.00 |  NaN | 1 ( 0 ) | 1 ( 0 )        | 6 ( 0 )       |  0.00 | NaN  | 1 |  1.00 | 6.00 |\n",
       "| 2 |  100 |   50 | 0 |  0.50 | 0.10 | 1 ( 0 ) | 1.97 ( 0.13 )  | 4.62 ( 0.08 ) |  3.34 | 0.55 | 1 |  1.97 | 4.62 |\n",
       "| 3 |  500 |   50 | 0 |  0.10 | 0.54 | 1 ( 0 ) | 1.26 ( 0.12 )  | 2.19 ( 0.08 ) |  5.07 | 0.22 | 1 |  1.26 | 2.19 |\n",
       "| 4 | 1000 |   50 | 0 |  0.05 | 0.73 | 1 ( 0 ) | 0.86 ( 0.09 )  | 1.12 ( 0.08 ) |  5.74 | 0.13 | 1 |  0.86 | 1.12 |\n",
       "| 5 |   50 |  100 | 0 |  2.00 |  NaN | 1 ( 0 ) | 1 ( 0 )        | 6 ( 0 )       |  0.00 | NaN  | 1 |  1.00 | 6.00 |\n",
       "| 6 |  100 |  100 | 0 |  1.00 | 0.05 | 1 ( 0 ) | 4.29 ( 0.17 )  | 4.79 ( 0.09 ) |  5.50 | 0.77 | 1 |  4.29 | 4.79 |\n",
       "| 7 |  500 |  100 | 0 |  0.20 | 0.40 | 1 ( 0 ) | 3.42 ( 0.16 )  | 2.01 ( 0.09 ) |  7.41 | 0.44 | 1 |  3.42 | 2.01 |\n",
       "| 8 | 1000 |  100 | 0 |  0.10 | 0.49 | 1 ( 0 ) | 3.39 ( 0.19 )  | 1.14 ( 0.07 ) |  8.25 | 0.38 | 1 |  3.39 | 1.14 |\n",
       "| 9 |   50 |  500 | 0 | 10.00 |  NaN | 1 ( 0 ) | 1 ( 0 )        | 6 ( 0 )       |  0.00 | NaN  | 1 |  1.00 | 6.00 |\n",
       "| 10 |  100 |  500 | 0 |  5.00 | 0.01 | 1 ( 0 ) | 24.68 ( 0.48 ) | 4.5 ( 0.09 )  | 26.18 | 0.94 | 1 | 24.68 | 4.50 |\n",
       "| 11 |  500 |  500 | 0 |  1.00 | 0.09 | 1 ( 0 ) | 23.08 ( 0.51 ) | 2.34 ( 0.1 )  | 26.74 | 0.86 | 1 | 23.08 | 2.34 |\n",
       "| 12 | 1000 |  500 | 0 |  0.50 | 0.14 | 1 ( 0 ) | 22.72 ( 0.46 ) | 1.34 ( 0.08 ) | 27.38 | 0.83 | 1 | 22.72 | 1.34 |\n",
       "| 13 |   50 | 1000 | 0 | 20.00 |  NaN | 1 ( 0 ) | 1 ( 0 )        | 6 ( 0 )       |  0.00 | NaN  | 1 |  1.00 | 6.00 |\n",
       "| 14 |  100 | 1000 | 0 | 10.00 | 0.01 | 1 ( 0 ) | 46.76 ( 0.67 ) | 4.86 ( 0.09 ) | 47.90 | 0.98 | 1 | 46.76 | 4.86 |\n",
       "| 15 |  500 | 1000 | 0 |  2.00 | 0.04 | 1 ( 0 ) | 47.82 ( 0.66 ) | 2.5 ( 0.1 )   | 51.32 | 0.93 | 1 | 47.82 | 2.50 |\n",
       "| 16 | 1000 | 1000 | 0 |  1.00 | 0.07 | 1 ( 0 ) | 47.14 ( 0.77 ) | 1.46 ( 0.08 ) | 51.68 | 0.91 | 1 | 47.14 | 1.46 |\n",
       "\n"
      ],
      "text/plain": [
       "   N    P    Corr Ratio Stab ROC     FP             FN            num_select\n",
       "1    50   50 0     1.00  NaN 1 ( 0 ) 1 ( 0 )        6 ( 0 )        0.00     \n",
       "2   100   50 0     0.50 0.10 1 ( 0 ) 1.97 ( 0.13 )  4.62 ( 0.08 )  3.34     \n",
       "3   500   50 0     0.10 0.54 1 ( 0 ) 1.26 ( 0.12 )  2.19 ( 0.08 )  5.07     \n",
       "4  1000   50 0     0.05 0.73 1 ( 0 ) 0.86 ( 0.09 )  1.12 ( 0.08 )  5.74     \n",
       "5    50  100 0     2.00  NaN 1 ( 0 ) 1 ( 0 )        6 ( 0 )        0.00     \n",
       "6   100  100 0     1.00 0.05 1 ( 0 ) 4.29 ( 0.17 )  4.79 ( 0.09 )  5.50     \n",
       "7   500  100 0     0.20 0.40 1 ( 0 ) 3.42 ( 0.16 )  2.01 ( 0.09 )  7.41     \n",
       "8  1000  100 0     0.10 0.49 1 ( 0 ) 3.39 ( 0.19 )  1.14 ( 0.07 )  8.25     \n",
       "9    50  500 0    10.00  NaN 1 ( 0 ) 1 ( 0 )        6 ( 0 )        0.00     \n",
       "10  100  500 0     5.00 0.01 1 ( 0 ) 24.68 ( 0.48 ) 4.5 ( 0.09 )  26.18     \n",
       "11  500  500 0     1.00 0.09 1 ( 0 ) 23.08 ( 0.51 ) 2.34 ( 0.1 )  26.74     \n",
       "12 1000  500 0     0.50 0.14 1 ( 0 ) 22.72 ( 0.46 ) 1.34 ( 0.08 ) 27.38     \n",
       "13   50 1000 0    20.00  NaN 1 ( 0 ) 1 ( 0 )        6 ( 0 )        0.00     \n",
       "14  100 1000 0    10.00 0.01 1 ( 0 ) 46.76 ( 0.67 ) 4.86 ( 0.09 ) 47.90     \n",
       "15  500 1000 0     2.00 0.04 1 ( 0 ) 47.82 ( 0.66 ) 2.5 ( 0.1 )   51.32     \n",
       "16 1000 1000 0     1.00 0.07 1 ( 0 ) 47.14 ( 0.77 ) 1.46 ( 0.08 ) 51.68     \n",
       "   FDR  ROC_mean FP_mean FN_mean\n",
       "1  NaN  1         1.00   6.00   \n",
       "2  0.55 1         1.97   4.62   \n",
       "3  0.22 1         1.26   2.19   \n",
       "4  0.13 1         0.86   1.12   \n",
       "5  NaN  1         1.00   6.00   \n",
       "6  0.77 1         4.29   4.79   \n",
       "7  0.44 1         3.42   2.01   \n",
       "8  0.38 1         3.39   1.14   \n",
       "9  NaN  1         1.00   6.00   \n",
       "10 0.94 1        24.68   4.50   \n",
       "11 0.86 1        23.08   2.34   \n",
       "12 0.83 1        22.72   1.34   \n",
       "13 NaN  1         1.00   6.00   \n",
       "14 0.98 1        46.76   4.86   \n",
       "15 0.93 1        47.82   2.50   \n",
       "16 0.91 1        47.14   1.46   "
      ]
     },
     "metadata": {},
     "output_type": "display_data"
    }
   ],
   "source": [
    "result.table_toe\n",
    "\n",
    "## export\n",
    "write.table(result.table_toe, '../results_summary_bin/sim_ind_RF_binary.txt', sep='\\t', row.names=F)"
   ]
  },
  {
   "cell_type": "code",
   "execution_count": null,
   "metadata": {},
   "outputs": [],
   "source": []
  }
 ],
 "metadata": {
  "kernelspec": {
   "display_name": "R",
   "language": "R",
   "name": "ir"
  },
  "language_info": {
   "codemirror_mode": "r",
   "file_extension": ".r",
   "mimetype": "text/x-r-source",
   "name": "R",
   "pygments_lexer": "r",
   "version": "3.6.1"
  }
 },
 "nbformat": 4,
 "nbformat_minor": 2
}
