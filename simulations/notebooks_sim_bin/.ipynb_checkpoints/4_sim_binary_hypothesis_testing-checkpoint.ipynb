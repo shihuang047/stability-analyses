{
 "cells": [
  {
   "cell_type": "markdown",
   "metadata": {},
   "source": [
    "### Hypothesis testing based on boostrap for selected simulation scenario"
   ]
  },
  {
   "cell_type": "code",
   "execution_count": 1,
   "metadata": {},
   "outputs": [],
   "source": [
    "dir = '/panfs/panfs1.ucsd.edu/panscratch/lij014/Stability_2020/sim_data/'"
   ]
  },
  {
   "cell_type": "code",
   "execution_count": 2,
   "metadata": {},
   "outputs": [],
   "source": [
    "load(paste0(dir, 'binary_update/boot_toe_RF_binary.RData'))\n",
    "load(paste0(dir, 'binary_update/boot_block_RF_binary.RData'))\n",
    "load(paste0(dir, 'binary_update/boot_toe_genCompLasso_binary.RData'))\n",
    "load(paste0(dir, 'binary_update/boot_block_genCompLasso_binary.RData'))"
   ]
  },
  {
   "cell_type": "markdown",
   "metadata": {},
   "source": [
    "### hypothesis testing based on Stability"
   ]
  },
  {
   "cell_type": "code",
   "execution_count": 3,
   "metadata": {},
   "outputs": [
    {
     "data": {
      "text/html": [
       "<table>\n",
       "<caption>A data.frame: 6 × 4</caption>\n",
       "<thead>\n",
       "\t<tr><th></th><th scope=col>toe_rf</th><th scope=col>toe_genCompLasso</th><th scope=col>block_rf</th><th scope=col>block_genCompLasso</th></tr>\n",
       "\t<tr><th></th><th scope=col>&lt;dbl&gt;</th><th scope=col>&lt;dbl&gt;</th><th scope=col>&lt;dbl&gt;</th><th scope=col>&lt;dbl&gt;</th></tr>\n",
       "</thead>\n",
       "<tbody>\n",
       "\t<tr><th scope=row>1</th><td>0.01</td><td>0.19</td><td>0.01</td><td>0.18</td></tr>\n",
       "\t<tr><th scope=row>2</th><td>0.01</td><td>0.19</td><td>0.01</td><td>0.18</td></tr>\n",
       "\t<tr><th scope=row>3</th><td>0.01</td><td>0.19</td><td>0.00</td><td>0.16</td></tr>\n",
       "\t<tr><th scope=row>4</th><td>0.01</td><td>0.19</td><td>0.00</td><td>0.20</td></tr>\n",
       "\t<tr><th scope=row>5</th><td>0.01</td><td>0.17</td><td>0.01</td><td>0.17</td></tr>\n",
       "\t<tr><th scope=row>6</th><td>0.01</td><td>0.18</td><td>0.01</td><td>0.18</td></tr>\n",
       "</tbody>\n",
       "</table>\n"
      ],
      "text/latex": [
       "A data.frame: 6 × 4\n",
       "\\begin{tabular}{r|llll}\n",
       "  & toe\\_rf & toe\\_genCompLasso & block\\_rf & block\\_genCompLasso\\\\\n",
       "  & <dbl> & <dbl> & <dbl> & <dbl>\\\\\n",
       "\\hline\n",
       "\t1 & 0.01 & 0.19 & 0.01 & 0.18\\\\\n",
       "\t2 & 0.01 & 0.19 & 0.01 & 0.18\\\\\n",
       "\t3 & 0.01 & 0.19 & 0.00 & 0.16\\\\\n",
       "\t4 & 0.01 & 0.19 & 0.00 & 0.20\\\\\n",
       "\t5 & 0.01 & 0.17 & 0.01 & 0.17\\\\\n",
       "\t6 & 0.01 & 0.18 & 0.01 & 0.18\\\\\n",
       "\\end{tabular}\n"
      ],
      "text/markdown": [
       "\n",
       "A data.frame: 6 × 4\n",
       "\n",
       "| <!--/--> | toe_rf &lt;dbl&gt; | toe_genCompLasso &lt;dbl&gt; | block_rf &lt;dbl&gt; | block_genCompLasso &lt;dbl&gt; |\n",
       "|---|---|---|---|---|\n",
       "| 1 | 0.01 | 0.19 | 0.01 | 0.18 |\n",
       "| 2 | 0.01 | 0.19 | 0.01 | 0.18 |\n",
       "| 3 | 0.01 | 0.19 | 0.00 | 0.16 |\n",
       "| 4 | 0.01 | 0.19 | 0.00 | 0.20 |\n",
       "| 5 | 0.01 | 0.17 | 0.01 | 0.17 |\n",
       "| 6 | 0.01 | 0.18 | 0.01 | 0.18 |\n",
       "\n"
      ],
      "text/plain": [
       "  toe_rf toe_genCompLasso block_rf block_genCompLasso\n",
       "1 0.01   0.19             0.01     0.18              \n",
       "2 0.01   0.19             0.01     0.18              \n",
       "3 0.01   0.19             0.00     0.16              \n",
       "4 0.01   0.19             0.00     0.20              \n",
       "5 0.01   0.17             0.01     0.17              \n",
       "6 0.01   0.18             0.01     0.18              "
      ]
     },
     "metadata": {},
     "output_type": "display_data"
    }
   ],
   "source": [
    "table = as.data.frame(cbind(toe_rf$stab_index, toe_genCompLasso$stab_index, block_rf$stab_index, block_genCompLasso$stab_index))\n",
    "colnames(table) = c('toe_rf', 'toe_genCompLasso', 'block_rf', 'block_genCompLasso')\n",
    "head(table)"
   ]
  },
  {
   "cell_type": "code",
   "execution_count": 4,
   "metadata": {},
   "outputs": [
    {
     "data": {
      "text/html": [
       "0.1732"
      ],
      "text/latex": [
       "0.1732"
      ],
      "text/markdown": [
       "0.1732"
      ],
      "text/plain": [
       "[1] 0.1732"
      ]
     },
     "metadata": {},
     "output_type": "display_data"
    },
    {
     "data": {
      "text/html": [
       "0.0097"
      ],
      "text/latex": [
       "0.0097"
      ],
      "text/markdown": [
       "0.0097"
      ],
      "text/plain": [
       "[1] 0.0097"
      ]
     },
     "metadata": {},
     "output_type": "display_data"
    }
   ],
   "source": [
    "mean(table$toe_genCompLasso)\n",
    "mean(table$toe_rf)"
   ]
  },
  {
   "cell_type": "code",
   "execution_count": 5,
   "metadata": {},
   "outputs": [
    {
     "data": {
      "text/html": [
       "0.1635"
      ],
      "text/latex": [
       "0.1635"
      ],
      "text/markdown": [
       "0.1635"
      ],
      "text/plain": [
       "[1] 0.1635"
      ]
     },
     "metadata": {},
     "output_type": "display_data"
    },
    {
     "data": {
      "text/html": [
       "<style>\n",
       ".dl-inline {width: auto; margin:0; padding: 0}\n",
       ".dl-inline>dt, .dl-inline>dd {float: none; width: auto; display: inline-block}\n",
       ".dl-inline>dt::after {content: \":\\0020\"; padding-right: .5ex}\n",
       ".dl-inline>dt:not(:first-of-type) {padding-left: .5ex}\n",
       "</style><dl class=dl-inline><dt>2.5%</dt><dd>0.14</dd><dt>97.5%</dt><dd>0.18</dd></dl>\n"
      ],
      "text/latex": [
       "\\begin{description*}\n",
       "\\item[2.5\\textbackslash{}\\%] 0.14\n",
       "\\item[97.5\\textbackslash{}\\%] 0.18\n",
       "\\end{description*}\n"
      ],
      "text/markdown": [
       "2.5%\n",
       ":   0.1497.5%\n",
       ":   0.18\n",
       "\n"
      ],
      "text/plain": [
       " 2.5% 97.5% \n",
       " 0.14  0.18 "
      ]
     },
     "metadata": {},
     "output_type": "display_data"
    }
   ],
   "source": [
    "diff_toe = (table$toe_genCompLasso - table$toe_rf)\n",
    "mean(diff_toe)\n",
    "quantile(diff_toe, probs = c(0.025, 0.975))"
   ]
  },
  {
   "cell_type": "code",
   "execution_count": 6,
   "metadata": {},
   "outputs": [
    {
     "data": {
      "text/html": [
       "0.1782"
      ],
      "text/latex": [
       "0.1782"
      ],
      "text/markdown": [
       "0.1782"
      ],
      "text/plain": [
       "[1] 0.1782"
      ]
     },
     "metadata": {},
     "output_type": "display_data"
    },
    {
     "data": {
      "text/html": [
       "0.0079"
      ],
      "text/latex": [
       "0.0079"
      ],
      "text/markdown": [
       "0.0079"
      ],
      "text/plain": [
       "[1] 0.0079"
      ]
     },
     "metadata": {},
     "output_type": "display_data"
    }
   ],
   "source": [
    "mean(table$block_genCompLasso)\n",
    "mean(table$block_rf)"
   ]
  },
  {
   "cell_type": "code",
   "execution_count": 6,
   "metadata": {},
   "outputs": [
    {
     "data": {
      "text/html": [
       "0.1703"
      ],
      "text/latex": [
       "0.1703"
      ],
      "text/markdown": [
       "0.1703"
      ],
      "text/plain": [
       "[1] 0.1703"
      ]
     },
     "metadata": {},
     "output_type": "display_data"
    },
    {
     "data": {
      "text/html": [
       "<style>\n",
       ".dl-inline {width: auto; margin:0; padding: 0}\n",
       ".dl-inline>dt, .dl-inline>dd {float: none; width: auto; display: inline-block}\n",
       ".dl-inline>dt::after {content: \":\\0020\"; padding-right: .5ex}\n",
       ".dl-inline>dt:not(:first-of-type) {padding-left: .5ex}\n",
       "</style><dl class=dl-inline><dt>2.5%</dt><dd>0.15</dd><dt>97.5%</dt><dd>0.19525</dd></dl>\n"
      ],
      "text/latex": [
       "\\begin{description*}\n",
       "\\item[2.5\\textbackslash{}\\%] 0.15\n",
       "\\item[97.5\\textbackslash{}\\%] 0.19525\n",
       "\\end{description*}\n"
      ],
      "text/markdown": [
       "2.5%\n",
       ":   0.1597.5%\n",
       ":   0.19525\n",
       "\n"
      ],
      "text/plain": [
       "   2.5%   97.5% \n",
       "0.15000 0.19525 "
      ]
     },
     "metadata": {},
     "output_type": "display_data"
    }
   ],
   "source": [
    "diff_block = (table$block_genCompLasso - table$block_rf)\n",
    "mean(diff_block)\n",
    "quantile(diff_block, probs = c(0.025, 0.975))"
   ]
  },
  {
   "cell_type": "markdown",
   "metadata": {},
   "source": [
    "### hypothesis testing based on ROC"
   ]
  },
  {
   "cell_type": "markdown",
   "metadata": {},
   "source": [
    "#### block 0.5, p = 1000, n = 100"
   ]
  },
  {
   "cell_type": "code",
   "execution_count": 31,
   "metadata": {},
   "outputs": [
    {
     "data": {
      "text/html": [
       "<dl>\n",
       "\t<dt>$n</dt>\n",
       "\t\t<dd><strong>N:</strong> 100</dd>\n",
       "\t<dt>$p</dt>\n",
       "\t\t<dd><strong>P:</strong> 1000</dd>\n",
       "\t<dt>$rou</dt>\n",
       "\t\t<dd>0.5</dd>\n",
       "</dl>\n"
      ],
      "text/latex": [
       "\\begin{description}\n",
       "\\item[\\$n] \\textbf{N:} 100\n",
       "\\item[\\$p] \\textbf{P:} 1000\n",
       "\\item[\\$rou] 0.5\n",
       "\\end{description}\n"
      ],
      "text/markdown": [
       "$n\n",
       ":   **N:** 100\n",
       "$p\n",
       ":   **P:** 1000\n",
       "$rou\n",
       ":   0.5\n",
       "\n",
       "\n"
      ],
      "text/plain": [
       "$n\n",
       "  N \n",
       "100 \n",
       "\n",
       "$p\n",
       "   P \n",
       "1000 \n",
       "\n",
       "$rou\n",
       "[1] 0.5\n"
      ]
     },
     "metadata": {},
     "output_type": "display_data"
    }
   ],
   "source": [
    "i = 46\n",
    "load(paste0(dir, '/binary_update/block_RF_binary_', i, '.RData')) \n",
    "results_block_rf[c('n', 'p', 'rou')]\n",
    "block_rf_rocs = results_block_rf$ROC.list"
   ]
  },
  {
   "cell_type": "code",
   "execution_count": 32,
   "metadata": {},
   "outputs": [
    {
     "data": {
      "text/html": [
       "<dl>\n",
       "\t<dt>$n</dt>\n",
       "\t\t<dd><strong>N:</strong> 100</dd>\n",
       "\t<dt>$p</dt>\n",
       "\t\t<dd><strong>P:</strong> 1000</dd>\n",
       "\t<dt>$rou</dt>\n",
       "\t\t<dd>0.5</dd>\n",
       "</dl>\n"
      ],
      "text/latex": [
       "\\begin{description}\n",
       "\\item[\\$n] \\textbf{N:} 100\n",
       "\\item[\\$p] \\textbf{P:} 1000\n",
       "\\item[\\$rou] 0.5\n",
       "\\end{description}\n"
      ],
      "text/markdown": [
       "$n\n",
       ":   **N:** 100\n",
       "$p\n",
       ":   **P:** 1000\n",
       "$rou\n",
       ":   0.5\n",
       "\n",
       "\n"
      ],
      "text/plain": [
       "$n\n",
       "  N \n",
       "100 \n",
       "\n",
       "$p\n",
       "   P \n",
       "1000 \n",
       "\n",
       "$rou\n",
       "[1] 0.5\n"
      ]
     },
     "metadata": {},
     "output_type": "display_data"
    }
   ],
   "source": [
    "i = 46\n",
    "load(paste0(dir, '/binary_update/block_GenCompLasso_binary_', i, '.RData')) \n",
    "results_block_GenCompLasso[c('n', 'p', 'rou')]\n",
    "block_GenCompLasso_rocs = results_block_GenCompLasso$ROC.list"
   ]
  },
  {
   "cell_type": "code",
   "execution_count": 33,
   "metadata": {},
   "outputs": [
    {
     "data": {
      "text/html": [
       "-0.0181"
      ],
      "text/latex": [
       "-0.0181"
      ],
      "text/markdown": [
       "-0.0181"
      ],
      "text/plain": [
       "[1] -0.0181"
      ]
     },
     "metadata": {},
     "output_type": "display_data"
    },
    {
     "data": {
      "text/html": [
       "<style>\n",
       ".dl-inline {width: auto; margin:0; padding: 0}\n",
       ".dl-inline>dt, .dl-inline>dd {float: none; width: auto; display: inline-block}\n",
       ".dl-inline>dt::after {content: \":\\0020\"; padding-right: .5ex}\n",
       ".dl-inline>dt:not(:first-of-type) {padding-left: .5ex}\n",
       "</style><dl class=dl-inline><dt>2.5%</dt><dd>-0.0700000000000001</dd><dt>97.5%</dt><dd>0</dd></dl>\n"
      ],
      "text/latex": [
       "\\begin{description*}\n",
       "\\item[2.5\\textbackslash{}\\%] -0.0700000000000001\n",
       "\\item[97.5\\textbackslash{}\\%] 0\n",
       "\\end{description*}\n"
      ],
      "text/markdown": [
       "2.5%\n",
       ":   -0.070000000000000197.5%\n",
       ":   0\n",
       "\n"
      ],
      "text/plain": [
       " 2.5% 97.5% \n",
       "-0.07  0.00 "
      ]
     },
     "metadata": {},
     "output_type": "display_data"
    }
   ],
   "source": [
    "diff_block = (block_GenCompLasso_rocs - block_rf_rocs)\n",
    "mean(diff_block)\n",
    "quantile(diff_block, probs = c(0.025, 0.975))"
   ]
  },
  {
   "cell_type": "code",
   "execution_count": 35,
   "metadata": {},
   "outputs": [
    {
     "data": {
      "text/plain": [
       "diff_block\n",
       "              -0.18 -0.0800000000000001 -0.0700000000000001 -0.0600000000000001 \n",
       "                  1                   1                   2                   2 \n",
       "              -0.05               -0.04               -0.03               -0.02 \n",
       "                  7                   8                  10                  15 \n",
       "              -0.01                   0 \n",
       "                  2                  52 "
      ]
     },
     "metadata": {},
     "output_type": "display_data"
    }
   ],
   "source": [
    "table(diff_block)"
   ]
  },
  {
   "cell_type": "markdown",
   "metadata": {},
   "source": [
    "#### Toeplitz 0.5"
   ]
  },
  {
   "cell_type": "code",
   "execution_count": 36,
   "metadata": {},
   "outputs": [
    {
     "data": {
      "text/html": [
       "<dl>\n",
       "\t<dt>$n</dt>\n",
       "\t\t<dd><strong>N:</strong> 100</dd>\n",
       "\t<dt>$p</dt>\n",
       "\t\t<dd><strong>P:</strong> 1000</dd>\n",
       "\t<dt>$rou</dt>\n",
       "\t\t<dd>0.5</dd>\n",
       "</dl>\n"
      ],
      "text/latex": [
       "\\begin{description}\n",
       "\\item[\\$n] \\textbf{N:} 100\n",
       "\\item[\\$p] \\textbf{P:} 1000\n",
       "\\item[\\$rou] 0.5\n",
       "\\end{description}\n"
      ],
      "text/markdown": [
       "$n\n",
       ":   **N:** 100\n",
       "$p\n",
       ":   **P:** 1000\n",
       "$rou\n",
       ":   0.5\n",
       "\n",
       "\n"
      ],
      "text/plain": [
       "$n\n",
       "  N \n",
       "100 \n",
       "\n",
       "$p\n",
       "   P \n",
       "1000 \n",
       "\n",
       "$rou\n",
       "[1] 0.5\n"
      ]
     },
     "metadata": {},
     "output_type": "display_data"
    }
   ],
   "source": [
    "i = 46\n",
    "load(paste0(dir, '/binary_update/toe_RF_binary_', i, '.RData')) \n",
    "results_toe_rf[c('n', 'p', 'rou')]\n",
    "toe_rf_rocs = results_toe_rf$ROC.list"
   ]
  },
  {
   "cell_type": "code",
   "execution_count": 37,
   "metadata": {},
   "outputs": [
    {
     "data": {
      "text/html": [
       "<dl>\n",
       "\t<dt>$n</dt>\n",
       "\t\t<dd><strong>N:</strong> 100</dd>\n",
       "\t<dt>$p</dt>\n",
       "\t\t<dd><strong>P:</strong> 1000</dd>\n",
       "\t<dt>$rou</dt>\n",
       "\t\t<dd>0.5</dd>\n",
       "</dl>\n"
      ],
      "text/latex": [
       "\\begin{description}\n",
       "\\item[\\$n] \\textbf{N:} 100\n",
       "\\item[\\$p] \\textbf{P:} 1000\n",
       "\\item[\\$rou] 0.5\n",
       "\\end{description}\n"
      ],
      "text/markdown": [
       "$n\n",
       ":   **N:** 100\n",
       "$p\n",
       ":   **P:** 1000\n",
       "$rou\n",
       ":   0.5\n",
       "\n",
       "\n"
      ],
      "text/plain": [
       "$n\n",
       "  N \n",
       "100 \n",
       "\n",
       "$p\n",
       "   P \n",
       "1000 \n",
       "\n",
       "$rou\n",
       "[1] 0.5\n"
      ]
     },
     "metadata": {},
     "output_type": "display_data"
    }
   ],
   "source": [
    "i = 46\n",
    "load(paste0(dir, '/binary_update/toe_GenCompLasso_binary_', i, '.RData')) \n",
    "results_toe_GenCompLasso[c('n', 'p', 'rou')]\n",
    "toe_GenCompLasso_rocs = results_toe_GenCompLasso$ROC.list"
   ]
  },
  {
   "cell_type": "code",
   "execution_count": 38,
   "metadata": {},
   "outputs": [
    {
     "data": {
      "text/html": [
       "-6e-04"
      ],
      "text/latex": [
       "-6e-04"
      ],
      "text/markdown": [
       "-6e-04"
      ],
      "text/plain": [
       "[1] -6e-04"
      ]
     },
     "metadata": {},
     "output_type": "display_data"
    },
    {
     "data": {
      "text/html": [
       "<style>\n",
       ".dl-inline {width: auto; margin:0; padding: 0}\n",
       ".dl-inline>dt, .dl-inline>dd {float: none; width: auto; display: inline-block}\n",
       ".dl-inline>dt::after {content: \":\\0020\"; padding-right: .5ex}\n",
       ".dl-inline>dt:not(:first-of-type) {padding-left: .5ex}\n",
       "</style><dl class=dl-inline><dt>2.5%</dt><dd>-0.01</dd><dt>97.5%</dt><dd>0</dd></dl>\n"
      ],
      "text/latex": [
       "\\begin{description*}\n",
       "\\item[2.5\\textbackslash{}\\%] -0.01\n",
       "\\item[97.5\\textbackslash{}\\%] 0\n",
       "\\end{description*}\n"
      ],
      "text/markdown": [
       "2.5%\n",
       ":   -0.0197.5%\n",
       ":   0\n",
       "\n"
      ],
      "text/plain": [
       " 2.5% 97.5% \n",
       "-0.01  0.00 "
      ]
     },
     "metadata": {},
     "output_type": "display_data"
    }
   ],
   "source": [
    "diff_toe = (toe_GenCompLasso_rocs - toe_rf_rocs)\n",
    "mean(diff_toe)\n",
    "quantile(diff_toe, probs = c(0.025, 0.975))"
   ]
  },
  {
   "cell_type": "code",
   "execution_count": 39,
   "metadata": {},
   "outputs": [
    {
     "data": {
      "text/plain": [
       "diff_toe\n",
       "-0.02 -0.01     0 \n",
       "    2     2    96 "
      ]
     },
     "metadata": {},
     "output_type": "display_data"
    }
   ],
   "source": [
    "table(diff_toe)"
   ]
  },
  {
   "cell_type": "code",
   "execution_count": null,
   "metadata": {},
   "outputs": [],
   "source": []
  }
 ],
 "metadata": {
  "kernelspec": {
   "display_name": "R",
   "language": "R",
   "name": "ir"
  },
  "language_info": {
   "codemirror_mode": "r",
   "file_extension": ".r",
   "mimetype": "text/x-r-source",
   "name": "R",
   "pygments_lexer": "r",
   "version": "3.6.1"
  }
 },
 "nbformat": 4,
 "nbformat_minor": 2
}
