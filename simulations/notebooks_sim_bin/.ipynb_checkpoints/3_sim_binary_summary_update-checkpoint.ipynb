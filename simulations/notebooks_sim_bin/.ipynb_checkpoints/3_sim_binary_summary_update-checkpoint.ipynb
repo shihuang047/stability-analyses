{
 "cells": [
  {
   "cell_type": "markdown",
   "metadata": {},
   "source": [
    "### summarize method comparison results across 4 feature selection methods in different simulation scenarios"
   ]
  },
  {
   "cell_type": "markdown",
   "metadata": {},
   "source": [
    "### summarize Independent results"
   ]
  },
  {
   "cell_type": "code",
   "execution_count": 25,
   "metadata": {},
   "outputs": [],
   "source": [
    "ind_lasso = read.csv('../results_summary_bin/sim_ind_lasso_binary.txt', sep='\\t')\n",
    "ind_elnet = read.csv('../results_summary_bin/sim_ind_Elnet_binary.txt', sep='\\t')\n",
    "ind_rf = read.csv('../results_summary_bin/sim_ind_RF_binary.txt', sep='\\t')\n",
    "ind_compLasso = read.csv('../results_summary_bin/sim_ind_GencompLasso_binary.txt', sep='\\t')\n",
    "\n",
    "ind_lasso$method = rep('lasso', dim(ind_lasso)[1])\n",
    "ind_elnet$method = rep('elnet', dim(ind_elnet)[1])\n",
    "ind_rf$method = rep('rf', dim(ind_rf)[1])\n",
    "ind_compLasso$method = rep('compLasso', dim(ind_compLasso)[1])"
   ]
  },
  {
   "cell_type": "code",
   "execution_count": 26,
   "metadata": {},
   "outputs": [
    {
     "data": {
      "text/html": [
       "<style>\n",
       ".list-inline {list-style: none; margin:0; padding: 0}\n",
       ".list-inline>li {display: inline-block}\n",
       ".list-inline>li:not(:last-child)::after {content: \"\\00b7\"; padding: 0 .5ex}\n",
       "</style>\n",
       "<ol class=list-inline><li>16</li><li>14</li></ol>\n"
      ],
      "text/latex": [
       "\\begin{enumerate*}\n",
       "\\item 16\n",
       "\\item 14\n",
       "\\end{enumerate*}\n"
      ],
      "text/markdown": [
       "1. 16\n",
       "2. 14\n",
       "\n",
       "\n"
      ],
      "text/plain": [
       "[1] 16 14"
      ]
     },
     "metadata": {},
     "output_type": "display_data"
    },
    {
     "data": {
      "text/html": [
       "<style>\n",
       ".list-inline {list-style: none; margin:0; padding: 0}\n",
       ".list-inline>li {display: inline-block}\n",
       ".list-inline>li:not(:last-child)::after {content: \"\\00b7\"; padding: 0 .5ex}\n",
       "</style>\n",
       "<ol class=list-inline><li>16</li><li>14</li></ol>\n"
      ],
      "text/latex": [
       "\\begin{enumerate*}\n",
       "\\item 16\n",
       "\\item 14\n",
       "\\end{enumerate*}\n"
      ],
      "text/markdown": [
       "1. 16\n",
       "2. 14\n",
       "\n",
       "\n"
      ],
      "text/plain": [
       "[1] 16 14"
      ]
     },
     "metadata": {},
     "output_type": "display_data"
    },
    {
     "data": {
      "text/html": [
       "<style>\n",
       ".list-inline {list-style: none; margin:0; padding: 0}\n",
       ".list-inline>li {display: inline-block}\n",
       ".list-inline>li:not(:last-child)::after {content: \"\\00b7\"; padding: 0 .5ex}\n",
       "</style>\n",
       "<ol class=list-inline><li>16</li><li>14</li></ol>\n"
      ],
      "text/latex": [
       "\\begin{enumerate*}\n",
       "\\item 16\n",
       "\\item 14\n",
       "\\end{enumerate*}\n"
      ],
      "text/markdown": [
       "1. 16\n",
       "2. 14\n",
       "\n",
       "\n"
      ],
      "text/plain": [
       "[1] 16 14"
      ]
     },
     "metadata": {},
     "output_type": "display_data"
    },
    {
     "data": {
      "text/html": [
       "<style>\n",
       ".list-inline {list-style: none; margin:0; padding: 0}\n",
       ".list-inline>li {display: inline-block}\n",
       ".list-inline>li:not(:last-child)::after {content: \"\\00b7\"; padding: 0 .5ex}\n",
       "</style>\n",
       "<ol class=list-inline><li>16</li><li>14</li></ol>\n"
      ],
      "text/latex": [
       "\\begin{enumerate*}\n",
       "\\item 16\n",
       "\\item 14\n",
       "\\end{enumerate*}\n"
      ],
      "text/markdown": [
       "1. 16\n",
       "2. 14\n",
       "\n",
       "\n"
      ],
      "text/plain": [
       "[1] 16 14"
      ]
     },
     "metadata": {},
     "output_type": "display_data"
    }
   ],
   "source": [
    "dim(ind_lasso)\n",
    "dim(ind_elnet)\n",
    "dim(ind_rf)\n",
    "dim(ind_compLasso)"
   ]
  },
  {
   "cell_type": "code",
   "execution_count": 27,
   "metadata": {},
   "outputs": [
    {
     "data": {
      "text/html": [
       "<style>\n",
       ".list-inline {list-style: none; margin:0; padding: 0}\n",
       ".list-inline>li {display: inline-block}\n",
       ".list-inline>li:not(:last-child)::after {content: \"\\00b7\"; padding: 0 .5ex}\n",
       "</style>\n",
       "<ol class=list-inline><li>64</li><li>14</li></ol>\n"
      ],
      "text/latex": [
       "\\begin{enumerate*}\n",
       "\\item 64\n",
       "\\item 14\n",
       "\\end{enumerate*}\n"
      ],
      "text/markdown": [
       "1. 64\n",
       "2. 14\n",
       "\n",
       "\n"
      ],
      "text/plain": [
       "[1] 64 14"
      ]
     },
     "metadata": {},
     "output_type": "display_data"
    }
   ],
   "source": [
    "ind = rbind(ind_lasso, ind_elnet)\n",
    "ind = rbind(ind, ind_rf)\n",
    "ind = rbind(ind, ind_compLasso)\n",
    "dim(ind)"
   ]
  },
  {
   "cell_type": "code",
   "execution_count": 28,
   "metadata": {},
   "outputs": [
    {
     "data": {
      "text/html": [
       "<table>\n",
       "<caption>A data.frame: 4 × 14</caption>\n",
       "<thead>\n",
       "\t<tr><th></th><th scope=col>N</th><th scope=col>P</th><th scope=col>Corr</th><th scope=col>Ratio</th><th scope=col>Stab</th><th scope=col>ROC</th><th scope=col>FP</th><th scope=col>FN</th><th scope=col>num_select</th><th scope=col>FDR</th><th scope=col>ROC_mean</th><th scope=col>FP_mean</th><th scope=col>FN_mean</th><th scope=col>method</th></tr>\n",
       "\t<tr><th></th><th scope=col>&lt;int&gt;</th><th scope=col>&lt;int&gt;</th><th scope=col>&lt;int&gt;</th><th scope=col>&lt;dbl&gt;</th><th scope=col>&lt;dbl&gt;</th><th scope=col>&lt;fct&gt;</th><th scope=col>&lt;fct&gt;</th><th scope=col>&lt;fct&gt;</th><th scope=col>&lt;dbl&gt;</th><th scope=col>&lt;dbl&gt;</th><th scope=col>&lt;dbl&gt;</th><th scope=col>&lt;dbl&gt;</th><th scope=col>&lt;dbl&gt;</th><th scope=col>&lt;chr&gt;</th></tr>\n",
       "</thead>\n",
       "<tbody>\n",
       "\t<tr><th scope=row>33</th><td>50</td><td>  50</td><td>0</td><td> 1</td><td>NA</td><td>1 ( 0 )</td><td>1 ( 0 )</td><td>6 ( 0 )</td><td>0</td><td>NaN</td><td>1</td><td>1</td><td>6</td><td>rf</td></tr>\n",
       "\t<tr><th scope=row>37</th><td>50</td><td> 100</td><td>0</td><td> 2</td><td>NA</td><td>1 ( 0 )</td><td>1 ( 0 )</td><td>6 ( 0 )</td><td>0</td><td>NaN</td><td>1</td><td>1</td><td>6</td><td>rf</td></tr>\n",
       "\t<tr><th scope=row>41</th><td>50</td><td> 500</td><td>0</td><td>10</td><td>NA</td><td>1 ( 0 )</td><td>1 ( 0 )</td><td>6 ( 0 )</td><td>0</td><td>NaN</td><td>1</td><td>1</td><td>6</td><td>rf</td></tr>\n",
       "\t<tr><th scope=row>45</th><td>50</td><td>1000</td><td>0</td><td>20</td><td>NA</td><td>1 ( 0 )</td><td>1 ( 0 )</td><td>6 ( 0 )</td><td>0</td><td>NaN</td><td>1</td><td>1</td><td>6</td><td>rf</td></tr>\n",
       "</tbody>\n",
       "</table>\n"
      ],
      "text/latex": [
       "A data.frame: 4 × 14\n",
       "\\begin{tabular}{r|llllllllllllll}\n",
       "  & N & P & Corr & Ratio & Stab & ROC & FP & FN & num\\_select & FDR & ROC\\_mean & FP\\_mean & FN\\_mean & method\\\\\n",
       "  & <int> & <int> & <int> & <dbl> & <dbl> & <fct> & <fct> & <fct> & <dbl> & <dbl> & <dbl> & <dbl> & <dbl> & <chr>\\\\\n",
       "\\hline\n",
       "\t33 & 50 &   50 & 0 &  1 & NA & 1 ( 0 ) & 1 ( 0 ) & 6 ( 0 ) & 0 & NaN & 1 & 1 & 6 & rf\\\\\n",
       "\t37 & 50 &  100 & 0 &  2 & NA & 1 ( 0 ) & 1 ( 0 ) & 6 ( 0 ) & 0 & NaN & 1 & 1 & 6 & rf\\\\\n",
       "\t41 & 50 &  500 & 0 & 10 & NA & 1 ( 0 ) & 1 ( 0 ) & 6 ( 0 ) & 0 & NaN & 1 & 1 & 6 & rf\\\\\n",
       "\t45 & 50 & 1000 & 0 & 20 & NA & 1 ( 0 ) & 1 ( 0 ) & 6 ( 0 ) & 0 & NaN & 1 & 1 & 6 & rf\\\\\n",
       "\\end{tabular}\n"
      ],
      "text/markdown": [
       "\n",
       "A data.frame: 4 × 14\n",
       "\n",
       "| <!--/--> | N &lt;int&gt; | P &lt;int&gt; | Corr &lt;int&gt; | Ratio &lt;dbl&gt; | Stab &lt;dbl&gt; | ROC &lt;fct&gt; | FP &lt;fct&gt; | FN &lt;fct&gt; | num_select &lt;dbl&gt; | FDR &lt;dbl&gt; | ROC_mean &lt;dbl&gt; | FP_mean &lt;dbl&gt; | FN_mean &lt;dbl&gt; | method &lt;chr&gt; |\n",
       "|---|---|---|---|---|---|---|---|---|---|---|---|---|---|---|\n",
       "| 33 | 50 |   50 | 0 |  1 | NA | 1 ( 0 ) | 1 ( 0 ) | 6 ( 0 ) | 0 | NaN | 1 | 1 | 6 | rf |\n",
       "| 37 | 50 |  100 | 0 |  2 | NA | 1 ( 0 ) | 1 ( 0 ) | 6 ( 0 ) | 0 | NaN | 1 | 1 | 6 | rf |\n",
       "| 41 | 50 |  500 | 0 | 10 | NA | 1 ( 0 ) | 1 ( 0 ) | 6 ( 0 ) | 0 | NaN | 1 | 1 | 6 | rf |\n",
       "| 45 | 50 | 1000 | 0 | 20 | NA | 1 ( 0 ) | 1 ( 0 ) | 6 ( 0 ) | 0 | NaN | 1 | 1 | 6 | rf |\n",
       "\n"
      ],
      "text/plain": [
       "   N  P    Corr Ratio Stab ROC     FP      FN      num_select FDR ROC_mean\n",
       "33 50   50 0     1    NA   1 ( 0 ) 1 ( 0 ) 6 ( 0 ) 0          NaN 1       \n",
       "37 50  100 0     2    NA   1 ( 0 ) 1 ( 0 ) 6 ( 0 ) 0          NaN 1       \n",
       "41 50  500 0    10    NA   1 ( 0 ) 1 ( 0 ) 6 ( 0 ) 0          NaN 1       \n",
       "45 50 1000 0    20    NA   1 ( 0 ) 1 ( 0 ) 6 ( 0 ) 0          NaN 1       \n",
       "   FP_mean FN_mean method\n",
       "33 1       6       rf    \n",
       "37 1       6       rf    \n",
       "41 1       6       rf    \n",
       "45 1       6       rf    "
      ]
     },
     "metadata": {},
     "output_type": "display_data"
    }
   ],
   "source": [
    "ind[ind$num_select == 0, ]"
   ]
  },
  {
   "cell_type": "code",
   "execution_count": 29,
   "metadata": {},
   "outputs": [],
   "source": [
    "# fix false positives: when nothing was selected, then fp should be zero\n",
    "# fp is now 1 due to length(setdiff(0/NA)) = 1 when actually should be 0 (in cv_sim_apply.R)\n",
    "ind$FP_mean[ind$num_select ==0] = 0\n",
    "write.table(ind, '../results_summary_bin/table_ind_binary_all.txt', sep='\\t', row.names=F)"
   ]
  },
  {
   "cell_type": "markdown",
   "metadata": {},
   "source": [
    "### summarize Toeplitz results"
   ]
  },
  {
   "cell_type": "code",
   "execution_count": 1,
   "metadata": {},
   "outputs": [],
   "source": [
    "toe_lasso = read.csv('../results_summary_bin/sim_toe_lasso_binary.txt', sep='\\t')\n",
    "toe_elnet = read.csv('../results_summary_bin/sim_toe_Elnet_binary.txt', sep='\\t')\n",
    "toe_rf = read.csv('../results_summary_bin/sim_toe_RF_binary.txt', sep='\\t')\n",
    "toe_compLasso = read.csv('../results_summary_bin/sim_toe_GencompLasso_binary.txt', sep='\\t')\n",
    "\n",
    "toe_lasso$method = rep('lasso', dim(toe_lasso)[1])\n",
    "toe_elnet$method = rep('elnet', dim(toe_elnet)[1])\n",
    "toe_rf$method = rep('rf', dim(toe_rf)[1])\n",
    "toe_compLasso$method = rep('compLasso', dim(toe_compLasso)[1])"
   ]
  },
  {
   "cell_type": "code",
   "execution_count": 2,
   "metadata": {},
   "outputs": [
    {
     "data": {
      "text/html": [
       "<style>\n",
       ".list-inline {list-style: none; margin:0; padding: 0}\n",
       ".list-inline>li {display: inline-block}\n",
       ".list-inline>li:not(:last-child)::after {content: \"\\00b7\"; padding: 0 .5ex}\n",
       "</style>\n",
       "<ol class=list-inline><li>80</li><li>14</li></ol>\n"
      ],
      "text/latex": [
       "\\begin{enumerate*}\n",
       "\\item 80\n",
       "\\item 14\n",
       "\\end{enumerate*}\n"
      ],
      "text/markdown": [
       "1. 80\n",
       "2. 14\n",
       "\n",
       "\n"
      ],
      "text/plain": [
       "[1] 80 14"
      ]
     },
     "metadata": {},
     "output_type": "display_data"
    },
    {
     "data": {
      "text/html": [
       "<style>\n",
       ".list-inline {list-style: none; margin:0; padding: 0}\n",
       ".list-inline>li {display: inline-block}\n",
       ".list-inline>li:not(:last-child)::after {content: \"\\00b7\"; padding: 0 .5ex}\n",
       "</style>\n",
       "<ol class=list-inline><li>80</li><li>14</li></ol>\n"
      ],
      "text/latex": [
       "\\begin{enumerate*}\n",
       "\\item 80\n",
       "\\item 14\n",
       "\\end{enumerate*}\n"
      ],
      "text/markdown": [
       "1. 80\n",
       "2. 14\n",
       "\n",
       "\n"
      ],
      "text/plain": [
       "[1] 80 14"
      ]
     },
     "metadata": {},
     "output_type": "display_data"
    },
    {
     "data": {
      "text/html": [
       "<style>\n",
       ".list-inline {list-style: none; margin:0; padding: 0}\n",
       ".list-inline>li {display: inline-block}\n",
       ".list-inline>li:not(:last-child)::after {content: \"\\00b7\"; padding: 0 .5ex}\n",
       "</style>\n",
       "<ol class=list-inline><li>80</li><li>14</li></ol>\n"
      ],
      "text/latex": [
       "\\begin{enumerate*}\n",
       "\\item 80\n",
       "\\item 14\n",
       "\\end{enumerate*}\n"
      ],
      "text/markdown": [
       "1. 80\n",
       "2. 14\n",
       "\n",
       "\n"
      ],
      "text/plain": [
       "[1] 80 14"
      ]
     },
     "metadata": {},
     "output_type": "display_data"
    },
    {
     "data": {
      "text/html": [
       "<style>\n",
       ".list-inline {list-style: none; margin:0; padding: 0}\n",
       ".list-inline>li {display: inline-block}\n",
       ".list-inline>li:not(:last-child)::after {content: \"\\00b7\"; padding: 0 .5ex}\n",
       "</style>\n",
       "<ol class=list-inline><li>80</li><li>14</li></ol>\n"
      ],
      "text/latex": [
       "\\begin{enumerate*}\n",
       "\\item 80\n",
       "\\item 14\n",
       "\\end{enumerate*}\n"
      ],
      "text/markdown": [
       "1. 80\n",
       "2. 14\n",
       "\n",
       "\n"
      ],
      "text/plain": [
       "[1] 80 14"
      ]
     },
     "metadata": {},
     "output_type": "display_data"
    }
   ],
   "source": [
    "dim(toe_lasso)\n",
    "dim(toe_elnet)\n",
    "dim(toe_rf)\n",
    "dim(toe_compLasso)"
   ]
  },
  {
   "cell_type": "code",
   "execution_count": 3,
   "metadata": {},
   "outputs": [
    {
     "data": {
      "text/html": [
       "<style>\n",
       ".list-inline {list-style: none; margin:0; padding: 0}\n",
       ".list-inline>li {display: inline-block}\n",
       ".list-inline>li:not(:last-child)::after {content: \"\\00b7\"; padding: 0 .5ex}\n",
       "</style>\n",
       "<ol class=list-inline><li>320</li><li>14</li></ol>\n"
      ],
      "text/latex": [
       "\\begin{enumerate*}\n",
       "\\item 320\n",
       "\\item 14\n",
       "\\end{enumerate*}\n"
      ],
      "text/markdown": [
       "1. 320\n",
       "2. 14\n",
       "\n",
       "\n"
      ],
      "text/plain": [
       "[1] 320  14"
      ]
     },
     "metadata": {},
     "output_type": "display_data"
    }
   ],
   "source": [
    "toe = rbind(toe_lasso, toe_elnet)\n",
    "toe = rbind(toe, toe_rf)\n",
    "toe = rbind(toe, toe_compLasso)\n",
    "dim(toe)"
   ]
  },
  {
   "cell_type": "code",
   "execution_count": 4,
   "metadata": {},
   "outputs": [
    {
     "data": {
      "text/html": [
       "<table>\n",
       "<caption>A data.frame: 20 × 14</caption>\n",
       "<thead>\n",
       "\t<tr><th></th><th scope=col>N</th><th scope=col>P</th><th scope=col>Corr</th><th scope=col>Ratio</th><th scope=col>Stab</th><th scope=col>ROC</th><th scope=col>FP</th><th scope=col>FN</th><th scope=col>num_select</th><th scope=col>FDR</th><th scope=col>ROC_mean</th><th scope=col>FP_mean</th><th scope=col>FN_mean</th><th scope=col>method</th></tr>\n",
       "\t<tr><th></th><th scope=col>&lt;int&gt;</th><th scope=col>&lt;int&gt;</th><th scope=col>&lt;dbl&gt;</th><th scope=col>&lt;dbl&gt;</th><th scope=col>&lt;dbl&gt;</th><th scope=col>&lt;fct&gt;</th><th scope=col>&lt;fct&gt;</th><th scope=col>&lt;fct&gt;</th><th scope=col>&lt;dbl&gt;</th><th scope=col>&lt;dbl&gt;</th><th scope=col>&lt;dbl&gt;</th><th scope=col>&lt;dbl&gt;</th><th scope=col>&lt;dbl&gt;</th><th scope=col>&lt;chr&gt;</th></tr>\n",
       "</thead>\n",
       "<tbody>\n",
       "\t<tr><th scope=row>161</th><td>50</td><td>  50</td><td>0.1</td><td> 1</td><td>NA</td><td>1 ( 0 )</td><td>1 ( 0 )</td><td>6 ( 0 )</td><td>0</td><td>NaN</td><td>1</td><td>1</td><td>6</td><td>rf</td></tr>\n",
       "\t<tr><th scope=row>165</th><td>50</td><td> 100</td><td>0.1</td><td> 2</td><td>NA</td><td>1 ( 0 )</td><td>1 ( 0 )</td><td>6 ( 0 )</td><td>0</td><td>NaN</td><td>1</td><td>1</td><td>6</td><td>rf</td></tr>\n",
       "\t<tr><th scope=row>169</th><td>50</td><td> 500</td><td>0.1</td><td>10</td><td>NA</td><td>1 ( 0 )</td><td>1 ( 0 )</td><td>6 ( 0 )</td><td>0</td><td>NaN</td><td>1</td><td>1</td><td>6</td><td>rf</td></tr>\n",
       "\t<tr><th scope=row>173</th><td>50</td><td>1000</td><td>0.1</td><td>20</td><td>NA</td><td>1 ( 0 )</td><td>1 ( 0 )</td><td>6 ( 0 )</td><td>0</td><td>NaN</td><td>1</td><td>1</td><td>6</td><td>rf</td></tr>\n",
       "\t<tr><th scope=row>177</th><td>50</td><td>  50</td><td>0.3</td><td> 1</td><td>NA</td><td>1 ( 0 )</td><td>1 ( 0 )</td><td>6 ( 0 )</td><td>0</td><td>NaN</td><td>1</td><td>1</td><td>6</td><td>rf</td></tr>\n",
       "\t<tr><th scope=row>181</th><td>50</td><td> 100</td><td>0.3</td><td> 2</td><td>NA</td><td>1 ( 0 )</td><td>1 ( 0 )</td><td>6 ( 0 )</td><td>0</td><td>NaN</td><td>1</td><td>1</td><td>6</td><td>rf</td></tr>\n",
       "\t<tr><th scope=row>185</th><td>50</td><td> 500</td><td>0.3</td><td>10</td><td>NA</td><td>1 ( 0 )</td><td>1 ( 0 )</td><td>6 ( 0 )</td><td>0</td><td>NaN</td><td>1</td><td>1</td><td>6</td><td>rf</td></tr>\n",
       "\t<tr><th scope=row>189</th><td>50</td><td>1000</td><td>0.3</td><td>20</td><td>NA</td><td>1 ( 0 )</td><td>1 ( 0 )</td><td>6 ( 0 )</td><td>0</td><td>NaN</td><td>1</td><td>1</td><td>6</td><td>rf</td></tr>\n",
       "\t<tr><th scope=row>193</th><td>50</td><td>  50</td><td>0.5</td><td> 1</td><td>NA</td><td>1 ( 0 )</td><td>1 ( 0 )</td><td>6 ( 0 )</td><td>0</td><td>NaN</td><td>1</td><td>1</td><td>6</td><td>rf</td></tr>\n",
       "\t<tr><th scope=row>197</th><td>50</td><td> 100</td><td>0.5</td><td> 2</td><td>NA</td><td>1 ( 0 )</td><td>1 ( 0 )</td><td>6 ( 0 )</td><td>0</td><td>NaN</td><td>1</td><td>1</td><td>6</td><td>rf</td></tr>\n",
       "\t<tr><th scope=row>201</th><td>50</td><td> 500</td><td>0.5</td><td>10</td><td>NA</td><td>1 ( 0 )</td><td>1 ( 0 )</td><td>6 ( 0 )</td><td>0</td><td>NaN</td><td>1</td><td>1</td><td>6</td><td>rf</td></tr>\n",
       "\t<tr><th scope=row>205</th><td>50</td><td>1000</td><td>0.5</td><td>20</td><td>NA</td><td>1 ( 0 )</td><td>1 ( 0 )</td><td>6 ( 0 )</td><td>0</td><td>NaN</td><td>1</td><td>1</td><td>6</td><td>rf</td></tr>\n",
       "\t<tr><th scope=row>209</th><td>50</td><td>  50</td><td>0.7</td><td> 1</td><td>NA</td><td>1 ( 0 )</td><td>1 ( 0 )</td><td>6 ( 0 )</td><td>0</td><td>NaN</td><td>1</td><td>1</td><td>6</td><td>rf</td></tr>\n",
       "\t<tr><th scope=row>213</th><td>50</td><td> 100</td><td>0.7</td><td> 2</td><td>NA</td><td>1 ( 0 )</td><td>1 ( 0 )</td><td>6 ( 0 )</td><td>0</td><td>NaN</td><td>1</td><td>1</td><td>6</td><td>rf</td></tr>\n",
       "\t<tr><th scope=row>217</th><td>50</td><td> 500</td><td>0.7</td><td>10</td><td>NA</td><td>1 ( 0 )</td><td>1 ( 0 )</td><td>6 ( 0 )</td><td>0</td><td>NaN</td><td>1</td><td>1</td><td>6</td><td>rf</td></tr>\n",
       "\t<tr><th scope=row>221</th><td>50</td><td>1000</td><td>0.7</td><td>20</td><td>NA</td><td>1 ( 0 )</td><td>1 ( 0 )</td><td>6 ( 0 )</td><td>0</td><td>NaN</td><td>1</td><td>1</td><td>6</td><td>rf</td></tr>\n",
       "\t<tr><th scope=row>225</th><td>50</td><td>  50</td><td>0.9</td><td> 1</td><td>NA</td><td>1 ( 0 )</td><td>1 ( 0 )</td><td>6 ( 0 )</td><td>0</td><td>NaN</td><td>1</td><td>1</td><td>6</td><td>rf</td></tr>\n",
       "\t<tr><th scope=row>229</th><td>50</td><td> 100</td><td>0.9</td><td> 2</td><td>NA</td><td>1 ( 0 )</td><td>1 ( 0 )</td><td>6 ( 0 )</td><td>0</td><td>NaN</td><td>1</td><td>1</td><td>6</td><td>rf</td></tr>\n",
       "\t<tr><th scope=row>233</th><td>50</td><td> 500</td><td>0.9</td><td>10</td><td>NA</td><td>1 ( 0 )</td><td>1 ( 0 )</td><td>6 ( 0 )</td><td>0</td><td>NaN</td><td>1</td><td>1</td><td>6</td><td>rf</td></tr>\n",
       "\t<tr><th scope=row>237</th><td>50</td><td>1000</td><td>0.9</td><td>20</td><td>NA</td><td>1 ( 0 )</td><td>1 ( 0 )</td><td>6 ( 0 )</td><td>0</td><td>NaN</td><td>1</td><td>1</td><td>6</td><td>rf</td></tr>\n",
       "</tbody>\n",
       "</table>\n"
      ],
      "text/latex": [
       "A data.frame: 20 × 14\n",
       "\\begin{tabular}{r|llllllllllllll}\n",
       "  & N & P & Corr & Ratio & Stab & ROC & FP & FN & num\\_select & FDR & ROC\\_mean & FP\\_mean & FN\\_mean & method\\\\\n",
       "  & <int> & <int> & <dbl> & <dbl> & <dbl> & <fct> & <fct> & <fct> & <dbl> & <dbl> & <dbl> & <dbl> & <dbl> & <chr>\\\\\n",
       "\\hline\n",
       "\t161 & 50 &   50 & 0.1 &  1 & NA & 1 ( 0 ) & 1 ( 0 ) & 6 ( 0 ) & 0 & NaN & 1 & 1 & 6 & rf\\\\\n",
       "\t165 & 50 &  100 & 0.1 &  2 & NA & 1 ( 0 ) & 1 ( 0 ) & 6 ( 0 ) & 0 & NaN & 1 & 1 & 6 & rf\\\\\n",
       "\t169 & 50 &  500 & 0.1 & 10 & NA & 1 ( 0 ) & 1 ( 0 ) & 6 ( 0 ) & 0 & NaN & 1 & 1 & 6 & rf\\\\\n",
       "\t173 & 50 & 1000 & 0.1 & 20 & NA & 1 ( 0 ) & 1 ( 0 ) & 6 ( 0 ) & 0 & NaN & 1 & 1 & 6 & rf\\\\\n",
       "\t177 & 50 &   50 & 0.3 &  1 & NA & 1 ( 0 ) & 1 ( 0 ) & 6 ( 0 ) & 0 & NaN & 1 & 1 & 6 & rf\\\\\n",
       "\t181 & 50 &  100 & 0.3 &  2 & NA & 1 ( 0 ) & 1 ( 0 ) & 6 ( 0 ) & 0 & NaN & 1 & 1 & 6 & rf\\\\\n",
       "\t185 & 50 &  500 & 0.3 & 10 & NA & 1 ( 0 ) & 1 ( 0 ) & 6 ( 0 ) & 0 & NaN & 1 & 1 & 6 & rf\\\\\n",
       "\t189 & 50 & 1000 & 0.3 & 20 & NA & 1 ( 0 ) & 1 ( 0 ) & 6 ( 0 ) & 0 & NaN & 1 & 1 & 6 & rf\\\\\n",
       "\t193 & 50 &   50 & 0.5 &  1 & NA & 1 ( 0 ) & 1 ( 0 ) & 6 ( 0 ) & 0 & NaN & 1 & 1 & 6 & rf\\\\\n",
       "\t197 & 50 &  100 & 0.5 &  2 & NA & 1 ( 0 ) & 1 ( 0 ) & 6 ( 0 ) & 0 & NaN & 1 & 1 & 6 & rf\\\\\n",
       "\t201 & 50 &  500 & 0.5 & 10 & NA & 1 ( 0 ) & 1 ( 0 ) & 6 ( 0 ) & 0 & NaN & 1 & 1 & 6 & rf\\\\\n",
       "\t205 & 50 & 1000 & 0.5 & 20 & NA & 1 ( 0 ) & 1 ( 0 ) & 6 ( 0 ) & 0 & NaN & 1 & 1 & 6 & rf\\\\\n",
       "\t209 & 50 &   50 & 0.7 &  1 & NA & 1 ( 0 ) & 1 ( 0 ) & 6 ( 0 ) & 0 & NaN & 1 & 1 & 6 & rf\\\\\n",
       "\t213 & 50 &  100 & 0.7 &  2 & NA & 1 ( 0 ) & 1 ( 0 ) & 6 ( 0 ) & 0 & NaN & 1 & 1 & 6 & rf\\\\\n",
       "\t217 & 50 &  500 & 0.7 & 10 & NA & 1 ( 0 ) & 1 ( 0 ) & 6 ( 0 ) & 0 & NaN & 1 & 1 & 6 & rf\\\\\n",
       "\t221 & 50 & 1000 & 0.7 & 20 & NA & 1 ( 0 ) & 1 ( 0 ) & 6 ( 0 ) & 0 & NaN & 1 & 1 & 6 & rf\\\\\n",
       "\t225 & 50 &   50 & 0.9 &  1 & NA & 1 ( 0 ) & 1 ( 0 ) & 6 ( 0 ) & 0 & NaN & 1 & 1 & 6 & rf\\\\\n",
       "\t229 & 50 &  100 & 0.9 &  2 & NA & 1 ( 0 ) & 1 ( 0 ) & 6 ( 0 ) & 0 & NaN & 1 & 1 & 6 & rf\\\\\n",
       "\t233 & 50 &  500 & 0.9 & 10 & NA & 1 ( 0 ) & 1 ( 0 ) & 6 ( 0 ) & 0 & NaN & 1 & 1 & 6 & rf\\\\\n",
       "\t237 & 50 & 1000 & 0.9 & 20 & NA & 1 ( 0 ) & 1 ( 0 ) & 6 ( 0 ) & 0 & NaN & 1 & 1 & 6 & rf\\\\\n",
       "\\end{tabular}\n"
      ],
      "text/markdown": [
       "\n",
       "A data.frame: 20 × 14\n",
       "\n",
       "| <!--/--> | N &lt;int&gt; | P &lt;int&gt; | Corr &lt;dbl&gt; | Ratio &lt;dbl&gt; | Stab &lt;dbl&gt; | ROC &lt;fct&gt; | FP &lt;fct&gt; | FN &lt;fct&gt; | num_select &lt;dbl&gt; | FDR &lt;dbl&gt; | ROC_mean &lt;dbl&gt; | FP_mean &lt;dbl&gt; | FN_mean &lt;dbl&gt; | method &lt;chr&gt; |\n",
       "|---|---|---|---|---|---|---|---|---|---|---|---|---|---|---|\n",
       "| 161 | 50 |   50 | 0.1 |  1 | NA | 1 ( 0 ) | 1 ( 0 ) | 6 ( 0 ) | 0 | NaN | 1 | 1 | 6 | rf |\n",
       "| 165 | 50 |  100 | 0.1 |  2 | NA | 1 ( 0 ) | 1 ( 0 ) | 6 ( 0 ) | 0 | NaN | 1 | 1 | 6 | rf |\n",
       "| 169 | 50 |  500 | 0.1 | 10 | NA | 1 ( 0 ) | 1 ( 0 ) | 6 ( 0 ) | 0 | NaN | 1 | 1 | 6 | rf |\n",
       "| 173 | 50 | 1000 | 0.1 | 20 | NA | 1 ( 0 ) | 1 ( 0 ) | 6 ( 0 ) | 0 | NaN | 1 | 1 | 6 | rf |\n",
       "| 177 | 50 |   50 | 0.3 |  1 | NA | 1 ( 0 ) | 1 ( 0 ) | 6 ( 0 ) | 0 | NaN | 1 | 1 | 6 | rf |\n",
       "| 181 | 50 |  100 | 0.3 |  2 | NA | 1 ( 0 ) | 1 ( 0 ) | 6 ( 0 ) | 0 | NaN | 1 | 1 | 6 | rf |\n",
       "| 185 | 50 |  500 | 0.3 | 10 | NA | 1 ( 0 ) | 1 ( 0 ) | 6 ( 0 ) | 0 | NaN | 1 | 1 | 6 | rf |\n",
       "| 189 | 50 | 1000 | 0.3 | 20 | NA | 1 ( 0 ) | 1 ( 0 ) | 6 ( 0 ) | 0 | NaN | 1 | 1 | 6 | rf |\n",
       "| 193 | 50 |   50 | 0.5 |  1 | NA | 1 ( 0 ) | 1 ( 0 ) | 6 ( 0 ) | 0 | NaN | 1 | 1 | 6 | rf |\n",
       "| 197 | 50 |  100 | 0.5 |  2 | NA | 1 ( 0 ) | 1 ( 0 ) | 6 ( 0 ) | 0 | NaN | 1 | 1 | 6 | rf |\n",
       "| 201 | 50 |  500 | 0.5 | 10 | NA | 1 ( 0 ) | 1 ( 0 ) | 6 ( 0 ) | 0 | NaN | 1 | 1 | 6 | rf |\n",
       "| 205 | 50 | 1000 | 0.5 | 20 | NA | 1 ( 0 ) | 1 ( 0 ) | 6 ( 0 ) | 0 | NaN | 1 | 1 | 6 | rf |\n",
       "| 209 | 50 |   50 | 0.7 |  1 | NA | 1 ( 0 ) | 1 ( 0 ) | 6 ( 0 ) | 0 | NaN | 1 | 1 | 6 | rf |\n",
       "| 213 | 50 |  100 | 0.7 |  2 | NA | 1 ( 0 ) | 1 ( 0 ) | 6 ( 0 ) | 0 | NaN | 1 | 1 | 6 | rf |\n",
       "| 217 | 50 |  500 | 0.7 | 10 | NA | 1 ( 0 ) | 1 ( 0 ) | 6 ( 0 ) | 0 | NaN | 1 | 1 | 6 | rf |\n",
       "| 221 | 50 | 1000 | 0.7 | 20 | NA | 1 ( 0 ) | 1 ( 0 ) | 6 ( 0 ) | 0 | NaN | 1 | 1 | 6 | rf |\n",
       "| 225 | 50 |   50 | 0.9 |  1 | NA | 1 ( 0 ) | 1 ( 0 ) | 6 ( 0 ) | 0 | NaN | 1 | 1 | 6 | rf |\n",
       "| 229 | 50 |  100 | 0.9 |  2 | NA | 1 ( 0 ) | 1 ( 0 ) | 6 ( 0 ) | 0 | NaN | 1 | 1 | 6 | rf |\n",
       "| 233 | 50 |  500 | 0.9 | 10 | NA | 1 ( 0 ) | 1 ( 0 ) | 6 ( 0 ) | 0 | NaN | 1 | 1 | 6 | rf |\n",
       "| 237 | 50 | 1000 | 0.9 | 20 | NA | 1 ( 0 ) | 1 ( 0 ) | 6 ( 0 ) | 0 | NaN | 1 | 1 | 6 | rf |\n",
       "\n"
      ],
      "text/plain": [
       "    N  P    Corr Ratio Stab ROC     FP      FN      num_select FDR ROC_mean\n",
       "161 50   50 0.1   1    NA   1 ( 0 ) 1 ( 0 ) 6 ( 0 ) 0          NaN 1       \n",
       "165 50  100 0.1   2    NA   1 ( 0 ) 1 ( 0 ) 6 ( 0 ) 0          NaN 1       \n",
       "169 50  500 0.1  10    NA   1 ( 0 ) 1 ( 0 ) 6 ( 0 ) 0          NaN 1       \n",
       "173 50 1000 0.1  20    NA   1 ( 0 ) 1 ( 0 ) 6 ( 0 ) 0          NaN 1       \n",
       "177 50   50 0.3   1    NA   1 ( 0 ) 1 ( 0 ) 6 ( 0 ) 0          NaN 1       \n",
       "181 50  100 0.3   2    NA   1 ( 0 ) 1 ( 0 ) 6 ( 0 ) 0          NaN 1       \n",
       "185 50  500 0.3  10    NA   1 ( 0 ) 1 ( 0 ) 6 ( 0 ) 0          NaN 1       \n",
       "189 50 1000 0.3  20    NA   1 ( 0 ) 1 ( 0 ) 6 ( 0 ) 0          NaN 1       \n",
       "193 50   50 0.5   1    NA   1 ( 0 ) 1 ( 0 ) 6 ( 0 ) 0          NaN 1       \n",
       "197 50  100 0.5   2    NA   1 ( 0 ) 1 ( 0 ) 6 ( 0 ) 0          NaN 1       \n",
       "201 50  500 0.5  10    NA   1 ( 0 ) 1 ( 0 ) 6 ( 0 ) 0          NaN 1       \n",
       "205 50 1000 0.5  20    NA   1 ( 0 ) 1 ( 0 ) 6 ( 0 ) 0          NaN 1       \n",
       "209 50   50 0.7   1    NA   1 ( 0 ) 1 ( 0 ) 6 ( 0 ) 0          NaN 1       \n",
       "213 50  100 0.7   2    NA   1 ( 0 ) 1 ( 0 ) 6 ( 0 ) 0          NaN 1       \n",
       "217 50  500 0.7  10    NA   1 ( 0 ) 1 ( 0 ) 6 ( 0 ) 0          NaN 1       \n",
       "221 50 1000 0.7  20    NA   1 ( 0 ) 1 ( 0 ) 6 ( 0 ) 0          NaN 1       \n",
       "225 50   50 0.9   1    NA   1 ( 0 ) 1 ( 0 ) 6 ( 0 ) 0          NaN 1       \n",
       "229 50  100 0.9   2    NA   1 ( 0 ) 1 ( 0 ) 6 ( 0 ) 0          NaN 1       \n",
       "233 50  500 0.9  10    NA   1 ( 0 ) 1 ( 0 ) 6 ( 0 ) 0          NaN 1       \n",
       "237 50 1000 0.9  20    NA   1 ( 0 ) 1 ( 0 ) 6 ( 0 ) 0          NaN 1       \n",
       "    FP_mean FN_mean method\n",
       "161 1       6       rf    \n",
       "165 1       6       rf    \n",
       "169 1       6       rf    \n",
       "173 1       6       rf    \n",
       "177 1       6       rf    \n",
       "181 1       6       rf    \n",
       "185 1       6       rf    \n",
       "189 1       6       rf    \n",
       "193 1       6       rf    \n",
       "197 1       6       rf    \n",
       "201 1       6       rf    \n",
       "205 1       6       rf    \n",
       "209 1       6       rf    \n",
       "213 1       6       rf    \n",
       "217 1       6       rf    \n",
       "221 1       6       rf    \n",
       "225 1       6       rf    \n",
       "229 1       6       rf    \n",
       "233 1       6       rf    \n",
       "237 1       6       rf    "
      ]
     },
     "metadata": {},
     "output_type": "display_data"
    }
   ],
   "source": [
    "toe[toe$num_select == 0, ]"
   ]
  },
  {
   "cell_type": "code",
   "execution_count": 5,
   "metadata": {},
   "outputs": [],
   "source": [
    "# fix false positives: when nothing was selected, then fp should be zero\n",
    "# fp is now 1 due to length(setdiff(0/NA)) = 1 when actually should be 0 (in cv_sim_apply.R)\n",
    "toe$FP_mean[toe$num_select ==0] = 0\n",
    "write.table(toe, '../results_summary_bin/table_toe_binary_all.txt', sep='\\t', row.names=F)"
   ]
  },
  {
   "cell_type": "markdown",
   "metadata": {},
   "source": [
    "### summarize Block results"
   ]
  },
  {
   "cell_type": "code",
   "execution_count": 6,
   "metadata": {},
   "outputs": [],
   "source": [
    "block_lasso = read.csv('../results_summary_bin/sim_block_lasso_binary.txt', sep='\\t')\n",
    "block_elnet = read.csv('../results_summary_bin/sim_block_Elnet_binary.txt', sep='\\t')\n",
    "block_rf = read.csv('../results_summary_bin/sim_block_RF_binary.txt', sep='\\t')\n",
    "block_compLasso = read.csv('../results_summary_bin/sim_block_GenCompLasso_binary.txt', sep='\\t')\n",
    "\n",
    "block_lasso$method = rep('lasso', dim(block_lasso)[1])\n",
    "block_elnet$method = rep('elnet', dim(block_elnet)[1])\n",
    "block_rf$method = rep('rf', dim(block_rf)[1])\n",
    "block_compLasso$method = rep('compLasso', dim(block_compLasso)[1])"
   ]
  },
  {
   "cell_type": "code",
   "execution_count": 7,
   "metadata": {},
   "outputs": [
    {
     "data": {
      "text/html": [
       "<style>\n",
       ".list-inline {list-style: none; margin:0; padding: 0}\n",
       ".list-inline>li {display: inline-block}\n",
       ".list-inline>li:not(:last-child)::after {content: \"\\00b7\"; padding: 0 .5ex}\n",
       "</style>\n",
       "<ol class=list-inline><li>80</li><li>14</li></ol>\n"
      ],
      "text/latex": [
       "\\begin{enumerate*}\n",
       "\\item 80\n",
       "\\item 14\n",
       "\\end{enumerate*}\n"
      ],
      "text/markdown": [
       "1. 80\n",
       "2. 14\n",
       "\n",
       "\n"
      ],
      "text/plain": [
       "[1] 80 14"
      ]
     },
     "metadata": {},
     "output_type": "display_data"
    },
    {
     "data": {
      "text/html": [
       "<style>\n",
       ".list-inline {list-style: none; margin:0; padding: 0}\n",
       ".list-inline>li {display: inline-block}\n",
       ".list-inline>li:not(:last-child)::after {content: \"\\00b7\"; padding: 0 .5ex}\n",
       "</style>\n",
       "<ol class=list-inline><li>80</li><li>14</li></ol>\n"
      ],
      "text/latex": [
       "\\begin{enumerate*}\n",
       "\\item 80\n",
       "\\item 14\n",
       "\\end{enumerate*}\n"
      ],
      "text/markdown": [
       "1. 80\n",
       "2. 14\n",
       "\n",
       "\n"
      ],
      "text/plain": [
       "[1] 80 14"
      ]
     },
     "metadata": {},
     "output_type": "display_data"
    },
    {
     "data": {
      "text/html": [
       "<style>\n",
       ".list-inline {list-style: none; margin:0; padding: 0}\n",
       ".list-inline>li {display: inline-block}\n",
       ".list-inline>li:not(:last-child)::after {content: \"\\00b7\"; padding: 0 .5ex}\n",
       "</style>\n",
       "<ol class=list-inline><li>80</li><li>14</li></ol>\n"
      ],
      "text/latex": [
       "\\begin{enumerate*}\n",
       "\\item 80\n",
       "\\item 14\n",
       "\\end{enumerate*}\n"
      ],
      "text/markdown": [
       "1. 80\n",
       "2. 14\n",
       "\n",
       "\n"
      ],
      "text/plain": [
       "[1] 80 14"
      ]
     },
     "metadata": {},
     "output_type": "display_data"
    },
    {
     "data": {
      "text/html": [
       "<style>\n",
       ".list-inline {list-style: none; margin:0; padding: 0}\n",
       ".list-inline>li {display: inline-block}\n",
       ".list-inline>li:not(:last-child)::after {content: \"\\00b7\"; padding: 0 .5ex}\n",
       "</style>\n",
       "<ol class=list-inline><li>80</li><li>14</li></ol>\n"
      ],
      "text/latex": [
       "\\begin{enumerate*}\n",
       "\\item 80\n",
       "\\item 14\n",
       "\\end{enumerate*}\n"
      ],
      "text/markdown": [
       "1. 80\n",
       "2. 14\n",
       "\n",
       "\n"
      ],
      "text/plain": [
       "[1] 80 14"
      ]
     },
     "metadata": {},
     "output_type": "display_data"
    }
   ],
   "source": [
    "dim(block_lasso)\n",
    "dim(block_elnet)\n",
    "dim(block_rf)\n",
    "dim(block_compLasso)"
   ]
  },
  {
   "cell_type": "code",
   "execution_count": 8,
   "metadata": {},
   "outputs": [
    {
     "data": {
      "text/html": [
       "<style>\n",
       ".list-inline {list-style: none; margin:0; padding: 0}\n",
       ".list-inline>li {display: inline-block}\n",
       ".list-inline>li:not(:last-child)::after {content: \"\\00b7\"; padding: 0 .5ex}\n",
       "</style>\n",
       "<ol class=list-inline><li>320</li><li>14</li></ol>\n"
      ],
      "text/latex": [
       "\\begin{enumerate*}\n",
       "\\item 320\n",
       "\\item 14\n",
       "\\end{enumerate*}\n"
      ],
      "text/markdown": [
       "1. 320\n",
       "2. 14\n",
       "\n",
       "\n"
      ],
      "text/plain": [
       "[1] 320  14"
      ]
     },
     "metadata": {},
     "output_type": "display_data"
    }
   ],
   "source": [
    "block = rbind(block_lasso, block_elnet)\n",
    "block = rbind(block, block_rf)\n",
    "block = rbind(block, block_compLasso)\n",
    "dim(block)"
   ]
  },
  {
   "cell_type": "code",
   "execution_count": 9,
   "metadata": {},
   "outputs": [
    {
     "data": {
      "text/html": [
       "<table>\n",
       "<caption>A data.frame: 27 × 14</caption>\n",
       "<thead>\n",
       "\t<tr><th></th><th scope=col>N</th><th scope=col>P</th><th scope=col>Corr</th><th scope=col>Ratio</th><th scope=col>Stab</th><th scope=col>ROC</th><th scope=col>FP</th><th scope=col>FN</th><th scope=col>num_select</th><th scope=col>FDR</th><th scope=col>ROC_mean</th><th scope=col>FP_mean</th><th scope=col>FN_mean</th><th scope=col>method</th></tr>\n",
       "\t<tr><th></th><th scope=col>&lt;int&gt;</th><th scope=col>&lt;int&gt;</th><th scope=col>&lt;dbl&gt;</th><th scope=col>&lt;dbl&gt;</th><th scope=col>&lt;dbl&gt;</th><th scope=col>&lt;fct&gt;</th><th scope=col>&lt;fct&gt;</th><th scope=col>&lt;fct&gt;</th><th scope=col>&lt;dbl&gt;</th><th scope=col>&lt;dbl&gt;</th><th scope=col>&lt;dbl&gt;</th><th scope=col>&lt;dbl&gt;</th><th scope=col>&lt;dbl&gt;</th><th scope=col>&lt;chr&gt;</th></tr>\n",
       "</thead>\n",
       "<tbody>\n",
       "\t<tr><th scope=row>161</th><td>  50</td><td>  50</td><td>0.1</td><td> 1.00</td><td>NA</td><td>1 ( 0 )  </td><td>1 ( 0 )</td><td>6 ( 0 )</td><td>0</td><td>NaN</td><td>1.0</td><td>1</td><td>6</td><td>rf       </td></tr>\n",
       "\t<tr><th scope=row>165</th><td>  50</td><td> 100</td><td>0.1</td><td> 2.00</td><td>NA</td><td>1 ( 0 )  </td><td>1 ( 0 )</td><td>6 ( 0 )</td><td>0</td><td>NaN</td><td>1.0</td><td>1</td><td>6</td><td>rf       </td></tr>\n",
       "\t<tr><th scope=row>169</th><td>  50</td><td> 500</td><td>0.1</td><td>10.00</td><td>NA</td><td>1 ( 0 )  </td><td>1 ( 0 )</td><td>6 ( 0 )</td><td>0</td><td>NaN</td><td>1.0</td><td>1</td><td>6</td><td>rf       </td></tr>\n",
       "\t<tr><th scope=row>173</th><td>  50</td><td>1000</td><td>0.1</td><td>20.00</td><td>NA</td><td>1 ( 0 )  </td><td>1 ( 0 )</td><td>6 ( 0 )</td><td>0</td><td>NaN</td><td>1.0</td><td>1</td><td>6</td><td>rf       </td></tr>\n",
       "\t<tr><th scope=row>177</th><td>  50</td><td>  50</td><td>0.3</td><td> 1.00</td><td>NA</td><td>1 ( 0 )  </td><td>1 ( 0 )</td><td>6 ( 0 )</td><td>0</td><td>NaN</td><td>1.0</td><td>1</td><td>6</td><td>rf       </td></tr>\n",
       "\t<tr><th scope=row>181</th><td>  50</td><td> 100</td><td>0.3</td><td> 2.00</td><td>NA</td><td>1 ( 0 )  </td><td>1 ( 0 )</td><td>6 ( 0 )</td><td>0</td><td>NaN</td><td>1.0</td><td>1</td><td>6</td><td>rf       </td></tr>\n",
       "\t<tr><th scope=row>185</th><td>  50</td><td> 500</td><td>0.3</td><td>10.00</td><td>NA</td><td>1 ( 0 )  </td><td>1 ( 0 )</td><td>6 ( 0 )</td><td>0</td><td>NaN</td><td>1.0</td><td>1</td><td>6</td><td>rf       </td></tr>\n",
       "\t<tr><th scope=row>189</th><td>  50</td><td>1000</td><td>0.3</td><td>20.00</td><td>NA</td><td>1 ( 0 )  </td><td>1 ( 0 )</td><td>6 ( 0 )</td><td>0</td><td>NaN</td><td>1.0</td><td>1</td><td>6</td><td>rf       </td></tr>\n",
       "\t<tr><th scope=row>193</th><td>  50</td><td>  50</td><td>0.5</td><td> 1.00</td><td>NA</td><td>1 ( 0 )  </td><td>1 ( 0 )</td><td>6 ( 0 )</td><td>0</td><td>NaN</td><td>1.0</td><td>1</td><td>6</td><td>rf       </td></tr>\n",
       "\t<tr><th scope=row>197</th><td>  50</td><td> 100</td><td>0.5</td><td> 2.00</td><td>NA</td><td>1 ( 0 )  </td><td>1 ( 0 )</td><td>6 ( 0 )</td><td>0</td><td>NaN</td><td>1.0</td><td>1</td><td>6</td><td>rf       </td></tr>\n",
       "\t<tr><th scope=row>201</th><td>  50</td><td> 500</td><td>0.5</td><td>10.00</td><td>NA</td><td>1 ( 0 )  </td><td>1 ( 0 )</td><td>6 ( 0 )</td><td>0</td><td>NaN</td><td>1.0</td><td>1</td><td>6</td><td>rf       </td></tr>\n",
       "\t<tr><th scope=row>205</th><td>  50</td><td>1000</td><td>0.5</td><td>20.00</td><td>NA</td><td>1 ( 0 )  </td><td>1 ( 0 )</td><td>6 ( 0 )</td><td>0</td><td>NaN</td><td>1.0</td><td>1</td><td>6</td><td>rf       </td></tr>\n",
       "\t<tr><th scope=row>209</th><td>  50</td><td>  50</td><td>0.7</td><td> 1.00</td><td>NA</td><td>1 ( 0 )  </td><td>1 ( 0 )</td><td>6 ( 0 )</td><td>0</td><td>NaN</td><td>1.0</td><td>1</td><td>6</td><td>rf       </td></tr>\n",
       "\t<tr><th scope=row>213</th><td>  50</td><td> 100</td><td>0.7</td><td> 2.00</td><td>NA</td><td>1 ( 0 )  </td><td>1 ( 0 )</td><td>6 ( 0 )</td><td>0</td><td>NaN</td><td>1.0</td><td>1</td><td>6</td><td>rf       </td></tr>\n",
       "\t<tr><th scope=row>217</th><td>  50</td><td> 500</td><td>0.7</td><td>10.00</td><td>NA</td><td>1 ( 0 )  </td><td>1 ( 0 )</td><td>6 ( 0 )</td><td>0</td><td>NaN</td><td>1.0</td><td>1</td><td>6</td><td>rf       </td></tr>\n",
       "\t<tr><th scope=row>221</th><td>  50</td><td>1000</td><td>0.7</td><td>20.00</td><td>NA</td><td>1 ( 0 )  </td><td>1 ( 0 )</td><td>6 ( 0 )</td><td>0</td><td>NaN</td><td>1.0</td><td>1</td><td>6</td><td>rf       </td></tr>\n",
       "\t<tr><th scope=row>225</th><td>  50</td><td>  50</td><td>0.9</td><td> 1.00</td><td>NA</td><td>1 ( 0 )  </td><td>1 ( 0 )</td><td>6 ( 0 )</td><td>0</td><td>NaN</td><td>1.0</td><td>1</td><td>6</td><td>rf       </td></tr>\n",
       "\t<tr><th scope=row>229</th><td>  50</td><td> 100</td><td>0.9</td><td> 2.00</td><td>NA</td><td>1 ( 0 )  </td><td>1 ( 0 )</td><td>6 ( 0 )</td><td>0</td><td>NaN</td><td>1.0</td><td>1</td><td>6</td><td>rf       </td></tr>\n",
       "\t<tr><th scope=row>233</th><td>  50</td><td> 500</td><td>0.9</td><td>10.00</td><td>NA</td><td>1 ( 0 )  </td><td>1 ( 0 )</td><td>6 ( 0 )</td><td>0</td><td>NaN</td><td>1.0</td><td>1</td><td>6</td><td>rf       </td></tr>\n",
       "\t<tr><th scope=row>237</th><td>  50</td><td>1000</td><td>0.9</td><td>20.00</td><td>NA</td><td>1 ( 0 )  </td><td>1 ( 0 )</td><td>6 ( 0 )</td><td>0</td><td>NaN</td><td>1.0</td><td>1</td><td>6</td><td>rf       </td></tr>\n",
       "\t<tr><th scope=row>243</th><td> 500</td><td>  50</td><td>0.1</td><td> 0.10</td><td>NA</td><td>0.5 ( 0 )</td><td>0 ( 0 )</td><td>6 ( 0 )</td><td>0</td><td>NaN</td><td>0.5</td><td>0</td><td>6</td><td>compLasso</td></tr>\n",
       "\t<tr><th scope=row>244</th><td>1000</td><td>  50</td><td>0.1</td><td> 0.05</td><td>NA</td><td>0.5 ( 0 )</td><td>0 ( 0 )</td><td>6 ( 0 )</td><td>0</td><td>NaN</td><td>0.5</td><td>0</td><td>6</td><td>compLasso</td></tr>\n",
       "\t<tr><th scope=row>247</th><td> 500</td><td> 100</td><td>0.1</td><td> 0.20</td><td>NA</td><td>0.5 ( 0 )</td><td>0 ( 0 )</td><td>6 ( 0 )</td><td>0</td><td>NaN</td><td>0.5</td><td>0</td><td>6</td><td>compLasso</td></tr>\n",
       "\t<tr><th scope=row>248</th><td>1000</td><td> 100</td><td>0.1</td><td> 0.10</td><td>NA</td><td>0.5 ( 0 )</td><td>0 ( 0 )</td><td>6 ( 0 )</td><td>0</td><td>NaN</td><td>0.5</td><td>0</td><td>6</td><td>compLasso</td></tr>\n",
       "\t<tr><th scope=row>251</th><td> 500</td><td> 500</td><td>0.1</td><td> 1.00</td><td>NA</td><td>0.5 ( 0 )</td><td>0 ( 0 )</td><td>6 ( 0 )</td><td>0</td><td>NaN</td><td>0.5</td><td>0</td><td>6</td><td>compLasso</td></tr>\n",
       "\t<tr><th scope=row>252</th><td>1000</td><td> 500</td><td>0.1</td><td> 0.50</td><td>NA</td><td>0.5 ( 0 )</td><td>0 ( 0 )</td><td>6 ( 0 )</td><td>0</td><td>NaN</td><td>0.5</td><td>0</td><td>6</td><td>compLasso</td></tr>\n",
       "\t<tr><th scope=row>256</th><td>1000</td><td>1000</td><td>0.1</td><td> 1.00</td><td>NA</td><td>0.5 ( 0 )</td><td>0 ( 0 )</td><td>6 ( 0 )</td><td>0</td><td>NaN</td><td>0.5</td><td>0</td><td>6</td><td>compLasso</td></tr>\n",
       "</tbody>\n",
       "</table>\n"
      ],
      "text/latex": [
       "A data.frame: 27 × 14\n",
       "\\begin{tabular}{r|llllllllllllll}\n",
       "  & N & P & Corr & Ratio & Stab & ROC & FP & FN & num\\_select & FDR & ROC\\_mean & FP\\_mean & FN\\_mean & method\\\\\n",
       "  & <int> & <int> & <dbl> & <dbl> & <dbl> & <fct> & <fct> & <fct> & <dbl> & <dbl> & <dbl> & <dbl> & <dbl> & <chr>\\\\\n",
       "\\hline\n",
       "\t161 &   50 &   50 & 0.1 &  1.00 & NA & 1 ( 0 )   & 1 ( 0 ) & 6 ( 0 ) & 0 & NaN & 1.0 & 1 & 6 & rf       \\\\\n",
       "\t165 &   50 &  100 & 0.1 &  2.00 & NA & 1 ( 0 )   & 1 ( 0 ) & 6 ( 0 ) & 0 & NaN & 1.0 & 1 & 6 & rf       \\\\\n",
       "\t169 &   50 &  500 & 0.1 & 10.00 & NA & 1 ( 0 )   & 1 ( 0 ) & 6 ( 0 ) & 0 & NaN & 1.0 & 1 & 6 & rf       \\\\\n",
       "\t173 &   50 & 1000 & 0.1 & 20.00 & NA & 1 ( 0 )   & 1 ( 0 ) & 6 ( 0 ) & 0 & NaN & 1.0 & 1 & 6 & rf       \\\\\n",
       "\t177 &   50 &   50 & 0.3 &  1.00 & NA & 1 ( 0 )   & 1 ( 0 ) & 6 ( 0 ) & 0 & NaN & 1.0 & 1 & 6 & rf       \\\\\n",
       "\t181 &   50 &  100 & 0.3 &  2.00 & NA & 1 ( 0 )   & 1 ( 0 ) & 6 ( 0 ) & 0 & NaN & 1.0 & 1 & 6 & rf       \\\\\n",
       "\t185 &   50 &  500 & 0.3 & 10.00 & NA & 1 ( 0 )   & 1 ( 0 ) & 6 ( 0 ) & 0 & NaN & 1.0 & 1 & 6 & rf       \\\\\n",
       "\t189 &   50 & 1000 & 0.3 & 20.00 & NA & 1 ( 0 )   & 1 ( 0 ) & 6 ( 0 ) & 0 & NaN & 1.0 & 1 & 6 & rf       \\\\\n",
       "\t193 &   50 &   50 & 0.5 &  1.00 & NA & 1 ( 0 )   & 1 ( 0 ) & 6 ( 0 ) & 0 & NaN & 1.0 & 1 & 6 & rf       \\\\\n",
       "\t197 &   50 &  100 & 0.5 &  2.00 & NA & 1 ( 0 )   & 1 ( 0 ) & 6 ( 0 ) & 0 & NaN & 1.0 & 1 & 6 & rf       \\\\\n",
       "\t201 &   50 &  500 & 0.5 & 10.00 & NA & 1 ( 0 )   & 1 ( 0 ) & 6 ( 0 ) & 0 & NaN & 1.0 & 1 & 6 & rf       \\\\\n",
       "\t205 &   50 & 1000 & 0.5 & 20.00 & NA & 1 ( 0 )   & 1 ( 0 ) & 6 ( 0 ) & 0 & NaN & 1.0 & 1 & 6 & rf       \\\\\n",
       "\t209 &   50 &   50 & 0.7 &  1.00 & NA & 1 ( 0 )   & 1 ( 0 ) & 6 ( 0 ) & 0 & NaN & 1.0 & 1 & 6 & rf       \\\\\n",
       "\t213 &   50 &  100 & 0.7 &  2.00 & NA & 1 ( 0 )   & 1 ( 0 ) & 6 ( 0 ) & 0 & NaN & 1.0 & 1 & 6 & rf       \\\\\n",
       "\t217 &   50 &  500 & 0.7 & 10.00 & NA & 1 ( 0 )   & 1 ( 0 ) & 6 ( 0 ) & 0 & NaN & 1.0 & 1 & 6 & rf       \\\\\n",
       "\t221 &   50 & 1000 & 0.7 & 20.00 & NA & 1 ( 0 )   & 1 ( 0 ) & 6 ( 0 ) & 0 & NaN & 1.0 & 1 & 6 & rf       \\\\\n",
       "\t225 &   50 &   50 & 0.9 &  1.00 & NA & 1 ( 0 )   & 1 ( 0 ) & 6 ( 0 ) & 0 & NaN & 1.0 & 1 & 6 & rf       \\\\\n",
       "\t229 &   50 &  100 & 0.9 &  2.00 & NA & 1 ( 0 )   & 1 ( 0 ) & 6 ( 0 ) & 0 & NaN & 1.0 & 1 & 6 & rf       \\\\\n",
       "\t233 &   50 &  500 & 0.9 & 10.00 & NA & 1 ( 0 )   & 1 ( 0 ) & 6 ( 0 ) & 0 & NaN & 1.0 & 1 & 6 & rf       \\\\\n",
       "\t237 &   50 & 1000 & 0.9 & 20.00 & NA & 1 ( 0 )   & 1 ( 0 ) & 6 ( 0 ) & 0 & NaN & 1.0 & 1 & 6 & rf       \\\\\n",
       "\t243 &  500 &   50 & 0.1 &  0.10 & NA & 0.5 ( 0 ) & 0 ( 0 ) & 6 ( 0 ) & 0 & NaN & 0.5 & 0 & 6 & compLasso\\\\\n",
       "\t244 & 1000 &   50 & 0.1 &  0.05 & NA & 0.5 ( 0 ) & 0 ( 0 ) & 6 ( 0 ) & 0 & NaN & 0.5 & 0 & 6 & compLasso\\\\\n",
       "\t247 &  500 &  100 & 0.1 &  0.20 & NA & 0.5 ( 0 ) & 0 ( 0 ) & 6 ( 0 ) & 0 & NaN & 0.5 & 0 & 6 & compLasso\\\\\n",
       "\t248 & 1000 &  100 & 0.1 &  0.10 & NA & 0.5 ( 0 ) & 0 ( 0 ) & 6 ( 0 ) & 0 & NaN & 0.5 & 0 & 6 & compLasso\\\\\n",
       "\t251 &  500 &  500 & 0.1 &  1.00 & NA & 0.5 ( 0 ) & 0 ( 0 ) & 6 ( 0 ) & 0 & NaN & 0.5 & 0 & 6 & compLasso\\\\\n",
       "\t252 & 1000 &  500 & 0.1 &  0.50 & NA & 0.5 ( 0 ) & 0 ( 0 ) & 6 ( 0 ) & 0 & NaN & 0.5 & 0 & 6 & compLasso\\\\\n",
       "\t256 & 1000 & 1000 & 0.1 &  1.00 & NA & 0.5 ( 0 ) & 0 ( 0 ) & 6 ( 0 ) & 0 & NaN & 0.5 & 0 & 6 & compLasso\\\\\n",
       "\\end{tabular}\n"
      ],
      "text/markdown": [
       "\n",
       "A data.frame: 27 × 14\n",
       "\n",
       "| <!--/--> | N &lt;int&gt; | P &lt;int&gt; | Corr &lt;dbl&gt; | Ratio &lt;dbl&gt; | Stab &lt;dbl&gt; | ROC &lt;fct&gt; | FP &lt;fct&gt; | FN &lt;fct&gt; | num_select &lt;dbl&gt; | FDR &lt;dbl&gt; | ROC_mean &lt;dbl&gt; | FP_mean &lt;dbl&gt; | FN_mean &lt;dbl&gt; | method &lt;chr&gt; |\n",
       "|---|---|---|---|---|---|---|---|---|---|---|---|---|---|---|\n",
       "| 161 |   50 |   50 | 0.1 |  1.00 | NA | 1 ( 0 )   | 1 ( 0 ) | 6 ( 0 ) | 0 | NaN | 1.0 | 1 | 6 | rf        |\n",
       "| 165 |   50 |  100 | 0.1 |  2.00 | NA | 1 ( 0 )   | 1 ( 0 ) | 6 ( 0 ) | 0 | NaN | 1.0 | 1 | 6 | rf        |\n",
       "| 169 |   50 |  500 | 0.1 | 10.00 | NA | 1 ( 0 )   | 1 ( 0 ) | 6 ( 0 ) | 0 | NaN | 1.0 | 1 | 6 | rf        |\n",
       "| 173 |   50 | 1000 | 0.1 | 20.00 | NA | 1 ( 0 )   | 1 ( 0 ) | 6 ( 0 ) | 0 | NaN | 1.0 | 1 | 6 | rf        |\n",
       "| 177 |   50 |   50 | 0.3 |  1.00 | NA | 1 ( 0 )   | 1 ( 0 ) | 6 ( 0 ) | 0 | NaN | 1.0 | 1 | 6 | rf        |\n",
       "| 181 |   50 |  100 | 0.3 |  2.00 | NA | 1 ( 0 )   | 1 ( 0 ) | 6 ( 0 ) | 0 | NaN | 1.0 | 1 | 6 | rf        |\n",
       "| 185 |   50 |  500 | 0.3 | 10.00 | NA | 1 ( 0 )   | 1 ( 0 ) | 6 ( 0 ) | 0 | NaN | 1.0 | 1 | 6 | rf        |\n",
       "| 189 |   50 | 1000 | 0.3 | 20.00 | NA | 1 ( 0 )   | 1 ( 0 ) | 6 ( 0 ) | 0 | NaN | 1.0 | 1 | 6 | rf        |\n",
       "| 193 |   50 |   50 | 0.5 |  1.00 | NA | 1 ( 0 )   | 1 ( 0 ) | 6 ( 0 ) | 0 | NaN | 1.0 | 1 | 6 | rf        |\n",
       "| 197 |   50 |  100 | 0.5 |  2.00 | NA | 1 ( 0 )   | 1 ( 0 ) | 6 ( 0 ) | 0 | NaN | 1.0 | 1 | 6 | rf        |\n",
       "| 201 |   50 |  500 | 0.5 | 10.00 | NA | 1 ( 0 )   | 1 ( 0 ) | 6 ( 0 ) | 0 | NaN | 1.0 | 1 | 6 | rf        |\n",
       "| 205 |   50 | 1000 | 0.5 | 20.00 | NA | 1 ( 0 )   | 1 ( 0 ) | 6 ( 0 ) | 0 | NaN | 1.0 | 1 | 6 | rf        |\n",
       "| 209 |   50 |   50 | 0.7 |  1.00 | NA | 1 ( 0 )   | 1 ( 0 ) | 6 ( 0 ) | 0 | NaN | 1.0 | 1 | 6 | rf        |\n",
       "| 213 |   50 |  100 | 0.7 |  2.00 | NA | 1 ( 0 )   | 1 ( 0 ) | 6 ( 0 ) | 0 | NaN | 1.0 | 1 | 6 | rf        |\n",
       "| 217 |   50 |  500 | 0.7 | 10.00 | NA | 1 ( 0 )   | 1 ( 0 ) | 6 ( 0 ) | 0 | NaN | 1.0 | 1 | 6 | rf        |\n",
       "| 221 |   50 | 1000 | 0.7 | 20.00 | NA | 1 ( 0 )   | 1 ( 0 ) | 6 ( 0 ) | 0 | NaN | 1.0 | 1 | 6 | rf        |\n",
       "| 225 |   50 |   50 | 0.9 |  1.00 | NA | 1 ( 0 )   | 1 ( 0 ) | 6 ( 0 ) | 0 | NaN | 1.0 | 1 | 6 | rf        |\n",
       "| 229 |   50 |  100 | 0.9 |  2.00 | NA | 1 ( 0 )   | 1 ( 0 ) | 6 ( 0 ) | 0 | NaN | 1.0 | 1 | 6 | rf        |\n",
       "| 233 |   50 |  500 | 0.9 | 10.00 | NA | 1 ( 0 )   | 1 ( 0 ) | 6 ( 0 ) | 0 | NaN | 1.0 | 1 | 6 | rf        |\n",
       "| 237 |   50 | 1000 | 0.9 | 20.00 | NA | 1 ( 0 )   | 1 ( 0 ) | 6 ( 0 ) | 0 | NaN | 1.0 | 1 | 6 | rf        |\n",
       "| 243 |  500 |   50 | 0.1 |  0.10 | NA | 0.5 ( 0 ) | 0 ( 0 ) | 6 ( 0 ) | 0 | NaN | 0.5 | 0 | 6 | compLasso |\n",
       "| 244 | 1000 |   50 | 0.1 |  0.05 | NA | 0.5 ( 0 ) | 0 ( 0 ) | 6 ( 0 ) | 0 | NaN | 0.5 | 0 | 6 | compLasso |\n",
       "| 247 |  500 |  100 | 0.1 |  0.20 | NA | 0.5 ( 0 ) | 0 ( 0 ) | 6 ( 0 ) | 0 | NaN | 0.5 | 0 | 6 | compLasso |\n",
       "| 248 | 1000 |  100 | 0.1 |  0.10 | NA | 0.5 ( 0 ) | 0 ( 0 ) | 6 ( 0 ) | 0 | NaN | 0.5 | 0 | 6 | compLasso |\n",
       "| 251 |  500 |  500 | 0.1 |  1.00 | NA | 0.5 ( 0 ) | 0 ( 0 ) | 6 ( 0 ) | 0 | NaN | 0.5 | 0 | 6 | compLasso |\n",
       "| 252 | 1000 |  500 | 0.1 |  0.50 | NA | 0.5 ( 0 ) | 0 ( 0 ) | 6 ( 0 ) | 0 | NaN | 0.5 | 0 | 6 | compLasso |\n",
       "| 256 | 1000 | 1000 | 0.1 |  1.00 | NA | 0.5 ( 0 ) | 0 ( 0 ) | 6 ( 0 ) | 0 | NaN | 0.5 | 0 | 6 | compLasso |\n",
       "\n"
      ],
      "text/plain": [
       "    N    P    Corr Ratio Stab ROC       FP      FN      num_select FDR ROC_mean\n",
       "161   50   50 0.1   1.00 NA   1 ( 0 )   1 ( 0 ) 6 ( 0 ) 0          NaN 1.0     \n",
       "165   50  100 0.1   2.00 NA   1 ( 0 )   1 ( 0 ) 6 ( 0 ) 0          NaN 1.0     \n",
       "169   50  500 0.1  10.00 NA   1 ( 0 )   1 ( 0 ) 6 ( 0 ) 0          NaN 1.0     \n",
       "173   50 1000 0.1  20.00 NA   1 ( 0 )   1 ( 0 ) 6 ( 0 ) 0          NaN 1.0     \n",
       "177   50   50 0.3   1.00 NA   1 ( 0 )   1 ( 0 ) 6 ( 0 ) 0          NaN 1.0     \n",
       "181   50  100 0.3   2.00 NA   1 ( 0 )   1 ( 0 ) 6 ( 0 ) 0          NaN 1.0     \n",
       "185   50  500 0.3  10.00 NA   1 ( 0 )   1 ( 0 ) 6 ( 0 ) 0          NaN 1.0     \n",
       "189   50 1000 0.3  20.00 NA   1 ( 0 )   1 ( 0 ) 6 ( 0 ) 0          NaN 1.0     \n",
       "193   50   50 0.5   1.00 NA   1 ( 0 )   1 ( 0 ) 6 ( 0 ) 0          NaN 1.0     \n",
       "197   50  100 0.5   2.00 NA   1 ( 0 )   1 ( 0 ) 6 ( 0 ) 0          NaN 1.0     \n",
       "201   50  500 0.5  10.00 NA   1 ( 0 )   1 ( 0 ) 6 ( 0 ) 0          NaN 1.0     \n",
       "205   50 1000 0.5  20.00 NA   1 ( 0 )   1 ( 0 ) 6 ( 0 ) 0          NaN 1.0     \n",
       "209   50   50 0.7   1.00 NA   1 ( 0 )   1 ( 0 ) 6 ( 0 ) 0          NaN 1.0     \n",
       "213   50  100 0.7   2.00 NA   1 ( 0 )   1 ( 0 ) 6 ( 0 ) 0          NaN 1.0     \n",
       "217   50  500 0.7  10.00 NA   1 ( 0 )   1 ( 0 ) 6 ( 0 ) 0          NaN 1.0     \n",
       "221   50 1000 0.7  20.00 NA   1 ( 0 )   1 ( 0 ) 6 ( 0 ) 0          NaN 1.0     \n",
       "225   50   50 0.9   1.00 NA   1 ( 0 )   1 ( 0 ) 6 ( 0 ) 0          NaN 1.0     \n",
       "229   50  100 0.9   2.00 NA   1 ( 0 )   1 ( 0 ) 6 ( 0 ) 0          NaN 1.0     \n",
       "233   50  500 0.9  10.00 NA   1 ( 0 )   1 ( 0 ) 6 ( 0 ) 0          NaN 1.0     \n",
       "237   50 1000 0.9  20.00 NA   1 ( 0 )   1 ( 0 ) 6 ( 0 ) 0          NaN 1.0     \n",
       "243  500   50 0.1   0.10 NA   0.5 ( 0 ) 0 ( 0 ) 6 ( 0 ) 0          NaN 0.5     \n",
       "244 1000   50 0.1   0.05 NA   0.5 ( 0 ) 0 ( 0 ) 6 ( 0 ) 0          NaN 0.5     \n",
       "247  500  100 0.1   0.20 NA   0.5 ( 0 ) 0 ( 0 ) 6 ( 0 ) 0          NaN 0.5     \n",
       "248 1000  100 0.1   0.10 NA   0.5 ( 0 ) 0 ( 0 ) 6 ( 0 ) 0          NaN 0.5     \n",
       "251  500  500 0.1   1.00 NA   0.5 ( 0 ) 0 ( 0 ) 6 ( 0 ) 0          NaN 0.5     \n",
       "252 1000  500 0.1   0.50 NA   0.5 ( 0 ) 0 ( 0 ) 6 ( 0 ) 0          NaN 0.5     \n",
       "256 1000 1000 0.1   1.00 NA   0.5 ( 0 ) 0 ( 0 ) 6 ( 0 ) 0          NaN 0.5     \n",
       "    FP_mean FN_mean method   \n",
       "161 1       6       rf       \n",
       "165 1       6       rf       \n",
       "169 1       6       rf       \n",
       "173 1       6       rf       \n",
       "177 1       6       rf       \n",
       "181 1       6       rf       \n",
       "185 1       6       rf       \n",
       "189 1       6       rf       \n",
       "193 1       6       rf       \n",
       "197 1       6       rf       \n",
       "201 1       6       rf       \n",
       "205 1       6       rf       \n",
       "209 1       6       rf       \n",
       "213 1       6       rf       \n",
       "217 1       6       rf       \n",
       "221 1       6       rf       \n",
       "225 1       6       rf       \n",
       "229 1       6       rf       \n",
       "233 1       6       rf       \n",
       "237 1       6       rf       \n",
       "243 0       6       compLasso\n",
       "244 0       6       compLasso\n",
       "247 0       6       compLasso\n",
       "248 0       6       compLasso\n",
       "251 0       6       compLasso\n",
       "252 0       6       compLasso\n",
       "256 0       6       compLasso"
      ]
     },
     "metadata": {},
     "output_type": "display_data"
    }
   ],
   "source": [
    "block[block$num_select ==0, ] "
   ]
  },
  {
   "cell_type": "code",
   "execution_count": 10,
   "metadata": {},
   "outputs": [],
   "source": [
    "# fix false positives: when nothing was selected, then fp should be zero\n",
    "# fp is now 1 due to length(setdiff(0/NA)) = 1 when actually should be 0 (in cv_sim_apply.R)\n",
    "block$FP_mean[block$num_select ==0] = 0\n",
    "write.table(block, '../results_summary_bin/table_block_binary_all.txt', sep='\\t', row.names=F)"
   ]
  },
  {
   "cell_type": "code",
   "execution_count": null,
   "metadata": {},
   "outputs": [],
   "source": []
  }
 ],
 "metadata": {
  "kernelspec": {
   "display_name": "R",
   "language": "R",
   "name": "ir"
  },
  "language_info": {
   "codemirror_mode": "r",
   "file_extension": ".r",
   "mimetype": "text/x-r-source",
   "name": "R",
   "pygments_lexer": "r",
   "version": "3.6.1"
  }
 },
 "nbformat": 4,
 "nbformat_minor": 2
}
