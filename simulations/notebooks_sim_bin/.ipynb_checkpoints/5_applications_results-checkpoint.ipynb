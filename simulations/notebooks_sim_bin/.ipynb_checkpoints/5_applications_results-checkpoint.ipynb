{
 "cells": [
  {
   "cell_type": "markdown",
   "metadata": {},
   "source": [
    "### Results for real microbiome data applications"
   ]
  },
  {
   "cell_type": "code",
   "execution_count": 1,
   "metadata": {},
   "outputs": [],
   "source": [
    "dir = '/panfs/panfs1.ucsd.edu/panscratch/lij014/Stability_2020/data_applications/'"
   ]
  },
  {
   "cell_type": "markdown",
   "metadata": {},
   "source": [
    "### BMI dataset application"
   ]
  },
  {
   "cell_type": "code",
   "execution_count": 2,
   "metadata": {},
   "outputs": [],
   "source": [
    "load(paste0(dir, '/BMI_binary_GenCompLasso.RData'))\n",
    "load(paste0(dir, '/BMI_binary_lasso.RData', sep=''))\n",
    "load(paste0(dir, '/BMI_binary_elnet.RData', sep=''))\n",
    "load(paste0(dir, '/BMI_binary_rf.RData', sep=''))"
   ]
  },
  {
   "cell_type": "code",
   "execution_count": 3,
   "metadata": {},
   "outputs": [
    {
     "data": {
      "text/html": [
       "<table>\n",
       "<caption>A data.frame: 4 × 4</caption>\n",
       "<thead>\n",
       "\t<tr><th scope=col>dataset</th><th scope=col>method</th><th scope=col>ROC</th><th scope=col>stability</th></tr>\n",
       "\t<tr><th scope=col>&lt;chr&gt;</th><th scope=col>&lt;chr&gt;</th><th scope=col>&lt;dbl&gt;</th><th scope=col>&lt;dbl&gt;</th></tr>\n",
       "</thead>\n",
       "<tbody>\n",
       "\t<tr><td>bmi_gut</td><td>lasso    </td><td>0.63</td><td>0.14</td></tr>\n",
       "\t<tr><td>bmi_gut</td><td>elent    </td><td>0.78</td><td>0.19</td></tr>\n",
       "\t<tr><td>bmi_gut</td><td>rf       </td><td>1.00</td><td>0.01</td></tr>\n",
       "\t<tr><td>bmi_gut</td><td>compLasso</td><td>0.85</td><td>0.29</td></tr>\n",
       "</tbody>\n",
       "</table>\n"
      ],
      "text/latex": [
       "A data.frame: 4 × 4\n",
       "\\begin{tabular}{llll}\n",
       " dataset & method & ROC & stability\\\\\n",
       " <chr> & <chr> & <dbl> & <dbl>\\\\\n",
       "\\hline\n",
       "\t bmi\\_gut & lasso     & 0.63 & 0.14\\\\\n",
       "\t bmi\\_gut & elent     & 0.78 & 0.19\\\\\n",
       "\t bmi\\_gut & rf        & 1.00 & 0.01\\\\\n",
       "\t bmi\\_gut & compLasso & 0.85 & 0.29\\\\\n",
       "\\end{tabular}\n"
      ],
      "text/markdown": [
       "\n",
       "A data.frame: 4 × 4\n",
       "\n",
       "| dataset &lt;chr&gt; | method &lt;chr&gt; | ROC &lt;dbl&gt; | stability &lt;dbl&gt; |\n",
       "|---|---|---|---|\n",
       "| bmi_gut | lasso     | 0.63 | 0.14 |\n",
       "| bmi_gut | elent     | 0.78 | 0.19 |\n",
       "| bmi_gut | rf        | 1.00 | 0.01 |\n",
       "| bmi_gut | compLasso | 0.85 | 0.29 |\n",
       "\n"
      ],
      "text/plain": [
       "  dataset method    ROC  stability\n",
       "1 bmi_gut lasso     0.63 0.14     \n",
       "2 bmi_gut elent     0.78 0.19     \n",
       "3 bmi_gut rf        1.00 0.01     \n",
       "4 bmi_gut compLasso 0.85 0.29     "
      ]
     },
     "metadata": {},
     "output_type": "display_data"
    }
   ],
   "source": [
    "bmi_gut = as.data.frame(matrix(NA, nrow=4, ncol=4))\n",
    "colnames(bmi_gut) = c('dataset', 'method', 'ROC', 'stability')\n",
    "bmi_gut$dataset = 'bmi_gut'\n",
    "bmi_gut$method = c('lasso', 'elent', 'rf', 'compLasso')\n",
    "bmi_gut$ROC = c(out_lasso$ROC_mean, out_elnet$ROC_mean, out_rf$ROC_mean, out_GenCompLasso$ROC_mean)\n",
    "bmi_gut$stability = c(out_lasso$stab_index, out_elnet$stab_index, out_rf$stab_index, out_GenCompLasso$stab_index)\n",
    "bmi_gut"
   ]
  },
  {
   "cell_type": "code",
   "execution_count": 4,
   "metadata": {},
   "outputs": [],
   "source": [
    "# testing\n",
    "load(paste0(dir, '/BMI_binary_boot_rf.RData'))\n",
    "load(paste0(dir, '/BMI_binary_boot_compLasso.RData'))"
   ]
  },
  {
   "cell_type": "code",
   "execution_count": 5,
   "metadata": {},
   "outputs": [
    {
     "data": {
      "text/html": [
       "0.2997"
      ],
      "text/latex": [
       "0.2997"
      ],
      "text/markdown": [
       "0.2997"
      ],
      "text/plain": [
       "[1] 0.2997"
      ]
     },
     "metadata": {},
     "output_type": "display_data"
    },
    {
     "data": {
      "text/html": [
       "<style>\n",
       ".dl-inline {width: auto; margin:0; padding: 0}\n",
       ".dl-inline>dt, .dl-inline>dd {float: none; width: auto; display: inline-block}\n",
       ".dl-inline>dt::after {content: \":\\0020\"; padding-right: .5ex}\n",
       ".dl-inline>dt:not(:first-of-type) {padding-left: .5ex}\n",
       "</style><dl class=dl-inline><dt>2.5%</dt><dd>0.11</dd><dt>97.5%</dt><dd>0.41525</dd></dl>\n"
      ],
      "text/latex": [
       "\\begin{description*}\n",
       "\\item[2.5\\textbackslash{}\\%] 0.11\n",
       "\\item[97.5\\textbackslash{}\\%] 0.41525\n",
       "\\end{description*}\n"
      ],
      "text/markdown": [
       "2.5%\n",
       ":   0.1197.5%\n",
       ":   0.41525\n",
       "\n"
      ],
      "text/plain": [
       "   2.5%   97.5% \n",
       "0.11000 0.41525 "
      ]
     },
     "metadata": {},
     "output_type": "display_data"
    }
   ],
   "source": [
    "diff_stab = (boot_compLasso$stab_index - boot_rf$stab_index)\n",
    "mean(diff_stab)\n",
    "quantile(diff_stab, probs = c(0.025, 0.975)) \n",
    "# CI doesn't contain zero: compLasso is significantly more stable than RF"
   ]
  },
  {
   "cell_type": "code",
   "execution_count": 6,
   "metadata": {},
   "outputs": [
    {
     "data": {
      "text/html": [
       "-0.0942798529453605"
      ],
      "text/latex": [
       "-0.0942798529453605"
      ],
      "text/markdown": [
       "-0.0942798529453605"
      ],
      "text/plain": [
       "[1] -0.09427985"
      ]
     },
     "metadata": {},
     "output_type": "display_data"
    },
    {
     "data": {
      "text/html": [
       "<style>\n",
       ".dl-inline {width: auto; margin:0; padding: 0}\n",
       ".dl-inline>dt, .dl-inline>dd {float: none; width: auto; display: inline-block}\n",
       ".dl-inline>dt::after {content: \":\\0020\"; padding-right: .5ex}\n",
       ".dl-inline>dt:not(:first-of-type) {padding-left: .5ex}\n",
       "</style><dl class=dl-inline><dt>2.5%</dt><dd>-0.19020132947925</dd><dt>97.5%</dt><dd>-0.020967051775781</dd></dl>\n"
      ],
      "text/latex": [
       "\\begin{description*}\n",
       "\\item[2.5\\textbackslash{}\\%] -0.19020132947925\n",
       "\\item[97.5\\textbackslash{}\\%] -0.020967051775781\n",
       "\\end{description*}\n"
      ],
      "text/markdown": [
       "2.5%\n",
       ":   -0.1902013294792597.5%\n",
       ":   -0.020967051775781\n",
       "\n"
      ],
      "text/plain": [
       "       2.5%       97.5% \n",
       "-0.19020133 -0.02096705 "
      ]
     },
     "metadata": {},
     "output_type": "display_data"
    }
   ],
   "source": [
    "diff_ROC = (unlist(boot_compLasso$ROC_list) - unlist(boot_rf$ROC_list)) # use all 100*100 ROCs\n",
    "mean(diff_ROC)\n",
    "quantile(diff_ROC, probs = c(0.025, 0.975)) \n",
    "### CI doesn't contain zero: compLasso is significantly different from RF based on ROC\n",
    "### although very close to zero (now ROC has similar scale as Stability, Stability still better differentiation)"
   ]
  },
  {
   "cell_type": "markdown",
   "metadata": {},
   "source": [
    "### 88 soils dataset application"
   ]
  },
  {
   "cell_type": "code",
   "execution_count": 7,
   "metadata": {},
   "outputs": [],
   "source": [
    "load(paste0(dir, '/soils_binary_ph_GenCompLasso.RData', sep=''))\n",
    "load(paste0(dir, '/soils_binary_ph_lasso.RData', sep=''))\n",
    "load(paste0(dir, '/soils_binary_ph_elnet.RData', sep=''))\n",
    "load(paste0(dir, '/soils_binary_ph_rf.RData', sep=''))"
   ]
  },
  {
   "cell_type": "code",
   "execution_count": 8,
   "metadata": {},
   "outputs": [
    {
     "data": {
      "text/html": [
       "<table>\n",
       "<caption>A data.frame: 4 × 4</caption>\n",
       "<thead>\n",
       "\t<tr><th scope=col>dataset</th><th scope=col>method</th><th scope=col>ROC</th><th scope=col>stability</th></tr>\n",
       "\t<tr><th scope=col>&lt;chr&gt;</th><th scope=col>&lt;chr&gt;</th><th scope=col>&lt;dbl&gt;</th><th scope=col>&lt;dbl&gt;</th></tr>\n",
       "</thead>\n",
       "<tbody>\n",
       "\t<tr><td>soil_88</td><td>lasso    </td><td>0.90</td><td>0.28</td></tr>\n",
       "\t<tr><td>soil_88</td><td>elent    </td><td>0.94</td><td>0.32</td></tr>\n",
       "\t<tr><td>soil_88</td><td>rf       </td><td>1.00</td><td>0.03</td></tr>\n",
       "\t<tr><td>soil_88</td><td>compLasso</td><td>0.96</td><td>0.46</td></tr>\n",
       "</tbody>\n",
       "</table>\n"
      ],
      "text/latex": [
       "A data.frame: 4 × 4\n",
       "\\begin{tabular}{llll}\n",
       " dataset & method & ROC & stability\\\\\n",
       " <chr> & <chr> & <dbl> & <dbl>\\\\\n",
       "\\hline\n",
       "\t soil\\_88 & lasso     & 0.90 & 0.28\\\\\n",
       "\t soil\\_88 & elent     & 0.94 & 0.32\\\\\n",
       "\t soil\\_88 & rf        & 1.00 & 0.03\\\\\n",
       "\t soil\\_88 & compLasso & 0.96 & 0.46\\\\\n",
       "\\end{tabular}\n"
      ],
      "text/markdown": [
       "\n",
       "A data.frame: 4 × 4\n",
       "\n",
       "| dataset &lt;chr&gt; | method &lt;chr&gt; | ROC &lt;dbl&gt; | stability &lt;dbl&gt; |\n",
       "|---|---|---|---|\n",
       "| soil_88 | lasso     | 0.90 | 0.28 |\n",
       "| soil_88 | elent     | 0.94 | 0.32 |\n",
       "| soil_88 | rf        | 1.00 | 0.03 |\n",
       "| soil_88 | compLasso | 0.96 | 0.46 |\n",
       "\n"
      ],
      "text/plain": [
       "  dataset method    ROC  stability\n",
       "1 soil_88 lasso     0.90 0.28     \n",
       "2 soil_88 elent     0.94 0.32     \n",
       "3 soil_88 rf        1.00 0.03     \n",
       "4 soil_88 compLasso 0.96 0.46     "
      ]
     },
     "metadata": {},
     "output_type": "display_data"
    }
   ],
   "source": [
    "soil_88 = as.data.frame(matrix(NA, nrow=4, ncol=4))\n",
    "colnames(soil_88) = c('dataset', 'method', 'ROC', 'stability')\n",
    "soil_88$dataset = 'soil_88'\n",
    "soil_88$method = c('lasso', 'elent', 'rf', 'compLasso')\n",
    "soil_88$ROC = c(out_lasso$ROC_mean, out_elnet$ROC_mean, out_rf$ROC_mean, out_GenCompLasso$ROC_mean)\n",
    "soil_88$stability = c(out_lasso$stab_index, out_elnet$stab_index, out_rf$stab_index, out_GenCompLasso$stab_index)\n",
    "soil_88"
   ]
  },
  {
   "cell_type": "code",
   "execution_count": 9,
   "metadata": {},
   "outputs": [],
   "source": [
    "# testing\n",
    "load(paste0(dir, '/soils_binary_ph_boot_rf.RData'))\n",
    "load(paste0(dir, '/soils_binary_ph_boot_compLasso.RData'))"
   ]
  },
  {
   "cell_type": "code",
   "execution_count": 10,
   "metadata": {},
   "outputs": [
    {
     "data": {
      "text/html": [
       "0.4323"
      ],
      "text/latex": [
       "0.4323"
      ],
      "text/markdown": [
       "0.4323"
      ],
      "text/plain": [
       "[1] 0.4323"
      ]
     },
     "metadata": {},
     "output_type": "display_data"
    },
    {
     "data": {
      "text/html": [
       "<style>\n",
       ".dl-inline {width: auto; margin:0; padding: 0}\n",
       ".dl-inline>dt, .dl-inline>dd {float: none; width: auto; display: inline-block}\n",
       ".dl-inline>dt::after {content: \":\\0020\"; padding-right: .5ex}\n",
       ".dl-inline>dt:not(:first-of-type) {padding-left: .5ex}\n",
       "</style><dl class=dl-inline><dt>2.5%</dt><dd>0.37</dd><dt>97.5%</dt><dd>0.5</dd></dl>\n"
      ],
      "text/latex": [
       "\\begin{description*}\n",
       "\\item[2.5\\textbackslash{}\\%] 0.37\n",
       "\\item[97.5\\textbackslash{}\\%] 0.5\n",
       "\\end{description*}\n"
      ],
      "text/markdown": [
       "2.5%\n",
       ":   0.3797.5%\n",
       ":   0.5\n",
       "\n"
      ],
      "text/plain": [
       " 2.5% 97.5% \n",
       " 0.37  0.50 "
      ]
     },
     "metadata": {},
     "output_type": "display_data"
    }
   ],
   "source": [
    "diff_stab = (boot_compLasso$stab_index - boot_rf$stab_index)\n",
    "mean(diff_stab)\n",
    "quantile(diff_stab, probs = c(0.025, 0.975)) \n",
    "# CI doesn't contain zero: compLasso is significantly more stable than RF"
   ]
  },
  {
   "cell_type": "code",
   "execution_count": 11,
   "metadata": {},
   "outputs": [
    {
     "data": {
      "text/html": [
       "-0.0247120820917325"
      ],
      "text/latex": [
       "-0.0247120820917325"
      ],
      "text/markdown": [
       "-0.0247120820917325"
      ],
      "text/plain": [
       "[1] -0.02471208"
      ]
     },
     "metadata": {},
     "output_type": "display_data"
    },
    {
     "data": {
      "text/html": [
       "<style>\n",
       ".dl-inline {width: auto; margin:0; padding: 0}\n",
       ".dl-inline>dt, .dl-inline>dd {float: none; width: auto; display: inline-block}\n",
       ".dl-inline>dt::after {content: \":\\0020\"; padding-right: .5ex}\n",
       ".dl-inline>dt:not(:first-of-type) {padding-left: .5ex}\n",
       "</style><dl class=dl-inline><dt>2.5%</dt><dd>-0.0838574423480084</dd><dt>97.5%</dt><dd>0</dd></dl>\n"
      ],
      "text/latex": [
       "\\begin{description*}\n",
       "\\item[2.5\\textbackslash{}\\%] -0.0838574423480084\n",
       "\\item[97.5\\textbackslash{}\\%] 0\n",
       "\\end{description*}\n"
      ],
      "text/markdown": [
       "2.5%\n",
       ":   -0.083857442348008497.5%\n",
       ":   0\n",
       "\n"
      ],
      "text/plain": [
       "       2.5%       97.5% \n",
       "-0.08385744  0.00000000 "
      ]
     },
     "metadata": {},
     "output_type": "display_data"
    }
   ],
   "source": [
    "diff_ROC = (unlist(boot_compLasso$ROC_list) - unlist(boot_rf$ROC_list)) # use all 100*100 ROCs\n",
    "mean(diff_ROC)\n",
    "quantile(diff_ROC, probs = c(0.025, 0.975)) \n",
    "# CI contain zero: compLasso is not significantly different from RF based on ROC"
   ]
  },
  {
   "cell_type": "code",
   "execution_count": 12,
   "metadata": {},
   "outputs": [
    {
     "data": {
      "text/plain": [
       "    Min.  1st Qu.   Median     Mean  3rd Qu.     Max. \n",
       "-0.24949 -0.04206 -0.02250 -0.02471  0.00000  0.03769 "
      ]
     },
     "metadata": {},
     "output_type": "display_data"
    }
   ],
   "source": [
    "summary(diff_ROC)"
   ]
  },
  {
   "cell_type": "code",
   "execution_count": null,
   "metadata": {},
   "outputs": [],
   "source": []
  }
 ],
 "metadata": {
  "kernelspec": {
   "display_name": "R",
   "language": "R",
   "name": "ir"
  },
  "language_info": {
   "codemirror_mode": "r",
   "file_extension": ".r",
   "mimetype": "text/x-r-source",
   "name": "R",
   "pygments_lexer": "r",
   "version": "3.6.1"
  }
 },
 "nbformat": 4,
 "nbformat_minor": 2
}
