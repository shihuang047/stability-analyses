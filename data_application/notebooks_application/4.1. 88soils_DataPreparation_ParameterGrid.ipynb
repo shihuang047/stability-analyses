{
 "cells": [
  {
   "cell_type": "code",
   "execution_count": 1,
   "metadata": {},
   "outputs": [],
   "source": [
    "load('../data_application/88soils/88soils_genus_table.RData')"
   ]
  },
  {
   "cell_type": "code",
   "execution_count": 2,
   "metadata": {},
   "outputs": [
    {
     "data": {
      "text/html": [
       "<ol class=list-inline>\n",
       "\t<li>89</li>\n",
       "\t<li>2183</li>\n",
       "</ol>\n"
      ],
      "text/latex": [
       "\\begin{enumerate*}\n",
       "\\item 89\n",
       "\\item 2183\n",
       "\\end{enumerate*}\n"
      ],
      "text/markdown": [
       "1. 89\n",
       "2. 2183\n",
       "\n",
       "\n"
      ],
      "text/plain": [
       "[1]   89 2183"
      ]
     },
     "metadata": {},
     "output_type": "display_data"
    }
   ],
   "source": [
    "count = soil_otu\n",
    "dim(count)"
   ]
  },
  {
   "cell_type": "code",
   "execution_count": 3,
   "metadata": {},
   "outputs": [
    {
     "data": {
      "text/html": [
       "<table>\n",
       "<thead><tr><th></th><th scope=col>k__Bacteria.p__Firmicutes.c__Bacilli.o__Bacillales.f__Paenibacillaceae.g__Paenibacillus.s__</th><th scope=col>k__Bacteria.p__Firmicutes.c__Bacilli.o__Bacillales.f__Bacillaceae.g__Bacillus.s__muralis</th><th scope=col>k__Bacteria.p__Proteobacteria.c__Alphaproteobacteria.o__Sphingomonadales.f__Sphingomonadaceae.g__Novosphingobium.s__</th><th scope=col>k__Bacteria.p__Acidobacteria.c__Solibacteres.o__Solibacterales.f__Solibacteraceae.g__Candidatus.Solibacter.s__</th><th scope=col>k__Bacteria.p__Proteobacteria.c__Alphaproteobacteria.o__Rhizobiales.f__Hyphomicrobiaceae.g__Rhodoplanes.s__</th><th scope=col>k__Bacteria.p__Actinobacteria.c__Actinobacteria.o__Actinomycetales.f__Nocardioidaceae.g__Nocardioides.s__</th><th scope=col>k__Bacteria.p__Bacteroidetes.c__Flavobacteriia.o__Flavobacteriales.f__Flavobacteriaceae.g__Flavobacterium.s__</th><th scope=col>k__Bacteria.p__Firmicutes.c__Clostridia.o__Clostridiales.f__Peptococcaceae.g__Desulfotomaculum.s__</th><th scope=col>k__Bacteria.p__Acidobacteria.c__Acidobacteriia.o__Acidobacteriales.f__Koribacteraceae.g__Candidatus.Koribacter.s__</th><th scope=col>k__Bacteria.p__Proteobacteria.c__Betaproteobacteria.o__Burkholderiales.f__Comamonadaceae.g__Methylibium.s__</th><th scope=col>...</th><th scope=col>k__Bacteria.p__Proteobacteria.c__Betaproteobacteria.o__Burkholderiales.f__Comamonadaceae.g__Rhodoferax.s__.4</th><th scope=col>k__Bacteria.p__Proteobacteria.c__Gammaproteobacteria.o__Xanthomonadales.f__Xanthomonadaceae.g__Dokdonella.s__.9</th><th scope=col>k__Bacteria.p__Firmicutes.c__Bacilli.o__Lactobacillales.f__Streptococcaceae.g__Streptococcus.s__.9</th><th scope=col>k__Bacteria.p__Proteobacteria.c__Betaproteobacteria.o__Methylophilales.f__Methylophilaceae.g__Methylotenera.s__mobilis.2</th><th scope=col>k__Bacteria.p__Actinobacteria.c__Actinobacteria.o__Actinomycetales.f__Streptomycetaceae.g__Streptomyces.s__.44</th><th scope=col>k__Bacteria.p__Proteobacteria.c__Gammaproteobacteria.o__Xanthomonadales.f__Xanthomonadaceae.g__Luteimonas.s__.2</th><th scope=col>k__Bacteria.p__Proteobacteria.c__Alphaproteobacteria.o__Rhizobiales.f__Hyphomicrobiaceae.g__Rhodoplanes.s__.142</th><th scope=col>k__Bacteria.p__Firmicutes.c__Bacilli.o__Bacillales.f__Planococcaceae.g__Solibacillus.s__.3</th><th scope=col>k__Bacteria.p__Proteobacteria.c__Betaproteobacteria.o__Burkholderiales.f__Comamonadaceae.g__Ramlibacter.s__.9</th><th scope=col>k__Bacteria.p__Actinobacteria.c__Actinobacteria.o__Actinomycetales.f__Mycobacteriaceae.g__Mycobacterium.s__.28</th></tr></thead>\n",
       "<tbody>\n",
       "\t<tr><th scope=row>103.CA2</th><td>0  </td><td>0  </td><td>0  </td><td>0  </td><td>0  </td><td>0  </td><td>0  </td><td>0  </td><td>0  </td><td>0  </td><td>...</td><td>0  </td><td>0  </td><td>0  </td><td>0  </td><td>0  </td><td>0  </td><td>0  </td><td>0  </td><td>0  </td><td>0  </td></tr>\n",
       "\t<tr><th scope=row>103.CO3</th><td>0  </td><td>0  </td><td>0  </td><td>0  </td><td>0  </td><td>0  </td><td>0  </td><td>0  </td><td>0  </td><td>0  </td><td>...</td><td>0  </td><td>0  </td><td>0  </td><td>0  </td><td>0  </td><td>0  </td><td>0  </td><td>0  </td><td>0  </td><td>1  </td></tr>\n",
       "\t<tr><th scope=row>103.SR3</th><td>0  </td><td>0  </td><td>0  </td><td>0  </td><td>0  </td><td>0  </td><td>0  </td><td>0  </td><td>0  </td><td>0  </td><td>...</td><td>0  </td><td>1  </td><td>0  </td><td>0  </td><td>0  </td><td>0  </td><td>0  </td><td>0  </td><td>1  </td><td>1  </td></tr>\n",
       "\t<tr><th scope=row>103.IE2</th><td>1  </td><td>0  </td><td>0  </td><td>0  </td><td>0  </td><td>0  </td><td>0  </td><td>0  </td><td>0  </td><td>0  </td><td>...</td><td>0  </td><td>0  </td><td>0  </td><td>0  </td><td>0  </td><td>0  </td><td>2  </td><td>0  </td><td>0  </td><td>1  </td></tr>\n",
       "\t<tr><th scope=row>103.BP1</th><td>0  </td><td>0  </td><td>0  </td><td>0  </td><td>0  </td><td>0  </td><td>0  </td><td>0  </td><td>0  </td><td>0  </td><td>...</td><td>0  </td><td>0  </td><td>0  </td><td>0  </td><td>0  </td><td>0  </td><td>0  </td><td>0  </td><td>0  </td><td>1  </td></tr>\n",
       "\t<tr><th scope=row>103.VC2</th><td>0  </td><td>0  </td><td>0  </td><td>0  </td><td>0  </td><td>0  </td><td>0  </td><td>0  </td><td>0  </td><td>2  </td><td>...</td><td>0  </td><td>0  </td><td>0  </td><td>0  </td><td>0  </td><td>0  </td><td>0  </td><td>0  </td><td>0  </td><td>1  </td></tr>\n",
       "</tbody>\n",
       "</table>\n"
      ],
      "text/latex": [
       "\\begin{tabular}{r|lllllllllllllllllllllllllllllllllllllllllllllllllllllllllllllllllllllllllllllllllllllllllllllllllllllllllllllllllllllllllllllllllllllllllllllllllllllllllllllllllllllllllllllllllllllllllllllllllllllllllllllllllllllllllllllllllllllllllllllllllllllllllllllllllllllllllllllllllllllllllllllllllllllllllllllllllllllllllllllllllllllllllllllllllllllllllllllllllllllllllllllllllllllllllllllllllllllllllllllllllllllllllllllllllllllllllllllllllllllllllllllllllllllllllllllllllllllllllllllllllllllllllllllllllllllllllllllllllllllllllllllllllllllllllllllllllllllllllllllllllllllllllllllllllllllllllllllllllllllllllllllllllllllllllllllllllllllllllllllllllllllllllllllllllllllllllllllllllllllllllllllllllllllllllllllllllllllllllllllllllllllllllllllllllllllllllllllllllllllllllllllllllllllllllllllllllllllllllllllllllllllllllllllllllllllllllllllllllllllllllllllllllllllllllllllllllllllllllllllllllllllllllllllllllllllllllllllllllllllllllllllllllllllllllllllllllllllllllllllllllllllllllllllllllllllllllllllllllllllllllllllllllllllllllllllllllllllllllllllllllllllllllllllllllllllllllllllllllllllllllllllllllllllllllllllllllllllllllllllllllllllllllllllllllllllllllllllllllllllllllllllllllllllllllllllllllllllllllllllllllllllllllllllllllllllllllllllllllllllllllllllllllllllllllllllllllllllllllllllllllllllllllllllllllllllllllllllllllllllllllllllllllllllllllllllllllllllllllllllllllllllllllllllllllllllllllllllllllllllllllllllllllllllllllllllllllllllllllllllllllllllllllllllllllllllllllllllllllllllllllllllllllllllllllllllllllllllllllllllllllllllllllllllllllllllllllllllllllllllllllllllllllllllllllllllllllllllllllllllllllllllllllllllllllllllllllllllllllllllllllllllllllllllllllllllllllllllllllllllllllllllllllllllllllllllllllllllllllllllllllllllllllllllllllllllllllllllllllllllllllllllllllllllllllllllllllllllllllllllllllllllllllllllllllllllllllllllllllllllllllllllllllllllllllllllllllllllllllllllllllllllllllllllllllllllllllllllllllllllllllllllllllllllllllllllllllllllllllllllllllllllllllllllllllllllllllllllllllllllllllllllllllllllllllllllllllllllllllllllllllllllllllllllllllllllllllllllllllllllllllllllllllllllllllllllllllllllllllllllllllllllllllllllllllllllllllllllllllllllllllllllllllllllllllllllll}\n",
       "  & k\\_\\_Bacteria.p\\_\\_Firmicutes.c\\_\\_Bacilli.o\\_\\_Bacillales.f\\_\\_Paenibacillaceae.g\\_\\_Paenibacillus.s\\_\\_ & k\\_\\_Bacteria.p\\_\\_Firmicutes.c\\_\\_Bacilli.o\\_\\_Bacillales.f\\_\\_Bacillaceae.g\\_\\_Bacillus.s\\_\\_muralis & k\\_\\_Bacteria.p\\_\\_Proteobacteria.c\\_\\_Alphaproteobacteria.o\\_\\_Sphingomonadales.f\\_\\_Sphingomonadaceae.g\\_\\_Novosphingobium.s\\_\\_ & k\\_\\_Bacteria.p\\_\\_Acidobacteria.c\\_\\_Solibacteres.o\\_\\_Solibacterales.f\\_\\_Solibacteraceae.g\\_\\_Candidatus.Solibacter.s\\_\\_ & k\\_\\_Bacteria.p\\_\\_Proteobacteria.c\\_\\_Alphaproteobacteria.o\\_\\_Rhizobiales.f\\_\\_Hyphomicrobiaceae.g\\_\\_Rhodoplanes.s\\_\\_ & k\\_\\_Bacteria.p\\_\\_Actinobacteria.c\\_\\_Actinobacteria.o\\_\\_Actinomycetales.f\\_\\_Nocardioidaceae.g\\_\\_Nocardioides.s\\_\\_ & k\\_\\_Bacteria.p\\_\\_Bacteroidetes.c\\_\\_Flavobacteriia.o\\_\\_Flavobacteriales.f\\_\\_Flavobacteriaceae.g\\_\\_Flavobacterium.s\\_\\_ & k\\_\\_Bacteria.p\\_\\_Firmicutes.c\\_\\_Clostridia.o\\_\\_Clostridiales.f\\_\\_Peptococcaceae.g\\_\\_Desulfotomaculum.s\\_\\_ & k\\_\\_Bacteria.p\\_\\_Acidobacteria.c\\_\\_Acidobacteriia.o\\_\\_Acidobacteriales.f\\_\\_Koribacteraceae.g\\_\\_Candidatus.Koribacter.s\\_\\_ & k\\_\\_Bacteria.p\\_\\_Proteobacteria.c\\_\\_Betaproteobacteria.o\\_\\_Burkholderiales.f\\_\\_Comamonadaceae.g\\_\\_Methylibium.s\\_\\_ & ... & k\\_\\_Bacteria.p\\_\\_Proteobacteria.c\\_\\_Betaproteobacteria.o\\_\\_Burkholderiales.f\\_\\_Comamonadaceae.g\\_\\_Rhodoferax.s\\_\\_.4 & k\\_\\_Bacteria.p\\_\\_Proteobacteria.c\\_\\_Gammaproteobacteria.o\\_\\_Xanthomonadales.f\\_\\_Xanthomonadaceae.g\\_\\_Dokdonella.s\\_\\_.9 & k\\_\\_Bacteria.p\\_\\_Firmicutes.c\\_\\_Bacilli.o\\_\\_Lactobacillales.f\\_\\_Streptococcaceae.g\\_\\_Streptococcus.s\\_\\_.9 & k\\_\\_Bacteria.p\\_\\_Proteobacteria.c\\_\\_Betaproteobacteria.o\\_\\_Methylophilales.f\\_\\_Methylophilaceae.g\\_\\_Methylotenera.s\\_\\_mobilis.2 & k\\_\\_Bacteria.p\\_\\_Actinobacteria.c\\_\\_Actinobacteria.o\\_\\_Actinomycetales.f\\_\\_Streptomycetaceae.g\\_\\_Streptomyces.s\\_\\_.44 & k\\_\\_Bacteria.p\\_\\_Proteobacteria.c\\_\\_Gammaproteobacteria.o\\_\\_Xanthomonadales.f\\_\\_Xanthomonadaceae.g\\_\\_Luteimonas.s\\_\\_.2 & k\\_\\_Bacteria.p\\_\\_Proteobacteria.c\\_\\_Alphaproteobacteria.o\\_\\_Rhizobiales.f\\_\\_Hyphomicrobiaceae.g\\_\\_Rhodoplanes.s\\_\\_.142 & k\\_\\_Bacteria.p\\_\\_Firmicutes.c\\_\\_Bacilli.o\\_\\_Bacillales.f\\_\\_Planococcaceae.g\\_\\_Solibacillus.s\\_\\_.3 & k\\_\\_Bacteria.p\\_\\_Proteobacteria.c\\_\\_Betaproteobacteria.o\\_\\_Burkholderiales.f\\_\\_Comamonadaceae.g\\_\\_Ramlibacter.s\\_\\_.9 & k\\_\\_Bacteria.p\\_\\_Actinobacteria.c\\_\\_Actinobacteria.o\\_\\_Actinomycetales.f\\_\\_Mycobacteriaceae.g\\_\\_Mycobacterium.s\\_\\_.28\\\\\n",
       "\\hline\n",
       "\t103.CA2 & 0   & 0   & 0   & 0   & 0   & 0   & 0   & 0   & 0   & 0   & ... & 0   & 0   & 0   & 0   & 0   & 0   & 0   & 0   & 0   & 0  \\\\\n",
       "\t103.CO3 & 0   & 0   & 0   & 0   & 0   & 0   & 0   & 0   & 0   & 0   & ... & 0   & 0   & 0   & 0   & 0   & 0   & 0   & 0   & 0   & 1  \\\\\n",
       "\t103.SR3 & 0   & 0   & 0   & 0   & 0   & 0   & 0   & 0   & 0   & 0   & ... & 0   & 1   & 0   & 0   & 0   & 0   & 0   & 0   & 1   & 1  \\\\\n",
       "\t103.IE2 & 1   & 0   & 0   & 0   & 0   & 0   & 0   & 0   & 0   & 0   & ... & 0   & 0   & 0   & 0   & 0   & 0   & 2   & 0   & 0   & 1  \\\\\n",
       "\t103.BP1 & 0   & 0   & 0   & 0   & 0   & 0   & 0   & 0   & 0   & 0   & ... & 0   & 0   & 0   & 0   & 0   & 0   & 0   & 0   & 0   & 1  \\\\\n",
       "\t103.VC2 & 0   & 0   & 0   & 0   & 0   & 0   & 0   & 0   & 0   & 2   & ... & 0   & 0   & 0   & 0   & 0   & 0   & 0   & 0   & 0   & 1  \\\\\n",
       "\\end{tabular}\n"
      ],
      "text/markdown": [
       "\n",
       "| <!--/--> | k__Bacteria.p__Firmicutes.c__Bacilli.o__Bacillales.f__Paenibacillaceae.g__Paenibacillus.s__ | k__Bacteria.p__Firmicutes.c__Bacilli.o__Bacillales.f__Bacillaceae.g__Bacillus.s__muralis | k__Bacteria.p__Proteobacteria.c__Alphaproteobacteria.o__Sphingomonadales.f__Sphingomonadaceae.g__Novosphingobium.s__ | k__Bacteria.p__Acidobacteria.c__Solibacteres.o__Solibacterales.f__Solibacteraceae.g__Candidatus.Solibacter.s__ | k__Bacteria.p__Proteobacteria.c__Alphaproteobacteria.o__Rhizobiales.f__Hyphomicrobiaceae.g__Rhodoplanes.s__ | k__Bacteria.p__Actinobacteria.c__Actinobacteria.o__Actinomycetales.f__Nocardioidaceae.g__Nocardioides.s__ | k__Bacteria.p__Bacteroidetes.c__Flavobacteriia.o__Flavobacteriales.f__Flavobacteriaceae.g__Flavobacterium.s__ | k__Bacteria.p__Firmicutes.c__Clostridia.o__Clostridiales.f__Peptococcaceae.g__Desulfotomaculum.s__ | k__Bacteria.p__Acidobacteria.c__Acidobacteriia.o__Acidobacteriales.f__Koribacteraceae.g__Candidatus.Koribacter.s__ | k__Bacteria.p__Proteobacteria.c__Betaproteobacteria.o__Burkholderiales.f__Comamonadaceae.g__Methylibium.s__ | ... | k__Bacteria.p__Proteobacteria.c__Betaproteobacteria.o__Burkholderiales.f__Comamonadaceae.g__Rhodoferax.s__.4 | k__Bacteria.p__Proteobacteria.c__Gammaproteobacteria.o__Xanthomonadales.f__Xanthomonadaceae.g__Dokdonella.s__.9 | k__Bacteria.p__Firmicutes.c__Bacilli.o__Lactobacillales.f__Streptococcaceae.g__Streptococcus.s__.9 | k__Bacteria.p__Proteobacteria.c__Betaproteobacteria.o__Methylophilales.f__Methylophilaceae.g__Methylotenera.s__mobilis.2 | k__Bacteria.p__Actinobacteria.c__Actinobacteria.o__Actinomycetales.f__Streptomycetaceae.g__Streptomyces.s__.44 | k__Bacteria.p__Proteobacteria.c__Gammaproteobacteria.o__Xanthomonadales.f__Xanthomonadaceae.g__Luteimonas.s__.2 | k__Bacteria.p__Proteobacteria.c__Alphaproteobacteria.o__Rhizobiales.f__Hyphomicrobiaceae.g__Rhodoplanes.s__.142 | k__Bacteria.p__Firmicutes.c__Bacilli.o__Bacillales.f__Planococcaceae.g__Solibacillus.s__.3 | k__Bacteria.p__Proteobacteria.c__Betaproteobacteria.o__Burkholderiales.f__Comamonadaceae.g__Ramlibacter.s__.9 | k__Bacteria.p__Actinobacteria.c__Actinobacteria.o__Actinomycetales.f__Mycobacteriaceae.g__Mycobacterium.s__.28 |\n",
       "|---|---|---|---|---|---|---|---|---|---|---|---|---|---|---|---|---|---|---|---|---|---|\n",
       "| 103.CA2 | 0   | 0   | 0   | 0   | 0   | 0   | 0   | 0   | 0   | 0   | ... | 0   | 0   | 0   | 0   | 0   | 0   | 0   | 0   | 0   | 0   |\n",
       "| 103.CO3 | 0   | 0   | 0   | 0   | 0   | 0   | 0   | 0   | 0   | 0   | ... | 0   | 0   | 0   | 0   | 0   | 0   | 0   | 0   | 0   | 1   |\n",
       "| 103.SR3 | 0   | 0   | 0   | 0   | 0   | 0   | 0   | 0   | 0   | 0   | ... | 0   | 1   | 0   | 0   | 0   | 0   | 0   | 0   | 1   | 1   |\n",
       "| 103.IE2 | 1   | 0   | 0   | 0   | 0   | 0   | 0   | 0   | 0   | 0   | ... | 0   | 0   | 0   | 0   | 0   | 0   | 2   | 0   | 0   | 1   |\n",
       "| 103.BP1 | 0   | 0   | 0   | 0   | 0   | 0   | 0   | 0   | 0   | 0   | ... | 0   | 0   | 0   | 0   | 0   | 0   | 0   | 0   | 0   | 1   |\n",
       "| 103.VC2 | 0   | 0   | 0   | 0   | 0   | 0   | 0   | 0   | 0   | 2   | ... | 0   | 0   | 0   | 0   | 0   | 0   | 0   | 0   | 0   | 1   |\n",
       "\n"
      ],
      "text/plain": [
       "        k__Bacteria.p__Firmicutes.c__Bacilli.o__Bacillales.f__Paenibacillaceae.g__Paenibacillus.s__\n",
       "103.CA2 0                                                                                          \n",
       "103.CO3 0                                                                                          \n",
       "103.SR3 0                                                                                          \n",
       "103.IE2 1                                                                                          \n",
       "103.BP1 0                                                                                          \n",
       "103.VC2 0                                                                                          \n",
       "        k__Bacteria.p__Firmicutes.c__Bacilli.o__Bacillales.f__Bacillaceae.g__Bacillus.s__muralis\n",
       "103.CA2 0                                                                                       \n",
       "103.CO3 0                                                                                       \n",
       "103.SR3 0                                                                                       \n",
       "103.IE2 0                                                                                       \n",
       "103.BP1 0                                                                                       \n",
       "103.VC2 0                                                                                       \n",
       "        k__Bacteria.p__Proteobacteria.c__Alphaproteobacteria.o__Sphingomonadales.f__Sphingomonadaceae.g__Novosphingobium.s__\n",
       "103.CA2 0                                                                                                                   \n",
       "103.CO3 0                                                                                                                   \n",
       "103.SR3 0                                                                                                                   \n",
       "103.IE2 0                                                                                                                   \n",
       "103.BP1 0                                                                                                                   \n",
       "103.VC2 0                                                                                                                   \n",
       "        k__Bacteria.p__Acidobacteria.c__Solibacteres.o__Solibacterales.f__Solibacteraceae.g__Candidatus.Solibacter.s__\n",
       "103.CA2 0                                                                                                             \n",
       "103.CO3 0                                                                                                             \n",
       "103.SR3 0                                                                                                             \n",
       "103.IE2 0                                                                                                             \n",
       "103.BP1 0                                                                                                             \n",
       "103.VC2 0                                                                                                             \n",
       "        k__Bacteria.p__Proteobacteria.c__Alphaproteobacteria.o__Rhizobiales.f__Hyphomicrobiaceae.g__Rhodoplanes.s__\n",
       "103.CA2 0                                                                                                          \n",
       "103.CO3 0                                                                                                          \n",
       "103.SR3 0                                                                                                          \n",
       "103.IE2 0                                                                                                          \n",
       "103.BP1 0                                                                                                          \n",
       "103.VC2 0                                                                                                          \n",
       "        k__Bacteria.p__Actinobacteria.c__Actinobacteria.o__Actinomycetales.f__Nocardioidaceae.g__Nocardioides.s__\n",
       "103.CA2 0                                                                                                        \n",
       "103.CO3 0                                                                                                        \n",
       "103.SR3 0                                                                                                        \n",
       "103.IE2 0                                                                                                        \n",
       "103.BP1 0                                                                                                        \n",
       "103.VC2 0                                                                                                        \n",
       "        k__Bacteria.p__Bacteroidetes.c__Flavobacteriia.o__Flavobacteriales.f__Flavobacteriaceae.g__Flavobacterium.s__\n",
       "103.CA2 0                                                                                                            \n",
       "103.CO3 0                                                                                                            \n",
       "103.SR3 0                                                                                                            \n",
       "103.IE2 0                                                                                                            \n",
       "103.BP1 0                                                                                                            \n",
       "103.VC2 0                                                                                                            \n",
       "        k__Bacteria.p__Firmicutes.c__Clostridia.o__Clostridiales.f__Peptococcaceae.g__Desulfotomaculum.s__\n",
       "103.CA2 0                                                                                                 \n",
       "103.CO3 0                                                                                                 \n",
       "103.SR3 0                                                                                                 \n",
       "103.IE2 0                                                                                                 \n",
       "103.BP1 0                                                                                                 \n",
       "103.VC2 0                                                                                                 \n",
       "        k__Bacteria.p__Acidobacteria.c__Acidobacteriia.o__Acidobacteriales.f__Koribacteraceae.g__Candidatus.Koribacter.s__\n",
       "103.CA2 0                                                                                                                 \n",
       "103.CO3 0                                                                                                                 \n",
       "103.SR3 0                                                                                                                 \n",
       "103.IE2 0                                                                                                                 \n",
       "103.BP1 0                                                                                                                 \n",
       "103.VC2 0                                                                                                                 \n",
       "        k__Bacteria.p__Proteobacteria.c__Betaproteobacteria.o__Burkholderiales.f__Comamonadaceae.g__Methylibium.s__\n",
       "103.CA2 0                                                                                                          \n",
       "103.CO3 0                                                                                                          \n",
       "103.SR3 0                                                                                                          \n",
       "103.IE2 0                                                                                                          \n",
       "103.BP1 0                                                                                                          \n",
       "103.VC2 2                                                                                                          \n",
       "        ...\n",
       "103.CA2 ...\n",
       "103.CO3 ...\n",
       "103.SR3 ...\n",
       "103.IE2 ...\n",
       "103.BP1 ...\n",
       "103.VC2 ...\n",
       "        k__Bacteria.p__Proteobacteria.c__Betaproteobacteria.o__Burkholderiales.f__Comamonadaceae.g__Rhodoferax.s__.4\n",
       "103.CA2 0                                                                                                           \n",
       "103.CO3 0                                                                                                           \n",
       "103.SR3 0                                                                                                           \n",
       "103.IE2 0                                                                                                           \n",
       "103.BP1 0                                                                                                           \n",
       "103.VC2 0                                                                                                           \n",
       "        k__Bacteria.p__Proteobacteria.c__Gammaproteobacteria.o__Xanthomonadales.f__Xanthomonadaceae.g__Dokdonella.s__.9\n",
       "103.CA2 0                                                                                                              \n",
       "103.CO3 0                                                                                                              \n",
       "103.SR3 1                                                                                                              \n",
       "103.IE2 0                                                                                                              \n",
       "103.BP1 0                                                                                                              \n",
       "103.VC2 0                                                                                                              \n",
       "        k__Bacteria.p__Firmicutes.c__Bacilli.o__Lactobacillales.f__Streptococcaceae.g__Streptococcus.s__.9\n",
       "103.CA2 0                                                                                                 \n",
       "103.CO3 0                                                                                                 \n",
       "103.SR3 0                                                                                                 \n",
       "103.IE2 0                                                                                                 \n",
       "103.BP1 0                                                                                                 \n",
       "103.VC2 0                                                                                                 \n",
       "        k__Bacteria.p__Proteobacteria.c__Betaproteobacteria.o__Methylophilales.f__Methylophilaceae.g__Methylotenera.s__mobilis.2\n",
       "103.CA2 0                                                                                                                       \n",
       "103.CO3 0                                                                                                                       \n",
       "103.SR3 0                                                                                                                       \n",
       "103.IE2 0                                                                                                                       \n",
       "103.BP1 0                                                                                                                       \n",
       "103.VC2 0                                                                                                                       \n",
       "        k__Bacteria.p__Actinobacteria.c__Actinobacteria.o__Actinomycetales.f__Streptomycetaceae.g__Streptomyces.s__.44\n",
       "103.CA2 0                                                                                                             \n",
       "103.CO3 0                                                                                                             \n",
       "103.SR3 0                                                                                                             \n",
       "103.IE2 0                                                                                                             \n",
       "103.BP1 0                                                                                                             \n",
       "103.VC2 0                                                                                                             \n",
       "        k__Bacteria.p__Proteobacteria.c__Gammaproteobacteria.o__Xanthomonadales.f__Xanthomonadaceae.g__Luteimonas.s__.2\n",
       "103.CA2 0                                                                                                              \n",
       "103.CO3 0                                                                                                              \n",
       "103.SR3 0                                                                                                              \n",
       "103.IE2 0                                                                                                              \n",
       "103.BP1 0                                                                                                              \n",
       "103.VC2 0                                                                                                              \n",
       "        k__Bacteria.p__Proteobacteria.c__Alphaproteobacteria.o__Rhizobiales.f__Hyphomicrobiaceae.g__Rhodoplanes.s__.142\n",
       "103.CA2 0                                                                                                              \n",
       "103.CO3 0                                                                                                              \n",
       "103.SR3 0                                                                                                              \n",
       "103.IE2 2                                                                                                              \n",
       "103.BP1 0                                                                                                              \n",
       "103.VC2 0                                                                                                              \n",
       "        k__Bacteria.p__Firmicutes.c__Bacilli.o__Bacillales.f__Planococcaceae.g__Solibacillus.s__.3\n",
       "103.CA2 0                                                                                         \n",
       "103.CO3 0                                                                                         \n",
       "103.SR3 0                                                                                         \n",
       "103.IE2 0                                                                                         \n",
       "103.BP1 0                                                                                         \n",
       "103.VC2 0                                                                                         \n",
       "        k__Bacteria.p__Proteobacteria.c__Betaproteobacteria.o__Burkholderiales.f__Comamonadaceae.g__Ramlibacter.s__.9\n",
       "103.CA2 0                                                                                                            \n",
       "103.CO3 0                                                                                                            \n",
       "103.SR3 1                                                                                                            \n",
       "103.IE2 0                                                                                                            \n",
       "103.BP1 0                                                                                                            \n",
       "103.VC2 0                                                                                                            \n",
       "        k__Bacteria.p__Actinobacteria.c__Actinobacteria.o__Actinomycetales.f__Mycobacteriaceae.g__Mycobacterium.s__.28\n",
       "103.CA2 0                                                                                                             \n",
       "103.CO3 1                                                                                                             \n",
       "103.SR3 1                                                                                                             \n",
       "103.IE2 1                                                                                                             \n",
       "103.BP1 1                                                                                                             \n",
       "103.VC2 1                                                                                                             "
      ]
     },
     "metadata": {},
     "output_type": "display_data"
    }
   ],
   "source": [
    "head(count)"
   ]
  },
  {
   "cell_type": "code",
   "execution_count": 4,
   "metadata": {},
   "outputs": [
    {
     "data": {
      "text/html": [
       "<ol class=list-inline>\n",
       "\t<li>89</li>\n",
       "\t<li>2183</li>\n",
       "</ol>\n"
      ],
      "text/latex": [
       "\\begin{enumerate*}\n",
       "\\item 89\n",
       "\\item 2183\n",
       "\\end{enumerate*}\n"
      ],
      "text/markdown": [
       "1. 89\n",
       "2. 2183\n",
       "\n",
       "\n"
      ],
      "text/plain": [
       "[1]   89 2183"
      ]
     },
     "metadata": {},
     "output_type": "display_data"
    }
   ],
   "source": [
    "dim(count[, colMeans(count > 0) >= 0.5/100]) # 0.5%"
   ]
  },
  {
   "cell_type": "code",
   "execution_count": 5,
   "metadata": {},
   "outputs": [
    {
     "data": {
      "text/html": [
       "<ol class=list-inline>\n",
       "\t<li>89</li>\n",
       "\t<li>2183</li>\n",
       "</ol>\n"
      ],
      "text/latex": [
       "\\begin{enumerate*}\n",
       "\\item 89\n",
       "\\item 2183\n",
       "\\end{enumerate*}\n"
      ],
      "text/markdown": [
       "1. 89\n",
       "2. 2183\n",
       "\n",
       "\n"
      ],
      "text/plain": [
       "[1]   89 2183"
      ]
     },
     "metadata": {},
     "output_type": "display_data"
    }
   ],
   "source": [
    "dim(count[, colMeans(count > 0) >= 1/100]) # 1%"
   ]
  },
  {
   "cell_type": "code",
   "execution_count": 6,
   "metadata": {},
   "outputs": [
    {
     "data": {
      "text/html": [
       "<ol class=list-inline>\n",
       "\t<li>89</li>\n",
       "\t<li>1297</li>\n",
       "</ol>\n"
      ],
      "text/latex": [
       "\\begin{enumerate*}\n",
       "\\item 89\n",
       "\\item 1297\n",
       "\\end{enumerate*}\n"
      ],
      "text/markdown": [
       "1. 89\n",
       "2. 1297\n",
       "\n",
       "\n"
      ],
      "text/plain": [
       "[1]   89 1297"
      ]
     },
     "metadata": {},
     "output_type": "display_data"
    }
   ],
   "source": [
    "dim(count[, colMeans(count > 0) >= 2/100]) # 2%"
   ]
  },
  {
   "cell_type": "code",
   "execution_count": 7,
   "metadata": {},
   "outputs": [
    {
     "data": {
      "text/html": [
       "<ol class=list-inline>\n",
       "\t<li>89</li>\n",
       "\t<li>576</li>\n",
       "</ol>\n"
      ],
      "text/latex": [
       "\\begin{enumerate*}\n",
       "\\item 89\n",
       "\\item 576\n",
       "\\end{enumerate*}\n"
      ],
      "text/markdown": [
       "1. 89\n",
       "2. 576\n",
       "\n",
       "\n"
      ],
      "text/plain": [
       "[1]  89 576"
      ]
     },
     "metadata": {},
     "output_type": "display_data"
    }
   ],
   "source": [
    "dim(count[, colMeans(count > 0) >= 5/100]) # 5%"
   ]
  },
  {
   "cell_type": "code",
   "execution_count": 8,
   "metadata": {},
   "outputs": [
    {
     "data": {
      "text/html": [
       "<ol class=list-inline>\n",
       "\t<li>89</li>\n",
       "\t<li>2183</li>\n",
       "</ol>\n"
      ],
      "text/latex": [
       "\\begin{enumerate*}\n",
       "\\item 89\n",
       "\\item 2183\n",
       "\\end{enumerate*}\n"
      ],
      "text/markdown": [
       "1. 89\n",
       "2. 2183\n",
       "\n",
       "\n"
      ],
      "text/plain": [
       "[1]   89 2183"
      ]
     },
     "metadata": {},
     "output_type": "display_data"
    },
    {
     "data": {
      "text/html": [
       "<table>\n",
       "<thead><tr><th></th><th scope=col>k__Bacteria.p__Firmicutes.c__Bacilli.o__Bacillales.f__Paenibacillaceae.g__Paenibacillus.s__</th><th scope=col>k__Bacteria.p__Firmicutes.c__Bacilli.o__Bacillales.f__Bacillaceae.g__Bacillus.s__muralis</th><th scope=col>k__Bacteria.p__Proteobacteria.c__Alphaproteobacteria.o__Sphingomonadales.f__Sphingomonadaceae.g__Novosphingobium.s__</th><th scope=col>k__Bacteria.p__Acidobacteria.c__Solibacteres.o__Solibacterales.f__Solibacteraceae.g__Candidatus.Solibacter.s__</th><th scope=col>k__Bacteria.p__Proteobacteria.c__Alphaproteobacteria.o__Rhizobiales.f__Hyphomicrobiaceae.g__Rhodoplanes.s__</th><th scope=col>k__Bacteria.p__Actinobacteria.c__Actinobacteria.o__Actinomycetales.f__Nocardioidaceae.g__Nocardioides.s__</th><th scope=col>k__Bacteria.p__Bacteroidetes.c__Flavobacteriia.o__Flavobacteriales.f__Flavobacteriaceae.g__Flavobacterium.s__</th><th scope=col>k__Bacteria.p__Firmicutes.c__Clostridia.o__Clostridiales.f__Peptococcaceae.g__Desulfotomaculum.s__</th><th scope=col>k__Bacteria.p__Acidobacteria.c__Acidobacteriia.o__Acidobacteriales.f__Koribacteraceae.g__Candidatus.Koribacter.s__</th><th scope=col>k__Bacteria.p__Proteobacteria.c__Betaproteobacteria.o__Burkholderiales.f__Comamonadaceae.g__Methylibium.s__</th><th scope=col>...</th><th scope=col>k__Bacteria.p__Proteobacteria.c__Betaproteobacteria.o__Burkholderiales.f__Comamonadaceae.g__Rhodoferax.s__.4</th><th scope=col>k__Bacteria.p__Proteobacteria.c__Gammaproteobacteria.o__Xanthomonadales.f__Xanthomonadaceae.g__Dokdonella.s__.9</th><th scope=col>k__Bacteria.p__Firmicutes.c__Bacilli.o__Lactobacillales.f__Streptococcaceae.g__Streptococcus.s__.9</th><th scope=col>k__Bacteria.p__Proteobacteria.c__Betaproteobacteria.o__Methylophilales.f__Methylophilaceae.g__Methylotenera.s__mobilis.2</th><th scope=col>k__Bacteria.p__Actinobacteria.c__Actinobacteria.o__Actinomycetales.f__Streptomycetaceae.g__Streptomyces.s__.44</th><th scope=col>k__Bacteria.p__Proteobacteria.c__Gammaproteobacteria.o__Xanthomonadales.f__Xanthomonadaceae.g__Luteimonas.s__.2</th><th scope=col>k__Bacteria.p__Proteobacteria.c__Alphaproteobacteria.o__Rhizobiales.f__Hyphomicrobiaceae.g__Rhodoplanes.s__.142</th><th scope=col>k__Bacteria.p__Firmicutes.c__Bacilli.o__Bacillales.f__Planococcaceae.g__Solibacillus.s__.3</th><th scope=col>k__Bacteria.p__Proteobacteria.c__Betaproteobacteria.o__Burkholderiales.f__Comamonadaceae.g__Ramlibacter.s__.9</th><th scope=col>k__Bacteria.p__Actinobacteria.c__Actinobacteria.o__Actinomycetales.f__Mycobacteriaceae.g__Mycobacterium.s__.28</th></tr></thead>\n",
       "<tbody>\n",
       "\t<tr><th scope=row>103.CA2</th><td>-7.828436</td><td>-7.828436</td><td>-7.828436</td><td>-7.828436</td><td>-7.828436</td><td>-7.828436</td><td>-7.828436</td><td>-7.828436</td><td>-7.828436</td><td>-7.828436</td><td>...      </td><td>-7.828436</td><td>-7.828436</td><td>-7.828436</td><td>-7.828436</td><td>-7.828436</td><td>-7.828436</td><td>-7.828436</td><td>-7.828436</td><td>-7.828436</td><td>-7.828436</td></tr>\n",
       "\t<tr><th scope=row>103.CO3</th><td>-7.892452</td><td>-7.892452</td><td>-7.892452</td><td>-7.892452</td><td>-7.892452</td><td>-7.892452</td><td>-7.892452</td><td>-7.892452</td><td>-7.892452</td><td>-7.892452</td><td>...      </td><td>-7.892452</td><td>-7.892452</td><td>-7.892452</td><td>-7.892452</td><td>-7.892452</td><td>-7.892452</td><td>-7.892452</td><td>-7.892452</td><td>-7.892452</td><td>-7.199305</td></tr>\n",
       "\t<tr><th scope=row>103.SR3</th><td>-7.942718</td><td>-7.942718</td><td>-7.942718</td><td>-7.942718</td><td>-7.942718</td><td>-7.942718</td><td>-7.942718</td><td>-7.942718</td><td>-7.942718</td><td>-7.942718</td><td>...      </td><td>-7.942718</td><td>-7.249570</td><td>-7.942718</td><td>-7.942718</td><td>-7.942718</td><td>-7.942718</td><td>-7.942718</td><td>-7.942718</td><td>-7.249570</td><td>-7.249570</td></tr>\n",
       "\t<tr><th scope=row>103.IE2</th><td>-7.208230</td><td>-7.901377</td><td>-7.901377</td><td>-7.901377</td><td>-7.901377</td><td>-7.901377</td><td>-7.901377</td><td>-7.901377</td><td>-7.901377</td><td>-7.901377</td><td>...      </td><td>-7.901377</td><td>-7.901377</td><td>-7.901377</td><td>-7.901377</td><td>-7.901377</td><td>-7.901377</td><td>-6.515083</td><td>-7.901377</td><td>-7.901377</td><td>-7.208230</td></tr>\n",
       "\t<tr><th scope=row>103.BP1</th><td>-7.781139</td><td>-7.781139</td><td>-7.781139</td><td>-7.781139</td><td>-7.781139</td><td>-7.781139</td><td>-7.781139</td><td>-7.781139</td><td>-7.781139</td><td>-7.781139</td><td>...      </td><td>-7.781139</td><td>-7.781139</td><td>-7.781139</td><td>-7.781139</td><td>-7.781139</td><td>-7.781139</td><td>-7.781139</td><td>-7.781139</td><td>-7.781139</td><td>-7.087991</td></tr>\n",
       "\t<tr><th scope=row>103.VC2</th><td>-7.825645</td><td>-7.825645</td><td>-7.825645</td><td>-7.825645</td><td>-7.825645</td><td>-7.825645</td><td>-7.825645</td><td>-7.825645</td><td>-7.825645</td><td>-6.439350</td><td>...      </td><td>-7.825645</td><td>-7.825645</td><td>-7.825645</td><td>-7.825645</td><td>-7.825645</td><td>-7.825645</td><td>-7.825645</td><td>-7.825645</td><td>-7.825645</td><td>-7.132498</td></tr>\n",
       "</tbody>\n",
       "</table>\n"
      ],
      "text/latex": [
       "\\begin{tabular}{r|lllllllllllllllllllllllllllllllllllllllllllllllllllllllllllllllllllllllllllllllllllllllllllllllllllllllllllllllllllllllllllllllllllllllllllllllllllllllllllllllllllllllllllllllllllllllllllllllllllllllllllllllllllllllllllllllllllllllllllllllllllllllllllllllllllllllllllllllllllllllllllllllllllllllllllllllllllllllllllllllllllllllllllllllllllllllllllllllllllllllllllllllllllllllllllllllllllllllllllllllllllllllllllllllllllllllllllllllllllllllllllllllllllllllllllllllllllllllllllllllllllllllllllllllllllllllllllllllllllllllllllllllllllllllllllllllllllllllllllllllllllllllllllllllllllllllllllllllllllllllllllllllllllllllllllllllllllllllllllllllllllllllllllllllllllllllllllllllllllllllllllllllllllllllllllllllllllllllllllllllllllllllllllllllllllllllllllllllllllllllllllllllllllllllllllllllllllllllllllllllllllllllllllllllllllllllllllllllllllllllllllllllllllllllllllllllllllllllllllllllllllllllllllllllllllllllllllllllllllllllllllllllllllllllllllllllllllllllllllllllllllllllllllllllllllllllllllllllllllllllllllllllllllllllllllllllllllllllllllllllllllllllllllllllllllllllllllllllllllllllllllllllllllllllllllllllllllllllllllllllllllllllllllllllllllllllllllllllllllllllllllllllllllllllllllllllllllllllllllllllllllllllllllllllllllllllllllllllllllllllllllllllllllllllllllllllllllllllllllllllllllllllllllllllllllllllllllllllllllllllllllllllllllllllllllllllllllllllllllllllllllllllllllllllllllllllllllllllllllllllllllllllllllllllllllllllllllllllllllllllllllllllllllllllllllllllllllllllllllllllllllllllllllllllllllllllllllllllllllllllllllllllllllllllllllllllllllllllllllllllllllllllllllllllllllllllllllllllllllllllllllllllllllllllllllllllllllllllllllllllllllllllllllllllllllllllllllllllllllllllllllllllllllllllllllllllllllllllllllllllllllllllllllllllllllllllllllllllllllllllllllllllllllllllllllllllllllllllllllllllllllllllllllllllllllllllllllllllllllllllllllllllllllllllllllllllllllllllllllllllllllllllllllllllllllllllllllllllllllllllllllllllllllllllllllllllllllllllllllllllllllllllllllllllllllllllllllllllllllllllllllllllllllllllllllllllllllllllllllllllllllllllllllllllllllllllllllllllllllllllllllllllllllllllllllllllllllllllllllllllllllllllllllllllllllllllllllllllllllllllllllllllllllllllllllllll}\n",
       "  & k\\_\\_Bacteria.p\\_\\_Firmicutes.c\\_\\_Bacilli.o\\_\\_Bacillales.f\\_\\_Paenibacillaceae.g\\_\\_Paenibacillus.s\\_\\_ & k\\_\\_Bacteria.p\\_\\_Firmicutes.c\\_\\_Bacilli.o\\_\\_Bacillales.f\\_\\_Bacillaceae.g\\_\\_Bacillus.s\\_\\_muralis & k\\_\\_Bacteria.p\\_\\_Proteobacteria.c\\_\\_Alphaproteobacteria.o\\_\\_Sphingomonadales.f\\_\\_Sphingomonadaceae.g\\_\\_Novosphingobium.s\\_\\_ & k\\_\\_Bacteria.p\\_\\_Acidobacteria.c\\_\\_Solibacteres.o\\_\\_Solibacterales.f\\_\\_Solibacteraceae.g\\_\\_Candidatus.Solibacter.s\\_\\_ & k\\_\\_Bacteria.p\\_\\_Proteobacteria.c\\_\\_Alphaproteobacteria.o\\_\\_Rhizobiales.f\\_\\_Hyphomicrobiaceae.g\\_\\_Rhodoplanes.s\\_\\_ & k\\_\\_Bacteria.p\\_\\_Actinobacteria.c\\_\\_Actinobacteria.o\\_\\_Actinomycetales.f\\_\\_Nocardioidaceae.g\\_\\_Nocardioides.s\\_\\_ & k\\_\\_Bacteria.p\\_\\_Bacteroidetes.c\\_\\_Flavobacteriia.o\\_\\_Flavobacteriales.f\\_\\_Flavobacteriaceae.g\\_\\_Flavobacterium.s\\_\\_ & k\\_\\_Bacteria.p\\_\\_Firmicutes.c\\_\\_Clostridia.o\\_\\_Clostridiales.f\\_\\_Peptococcaceae.g\\_\\_Desulfotomaculum.s\\_\\_ & k\\_\\_Bacteria.p\\_\\_Acidobacteria.c\\_\\_Acidobacteriia.o\\_\\_Acidobacteriales.f\\_\\_Koribacteraceae.g\\_\\_Candidatus.Koribacter.s\\_\\_ & k\\_\\_Bacteria.p\\_\\_Proteobacteria.c\\_\\_Betaproteobacteria.o\\_\\_Burkholderiales.f\\_\\_Comamonadaceae.g\\_\\_Methylibium.s\\_\\_ & ... & k\\_\\_Bacteria.p\\_\\_Proteobacteria.c\\_\\_Betaproteobacteria.o\\_\\_Burkholderiales.f\\_\\_Comamonadaceae.g\\_\\_Rhodoferax.s\\_\\_.4 & k\\_\\_Bacteria.p\\_\\_Proteobacteria.c\\_\\_Gammaproteobacteria.o\\_\\_Xanthomonadales.f\\_\\_Xanthomonadaceae.g\\_\\_Dokdonella.s\\_\\_.9 & k\\_\\_Bacteria.p\\_\\_Firmicutes.c\\_\\_Bacilli.o\\_\\_Lactobacillales.f\\_\\_Streptococcaceae.g\\_\\_Streptococcus.s\\_\\_.9 & k\\_\\_Bacteria.p\\_\\_Proteobacteria.c\\_\\_Betaproteobacteria.o\\_\\_Methylophilales.f\\_\\_Methylophilaceae.g\\_\\_Methylotenera.s\\_\\_mobilis.2 & k\\_\\_Bacteria.p\\_\\_Actinobacteria.c\\_\\_Actinobacteria.o\\_\\_Actinomycetales.f\\_\\_Streptomycetaceae.g\\_\\_Streptomyces.s\\_\\_.44 & k\\_\\_Bacteria.p\\_\\_Proteobacteria.c\\_\\_Gammaproteobacteria.o\\_\\_Xanthomonadales.f\\_\\_Xanthomonadaceae.g\\_\\_Luteimonas.s\\_\\_.2 & k\\_\\_Bacteria.p\\_\\_Proteobacteria.c\\_\\_Alphaproteobacteria.o\\_\\_Rhizobiales.f\\_\\_Hyphomicrobiaceae.g\\_\\_Rhodoplanes.s\\_\\_.142 & k\\_\\_Bacteria.p\\_\\_Firmicutes.c\\_\\_Bacilli.o\\_\\_Bacillales.f\\_\\_Planococcaceae.g\\_\\_Solibacillus.s\\_\\_.3 & k\\_\\_Bacteria.p\\_\\_Proteobacteria.c\\_\\_Betaproteobacteria.o\\_\\_Burkholderiales.f\\_\\_Comamonadaceae.g\\_\\_Ramlibacter.s\\_\\_.9 & k\\_\\_Bacteria.p\\_\\_Actinobacteria.c\\_\\_Actinobacteria.o\\_\\_Actinomycetales.f\\_\\_Mycobacteriaceae.g\\_\\_Mycobacterium.s\\_\\_.28\\\\\n",
       "\\hline\n",
       "\t103.CA2 & -7.828436 & -7.828436 & -7.828436 & -7.828436 & -7.828436 & -7.828436 & -7.828436 & -7.828436 & -7.828436 & -7.828436 & ...       & -7.828436 & -7.828436 & -7.828436 & -7.828436 & -7.828436 & -7.828436 & -7.828436 & -7.828436 & -7.828436 & -7.828436\\\\\n",
       "\t103.CO3 & -7.892452 & -7.892452 & -7.892452 & -7.892452 & -7.892452 & -7.892452 & -7.892452 & -7.892452 & -7.892452 & -7.892452 & ...       & -7.892452 & -7.892452 & -7.892452 & -7.892452 & -7.892452 & -7.892452 & -7.892452 & -7.892452 & -7.892452 & -7.199305\\\\\n",
       "\t103.SR3 & -7.942718 & -7.942718 & -7.942718 & -7.942718 & -7.942718 & -7.942718 & -7.942718 & -7.942718 & -7.942718 & -7.942718 & ...       & -7.942718 & -7.249570 & -7.942718 & -7.942718 & -7.942718 & -7.942718 & -7.942718 & -7.942718 & -7.249570 & -7.249570\\\\\n",
       "\t103.IE2 & -7.208230 & -7.901377 & -7.901377 & -7.901377 & -7.901377 & -7.901377 & -7.901377 & -7.901377 & -7.901377 & -7.901377 & ...       & -7.901377 & -7.901377 & -7.901377 & -7.901377 & -7.901377 & -7.901377 & -6.515083 & -7.901377 & -7.901377 & -7.208230\\\\\n",
       "\t103.BP1 & -7.781139 & -7.781139 & -7.781139 & -7.781139 & -7.781139 & -7.781139 & -7.781139 & -7.781139 & -7.781139 & -7.781139 & ...       & -7.781139 & -7.781139 & -7.781139 & -7.781139 & -7.781139 & -7.781139 & -7.781139 & -7.781139 & -7.781139 & -7.087991\\\\\n",
       "\t103.VC2 & -7.825645 & -7.825645 & -7.825645 & -7.825645 & -7.825645 & -7.825645 & -7.825645 & -7.825645 & -7.825645 & -6.439350 & ...       & -7.825645 & -7.825645 & -7.825645 & -7.825645 & -7.825645 & -7.825645 & -7.825645 & -7.825645 & -7.825645 & -7.132498\\\\\n",
       "\\end{tabular}\n"
      ],
      "text/markdown": [
       "\n",
       "| <!--/--> | k__Bacteria.p__Firmicutes.c__Bacilli.o__Bacillales.f__Paenibacillaceae.g__Paenibacillus.s__ | k__Bacteria.p__Firmicutes.c__Bacilli.o__Bacillales.f__Bacillaceae.g__Bacillus.s__muralis | k__Bacteria.p__Proteobacteria.c__Alphaproteobacteria.o__Sphingomonadales.f__Sphingomonadaceae.g__Novosphingobium.s__ | k__Bacteria.p__Acidobacteria.c__Solibacteres.o__Solibacterales.f__Solibacteraceae.g__Candidatus.Solibacter.s__ | k__Bacteria.p__Proteobacteria.c__Alphaproteobacteria.o__Rhizobiales.f__Hyphomicrobiaceae.g__Rhodoplanes.s__ | k__Bacteria.p__Actinobacteria.c__Actinobacteria.o__Actinomycetales.f__Nocardioidaceae.g__Nocardioides.s__ | k__Bacteria.p__Bacteroidetes.c__Flavobacteriia.o__Flavobacteriales.f__Flavobacteriaceae.g__Flavobacterium.s__ | k__Bacteria.p__Firmicutes.c__Clostridia.o__Clostridiales.f__Peptococcaceae.g__Desulfotomaculum.s__ | k__Bacteria.p__Acidobacteria.c__Acidobacteriia.o__Acidobacteriales.f__Koribacteraceae.g__Candidatus.Koribacter.s__ | k__Bacteria.p__Proteobacteria.c__Betaproteobacteria.o__Burkholderiales.f__Comamonadaceae.g__Methylibium.s__ | ... | k__Bacteria.p__Proteobacteria.c__Betaproteobacteria.o__Burkholderiales.f__Comamonadaceae.g__Rhodoferax.s__.4 | k__Bacteria.p__Proteobacteria.c__Gammaproteobacteria.o__Xanthomonadales.f__Xanthomonadaceae.g__Dokdonella.s__.9 | k__Bacteria.p__Firmicutes.c__Bacilli.o__Lactobacillales.f__Streptococcaceae.g__Streptococcus.s__.9 | k__Bacteria.p__Proteobacteria.c__Betaproteobacteria.o__Methylophilales.f__Methylophilaceae.g__Methylotenera.s__mobilis.2 | k__Bacteria.p__Actinobacteria.c__Actinobacteria.o__Actinomycetales.f__Streptomycetaceae.g__Streptomyces.s__.44 | k__Bacteria.p__Proteobacteria.c__Gammaproteobacteria.o__Xanthomonadales.f__Xanthomonadaceae.g__Luteimonas.s__.2 | k__Bacteria.p__Proteobacteria.c__Alphaproteobacteria.o__Rhizobiales.f__Hyphomicrobiaceae.g__Rhodoplanes.s__.142 | k__Bacteria.p__Firmicutes.c__Bacilli.o__Bacillales.f__Planococcaceae.g__Solibacillus.s__.3 | k__Bacteria.p__Proteobacteria.c__Betaproteobacteria.o__Burkholderiales.f__Comamonadaceae.g__Ramlibacter.s__.9 | k__Bacteria.p__Actinobacteria.c__Actinobacteria.o__Actinomycetales.f__Mycobacteriaceae.g__Mycobacterium.s__.28 |\n",
       "|---|---|---|---|---|---|---|---|---|---|---|---|---|---|---|---|---|---|---|---|---|---|\n",
       "| 103.CA2 | -7.828436 | -7.828436 | -7.828436 | -7.828436 | -7.828436 | -7.828436 | -7.828436 | -7.828436 | -7.828436 | -7.828436 | ...       | -7.828436 | -7.828436 | -7.828436 | -7.828436 | -7.828436 | -7.828436 | -7.828436 | -7.828436 | -7.828436 | -7.828436 |\n",
       "| 103.CO3 | -7.892452 | -7.892452 | -7.892452 | -7.892452 | -7.892452 | -7.892452 | -7.892452 | -7.892452 | -7.892452 | -7.892452 | ...       | -7.892452 | -7.892452 | -7.892452 | -7.892452 | -7.892452 | -7.892452 | -7.892452 | -7.892452 | -7.892452 | -7.199305 |\n",
       "| 103.SR3 | -7.942718 | -7.942718 | -7.942718 | -7.942718 | -7.942718 | -7.942718 | -7.942718 | -7.942718 | -7.942718 | -7.942718 | ...       | -7.942718 | -7.249570 | -7.942718 | -7.942718 | -7.942718 | -7.942718 | -7.942718 | -7.942718 | -7.249570 | -7.249570 |\n",
       "| 103.IE2 | -7.208230 | -7.901377 | -7.901377 | -7.901377 | -7.901377 | -7.901377 | -7.901377 | -7.901377 | -7.901377 | -7.901377 | ...       | -7.901377 | -7.901377 | -7.901377 | -7.901377 | -7.901377 | -7.901377 | -6.515083 | -7.901377 | -7.901377 | -7.208230 |\n",
       "| 103.BP1 | -7.781139 | -7.781139 | -7.781139 | -7.781139 | -7.781139 | -7.781139 | -7.781139 | -7.781139 | -7.781139 | -7.781139 | ...       | -7.781139 | -7.781139 | -7.781139 | -7.781139 | -7.781139 | -7.781139 | -7.781139 | -7.781139 | -7.781139 | -7.087991 |\n",
       "| 103.VC2 | -7.825645 | -7.825645 | -7.825645 | -7.825645 | -7.825645 | -7.825645 | -7.825645 | -7.825645 | -7.825645 | -6.439350 | ...       | -7.825645 | -7.825645 | -7.825645 | -7.825645 | -7.825645 | -7.825645 | -7.825645 | -7.825645 | -7.825645 | -7.132498 |\n",
       "\n"
      ],
      "text/plain": [
       "        k__Bacteria.p__Firmicutes.c__Bacilli.o__Bacillales.f__Paenibacillaceae.g__Paenibacillus.s__\n",
       "103.CA2 -7.828436                                                                                  \n",
       "103.CO3 -7.892452                                                                                  \n",
       "103.SR3 -7.942718                                                                                  \n",
       "103.IE2 -7.208230                                                                                  \n",
       "103.BP1 -7.781139                                                                                  \n",
       "103.VC2 -7.825645                                                                                  \n",
       "        k__Bacteria.p__Firmicutes.c__Bacilli.o__Bacillales.f__Bacillaceae.g__Bacillus.s__muralis\n",
       "103.CA2 -7.828436                                                                               \n",
       "103.CO3 -7.892452                                                                               \n",
       "103.SR3 -7.942718                                                                               \n",
       "103.IE2 -7.901377                                                                               \n",
       "103.BP1 -7.781139                                                                               \n",
       "103.VC2 -7.825645                                                                               \n",
       "        k__Bacteria.p__Proteobacteria.c__Alphaproteobacteria.o__Sphingomonadales.f__Sphingomonadaceae.g__Novosphingobium.s__\n",
       "103.CA2 -7.828436                                                                                                           \n",
       "103.CO3 -7.892452                                                                                                           \n",
       "103.SR3 -7.942718                                                                                                           \n",
       "103.IE2 -7.901377                                                                                                           \n",
       "103.BP1 -7.781139                                                                                                           \n",
       "103.VC2 -7.825645                                                                                                           \n",
       "        k__Bacteria.p__Acidobacteria.c__Solibacteres.o__Solibacterales.f__Solibacteraceae.g__Candidatus.Solibacter.s__\n",
       "103.CA2 -7.828436                                                                                                     \n",
       "103.CO3 -7.892452                                                                                                     \n",
       "103.SR3 -7.942718                                                                                                     \n",
       "103.IE2 -7.901377                                                                                                     \n",
       "103.BP1 -7.781139                                                                                                     \n",
       "103.VC2 -7.825645                                                                                                     \n",
       "        k__Bacteria.p__Proteobacteria.c__Alphaproteobacteria.o__Rhizobiales.f__Hyphomicrobiaceae.g__Rhodoplanes.s__\n",
       "103.CA2 -7.828436                                                                                                  \n",
       "103.CO3 -7.892452                                                                                                  \n",
       "103.SR3 -7.942718                                                                                                  \n",
       "103.IE2 -7.901377                                                                                                  \n",
       "103.BP1 -7.781139                                                                                                  \n",
       "103.VC2 -7.825645                                                                                                  \n",
       "        k__Bacteria.p__Actinobacteria.c__Actinobacteria.o__Actinomycetales.f__Nocardioidaceae.g__Nocardioides.s__\n",
       "103.CA2 -7.828436                                                                                                \n",
       "103.CO3 -7.892452                                                                                                \n",
       "103.SR3 -7.942718                                                                                                \n",
       "103.IE2 -7.901377                                                                                                \n",
       "103.BP1 -7.781139                                                                                                \n",
       "103.VC2 -7.825645                                                                                                \n",
       "        k__Bacteria.p__Bacteroidetes.c__Flavobacteriia.o__Flavobacteriales.f__Flavobacteriaceae.g__Flavobacterium.s__\n",
       "103.CA2 -7.828436                                                                                                    \n",
       "103.CO3 -7.892452                                                                                                    \n",
       "103.SR3 -7.942718                                                                                                    \n",
       "103.IE2 -7.901377                                                                                                    \n",
       "103.BP1 -7.781139                                                                                                    \n",
       "103.VC2 -7.825645                                                                                                    \n",
       "        k__Bacteria.p__Firmicutes.c__Clostridia.o__Clostridiales.f__Peptococcaceae.g__Desulfotomaculum.s__\n",
       "103.CA2 -7.828436                                                                                         \n",
       "103.CO3 -7.892452                                                                                         \n",
       "103.SR3 -7.942718                                                                                         \n",
       "103.IE2 -7.901377                                                                                         \n",
       "103.BP1 -7.781139                                                                                         \n",
       "103.VC2 -7.825645                                                                                         \n",
       "        k__Bacteria.p__Acidobacteria.c__Acidobacteriia.o__Acidobacteriales.f__Koribacteraceae.g__Candidatus.Koribacter.s__\n",
       "103.CA2 -7.828436                                                                                                         \n",
       "103.CO3 -7.892452                                                                                                         \n",
       "103.SR3 -7.942718                                                                                                         \n",
       "103.IE2 -7.901377                                                                                                         \n",
       "103.BP1 -7.781139                                                                                                         \n",
       "103.VC2 -7.825645                                                                                                         \n",
       "        k__Bacteria.p__Proteobacteria.c__Betaproteobacteria.o__Burkholderiales.f__Comamonadaceae.g__Methylibium.s__\n",
       "103.CA2 -7.828436                                                                                                  \n",
       "103.CO3 -7.892452                                                                                                  \n",
       "103.SR3 -7.942718                                                                                                  \n",
       "103.IE2 -7.901377                                                                                                  \n",
       "103.BP1 -7.781139                                                                                                  \n",
       "103.VC2 -6.439350                                                                                                  \n",
       "        ...\n",
       "103.CA2 ...\n",
       "103.CO3 ...\n",
       "103.SR3 ...\n",
       "103.IE2 ...\n",
       "103.BP1 ...\n",
       "103.VC2 ...\n",
       "        k__Bacteria.p__Proteobacteria.c__Betaproteobacteria.o__Burkholderiales.f__Comamonadaceae.g__Rhodoferax.s__.4\n",
       "103.CA2 -7.828436                                                                                                   \n",
       "103.CO3 -7.892452                                                                                                   \n",
       "103.SR3 -7.942718                                                                                                   \n",
       "103.IE2 -7.901377                                                                                                   \n",
       "103.BP1 -7.781139                                                                                                   \n",
       "103.VC2 -7.825645                                                                                                   \n",
       "        k__Bacteria.p__Proteobacteria.c__Gammaproteobacteria.o__Xanthomonadales.f__Xanthomonadaceae.g__Dokdonella.s__.9\n",
       "103.CA2 -7.828436                                                                                                      \n",
       "103.CO3 -7.892452                                                                                                      \n",
       "103.SR3 -7.249570                                                                                                      \n",
       "103.IE2 -7.901377                                                                                                      \n",
       "103.BP1 -7.781139                                                                                                      \n",
       "103.VC2 -7.825645                                                                                                      \n",
       "        k__Bacteria.p__Firmicutes.c__Bacilli.o__Lactobacillales.f__Streptococcaceae.g__Streptococcus.s__.9\n",
       "103.CA2 -7.828436                                                                                         \n",
       "103.CO3 -7.892452                                                                                         \n",
       "103.SR3 -7.942718                                                                                         \n",
       "103.IE2 -7.901377                                                                                         \n",
       "103.BP1 -7.781139                                                                                         \n",
       "103.VC2 -7.825645                                                                                         \n",
       "        k__Bacteria.p__Proteobacteria.c__Betaproteobacteria.o__Methylophilales.f__Methylophilaceae.g__Methylotenera.s__mobilis.2\n",
       "103.CA2 -7.828436                                                                                                               \n",
       "103.CO3 -7.892452                                                                                                               \n",
       "103.SR3 -7.942718                                                                                                               \n",
       "103.IE2 -7.901377                                                                                                               \n",
       "103.BP1 -7.781139                                                                                                               \n",
       "103.VC2 -7.825645                                                                                                               \n",
       "        k__Bacteria.p__Actinobacteria.c__Actinobacteria.o__Actinomycetales.f__Streptomycetaceae.g__Streptomyces.s__.44\n",
       "103.CA2 -7.828436                                                                                                     \n",
       "103.CO3 -7.892452                                                                                                     \n",
       "103.SR3 -7.942718                                                                                                     \n",
       "103.IE2 -7.901377                                                                                                     \n",
       "103.BP1 -7.781139                                                                                                     \n",
       "103.VC2 -7.825645                                                                                                     \n",
       "        k__Bacteria.p__Proteobacteria.c__Gammaproteobacteria.o__Xanthomonadales.f__Xanthomonadaceae.g__Luteimonas.s__.2\n",
       "103.CA2 -7.828436                                                                                                      \n",
       "103.CO3 -7.892452                                                                                                      \n",
       "103.SR3 -7.942718                                                                                                      \n",
       "103.IE2 -7.901377                                                                                                      \n",
       "103.BP1 -7.781139                                                                                                      \n",
       "103.VC2 -7.825645                                                                                                      \n",
       "        k__Bacteria.p__Proteobacteria.c__Alphaproteobacteria.o__Rhizobiales.f__Hyphomicrobiaceae.g__Rhodoplanes.s__.142\n",
       "103.CA2 -7.828436                                                                                                      \n",
       "103.CO3 -7.892452                                                                                                      \n",
       "103.SR3 -7.942718                                                                                                      \n",
       "103.IE2 -6.515083                                                                                                      \n",
       "103.BP1 -7.781139                                                                                                      \n",
       "103.VC2 -7.825645                                                                                                      \n",
       "        k__Bacteria.p__Firmicutes.c__Bacilli.o__Bacillales.f__Planococcaceae.g__Solibacillus.s__.3\n",
       "103.CA2 -7.828436                                                                                 \n",
       "103.CO3 -7.892452                                                                                 \n",
       "103.SR3 -7.942718                                                                                 \n",
       "103.IE2 -7.901377                                                                                 \n",
       "103.BP1 -7.781139                                                                                 \n",
       "103.VC2 -7.825645                                                                                 \n",
       "        k__Bacteria.p__Proteobacteria.c__Betaproteobacteria.o__Burkholderiales.f__Comamonadaceae.g__Ramlibacter.s__.9\n",
       "103.CA2 -7.828436                                                                                                    \n",
       "103.CO3 -7.892452                                                                                                    \n",
       "103.SR3 -7.249570                                                                                                    \n",
       "103.IE2 -7.901377                                                                                                    \n",
       "103.BP1 -7.781139                                                                                                    \n",
       "103.VC2 -7.825645                                                                                                    \n",
       "        k__Bacteria.p__Actinobacteria.c__Actinobacteria.o__Actinomycetales.f__Mycobacteriaceae.g__Mycobacterium.s__.28\n",
       "103.CA2 -7.828436                                                                                                     \n",
       "103.CO3 -7.199305                                                                                                     \n",
       "103.SR3 -7.249570                                                                                                     \n",
       "103.IE2 -7.208230                                                                                                     \n",
       "103.BP1 -7.087991                                                                                                     \n",
       "103.VC2 -7.132498                                                                                                     "
      ]
     },
     "metadata": {},
     "output_type": "display_data"
    }
   ],
   "source": [
    "# add pesudo count 0.5\n",
    "x = count # preprossed done already\n",
    "x[x == 0] <- 0.5\n",
    "x <- x/rowSums(x) # relative abundance\n",
    "taxa <- log(x)\n",
    "dim(taxa)\n",
    "head(taxa)"
   ]
  },
  {
   "cell_type": "code",
   "execution_count": 19,
   "metadata": {},
   "outputs": [
    {
     "data": {
      "text/html": [
       "<ol class=list-inline>\n",
       "\t<li>'BarcodeSequence'</li>\n",
       "\t<li>'LinkerPrimerSequence'</li>\n",
       "\t<li>'barcode_read_group_tag'</li>\n",
       "\t<li>'dna_extracted_prep'</li>\n",
       "\t<li>'experiment_alias'</li>\n",
       "\t<li>'experiment_center'</li>\n",
       "\t<li>'experiment_design_description'</li>\n",
       "\t<li>'experiment_title'</li>\n",
       "\t<li>'instrument_name'</li>\n",
       "\t<li>'key_seq'</li>\n",
       "\t<li>'library_construction_protocol'</li>\n",
       "\t<li>'linker'</li>\n",
       "\t<li>'pcr_primers'</li>\n",
       "\t<li>'physical_specimen_remaining_prep'</li>\n",
       "\t<li>'platform'</li>\n",
       "\t<li>'pool_member_name'</li>\n",
       "\t<li>'pool_proportion'</li>\n",
       "\t<li>'primer_read_group_tag'</li>\n",
       "\t<li>'region'</li>\n",
       "\t<li>'run_alias'</li>\n",
       "\t<li>'run_center'</li>\n",
       "\t<li>'run_date'</li>\n",
       "\t<li>'run_prefix'</li>\n",
       "\t<li>'samp_size'</li>\n",
       "\t<li>'sample_center'</li>\n",
       "\t<li>'sample_type_prep'</li>\n",
       "\t<li>'sequencing_meth'</li>\n",
       "\t<li>'study_center'</li>\n",
       "\t<li>'study_ref'</li>\n",
       "\t<li>'target_gene'</li>\n",
       "\t<li>'target_subfragment'</li>\n",
       "\t<li>'altitude'</li>\n",
       "\t<li>'annual_season_precpt'</li>\n",
       "\t<li>'annual_season_temp'</li>\n",
       "\t<li>'anonymized_name'</li>\n",
       "\t<li>'assigned_from_geo'</li>\n",
       "\t<li>'carb_nitro_ratio'</li>\n",
       "\t<li>'cmin_rate'</li>\n",
       "\t<li>'collection_date'</li>\n",
       "\t<li>'common_name'</li>\n",
       "\t<li>'country'</li>\n",
       "\t<li>'depth'</li>\n",
       "\t<li>'dna_extracted'</li>\n",
       "\t<li>'elevation'</li>\n",
       "\t<li>'env_biome'</li>\n",
       "\t<li>'env_feature'</li>\n",
       "\t<li>'env_matter'</li>\n",
       "\t<li>'host_subject_id'</li>\n",
       "\t<li>'latitude'</li>\n",
       "\t<li>'longitude'</li>\n",
       "\t<li>'ph'</li>\n",
       "\t<li>'physical_specimen_remaining'</li>\n",
       "\t<li>'project_name'</li>\n",
       "\t<li>'public'</li>\n",
       "\t<li>'sample_type'</li>\n",
       "\t<li>'silt_clay'</li>\n",
       "\t<li>'soil_moisture_deficit'</li>\n",
       "\t<li>'soil_type'</li>\n",
       "\t<li>'specific_location'</li>\n",
       "\t<li>'taxon_id'</li>\n",
       "\t<li>'texture'</li>\n",
       "\t<li>'title'</li>\n",
       "\t<li>'tot_org_carb'</li>\n",
       "\t<li>'tot_org_nitro'</li>\n",
       "\t<li>'Description'</li>\n",
       "\t<li>'ph2'</li>\n",
       "\t<li>'ph3'</li>\n",
       "\t<li>'ph4'</li>\n",
       "\t<li>'ph_rounded'</li>\n",
       "</ol>\n"
      ],
      "text/latex": [
       "\\begin{enumerate*}\n",
       "\\item 'BarcodeSequence'\n",
       "\\item 'LinkerPrimerSequence'\n",
       "\\item 'barcode\\_read\\_group\\_tag'\n",
       "\\item 'dna\\_extracted\\_prep'\n",
       "\\item 'experiment\\_alias'\n",
       "\\item 'experiment\\_center'\n",
       "\\item 'experiment\\_design\\_description'\n",
       "\\item 'experiment\\_title'\n",
       "\\item 'instrument\\_name'\n",
       "\\item 'key\\_seq'\n",
       "\\item 'library\\_construction\\_protocol'\n",
       "\\item 'linker'\n",
       "\\item 'pcr\\_primers'\n",
       "\\item 'physical\\_specimen\\_remaining\\_prep'\n",
       "\\item 'platform'\n",
       "\\item 'pool\\_member\\_name'\n",
       "\\item 'pool\\_proportion'\n",
       "\\item 'primer\\_read\\_group\\_tag'\n",
       "\\item 'region'\n",
       "\\item 'run\\_alias'\n",
       "\\item 'run\\_center'\n",
       "\\item 'run\\_date'\n",
       "\\item 'run\\_prefix'\n",
       "\\item 'samp\\_size'\n",
       "\\item 'sample\\_center'\n",
       "\\item 'sample\\_type\\_prep'\n",
       "\\item 'sequencing\\_meth'\n",
       "\\item 'study\\_center'\n",
       "\\item 'study\\_ref'\n",
       "\\item 'target\\_gene'\n",
       "\\item 'target\\_subfragment'\n",
       "\\item 'altitude'\n",
       "\\item 'annual\\_season\\_precpt'\n",
       "\\item 'annual\\_season\\_temp'\n",
       "\\item 'anonymized\\_name'\n",
       "\\item 'assigned\\_from\\_geo'\n",
       "\\item 'carb\\_nitro\\_ratio'\n",
       "\\item 'cmin\\_rate'\n",
       "\\item 'collection\\_date'\n",
       "\\item 'common\\_name'\n",
       "\\item 'country'\n",
       "\\item 'depth'\n",
       "\\item 'dna\\_extracted'\n",
       "\\item 'elevation'\n",
       "\\item 'env\\_biome'\n",
       "\\item 'env\\_feature'\n",
       "\\item 'env\\_matter'\n",
       "\\item 'host\\_subject\\_id'\n",
       "\\item 'latitude'\n",
       "\\item 'longitude'\n",
       "\\item 'ph'\n",
       "\\item 'physical\\_specimen\\_remaining'\n",
       "\\item 'project\\_name'\n",
       "\\item 'public'\n",
       "\\item 'sample\\_type'\n",
       "\\item 'silt\\_clay'\n",
       "\\item 'soil\\_moisture\\_deficit'\n",
       "\\item 'soil\\_type'\n",
       "\\item 'specific\\_location'\n",
       "\\item 'taxon\\_id'\n",
       "\\item 'texture'\n",
       "\\item 'title'\n",
       "\\item 'tot\\_org\\_carb'\n",
       "\\item 'tot\\_org\\_nitro'\n",
       "\\item 'Description'\n",
       "\\item 'ph2'\n",
       "\\item 'ph3'\n",
       "\\item 'ph4'\n",
       "\\item 'ph\\_rounded'\n",
       "\\end{enumerate*}\n"
      ],
      "text/markdown": [
       "1. 'BarcodeSequence'\n",
       "2. 'LinkerPrimerSequence'\n",
       "3. 'barcode_read_group_tag'\n",
       "4. 'dna_extracted_prep'\n",
       "5. 'experiment_alias'\n",
       "6. 'experiment_center'\n",
       "7. 'experiment_design_description'\n",
       "8. 'experiment_title'\n",
       "9. 'instrument_name'\n",
       "10. 'key_seq'\n",
       "11. 'library_construction_protocol'\n",
       "12. 'linker'\n",
       "13. 'pcr_primers'\n",
       "14. 'physical_specimen_remaining_prep'\n",
       "15. 'platform'\n",
       "16. 'pool_member_name'\n",
       "17. 'pool_proportion'\n",
       "18. 'primer_read_group_tag'\n",
       "19. 'region'\n",
       "20. 'run_alias'\n",
       "21. 'run_center'\n",
       "22. 'run_date'\n",
       "23. 'run_prefix'\n",
       "24. 'samp_size'\n",
       "25. 'sample_center'\n",
       "26. 'sample_type_prep'\n",
       "27. 'sequencing_meth'\n",
       "28. 'study_center'\n",
       "29. 'study_ref'\n",
       "30. 'target_gene'\n",
       "31. 'target_subfragment'\n",
       "32. 'altitude'\n",
       "33. 'annual_season_precpt'\n",
       "34. 'annual_season_temp'\n",
       "35. 'anonymized_name'\n",
       "36. 'assigned_from_geo'\n",
       "37. 'carb_nitro_ratio'\n",
       "38. 'cmin_rate'\n",
       "39. 'collection_date'\n",
       "40. 'common_name'\n",
       "41. 'country'\n",
       "42. 'depth'\n",
       "43. 'dna_extracted'\n",
       "44. 'elevation'\n",
       "45. 'env_biome'\n",
       "46. 'env_feature'\n",
       "47. 'env_matter'\n",
       "48. 'host_subject_id'\n",
       "49. 'latitude'\n",
       "50. 'longitude'\n",
       "51. 'ph'\n",
       "52. 'physical_specimen_remaining'\n",
       "53. 'project_name'\n",
       "54. 'public'\n",
       "55. 'sample_type'\n",
       "56. 'silt_clay'\n",
       "57. 'soil_moisture_deficit'\n",
       "58. 'soil_type'\n",
       "59. 'specific_location'\n",
       "60. 'taxon_id'\n",
       "61. 'texture'\n",
       "62. 'title'\n",
       "63. 'tot_org_carb'\n",
       "64. 'tot_org_nitro'\n",
       "65. 'Description'\n",
       "66. 'ph2'\n",
       "67. 'ph3'\n",
       "68. 'ph4'\n",
       "69. 'ph_rounded'\n",
       "\n",
       "\n"
      ],
      "text/plain": [
       " [1] \"BarcodeSequence\"                  \"LinkerPrimerSequence\"            \n",
       " [3] \"barcode_read_group_tag\"           \"dna_extracted_prep\"              \n",
       " [5] \"experiment_alias\"                 \"experiment_center\"               \n",
       " [7] \"experiment_design_description\"    \"experiment_title\"                \n",
       " [9] \"instrument_name\"                  \"key_seq\"                         \n",
       "[11] \"library_construction_protocol\"    \"linker\"                          \n",
       "[13] \"pcr_primers\"                      \"physical_specimen_remaining_prep\"\n",
       "[15] \"platform\"                         \"pool_member_name\"                \n",
       "[17] \"pool_proportion\"                  \"primer_read_group_tag\"           \n",
       "[19] \"region\"                           \"run_alias\"                       \n",
       "[21] \"run_center\"                       \"run_date\"                        \n",
       "[23] \"run_prefix\"                       \"samp_size\"                       \n",
       "[25] \"sample_center\"                    \"sample_type_prep\"                \n",
       "[27] \"sequencing_meth\"                  \"study_center\"                    \n",
       "[29] \"study_ref\"                        \"target_gene\"                     \n",
       "[31] \"target_subfragment\"               \"altitude\"                        \n",
       "[33] \"annual_season_precpt\"             \"annual_season_temp\"              \n",
       "[35] \"anonymized_name\"                  \"assigned_from_geo\"               \n",
       "[37] \"carb_nitro_ratio\"                 \"cmin_rate\"                       \n",
       "[39] \"collection_date\"                  \"common_name\"                     \n",
       "[41] \"country\"                          \"depth\"                           \n",
       "[43] \"dna_extracted\"                    \"elevation\"                       \n",
       "[45] \"env_biome\"                        \"env_feature\"                     \n",
       "[47] \"env_matter\"                       \"host_subject_id\"                 \n",
       "[49] \"latitude\"                         \"longitude\"                       \n",
       "[51] \"ph\"                               \"physical_specimen_remaining\"     \n",
       "[53] \"project_name\"                     \"public\"                          \n",
       "[55] \"sample_type\"                      \"silt_clay\"                       \n",
       "[57] \"soil_moisture_deficit\"            \"soil_type\"                       \n",
       "[59] \"specific_location\"                \"taxon_id\"                        \n",
       "[61] \"texture\"                          \"title\"                           \n",
       "[63] \"tot_org_carb\"                     \"tot_org_nitro\"                   \n",
       "[65] \"Description\"                      \"ph2\"                             \n",
       "[67] \"ph3\"                              \"ph4\"                             \n",
       "[69] \"ph_rounded\"                      "
      ]
     },
     "metadata": {},
     "output_type": "display_data"
    }
   ],
   "source": [
    "colnames(demo)"
   ]
  },
  {
   "cell_type": "code",
   "execution_count": 20,
   "metadata": {},
   "outputs": [
    {
     "data": {
      "text/html": [
       "89"
      ],
      "text/latex": [
       "89"
      ],
      "text/markdown": [
       "89"
      ],
      "text/plain": [
       "[1] 89"
      ]
     },
     "metadata": {},
     "output_type": "display_data"
    },
    {
     "data": {
      "text/html": [
       "<ol class=list-inline>\n",
       "\t<li>8.02</li>\n",
       "\t<li>6.02</li>\n",
       "\t<li>6.95</li>\n",
       "\t<li>5.52</li>\n",
       "\t<li>7.53</li>\n",
       "\t<li>5.99</li>\n",
       "</ol>\n"
      ],
      "text/latex": [
       "\\begin{enumerate*}\n",
       "\\item 8.02\n",
       "\\item 6.02\n",
       "\\item 6.95\n",
       "\\item 5.52\n",
       "\\item 7.53\n",
       "\\item 5.99\n",
       "\\end{enumerate*}\n"
      ],
      "text/markdown": [
       "1. 8.02\n",
       "2. 6.02\n",
       "3. 6.95\n",
       "4. 5.52\n",
       "5. 7.53\n",
       "6. 5.99\n",
       "\n",
       "\n"
      ],
      "text/plain": [
       "[1] 8.02 6.02 6.95 5.52 7.53 5.99"
      ]
     },
     "metadata": {},
     "output_type": "display_data"
    }
   ],
   "source": [
    "# metadata\n",
    "mf <- read.csv(\"../data_application/88soils/88soils_modified_metadata.txt\", sep='\\t', row.names=1)\n",
    "y <- mf$ph[match(rownames(count), rownames(mf))]\n",
    "length(y)\n",
    "head(y)"
   ]
  },
  {
   "cell_type": "code",
   "execution_count": 21,
   "metadata": {},
   "outputs": [
    {
     "data": {
      "text/html": [
       "'matrix'"
      ],
      "text/latex": [
       "'matrix'"
      ],
      "text/markdown": [
       "'matrix'"
      ],
      "text/plain": [
       "[1] \"matrix\""
      ]
     },
     "metadata": {},
     "output_type": "display_data"
    },
    {
     "data": {
      "text/html": [
       "'numeric'"
      ],
      "text/latex": [
       "'numeric'"
      ],
      "text/markdown": [
       "'numeric'"
      ],
      "text/plain": [
       "[1] \"numeric\""
      ]
     },
     "metadata": {},
     "output_type": "display_data"
    }
   ],
   "source": [
    "# check datatype\n",
    "class(taxa); class(y)"
   ]
  },
  {
   "cell_type": "code",
   "execution_count": 23,
   "metadata": {},
   "outputs": [],
   "source": [
    "# save processed data\n",
    "save(y, taxa, file='../data_application/88soils/soils_ph.RData')"
   ]
  },
  {
   "cell_type": "markdown",
   "metadata": {},
   "source": [
    "### rough parameter ranges for this dataset"
   ]
  },
  {
   "cell_type": "code",
   "execution_count": 10,
   "metadata": {},
   "outputs": [],
   "source": [
    "load('../data_application/88soils/soils_ph.RData')"
   ]
  },
  {
   "cell_type": "code",
   "execution_count": 26,
   "metadata": {},
   "outputs": [],
   "source": [
    "## random forest\n",
    "library(ranger)"
   ]
  },
  {
   "cell_type": "code",
   "execution_count": 27,
   "metadata": {},
   "outputs": [
    {
     "data": {
      "text/plain": [
       "Ranger result\n",
       "\n",
       "Call:\n",
       " ranger(y ~ ., data = data) \n",
       "\n",
       "Type:                             Regression \n",
       "Number of trees:                  500 \n",
       "Sample size:                      89 \n",
       "Number of independent variables:  2183 \n",
       "Mtry:                             46 \n",
       "Target node size:                 5 \n",
       "Variable importance mode:         none \n",
       "Splitrule:                        variance \n",
       "OOB prediction error (MSE):       0.5718106 \n",
       "R squared (OOB):                  0.725152 "
      ]
     },
     "metadata": {},
     "output_type": "display_data"
    }
   ],
   "source": [
    "data = as.data.frame(cbind(y, taxa)) \n",
    "rf.fit = ranger(y ~ ., data=data)\n",
    "rf.fit # change mtry to seq(30, 60, 5)"
   ]
  },
  {
   "cell_type": "code",
   "execution_count": null,
   "metadata": {},
   "outputs": [],
   "source": []
  }
 ],
 "metadata": {
  "kernelspec": {
   "display_name": "R",
   "language": "R",
   "name": "ir"
  },
  "language_info": {
   "codemirror_mode": "r",
   "file_extension": ".r",
   "mimetype": "text/x-r-source",
   "name": "R",
   "pygments_lexer": "r",
   "version": "3.6.1"
  }
 },
 "nbformat": 4,
 "nbformat_minor": 2
}
