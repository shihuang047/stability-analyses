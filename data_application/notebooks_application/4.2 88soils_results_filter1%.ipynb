{
 "cells": [
  {
   "cell_type": "code",
   "execution_count": 2,
   "metadata": {},
   "outputs": [],
   "source": [
    "load('../data_application/88soils/filter_onepercent/soils_ph_compLasso.RData')\n",
    "load('../data_application/88soils/filter_onepercent/soils_ph_elnet.RData')\n",
    "load('../data_application/88soils/filter_onepercent/soils_ph_lasso.RData')\n",
    "load('../data_application/88soils/filter_onepercent/soils_ph_rf.RData')"
   ]
  },
  {
   "cell_type": "code",
   "execution_count": 3,
   "metadata": {},
   "outputs": [
    {
     "data": {
      "text/html": [
       "<ol class=list-inline>\n",
       "\t<li>0.39</li>\n",
       "\t<li>0.46</li>\n",
       "</ol>\n"
      ],
      "text/latex": [
       "\\begin{enumerate*}\n",
       "\\item 0.39\n",
       "\\item 0.46\n",
       "\\end{enumerate*}\n"
      ],
      "text/markdown": [
       "1. 0.39\n",
       "2. 0.46\n",
       "\n",
       "\n"
      ],
      "text/plain": [
       "[1] 0.39 0.46"
      ]
     },
     "metadata": {},
     "output_type": "display_data"
    }
   ],
   "source": [
    "c(out_compLasso$stab_index, out_compLasso$MSE_mean)"
   ]
  },
  {
   "cell_type": "code",
   "execution_count": 4,
   "metadata": {},
   "outputs": [
    {
     "data": {
      "text/html": [
       "<ol class=list-inline>\n",
       "\t<li>0.31</li>\n",
       "\t<li>0.34</li>\n",
       "</ol>\n"
      ],
      "text/latex": [
       "\\begin{enumerate*}\n",
       "\\item 0.31\n",
       "\\item 0.34\n",
       "\\end{enumerate*}\n"
      ],
      "text/markdown": [
       "1. 0.31\n",
       "2. 0.34\n",
       "\n",
       "\n"
      ],
      "text/plain": [
       "[1] 0.31 0.34"
      ]
     },
     "metadata": {},
     "output_type": "display_data"
    }
   ],
   "source": [
    "c(out_lasso$stab_index, out_lasso$MSE_mean) "
   ]
  },
  {
   "cell_type": "code",
   "execution_count": 5,
   "metadata": {},
   "outputs": [
    {
     "data": {
      "text/html": [
       "<ol class=list-inline>\n",
       "\t<li>0.16</li>\n",
       "\t<li>0.23</li>\n",
       "</ol>\n"
      ],
      "text/latex": [
       "\\begin{enumerate*}\n",
       "\\item 0.16\n",
       "\\item 0.23\n",
       "\\end{enumerate*}\n"
      ],
      "text/markdown": [
       "1. 0.16\n",
       "2. 0.23\n",
       "\n",
       "\n"
      ],
      "text/plain": [
       "[1] 0.16 0.23"
      ]
     },
     "metadata": {},
     "output_type": "display_data"
    }
   ],
   "source": [
    "c(out_elnet$stab_index, out_elnet$MSE_mean)"
   ]
  },
  {
   "cell_type": "code",
   "execution_count": 6,
   "metadata": {},
   "outputs": [
    {
     "data": {
      "text/html": [
       "<ol class=list-inline>\n",
       "\t<li>0.04</li>\n",
       "\t<li>0.26</li>\n",
       "</ol>\n"
      ],
      "text/latex": [
       "\\begin{enumerate*}\n",
       "\\item 0.04\n",
       "\\item 0.26\n",
       "\\end{enumerate*}\n"
      ],
      "text/markdown": [
       "1. 0.04\n",
       "2. 0.26\n",
       "\n",
       "\n"
      ],
      "text/plain": [
       "[1] 0.04 0.26"
      ]
     },
     "metadata": {},
     "output_type": "display_data"
    }
   ],
   "source": [
    "c(out_rf$stab_index, out_rf$MSE_mean)"
   ]
  },
  {
   "cell_type": "code",
   "execution_count": 7,
   "metadata": {},
   "outputs": [
    {
     "data": {
      "text/html": [
       "<table>\n",
       "<thead><tr><th scope=col>dataset</th><th scope=col>method</th><th scope=col>mse</th><th scope=col>stability</th></tr></thead>\n",
       "<tbody>\n",
       "\t<tr><td>soil_88  </td><td>lasso    </td><td>0.34     </td><td>0.31     </td></tr>\n",
       "\t<tr><td>soil_88  </td><td>elent    </td><td>0.23     </td><td>0.16     </td></tr>\n",
       "\t<tr><td>soil_88  </td><td>rf       </td><td>0.26     </td><td>0.04     </td></tr>\n",
       "\t<tr><td>soil_88  </td><td>compLasso</td><td>0.46     </td><td>0.39     </td></tr>\n",
       "</tbody>\n",
       "</table>\n"
      ],
      "text/latex": [
       "\\begin{tabular}{r|llll}\n",
       " dataset & method & mse & stability\\\\\n",
       "\\hline\n",
       "\t soil\\_88 & lasso     & 0.34      & 0.31     \\\\\n",
       "\t soil\\_88 & elent     & 0.23      & 0.16     \\\\\n",
       "\t soil\\_88 & rf        & 0.26      & 0.04     \\\\\n",
       "\t soil\\_88 & compLasso & 0.46      & 0.39     \\\\\n",
       "\\end{tabular}\n"
      ],
      "text/markdown": [
       "\n",
       "| dataset | method | mse | stability |\n",
       "|---|---|---|---|\n",
       "| soil_88   | lasso     | 0.34      | 0.31      |\n",
       "| soil_88   | elent     | 0.23      | 0.16      |\n",
       "| soil_88   | rf        | 0.26      | 0.04      |\n",
       "| soil_88   | compLasso | 0.46      | 0.39      |\n",
       "\n"
      ],
      "text/plain": [
       "  dataset method    mse  stability\n",
       "1 soil_88 lasso     0.34 0.31     \n",
       "2 soil_88 elent     0.23 0.16     \n",
       "3 soil_88 rf        0.26 0.04     \n",
       "4 soil_88 compLasso 0.46 0.39     "
      ]
     },
     "metadata": {},
     "output_type": "display_data"
    }
   ],
   "source": [
    "# combine and export results\n",
    "soil_88 = as.data.frame(matrix(NA, nrow=4, ncol=4))\n",
    "colnames(soil_88) = c('dataset', 'method', 'mse', 'stability')\n",
    "soil_88$dataset = 'soil_88'\n",
    "soil_88$method = c('lasso', 'elent', 'rf', 'compLasso')\n",
    "soil_88$mse = c(out_lasso$MSE_mean, out_elnet$MSE_mean, out_rf$MSE_mean, out_compLasso$MSE_mean)\n",
    "soil_88$stability = c(out_lasso$stab_index, out_elnet$stab_index, out_rf$stab_index, out_compLasso$stab_index)\n",
    "soil_88\n",
    "#write.table(soil_88, file='../data_application/88soils/filter_onepercent/table_soil_88.txt', sep='\\t', row.names=F)"
   ]
  },
  {
   "cell_type": "markdown",
   "metadata": {},
   "source": [
    "### add selection probability for each feature selection methods"
   ]
  },
  {
   "cell_type": "code",
   "execution_count": 6,
   "metadata": {},
   "outputs": [],
   "source": [
    "load('../data_application/88soils/filter_onepercent/soils_ph.RData')"
   ]
  },
  {
   "cell_type": "code",
   "execution_count": 7,
   "metadata": {},
   "outputs": [
    {
     "data": {
      "text/html": [
       "<ol class=list-inline>\n",
       "\t<li>89</li>\n",
       "\t<li>2183</li>\n",
       "</ol>\n"
      ],
      "text/latex": [
       "\\begin{enumerate*}\n",
       "\\item 89\n",
       "\\item 2183\n",
       "\\end{enumerate*}\n"
      ],
      "text/markdown": [
       "1. 89\n",
       "2. 2183\n",
       "\n",
       "\n"
      ],
      "text/plain": [
       "[1]   89 2183"
      ]
     },
     "metadata": {},
     "output_type": "display_data"
    }
   ],
   "source": [
    "dim(taxa) # correct dimension"
   ]
  },
  {
   "cell_type": "code",
   "execution_count": 8,
   "metadata": {},
   "outputs": [],
   "source": [
    "prob_compLasso = colSums(out_compLasso$stab_table)/dim(out_compLasso$stab_table)[1]\n",
    "prob_lasso = colSums(out_lasso$stab_table)/dim(out_lasso$stab_table)[1]\n",
    "prob_elnet = colSums(out_elnet$stab_table)/dim(out_elnet$stab_table)[1]\n",
    "prob_rf = colSums(out_rf$stab_table)/dim(out_rf$stab_table)[1]\n",
    "feature_prob = t(data.frame(rbind(prob_compLasso, prob_lasso, prob_elnet, prob_rf)))"
   ]
  },
  {
   "cell_type": "code",
   "execution_count": 9,
   "metadata": {},
   "outputs": [
    {
     "data": {
      "text/html": [
       "<table>\n",
       "<thead><tr><th></th><th scope=col>prob_compLasso</th><th scope=col>prob_lasso</th><th scope=col>prob_elnet</th><th scope=col>prob_rf</th></tr></thead>\n",
       "<tbody>\n",
       "\t<tr><th scope=row>k__Bacteria.p__Actinobacteria.c__Rubrobacteria.o__Rubrobacterales.f__Rubrobacteraceae.g__Rubrobacter.s__.20</th><td>0.96</td><td>0.98</td><td>0.99</td><td>0.62</td></tr>\n",
       "\t<tr><th scope=row>k__Bacteria.p__Proteobacteria.c__Alphaproteobacteria.o__Rhizobiales.f__Hyphomicrobiaceae.g__Rhodoplanes.s__.131</th><td>0.91</td><td>0.92</td><td>0.90</td><td>0.60</td></tr>\n",
       "\t<tr><th scope=row>k__Bacteria.p__Proteobacteria.c__Alphaproteobacteria.o__Rhizobiales.f__Bradyrhizobiaceae.g__Balneimonas.s__.11</th><td>0.90</td><td>0.86</td><td>0.85</td><td>0.63</td></tr>\n",
       "\t<tr><th scope=row>k__Bacteria.p__Acidobacteria.c__Solibacteres.o__Solibacterales.f__Solibacteraceae.g__Candidatus.Solibacter.s__.8</th><td>0.88</td><td>0.86</td><td>0.90</td><td>0.58</td></tr>\n",
       "\t<tr><th scope=row>k__Bacteria.p__Proteobacteria.c__Alphaproteobacteria.o__Rhizobiales.f__Hyphomicrobiaceae.g__Rhodoplanes.s__.87</th><td>0.80</td><td>0.84</td><td>0.94</td><td>0.60</td></tr>\n",
       "\t<tr><th scope=row>k__Bacteria.p__Proteobacteria.c__Alphaproteobacteria.o__Rhizobiales.f__Hyphomicrobiaceae.g__Rhodoplanes.s__.65</th><td>0.62</td><td>0.66</td><td>0.94</td><td>0.39</td></tr>\n",
       "\t<tr><th scope=row>k__Bacteria.p__Actinobacteria.c__Rubrobacteria.o__Rubrobacterales.f__Rubrobacteraceae.g__Rubrobacter.s__.22</th><td>0.58</td><td>0.71</td><td>0.92</td><td>0.24</td></tr>\n",
       "\t<tr><th scope=row>k__Bacteria.p__Proteobacteria.c__Alphaproteobacteria.o__Sphingomonadales.f__Sphingomonadaceae.g__Kaistobacter.s__.23</th><td>0.57</td><td>0.59</td><td>0.81</td><td>0.34</td></tr>\n",
       "\t<tr><th scope=row>k__Bacteria.p__Proteobacteria.c__Alphaproteobacteria.o__Rhizobiales.f__Bradyrhizobiaceae.g__Balneimonas.s__.5</th><td>0.56</td><td>0.37</td><td>0.65</td><td>0.66</td></tr>\n",
       "\t<tr><th scope=row>k__Bacteria.p__Proteobacteria.c__Alphaproteobacteria.o__Rhizobiales.f__Hyphomicrobiaceae.g__Rhodoplanes.s__.83</th><td>0.54</td><td>0.64</td><td>0.87</td><td>0.19</td></tr>\n",
       "</tbody>\n",
       "</table>\n"
      ],
      "text/latex": [
       "\\begin{tabular}{r|llll}\n",
       "  & prob\\_compLasso & prob\\_lasso & prob\\_elnet & prob\\_rf\\\\\n",
       "\\hline\n",
       "\tk\\_\\_Bacteria.p\\_\\_Actinobacteria.c\\_\\_Rubrobacteria.o\\_\\_Rubrobacterales.f\\_\\_Rubrobacteraceae.g\\_\\_Rubrobacter.s\\_\\_.20 & 0.96 & 0.98 & 0.99 & 0.62\\\\\n",
       "\tk\\_\\_Bacteria.p\\_\\_Proteobacteria.c\\_\\_Alphaproteobacteria.o\\_\\_Rhizobiales.f\\_\\_Hyphomicrobiaceae.g\\_\\_Rhodoplanes.s\\_\\_.131 & 0.91 & 0.92 & 0.90 & 0.60\\\\\n",
       "\tk\\_\\_Bacteria.p\\_\\_Proteobacteria.c\\_\\_Alphaproteobacteria.o\\_\\_Rhizobiales.f\\_\\_Bradyrhizobiaceae.g\\_\\_Balneimonas.s\\_\\_.11 & 0.90 & 0.86 & 0.85 & 0.63\\\\\n",
       "\tk\\_\\_Bacteria.p\\_\\_Acidobacteria.c\\_\\_Solibacteres.o\\_\\_Solibacterales.f\\_\\_Solibacteraceae.g\\_\\_Candidatus.Solibacter.s\\_\\_.8 & 0.88 & 0.86 & 0.90 & 0.58\\\\\n",
       "\tk\\_\\_Bacteria.p\\_\\_Proteobacteria.c\\_\\_Alphaproteobacteria.o\\_\\_Rhizobiales.f\\_\\_Hyphomicrobiaceae.g\\_\\_Rhodoplanes.s\\_\\_.87 & 0.80 & 0.84 & 0.94 & 0.60\\\\\n",
       "\tk\\_\\_Bacteria.p\\_\\_Proteobacteria.c\\_\\_Alphaproteobacteria.o\\_\\_Rhizobiales.f\\_\\_Hyphomicrobiaceae.g\\_\\_Rhodoplanes.s\\_\\_.65 & 0.62 & 0.66 & 0.94 & 0.39\\\\\n",
       "\tk\\_\\_Bacteria.p\\_\\_Actinobacteria.c\\_\\_Rubrobacteria.o\\_\\_Rubrobacterales.f\\_\\_Rubrobacteraceae.g\\_\\_Rubrobacter.s\\_\\_.22 & 0.58 & 0.71 & 0.92 & 0.24\\\\\n",
       "\tk\\_\\_Bacteria.p\\_\\_Proteobacteria.c\\_\\_Alphaproteobacteria.o\\_\\_Sphingomonadales.f\\_\\_Sphingomonadaceae.g\\_\\_Kaistobacter.s\\_\\_.23 & 0.57 & 0.59 & 0.81 & 0.34\\\\\n",
       "\tk\\_\\_Bacteria.p\\_\\_Proteobacteria.c\\_\\_Alphaproteobacteria.o\\_\\_Rhizobiales.f\\_\\_Bradyrhizobiaceae.g\\_\\_Balneimonas.s\\_\\_.5 & 0.56 & 0.37 & 0.65 & 0.66\\\\\n",
       "\tk\\_\\_Bacteria.p\\_\\_Proteobacteria.c\\_\\_Alphaproteobacteria.o\\_\\_Rhizobiales.f\\_\\_Hyphomicrobiaceae.g\\_\\_Rhodoplanes.s\\_\\_.83 & 0.54 & 0.64 & 0.87 & 0.19\\\\\n",
       "\\end{tabular}\n"
      ],
      "text/markdown": [
       "\n",
       "| <!--/--> | prob_compLasso | prob_lasso | prob_elnet | prob_rf |\n",
       "|---|---|---|---|---|\n",
       "| k__Bacteria.p__Actinobacteria.c__Rubrobacteria.o__Rubrobacterales.f__Rubrobacteraceae.g__Rubrobacter.s__.20 | 0.96 | 0.98 | 0.99 | 0.62 |\n",
       "| k__Bacteria.p__Proteobacteria.c__Alphaproteobacteria.o__Rhizobiales.f__Hyphomicrobiaceae.g__Rhodoplanes.s__.131 | 0.91 | 0.92 | 0.90 | 0.60 |\n",
       "| k__Bacteria.p__Proteobacteria.c__Alphaproteobacteria.o__Rhizobiales.f__Bradyrhizobiaceae.g__Balneimonas.s__.11 | 0.90 | 0.86 | 0.85 | 0.63 |\n",
       "| k__Bacteria.p__Acidobacteria.c__Solibacteres.o__Solibacterales.f__Solibacteraceae.g__Candidatus.Solibacter.s__.8 | 0.88 | 0.86 | 0.90 | 0.58 |\n",
       "| k__Bacteria.p__Proteobacteria.c__Alphaproteobacteria.o__Rhizobiales.f__Hyphomicrobiaceae.g__Rhodoplanes.s__.87 | 0.80 | 0.84 | 0.94 | 0.60 |\n",
       "| k__Bacteria.p__Proteobacteria.c__Alphaproteobacteria.o__Rhizobiales.f__Hyphomicrobiaceae.g__Rhodoplanes.s__.65 | 0.62 | 0.66 | 0.94 | 0.39 |\n",
       "| k__Bacteria.p__Actinobacteria.c__Rubrobacteria.o__Rubrobacterales.f__Rubrobacteraceae.g__Rubrobacter.s__.22 | 0.58 | 0.71 | 0.92 | 0.24 |\n",
       "| k__Bacteria.p__Proteobacteria.c__Alphaproteobacteria.o__Sphingomonadales.f__Sphingomonadaceae.g__Kaistobacter.s__.23 | 0.57 | 0.59 | 0.81 | 0.34 |\n",
       "| k__Bacteria.p__Proteobacteria.c__Alphaproteobacteria.o__Rhizobiales.f__Bradyrhizobiaceae.g__Balneimonas.s__.5 | 0.56 | 0.37 | 0.65 | 0.66 |\n",
       "| k__Bacteria.p__Proteobacteria.c__Alphaproteobacteria.o__Rhizobiales.f__Hyphomicrobiaceae.g__Rhodoplanes.s__.83 | 0.54 | 0.64 | 0.87 | 0.19 |\n",
       "\n"
      ],
      "text/plain": [
       "                                                                                                                     prob_compLasso\n",
       "k__Bacteria.p__Actinobacteria.c__Rubrobacteria.o__Rubrobacterales.f__Rubrobacteraceae.g__Rubrobacter.s__.20          0.96          \n",
       "k__Bacteria.p__Proteobacteria.c__Alphaproteobacteria.o__Rhizobiales.f__Hyphomicrobiaceae.g__Rhodoplanes.s__.131      0.91          \n",
       "k__Bacteria.p__Proteobacteria.c__Alphaproteobacteria.o__Rhizobiales.f__Bradyrhizobiaceae.g__Balneimonas.s__.11       0.90          \n",
       "k__Bacteria.p__Acidobacteria.c__Solibacteres.o__Solibacterales.f__Solibacteraceae.g__Candidatus.Solibacter.s__.8     0.88          \n",
       "k__Bacteria.p__Proteobacteria.c__Alphaproteobacteria.o__Rhizobiales.f__Hyphomicrobiaceae.g__Rhodoplanes.s__.87       0.80          \n",
       "k__Bacteria.p__Proteobacteria.c__Alphaproteobacteria.o__Rhizobiales.f__Hyphomicrobiaceae.g__Rhodoplanes.s__.65       0.62          \n",
       "k__Bacteria.p__Actinobacteria.c__Rubrobacteria.o__Rubrobacterales.f__Rubrobacteraceae.g__Rubrobacter.s__.22          0.58          \n",
       "k__Bacteria.p__Proteobacteria.c__Alphaproteobacteria.o__Sphingomonadales.f__Sphingomonadaceae.g__Kaistobacter.s__.23 0.57          \n",
       "k__Bacteria.p__Proteobacteria.c__Alphaproteobacteria.o__Rhizobiales.f__Bradyrhizobiaceae.g__Balneimonas.s__.5        0.56          \n",
       "k__Bacteria.p__Proteobacteria.c__Alphaproteobacteria.o__Rhizobiales.f__Hyphomicrobiaceae.g__Rhodoplanes.s__.83       0.54          \n",
       "                                                                                                                     prob_lasso\n",
       "k__Bacteria.p__Actinobacteria.c__Rubrobacteria.o__Rubrobacterales.f__Rubrobacteraceae.g__Rubrobacter.s__.20          0.98      \n",
       "k__Bacteria.p__Proteobacteria.c__Alphaproteobacteria.o__Rhizobiales.f__Hyphomicrobiaceae.g__Rhodoplanes.s__.131      0.92      \n",
       "k__Bacteria.p__Proteobacteria.c__Alphaproteobacteria.o__Rhizobiales.f__Bradyrhizobiaceae.g__Balneimonas.s__.11       0.86      \n",
       "k__Bacteria.p__Acidobacteria.c__Solibacteres.o__Solibacterales.f__Solibacteraceae.g__Candidatus.Solibacter.s__.8     0.86      \n",
       "k__Bacteria.p__Proteobacteria.c__Alphaproteobacteria.o__Rhizobiales.f__Hyphomicrobiaceae.g__Rhodoplanes.s__.87       0.84      \n",
       "k__Bacteria.p__Proteobacteria.c__Alphaproteobacteria.o__Rhizobiales.f__Hyphomicrobiaceae.g__Rhodoplanes.s__.65       0.66      \n",
       "k__Bacteria.p__Actinobacteria.c__Rubrobacteria.o__Rubrobacterales.f__Rubrobacteraceae.g__Rubrobacter.s__.22          0.71      \n",
       "k__Bacteria.p__Proteobacteria.c__Alphaproteobacteria.o__Sphingomonadales.f__Sphingomonadaceae.g__Kaistobacter.s__.23 0.59      \n",
       "k__Bacteria.p__Proteobacteria.c__Alphaproteobacteria.o__Rhizobiales.f__Bradyrhizobiaceae.g__Balneimonas.s__.5        0.37      \n",
       "k__Bacteria.p__Proteobacteria.c__Alphaproteobacteria.o__Rhizobiales.f__Hyphomicrobiaceae.g__Rhodoplanes.s__.83       0.64      \n",
       "                                                                                                                     prob_elnet\n",
       "k__Bacteria.p__Actinobacteria.c__Rubrobacteria.o__Rubrobacterales.f__Rubrobacteraceae.g__Rubrobacter.s__.20          0.99      \n",
       "k__Bacteria.p__Proteobacteria.c__Alphaproteobacteria.o__Rhizobiales.f__Hyphomicrobiaceae.g__Rhodoplanes.s__.131      0.90      \n",
       "k__Bacteria.p__Proteobacteria.c__Alphaproteobacteria.o__Rhizobiales.f__Bradyrhizobiaceae.g__Balneimonas.s__.11       0.85      \n",
       "k__Bacteria.p__Acidobacteria.c__Solibacteres.o__Solibacterales.f__Solibacteraceae.g__Candidatus.Solibacter.s__.8     0.90      \n",
       "k__Bacteria.p__Proteobacteria.c__Alphaproteobacteria.o__Rhizobiales.f__Hyphomicrobiaceae.g__Rhodoplanes.s__.87       0.94      \n",
       "k__Bacteria.p__Proteobacteria.c__Alphaproteobacteria.o__Rhizobiales.f__Hyphomicrobiaceae.g__Rhodoplanes.s__.65       0.94      \n",
       "k__Bacteria.p__Actinobacteria.c__Rubrobacteria.o__Rubrobacterales.f__Rubrobacteraceae.g__Rubrobacter.s__.22          0.92      \n",
       "k__Bacteria.p__Proteobacteria.c__Alphaproteobacteria.o__Sphingomonadales.f__Sphingomonadaceae.g__Kaistobacter.s__.23 0.81      \n",
       "k__Bacteria.p__Proteobacteria.c__Alphaproteobacteria.o__Rhizobiales.f__Bradyrhizobiaceae.g__Balneimonas.s__.5        0.65      \n",
       "k__Bacteria.p__Proteobacteria.c__Alphaproteobacteria.o__Rhizobiales.f__Hyphomicrobiaceae.g__Rhodoplanes.s__.83       0.87      \n",
       "                                                                                                                     prob_rf\n",
       "k__Bacteria.p__Actinobacteria.c__Rubrobacteria.o__Rubrobacterales.f__Rubrobacteraceae.g__Rubrobacter.s__.20          0.62   \n",
       "k__Bacteria.p__Proteobacteria.c__Alphaproteobacteria.o__Rhizobiales.f__Hyphomicrobiaceae.g__Rhodoplanes.s__.131      0.60   \n",
       "k__Bacteria.p__Proteobacteria.c__Alphaproteobacteria.o__Rhizobiales.f__Bradyrhizobiaceae.g__Balneimonas.s__.11       0.63   \n",
       "k__Bacteria.p__Acidobacteria.c__Solibacteres.o__Solibacterales.f__Solibacteraceae.g__Candidatus.Solibacter.s__.8     0.58   \n",
       "k__Bacteria.p__Proteobacteria.c__Alphaproteobacteria.o__Rhizobiales.f__Hyphomicrobiaceae.g__Rhodoplanes.s__.87       0.60   \n",
       "k__Bacteria.p__Proteobacteria.c__Alphaproteobacteria.o__Rhizobiales.f__Hyphomicrobiaceae.g__Rhodoplanes.s__.65       0.39   \n",
       "k__Bacteria.p__Actinobacteria.c__Rubrobacteria.o__Rubrobacterales.f__Rubrobacteraceae.g__Rubrobacter.s__.22          0.24   \n",
       "k__Bacteria.p__Proteobacteria.c__Alphaproteobacteria.o__Sphingomonadales.f__Sphingomonadaceae.g__Kaistobacter.s__.23 0.34   \n",
       "k__Bacteria.p__Proteobacteria.c__Alphaproteobacteria.o__Rhizobiales.f__Bradyrhizobiaceae.g__Balneimonas.s__.5        0.66   \n",
       "k__Bacteria.p__Proteobacteria.c__Alphaproteobacteria.o__Rhizobiales.f__Hyphomicrobiaceae.g__Rhodoplanes.s__.83       0.19   "
      ]
     },
     "metadata": {},
     "output_type": "display_data"
    }
   ],
   "source": [
    "rownames(feature_prob) = colnames(taxa)\n",
    "head(feature_prob[order(-feature_prob[, 1]), ], 10) # descending order"
   ]
  },
  {
   "cell_type": "code",
   "execution_count": 10,
   "metadata": {},
   "outputs": [],
   "source": [
    "write.table(feature_prob, file='../data_application/88soils/filter_onepercent/soils_slection_prob.txt', sep='\\t', col.names=NA)"
   ]
  },
  {
   "cell_type": "code",
   "execution_count": null,
   "metadata": {},
   "outputs": [],
   "source": [
    "# top 5 from compLasso \n",
    "# p__Actinobacteria.c__Rubrobacteria.o__Rubrobacterales.f__Rubrobacteraceae.g__Rubrobacter: 0.96\n",
    "# p__Proteobacteria.c__Alphaproteobacteria.o__Rhizobiales.f__Hyphomicrobiaceae.g__Rhodoplanes: 0.91\n",
    "# p__Proteobacteria.c__Alphaproteobacteria.o__Rhizobiales.f__Bradyrhizobiaceae.g__Balneimonas: 0.9\n",
    "# p__Acidobacteria.c__Solibacteres.o__Solibacterales.f__Solibacteraceae.g__Candidatus.Solibacter: 0.88\n",
    "# p__Proteobacteria.c__Alphaproteobacteria.o__Rhizobiales.f__Hyphomicrobiaceae.g__Rhodoplanes: 0.8"
   ]
  },
  {
   "cell_type": "code",
   "execution_count": null,
   "metadata": {},
   "outputs": [],
   "source": [
    "# from Jamie's paper: Acidobacteria, Actinobacteria, Bacteroidetes, alpha-, beta-, and gammaproteobacteria \n",
    "# are all associated with ph\n",
    "## summary: what been selected by compLasso all belong to above ranges"
   ]
  }
 ],
 "metadata": {
  "kernelspec": {
   "display_name": "R",
   "language": "R",
   "name": "ir"
  },
  "language_info": {
   "codemirror_mode": "r",
   "file_extension": ".r",
   "mimetype": "text/x-r-source",
   "name": "R",
   "pygments_lexer": "r",
   "version": "3.6.1"
  }
 },
 "nbformat": 4,
 "nbformat_minor": 2
}
