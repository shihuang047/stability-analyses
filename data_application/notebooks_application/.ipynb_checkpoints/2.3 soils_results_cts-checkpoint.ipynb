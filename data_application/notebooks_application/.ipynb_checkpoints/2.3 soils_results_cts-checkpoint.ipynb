{
 "cells": [
  {
   "cell_type": "markdown",
   "metadata": {},
   "source": [
    "### Soil microbiome data application results for continuous outcome"
   ]
  },
  {
   "cell_type": "markdown",
   "metadata": {},
   "source": [
    "### method comparisons"
   ]
  },
  {
   "cell_type": "code",
   "execution_count": 1,
   "metadata": {},
   "outputs": [],
   "source": [
    "load('../88soils/results_cts/soils_ph_compLasso.RData')\n",
    "load('../88soils/results_cts/soils_ph_elnet.RData')\n",
    "load('../88soils/results_cts/soils_ph_lasso.RData')\n",
    "load('../88soils/results_cts/soils_ph_rf.RData')"
   ]
  },
  {
   "cell_type": "code",
   "execution_count": 2,
   "metadata": {},
   "outputs": [
    {
     "data": {
      "text/html": [
       "<ol class=list-inline>\n",
       "\t<li>0.39</li>\n",
       "\t<li>0.46</li>\n",
       "</ol>\n"
      ],
      "text/latex": [
       "\\begin{enumerate*}\n",
       "\\item 0.39\n",
       "\\item 0.46\n",
       "\\end{enumerate*}\n"
      ],
      "text/markdown": [
       "1. 0.39\n",
       "2. 0.46\n",
       "\n",
       "\n"
      ],
      "text/plain": [
       "[1] 0.39 0.46"
      ]
     },
     "metadata": {},
     "output_type": "display_data"
    }
   ],
   "source": [
    "c(out_compLasso$stab_index, out_compLasso$MSE_mean)"
   ]
  },
  {
   "cell_type": "code",
   "execution_count": 3,
   "metadata": {},
   "outputs": [
    {
     "data": {
      "text/html": [
       "<ol class=list-inline>\n",
       "\t<li>0.31</li>\n",
       "\t<li>0.34</li>\n",
       "</ol>\n"
      ],
      "text/latex": [
       "\\begin{enumerate*}\n",
       "\\item 0.31\n",
       "\\item 0.34\n",
       "\\end{enumerate*}\n"
      ],
      "text/markdown": [
       "1. 0.31\n",
       "2. 0.34\n",
       "\n",
       "\n"
      ],
      "text/plain": [
       "[1] 0.31 0.34"
      ]
     },
     "metadata": {},
     "output_type": "display_data"
    }
   ],
   "source": [
    "c(out_lasso$stab_index, out_lasso$MSE_mean) "
   ]
  },
  {
   "cell_type": "code",
   "execution_count": 4,
   "metadata": {},
   "outputs": [
    {
     "data": {
      "text/html": [
       "<ol class=list-inline>\n",
       "\t<li>0.16</li>\n",
       "\t<li>0.23</li>\n",
       "</ol>\n"
      ],
      "text/latex": [
       "\\begin{enumerate*}\n",
       "\\item 0.16\n",
       "\\item 0.23\n",
       "\\end{enumerate*}\n"
      ],
      "text/markdown": [
       "1. 0.16\n",
       "2. 0.23\n",
       "\n",
       "\n"
      ],
      "text/plain": [
       "[1] 0.16 0.23"
      ]
     },
     "metadata": {},
     "output_type": "display_data"
    }
   ],
   "source": [
    "c(out_elnet$stab_index, out_elnet$MSE_mean)"
   ]
  },
  {
   "cell_type": "code",
   "execution_count": 5,
   "metadata": {},
   "outputs": [
    {
     "data": {
      "text/html": [
       "<ol class=list-inline>\n",
       "\t<li>0.04</li>\n",
       "\t<li>0.26</li>\n",
       "</ol>\n"
      ],
      "text/latex": [
       "\\begin{enumerate*}\n",
       "\\item 0.04\n",
       "\\item 0.26\n",
       "\\end{enumerate*}\n"
      ],
      "text/markdown": [
       "1. 0.04\n",
       "2. 0.26\n",
       "\n",
       "\n"
      ],
      "text/plain": [
       "[1] 0.04 0.26"
      ]
     },
     "metadata": {},
     "output_type": "display_data"
    }
   ],
   "source": [
    "c(out_rf$stab_index, out_rf$MSE_mean)"
   ]
  },
  {
   "cell_type": "code",
   "execution_count": 6,
   "metadata": {},
   "outputs": [
    {
     "data": {
      "text/html": [
       "<table>\n",
       "<thead><tr><th scope=col>dataset</th><th scope=col>method</th><th scope=col>mse</th><th scope=col>stability</th></tr></thead>\n",
       "<tbody>\n",
       "\t<tr><td>soil_88  </td><td>lasso    </td><td>0.34     </td><td>0.31     </td></tr>\n",
       "\t<tr><td>soil_88  </td><td>elent    </td><td>0.23     </td><td>0.16     </td></tr>\n",
       "\t<tr><td>soil_88  </td><td>rf       </td><td>0.26     </td><td>0.04     </td></tr>\n",
       "\t<tr><td>soil_88  </td><td>compLasso</td><td>0.46     </td><td>0.39     </td></tr>\n",
       "</tbody>\n",
       "</table>\n"
      ],
      "text/latex": [
       "\\begin{tabular}{r|llll}\n",
       " dataset & method & mse & stability\\\\\n",
       "\\hline\n",
       "\t soil\\_88 & lasso     & 0.34      & 0.31     \\\\\n",
       "\t soil\\_88 & elent     & 0.23      & 0.16     \\\\\n",
       "\t soil\\_88 & rf        & 0.26      & 0.04     \\\\\n",
       "\t soil\\_88 & compLasso & 0.46      & 0.39     \\\\\n",
       "\\end{tabular}\n"
      ],
      "text/markdown": [
       "\n",
       "| dataset | method | mse | stability |\n",
       "|---|---|---|---|\n",
       "| soil_88   | lasso     | 0.34      | 0.31      |\n",
       "| soil_88   | elent     | 0.23      | 0.16      |\n",
       "| soil_88   | rf        | 0.26      | 0.04      |\n",
       "| soil_88   | compLasso | 0.46      | 0.39      |\n",
       "\n"
      ],
      "text/plain": [
       "  dataset method    mse  stability\n",
       "1 soil_88 lasso     0.34 0.31     \n",
       "2 soil_88 elent     0.23 0.16     \n",
       "3 soil_88 rf        0.26 0.04     \n",
       "4 soil_88 compLasso 0.46 0.39     "
      ]
     },
     "metadata": {},
     "output_type": "display_data"
    }
   ],
   "source": [
    "# combine and export results\n",
    "soil_88 = as.data.frame(matrix(NA, nrow=4, ncol=4))\n",
    "colnames(soil_88) = c('dataset', 'method', 'mse', 'stability')\n",
    "soil_88$dataset = 'soil_88'\n",
    "soil_88$method = c('lasso', 'elent', 'rf', 'compLasso')\n",
    "soil_88$mse = c(out_lasso$MSE_mean, out_elnet$MSE_mean, out_rf$MSE_mean, out_compLasso$MSE_mean)\n",
    "soil_88$stability = c(out_lasso$stab_index, out_elnet$stab_index, out_rf$stab_index, out_compLasso$stab_index)\n",
    "soil_88"
   ]
  },
  {
   "cell_type": "markdown",
   "metadata": {},
   "source": [
    "### hypothesis testing"
   ]
  },
  {
   "cell_type": "code",
   "execution_count": 7,
   "metadata": {},
   "outputs": [],
   "source": [
    "load('../88soils/results_cts/soils_ph_boot_compLasso.RData')\n",
    "load('../88soils/results_cts/soils_ph_boot_rf.RData')"
   ]
  },
  {
   "cell_type": "code",
   "execution_count": 8,
   "metadata": {},
   "outputs": [
    {
     "data": {
      "text/html": [
       "0.3595"
      ],
      "text/latex": [
       "0.3595"
      ],
      "text/markdown": [
       "0.3595"
      ],
      "text/plain": [
       "[1] 0.3595"
      ]
     },
     "metadata": {},
     "output_type": "display_data"
    },
    {
     "data": {
      "text/html": [
       "<dl class=dl-horizontal>\n",
       "\t<dt>2.5%</dt>\n",
       "\t\t<dd>0.28</dd>\n",
       "\t<dt>97.5%</dt>\n",
       "\t\t<dd>0.44</dd>\n",
       "</dl>\n"
      ],
      "text/latex": [
       "\\begin{description*}\n",
       "\\item[2.5\\textbackslash{}\\%] 0.28\n",
       "\\item[97.5\\textbackslash{}\\%] 0.44\n",
       "\\end{description*}\n"
      ],
      "text/markdown": [
       "2.5%\n",
       ":   0.2897.5%\n",
       ":   0.44\n",
       "\n"
      ],
      "text/plain": [
       " 2.5% 97.5% \n",
       " 0.28  0.44 "
      ]
     },
     "metadata": {},
     "output_type": "display_data"
    }
   ],
   "source": [
    "diff_stab = (boot_compLasso$stab_index - boot_rf$stab_index)\n",
    "mean(diff_stab)\n",
    "quantile(diff_stab, probs = c(0.025, 0.975)) \n",
    "# CI doesn't contain zero: compLasso is significantly more stable than RF"
   ]
  },
  {
   "cell_type": "code",
   "execution_count": 9,
   "metadata": {},
   "outputs": [
    {
     "data": {
      "text/html": [
       "0.0811150164524993"
      ],
      "text/latex": [
       "0.0811150164524993"
      ],
      "text/markdown": [
       "0.0811150164524993"
      ],
      "text/plain": [
       "[1] 0.08111502"
      ]
     },
     "metadata": {},
     "output_type": "display_data"
    },
    {
     "data": {
      "text/html": [
       "<dl class=dl-horizontal>\n",
       "\t<dt>2.5%</dt>\n",
       "\t\t<dd>-0.283912044397921</dd>\n",
       "\t<dt>97.5%</dt>\n",
       "\t\t<dd>0.945808111396662</dd>\n",
       "</dl>\n"
      ],
      "text/latex": [
       "\\begin{description*}\n",
       "\\item[2.5\\textbackslash{}\\%] -0.283912044397921\n",
       "\\item[97.5\\textbackslash{}\\%] 0.945808111396662\n",
       "\\end{description*}\n"
      ],
      "text/markdown": [
       "2.5%\n",
       ":   -0.28391204439792197.5%\n",
       ":   0.945808111396662\n",
       "\n"
      ],
      "text/plain": [
       "      2.5%      97.5% \n",
       "-0.2839120  0.9458081 "
      ]
     },
     "metadata": {},
     "output_type": "display_data"
    }
   ],
   "source": [
    "diff_mse = (unlist(boot_compLasso$MSE_list) - unlist(boot_rf$MSE_list)) # use all 100*100 MSEs\n",
    "mean(diff_mse)\n",
    "quantile(diff_mse, probs = c(0.025, 0.975)) \n",
    "# CI contain zero: compLasso is not significantly different from RF based on MSE"
   ]
  },
  {
   "cell_type": "code",
   "execution_count": null,
   "metadata": {},
   "outputs": [],
   "source": []
  }
 ],
 "metadata": {
  "kernelspec": {
   "display_name": "R",
   "language": "R",
   "name": "ir"
  },
  "language_info": {
   "codemirror_mode": "r",
   "file_extension": ".r",
   "mimetype": "text/x-r-source",
   "name": "R",
   "pygments_lexer": "r",
   "version": "3.6.1"
  }
 },
 "nbformat": 4,
 "nbformat_minor": 2
}
