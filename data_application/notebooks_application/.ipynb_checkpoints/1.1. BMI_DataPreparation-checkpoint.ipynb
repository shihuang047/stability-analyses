{
 "cells": [
  {
   "cell_type": "markdown",
   "metadata": {},
   "source": [
    "### BMI dataset in Lin et al, 2014 \n",
    "##### use unrarifed count table and retain microbes only at genus level (+ present at least one sample)\n",
    "#### add 0.5 as pseudo count to zero counts"
   ]
  },
  {
   "cell_type": "code",
   "execution_count": 1,
   "metadata": {},
   "outputs": [
    {
     "data": {
      "text/html": [
       "<ol class=list-inline>\n",
       "\t<li>98</li>\n",
       "\t<li>263</li>\n",
       "</ol>\n"
      ],
      "text/latex": [
       "\\begin{enumerate*}\n",
       "\\item 98\n",
       "\\item 263\n",
       "\\end{enumerate*}\n"
      ],
      "text/markdown": [
       "1. 98\n",
       "2. 263\n",
       "\n",
       "\n"
      ],
      "text/plain": [
       "[1]  98 263"
      ]
     },
     "metadata": {},
     "output_type": "display_data"
    },
    {
     "data": {
      "text/html": [
       "<table>\n",
       "<thead><tr><th></th><th scope=col>Bacteria.Actinobacteria</th><th scope=col>Bacteria.Bacteroidetes</th><th scope=col>Bacteria.Cyanobacteria</th><th scope=col>Bacteria.Firmicutes</th><th scope=col>Bacteria.Fusobacteria</th><th scope=col>Bacteria.Lentisphaerae</th><th scope=col>Bacteria.OD1</th><th scope=col>Bacteria.Proteobacteria</th><th scope=col>Bacteria.Spirochaetes</th><th scope=col>Bacteria.Synergistetes</th><th scope=col>...</th><th scope=col>Bacteria.Proteobacteria.Gammaproteobacteria.Pseudomonadales.Moraxellaceae.Enhydrobacter</th><th scope=col>Bacteria.Proteobacteria.Gammaproteobacteria.Pseudomonadales.Pseudomonadaceae.Pseudomonas</th><th scope=col>Bacteria.Proteobacteria.Gammaproteobacteria.Vibrionales.Vibrionaceae.Vibrio</th><th scope=col>Bacteria.Proteobacteria.Gammaproteobacteria.Xanthomonadales.Xanthomonadaceae.Lysobacter</th><th scope=col>Bacteria.Proteobacteria.Gammaproteobacteria.Xanthomonadales.Xanthomonadaceae.Stenotrophomonas</th><th scope=col>Bacteria.Spirochaetes.Spirochaetes.Spirochaetales.Brachyspiraceae.Brachyspira</th><th scope=col>Bacteria.Spirochaetes.Spirochaetes.Spirochaetales.Spirochaetaceae.Treponema</th><th scope=col>Bacteria.Synergistetes.Synergistia.Synergistales.Synergistaceae.Cloacibacillus</th><th scope=col>Bacteria.Synergistetes.Synergistia.Synergistales.Synergistaceae.Pyramidobacter</th><th scope=col>Bacteria.Verrucomicrobia.Verrucomicrobiae.Verrucomicrobiales.Verrucomicrobiaceae.Akkermansia</th></tr></thead>\n",
       "<tbody>\n",
       "\t<tr><th scope=row>3001</th><td>1   </td><td>5067</td><td>0   </td><td>4153</td><td>0   </td><td>0   </td><td>0   </td><td>534 </td><td>0   </td><td>0   </td><td>... </td><td>0   </td><td>0   </td><td>0   </td><td>0   </td><td>0   </td><td>0   </td><td>0   </td><td>0   </td><td>0   </td><td>0   </td></tr>\n",
       "\t<tr><th scope=row>3003</th><td>0   </td><td>4659</td><td>0   </td><td>2177</td><td>0   </td><td>0   </td><td>0   </td><td>105 </td><td>0   </td><td>0   </td><td>... </td><td>0   </td><td>0   </td><td>0   </td><td>0   </td><td>0   </td><td>0   </td><td>0   </td><td>0   </td><td>0   </td><td>0   </td></tr>\n",
       "\t<tr><th scope=row>3004</th><td>0   </td><td>4342</td><td>0   </td><td>3008</td><td>0   </td><td>2   </td><td>0   </td><td>134 </td><td>0   </td><td>0   </td><td>... </td><td>0   </td><td>0   </td><td>0   </td><td>0   </td><td>0   </td><td>0   </td><td>0   </td><td>0   </td><td>0   </td><td>0   </td></tr>\n",
       "\t<tr><th scope=row>3006</th><td>8   </td><td>2910</td><td>0   </td><td>4147</td><td>0   </td><td>0   </td><td>0   </td><td>459 </td><td>0   </td><td>0   </td><td>... </td><td>0   </td><td>0   </td><td>0   </td><td>0   </td><td>0   </td><td>0   </td><td>0   </td><td>0   </td><td>0   </td><td>0   </td></tr>\n",
       "\t<tr><th scope=row>3007</th><td>5   </td><td>5630</td><td>0   </td><td>4705</td><td>0   </td><td>0   </td><td>0   </td><td>214 </td><td>0   </td><td>0   </td><td>... </td><td>0   </td><td>0   </td><td>0   </td><td>0   </td><td>0   </td><td>0   </td><td>0   </td><td>0   </td><td>0   </td><td>0   </td></tr>\n",
       "\t<tr><th scope=row>3008</th><td>5   </td><td>1868</td><td>0   </td><td>1619</td><td>0   </td><td>0   </td><td>0   </td><td> 17 </td><td>0   </td><td>0   </td><td>... </td><td>0   </td><td>0   </td><td>0   </td><td>0   </td><td>0   </td><td>0   </td><td>0   </td><td>0   </td><td>0   </td><td>0   </td></tr>\n",
       "</tbody>\n",
       "</table>\n"
      ],
      "text/latex": [
       "\\begin{tabular}{r|lllllllllllllllllllllllllllllllllllllllllllllllllllllllllllllllllllllllllllllllllllllllllllllllllllllllllllllllllllllllllllllllllllllllllllllllllllllllllllllllllllllllllllllllllllllllllllllllllllllllllllllllllllllllllllllllllllllllllllllllllllllllllllllllllllllll}\n",
       "  & Bacteria.Actinobacteria & Bacteria.Bacteroidetes & Bacteria.Cyanobacteria & Bacteria.Firmicutes & Bacteria.Fusobacteria & Bacteria.Lentisphaerae & Bacteria.OD1 & Bacteria.Proteobacteria & Bacteria.Spirochaetes & Bacteria.Synergistetes & ... & Bacteria.Proteobacteria.Gammaproteobacteria.Pseudomonadales.Moraxellaceae.Enhydrobacter & Bacteria.Proteobacteria.Gammaproteobacteria.Pseudomonadales.Pseudomonadaceae.Pseudomonas & Bacteria.Proteobacteria.Gammaproteobacteria.Vibrionales.Vibrionaceae.Vibrio & Bacteria.Proteobacteria.Gammaproteobacteria.Xanthomonadales.Xanthomonadaceae.Lysobacter & Bacteria.Proteobacteria.Gammaproteobacteria.Xanthomonadales.Xanthomonadaceae.Stenotrophomonas & Bacteria.Spirochaetes.Spirochaetes.Spirochaetales.Brachyspiraceae.Brachyspira & Bacteria.Spirochaetes.Spirochaetes.Spirochaetales.Spirochaetaceae.Treponema & Bacteria.Synergistetes.Synergistia.Synergistales.Synergistaceae.Cloacibacillus & Bacteria.Synergistetes.Synergistia.Synergistales.Synergistaceae.Pyramidobacter & Bacteria.Verrucomicrobia.Verrucomicrobiae.Verrucomicrobiales.Verrucomicrobiaceae.Akkermansia\\\\\n",
       "\\hline\n",
       "\t3001 & 1    & 5067 & 0    & 4153 & 0    & 0    & 0    & 534  & 0    & 0    & ...  & 0    & 0    & 0    & 0    & 0    & 0    & 0    & 0    & 0    & 0   \\\\\n",
       "\t3003 & 0    & 4659 & 0    & 2177 & 0    & 0    & 0    & 105  & 0    & 0    & ...  & 0    & 0    & 0    & 0    & 0    & 0    & 0    & 0    & 0    & 0   \\\\\n",
       "\t3004 & 0    & 4342 & 0    & 3008 & 0    & 2    & 0    & 134  & 0    & 0    & ...  & 0    & 0    & 0    & 0    & 0    & 0    & 0    & 0    & 0    & 0   \\\\\n",
       "\t3006 & 8    & 2910 & 0    & 4147 & 0    & 0    & 0    & 459  & 0    & 0    & ...  & 0    & 0    & 0    & 0    & 0    & 0    & 0    & 0    & 0    & 0   \\\\\n",
       "\t3007 & 5    & 5630 & 0    & 4705 & 0    & 0    & 0    & 214  & 0    & 0    & ...  & 0    & 0    & 0    & 0    & 0    & 0    & 0    & 0    & 0    & 0   \\\\\n",
       "\t3008 & 5    & 1868 & 0    & 1619 & 0    & 0    & 0    &  17  & 0    & 0    & ...  & 0    & 0    & 0    & 0    & 0    & 0    & 0    & 0    & 0    & 0   \\\\\n",
       "\\end{tabular}\n"
      ],
      "text/markdown": [
       "\n",
       "| <!--/--> | Bacteria.Actinobacteria | Bacteria.Bacteroidetes | Bacteria.Cyanobacteria | Bacteria.Firmicutes | Bacteria.Fusobacteria | Bacteria.Lentisphaerae | Bacteria.OD1 | Bacteria.Proteobacteria | Bacteria.Spirochaetes | Bacteria.Synergistetes | ... | Bacteria.Proteobacteria.Gammaproteobacteria.Pseudomonadales.Moraxellaceae.Enhydrobacter | Bacteria.Proteobacteria.Gammaproteobacteria.Pseudomonadales.Pseudomonadaceae.Pseudomonas | Bacteria.Proteobacteria.Gammaproteobacteria.Vibrionales.Vibrionaceae.Vibrio | Bacteria.Proteobacteria.Gammaproteobacteria.Xanthomonadales.Xanthomonadaceae.Lysobacter | Bacteria.Proteobacteria.Gammaproteobacteria.Xanthomonadales.Xanthomonadaceae.Stenotrophomonas | Bacteria.Spirochaetes.Spirochaetes.Spirochaetales.Brachyspiraceae.Brachyspira | Bacteria.Spirochaetes.Spirochaetes.Spirochaetales.Spirochaetaceae.Treponema | Bacteria.Synergistetes.Synergistia.Synergistales.Synergistaceae.Cloacibacillus | Bacteria.Synergistetes.Synergistia.Synergistales.Synergistaceae.Pyramidobacter | Bacteria.Verrucomicrobia.Verrucomicrobiae.Verrucomicrobiales.Verrucomicrobiaceae.Akkermansia |\n",
       "|---|---|---|---|---|---|---|---|---|---|---|---|---|---|---|---|---|---|---|---|---|---|\n",
       "| 3001 | 1    | 5067 | 0    | 4153 | 0    | 0    | 0    | 534  | 0    | 0    | ...  | 0    | 0    | 0    | 0    | 0    | 0    | 0    | 0    | 0    | 0    |\n",
       "| 3003 | 0    | 4659 | 0    | 2177 | 0    | 0    | 0    | 105  | 0    | 0    | ...  | 0    | 0    | 0    | 0    | 0    | 0    | 0    | 0    | 0    | 0    |\n",
       "| 3004 | 0    | 4342 | 0    | 3008 | 0    | 2    | 0    | 134  | 0    | 0    | ...  | 0    | 0    | 0    | 0    | 0    | 0    | 0    | 0    | 0    | 0    |\n",
       "| 3006 | 8    | 2910 | 0    | 4147 | 0    | 0    | 0    | 459  | 0    | 0    | ...  | 0    | 0    | 0    | 0    | 0    | 0    | 0    | 0    | 0    | 0    |\n",
       "| 3007 | 5    | 5630 | 0    | 4705 | 0    | 0    | 0    | 214  | 0    | 0    | ...  | 0    | 0    | 0    | 0    | 0    | 0    | 0    | 0    | 0    | 0    |\n",
       "| 3008 | 5    | 1868 | 0    | 1619 | 0    | 0    | 0    |  17  | 0    | 0    | ...  | 0    | 0    | 0    | 0    | 0    | 0    | 0    | 0    | 0    | 0    |\n",
       "\n"
      ],
      "text/plain": [
       "     Bacteria.Actinobacteria Bacteria.Bacteroidetes Bacteria.Cyanobacteria\n",
       "3001 1                       5067                   0                     \n",
       "3003 0                       4659                   0                     \n",
       "3004 0                       4342                   0                     \n",
       "3006 8                       2910                   0                     \n",
       "3007 5                       5630                   0                     \n",
       "3008 5                       1868                   0                     \n",
       "     Bacteria.Firmicutes Bacteria.Fusobacteria Bacteria.Lentisphaerae\n",
       "3001 4153                0                     0                     \n",
       "3003 2177                0                     0                     \n",
       "3004 3008                0                     2                     \n",
       "3006 4147                0                     0                     \n",
       "3007 4705                0                     0                     \n",
       "3008 1619                0                     0                     \n",
       "     Bacteria.OD1 Bacteria.Proteobacteria Bacteria.Spirochaetes\n",
       "3001 0            534                     0                    \n",
       "3003 0            105                     0                    \n",
       "3004 0            134                     0                    \n",
       "3006 0            459                     0                    \n",
       "3007 0            214                     0                    \n",
       "3008 0             17                     0                    \n",
       "     Bacteria.Synergistetes ...\n",
       "3001 0                      ...\n",
       "3003 0                      ...\n",
       "3004 0                      ...\n",
       "3006 0                      ...\n",
       "3007 0                      ...\n",
       "3008 0                      ...\n",
       "     Bacteria.Proteobacteria.Gammaproteobacteria.Pseudomonadales.Moraxellaceae.Enhydrobacter\n",
       "3001 0                                                                                      \n",
       "3003 0                                                                                      \n",
       "3004 0                                                                                      \n",
       "3006 0                                                                                      \n",
       "3007 0                                                                                      \n",
       "3008 0                                                                                      \n",
       "     Bacteria.Proteobacteria.Gammaproteobacteria.Pseudomonadales.Pseudomonadaceae.Pseudomonas\n",
       "3001 0                                                                                       \n",
       "3003 0                                                                                       \n",
       "3004 0                                                                                       \n",
       "3006 0                                                                                       \n",
       "3007 0                                                                                       \n",
       "3008 0                                                                                       \n",
       "     Bacteria.Proteobacteria.Gammaproteobacteria.Vibrionales.Vibrionaceae.Vibrio\n",
       "3001 0                                                                          \n",
       "3003 0                                                                          \n",
       "3004 0                                                                          \n",
       "3006 0                                                                          \n",
       "3007 0                                                                          \n",
       "3008 0                                                                          \n",
       "     Bacteria.Proteobacteria.Gammaproteobacteria.Xanthomonadales.Xanthomonadaceae.Lysobacter\n",
       "3001 0                                                                                      \n",
       "3003 0                                                                                      \n",
       "3004 0                                                                                      \n",
       "3006 0                                                                                      \n",
       "3007 0                                                                                      \n",
       "3008 0                                                                                      \n",
       "     Bacteria.Proteobacteria.Gammaproteobacteria.Xanthomonadales.Xanthomonadaceae.Stenotrophomonas\n",
       "3001 0                                                                                            \n",
       "3003 0                                                                                            \n",
       "3004 0                                                                                            \n",
       "3006 0                                                                                            \n",
       "3007 0                                                                                            \n",
       "3008 0                                                                                            \n",
       "     Bacteria.Spirochaetes.Spirochaetes.Spirochaetales.Brachyspiraceae.Brachyspira\n",
       "3001 0                                                                            \n",
       "3003 0                                                                            \n",
       "3004 0                                                                            \n",
       "3006 0                                                                            \n",
       "3007 0                                                                            \n",
       "3008 0                                                                            \n",
       "     Bacteria.Spirochaetes.Spirochaetes.Spirochaetales.Spirochaetaceae.Treponema\n",
       "3001 0                                                                          \n",
       "3003 0                                                                          \n",
       "3004 0                                                                          \n",
       "3006 0                                                                          \n",
       "3007 0                                                                          \n",
       "3008 0                                                                          \n",
       "     Bacteria.Synergistetes.Synergistia.Synergistales.Synergistaceae.Cloacibacillus\n",
       "3001 0                                                                             \n",
       "3003 0                                                                             \n",
       "3004 0                                                                             \n",
       "3006 0                                                                             \n",
       "3007 0                                                                             \n",
       "3008 0                                                                             \n",
       "     Bacteria.Synergistetes.Synergistia.Synergistales.Synergistaceae.Pyramidobacter\n",
       "3001 0                                                                             \n",
       "3003 0                                                                             \n",
       "3004 0                                                                             \n",
       "3006 0                                                                             \n",
       "3007 0                                                                             \n",
       "3008 0                                                                             \n",
       "     Bacteria.Verrucomicrobia.Verrucomicrobiae.Verrucomicrobiales.Verrucomicrobiaceae.Akkermansia\n",
       "3001 0                                                                                           \n",
       "3003 0                                                                                           \n",
       "3004 0                                                                                           \n",
       "3006 0                                                                                           \n",
       "3007 0                                                                                           \n",
       "3008 0                                                                                           "
      ]
     },
     "metadata": {},
     "output_type": "display_data"
    }
   ],
   "source": [
    "# unrarefied microbe count table\n",
    "count <- as.matrix(read.table(\"../../code_Lin/cvs/data/combo_count_tab.txt\")) \n",
    "dim(count)\n",
    "head(count)"
   ]
  },
  {
   "cell_type": "code",
   "execution_count": 8,
   "metadata": {},
   "outputs": [
    {
     "data": {
      "text/html": [
       "<ol class=list-inline>\n",
       "\t<li>98</li>\n",
       "\t<li>87</li>\n",
       "</ol>\n"
      ],
      "text/latex": [
       "\\begin{enumerate*}\n",
       "\\item 98\n",
       "\\item 87\n",
       "\\end{enumerate*}\n"
      ],
      "text/markdown": [
       "1. 98\n",
       "2. 87\n",
       "\n",
       "\n"
      ],
      "text/plain": [
       "[1] 98 87"
      ]
     },
     "metadata": {},
     "output_type": "display_data"
    },
    {
     "data": {
      "text/html": [
       "<table>\n",
       "<thead><tr><th></th><th scope=col>Bacteria.Actinobacteria.Actinobacteria.Coriobacteriales.Coriobacteriaceae.Asaccharobacter</th><th scope=col>Bacteria.Actinobacteria.Actinobacteria.Coriobacteriales.Coriobacteriaceae.Atopobium</th><th scope=col>Bacteria.Actinobacteria.Actinobacteria.Coriobacteriales.Coriobacteriaceae.Collinsella</th><th scope=col>Bacteria.Actinobacteria.Actinobacteria.Coriobacteriales.Coriobacteriaceae.Eggerthella</th><th scope=col>Bacteria.Actinobacteria.Actinobacteria.Coriobacteriales.Coriobacteriaceae.Gordonibacter</th><th scope=col>Bacteria.Actinobacteria.Actinobacteria.Coriobacteriales.Coriobacteriaceae.Olsenella</th><th scope=col>Bacteria.Actinobacteria.Actinobacteria.Coriobacteriales.Coriobacteriaceae.Slackia</th><th scope=col>Bacteria.Bacteroidetes.Bacteroidia.Bacteroidales.Bacteroidaceae.Bacteroides</th><th scope=col>Bacteria.Bacteroidetes.Bacteroidia.Bacteroidales.Porphyromonadaceae.Barnesiella</th><th scope=col>Bacteria.Bacteroidetes.Bacteroidia.Bacteroidales.Porphyromonadaceae.Butyricimonas</th><th scope=col>...</th><th scope=col>Bacteria.Proteobacteria.Betaproteobacteria.Burkholderiales.Oxalobacteraceae.Oxalobacter</th><th scope=col>Bacteria.Proteobacteria.Betaproteobacteria.Neisseriales.Neisseriaceae.Neisseria</th><th scope=col>Bacteria.Proteobacteria.Deltaproteobacteria.Desulfovibrionales.Desulfovibrionaceae.Desulfovibrio</th><th scope=col>Bacteria.Proteobacteria.Epsilonproteobacteria.Campylobacterales.Campylobacteraceae.Campylobacter</th><th scope=col>Bacteria.Proteobacteria.Gammaproteobacteria.Aeromonadales.Succinivibrionaceae.Succinivibrio</th><th scope=col>Bacteria.Proteobacteria.Gammaproteobacteria.Pseudomonadales.Pseudomonadaceae.Pseudomonas</th><th scope=col>Bacteria.Proteobacteria.Gammaproteobacteria.Xanthomonadales.Xanthomonadaceae.Stenotrophomonas</th><th scope=col>Bacteria.Synergistetes.Synergistia.Synergistales.Synergistaceae.Cloacibacillus</th><th scope=col>Bacteria.Synergistetes.Synergistia.Synergistales.Synergistaceae.Pyramidobacter</th><th scope=col>Bacteria.Verrucomicrobia.Verrucomicrobiae.Verrucomicrobiales.Verrucomicrobiaceae.Akkermansia</th></tr></thead>\n",
       "<tbody>\n",
       "\t<tr><th scope=row>3001</th><td>0   </td><td>0   </td><td>0   </td><td>0   </td><td>0   </td><td>0   </td><td>0   </td><td>2878</td><td>  0 </td><td>69  </td><td>... </td><td>0   </td><td>0   </td><td>0   </td><td>0   </td><td>0   </td><td>0   </td><td>0   </td><td>0   </td><td>0   </td><td>0   </td></tr>\n",
       "\t<tr><th scope=row>3003</th><td>0   </td><td>0   </td><td>0   </td><td>0   </td><td>0   </td><td>0   </td><td>0   </td><td> 578</td><td>180 </td><td> 0  </td><td>... </td><td>2   </td><td>0   </td><td>0   </td><td>1   </td><td>0   </td><td>0   </td><td>0   </td><td>0   </td><td>0   </td><td>0   </td></tr>\n",
       "\t<tr><th scope=row>3004</th><td>0   </td><td>0   </td><td>0   </td><td>0   </td><td>0   </td><td>0   </td><td>0   </td><td>3503</td><td>143 </td><td> 0  </td><td>... </td><td>0   </td><td>0   </td><td>0   </td><td>0   </td><td>0   </td><td>0   </td><td>0   </td><td>0   </td><td>0   </td><td>0   </td></tr>\n",
       "\t<tr><th scope=row>3006</th><td>0   </td><td>0   </td><td>0   </td><td>0   </td><td>0   </td><td>0   </td><td>0   </td><td>2162</td><td>  1 </td><td> 0  </td><td>... </td><td>3   </td><td>0   </td><td>0   </td><td>0   </td><td>0   </td><td>0   </td><td>0   </td><td>0   </td><td>0   </td><td>0   </td></tr>\n",
       "\t<tr><th scope=row>3007</th><td>0   </td><td>0   </td><td>0   </td><td>2   </td><td>0   </td><td>0   </td><td>0   </td><td>4453</td><td>  0 </td><td> 0  </td><td>... </td><td>9   </td><td>0   </td><td>0   </td><td>1   </td><td>0   </td><td>0   </td><td>0   </td><td>0   </td><td>0   </td><td>0   </td></tr>\n",
       "\t<tr><th scope=row>3008</th><td>0   </td><td>0   </td><td>0   </td><td>1   </td><td>0   </td><td>0   </td><td>0   </td><td> 950</td><td>237 </td><td>19  </td><td>... </td><td>4   </td><td>0   </td><td>0   </td><td>0   </td><td>0   </td><td>0   </td><td>0   </td><td>0   </td><td>0   </td><td>0   </td></tr>\n",
       "</tbody>\n",
       "</table>\n"
      ],
      "text/latex": [
       "\\begin{tabular}{r|lllllllllllllllllllllllllllllllllllllllllllllllllllllllllllllllllllllllllllllllllllllll}\n",
       "  & Bacteria.Actinobacteria.Actinobacteria.Coriobacteriales.Coriobacteriaceae.Asaccharobacter & Bacteria.Actinobacteria.Actinobacteria.Coriobacteriales.Coriobacteriaceae.Atopobium & Bacteria.Actinobacteria.Actinobacteria.Coriobacteriales.Coriobacteriaceae.Collinsella & Bacteria.Actinobacteria.Actinobacteria.Coriobacteriales.Coriobacteriaceae.Eggerthella & Bacteria.Actinobacteria.Actinobacteria.Coriobacteriales.Coriobacteriaceae.Gordonibacter & Bacteria.Actinobacteria.Actinobacteria.Coriobacteriales.Coriobacteriaceae.Olsenella & Bacteria.Actinobacteria.Actinobacteria.Coriobacteriales.Coriobacteriaceae.Slackia & Bacteria.Bacteroidetes.Bacteroidia.Bacteroidales.Bacteroidaceae.Bacteroides & Bacteria.Bacteroidetes.Bacteroidia.Bacteroidales.Porphyromonadaceae.Barnesiella & Bacteria.Bacteroidetes.Bacteroidia.Bacteroidales.Porphyromonadaceae.Butyricimonas & ... & Bacteria.Proteobacteria.Betaproteobacteria.Burkholderiales.Oxalobacteraceae.Oxalobacter & Bacteria.Proteobacteria.Betaproteobacteria.Neisseriales.Neisseriaceae.Neisseria & Bacteria.Proteobacteria.Deltaproteobacteria.Desulfovibrionales.Desulfovibrionaceae.Desulfovibrio & Bacteria.Proteobacteria.Epsilonproteobacteria.Campylobacterales.Campylobacteraceae.Campylobacter & Bacteria.Proteobacteria.Gammaproteobacteria.Aeromonadales.Succinivibrionaceae.Succinivibrio & Bacteria.Proteobacteria.Gammaproteobacteria.Pseudomonadales.Pseudomonadaceae.Pseudomonas & Bacteria.Proteobacteria.Gammaproteobacteria.Xanthomonadales.Xanthomonadaceae.Stenotrophomonas & Bacteria.Synergistetes.Synergistia.Synergistales.Synergistaceae.Cloacibacillus & Bacteria.Synergistetes.Synergistia.Synergistales.Synergistaceae.Pyramidobacter & Bacteria.Verrucomicrobia.Verrucomicrobiae.Verrucomicrobiales.Verrucomicrobiaceae.Akkermansia\\\\\n",
       "\\hline\n",
       "\t3001 & 0    & 0    & 0    & 0    & 0    & 0    & 0    & 2878 &   0  & 69   & ...  & 0    & 0    & 0    & 0    & 0    & 0    & 0    & 0    & 0    & 0   \\\\\n",
       "\t3003 & 0    & 0    & 0    & 0    & 0    & 0    & 0    &  578 & 180  &  0   & ...  & 2    & 0    & 0    & 1    & 0    & 0    & 0    & 0    & 0    & 0   \\\\\n",
       "\t3004 & 0    & 0    & 0    & 0    & 0    & 0    & 0    & 3503 & 143  &  0   & ...  & 0    & 0    & 0    & 0    & 0    & 0    & 0    & 0    & 0    & 0   \\\\\n",
       "\t3006 & 0    & 0    & 0    & 0    & 0    & 0    & 0    & 2162 &   1  &  0   & ...  & 3    & 0    & 0    & 0    & 0    & 0    & 0    & 0    & 0    & 0   \\\\\n",
       "\t3007 & 0    & 0    & 0    & 2    & 0    & 0    & 0    & 4453 &   0  &  0   & ...  & 9    & 0    & 0    & 1    & 0    & 0    & 0    & 0    & 0    & 0   \\\\\n",
       "\t3008 & 0    & 0    & 0    & 1    & 0    & 0    & 0    &  950 & 237  & 19   & ...  & 4    & 0    & 0    & 0    & 0    & 0    & 0    & 0    & 0    & 0   \\\\\n",
       "\\end{tabular}\n"
      ],
      "text/markdown": [
       "\n",
       "| <!--/--> | Bacteria.Actinobacteria.Actinobacteria.Coriobacteriales.Coriobacteriaceae.Asaccharobacter | Bacteria.Actinobacteria.Actinobacteria.Coriobacteriales.Coriobacteriaceae.Atopobium | Bacteria.Actinobacteria.Actinobacteria.Coriobacteriales.Coriobacteriaceae.Collinsella | Bacteria.Actinobacteria.Actinobacteria.Coriobacteriales.Coriobacteriaceae.Eggerthella | Bacteria.Actinobacteria.Actinobacteria.Coriobacteriales.Coriobacteriaceae.Gordonibacter | Bacteria.Actinobacteria.Actinobacteria.Coriobacteriales.Coriobacteriaceae.Olsenella | Bacteria.Actinobacteria.Actinobacteria.Coriobacteriales.Coriobacteriaceae.Slackia | Bacteria.Bacteroidetes.Bacteroidia.Bacteroidales.Bacteroidaceae.Bacteroides | Bacteria.Bacteroidetes.Bacteroidia.Bacteroidales.Porphyromonadaceae.Barnesiella | Bacteria.Bacteroidetes.Bacteroidia.Bacteroidales.Porphyromonadaceae.Butyricimonas | ... | Bacteria.Proteobacteria.Betaproteobacteria.Burkholderiales.Oxalobacteraceae.Oxalobacter | Bacteria.Proteobacteria.Betaproteobacteria.Neisseriales.Neisseriaceae.Neisseria | Bacteria.Proteobacteria.Deltaproteobacteria.Desulfovibrionales.Desulfovibrionaceae.Desulfovibrio | Bacteria.Proteobacteria.Epsilonproteobacteria.Campylobacterales.Campylobacteraceae.Campylobacter | Bacteria.Proteobacteria.Gammaproteobacteria.Aeromonadales.Succinivibrionaceae.Succinivibrio | Bacteria.Proteobacteria.Gammaproteobacteria.Pseudomonadales.Pseudomonadaceae.Pseudomonas | Bacteria.Proteobacteria.Gammaproteobacteria.Xanthomonadales.Xanthomonadaceae.Stenotrophomonas | Bacteria.Synergistetes.Synergistia.Synergistales.Synergistaceae.Cloacibacillus | Bacteria.Synergistetes.Synergistia.Synergistales.Synergistaceae.Pyramidobacter | Bacteria.Verrucomicrobia.Verrucomicrobiae.Verrucomicrobiales.Verrucomicrobiaceae.Akkermansia |\n",
       "|---|---|---|---|---|---|---|---|---|---|---|---|---|---|---|---|---|---|---|---|---|---|\n",
       "| 3001 | 0    | 0    | 0    | 0    | 0    | 0    | 0    | 2878 |   0  | 69   | ...  | 0    | 0    | 0    | 0    | 0    | 0    | 0    | 0    | 0    | 0    |\n",
       "| 3003 | 0    | 0    | 0    | 0    | 0    | 0    | 0    |  578 | 180  |  0   | ...  | 2    | 0    | 0    | 1    | 0    | 0    | 0    | 0    | 0    | 0    |\n",
       "| 3004 | 0    | 0    | 0    | 0    | 0    | 0    | 0    | 3503 | 143  |  0   | ...  | 0    | 0    | 0    | 0    | 0    | 0    | 0    | 0    | 0    | 0    |\n",
       "| 3006 | 0    | 0    | 0    | 0    | 0    | 0    | 0    | 2162 |   1  |  0   | ...  | 3    | 0    | 0    | 0    | 0    | 0    | 0    | 0    | 0    | 0    |\n",
       "| 3007 | 0    | 0    | 0    | 2    | 0    | 0    | 0    | 4453 |   0  |  0   | ...  | 9    | 0    | 0    | 1    | 0    | 0    | 0    | 0    | 0    | 0    |\n",
       "| 3008 | 0    | 0    | 0    | 1    | 0    | 0    | 0    |  950 | 237  | 19   | ...  | 4    | 0    | 0    | 0    | 0    | 0    | 0    | 0    | 0    | 0    |\n",
       "\n"
      ],
      "text/plain": [
       "     Bacteria.Actinobacteria.Actinobacteria.Coriobacteriales.Coriobacteriaceae.Asaccharobacter\n",
       "3001 0                                                                                        \n",
       "3003 0                                                                                        \n",
       "3004 0                                                                                        \n",
       "3006 0                                                                                        \n",
       "3007 0                                                                                        \n",
       "3008 0                                                                                        \n",
       "     Bacteria.Actinobacteria.Actinobacteria.Coriobacteriales.Coriobacteriaceae.Atopobium\n",
       "3001 0                                                                                  \n",
       "3003 0                                                                                  \n",
       "3004 0                                                                                  \n",
       "3006 0                                                                                  \n",
       "3007 0                                                                                  \n",
       "3008 0                                                                                  \n",
       "     Bacteria.Actinobacteria.Actinobacteria.Coriobacteriales.Coriobacteriaceae.Collinsella\n",
       "3001 0                                                                                    \n",
       "3003 0                                                                                    \n",
       "3004 0                                                                                    \n",
       "3006 0                                                                                    \n",
       "3007 0                                                                                    \n",
       "3008 0                                                                                    \n",
       "     Bacteria.Actinobacteria.Actinobacteria.Coriobacteriales.Coriobacteriaceae.Eggerthella\n",
       "3001 0                                                                                    \n",
       "3003 0                                                                                    \n",
       "3004 0                                                                                    \n",
       "3006 0                                                                                    \n",
       "3007 2                                                                                    \n",
       "3008 1                                                                                    \n",
       "     Bacteria.Actinobacteria.Actinobacteria.Coriobacteriales.Coriobacteriaceae.Gordonibacter\n",
       "3001 0                                                                                      \n",
       "3003 0                                                                                      \n",
       "3004 0                                                                                      \n",
       "3006 0                                                                                      \n",
       "3007 0                                                                                      \n",
       "3008 0                                                                                      \n",
       "     Bacteria.Actinobacteria.Actinobacteria.Coriobacteriales.Coriobacteriaceae.Olsenella\n",
       "3001 0                                                                                  \n",
       "3003 0                                                                                  \n",
       "3004 0                                                                                  \n",
       "3006 0                                                                                  \n",
       "3007 0                                                                                  \n",
       "3008 0                                                                                  \n",
       "     Bacteria.Actinobacteria.Actinobacteria.Coriobacteriales.Coriobacteriaceae.Slackia\n",
       "3001 0                                                                                \n",
       "3003 0                                                                                \n",
       "3004 0                                                                                \n",
       "3006 0                                                                                \n",
       "3007 0                                                                                \n",
       "3008 0                                                                                \n",
       "     Bacteria.Bacteroidetes.Bacteroidia.Bacteroidales.Bacteroidaceae.Bacteroides\n",
       "3001 2878                                                                       \n",
       "3003  578                                                                       \n",
       "3004 3503                                                                       \n",
       "3006 2162                                                                       \n",
       "3007 4453                                                                       \n",
       "3008  950                                                                       \n",
       "     Bacteria.Bacteroidetes.Bacteroidia.Bacteroidales.Porphyromonadaceae.Barnesiella\n",
       "3001   0                                                                            \n",
       "3003 180                                                                            \n",
       "3004 143                                                                            \n",
       "3006   1                                                                            \n",
       "3007   0                                                                            \n",
       "3008 237                                                                            \n",
       "     Bacteria.Bacteroidetes.Bacteroidia.Bacteroidales.Porphyromonadaceae.Butyricimonas\n",
       "3001 69                                                                               \n",
       "3003  0                                                                               \n",
       "3004  0                                                                               \n",
       "3006  0                                                                               \n",
       "3007  0                                                                               \n",
       "3008 19                                                                               \n",
       "     ...\n",
       "3001 ...\n",
       "3003 ...\n",
       "3004 ...\n",
       "3006 ...\n",
       "3007 ...\n",
       "3008 ...\n",
       "     Bacteria.Proteobacteria.Betaproteobacteria.Burkholderiales.Oxalobacteraceae.Oxalobacter\n",
       "3001 0                                                                                      \n",
       "3003 2                                                                                      \n",
       "3004 0                                                                                      \n",
       "3006 3                                                                                      \n",
       "3007 9                                                                                      \n",
       "3008 4                                                                                      \n",
       "     Bacteria.Proteobacteria.Betaproteobacteria.Neisseriales.Neisseriaceae.Neisseria\n",
       "3001 0                                                                              \n",
       "3003 0                                                                              \n",
       "3004 0                                                                              \n",
       "3006 0                                                                              \n",
       "3007 0                                                                              \n",
       "3008 0                                                                              \n",
       "     Bacteria.Proteobacteria.Deltaproteobacteria.Desulfovibrionales.Desulfovibrionaceae.Desulfovibrio\n",
       "3001 0                                                                                               \n",
       "3003 0                                                                                               \n",
       "3004 0                                                                                               \n",
       "3006 0                                                                                               \n",
       "3007 0                                                                                               \n",
       "3008 0                                                                                               \n",
       "     Bacteria.Proteobacteria.Epsilonproteobacteria.Campylobacterales.Campylobacteraceae.Campylobacter\n",
       "3001 0                                                                                               \n",
       "3003 1                                                                                               \n",
       "3004 0                                                                                               \n",
       "3006 0                                                                                               \n",
       "3007 1                                                                                               \n",
       "3008 0                                                                                               \n",
       "     Bacteria.Proteobacteria.Gammaproteobacteria.Aeromonadales.Succinivibrionaceae.Succinivibrio\n",
       "3001 0                                                                                          \n",
       "3003 0                                                                                          \n",
       "3004 0                                                                                          \n",
       "3006 0                                                                                          \n",
       "3007 0                                                                                          \n",
       "3008 0                                                                                          \n",
       "     Bacteria.Proteobacteria.Gammaproteobacteria.Pseudomonadales.Pseudomonadaceae.Pseudomonas\n",
       "3001 0                                                                                       \n",
       "3003 0                                                                                       \n",
       "3004 0                                                                                       \n",
       "3006 0                                                                                       \n",
       "3007 0                                                                                       \n",
       "3008 0                                                                                       \n",
       "     Bacteria.Proteobacteria.Gammaproteobacteria.Xanthomonadales.Xanthomonadaceae.Stenotrophomonas\n",
       "3001 0                                                                                            \n",
       "3003 0                                                                                            \n",
       "3004 0                                                                                            \n",
       "3006 0                                                                                            \n",
       "3007 0                                                                                            \n",
       "3008 0                                                                                            \n",
       "     Bacteria.Synergistetes.Synergistia.Synergistales.Synergistaceae.Cloacibacillus\n",
       "3001 0                                                                             \n",
       "3003 0                                                                             \n",
       "3004 0                                                                             \n",
       "3006 0                                                                             \n",
       "3007 0                                                                             \n",
       "3008 0                                                                             \n",
       "     Bacteria.Synergistetes.Synergistia.Synergistales.Synergistaceae.Pyramidobacter\n",
       "3001 0                                                                             \n",
       "3003 0                                                                             \n",
       "3004 0                                                                             \n",
       "3006 0                                                                             \n",
       "3007 0                                                                             \n",
       "3008 0                                                                             \n",
       "     Bacteria.Verrucomicrobia.Verrucomicrobiae.Verrucomicrobiales.Verrucomicrobiaceae.Akkermansia\n",
       "3001 0                                                                                           \n",
       "3003 0                                                                                           \n",
       "3004 0                                                                                           \n",
       "3006 0                                                                                           \n",
       "3007 0                                                                                           \n",
       "3008 0                                                                                           "
      ]
     },
     "metadata": {},
     "output_type": "display_data"
    }
   ],
   "source": [
    "# retain only microbes at genus level and exist at least one sample\n",
    "depth <- sapply(strsplit(colnames(count), \"\\\\.\"), length)\n",
    "x <- count[, depth == 6 & colSums(count != 0) >= 1] # 98 * 87\n",
    "dim(x)\n",
    "head(x)"
   ]
  },
  {
   "cell_type": "code",
   "execution_count": 30,
   "metadata": {},
   "outputs": [
    {
     "data": {
      "text/html": [
       "<ol class=list-inline>\n",
       "\t<li>98</li>\n",
       "\t<li>87</li>\n",
       "</ol>\n"
      ],
      "text/latex": [
       "\\begin{enumerate*}\n",
       "\\item 98\n",
       "\\item 87\n",
       "\\end{enumerate*}\n"
      ],
      "text/markdown": [
       "1. 98\n",
       "2. 87\n",
       "\n",
       "\n"
      ],
      "text/plain": [
       "[1] 98 87"
      ]
     },
     "metadata": {},
     "output_type": "display_data"
    },
    {
     "data": {
      "text/html": [
       "<table>\n",
       "<thead><tr><th></th><th scope=col>Bacteria.Actinobacteria.Actinobacteria.Coriobacteriales.Coriobacteriaceae.Asaccharobacter</th><th scope=col>Bacteria.Actinobacteria.Actinobacteria.Coriobacteriales.Coriobacteriaceae.Atopobium</th><th scope=col>Bacteria.Actinobacteria.Actinobacteria.Coriobacteriales.Coriobacteriaceae.Collinsella</th><th scope=col>Bacteria.Actinobacteria.Actinobacteria.Coriobacteriales.Coriobacteriaceae.Eggerthella</th><th scope=col>Bacteria.Actinobacteria.Actinobacteria.Coriobacteriales.Coriobacteriaceae.Gordonibacter</th><th scope=col>Bacteria.Actinobacteria.Actinobacteria.Coriobacteriales.Coriobacteriaceae.Olsenella</th><th scope=col>Bacteria.Actinobacteria.Actinobacteria.Coriobacteriales.Coriobacteriaceae.Slackia</th><th scope=col>Bacteria.Bacteroidetes.Bacteroidia.Bacteroidales.Bacteroidaceae.Bacteroides</th><th scope=col>Bacteria.Bacteroidetes.Bacteroidia.Bacteroidales.Porphyromonadaceae.Barnesiella</th><th scope=col>Bacteria.Bacteroidetes.Bacteroidia.Bacteroidales.Porphyromonadaceae.Butyricimonas</th><th scope=col>...</th><th scope=col>Bacteria.Proteobacteria.Betaproteobacteria.Burkholderiales.Oxalobacteraceae.Oxalobacter</th><th scope=col>Bacteria.Proteobacteria.Betaproteobacteria.Neisseriales.Neisseriaceae.Neisseria</th><th scope=col>Bacteria.Proteobacteria.Deltaproteobacteria.Desulfovibrionales.Desulfovibrionaceae.Desulfovibrio</th><th scope=col>Bacteria.Proteobacteria.Epsilonproteobacteria.Campylobacterales.Campylobacteraceae.Campylobacter</th><th scope=col>Bacteria.Proteobacteria.Gammaproteobacteria.Aeromonadales.Succinivibrionaceae.Succinivibrio</th><th scope=col>Bacteria.Proteobacteria.Gammaproteobacteria.Pseudomonadales.Pseudomonadaceae.Pseudomonas</th><th scope=col>Bacteria.Proteobacteria.Gammaproteobacteria.Xanthomonadales.Xanthomonadaceae.Stenotrophomonas</th><th scope=col>Bacteria.Synergistetes.Synergistia.Synergistales.Synergistaceae.Cloacibacillus</th><th scope=col>Bacteria.Synergistetes.Synergistia.Synergistales.Synergistaceae.Pyramidobacter</th><th scope=col>Bacteria.Verrucomicrobia.Verrucomicrobiae.Verrucomicrobiales.Verrucomicrobiaceae.Akkermansia</th></tr></thead>\n",
       "<tbody>\n",
       "\t<tr><th scope=row>3001</th><td>-9.500918 </td><td>-9.500918 </td><td>-9.500918 </td><td>-9.500918 </td><td>-9.500918 </td><td>-9.500918 </td><td>-9.500918 </td><td>-0.8429202</td><td>-9.500918 </td><td>-4.573665 </td><td>...       </td><td>-9.500918 </td><td>-9.500918 </td><td>-9.500918 </td><td>-9.500918 </td><td>-9.500918 </td><td>-9.500918 </td><td>-9.500918 </td><td>-9.500918 </td><td>-9.500918 </td><td>-9.500918 </td></tr>\n",
       "\t<tr><th scope=row>3003</th><td>-9.278560 </td><td>-9.278560 </td><td>-9.278560 </td><td>-9.278560 </td><td>-9.278560 </td><td>-9.278560 </td><td>-9.278560 </td><td>-2.2258386</td><td>-3.392456 </td><td>-9.278560 </td><td>...       </td><td>-7.892265 </td><td>-9.278560 </td><td>-9.278560 </td><td>-8.585412 </td><td>-9.278560 </td><td>-9.278560 </td><td>-9.278560 </td><td>-9.278560 </td><td>-9.278560 </td><td>-9.278560 </td></tr>\n",
       "\t<tr><th scope=row>3004</th><td>-9.269646 </td><td>-9.269646 </td><td>-9.269646 </td><td>-9.269646 </td><td>-9.269646 </td><td>-9.269646 </td><td>-9.269646 </td><td>-0.4151243</td><td>-3.613655 </td><td>-9.269646 </td><td>...       </td><td>-9.269646 </td><td>-9.269646 </td><td>-9.269646 </td><td>-9.269646 </td><td>-9.269646 </td><td>-9.269646 </td><td>-9.269646 </td><td>-9.269646 </td><td>-9.269646 </td><td>-9.269646 </td></tr>\n",
       "\t<tr><th scope=row>3006</th><td>-9.114600 </td><td>-9.114600 </td><td>-9.114600 </td><td>-9.114600 </td><td>-9.114600 </td><td>-9.114600 </td><td>-9.114600 </td><td>-0.7426639</td><td>-8.421453 </td><td>-9.114600 </td><td>...       </td><td>-7.322841 </td><td>-9.114600 </td><td>-9.114600 </td><td>-9.114600 </td><td>-9.114600 </td><td>-9.114600 </td><td>-9.114600 </td><td>-9.114600 </td><td>-9.114600 </td><td>-9.114600 </td></tr>\n",
       "\t<tr><th scope=row>3007</th><td>-9.643356 </td><td>-9.643356 </td><td>-9.643356 </td><td>-8.257061 </td><td>-9.643356 </td><td>-9.643356 </td><td>-9.643356 </td><td>-0.5488753</td><td>-9.643356 </td><td>-9.643356 </td><td>...       </td><td>-6.752984 </td><td>-9.643356 </td><td>-9.643356 </td><td>-8.950209 </td><td>-9.643356 </td><td>-9.643356 </td><td>-9.643356 </td><td>-9.643356 </td><td>-9.643356 </td><td>-9.643356 </td></tr>\n",
       "\t<tr><th scope=row>3008</th><td>-8.387085 </td><td>-8.387085 </td><td>-8.387085 </td><td>-7.693937 </td><td>-8.387085 </td><td>-8.387085 </td><td>-8.387085 </td><td>-0.8374753</td><td>-2.225877 </td><td>-4.749498 </td><td>...       </td><td>-6.307643 </td><td>-8.387085 </td><td>-8.387085 </td><td>-8.387085 </td><td>-8.387085 </td><td>-8.387085 </td><td>-8.387085 </td><td>-8.387085 </td><td>-8.387085 </td><td>-8.387085 </td></tr>\n",
       "</tbody>\n",
       "</table>\n"
      ],
      "text/latex": [
       "\\begin{tabular}{r|lllllllllllllllllllllllllllllllllllllllllllllllllllllllllllllllllllllllllllllllllllllll}\n",
       "  & Bacteria.Actinobacteria.Actinobacteria.Coriobacteriales.Coriobacteriaceae.Asaccharobacter & Bacteria.Actinobacteria.Actinobacteria.Coriobacteriales.Coriobacteriaceae.Atopobium & Bacteria.Actinobacteria.Actinobacteria.Coriobacteriales.Coriobacteriaceae.Collinsella & Bacteria.Actinobacteria.Actinobacteria.Coriobacteriales.Coriobacteriaceae.Eggerthella & Bacteria.Actinobacteria.Actinobacteria.Coriobacteriales.Coriobacteriaceae.Gordonibacter & Bacteria.Actinobacteria.Actinobacteria.Coriobacteriales.Coriobacteriaceae.Olsenella & Bacteria.Actinobacteria.Actinobacteria.Coriobacteriales.Coriobacteriaceae.Slackia & Bacteria.Bacteroidetes.Bacteroidia.Bacteroidales.Bacteroidaceae.Bacteroides & Bacteria.Bacteroidetes.Bacteroidia.Bacteroidales.Porphyromonadaceae.Barnesiella & Bacteria.Bacteroidetes.Bacteroidia.Bacteroidales.Porphyromonadaceae.Butyricimonas & ... & Bacteria.Proteobacteria.Betaproteobacteria.Burkholderiales.Oxalobacteraceae.Oxalobacter & Bacteria.Proteobacteria.Betaproteobacteria.Neisseriales.Neisseriaceae.Neisseria & Bacteria.Proteobacteria.Deltaproteobacteria.Desulfovibrionales.Desulfovibrionaceae.Desulfovibrio & Bacteria.Proteobacteria.Epsilonproteobacteria.Campylobacterales.Campylobacteraceae.Campylobacter & Bacteria.Proteobacteria.Gammaproteobacteria.Aeromonadales.Succinivibrionaceae.Succinivibrio & Bacteria.Proteobacteria.Gammaproteobacteria.Pseudomonadales.Pseudomonadaceae.Pseudomonas & Bacteria.Proteobacteria.Gammaproteobacteria.Xanthomonadales.Xanthomonadaceae.Stenotrophomonas & Bacteria.Synergistetes.Synergistia.Synergistales.Synergistaceae.Cloacibacillus & Bacteria.Synergistetes.Synergistia.Synergistales.Synergistaceae.Pyramidobacter & Bacteria.Verrucomicrobia.Verrucomicrobiae.Verrucomicrobiales.Verrucomicrobiaceae.Akkermansia\\\\\n",
       "\\hline\n",
       "\t3001 & -9.500918  & -9.500918  & -9.500918  & -9.500918  & -9.500918  & -9.500918  & -9.500918  & -0.8429202 & -9.500918  & -4.573665  & ...        & -9.500918  & -9.500918  & -9.500918  & -9.500918  & -9.500918  & -9.500918  & -9.500918  & -9.500918  & -9.500918  & -9.500918 \\\\\n",
       "\t3003 & -9.278560  & -9.278560  & -9.278560  & -9.278560  & -9.278560  & -9.278560  & -9.278560  & -2.2258386 & -3.392456  & -9.278560  & ...        & -7.892265  & -9.278560  & -9.278560  & -8.585412  & -9.278560  & -9.278560  & -9.278560  & -9.278560  & -9.278560  & -9.278560 \\\\\n",
       "\t3004 & -9.269646  & -9.269646  & -9.269646  & -9.269646  & -9.269646  & -9.269646  & -9.269646  & -0.4151243 & -3.613655  & -9.269646  & ...        & -9.269646  & -9.269646  & -9.269646  & -9.269646  & -9.269646  & -9.269646  & -9.269646  & -9.269646  & -9.269646  & -9.269646 \\\\\n",
       "\t3006 & -9.114600  & -9.114600  & -9.114600  & -9.114600  & -9.114600  & -9.114600  & -9.114600  & -0.7426639 & -8.421453  & -9.114600  & ...        & -7.322841  & -9.114600  & -9.114600  & -9.114600  & -9.114600  & -9.114600  & -9.114600  & -9.114600  & -9.114600  & -9.114600 \\\\\n",
       "\t3007 & -9.643356  & -9.643356  & -9.643356  & -8.257061  & -9.643356  & -9.643356  & -9.643356  & -0.5488753 & -9.643356  & -9.643356  & ...        & -6.752984  & -9.643356  & -9.643356  & -8.950209  & -9.643356  & -9.643356  & -9.643356  & -9.643356  & -9.643356  & -9.643356 \\\\\n",
       "\t3008 & -8.387085  & -8.387085  & -8.387085  & -7.693937  & -8.387085  & -8.387085  & -8.387085  & -0.8374753 & -2.225877  & -4.749498  & ...        & -6.307643  & -8.387085  & -8.387085  & -8.387085  & -8.387085  & -8.387085  & -8.387085  & -8.387085  & -8.387085  & -8.387085 \\\\\n",
       "\\end{tabular}\n"
      ],
      "text/markdown": [
       "\n",
       "| <!--/--> | Bacteria.Actinobacteria.Actinobacteria.Coriobacteriales.Coriobacteriaceae.Asaccharobacter | Bacteria.Actinobacteria.Actinobacteria.Coriobacteriales.Coriobacteriaceae.Atopobium | Bacteria.Actinobacteria.Actinobacteria.Coriobacteriales.Coriobacteriaceae.Collinsella | Bacteria.Actinobacteria.Actinobacteria.Coriobacteriales.Coriobacteriaceae.Eggerthella | Bacteria.Actinobacteria.Actinobacteria.Coriobacteriales.Coriobacteriaceae.Gordonibacter | Bacteria.Actinobacteria.Actinobacteria.Coriobacteriales.Coriobacteriaceae.Olsenella | Bacteria.Actinobacteria.Actinobacteria.Coriobacteriales.Coriobacteriaceae.Slackia | Bacteria.Bacteroidetes.Bacteroidia.Bacteroidales.Bacteroidaceae.Bacteroides | Bacteria.Bacteroidetes.Bacteroidia.Bacteroidales.Porphyromonadaceae.Barnesiella | Bacteria.Bacteroidetes.Bacteroidia.Bacteroidales.Porphyromonadaceae.Butyricimonas | ... | Bacteria.Proteobacteria.Betaproteobacteria.Burkholderiales.Oxalobacteraceae.Oxalobacter | Bacteria.Proteobacteria.Betaproteobacteria.Neisseriales.Neisseriaceae.Neisseria | Bacteria.Proteobacteria.Deltaproteobacteria.Desulfovibrionales.Desulfovibrionaceae.Desulfovibrio | Bacteria.Proteobacteria.Epsilonproteobacteria.Campylobacterales.Campylobacteraceae.Campylobacter | Bacteria.Proteobacteria.Gammaproteobacteria.Aeromonadales.Succinivibrionaceae.Succinivibrio | Bacteria.Proteobacteria.Gammaproteobacteria.Pseudomonadales.Pseudomonadaceae.Pseudomonas | Bacteria.Proteobacteria.Gammaproteobacteria.Xanthomonadales.Xanthomonadaceae.Stenotrophomonas | Bacteria.Synergistetes.Synergistia.Synergistales.Synergistaceae.Cloacibacillus | Bacteria.Synergistetes.Synergistia.Synergistales.Synergistaceae.Pyramidobacter | Bacteria.Verrucomicrobia.Verrucomicrobiae.Verrucomicrobiales.Verrucomicrobiaceae.Akkermansia |\n",
       "|---|---|---|---|---|---|---|---|---|---|---|---|---|---|---|---|---|---|---|---|---|---|\n",
       "| 3001 | -9.500918  | -9.500918  | -9.500918  | -9.500918  | -9.500918  | -9.500918  | -9.500918  | -0.8429202 | -9.500918  | -4.573665  | ...        | -9.500918  | -9.500918  | -9.500918  | -9.500918  | -9.500918  | -9.500918  | -9.500918  | -9.500918  | -9.500918  | -9.500918  |\n",
       "| 3003 | -9.278560  | -9.278560  | -9.278560  | -9.278560  | -9.278560  | -9.278560  | -9.278560  | -2.2258386 | -3.392456  | -9.278560  | ...        | -7.892265  | -9.278560  | -9.278560  | -8.585412  | -9.278560  | -9.278560  | -9.278560  | -9.278560  | -9.278560  | -9.278560  |\n",
       "| 3004 | -9.269646  | -9.269646  | -9.269646  | -9.269646  | -9.269646  | -9.269646  | -9.269646  | -0.4151243 | -3.613655  | -9.269646  | ...        | -9.269646  | -9.269646  | -9.269646  | -9.269646  | -9.269646  | -9.269646  | -9.269646  | -9.269646  | -9.269646  | -9.269646  |\n",
       "| 3006 | -9.114600  | -9.114600  | -9.114600  | -9.114600  | -9.114600  | -9.114600  | -9.114600  | -0.7426639 | -8.421453  | -9.114600  | ...        | -7.322841  | -9.114600  | -9.114600  | -9.114600  | -9.114600  | -9.114600  | -9.114600  | -9.114600  | -9.114600  | -9.114600  |\n",
       "| 3007 | -9.643356  | -9.643356  | -9.643356  | -8.257061  | -9.643356  | -9.643356  | -9.643356  | -0.5488753 | -9.643356  | -9.643356  | ...        | -6.752984  | -9.643356  | -9.643356  | -8.950209  | -9.643356  | -9.643356  | -9.643356  | -9.643356  | -9.643356  | -9.643356  |\n",
       "| 3008 | -8.387085  | -8.387085  | -8.387085  | -7.693937  | -8.387085  | -8.387085  | -8.387085  | -0.8374753 | -2.225877  | -4.749498  | ...        | -6.307643  | -8.387085  | -8.387085  | -8.387085  | -8.387085  | -8.387085  | -8.387085  | -8.387085  | -8.387085  | -8.387085  |\n",
       "\n"
      ],
      "text/plain": [
       "     Bacteria.Actinobacteria.Actinobacteria.Coriobacteriales.Coriobacteriaceae.Asaccharobacter\n",
       "3001 -9.500918                                                                                \n",
       "3003 -9.278560                                                                                \n",
       "3004 -9.269646                                                                                \n",
       "3006 -9.114600                                                                                \n",
       "3007 -9.643356                                                                                \n",
       "3008 -8.387085                                                                                \n",
       "     Bacteria.Actinobacteria.Actinobacteria.Coriobacteriales.Coriobacteriaceae.Atopobium\n",
       "3001 -9.500918                                                                          \n",
       "3003 -9.278560                                                                          \n",
       "3004 -9.269646                                                                          \n",
       "3006 -9.114600                                                                          \n",
       "3007 -9.643356                                                                          \n",
       "3008 -8.387085                                                                          \n",
       "     Bacteria.Actinobacteria.Actinobacteria.Coriobacteriales.Coriobacteriaceae.Collinsella\n",
       "3001 -9.500918                                                                            \n",
       "3003 -9.278560                                                                            \n",
       "3004 -9.269646                                                                            \n",
       "3006 -9.114600                                                                            \n",
       "3007 -9.643356                                                                            \n",
       "3008 -8.387085                                                                            \n",
       "     Bacteria.Actinobacteria.Actinobacteria.Coriobacteriales.Coriobacteriaceae.Eggerthella\n",
       "3001 -9.500918                                                                            \n",
       "3003 -9.278560                                                                            \n",
       "3004 -9.269646                                                                            \n",
       "3006 -9.114600                                                                            \n",
       "3007 -8.257061                                                                            \n",
       "3008 -7.693937                                                                            \n",
       "     Bacteria.Actinobacteria.Actinobacteria.Coriobacteriales.Coriobacteriaceae.Gordonibacter\n",
       "3001 -9.500918                                                                              \n",
       "3003 -9.278560                                                                              \n",
       "3004 -9.269646                                                                              \n",
       "3006 -9.114600                                                                              \n",
       "3007 -9.643356                                                                              \n",
       "3008 -8.387085                                                                              \n",
       "     Bacteria.Actinobacteria.Actinobacteria.Coriobacteriales.Coriobacteriaceae.Olsenella\n",
       "3001 -9.500918                                                                          \n",
       "3003 -9.278560                                                                          \n",
       "3004 -9.269646                                                                          \n",
       "3006 -9.114600                                                                          \n",
       "3007 -9.643356                                                                          \n",
       "3008 -8.387085                                                                          \n",
       "     Bacteria.Actinobacteria.Actinobacteria.Coriobacteriales.Coriobacteriaceae.Slackia\n",
       "3001 -9.500918                                                                        \n",
       "3003 -9.278560                                                                        \n",
       "3004 -9.269646                                                                        \n",
       "3006 -9.114600                                                                        \n",
       "3007 -9.643356                                                                        \n",
       "3008 -8.387085                                                                        \n",
       "     Bacteria.Bacteroidetes.Bacteroidia.Bacteroidales.Bacteroidaceae.Bacteroides\n",
       "3001 -0.8429202                                                                 \n",
       "3003 -2.2258386                                                                 \n",
       "3004 -0.4151243                                                                 \n",
       "3006 -0.7426639                                                                 \n",
       "3007 -0.5488753                                                                 \n",
       "3008 -0.8374753                                                                 \n",
       "     Bacteria.Bacteroidetes.Bacteroidia.Bacteroidales.Porphyromonadaceae.Barnesiella\n",
       "3001 -9.500918                                                                      \n",
       "3003 -3.392456                                                                      \n",
       "3004 -3.613655                                                                      \n",
       "3006 -8.421453                                                                      \n",
       "3007 -9.643356                                                                      \n",
       "3008 -2.225877                                                                      \n",
       "     Bacteria.Bacteroidetes.Bacteroidia.Bacteroidales.Porphyromonadaceae.Butyricimonas\n",
       "3001 -4.573665                                                                        \n",
       "3003 -9.278560                                                                        \n",
       "3004 -9.269646                                                                        \n",
       "3006 -9.114600                                                                        \n",
       "3007 -9.643356                                                                        \n",
       "3008 -4.749498                                                                        \n",
       "     ...\n",
       "3001 ...\n",
       "3003 ...\n",
       "3004 ...\n",
       "3006 ...\n",
       "3007 ...\n",
       "3008 ...\n",
       "     Bacteria.Proteobacteria.Betaproteobacteria.Burkholderiales.Oxalobacteraceae.Oxalobacter\n",
       "3001 -9.500918                                                                              \n",
       "3003 -7.892265                                                                              \n",
       "3004 -9.269646                                                                              \n",
       "3006 -7.322841                                                                              \n",
       "3007 -6.752984                                                                              \n",
       "3008 -6.307643                                                                              \n",
       "     Bacteria.Proteobacteria.Betaproteobacteria.Neisseriales.Neisseriaceae.Neisseria\n",
       "3001 -9.500918                                                                      \n",
       "3003 -9.278560                                                                      \n",
       "3004 -9.269646                                                                      \n",
       "3006 -9.114600                                                                      \n",
       "3007 -9.643356                                                                      \n",
       "3008 -8.387085                                                                      \n",
       "     Bacteria.Proteobacteria.Deltaproteobacteria.Desulfovibrionales.Desulfovibrionaceae.Desulfovibrio\n",
       "3001 -9.500918                                                                                       \n",
       "3003 -9.278560                                                                                       \n",
       "3004 -9.269646                                                                                       \n",
       "3006 -9.114600                                                                                       \n",
       "3007 -9.643356                                                                                       \n",
       "3008 -8.387085                                                                                       \n",
       "     Bacteria.Proteobacteria.Epsilonproteobacteria.Campylobacterales.Campylobacteraceae.Campylobacter\n",
       "3001 -9.500918                                                                                       \n",
       "3003 -8.585412                                                                                       \n",
       "3004 -9.269646                                                                                       \n",
       "3006 -9.114600                                                                                       \n",
       "3007 -8.950209                                                                                       \n",
       "3008 -8.387085                                                                                       \n",
       "     Bacteria.Proteobacteria.Gammaproteobacteria.Aeromonadales.Succinivibrionaceae.Succinivibrio\n",
       "3001 -9.500918                                                                                  \n",
       "3003 -9.278560                                                                                  \n",
       "3004 -9.269646                                                                                  \n",
       "3006 -9.114600                                                                                  \n",
       "3007 -9.643356                                                                                  \n",
       "3008 -8.387085                                                                                  \n",
       "     Bacteria.Proteobacteria.Gammaproteobacteria.Pseudomonadales.Pseudomonadaceae.Pseudomonas\n",
       "3001 -9.500918                                                                               \n",
       "3003 -9.278560                                                                               \n",
       "3004 -9.269646                                                                               \n",
       "3006 -9.114600                                                                               \n",
       "3007 -9.643356                                                                               \n",
       "3008 -8.387085                                                                               \n",
       "     Bacteria.Proteobacteria.Gammaproteobacteria.Xanthomonadales.Xanthomonadaceae.Stenotrophomonas\n",
       "3001 -9.500918                                                                                    \n",
       "3003 -9.278560                                                                                    \n",
       "3004 -9.269646                                                                                    \n",
       "3006 -9.114600                                                                                    \n",
       "3007 -9.643356                                                                                    \n",
       "3008 -8.387085                                                                                    \n",
       "     Bacteria.Synergistetes.Synergistia.Synergistales.Synergistaceae.Cloacibacillus\n",
       "3001 -9.500918                                                                     \n",
       "3003 -9.278560                                                                     \n",
       "3004 -9.269646                                                                     \n",
       "3006 -9.114600                                                                     \n",
       "3007 -9.643356                                                                     \n",
       "3008 -8.387085                                                                     \n",
       "     Bacteria.Synergistetes.Synergistia.Synergistales.Synergistaceae.Pyramidobacter\n",
       "3001 -9.500918                                                                     \n",
       "3003 -9.278560                                                                     \n",
       "3004 -9.269646                                                                     \n",
       "3006 -9.114600                                                                     \n",
       "3007 -9.643356                                                                     \n",
       "3008 -8.387085                                                                     \n",
       "     Bacteria.Verrucomicrobia.Verrucomicrobiae.Verrucomicrobiales.Verrucomicrobiaceae.Akkermansia\n",
       "3001 -9.500918                                                                                   \n",
       "3003 -9.278560                                                                                   \n",
       "3004 -9.269646                                                                                   \n",
       "3006 -9.114600                                                                                   \n",
       "3007 -9.643356                                                                                   \n",
       "3008 -8.387085                                                                                   "
      ]
     },
     "metadata": {},
     "output_type": "display_data"
    }
   ],
   "source": [
    "# add pesudo count 0.5\n",
    "x[x == 0] <- 0.5\n",
    "x <- x/rowSums(x) # relative abundance\n",
    "taxa <- log(x)\n",
    "dim(taxa)\n",
    "head(taxa)"
   ]
  },
  {
   "cell_type": "code",
   "execution_count": 31,
   "metadata": {},
   "outputs": [
    {
     "data": {
      "text/html": [
       "<table>\n",
       "<thead><tr><th scope=col>pid</th><th scope=col>visitdate</th><th scope=col>birthdate</th><th scope=col>sex1m2f</th><th scope=col>heightcm</th><th scope=col>weightkg</th><th scope=col>vdate</th><th scope=col>bdate</th><th scope=col>age</th><th scope=col>heightm</th><th scope=col>bmi</th><th scope=col>zbmius</th><th scope=col>zbmicatus</th><th scope=col>bmicat1norm2ow3ob</th></tr></thead>\n",
       "<tbody>\n",
       "\t<tr><td>3029     </td><td>12-Apr-10</td><td>1-May-86 </td><td>1        </td><td>172.43   </td><td>83.0     </td><td>18364    </td><td> 9617    </td><td>23.94798 </td><td>1.7243   </td><td>27.91595 </td><td>NA       </td><td>         </td><td>2        </td></tr>\n",
       "\t<tr><td>3030     </td><td>12-Apr-10</td><td>22-May-87</td><td>1        </td><td>178.87   </td><td>70.3     </td><td>18364    </td><td>10003    </td><td>22.89117 </td><td>1.7887   </td><td>21.97254 </td><td>NA       </td><td>         </td><td>1        </td></tr>\n",
       "\t<tr><td>3031     </td><td>20-Apr-10</td><td>1-Dec-82 </td><td>2        </td><td>157.60   </td><td>52.0     </td><td>18372    </td><td> 8370    </td><td>27.38398 </td><td>1.5760   </td><td>20.93586 </td><td>NA       </td><td>         </td><td>1        </td></tr>\n",
       "\t<tr><td>3032     </td><td>22-Apr-10</td><td>9-Feb-86 </td><td>1        </td><td>188.10   </td><td>89.6     </td><td>18374    </td><td> 9536    </td><td>24.19712 </td><td>1.8810   </td><td>25.32389 </td><td>NA       </td><td>         </td><td>2        </td></tr>\n",
       "\t<tr><td>3033     </td><td>22-Apr-10</td><td>9-Apr-86 </td><td>2        </td><td>170.03   </td><td>65.2     </td><td>18374    </td><td> 9595    </td><td>24.03559 </td><td>1.7003   </td><td>22.55259 </td><td>NA       </td><td>         </td><td>1        </td></tr>\n",
       "\t<tr><td>3034     </td><td>28-Apr-10</td><td>6-Feb-86 </td><td>2        </td><td>162.16   </td><td>59.9     </td><td>18380    </td><td> 9533    </td><td>24.22177 </td><td>1.6216   </td><td>22.77925 </td><td>NA       </td><td>         </td><td>1        </td></tr>\n",
       "</tbody>\n",
       "</table>\n"
      ],
      "text/latex": [
       "\\begin{tabular}{r|llllllllllllll}\n",
       " pid & visitdate & birthdate & sex1m2f & heightcm & weightkg & vdate & bdate & age & heightm & bmi & zbmius & zbmicatus & bmicat1norm2ow3ob\\\\\n",
       "\\hline\n",
       "\t 3029      & 12-Apr-10 & 1-May-86  & 1         & 172.43    & 83.0      & 18364     &  9617     & 23.94798  & 1.7243    & 27.91595  & NA        &           & 2        \\\\\n",
       "\t 3030      & 12-Apr-10 & 22-May-87 & 1         & 178.87    & 70.3      & 18364     & 10003     & 22.89117  & 1.7887    & 21.97254  & NA        &           & 1        \\\\\n",
       "\t 3031      & 20-Apr-10 & 1-Dec-82  & 2         & 157.60    & 52.0      & 18372     &  8370     & 27.38398  & 1.5760    & 20.93586  & NA        &           & 1        \\\\\n",
       "\t 3032      & 22-Apr-10 & 9-Feb-86  & 1         & 188.10    & 89.6      & 18374     &  9536     & 24.19712  & 1.8810    & 25.32389  & NA        &           & 2        \\\\\n",
       "\t 3033      & 22-Apr-10 & 9-Apr-86  & 2         & 170.03    & 65.2      & 18374     &  9595     & 24.03559  & 1.7003    & 22.55259  & NA        &           & 1        \\\\\n",
       "\t 3034      & 28-Apr-10 & 6-Feb-86  & 2         & 162.16    & 59.9      & 18380     &  9533     & 24.22177  & 1.6216    & 22.77925  & NA        &           & 1        \\\\\n",
       "\\end{tabular}\n"
      ],
      "text/markdown": [
       "\n",
       "| pid | visitdate | birthdate | sex1m2f | heightcm | weightkg | vdate | bdate | age | heightm | bmi | zbmius | zbmicatus | bmicat1norm2ow3ob |\n",
       "|---|---|---|---|---|---|---|---|---|---|---|---|---|---|\n",
       "| 3029      | 12-Apr-10 | 1-May-86  | 1         | 172.43    | 83.0      | 18364     |  9617     | 23.94798  | 1.7243    | 27.91595  | NA        |           | 2         |\n",
       "| 3030      | 12-Apr-10 | 22-May-87 | 1         | 178.87    | 70.3      | 18364     | 10003     | 22.89117  | 1.7887    | 21.97254  | NA        |           | 1         |\n",
       "| 3031      | 20-Apr-10 | 1-Dec-82  | 2         | 157.60    | 52.0      | 18372     |  8370     | 27.38398  | 1.5760    | 20.93586  | NA        |           | 1         |\n",
       "| 3032      | 22-Apr-10 | 9-Feb-86  | 1         | 188.10    | 89.6      | 18374     |  9536     | 24.19712  | 1.8810    | 25.32389  | NA        |           | 2         |\n",
       "| 3033      | 22-Apr-10 | 9-Apr-86  | 2         | 170.03    | 65.2      | 18374     |  9595     | 24.03559  | 1.7003    | 22.55259  | NA        |           | 1         |\n",
       "| 3034      | 28-Apr-10 | 6-Feb-86  | 2         | 162.16    | 59.9      | 18380     |  9533     | 24.22177  | 1.6216    | 22.77925  | NA        |           | 1         |\n",
       "\n"
      ],
      "text/plain": [
       "  pid  visitdate birthdate sex1m2f heightcm weightkg vdate bdate age     \n",
       "1 3029 12-Apr-10 1-May-86  1       172.43   83.0     18364  9617 23.94798\n",
       "2 3030 12-Apr-10 22-May-87 1       178.87   70.3     18364 10003 22.89117\n",
       "3 3031 20-Apr-10 1-Dec-82  2       157.60   52.0     18372  8370 27.38398\n",
       "4 3032 22-Apr-10 9-Feb-86  1       188.10   89.6     18374  9536 24.19712\n",
       "5 3033 22-Apr-10 9-Apr-86  2       170.03   65.2     18374  9595 24.03559\n",
       "6 3034 28-Apr-10 6-Feb-86  2       162.16   59.9     18380  9533 24.22177\n",
       "  heightm bmi      zbmius zbmicatus bmicat1norm2ow3ob\n",
       "1 1.7243  27.91595 NA               2                \n",
       "2 1.7887  21.97254 NA               1                \n",
       "3 1.5760  20.93586 NA               1                \n",
       "4 1.8810  25.32389 NA               2                \n",
       "5 1.7003  22.55259 NA               1                \n",
       "6 1.6216  22.77925 NA               1                "
      ]
     },
     "metadata": {},
     "output_type": "display_data"
    },
    {
     "data": {
      "text/html": [
       "98"
      ],
      "text/latex": [
       "98"
      ],
      "text/markdown": [
       "98"
      ],
      "text/plain": [
       "[1] 98"
      ]
     },
     "metadata": {},
     "output_type": "display_data"
    },
    {
     "data": {
      "text/html": [
       "<ol class=list-inline>\n",
       "\t<li>21.6186</li>\n",
       "\t<li>21.82244</li>\n",
       "\t<li>20.03762</li>\n",
       "\t<li>20.82412</li>\n",
       "\t<li>22.66875</li>\n",
       "\t<li>24.97552</li>\n",
       "</ol>\n"
      ],
      "text/latex": [
       "\\begin{enumerate*}\n",
       "\\item 21.6186\n",
       "\\item 21.82244\n",
       "\\item 20.03762\n",
       "\\item 20.82412\n",
       "\\item 22.66875\n",
       "\\item 24.97552\n",
       "\\end{enumerate*}\n"
      ],
      "text/markdown": [
       "1. 21.6186\n",
       "2. 21.82244\n",
       "3. 20.03762\n",
       "4. 20.82412\n",
       "5. 22.66875\n",
       "6. 24.97552\n",
       "\n",
       "\n"
      ],
      "text/plain": [
       "[1] 21.61860 21.82244 20.03762 20.82412 22.66875 24.97552"
      ]
     },
     "metadata": {},
     "output_type": "display_data"
    }
   ],
   "source": [
    "# metadata\n",
    "demo <- read.delim(\"../../code_Lin/cvs/data/demographic.txt\")\n",
    "head(demo)\n",
    "y <- demo$bmi[match(rownames(count), demo$pid)]\n",
    "length(y)\n",
    "head(y)"
   ]
  },
  {
   "cell_type": "code",
   "execution_count": 13,
   "metadata": {},
   "outputs": [
    {
     "data": {
      "text/html": [
       "'matrix'"
      ],
      "text/latex": [
       "'matrix'"
      ],
      "text/markdown": [
       "'matrix'"
      ],
      "text/plain": [
       "[1] \"matrix\""
      ]
     },
     "metadata": {},
     "output_type": "display_data"
    },
    {
     "data": {
      "text/html": [
       "'numeric'"
      ],
      "text/latex": [
       "'numeric'"
      ],
      "text/markdown": [
       "'numeric'"
      ],
      "text/plain": [
       "[1] \"numeric\""
      ]
     },
     "metadata": {},
     "output_type": "display_data"
    }
   ],
   "source": [
    "# check datatype\n",
    "class(taxa); class(y)"
   ]
  },
  {
   "cell_type": "code",
   "execution_count": 14,
   "metadata": {},
   "outputs": [],
   "source": [
    "# save processed data\n",
    "save(y, taxa, file='../BMI/BMI_Lin_2014.RData')"
   ]
  },
  {
   "cell_type": "code",
   "execution_count": null,
   "metadata": {},
   "outputs": [],
   "source": []
  }
 ],
 "metadata": {
  "kernelspec": {
   "display_name": "R",
   "language": "R",
   "name": "ir"
  },
  "language_info": {
   "codemirror_mode": "r",
   "file_extension": ".r",
   "mimetype": "text/x-r-source",
   "name": "R",
   "pygments_lexer": "r",
   "version": "3.6.1"
  }
 },
 "nbformat": 4,
 "nbformat_minor": 2
}
