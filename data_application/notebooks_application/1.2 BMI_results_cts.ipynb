{
 "cells": [
  {
   "cell_type": "markdown",
   "metadata": {},
   "source": [
    "### BMI microbiome data application results for continuous outcome"
   ]
  },
  {
   "cell_type": "markdown",
   "metadata": {},
   "source": [
    "### method comparisons"
   ]
  },
  {
   "cell_type": "code",
   "execution_count": 1,
   "metadata": {},
   "outputs": [],
   "source": [
    "load('../BMI/results_cts/BMI_compLasso.RData')\n",
    "load('../BMI/results_cts/BMI_elnet.RData')\n",
    "load('../BMI/results_cts/BMI_lasso.RData')\n",
    "load('../BMI/results_cts/BMI_rf.RData')"
   ]
  },
  {
   "cell_type": "code",
   "execution_count": 2,
   "metadata": {},
   "outputs": [
    {
     "data": {
      "text/html": [
       "<ol class=list-inline>\n",
       "\t<li>0.22</li>\n",
       "\t<li>21.59</li>\n",
       "</ol>\n"
      ],
      "text/latex": [
       "\\begin{enumerate*}\n",
       "\\item 0.22\n",
       "\\item 21.59\n",
       "\\end{enumerate*}\n"
      ],
      "text/markdown": [
       "1. 0.22\n",
       "2. 21.59\n",
       "\n",
       "\n"
      ],
      "text/plain": [
       "[1]  0.22 21.59"
      ]
     },
     "metadata": {},
     "output_type": "display_data"
    }
   ],
   "source": [
    "c(out_compLasso$stab_index, out_compLasso$MSE_mean)"
   ]
  },
  {
   "cell_type": "code",
   "execution_count": 3,
   "metadata": {},
   "outputs": [
    {
     "data": {
      "text/html": [
       "<ol class=list-inline>\n",
       "\t<li>0.14</li>\n",
       "\t<li>24.07</li>\n",
       "</ol>\n"
      ],
      "text/latex": [
       "\\begin{enumerate*}\n",
       "\\item 0.14\n",
       "\\item 24.07\n",
       "\\end{enumerate*}\n"
      ],
      "text/markdown": [
       "1. 0.14\n",
       "2. 24.07\n",
       "\n",
       "\n"
      ],
      "text/plain": [
       "[1]  0.14 24.07"
      ]
     },
     "metadata": {},
     "output_type": "display_data"
    }
   ],
   "source": [
    "c(out_lasso$stab_index, out_lasso$MSE_mean) "
   ]
  },
  {
   "cell_type": "code",
   "execution_count": 4,
   "metadata": {},
   "outputs": [
    {
     "data": {
      "text/html": [
       "<ol class=list-inline>\n",
       "\t<li>0.23</li>\n",
       "\t<li>25.33</li>\n",
       "</ol>\n"
      ],
      "text/latex": [
       "\\begin{enumerate*}\n",
       "\\item 0.23\n",
       "\\item 25.33\n",
       "\\end{enumerate*}\n"
      ],
      "text/markdown": [
       "1. 0.23\n",
       "2. 25.33\n",
       "\n",
       "\n"
      ],
      "text/plain": [
       "[1]  0.23 25.33"
      ]
     },
     "metadata": {},
     "output_type": "display_data"
    }
   ],
   "source": [
    "c(out_elnet$stab_index, out_elnet$MSE_mean)"
   ]
  },
  {
   "cell_type": "code",
   "execution_count": 5,
   "metadata": {},
   "outputs": [
    {
     "data": {
      "text/html": [
       "<ol class=list-inline>\n",
       "\t<li>0.02</li>\n",
       "\t<li>4.99</li>\n",
       "</ol>\n"
      ],
      "text/latex": [
       "\\begin{enumerate*}\n",
       "\\item 0.02\n",
       "\\item 4.99\n",
       "\\end{enumerate*}\n"
      ],
      "text/markdown": [
       "1. 0.02\n",
       "2. 4.99\n",
       "\n",
       "\n"
      ],
      "text/plain": [
       "[1] 0.02 4.99"
      ]
     },
     "metadata": {},
     "output_type": "display_data"
    }
   ],
   "source": [
    "c(out_rf$stab_index, out_rf$MSE_mean)"
   ]
  },
  {
   "cell_type": "code",
   "execution_count": 6,
   "metadata": {},
   "outputs": [
    {
     "data": {
      "text/html": [
       "<table>\n",
       "<thead><tr><th scope=col>dataset</th><th scope=col>method</th><th scope=col>mse</th><th scope=col>stability</th></tr></thead>\n",
       "<tbody>\n",
       "\t<tr><td>bmi_gut  </td><td>lasso    </td><td>24.07    </td><td>0.14     </td></tr>\n",
       "\t<tr><td>bmi_gut  </td><td>elent    </td><td>25.33    </td><td>0.23     </td></tr>\n",
       "\t<tr><td>bmi_gut  </td><td>rf       </td><td> 4.99    </td><td>0.02     </td></tr>\n",
       "\t<tr><td>bmi_gut  </td><td>compLasso</td><td>21.59    </td><td>0.22     </td></tr>\n",
       "</tbody>\n",
       "</table>\n"
      ],
      "text/latex": [
       "\\begin{tabular}{r|llll}\n",
       " dataset & method & mse & stability\\\\\n",
       "\\hline\n",
       "\t bmi\\_gut & lasso     & 24.07     & 0.14     \\\\\n",
       "\t bmi\\_gut & elent     & 25.33     & 0.23     \\\\\n",
       "\t bmi\\_gut & rf        &  4.99     & 0.02     \\\\\n",
       "\t bmi\\_gut & compLasso & 21.59     & 0.22     \\\\\n",
       "\\end{tabular}\n"
      ],
      "text/markdown": [
       "\n",
       "| dataset | method | mse | stability |\n",
       "|---|---|---|---|\n",
       "| bmi_gut   | lasso     | 24.07     | 0.14      |\n",
       "| bmi_gut   | elent     | 25.33     | 0.23      |\n",
       "| bmi_gut   | rf        |  4.99     | 0.02      |\n",
       "| bmi_gut   | compLasso | 21.59     | 0.22      |\n",
       "\n"
      ],
      "text/plain": [
       "  dataset method    mse   stability\n",
       "1 bmi_gut lasso     24.07 0.14     \n",
       "2 bmi_gut elent     25.33 0.23     \n",
       "3 bmi_gut rf         4.99 0.02     \n",
       "4 bmi_gut compLasso 21.59 0.22     "
      ]
     },
     "metadata": {},
     "output_type": "display_data"
    }
   ],
   "source": [
    "# combine and export results\n",
    "bmi_gut = as.data.frame(matrix(NA, nrow=4, ncol=4))\n",
    "colnames(bmi_gut) = c('dataset', 'method', 'mse', 'stability')\n",
    "bmi_gut$dataset = 'bmi_gut'\n",
    "bmi_gut$method = c('lasso', 'elent', 'rf', 'compLasso')\n",
    "bmi_gut$mse = c(out_lasso$MSE_mean, out_elnet$MSE_mean, out_rf$MSE_mean, out_compLasso$MSE_mean)\n",
    "bmi_gut$stability = c(out_lasso$stab_index, out_elnet$stab_index, out_rf$stab_index, out_compLasso$stab_index)\n",
    "bmi_gut"
   ]
  },
  {
   "cell_type": "markdown",
   "metadata": {},
   "source": [
    "### hypothesis testing"
   ]
  },
  {
   "cell_type": "code",
   "execution_count": 7,
   "metadata": {},
   "outputs": [],
   "source": [
    "load('../BMI/results_cts/BMI_boot_compLasso.RData')\n",
    "load('../BMI/results_cts/BMI_boot_rf.RData')"
   ]
  },
  {
   "cell_type": "code",
   "execution_count": 8,
   "metadata": {},
   "outputs": [
    {
     "data": {
      "text/html": [
       "0.2659"
      ],
      "text/latex": [
       "0.2659"
      ],
      "text/markdown": [
       "0.2659"
      ],
      "text/plain": [
       "[1] 0.2659"
      ]
     },
     "metadata": {},
     "output_type": "display_data"
    },
    {
     "data": {
      "text/html": [
       "<dl class=dl-horizontal>\n",
       "\t<dt>2.5%</dt>\n",
       "\t\t<dd>0.17475</dd>\n",
       "\t<dt>97.5%</dt>\n",
       "\t\t<dd>0.34</dd>\n",
       "</dl>\n"
      ],
      "text/latex": [
       "\\begin{description*}\n",
       "\\item[2.5\\textbackslash{}\\%] 0.17475\n",
       "\\item[97.5\\textbackslash{}\\%] 0.34\n",
       "\\end{description*}\n"
      ],
      "text/markdown": [
       "2.5%\n",
       ":   0.1747597.5%\n",
       ":   0.34\n",
       "\n"
      ],
      "text/plain": [
       "   2.5%   97.5% \n",
       "0.17475 0.34000 "
      ]
     },
     "metadata": {},
     "output_type": "display_data"
    }
   ],
   "source": [
    "diff_stab = (boot_compLasso$stab_index - boot_rf$stab_index)\n",
    "mean(diff_stab)\n",
    "quantile(diff_stab, probs = c(0.025, 0.975)) \n",
    "# CI doesn't contain zero: compLasso is significantly more stable than RF"
   ]
  },
  {
   "cell_type": "code",
   "execution_count": 9,
   "metadata": {},
   "outputs": [
    {
     "data": {
      "text/html": [
       "11.8026936858767"
      ],
      "text/latex": [
       "11.8026936858767"
      ],
      "text/markdown": [
       "11.8026936858767"
      ],
      "text/plain": [
       "[1] 11.80269"
      ]
     },
     "metadata": {},
     "output_type": "display_data"
    },
    {
     "data": {
      "text/html": [
       "<dl class=dl-horizontal>\n",
       "\t<dt>2.5%</dt>\n",
       "\t\t<dd>-2.09038719853993</dd>\n",
       "\t<dt>97.5%</dt>\n",
       "\t\t<dd>41.1831613135692</dd>\n",
       "</dl>\n"
      ],
      "text/latex": [
       "\\begin{description*}\n",
       "\\item[2.5\\textbackslash{}\\%] -2.09038719853993\n",
       "\\item[97.5\\textbackslash{}\\%] 41.1831613135692\n",
       "\\end{description*}\n"
      ],
      "text/markdown": [
       "2.5%\n",
       ":   -2.0903871985399397.5%\n",
       ":   41.1831613135692\n",
       "\n"
      ],
      "text/plain": [
       "     2.5%     97.5% \n",
       "-2.090387 41.183161 "
      ]
     },
     "metadata": {},
     "output_type": "display_data"
    }
   ],
   "source": [
    "diff_mse = (unlist(boot_compLasso$MSE_list) - unlist(boot_rf$MSE_list)) # use all 100*100 MSEs\n",
    "mean(diff_mse)\n",
    "quantile(diff_mse, probs = c(0.025, 0.975)) \n",
    "# CI contain zero: compLasso is not significantly different from RF based on MSE"
   ]
  },
  {
   "cell_type": "code",
   "execution_count": null,
   "metadata": {},
   "outputs": [],
   "source": []
  }
 ],
 "metadata": {
  "kernelspec": {
   "display_name": "R",
   "language": "R",
   "name": "ir"
  },
  "language_info": {
   "codemirror_mode": "r",
   "file_extension": ".r",
   "mimetype": "text/x-r-source",
   "name": "R",
   "pygments_lexer": "r",
   "version": "3.6.1"
  }
 },
 "nbformat": 4,
 "nbformat_minor": 2
}
