{
 "cells": [
  {
   "cell_type": "code",
   "execution_count": null,
   "metadata": {},
   "outputs": [],
   "source": [
    "# original size: 98/87=1.13; probably better to use original size to keep consistent "
   ]
  },
  {
   "cell_type": "code",
   "execution_count": 1,
   "metadata": {},
   "outputs": [],
   "source": [
    "# example: p/n approx 1; simialr to block Corr 0.1 situation (highly unstable)"
   ]
  },
  {
   "cell_type": "code",
   "execution_count": 1,
   "metadata": {},
   "outputs": [],
   "source": [
    "load('../data_application/BMI/BMI_compLasso.RData')\n",
    "load('../data_application/BMI/BMI_elnet.RData')\n",
    "load('../data_application/BMI/BMI_lasso.RData')\n",
    "load('../data_application/BMI/BMI_rf.RData')"
   ]
  },
  {
   "cell_type": "code",
   "execution_count": 2,
   "metadata": {},
   "outputs": [
    {
     "data": {
      "text/html": [
       "<ol class=list-inline>\n",
       "\t<li>0.24</li>\n",
       "\t<li>23.61</li>\n",
       "</ol>\n"
      ],
      "text/latex": [
       "\\begin{enumerate*}\n",
       "\\item 0.24\n",
       "\\item 23.61\n",
       "\\end{enumerate*}\n"
      ],
      "text/markdown": [
       "1. 0.24\n",
       "2. 23.61\n",
       "\n",
       "\n"
      ],
      "text/plain": [
       "[1]  0.24 23.61"
      ]
     },
     "metadata": {},
     "output_type": "display_data"
    }
   ],
   "source": [
    "c(out_compLasso$stab_index, out_compLasso$MSE_mean)"
   ]
  },
  {
   "cell_type": "code",
   "execution_count": 3,
   "metadata": {},
   "outputs": [
    {
     "data": {
      "text/html": [
       "<ol class=list-inline>\n",
       "\t<li>0.14</li>\n",
       "\t<li>26.95</li>\n",
       "</ol>\n"
      ],
      "text/latex": [
       "\\begin{enumerate*}\n",
       "\\item 0.14\n",
       "\\item 26.95\n",
       "\\end{enumerate*}\n"
      ],
      "text/markdown": [
       "1. 0.14\n",
       "2. 26.95\n",
       "\n",
       "\n"
      ],
      "text/plain": [
       "[1]  0.14 26.95"
      ]
     },
     "metadata": {},
     "output_type": "display_data"
    }
   ],
   "source": [
    "c(out_lasso$stab_index, out_lasso$MSE_mean) "
   ]
  },
  {
   "cell_type": "code",
   "execution_count": 4,
   "metadata": {},
   "outputs": [
    {
     "data": {
      "text/html": [
       "<ol class=list-inline>\n",
       "\t<li>0.23</li>\n",
       "\t<li>26.12</li>\n",
       "</ol>\n"
      ],
      "text/latex": [
       "\\begin{enumerate*}\n",
       "\\item 0.23\n",
       "\\item 26.12\n",
       "\\end{enumerate*}\n"
      ],
      "text/markdown": [
       "1. 0.23\n",
       "2. 26.12\n",
       "\n",
       "\n"
      ],
      "text/plain": [
       "[1]  0.23 26.12"
      ]
     },
     "metadata": {},
     "output_type": "display_data"
    }
   ],
   "source": [
    "c(out_elnet$stab_index, out_elnet$MSE_mean)"
   ]
  },
  {
   "cell_type": "code",
   "execution_count": 5,
   "metadata": {},
   "outputs": [
    {
     "data": {
      "text/html": [
       "<ol class=list-inline>\n",
       "\t<li>0.04</li>\n",
       "\t<li>5.48</li>\n",
       "</ol>\n"
      ],
      "text/latex": [
       "\\begin{enumerate*}\n",
       "\\item 0.04\n",
       "\\item 5.48\n",
       "\\end{enumerate*}\n"
      ],
      "text/markdown": [
       "1. 0.04\n",
       "2. 5.48\n",
       "\n",
       "\n"
      ],
      "text/plain": [
       "[1] 0.04 5.48"
      ]
     },
     "metadata": {},
     "output_type": "display_data"
    }
   ],
   "source": [
    "c(out_rf$stab_index, out_rf$MSE_mean)"
   ]
  },
  {
   "cell_type": "code",
   "execution_count": 7,
   "metadata": {},
   "outputs": [],
   "source": [
    "# conclusion: based on stability -- compLasso the best: compLasso >  Elnet > Lasso >  RF\n",
    "# based on MSE -- random forest with altman the best: RF > compLasso > Elnet > Lasso "
   ]
  },
  {
   "cell_type": "markdown",
   "metadata": {},
   "source": [
    "### add selection probability for each feature selection methods"
   ]
  },
  {
   "cell_type": "code",
   "execution_count": 6,
   "metadata": {},
   "outputs": [],
   "source": [
    "load('../data_application/BMI/BMI_Lin_2014.RData')"
   ]
  },
  {
   "cell_type": "code",
   "execution_count": 7,
   "metadata": {},
   "outputs": [],
   "source": [
    "prob_compLasso = colSums(out_compLasso$stab_table)/dim(out_compLasso$stab_table)[1]\n",
    "prob_lasso = colSums(out_lasso$stab_table)/dim(out_lasso$stab_table)[1]\n",
    "prob_elnet = colSums(out_elnet$stab_table)/dim(out_elnet$stab_table)[1]\n",
    "prob_rf= colSums(out_rf$stab_table)/dim(out_rf$stab_table)[1]\n",
    "feature_prob = t(data.frame(rbind(prob_compLasso, prob_lasso, prob_elnet, prob_rf)))"
   ]
  },
  {
   "cell_type": "code",
   "execution_count": 16,
   "metadata": {},
   "outputs": [
    {
     "data": {
      "text/html": [
       "<table>\n",
       "<thead><tr><th></th><th scope=col>prob_compLasso</th><th scope=col>prob_lasso</th><th scope=col>prob_elnet</th><th scope=col>prob_rf</th></tr></thead>\n",
       "<tbody>\n",
       "\t<tr><th scope=row>Bacteria.Firmicutes.Clostridia.Clostridiales.Clostridiaceae.Clostridium</th><td>0.81</td><td>0.52</td><td>0.96</td><td>0.24</td></tr>\n",
       "\t<tr><th scope=row>Bacteria.Firmicutes.Clostridia.Clostridiales.Veillonellaceae.Acidaminococcus</th><td>0.78</td><td>0.53</td><td>0.93</td><td>0.36</td></tr>\n",
       "\t<tr><th scope=row>Bacteria.Firmicutes.Clostridia.Clostridiales.Veillonellaceae.Allisonella</th><td>0.77</td><td>0.54</td><td>0.91</td><td>0.39</td></tr>\n",
       "\t<tr><th scope=row>Bacteria.Bacteroidetes.Bacteroidia.Bacteroidales.Rikenellaceae.Alistipes</th><td>0.57</td><td>0.30</td><td>0.87</td><td>0.16</td></tr>\n",
       "\t<tr><th scope=row>Bacteria.Firmicutes.Clostridia.Clostridiales.Ruminococcaceae.Oscillibacter</th><td>0.54</td><td>0.21</td><td>0.64</td><td>0.13</td></tr>\n",
       "\t<tr><th scope=row>Bacteria.Firmicutes.Clostridia.Clostridiales.Veillonellaceae.Megasphaera</th><td>0.46</td><td>0.31</td><td>0.79</td><td>0.08</td></tr>\n",
       "</tbody>\n",
       "</table>\n"
      ],
      "text/latex": [
       "\\begin{tabular}{r|llll}\n",
       "  & prob\\_compLasso & prob\\_lasso & prob\\_elnet & prob\\_rf\\\\\n",
       "\\hline\n",
       "\tBacteria.Firmicutes.Clostridia.Clostridiales.Clostridiaceae.Clostridium & 0.81 & 0.52 & 0.96 & 0.24\\\\\n",
       "\tBacteria.Firmicutes.Clostridia.Clostridiales.Veillonellaceae.Acidaminococcus & 0.78 & 0.53 & 0.93 & 0.36\\\\\n",
       "\tBacteria.Firmicutes.Clostridia.Clostridiales.Veillonellaceae.Allisonella & 0.77 & 0.54 & 0.91 & 0.39\\\\\n",
       "\tBacteria.Bacteroidetes.Bacteroidia.Bacteroidales.Rikenellaceae.Alistipes & 0.57 & 0.30 & 0.87 & 0.16\\\\\n",
       "\tBacteria.Firmicutes.Clostridia.Clostridiales.Ruminococcaceae.Oscillibacter & 0.54 & 0.21 & 0.64 & 0.13\\\\\n",
       "\tBacteria.Firmicutes.Clostridia.Clostridiales.Veillonellaceae.Megasphaera & 0.46 & 0.31 & 0.79 & 0.08\\\\\n",
       "\\end{tabular}\n"
      ],
      "text/markdown": [
       "\n",
       "| <!--/--> | prob_compLasso | prob_lasso | prob_elnet | prob_rf |\n",
       "|---|---|---|---|---|\n",
       "| Bacteria.Firmicutes.Clostridia.Clostridiales.Clostridiaceae.Clostridium | 0.81 | 0.52 | 0.96 | 0.24 |\n",
       "| Bacteria.Firmicutes.Clostridia.Clostridiales.Veillonellaceae.Acidaminococcus | 0.78 | 0.53 | 0.93 | 0.36 |\n",
       "| Bacteria.Firmicutes.Clostridia.Clostridiales.Veillonellaceae.Allisonella | 0.77 | 0.54 | 0.91 | 0.39 |\n",
       "| Bacteria.Bacteroidetes.Bacteroidia.Bacteroidales.Rikenellaceae.Alistipes | 0.57 | 0.30 | 0.87 | 0.16 |\n",
       "| Bacteria.Firmicutes.Clostridia.Clostridiales.Ruminococcaceae.Oscillibacter | 0.54 | 0.21 | 0.64 | 0.13 |\n",
       "| Bacteria.Firmicutes.Clostridia.Clostridiales.Veillonellaceae.Megasphaera | 0.46 | 0.31 | 0.79 | 0.08 |\n",
       "\n"
      ],
      "text/plain": [
       "                                                                             prob_compLasso\n",
       "Bacteria.Firmicutes.Clostridia.Clostridiales.Clostridiaceae.Clostridium      0.81          \n",
       "Bacteria.Firmicutes.Clostridia.Clostridiales.Veillonellaceae.Acidaminococcus 0.78          \n",
       "Bacteria.Firmicutes.Clostridia.Clostridiales.Veillonellaceae.Allisonella     0.77          \n",
       "Bacteria.Bacteroidetes.Bacteroidia.Bacteroidales.Rikenellaceae.Alistipes     0.57          \n",
       "Bacteria.Firmicutes.Clostridia.Clostridiales.Ruminococcaceae.Oscillibacter   0.54          \n",
       "Bacteria.Firmicutes.Clostridia.Clostridiales.Veillonellaceae.Megasphaera     0.46          \n",
       "                                                                             prob_lasso\n",
       "Bacteria.Firmicutes.Clostridia.Clostridiales.Clostridiaceae.Clostridium      0.52      \n",
       "Bacteria.Firmicutes.Clostridia.Clostridiales.Veillonellaceae.Acidaminococcus 0.53      \n",
       "Bacteria.Firmicutes.Clostridia.Clostridiales.Veillonellaceae.Allisonella     0.54      \n",
       "Bacteria.Bacteroidetes.Bacteroidia.Bacteroidales.Rikenellaceae.Alistipes     0.30      \n",
       "Bacteria.Firmicutes.Clostridia.Clostridiales.Ruminococcaceae.Oscillibacter   0.21      \n",
       "Bacteria.Firmicutes.Clostridia.Clostridiales.Veillonellaceae.Megasphaera     0.31      \n",
       "                                                                             prob_elnet\n",
       "Bacteria.Firmicutes.Clostridia.Clostridiales.Clostridiaceae.Clostridium      0.96      \n",
       "Bacteria.Firmicutes.Clostridia.Clostridiales.Veillonellaceae.Acidaminococcus 0.93      \n",
       "Bacteria.Firmicutes.Clostridia.Clostridiales.Veillonellaceae.Allisonella     0.91      \n",
       "Bacteria.Bacteroidetes.Bacteroidia.Bacteroidales.Rikenellaceae.Alistipes     0.87      \n",
       "Bacteria.Firmicutes.Clostridia.Clostridiales.Ruminococcaceae.Oscillibacter   0.64      \n",
       "Bacteria.Firmicutes.Clostridia.Clostridiales.Veillonellaceae.Megasphaera     0.79      \n",
       "                                                                             prob_rf\n",
       "Bacteria.Firmicutes.Clostridia.Clostridiales.Clostridiaceae.Clostridium      0.24   \n",
       "Bacteria.Firmicutes.Clostridia.Clostridiales.Veillonellaceae.Acidaminococcus 0.36   \n",
       "Bacteria.Firmicutes.Clostridia.Clostridiales.Veillonellaceae.Allisonella     0.39   \n",
       "Bacteria.Bacteroidetes.Bacteroidia.Bacteroidales.Rikenellaceae.Alistipes     0.16   \n",
       "Bacteria.Firmicutes.Clostridia.Clostridiales.Ruminococcaceae.Oscillibacter   0.13   \n",
       "Bacteria.Firmicutes.Clostridia.Clostridiales.Veillonellaceae.Megasphaera     0.08   "
      ]
     },
     "metadata": {},
     "output_type": "display_data"
    }
   ],
   "source": [
    "rownames(feature_prob) = colnames(taxa)\n",
    "head(feature_prob[order(-feature_prob[, 1]), ]) # descending order"
   ]
  },
  {
   "cell_type": "code",
   "execution_count": 17,
   "metadata": {},
   "outputs": [],
   "source": [
    "write.table(feature_prob, file='../data_application/bmi/bmi_slection_prob.txt', sep='\\t', col.names=NA)"
   ]
  },
  {
   "cell_type": "code",
   "execution_count": null,
   "metadata": {},
   "outputs": [],
   "source": [
    "# summary: similar top chosen taxa from compLasso as with Lin's paper, though we have lower selection prob\n",
    "# good news: top taxa all have high selection probability acrss methods"
   ]
  }
 ],
 "metadata": {
  "kernelspec": {
   "display_name": "R",
   "language": "R",
   "name": "ir"
  },
  "language_info": {
   "codemirror_mode": "r",
   "file_extension": ".r",
   "mimetype": "text/x-r-source",
   "name": "R",
   "pygments_lexer": "r",
   "version": "3.6.1"
  }
 },
 "nbformat": 4,
 "nbformat_minor": 2
}
