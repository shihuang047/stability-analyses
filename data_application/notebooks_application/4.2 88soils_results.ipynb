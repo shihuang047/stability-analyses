{
 "cells": [
  {
   "cell_type": "code",
   "execution_count": null,
   "metadata": {},
   "outputs": [],
   "source": [
    "# example: p/n = 2183/89 = 24.5"
   ]
  },
  {
   "cell_type": "code",
   "execution_count": 1,
   "metadata": {},
   "outputs": [],
   "source": [
    "load('../data_application/88soils/soils_ph_compLasso.RData')\n",
    "load('../data_application/88soils/soils_ph_elnet.RData')\n",
    "load('../data_application/88soils/soils_ph_lasso.RData')\n",
    "load('../data_application/88soils/soils_ph_rf.RData')"
   ]
  },
  {
   "cell_type": "code",
   "execution_count": 2,
   "metadata": {},
   "outputs": [
    {
     "data": {
      "text/html": [
       "<ol class=list-inline>\n",
       "\t<li>0.39</li>\n",
       "\t<li>0.43</li>\n",
       "</ol>\n"
      ],
      "text/latex": [
       "\\begin{enumerate*}\n",
       "\\item 0.39\n",
       "\\item 0.43\n",
       "\\end{enumerate*}\n"
      ],
      "text/markdown": [
       "1. 0.39\n",
       "2. 0.43\n",
       "\n",
       "\n"
      ],
      "text/plain": [
       "[1] 0.39 0.43"
      ]
     },
     "metadata": {},
     "output_type": "display_data"
    }
   ],
   "source": [
    "c(out_compLasso$stab_index, out_compLasso$MSE_mean)"
   ]
  },
  {
   "cell_type": "code",
   "execution_count": 3,
   "metadata": {},
   "outputs": [
    {
     "data": {
      "text/html": [
       "<ol class=list-inline>\n",
       "\t<li>0.31</li>\n",
       "\t<li>0.31</li>\n",
       "</ol>\n"
      ],
      "text/latex": [
       "\\begin{enumerate*}\n",
       "\\item 0.31\n",
       "\\item 0.31\n",
       "\\end{enumerate*}\n"
      ],
      "text/markdown": [
       "1. 0.31\n",
       "2. 0.31\n",
       "\n",
       "\n"
      ],
      "text/plain": [
       "[1] 0.31 0.31"
      ]
     },
     "metadata": {},
     "output_type": "display_data"
    }
   ],
   "source": [
    "c(out_lasso$stab_index, out_lasso$MSE_mean) "
   ]
  },
  {
   "cell_type": "code",
   "execution_count": 4,
   "metadata": {},
   "outputs": [
    {
     "data": {
      "text/html": [
       "<ol class=list-inline>\n",
       "\t<li>0.17</li>\n",
       "\t<li>0.19</li>\n",
       "</ol>\n"
      ],
      "text/latex": [
       "\\begin{enumerate*}\n",
       "\\item 0.17\n",
       "\\item 0.19\n",
       "\\end{enumerate*}\n"
      ],
      "text/markdown": [
       "1. 0.17\n",
       "2. 0.19\n",
       "\n",
       "\n"
      ],
      "text/plain": [
       "[1] 0.17 0.19"
      ]
     },
     "metadata": {},
     "output_type": "display_data"
    }
   ],
   "source": [
    "c(out_elnet$stab_index, out_elnet$MSE_mean)"
   ]
  },
  {
   "cell_type": "code",
   "execution_count": 5,
   "metadata": {},
   "outputs": [
    {
     "data": {
      "text/html": [
       "<ol class=list-inline>\n",
       "\t<li>0.04</li>\n",
       "\t<li>0.25</li>\n",
       "</ol>\n"
      ],
      "text/latex": [
       "\\begin{enumerate*}\n",
       "\\item 0.04\n",
       "\\item 0.25\n",
       "\\end{enumerate*}\n"
      ],
      "text/markdown": [
       "1. 0.04\n",
       "2. 0.25\n",
       "\n",
       "\n"
      ],
      "text/plain": [
       "[1] 0.04 0.25"
      ]
     },
     "metadata": {},
     "output_type": "display_data"
    }
   ],
   "source": [
    "c(out_rf$stab_index, out_rf$MSE_mean)"
   ]
  },
  {
   "cell_type": "code",
   "execution_count": 6,
   "metadata": {},
   "outputs": [],
   "source": [
    "# conclusion: based on stability -- compLasso the best: compLasso > Lasso > Elnet >  RF\n",
    "# based on MSE -- random forest with altman the best: Elnet > RF > Lasso > compLasso"
   ]
  },
  {
   "cell_type": "markdown",
   "metadata": {},
   "source": [
    "### add selection probability for each feature selection methods"
   ]
  },
  {
   "cell_type": "code",
   "execution_count": 7,
   "metadata": {},
   "outputs": [],
   "source": [
    "load('../data_application/88soils/soils_ph.RData')"
   ]
  },
  {
   "cell_type": "code",
   "execution_count": 8,
   "metadata": {},
   "outputs": [],
   "source": [
    "prob_compLasso = colSums(out_compLasso$stab_table)/dim(out_compLasso$stab_table)[1]\n",
    "prob_lasso = colSums(out_lasso$stab_table)/dim(out_lasso$stab_table)[1]\n",
    "prob_elnet = colSums(out_elnet$stab_table)/dim(out_elnet$stab_table)[1]\n",
    "prob_rf = colSums(out_rf$stab_table)/dim(out_rf$stab_table)[1]\n",
    "feature_prob = t(data.frame(rbind(prob_compLasso, prob_lasso, prob_elnet, prob_rf)))"
   ]
  },
  {
   "cell_type": "code",
   "execution_count": 10,
   "metadata": {},
   "outputs": [
    {
     "data": {
      "text/html": [
       "<table>\n",
       "<thead><tr><th></th><th scope=col>prob_compLasso</th><th scope=col>prob_lasso</th><th scope=col>prob_elnet</th><th scope=col>prob_rf</th></tr></thead>\n",
       "<tbody>\n",
       "\t<tr><th scope=row>k__Bacteria.p__Actinobacteria.c__Rubrobacteria.o__Rubrobacterales.f__Rubrobacteraceae.g__Rubrobacter.s__.20</th><td>0.98</td><td>0.98</td><td>1.00</td><td>0.75</td></tr>\n",
       "\t<tr><th scope=row>k__Bacteria.p__Acidobacteria.c__Solibacteres.o__Solibacterales.f__Solibacteraceae.g__Candidatus.Solibacter.s__.8</th><td>0.92</td><td>0.89</td><td>0.94</td><td>0.59</td></tr>\n",
       "\t<tr><th scope=row>k__Bacteria.p__Proteobacteria.c__Alphaproteobacteria.o__Rhizobiales.f__Bradyrhizobiaceae.g__Balneimonas.s__.11</th><td>0.90</td><td>0.86</td><td>0.91</td><td>0.56</td></tr>\n",
       "\t<tr><th scope=row>k__Bacteria.p__Proteobacteria.c__Alphaproteobacteria.o__Rhizobiales.f__Hyphomicrobiaceae.g__Rhodoplanes.s__.87</th><td>0.85</td><td>0.88</td><td>0.91</td><td>0.65</td></tr>\n",
       "\t<tr><th scope=row>k__Bacteria.p__Proteobacteria.c__Alphaproteobacteria.o__Rhizobiales.f__Hyphomicrobiaceae.g__Rhodoplanes.s__.131</th><td>0.85</td><td>0.86</td><td>0.82</td><td>0.55</td></tr>\n",
       "\t<tr><th scope=row>k__Bacteria.p__Proteobacteria.c__Alphaproteobacteria.o__Rhizobiales.f__Bradyrhizobiaceae.g__Balneimonas.s__.5</th><td>0.66</td><td>0.46</td><td>0.60</td><td>0.58</td></tr>\n",
       "\t<tr><th scope=row>k__Bacteria.p__Proteobacteria.c__Alphaproteobacteria.o__Rhizobiales.f__Hyphomicrobiaceae.g__Rhodoplanes.s__.65</th><td>0.64</td><td>0.70</td><td>0.91</td><td>0.39</td></tr>\n",
       "\t<tr><th scope=row>k__Bacteria.p__Acidobacteria.c__Solibacteres.o__Solibacterales.f__Solibacteraceae.g__Candidatus.Solibacter.s__.23</th><td>0.57</td><td>0.80</td><td>0.86</td><td>0.31</td></tr>\n",
       "\t<tr><th scope=row>k__Bacteria.p__Proteobacteria.c__Alphaproteobacteria.o__Sphingomonadales.f__Sphingomonadaceae.g__Kaistobacter.s__.23</th><td>0.53</td><td>0.53</td><td>0.78</td><td>0.36</td></tr>\n",
       "\t<tr><th scope=row>k__Bacteria.p__Proteobacteria.c__Alphaproteobacteria.o__Rhizobiales.f__Hyphomicrobiaceae.g__Rhodoplanes.s__.83</th><td>0.52</td><td>0.61</td><td>0.82</td><td>0.20</td></tr>\n",
       "</tbody>\n",
       "</table>\n"
      ],
      "text/latex": [
       "\\begin{tabular}{r|llll}\n",
       "  & prob\\_compLasso & prob\\_lasso & prob\\_elnet & prob\\_rf\\\\\n",
       "\\hline\n",
       "\tk\\_\\_Bacteria.p\\_\\_Actinobacteria.c\\_\\_Rubrobacteria.o\\_\\_Rubrobacterales.f\\_\\_Rubrobacteraceae.g\\_\\_Rubrobacter.s\\_\\_.20 & 0.98 & 0.98 & 1.00 & 0.75\\\\\n",
       "\tk\\_\\_Bacteria.p\\_\\_Acidobacteria.c\\_\\_Solibacteres.o\\_\\_Solibacterales.f\\_\\_Solibacteraceae.g\\_\\_Candidatus.Solibacter.s\\_\\_.8 & 0.92 & 0.89 & 0.94 & 0.59\\\\\n",
       "\tk\\_\\_Bacteria.p\\_\\_Proteobacteria.c\\_\\_Alphaproteobacteria.o\\_\\_Rhizobiales.f\\_\\_Bradyrhizobiaceae.g\\_\\_Balneimonas.s\\_\\_.11 & 0.90 & 0.86 & 0.91 & 0.56\\\\\n",
       "\tk\\_\\_Bacteria.p\\_\\_Proteobacteria.c\\_\\_Alphaproteobacteria.o\\_\\_Rhizobiales.f\\_\\_Hyphomicrobiaceae.g\\_\\_Rhodoplanes.s\\_\\_.87 & 0.85 & 0.88 & 0.91 & 0.65\\\\\n",
       "\tk\\_\\_Bacteria.p\\_\\_Proteobacteria.c\\_\\_Alphaproteobacteria.o\\_\\_Rhizobiales.f\\_\\_Hyphomicrobiaceae.g\\_\\_Rhodoplanes.s\\_\\_.131 & 0.85 & 0.86 & 0.82 & 0.55\\\\\n",
       "\tk\\_\\_Bacteria.p\\_\\_Proteobacteria.c\\_\\_Alphaproteobacteria.o\\_\\_Rhizobiales.f\\_\\_Bradyrhizobiaceae.g\\_\\_Balneimonas.s\\_\\_.5 & 0.66 & 0.46 & 0.60 & 0.58\\\\\n",
       "\tk\\_\\_Bacteria.p\\_\\_Proteobacteria.c\\_\\_Alphaproteobacteria.o\\_\\_Rhizobiales.f\\_\\_Hyphomicrobiaceae.g\\_\\_Rhodoplanes.s\\_\\_.65 & 0.64 & 0.70 & 0.91 & 0.39\\\\\n",
       "\tk\\_\\_Bacteria.p\\_\\_Acidobacteria.c\\_\\_Solibacteres.o\\_\\_Solibacterales.f\\_\\_Solibacteraceae.g\\_\\_Candidatus.Solibacter.s\\_\\_.23 & 0.57 & 0.80 & 0.86 & 0.31\\\\\n",
       "\tk\\_\\_Bacteria.p\\_\\_Proteobacteria.c\\_\\_Alphaproteobacteria.o\\_\\_Sphingomonadales.f\\_\\_Sphingomonadaceae.g\\_\\_Kaistobacter.s\\_\\_.23 & 0.53 & 0.53 & 0.78 & 0.36\\\\\n",
       "\tk\\_\\_Bacteria.p\\_\\_Proteobacteria.c\\_\\_Alphaproteobacteria.o\\_\\_Rhizobiales.f\\_\\_Hyphomicrobiaceae.g\\_\\_Rhodoplanes.s\\_\\_.83 & 0.52 & 0.61 & 0.82 & 0.20\\\\\n",
       "\\end{tabular}\n"
      ],
      "text/markdown": [
       "\n",
       "| <!--/--> | prob_compLasso | prob_lasso | prob_elnet | prob_rf |\n",
       "|---|---|---|---|---|\n",
       "| k__Bacteria.p__Actinobacteria.c__Rubrobacteria.o__Rubrobacterales.f__Rubrobacteraceae.g__Rubrobacter.s__.20 | 0.98 | 0.98 | 1.00 | 0.75 |\n",
       "| k__Bacteria.p__Acidobacteria.c__Solibacteres.o__Solibacterales.f__Solibacteraceae.g__Candidatus.Solibacter.s__.8 | 0.92 | 0.89 | 0.94 | 0.59 |\n",
       "| k__Bacteria.p__Proteobacteria.c__Alphaproteobacteria.o__Rhizobiales.f__Bradyrhizobiaceae.g__Balneimonas.s__.11 | 0.90 | 0.86 | 0.91 | 0.56 |\n",
       "| k__Bacteria.p__Proteobacteria.c__Alphaproteobacteria.o__Rhizobiales.f__Hyphomicrobiaceae.g__Rhodoplanes.s__.87 | 0.85 | 0.88 | 0.91 | 0.65 |\n",
       "| k__Bacteria.p__Proteobacteria.c__Alphaproteobacteria.o__Rhizobiales.f__Hyphomicrobiaceae.g__Rhodoplanes.s__.131 | 0.85 | 0.86 | 0.82 | 0.55 |\n",
       "| k__Bacteria.p__Proteobacteria.c__Alphaproteobacteria.o__Rhizobiales.f__Bradyrhizobiaceae.g__Balneimonas.s__.5 | 0.66 | 0.46 | 0.60 | 0.58 |\n",
       "| k__Bacteria.p__Proteobacteria.c__Alphaproteobacteria.o__Rhizobiales.f__Hyphomicrobiaceae.g__Rhodoplanes.s__.65 | 0.64 | 0.70 | 0.91 | 0.39 |\n",
       "| k__Bacteria.p__Acidobacteria.c__Solibacteres.o__Solibacterales.f__Solibacteraceae.g__Candidatus.Solibacter.s__.23 | 0.57 | 0.80 | 0.86 | 0.31 |\n",
       "| k__Bacteria.p__Proteobacteria.c__Alphaproteobacteria.o__Sphingomonadales.f__Sphingomonadaceae.g__Kaistobacter.s__.23 | 0.53 | 0.53 | 0.78 | 0.36 |\n",
       "| k__Bacteria.p__Proteobacteria.c__Alphaproteobacteria.o__Rhizobiales.f__Hyphomicrobiaceae.g__Rhodoplanes.s__.83 | 0.52 | 0.61 | 0.82 | 0.20 |\n",
       "\n"
      ],
      "text/plain": [
       "                                                                                                                     prob_compLasso\n",
       "k__Bacteria.p__Actinobacteria.c__Rubrobacteria.o__Rubrobacterales.f__Rubrobacteraceae.g__Rubrobacter.s__.20          0.98          \n",
       "k__Bacteria.p__Acidobacteria.c__Solibacteres.o__Solibacterales.f__Solibacteraceae.g__Candidatus.Solibacter.s__.8     0.92          \n",
       "k__Bacteria.p__Proteobacteria.c__Alphaproteobacteria.o__Rhizobiales.f__Bradyrhizobiaceae.g__Balneimonas.s__.11       0.90          \n",
       "k__Bacteria.p__Proteobacteria.c__Alphaproteobacteria.o__Rhizobiales.f__Hyphomicrobiaceae.g__Rhodoplanes.s__.87       0.85          \n",
       "k__Bacteria.p__Proteobacteria.c__Alphaproteobacteria.o__Rhizobiales.f__Hyphomicrobiaceae.g__Rhodoplanes.s__.131      0.85          \n",
       "k__Bacteria.p__Proteobacteria.c__Alphaproteobacteria.o__Rhizobiales.f__Bradyrhizobiaceae.g__Balneimonas.s__.5        0.66          \n",
       "k__Bacteria.p__Proteobacteria.c__Alphaproteobacteria.o__Rhizobiales.f__Hyphomicrobiaceae.g__Rhodoplanes.s__.65       0.64          \n",
       "k__Bacteria.p__Acidobacteria.c__Solibacteres.o__Solibacterales.f__Solibacteraceae.g__Candidatus.Solibacter.s__.23    0.57          \n",
       "k__Bacteria.p__Proteobacteria.c__Alphaproteobacteria.o__Sphingomonadales.f__Sphingomonadaceae.g__Kaistobacter.s__.23 0.53          \n",
       "k__Bacteria.p__Proteobacteria.c__Alphaproteobacteria.o__Rhizobiales.f__Hyphomicrobiaceae.g__Rhodoplanes.s__.83       0.52          \n",
       "                                                                                                                     prob_lasso\n",
       "k__Bacteria.p__Actinobacteria.c__Rubrobacteria.o__Rubrobacterales.f__Rubrobacteraceae.g__Rubrobacter.s__.20          0.98      \n",
       "k__Bacteria.p__Acidobacteria.c__Solibacteres.o__Solibacterales.f__Solibacteraceae.g__Candidatus.Solibacter.s__.8     0.89      \n",
       "k__Bacteria.p__Proteobacteria.c__Alphaproteobacteria.o__Rhizobiales.f__Bradyrhizobiaceae.g__Balneimonas.s__.11       0.86      \n",
       "k__Bacteria.p__Proteobacteria.c__Alphaproteobacteria.o__Rhizobiales.f__Hyphomicrobiaceae.g__Rhodoplanes.s__.87       0.88      \n",
       "k__Bacteria.p__Proteobacteria.c__Alphaproteobacteria.o__Rhizobiales.f__Hyphomicrobiaceae.g__Rhodoplanes.s__.131      0.86      \n",
       "k__Bacteria.p__Proteobacteria.c__Alphaproteobacteria.o__Rhizobiales.f__Bradyrhizobiaceae.g__Balneimonas.s__.5        0.46      \n",
       "k__Bacteria.p__Proteobacteria.c__Alphaproteobacteria.o__Rhizobiales.f__Hyphomicrobiaceae.g__Rhodoplanes.s__.65       0.70      \n",
       "k__Bacteria.p__Acidobacteria.c__Solibacteres.o__Solibacterales.f__Solibacteraceae.g__Candidatus.Solibacter.s__.23    0.80      \n",
       "k__Bacteria.p__Proteobacteria.c__Alphaproteobacteria.o__Sphingomonadales.f__Sphingomonadaceae.g__Kaistobacter.s__.23 0.53      \n",
       "k__Bacteria.p__Proteobacteria.c__Alphaproteobacteria.o__Rhizobiales.f__Hyphomicrobiaceae.g__Rhodoplanes.s__.83       0.61      \n",
       "                                                                                                                     prob_elnet\n",
       "k__Bacteria.p__Actinobacteria.c__Rubrobacteria.o__Rubrobacterales.f__Rubrobacteraceae.g__Rubrobacter.s__.20          1.00      \n",
       "k__Bacteria.p__Acidobacteria.c__Solibacteres.o__Solibacterales.f__Solibacteraceae.g__Candidatus.Solibacter.s__.8     0.94      \n",
       "k__Bacteria.p__Proteobacteria.c__Alphaproteobacteria.o__Rhizobiales.f__Bradyrhizobiaceae.g__Balneimonas.s__.11       0.91      \n",
       "k__Bacteria.p__Proteobacteria.c__Alphaproteobacteria.o__Rhizobiales.f__Hyphomicrobiaceae.g__Rhodoplanes.s__.87       0.91      \n",
       "k__Bacteria.p__Proteobacteria.c__Alphaproteobacteria.o__Rhizobiales.f__Hyphomicrobiaceae.g__Rhodoplanes.s__.131      0.82      \n",
       "k__Bacteria.p__Proteobacteria.c__Alphaproteobacteria.o__Rhizobiales.f__Bradyrhizobiaceae.g__Balneimonas.s__.5        0.60      \n",
       "k__Bacteria.p__Proteobacteria.c__Alphaproteobacteria.o__Rhizobiales.f__Hyphomicrobiaceae.g__Rhodoplanes.s__.65       0.91      \n",
       "k__Bacteria.p__Acidobacteria.c__Solibacteres.o__Solibacterales.f__Solibacteraceae.g__Candidatus.Solibacter.s__.23    0.86      \n",
       "k__Bacteria.p__Proteobacteria.c__Alphaproteobacteria.o__Sphingomonadales.f__Sphingomonadaceae.g__Kaistobacter.s__.23 0.78      \n",
       "k__Bacteria.p__Proteobacteria.c__Alphaproteobacteria.o__Rhizobiales.f__Hyphomicrobiaceae.g__Rhodoplanes.s__.83       0.82      \n",
       "                                                                                                                     prob_rf\n",
       "k__Bacteria.p__Actinobacteria.c__Rubrobacteria.o__Rubrobacterales.f__Rubrobacteraceae.g__Rubrobacter.s__.20          0.75   \n",
       "k__Bacteria.p__Acidobacteria.c__Solibacteres.o__Solibacterales.f__Solibacteraceae.g__Candidatus.Solibacter.s__.8     0.59   \n",
       "k__Bacteria.p__Proteobacteria.c__Alphaproteobacteria.o__Rhizobiales.f__Bradyrhizobiaceae.g__Balneimonas.s__.11       0.56   \n",
       "k__Bacteria.p__Proteobacteria.c__Alphaproteobacteria.o__Rhizobiales.f__Hyphomicrobiaceae.g__Rhodoplanes.s__.87       0.65   \n",
       "k__Bacteria.p__Proteobacteria.c__Alphaproteobacteria.o__Rhizobiales.f__Hyphomicrobiaceae.g__Rhodoplanes.s__.131      0.55   \n",
       "k__Bacteria.p__Proteobacteria.c__Alphaproteobacteria.o__Rhizobiales.f__Bradyrhizobiaceae.g__Balneimonas.s__.5        0.58   \n",
       "k__Bacteria.p__Proteobacteria.c__Alphaproteobacteria.o__Rhizobiales.f__Hyphomicrobiaceae.g__Rhodoplanes.s__.65       0.39   \n",
       "k__Bacteria.p__Acidobacteria.c__Solibacteres.o__Solibacterales.f__Solibacteraceae.g__Candidatus.Solibacter.s__.23    0.31   \n",
       "k__Bacteria.p__Proteobacteria.c__Alphaproteobacteria.o__Sphingomonadales.f__Sphingomonadaceae.g__Kaistobacter.s__.23 0.36   \n",
       "k__Bacteria.p__Proteobacteria.c__Alphaproteobacteria.o__Rhizobiales.f__Hyphomicrobiaceae.g__Rhodoplanes.s__.83       0.20   "
      ]
     },
     "metadata": {},
     "output_type": "display_data"
    }
   ],
   "source": [
    "rownames(feature_prob) = colnames(taxa)\n",
    "head(feature_prob[order(-feature_prob[, 1]), ], 10) # descending order"
   ]
  },
  {
   "cell_type": "code",
   "execution_count": 21,
   "metadata": {},
   "outputs": [],
   "source": [
    "write.table(feature_prob, file='../data_application/88soils/soils_slection_prob.txt', sep='\\t', col.names=NA)"
   ]
  },
  {
   "cell_type": "code",
   "execution_count": null,
   "metadata": {},
   "outputs": [],
   "source": [
    "# from Jamie's paper: Acidobacteria, Actinobacteria, Bacteroidetes, alpha-, beta-, and gammaproteobacteria \n",
    "# are all associated with ph\n",
    "## summary: what been selected by compLasso & lasso almost all belong to above ranges"
   ]
  }
 ],
 "metadata": {
  "kernelspec": {
   "display_name": "R",
   "language": "R",
   "name": "ir"
  },
  "language_info": {
   "codemirror_mode": "r",
   "file_extension": ".r",
   "mimetype": "text/x-r-source",
   "name": "R",
   "pygments_lexer": "r",
   "version": "3.6.1"
  }
 },
 "nbformat": 4,
 "nbformat_minor": 2
}
