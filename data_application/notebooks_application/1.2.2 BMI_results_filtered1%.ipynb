{
 "cells": [
  {
   "cell_type": "code",
   "execution_count": 1,
   "metadata": {},
   "outputs": [],
   "source": [
    "load('../data_application/BMI/filter_onepercent/BMI_compLasso.RData')\n",
    "load('../data_application/BMI/filter_onepercent/BMI_elnet.RData')\n",
    "load('../data_application/BMI/filter_onepercent/BMI_lasso.RData')\n",
    "load('../data_application/BMI/filter_onepercent/BMI_rf.RData')"
   ]
  },
  {
   "cell_type": "code",
   "execution_count": 2,
   "metadata": {},
   "outputs": [
    {
     "data": {
      "text/html": [
       "<ol class=list-inline>\n",
       "\t<li>0.22</li>\n",
       "\t<li>21.59</li>\n",
       "</ol>\n"
      ],
      "text/latex": [
       "\\begin{enumerate*}\n",
       "\\item 0.22\n",
       "\\item 21.59\n",
       "\\end{enumerate*}\n"
      ],
      "text/markdown": [
       "1. 0.22\n",
       "2. 21.59\n",
       "\n",
       "\n"
      ],
      "text/plain": [
       "[1]  0.22 21.59"
      ]
     },
     "metadata": {},
     "output_type": "display_data"
    }
   ],
   "source": [
    "c(out_compLasso$stab_index, out_compLasso$MSE_mean)"
   ]
  },
  {
   "cell_type": "code",
   "execution_count": 3,
   "metadata": {},
   "outputs": [
    {
     "data": {
      "text/html": [
       "<ol class=list-inline>\n",
       "\t<li>0.14</li>\n",
       "\t<li>24.07</li>\n",
       "</ol>\n"
      ],
      "text/latex": [
       "\\begin{enumerate*}\n",
       "\\item 0.14\n",
       "\\item 24.07\n",
       "\\end{enumerate*}\n"
      ],
      "text/markdown": [
       "1. 0.14\n",
       "2. 24.07\n",
       "\n",
       "\n"
      ],
      "text/plain": [
       "[1]  0.14 24.07"
      ]
     },
     "metadata": {},
     "output_type": "display_data"
    }
   ],
   "source": [
    "c(out_lasso$stab_index, out_lasso$MSE_mean) "
   ]
  },
  {
   "cell_type": "code",
   "execution_count": 4,
   "metadata": {},
   "outputs": [
    {
     "data": {
      "text/html": [
       "<ol class=list-inline>\n",
       "\t<li>0.23</li>\n",
       "\t<li>25.33</li>\n",
       "</ol>\n"
      ],
      "text/latex": [
       "\\begin{enumerate*}\n",
       "\\item 0.23\n",
       "\\item 25.33\n",
       "\\end{enumerate*}\n"
      ],
      "text/markdown": [
       "1. 0.23\n",
       "2. 25.33\n",
       "\n",
       "\n"
      ],
      "text/plain": [
       "[1]  0.23 25.33"
      ]
     },
     "metadata": {},
     "output_type": "display_data"
    }
   ],
   "source": [
    "c(out_elnet$stab_index, out_elnet$MSE_mean)"
   ]
  },
  {
   "cell_type": "code",
   "execution_count": 5,
   "metadata": {},
   "outputs": [
    {
     "data": {
      "text/html": [
       "<ol class=list-inline>\n",
       "\t<li>0.02</li>\n",
       "\t<li>4.99</li>\n",
       "</ol>\n"
      ],
      "text/latex": [
       "\\begin{enumerate*}\n",
       "\\item 0.02\n",
       "\\item 4.99\n",
       "\\end{enumerate*}\n"
      ],
      "text/markdown": [
       "1. 0.02\n",
       "2. 4.99\n",
       "\n",
       "\n"
      ],
      "text/plain": [
       "[1] 0.02 4.99"
      ]
     },
     "metadata": {},
     "output_type": "display_data"
    }
   ],
   "source": [
    "c(out_rf$stab_index, out_rf$MSE_mean)"
   ]
  },
  {
   "cell_type": "code",
   "execution_count": 7,
   "metadata": {},
   "outputs": [
    {
     "data": {
      "text/html": [
       "<table>\n",
       "<thead><tr><th scope=col>dataset</th><th scope=col>method</th><th scope=col>mse</th><th scope=col>stability</th></tr></thead>\n",
       "<tbody>\n",
       "\t<tr><td>bmi_gut  </td><td>lasso    </td><td>24.07    </td><td>0.14     </td></tr>\n",
       "\t<tr><td>bmi_gut  </td><td>elent    </td><td>25.33    </td><td>0.23     </td></tr>\n",
       "\t<tr><td>bmi_gut  </td><td>rf       </td><td> 4.99    </td><td>0.02     </td></tr>\n",
       "\t<tr><td>bmi_gut  </td><td>compLasso</td><td>21.59    </td><td>0.22     </td></tr>\n",
       "</tbody>\n",
       "</table>\n"
      ],
      "text/latex": [
       "\\begin{tabular}{r|llll}\n",
       " dataset & method & mse & stability\\\\\n",
       "\\hline\n",
       "\t bmi\\_gut & lasso     & 24.07     & 0.14     \\\\\n",
       "\t bmi\\_gut & elent     & 25.33     & 0.23     \\\\\n",
       "\t bmi\\_gut & rf        &  4.99     & 0.02     \\\\\n",
       "\t bmi\\_gut & compLasso & 21.59     & 0.22     \\\\\n",
       "\\end{tabular}\n"
      ],
      "text/markdown": [
       "\n",
       "| dataset | method | mse | stability |\n",
       "|---|---|---|---|\n",
       "| bmi_gut   | lasso     | 24.07     | 0.14      |\n",
       "| bmi_gut   | elent     | 25.33     | 0.23      |\n",
       "| bmi_gut   | rf        |  4.99     | 0.02      |\n",
       "| bmi_gut   | compLasso | 21.59     | 0.22      |\n",
       "\n"
      ],
      "text/plain": [
       "  dataset method    mse   stability\n",
       "1 bmi_gut lasso     24.07 0.14     \n",
       "2 bmi_gut elent     25.33 0.23     \n",
       "3 bmi_gut rf         4.99 0.02     \n",
       "4 bmi_gut compLasso 21.59 0.22     "
      ]
     },
     "metadata": {},
     "output_type": "display_data"
    }
   ],
   "source": [
    "# combine and export results\n",
    "bmi_gut = as.data.frame(matrix(NA, nrow=4, ncol=4))\n",
    "colnames(bmi_gut) = c('dataset', 'method', 'mse', 'stability')\n",
    "bmi_gut$dataset = 'bmi_gut'\n",
    "bmi_gut$method = c('lasso', 'elent', 'rf', 'compLasso')\n",
    "bmi_gut$mse = c(out_lasso$MSE_mean, out_elnet$MSE_mean, out_rf$MSE_mean, out_compLasso$MSE_mean)\n",
    "bmi_gut$stability = c(out_lasso$stab_index, out_elnet$stab_index, out_rf$stab_index, out_compLasso$stab_index)\n",
    "bmi_gut\n",
    "#write.table(bmi_gut, file='../data_application/BMI/filter_onepercent/table_bmi_gut.txt', sep='\\t', row.names=F)"
   ]
  },
  {
   "cell_type": "markdown",
   "metadata": {},
   "source": [
    "### add selection probability for each feature selection methods"
   ]
  },
  {
   "cell_type": "code",
   "execution_count": 6,
   "metadata": {},
   "outputs": [],
   "source": [
    "load('../data_application/BMI/filter_onepercent/BMI_Lin_2014.RData')"
   ]
  },
  {
   "cell_type": "code",
   "execution_count": 7,
   "metadata": {},
   "outputs": [
    {
     "data": {
      "text/html": [
       "<ol class=list-inline>\n",
       "\t<li>98</li>\n",
       "\t<li>87</li>\n",
       "</ol>\n"
      ],
      "text/latex": [
       "\\begin{enumerate*}\n",
       "\\item 98\n",
       "\\item 87\n",
       "\\end{enumerate*}\n"
      ],
      "text/markdown": [
       "1. 98\n",
       "2. 87\n",
       "\n",
       "\n"
      ],
      "text/plain": [
       "[1] 98 87"
      ]
     },
     "metadata": {},
     "output_type": "display_data"
    }
   ],
   "source": [
    "dim(taxa)"
   ]
  },
  {
   "cell_type": "code",
   "execution_count": 8,
   "metadata": {},
   "outputs": [],
   "source": [
    "prob_compLasso = colSums(out_compLasso$stab_table)/dim(out_compLasso$stab_table)[1]\n",
    "prob_lasso = colSums(out_lasso$stab_table)/dim(out_lasso$stab_table)[1]\n",
    "prob_elnet = colSums(out_elnet$stab_table)/dim(out_elnet$stab_table)[1]\n",
    "prob_rf= colSums(out_rf$stab_table)/dim(out_rf$stab_table)[1]\n",
    "feature_prob = t(data.frame(rbind(prob_compLasso, prob_lasso, prob_elnet, prob_rf)))"
   ]
  },
  {
   "cell_type": "code",
   "execution_count": 9,
   "metadata": {},
   "outputs": [
    {
     "data": {
      "text/html": [
       "<table>\n",
       "<thead><tr><th></th><th scope=col>prob_compLasso</th><th scope=col>prob_lasso</th><th scope=col>prob_elnet</th><th scope=col>prob_rf</th></tr></thead>\n",
       "<tbody>\n",
       "\t<tr><th scope=row>Bacteria.Firmicutes.Clostridia.Clostridiales.Clostridiaceae.Clostridium</th><td>0.81</td><td>0.43</td><td>0.97</td><td>0.18</td></tr>\n",
       "\t<tr><th scope=row>Bacteria.Firmicutes.Clostridia.Clostridiales.Veillonellaceae.Acidaminococcus</th><td>0.81</td><td>0.55</td><td>0.94</td><td>0.35</td></tr>\n",
       "\t<tr><th scope=row>Bacteria.Firmicutes.Clostridia.Clostridiales.Veillonellaceae.Allisonella</th><td>0.67</td><td>0.45</td><td>0.85</td><td>0.25</td></tr>\n",
       "\t<tr><th scope=row>Bacteria.Firmicutes.Clostridia.Clostridiales.Ruminococcaceae.Oscillibacter</th><td>0.49</td><td>0.20</td><td>0.80</td><td>0.13</td></tr>\n",
       "\t<tr><th scope=row>Bacteria.Bacteroidetes.Bacteroidia.Bacteroidales.Rikenellaceae.Alistipes</th><td>0.48</td><td>0.19</td><td>0.90</td><td>0.14</td></tr>\n",
       "\t<tr><th scope=row>Bacteria.Firmicutes.Clostridia.Clostridiales.Lachnospiraceae.Dorea</th><td>0.44</td><td>0.25</td><td>0.74</td><td>0.11</td></tr>\n",
       "</tbody>\n",
       "</table>\n"
      ],
      "text/latex": [
       "\\begin{tabular}{r|llll}\n",
       "  & prob\\_compLasso & prob\\_lasso & prob\\_elnet & prob\\_rf\\\\\n",
       "\\hline\n",
       "\tBacteria.Firmicutes.Clostridia.Clostridiales.Clostridiaceae.Clostridium & 0.81 & 0.43 & 0.97 & 0.18\\\\\n",
       "\tBacteria.Firmicutes.Clostridia.Clostridiales.Veillonellaceae.Acidaminococcus & 0.81 & 0.55 & 0.94 & 0.35\\\\\n",
       "\tBacteria.Firmicutes.Clostridia.Clostridiales.Veillonellaceae.Allisonella & 0.67 & 0.45 & 0.85 & 0.25\\\\\n",
       "\tBacteria.Firmicutes.Clostridia.Clostridiales.Ruminococcaceae.Oscillibacter & 0.49 & 0.20 & 0.80 & 0.13\\\\\n",
       "\tBacteria.Bacteroidetes.Bacteroidia.Bacteroidales.Rikenellaceae.Alistipes & 0.48 & 0.19 & 0.90 & 0.14\\\\\n",
       "\tBacteria.Firmicutes.Clostridia.Clostridiales.Lachnospiraceae.Dorea & 0.44 & 0.25 & 0.74 & 0.11\\\\\n",
       "\\end{tabular}\n"
      ],
      "text/markdown": [
       "\n",
       "| <!--/--> | prob_compLasso | prob_lasso | prob_elnet | prob_rf |\n",
       "|---|---|---|---|---|\n",
       "| Bacteria.Firmicutes.Clostridia.Clostridiales.Clostridiaceae.Clostridium | 0.81 | 0.43 | 0.97 | 0.18 |\n",
       "| Bacteria.Firmicutes.Clostridia.Clostridiales.Veillonellaceae.Acidaminococcus | 0.81 | 0.55 | 0.94 | 0.35 |\n",
       "| Bacteria.Firmicutes.Clostridia.Clostridiales.Veillonellaceae.Allisonella | 0.67 | 0.45 | 0.85 | 0.25 |\n",
       "| Bacteria.Firmicutes.Clostridia.Clostridiales.Ruminococcaceae.Oscillibacter | 0.49 | 0.20 | 0.80 | 0.13 |\n",
       "| Bacteria.Bacteroidetes.Bacteroidia.Bacteroidales.Rikenellaceae.Alistipes | 0.48 | 0.19 | 0.90 | 0.14 |\n",
       "| Bacteria.Firmicutes.Clostridia.Clostridiales.Lachnospiraceae.Dorea | 0.44 | 0.25 | 0.74 | 0.11 |\n",
       "\n"
      ],
      "text/plain": [
       "                                                                             prob_compLasso\n",
       "Bacteria.Firmicutes.Clostridia.Clostridiales.Clostridiaceae.Clostridium      0.81          \n",
       "Bacteria.Firmicutes.Clostridia.Clostridiales.Veillonellaceae.Acidaminococcus 0.81          \n",
       "Bacteria.Firmicutes.Clostridia.Clostridiales.Veillonellaceae.Allisonella     0.67          \n",
       "Bacteria.Firmicutes.Clostridia.Clostridiales.Ruminococcaceae.Oscillibacter   0.49          \n",
       "Bacteria.Bacteroidetes.Bacteroidia.Bacteroidales.Rikenellaceae.Alistipes     0.48          \n",
       "Bacteria.Firmicutes.Clostridia.Clostridiales.Lachnospiraceae.Dorea           0.44          \n",
       "                                                                             prob_lasso\n",
       "Bacteria.Firmicutes.Clostridia.Clostridiales.Clostridiaceae.Clostridium      0.43      \n",
       "Bacteria.Firmicutes.Clostridia.Clostridiales.Veillonellaceae.Acidaminococcus 0.55      \n",
       "Bacteria.Firmicutes.Clostridia.Clostridiales.Veillonellaceae.Allisonella     0.45      \n",
       "Bacteria.Firmicutes.Clostridia.Clostridiales.Ruminococcaceae.Oscillibacter   0.20      \n",
       "Bacteria.Bacteroidetes.Bacteroidia.Bacteroidales.Rikenellaceae.Alistipes     0.19      \n",
       "Bacteria.Firmicutes.Clostridia.Clostridiales.Lachnospiraceae.Dorea           0.25      \n",
       "                                                                             prob_elnet\n",
       "Bacteria.Firmicutes.Clostridia.Clostridiales.Clostridiaceae.Clostridium      0.97      \n",
       "Bacteria.Firmicutes.Clostridia.Clostridiales.Veillonellaceae.Acidaminococcus 0.94      \n",
       "Bacteria.Firmicutes.Clostridia.Clostridiales.Veillonellaceae.Allisonella     0.85      \n",
       "Bacteria.Firmicutes.Clostridia.Clostridiales.Ruminococcaceae.Oscillibacter   0.80      \n",
       "Bacteria.Bacteroidetes.Bacteroidia.Bacteroidales.Rikenellaceae.Alistipes     0.90      \n",
       "Bacteria.Firmicutes.Clostridia.Clostridiales.Lachnospiraceae.Dorea           0.74      \n",
       "                                                                             prob_rf\n",
       "Bacteria.Firmicutes.Clostridia.Clostridiales.Clostridiaceae.Clostridium      0.18   \n",
       "Bacteria.Firmicutes.Clostridia.Clostridiales.Veillonellaceae.Acidaminococcus 0.35   \n",
       "Bacteria.Firmicutes.Clostridia.Clostridiales.Veillonellaceae.Allisonella     0.25   \n",
       "Bacteria.Firmicutes.Clostridia.Clostridiales.Ruminococcaceae.Oscillibacter   0.13   \n",
       "Bacteria.Bacteroidetes.Bacteroidia.Bacteroidales.Rikenellaceae.Alistipes     0.14   \n",
       "Bacteria.Firmicutes.Clostridia.Clostridiales.Lachnospiraceae.Dorea           0.11   "
      ]
     },
     "metadata": {},
     "output_type": "display_data"
    }
   ],
   "source": [
    "rownames(feature_prob) = colnames(taxa)\n",
    "head(feature_prob[order(-feature_prob[, 1]), ]) # descending order"
   ]
  },
  {
   "cell_type": "code",
   "execution_count": 10,
   "metadata": {},
   "outputs": [],
   "source": [
    "write.table(feature_prob, file='../data_application/bmi/filter_onepercent/bmi_slection_prob.txt', sep='\\t', col.names=NA)"
   ]
  },
  {
   "cell_type": "code",
   "execution_count": null,
   "metadata": {},
   "outputs": [],
   "source": [
    "# two highest from compLasso (both 0.81): Clostridium & Acidaminococcus (confirmed by Lin + Muller's paper)\n",
    "# these two are also highest with Elnet (0.97, 0.94); \n",
    "# note that 3rd highest in Elnet (Megamonas:0.92) were not found with previous studies"
   ]
  },
  {
   "cell_type": "code",
   "execution_count": null,
   "metadata": {},
   "outputs": [],
   "source": [
    "# order of genus in Lin's paper (highest to lowest on Stab.sel)\n",
    "# Clostridium > Acidaminococcus > Alistipes > Allisonella"
   ]
  },
  {
   "cell_type": "code",
   "execution_count": null,
   "metadata": {},
   "outputs": [],
   "source": [
    "# two most important from Muller's paper\n",
    "# stongest negative: cloristidum\n",
    "# strongest postitive: Acidaminococcus"
   ]
  },
  {
   "cell_type": "code",
   "execution_count": null,
   "metadata": {},
   "outputs": [],
   "source": []
  }
 ],
 "metadata": {
  "kernelspec": {
   "display_name": "R",
   "language": "R",
   "name": "ir"
  },
  "language_info": {
   "codemirror_mode": "r",
   "file_extension": ".r",
   "mimetype": "text/x-r-source",
   "name": "R",
   "pygments_lexer": "r",
   "version": "3.6.1"
  }
 },
 "nbformat": 4,
 "nbformat_minor": 2
}
